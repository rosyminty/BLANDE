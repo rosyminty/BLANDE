{
 "cells": [
  {
   "cell_type": "code",
   "execution_count": 1,
   "metadata": {},
   "outputs": [],
   "source": [
    "import requests\n",
    "from bs4 import BeautifulSoup\n",
    "import urllib.parse"
   ]
  },
  {
   "cell_type": "code",
   "execution_count": 2,
   "metadata": {},
   "outputs": [],
   "source": [
    "import pandas as pd\n",
    "import numpy as np"
   ]
  },
  {
   "cell_type": "code",
   "execution_count": 3,
   "metadata": {},
   "outputs": [],
   "source": [
    "from selenium import webdriver\n",
    "import time"
   ]
  },
  {
   "cell_type": "code",
   "execution_count": 4,
   "metadata": {},
   "outputs": [],
   "source": [
    "path = './driver/chromedriver.exe'"
   ]
  },
  {
   "cell_type": "code",
   "execution_count": 5,
   "metadata": {},
   "outputs": [],
   "source": [
    "baseUrl = 'http://www.vogue.co.kr/page/'\n",
    "subUrl = '/?s='\n",
    "plusUrl = '디올'\n",
    "# url = baseUrl + urllib.parse.quote_plus(plusUrl)\n",
    "# url"
   ]
  },
  {
   "cell_type": "code",
   "execution_count": 61,
   "metadata": {},
   "outputs": [],
   "source": [
    "# for i in range(2) :\n",
    "#     print(str(i))"
   ]
  },
  {
   "cell_type": "code",
   "execution_count": 6,
   "metadata": {},
   "outputs": [
    {
     "data": {
      "text/plain": [
       "str"
      ]
     },
     "execution_count": 6,
     "metadata": {},
     "output_type": "execute_result"
    }
   ],
   "source": [
    "vUrl = baseUrl+str(1)+subUrl+urllib.parse.quote_plus(plusUrl)\n",
    "type(vUrl)"
   ]
  },
  {
   "cell_type": "code",
   "execution_count": 7,
   "metadata": {},
   "outputs": [],
   "source": [
    "driver = webdriver.Chrome(path)     # 크롬 브라우저 제어할 수 있는 객체, 웹브라우저 실행\n",
    "driver\n",
    "driver.get(vUrl)"
   ]
  },
  {
   "cell_type": "code",
   "execution_count": null,
   "metadata": {},
   "outputs": [],
   "source": []
  },
  {
   "cell_type": "code",
   "execution_count": 8,
   "metadata": {
    "scrolled": false
   },
   "outputs": [
    {
     "ename": "NameError",
     "evalue": "name 'titles' is not defined",
     "output_type": "error",
     "traceback": [
      "\u001b[1;31m---------------------------------------------------------------------------\u001b[0m",
      "\u001b[1;31mNameError\u001b[0m                                 Traceback (most recent call last)",
      "\u001b[1;32m<ipython-input-8-b7dbc08cab2c>\u001b[0m in \u001b[0;36m<module>\u001b[1;34m\u001b[0m\n\u001b[1;32m----> 1\u001b[1;33m \u001b[0mtitles\u001b[0m\u001b[1;33m\u001b[0m\u001b[1;33m\u001b[0m\u001b[0m\n\u001b[0m",
      "\u001b[1;31mNameError\u001b[0m: name 'titles' is not defined"
     ]
    }
   ],
   "source": [
    "titles"
   ]
  },
  {
   "cell_type": "code",
   "execution_count": 17,
   "metadata": {
    "scrolled": true
   },
   "outputs": [],
   "source": [
    "title_list = []\n",
    "link_list = []\n",
    "for i in range(1) :\n",
    "    url = baseUrl+str(i+1)+subUrl+urllib.parse.quote_plus(plusUrl)\n",
    "#     print(url)\n",
    "    webpage = requests.get(url)\n",
    "# webpage.text\n",
    "    soup = BeautifulSoup(webpage.content, 'html.parser')\n",
    "# soup\n",
    "    titles = soup.find_all('h2', {'class' : 'entry-title fusion-post-title'})\n",
    "    \n",
    "    for i in titles : \n",
    "#         print(i.string)\n",
    "#         print(i.a.attrs['href'])\n",
    "#         print()\n",
    "        title_list.append(i.string)\n",
    "        link_list.append(i.a.attrs['href'])"
   ]
  },
  {
   "cell_type": "code",
   "execution_count": 18,
   "metadata": {},
   "outputs": [],
   "source": [
    "Vogue_Dior_df = pd.DataFrame({\n",
    "    'title' : title_list ,\n",
    "    'link'  : link_list\n",
    "})"
   ]
  },
  {
   "cell_type": "code",
   "execution_count": 19,
   "metadata": {},
   "outputs": [
    {
     "data": {
      "text/html": [
       "<div>\n",
       "<style scoped>\n",
       "    .dataframe tbody tr th:only-of-type {\n",
       "        vertical-align: middle;\n",
       "    }\n",
       "\n",
       "    .dataframe tbody tr th {\n",
       "        vertical-align: top;\n",
       "    }\n",
       "\n",
       "    .dataframe thead th {\n",
       "        text-align: right;\n",
       "    }\n",
       "</style>\n",
       "<table border=\"1\" class=\"dataframe\">\n",
       "  <thead>\n",
       "    <tr style=\"text-align: right;\">\n",
       "      <th></th>\n",
       "      <th>title</th>\n",
       "      <th>link</th>\n",
       "    </tr>\n",
       "  </thead>\n",
       "  <tbody>\n",
       "    <tr>\n",
       "      <th>0</th>\n",
       "      <td>디올 FALL-WINTER 2020-2021오뜨꾸뛰르 컬렉션 라이브 스트리밍</td>\n",
       "      <td>http://www.vogue.co.kr/2020/07/06/%eb%94%94%ec...</td>\n",
       "    </tr>\n",
       "    <tr>\n",
       "      <th>1</th>\n",
       "      <td>디올 뷰티x지수</td>\n",
       "      <td>http://www.vogue.co.kr/2020/02/28/%eb%94%94%ec...</td>\n",
       "    </tr>\n",
       "    <tr>\n",
       "      <th>2</th>\n",
       "      <td>디올 ‘바 재킷’의 과거, 현재 그리고 미래</td>\n",
       "      <td>http://www.vogue.co.kr/2020/02/14/%eb%94%94%ec...</td>\n",
       "    </tr>\n",
       "    <tr>\n",
       "      <th>3</th>\n",
       "      <td>예술을 입은 레이디 디올</td>\n",
       "      <td>http://www.vogue.co.kr/2020/01/17/%ec%98%88%ec...</td>\n",
       "    </tr>\n",
       "    <tr>\n",
       "      <th>4</th>\n",
       "      <td>디올과 린드버그</td>\n",
       "      <td>http://www.vogue.co.kr/2019/11/07/%eb%94%94%ec...</td>\n",
       "    </tr>\n",
       "    <tr>\n",
       "      <th>5</th>\n",
       "      <td>디올 2020 S/S 레디 투 웨어 패션쇼</td>\n",
       "      <td>http://www.vogue.co.kr/2019/09/23/%eb%94%94%ec...</td>\n",
       "    </tr>\n",
       "    <tr>\n",
       "      <th>6</th>\n",
       "      <td>포에버 디올 &amp; 뮬란</td>\n",
       "      <td>http://www.vogue.co.kr/2019/08/09/%ed%8f%ac%ec...</td>\n",
       "    </tr>\n",
       "    <tr>\n",
       "      <th>7</th>\n",
       "      <td>디올 2020 크루즈 컬렉션 라이브 스트리밍</td>\n",
       "      <td>http://www.vogue.co.kr/2019/04/29/%eb%94%94%ec...</td>\n",
       "    </tr>\n",
       "    <tr>\n",
       "      <th>8</th>\n",
       "      <td>다이애나 왕세자비와 디올 백에 숨겨진 이야기를 아시나요?</td>\n",
       "      <td>http://www.vogue.co.kr/2019/04/18/%eb%8b%a4%ec...</td>\n",
       "    </tr>\n",
       "  </tbody>\n",
       "</table>\n",
       "</div>"
      ],
      "text/plain": [
       "                                        title  \\\n",
       "0  디올 FALL-WINTER 2020-2021오뜨꾸뛰르 컬렉션 라이브 스트리밍   \n",
       "1                                    디올 뷰티x지수   \n",
       "2                    디올 ‘바 재킷’의 과거, 현재 그리고 미래   \n",
       "3                               예술을 입은 레이디 디올   \n",
       "4                                    디올과 린드버그   \n",
       "5                     디올 2020 S/S 레디 투 웨어 패션쇼   \n",
       "6                                 포에버 디올 & 뮬란   \n",
       "7                    디올 2020 크루즈 컬렉션 라이브 스트리밍   \n",
       "8             다이애나 왕세자비와 디올 백에 숨겨진 이야기를 아시나요?   \n",
       "\n",
       "                                                link  \n",
       "0  http://www.vogue.co.kr/2020/07/06/%eb%94%94%ec...  \n",
       "1  http://www.vogue.co.kr/2020/02/28/%eb%94%94%ec...  \n",
       "2  http://www.vogue.co.kr/2020/02/14/%eb%94%94%ec...  \n",
       "3  http://www.vogue.co.kr/2020/01/17/%ec%98%88%ec...  \n",
       "4  http://www.vogue.co.kr/2019/11/07/%eb%94%94%ec...  \n",
       "5  http://www.vogue.co.kr/2019/09/23/%eb%94%94%ec...  \n",
       "6  http://www.vogue.co.kr/2019/08/09/%ed%8f%ac%ec...  \n",
       "7  http://www.vogue.co.kr/2019/04/29/%eb%94%94%ec...  \n",
       "8  http://www.vogue.co.kr/2019/04/18/%eb%8b%a4%ec...  "
      ]
     },
     "execution_count": 19,
     "metadata": {},
     "output_type": "execute_result"
    }
   ],
   "source": [
    "Vogue_Dior_df"
   ]
  },
  {
   "cell_type": "code",
   "execution_count": 15,
   "metadata": {},
   "outputs": [
    {
     "name": "stdout",
     "output_type": "stream",
     "text": [
      "success\n"
     ]
    }
   ],
   "source": [
    "Vogue_Dior_df.to_csv('./data/Vogue_Dior_df.csv' , mode='w' , encoding='utf-8' , index=False)\n",
    "print('success')"
   ]
  },
  {
   "cell_type": "code",
   "execution_count": 16,
   "metadata": {},
   "outputs": [
    {
     "data": {
      "text/html": [
       "<div>\n",
       "<style scoped>\n",
       "    .dataframe tbody tr th:only-of-type {\n",
       "        vertical-align: middle;\n",
       "    }\n",
       "\n",
       "    .dataframe tbody tr th {\n",
       "        vertical-align: top;\n",
       "    }\n",
       "\n",
       "    .dataframe thead th {\n",
       "        text-align: right;\n",
       "    }\n",
       "</style>\n",
       "<table border=\"1\" class=\"dataframe\">\n",
       "  <thead>\n",
       "    <tr style=\"text-align: right;\">\n",
       "      <th></th>\n",
       "      <th>title</th>\n",
       "      <th>link</th>\n",
       "    </tr>\n",
       "  </thead>\n",
       "  <tbody>\n",
       "    <tr>\n",
       "      <th>0</th>\n",
       "      <td>디올 FALL-WINTER 2020-2021오뜨꾸뛰르 컬렉션 라이브 스트리밍</td>\n",
       "      <td>http://www.vogue.co.kr/2020/07/06/%eb%94%94%ec...</td>\n",
       "    </tr>\n",
       "    <tr>\n",
       "      <th>1</th>\n",
       "      <td>디올 뷰티x지수</td>\n",
       "      <td>http://www.vogue.co.kr/2020/02/28/%eb%94%94%ec...</td>\n",
       "    </tr>\n",
       "    <tr>\n",
       "      <th>2</th>\n",
       "      <td>디올 ‘바 재킷’의 과거, 현재 그리고 미래</td>\n",
       "      <td>http://www.vogue.co.kr/2020/02/14/%eb%94%94%ec...</td>\n",
       "    </tr>\n",
       "    <tr>\n",
       "      <th>3</th>\n",
       "      <td>예술을 입은 레이디 디올</td>\n",
       "      <td>http://www.vogue.co.kr/2020/01/17/%ec%98%88%ec...</td>\n",
       "    </tr>\n",
       "    <tr>\n",
       "      <th>4</th>\n",
       "      <td>디올과 린드버그</td>\n",
       "      <td>http://www.vogue.co.kr/2019/11/07/%eb%94%94%ec...</td>\n",
       "    </tr>\n",
       "    <tr>\n",
       "      <th>...</th>\n",
       "      <td>...</td>\n",
       "      <td>...</td>\n",
       "    </tr>\n",
       "    <tr>\n",
       "      <th>445</th>\n",
       "      <td>늙은 창녀와 루저의 노래</td>\n",
       "      <td>http://www.vogue.co.kr/2016/10/10/%eb%8a%99%ec...</td>\n",
       "    </tr>\n",
       "    <tr>\n",
       "      <th>446</th>\n",
       "      <td>SUPER NATURAL DIOR</td>\n",
       "      <td>http://www.vogue.co.kr/2016/10/07/super-natural/</td>\n",
       "    </tr>\n",
       "    <tr>\n",
       "      <th>447</th>\n",
       "      <td>K-모델 열풍</td>\n",
       "      <td>http://www.vogue.co.kr/2016/10/07/k-%eb%aa%a8%...</td>\n",
       "    </tr>\n",
       "    <tr>\n",
       "      <th>448</th>\n",
       "      <td>오은의 세 번째 시집</td>\n",
       "      <td>http://www.vogue.co.kr/2016/10/07/%ec%98%a4%ec...</td>\n",
       "    </tr>\n",
       "    <tr>\n",
       "      <th>449</th>\n",
       "      <td>그래픽 아이라인</td>\n",
       "      <td>http://www.vogue.co.kr/2016/10/05/%ea%b7%b8%eb...</td>\n",
       "    </tr>\n",
       "  </tbody>\n",
       "</table>\n",
       "<p>450 rows × 2 columns</p>\n",
       "</div>"
      ],
      "text/plain": [
       "                                          title  \\\n",
       "0    디올 FALL-WINTER 2020-2021오뜨꾸뛰르 컬렉션 라이브 스트리밍   \n",
       "1                                      디올 뷰티x지수   \n",
       "2                      디올 ‘바 재킷’의 과거, 현재 그리고 미래   \n",
       "3                                 예술을 입은 레이디 디올   \n",
       "4                                      디올과 린드버그   \n",
       "..                                          ...   \n",
       "445                               늙은 창녀와 루저의 노래   \n",
       "446                          SUPER NATURAL DIOR   \n",
       "447                                     K-모델 열풍   \n",
       "448                                 오은의 세 번째 시집   \n",
       "449                                    그래픽 아이라인   \n",
       "\n",
       "                                                  link  \n",
       "0    http://www.vogue.co.kr/2020/07/06/%eb%94%94%ec...  \n",
       "1    http://www.vogue.co.kr/2020/02/28/%eb%94%94%ec...  \n",
       "2    http://www.vogue.co.kr/2020/02/14/%eb%94%94%ec...  \n",
       "3    http://www.vogue.co.kr/2020/01/17/%ec%98%88%ec...  \n",
       "4    http://www.vogue.co.kr/2019/11/07/%eb%94%94%ec...  \n",
       "..                                                 ...  \n",
       "445  http://www.vogue.co.kr/2016/10/10/%eb%8a%99%ec...  \n",
       "446   http://www.vogue.co.kr/2016/10/07/super-natural/  \n",
       "447  http://www.vogue.co.kr/2016/10/07/k-%eb%aa%a8%...  \n",
       "448  http://www.vogue.co.kr/2016/10/07/%ec%98%a4%ec...  \n",
       "449  http://www.vogue.co.kr/2016/10/05/%ea%b7%b8%eb...  \n",
       "\n",
       "[450 rows x 2 columns]"
      ]
     },
     "execution_count": 16,
     "metadata": {},
     "output_type": "execute_result"
    }
   ],
   "source": [
    "df = pd.read_csv('./data/Vogue_Dior_df.csv' , encoding='utf-8')\n",
    "df"
   ]
  },
  {
   "cell_type": "code",
   "execution_count": null,
   "metadata": {},
   "outputs": [],
   "source": []
  }
 ],
 "metadata": {
  "kernelspec": {
   "display_name": "Python 3",
   "language": "python",
   "name": "python3"
  },
  "language_info": {
   "codemirror_mode": {
    "name": "ipython",
    "version": 3
   },
   "file_extension": ".py",
   "mimetype": "text/x-python",
   "name": "python",
   "nbconvert_exporter": "python",
   "pygments_lexer": "ipython3",
   "version": "3.8.3"
  }
 },
 "nbformat": 4,
 "nbformat_minor": 4
}
