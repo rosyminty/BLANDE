{
 "cells": [
  {
   "cell_type": "code",
   "execution_count": 1,
   "metadata": {},
   "outputs": [],
   "source": [
    "import requests\n",
    "from bs4 import BeautifulSoup\n",
    "import urllib.parse"
   ]
  },
  {
   "cell_type": "code",
   "execution_count": 2,
   "metadata": {},
   "outputs": [],
   "source": [
    "import pandas as pd\n",
    "import numpy as np"
   ]
  },
  {
   "cell_type": "code",
   "execution_count": 3,
   "metadata": {},
   "outputs": [],
   "source": [
    "from selenium import webdriver\n",
    "import time"
   ]
  },
  {
   "cell_type": "code",
   "execution_count": 4,
   "metadata": {},
   "outputs": [],
   "source": [
    "path = './driver/chromedriver.exe'"
   ]
  },
  {
   "cell_type": "markdown",
   "metadata": {},
   "source": [
    "### JISOO"
   ]
  },
  {
   "cell_type": "code",
   "execution_count": 5,
   "metadata": {},
   "outputs": [],
   "source": [
    "baseUrl = 'http://www.vogue.co.kr/page/'\n",
    "subUrl = '/?s='\n",
    "plusUrl = '지수'\n",
    "# url = baseUrl + urllib.parse.quote_plus(plusUrl)\n",
    "# url"
   ]
  },
  {
   "cell_type": "code",
   "execution_count": 6,
   "metadata": {},
   "outputs": [
    {
     "data": {
      "text/plain": [
       "'http://www.vogue.co.kr/page/1/?s=%EC%A7%80%EC%88%98'"
      ]
     },
     "execution_count": 6,
     "metadata": {},
     "output_type": "execute_result"
    }
   ],
   "source": [
    "vUrl = baseUrl+str(1)+subUrl+urllib.parse.quote_plus(plusUrl)\n",
    "vUrl"
   ]
  },
  {
   "cell_type": "code",
   "execution_count": 7,
   "metadata": {},
   "outputs": [],
   "source": [
    "driver = webdriver.Chrome(path)     # 크롬 브라우저 제어할 수 있는 객체, 웹브라우저 실행\n",
    "driver\n",
    "driver.get(vUrl)"
   ]
  },
  {
   "cell_type": "code",
   "execution_count": null,
   "metadata": {},
   "outputs": [],
   "source": [
    "title_list = []\n",
    "date_list = []\n",
    "link_list = []\n",
    "\n",
    "for i in range(18) :\n",
    "    vUrl = baseUrl+str(i+1)+subUrl+urllib.parse.quote_plus(plusUrl)\n",
    "    driver.get(vUrl)\n",
    "    \n",
    "    articles = driver.find_elements_by_css_selector('section#content > div > div > article')\n",
    "#     len(articles)\n",
    "\n",
    "    for article in articles :\n",
    "        title = article.find_element_by_css_selector('div.fusion-post-wrapper > div.fusion-post-content-wrapper > div > h2 > a').text\n",
    "        title_list.append(title)\n",
    "        print(title)\n",
    "        \n",
    "        date = article.find_element_by_css_selector('div.fusion-post-wrapper > div.fusion-post-content-wrapper > div > p').text\n",
    "        date_list.append(date)\n",
    "        print(date)\n",
    "    \n",
    "        link = article.find_element_by_css_selector('div.fusion-post-wrapper > div.fusion-post-content-wrapper > div > h2 > a').get_attribute('href')\n",
    "        link_list.append(link)\n",
    "        print(link)\n",
    "\n",
    "        print('-'*50)\n",
    "    \n",
    "#         print(vUrl)\n",
    "        "
   ]
  }
 ],
 "metadata": {
  "kernelspec": {
   "display_name": "Python 3",
   "language": "python",
   "name": "python3"
  },
  "language_info": {
   "codemirror_mode": {
    "name": "ipython",
    "version": 3
   },
   "file_extension": ".py",
   "mimetype": "text/x-python",
   "name": "python",
   "nbconvert_exporter": "python",
   "pygments_lexer": "ipython3",
   "version": "3.6.5"
  }
 },
 "nbformat": 4,
 "nbformat_minor": 2
}
