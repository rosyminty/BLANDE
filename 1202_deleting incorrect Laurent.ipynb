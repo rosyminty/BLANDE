{
 "cells": [
  {
   "cell_type": "code",
   "execution_count": 1,
   "metadata": {},
   "outputs": [],
   "source": [
    "import pandas as pd\n",
    "import numpy as np"
   ]
  },
  {
   "cell_type": "markdown",
   "metadata": {},
   "source": [
    "## load files"
   ]
  },
  {
   "cell_type": "code",
   "execution_count": 2,
   "metadata": {},
   "outputs": [],
   "source": [
    "a_sl = pd.read_csv('./data/SL/a_sl.csv' , sep='|', encoding='utf-8')\n",
    "c_sl = pd.read_csv('./data/SL/c_sl.csv' , sep='|', encoding='utf-8')\n",
    "b_sl = pd.read_csv('./data/SL/b_sl.csv' , sep='|', encoding='utf-8')\n",
    "e_sl = pd.read_csv('./data/SL/e_sl.csv' , sep='|', encoding='utf-8')\n",
    "fb_sl = pd.read_csv('./data/SL/fb_sl.csv' , sep='|', encoding='utf-8')\n",
    "fn_sl = pd.read_csv('./data/SL/fn_sl.csv' , sep='|', encoding='utf-8')\n",
    "m_sl = pd.read_csv('./data/SL/m_sl.csv' , sep='|', encoding='utf-8')\n",
    "v_sl = pd.read_csv('./data/SL/v_sl.csv' , sep='|', encoding='utf-8')\n",
    "w_sl = pd.read_csv('./data/SL/w_sl.csv' , sep='|', encoding='utf-8')"
   ]
  },
  {
   "cell_type": "markdown",
   "metadata": {},
   "source": [
    "### Allure"
   ]
  },
  {
   "cell_type": "code",
   "execution_count": 3,
   "metadata": {
    "scrolled": true
   },
   "outputs": [
    {
     "data": {
      "text/html": [
       "<div>\n",
       "<style scoped>\n",
       "    .dataframe tbody tr th:only-of-type {\n",
       "        vertical-align: middle;\n",
       "    }\n",
       "\n",
       "    .dataframe tbody tr th {\n",
       "        vertical-align: top;\n",
       "    }\n",
       "\n",
       "    .dataframe thead th {\n",
       "        text-align: right;\n",
       "    }\n",
       "</style>\n",
       "<table border=\"1\" class=\"dataframe\">\n",
       "  <thead>\n",
       "    <tr style=\"text-align: right;\">\n",
       "      <th></th>\n",
       "      <th>magazine</th>\n",
       "      <th>brand</th>\n",
       "      <th>category</th>\n",
       "      <th>title</th>\n",
       "      <th>link</th>\n",
       "      <th>date</th>\n",
       "      <th>contents</th>\n",
       "      <th>title_brand</th>\n",
       "      <th>check</th>\n",
       "      <th>why</th>\n",
       "    </tr>\n",
       "  </thead>\n",
       "  <tbody>\n",
       "    <tr>\n",
       "      <th>0</th>\n",
       "      <td>A</td>\n",
       "      <td>YSL</td>\n",
       "      <td>CELEBRITY</td>\n",
       "      <td>깊게 뿌리내리기 위하여, 수영</td>\n",
       "      <td>http://www.allurekorea.com/2020/11/20/%ea%b9%8...</td>\n",
       "      <td>2020-11-20</td>\n",
       "      <td>['누구보다 본인에게 엄격하지만 수용할 줄 아는 너른 마음도 지녔다. 오늘도 부단히...</td>\n",
       "      <td>0</td>\n",
       "      <td>0</td>\n",
       "      <td>-</td>\n",
       "    </tr>\n",
       "    <tr>\n",
       "      <th>1</th>\n",
       "      <td>A</td>\n",
       "      <td>YSL</td>\n",
       "      <td>BEAUTY</td>\n",
       "      <td>AUTUMN TOUCH</td>\n",
       "      <td>http://www.allurekorea.com/2020/11/16/autumn-t...</td>\n",
       "      <td>2020-10-27</td>\n",
       "      <td>['가을날의 색과 빛이 얼굴에 스몄다.', '  GINKGO LEAVES', '샛노...</td>\n",
       "      <td>0</td>\n",
       "      <td>2</td>\n",
       "      <td>-</td>\n",
       "    </tr>\n",
       "    <tr>\n",
       "      <th>2</th>\n",
       "      <td>A</td>\n",
       "      <td>YSL</td>\n",
       "      <td>FASHION</td>\n",
       "      <td>코트 체크</td>\n",
       "      <td>http://www.allurekorea.com/2020/11/10/%ec%bd%9...</td>\n",
       "      <td>2020-10-26</td>\n",
       "      <td>['겨울이 오기 전 기억해야 할 코트의 면면.', '90’S STANDARD', '...</td>\n",
       "      <td>0</td>\n",
       "      <td>0</td>\n",
       "      <td>-</td>\n",
       "    </tr>\n",
       "    <tr>\n",
       "      <th>3</th>\n",
       "      <td>A</td>\n",
       "      <td>YSL</td>\n",
       "      <td>FASHION</td>\n",
       "      <td>데님이여 영원하라</td>\n",
       "      <td>http://www.allurekorea.com/2020/11/06/%eb%8d%b...</td>\n",
       "      <td>2020-10-26</td>\n",
       "      <td>['데님 팬츠를 선택할 때 가장 중요한 것은 자신의 체형에 맞는 핏을 고르는 것이다...</td>\n",
       "      <td>0</td>\n",
       "      <td>0</td>\n",
       "      <td>-</td>\n",
       "    </tr>\n",
       "    <tr>\n",
       "      <th>4</th>\n",
       "      <td>A</td>\n",
       "      <td>YSL</td>\n",
       "      <td>FASHION</td>\n",
       "      <td>안경 하세요?!</td>\n",
       "      <td>http://www.allurekorea.com/2020/10/29/%ec%95%8...</td>\n",
       "      <td>2020-10-23</td>\n",
       "      <td>['모든 게 익고 마는 금빛 가을에는 탐스러운 금테 안경을. 전체 메탈로 장식한 다...</td>\n",
       "      <td>0</td>\n",
       "      <td>0</td>\n",
       "      <td>-</td>\n",
       "    </tr>\n",
       "    <tr>\n",
       "      <th>...</th>\n",
       "      <td>...</td>\n",
       "      <td>...</td>\n",
       "      <td>...</td>\n",
       "      <td>...</td>\n",
       "      <td>...</td>\n",
       "      <td>...</td>\n",
       "      <td>...</td>\n",
       "      <td>...</td>\n",
       "      <td>...</td>\n",
       "      <td>...</td>\n",
       "    </tr>\n",
       "    <tr>\n",
       "      <th>317</th>\n",
       "      <td>A</td>\n",
       "      <td>YSL</td>\n",
       "      <td>FEATURE</td>\n",
       "      <td>뻔한 휴양지 말고 모로코, 오만, 시칠리아 섬으로!</td>\n",
       "      <td>http://www.allurekorea.com/2018/07/10/%eb%bb%9...</td>\n",
       "      <td>2019-11-18</td>\n",
       "      <td>['북아프리카 에사우이라 해변, 시칠리아의 수산시장, 아라비아반도의 끝. ‘여행이란...</td>\n",
       "      <td>0</td>\n",
       "      <td>0</td>\n",
       "      <td>-</td>\n",
       "    </tr>\n",
       "    <tr>\n",
       "      <th>318</th>\n",
       "      <td>A</td>\n",
       "      <td>YSL</td>\n",
       "      <td>BEAUTY</td>\n",
       "      <td>여름 피부를 위한 7월 신상 베이스</td>\n",
       "      <td>http://www.allurekorea.com/2018/07/10/%ec%97%a...</td>\n",
       "      <td>2019-11-18</td>\n",
       "      <td>['2018년 7월에 선보이는 따끈따끈한 신제품을 만나볼 시간! &lt;얼루어&gt;가 한눈에...</td>\n",
       "      <td>0</td>\n",
       "      <td>2</td>\n",
       "      <td>-</td>\n",
       "    </tr>\n",
       "    <tr>\n",
       "      <th>319</th>\n",
       "      <td>A</td>\n",
       "      <td>YSL</td>\n",
       "      <td>FEATURE</td>\n",
       "      <td>전 세계 300달러 이하 호텔 추천 24</td>\n",
       "      <td>http://www.allurekorea.com/2018/06/30/%ec%a0%8...</td>\n",
       "      <td>2019-11-18</td>\n",
       "      <td>['여행과 호텔을 좋아하는 &lt;얼루어&gt; 에디터들이 직접 머무르거나, 위시 리스트에 넣...</td>\n",
       "      <td>0</td>\n",
       "      <td>0</td>\n",
       "      <td>-</td>\n",
       "    </tr>\n",
       "    <tr>\n",
       "      <th>320</th>\n",
       "      <td>A</td>\n",
       "      <td>YSL</td>\n",
       "      <td>BEAUTY</td>\n",
       "      <td>레드 립? 오렌지 립? 당신의 선택은?</td>\n",
       "      <td>http://www.allurekorea.com/2018/06/30/%eb%a0%8...</td>\n",
       "      <td>2019-11-18</td>\n",
       "      <td>['언뜻 보면 다 똑같은 컬러 같다고요? 천만의 말씀, 자세히 살펴보면 이렇게나 천...</td>\n",
       "      <td>0</td>\n",
       "      <td>2</td>\n",
       "      <td>-</td>\n",
       "    </tr>\n",
       "    <tr>\n",
       "      <th>321</th>\n",
       "      <td>A</td>\n",
       "      <td>YSL</td>\n",
       "      <td>BEAUTY</td>\n",
       "      <td>접속! 파워 유투버 &lt;1&gt;</td>\n",
       "      <td>http://www.allurekorea.com/2015/12/08/%eb%b0%9...</td>\n",
       "      <td>2019-11-18</td>\n",
       "      <td>['화장을 글이 아닌 영상으로 배우는 시대다. 지금 이 트렌드를 이끌고 있는 뷰티 ...</td>\n",
       "      <td>0</td>\n",
       "      <td>2</td>\n",
       "      <td>-</td>\n",
       "    </tr>\n",
       "  </tbody>\n",
       "</table>\n",
       "<p>322 rows × 10 columns</p>\n",
       "</div>"
      ],
      "text/plain": [
       "    magazine brand   category                         title  \\\n",
       "0          A   YSL  CELEBRITY              깊게 뿌리내리기 위하여, 수영   \n",
       "1          A   YSL     BEAUTY                  AUTUMN TOUCH   \n",
       "2          A   YSL    FASHION                         코트 체크   \n",
       "3          A   YSL    FASHION                     데님이여 영원하라   \n",
       "4          A   YSL    FASHION                      안경 하세요?!   \n",
       "..       ...   ...        ...                           ...   \n",
       "317        A   YSL    FEATURE  뻔한 휴양지 말고 모로코, 오만, 시칠리아 섬으로!   \n",
       "318        A   YSL     BEAUTY           여름 피부를 위한 7월 신상 베이스   \n",
       "319        A   YSL    FEATURE        전 세계 300달러 이하 호텔 추천 24   \n",
       "320        A   YSL     BEAUTY         레드 립? 오렌지 립? 당신의 선택은?   \n",
       "321        A   YSL     BEAUTY                접속! 파워 유투버 <1>   \n",
       "\n",
       "                                                  link        date  \\\n",
       "0    http://www.allurekorea.com/2020/11/20/%ea%b9%8...  2020-11-20   \n",
       "1    http://www.allurekorea.com/2020/11/16/autumn-t...  2020-10-27   \n",
       "2    http://www.allurekorea.com/2020/11/10/%ec%bd%9...  2020-10-26   \n",
       "3    http://www.allurekorea.com/2020/11/06/%eb%8d%b...  2020-10-26   \n",
       "4    http://www.allurekorea.com/2020/10/29/%ec%95%8...  2020-10-23   \n",
       "..                                                 ...         ...   \n",
       "317  http://www.allurekorea.com/2018/07/10/%eb%bb%9...  2019-11-18   \n",
       "318  http://www.allurekorea.com/2018/07/10/%ec%97%a...  2019-11-18   \n",
       "319  http://www.allurekorea.com/2018/06/30/%ec%a0%8...  2019-11-18   \n",
       "320  http://www.allurekorea.com/2018/06/30/%eb%a0%8...  2019-11-18   \n",
       "321  http://www.allurekorea.com/2015/12/08/%eb%b0%9...  2019-11-18   \n",
       "\n",
       "                                              contents  title_brand  check why  \n",
       "0    ['누구보다 본인에게 엄격하지만 수용할 줄 아는 너른 마음도 지녔다. 오늘도 부단히...            0      0   -  \n",
       "1    ['가을날의 색과 빛이 얼굴에 스몄다.', '  GINKGO LEAVES', '샛노...            0      2   -  \n",
       "2    ['겨울이 오기 전 기억해야 할 코트의 면면.', '90’S STANDARD', '...            0      0   -  \n",
       "3    ['데님 팬츠를 선택할 때 가장 중요한 것은 자신의 체형에 맞는 핏을 고르는 것이다...            0      0   -  \n",
       "4    ['모든 게 익고 마는 금빛 가을에는 탐스러운 금테 안경을. 전체 메탈로 장식한 다...            0      0   -  \n",
       "..                                                 ...          ...    ...  ..  \n",
       "317  ['북아프리카 에사우이라 해변, 시칠리아의 수산시장, 아라비아반도의 끝. ‘여행이란...            0      0   -  \n",
       "318  ['2018년 7월에 선보이는 따끈따끈한 신제품을 만나볼 시간! <얼루어>가 한눈에...            0      2   -  \n",
       "319  ['여행과 호텔을 좋아하는 <얼루어> 에디터들이 직접 머무르거나, 위시 리스트에 넣...            0      0   -  \n",
       "320  ['언뜻 보면 다 똑같은 컬러 같다고요? 천만의 말씀, 자세히 살펴보면 이렇게나 천...            0      2   -  \n",
       "321  ['화장을 글이 아닌 영상으로 배우는 시대다. 지금 이 트렌드를 이끌고 있는 뷰티 ...            0      2   -  \n",
       "\n",
       "[322 rows x 10 columns]"
      ]
     },
     "execution_count": 3,
     "metadata": {},
     "output_type": "execute_result"
    }
   ],
   "source": [
    "a_sl"
   ]
  },
  {
   "cell_type": "code",
   "execution_count": 5,
   "metadata": {},
   "outputs": [
    {
     "data": {
      "text/plain": [
       "False"
      ]
     },
     "execution_count": 5,
     "metadata": {},
     "output_type": "execute_result"
    }
   ],
   "source": [
    "'멜라니 로랑' in a_sl.iloc[0,6]"
   ]
  },
  {
   "cell_type": "code",
   "execution_count": 10,
   "metadata": {},
   "outputs": [
    {
     "name": "stdout",
     "output_type": "stream",
     "text": [
      "44 멜라니\n"
     ]
    }
   ],
   "source": [
    "# 멜라니 로랑인 경우 index 번호 빼기\n",
    "for i in range(len(a_sl)) :\n",
    "    if '멜라니 로랑' in a_sl.iloc[i,6] :\n",
    "        print(i, '멜라니')\n",
    "#     else :\n",
    "#         print(i, 'nothing')"
   ]
  },
  {
   "cell_type": "code",
   "execution_count": 12,
   "metadata": {
    "scrolled": true
   },
   "outputs": [
    {
     "data": {
      "text/plain": [
       "\"['현재 모두가 주목하는 최고의 배우가 된 사람. 엘르 패닝의 과거와 현재, 그리고 10년 후의 모습에 대하여 그녀와 함께 나눈 이야기.', '  하트 주름 장식의 드레스는 디 아티코(The Attico). 메이크업은 로레알 파리의 ‘울트라 마트 레 마카롱 #프랄리네 드 파리로 입술을 붉은 핑크빛으로 물들였다.', '코트와 진주 장식 헤어밴드는 모두 쉬림프(Shrimps).', '작년은 엘르 패닝에게 있어 마법 같은 해였다. <말레피센트 2>에서 오로라 공주 역을, 우디 앨런의 <레이니 데이 인 뉴욕>에서 애슐리라는 캐릭터를 맡아 열연했다. 평론가들은 특히 패닝이 애슐리 역할을 완벽하게 해석하고 소화해냈다며 높게 평가했다. 호평은 스크린 밖에서도 이어졌다. 2019년은 패션에 관한 열정을 불태운 한 해로 기억될 것이다. 5월에 열린 칸 영화제 레드 카펫에서 검은색 라피아 모자와 매치한 디올 오트 쿠튀르 룩, 직접 수놓은 꽃으로 장식한 발렌티노의 보헤미안 룩, 미우미우의 컷아웃 디테일의 드레스, 물레 바늘에 찔려 떨어진 핏방울이 장식된 동화를 모티브로 만들어진 구찌 드레스, 아주 얇은 소재로 만든 로다테 드레스… 남자친구 청바지를 메리제인 슈즈와 매치하는 그녀의 모든 스타일은 아름다움 그 자체로 모두 패션의 역사에 기록될 것이었다. 엘르 패닝은 얼굴에 미소를 띠며 또렷한 목소리로 영화에 대해서 패션과 뷰티 브랜드의 뮤즈로서, 쓸모 없는 휴대폰에 대해서, 그리고 연기 천재 아역 배우에서 아이콘이 된 과정에 대해 이야기를 말했다.', '칸에서는 심사위원의 일원이기도 했죠. 레드카펫을 걷고 화보 촬영도 하고, 팬들과 사진도 찍었는데, 다양한 분야에서 당신이 사랑받고 있다는 것이 실감 나나요?', '그럼요. 하나하나가 모여 전체를 이루죠. 제 직업은 배우지만 패션은 항상 흥미로워요. 배역을 맡았을 때 새로운 캐릭터를 해석하는 것처럼 패션의 창조적인 부분이 정말 마음에 들어요. 화보 촬영 때 포즈를 취하는 건 새로운 캐릭터를 만드는 것을 뜻하고, 입고 있는 옷에 생명을 주는 것과 같죠. 변장하는 것처럼, 캐릭터로 빙의해 연기하는 것이 재미있어요.', '새로운 도시로 촬영하러 갈 때 혼자만의 시간도 갖나요?', '물론이죠. 심지어 칸은 집에 있는 것처럼 편안해요. 도시가 사람들로 붐벼 복잡하기도 하지만 아직도 산책하러 나가고, 저녁 식사를 하거나 아이스크림을 먹으러 카페에 가는 것을 즐겨요.', '선글라스를 착용하고 길을 걷기도 하고요.', '날씨가 좋은 날에는 집에 있을 수 없죠!', '하트 무늬 드레스는 로다테(Rodarte).', '검은 드레스는 후안 비달(Juan Vidal).', '언니인 다코타 패닝을 든든한 지원군이자 영감을 주는, 당신의 인생에 없어서는 안 될 중요한 존재로 설명할 때가 많아요.', '다코타는 언니일 뿐만 아니라 정말 친한 친구예요. 우리는 다른 형제가 없어요. 그래서인지 자매 사이의 우애가 아주 끈끈하죠. 다코타는 저를 이끌어주고, 저는 언니를 많은 부분에서 존경해요. 최고의 조언자이기도 하죠. 일 이야기를 많이 하지는 않아요. 하지만 다코타의 인생에 관한 모든 것을 보면 아주 현명하고 훌륭한 조언자라는 것을 알 수 있어요.', '배우로서의 경력에 대해 이야기해보자면, 아역 배우로 시작해 자라면서 많은 청소년 역할을 연기했죠. 어린 나이에 일찍부터 대중들 앞에 섰던 것이 당신을 더 빨리 성숙시켰다고 생각하나요?', '전혀요. 저는 평범한 학교에서 공부했고, 졸업무도회 같은 모든 파티에 참여하는 학생이었어요. 그래서 아직까지도 학교 친구들과 연락하고 있고요. 이런 모든 경험이 지금의 저를 만들었어요. 저희 가족은 조지아 출신이에요. 어릴 때부터 할머니와 함께 살며 남부 문화를 배우고, 저의 뿌리를 사랑하며 자랐죠. 지금은 또 다른 세상의 사람들과 교류하는 기회가 있고 이건 저에게 좋은 영향을 주고 있다고 생각해요. 배우가 된다는 건 이런 것 같아요. 배우가 아닌 저를 상상할 수 없어요. 세상 무엇과도 바꾸지 않을 거예요.', '누군가 당신에게 배역을 제안했을 때, 무엇을 중요하게 보나요?', '많은 걸 고려해요. 감독은 아는 사람인지, 캐스트 중에서 내가 존경하는 배우 또는 같이 연기하고 싶었던 배우가 있는지. 친구들이 있으면 더 좋겠죠. 만약 소피아 코폴라가 저에게 배역을 제안하면 저는 주저하지 않고 받아들일 거예요! 소피아라면 대본도 볼 필요가 없어요. 또 본능적인 것도 크게 작용해요. 제 안의 무언가가 저를 유혹할 때가 있어요. 항상 도전적인 배역이 더 끌려요. 부담감이 있을 때 최고의 작품을 만들었던 것 같아요.', '당신은 두 살 때부터 배우였어요. 많은 배역을 거절했나요?', '관심 없는 배역을 거절하는 것은 어려운 일이 아니에요. 그리고 저는 항상 훌륭한 선택을 했다고 생각해요. 운도 좋았죠. 지금까지 제가 받은 대본은 모두 훌륭했어요. 하지만 이 일을 시작했을 당시엔 오디션도 많이 봤고, 배역을 얻기 위해 노력해야 할 것이 많았어요.', '300만 명 이상의 인스타 팔로워를 가지고 있어요. 당신에게 SNS는 어떤 의미인가요?', '저는 계정이 하나밖에 없어요. 공식 계정과 비공개 계정을 나누어 갖고 있지 않아요. 하지만 계정이 하나 있다고 해서 불편한 건 전혀 없어요. 저는 인스타그램을 자주 보고 제 친구들 혹은 다른 사람들과 소통하는 걸 좋아하죠. 물론 장단점도 있다는 걸 알아요. 자존감이 낮을 때, 남들과 자신을 비교하게 될 때는 조심해야 하지만 사람들과 의견을 나누고 소통할 수 있으며 내가 생각하는 것을 말할 수 있고 이 모든 것이 열려 있다는 게 훌륭하다고 생각해요. 특히 제 또래들은 직설적이고 자신의 주장을 펼치는 걸 주저하지 않아요. 너무 대단해요.', '레이스 셔츠는 라이언 로(Ryan Lo). 케이프는 구찌(Gucci). 메이크업은 로레알 파리의 ‘어코드 파르페 플루이드 파운데이션 #로즈 아이보리’와, ‘어코드 파르페 터치 매지크 파운데이션 컨실러’를 사용해 밝고 매끄러운 피부를 연출했다.', '인스타그램에서 당신은 솔직하게 말하는 편인가요?', '인스타그램은 셀카와 개인적인 일상이 섞여 있는 저의 거울이 에요. 별로 중요하지 않은 것들을 올려요, 단순한 재미를 추구해 요. 물론 패션에 관한 것, 메이크업에 관한 것 등이요. 제 자신에 대해 보여주는 것, 개인적인 계획이나 감성적인 이슈를 말하는 것을 좋아해요. 인스타그램은 제 인생에서 특별한 순간을 저장 하는 좋은 플랫폼 같아요. 저에게 있어서는 아주 훌륭한 추억 저 장소예요.', '화보 촬영하는 동안 휴대폰을 한 번도 보지 않더라고요. 좀 충격을 받았어요. 그런 사람은 드물거든요.', '절대 휴대폰에 매여 있지 않아요. 저는 기계치랍니다. 컴퓨터도 잘 다루지 못하고요..', '패션 또는 영화 산업에서 여성이 불평등한 대우를 받는 것 이 계속 이슈가 되고 있어요. 변화를 불러일으켜야 한다는 책임 감을 느끼나요?', '물론이죠. 예를 들어 감독이 여성인 것을 굳이 명시할 필요가 없 다고 생각해요. 그건 정말 공격적이에요. 남자 감독을 ‘남자 감 독’이라고 하지 않잖아요. 근데 여자의 경우, 여자 감독이라고 명시하죠. 하지만 점점 남녀평등이 실현되고 있어요. 만약 언젠 가 제가 영화를 감독하게 된다면 여자이기 때문에 선택받고 싶 진 않아요. 우리는 서로를 성별과 상관없이 인간으로서 진지하 게 대해야 해요.', '사춘기 소녀, 디즈니 공주, SF영화, 이혼가정의 딸, 아웃사 이더 등을 연기해왔죠. 포스트모더니즘과 같은 시대적 배경과 관련된 다양한 배역을 소화해내는 비결이 무엇인가요?', '비슷하지 않은 배역을 맡으려고 노력해요. 외모나 머리색으로 저 자신을 틀에 가두지 않아요. 배우로서 저는 (자신을 여성명사 가 아닌 일반명사로 지칭하며) 항상 변화를 추구하고 다른 사람 이 되려고 노력해요. 그게 재밌어요. 온전히 저를 바꾸고 다양한 대본을 고르는 것이 비결이라면 비결이죠.', '<갤버스턴>에서처럼 가난, 외로움, 버림받는 설정 등 반영웅 적인 캐릭터를 연기한 적도 있었죠. 고통받는 사람, 갈 곳 없는 사람, 힘든 인생을 사는 사람 역할을 맡은 것이 당신의 삶에는 어떤 영향을 미쳤나요?', '당연히 영향을 받죠. 록키를 연기했을 때는 엄청났어요. 멜라니 로랑 감독은 친한 친구이기도 한데 모든 과정에서 저를 이끌어 주는 역할을 했어요. <갤버스턴>은 제가 출연한 영화 중에서 가 장 아름다운 영화였어요. 제일 좋아하지만 잘 알려지지 않은 영화이기도 해요. 그 촬영을 통 해 저는 성장했고, 제가 연기 한 역할은 항상 제 안에 남아 있어요.', '별 장식의 벨벳 원피스는 파코 라반(Paco Rabanne). 플랫 슈즈는 파울라 카데마토리(Paula Cademartori). 귀고리는 샤넬(Chanel). 메이크업은 로레알 파리의 파라다이스 엑스타틱스 마스카라를 발라 눈매를 더욱 또렷하게 만들었다. 속눈썹 가까이에 브러시를 대고 수평으로 고정한 다음 여러 번 눈을 깜빡이면 고데기 없이도 속눈썹을 자연스럽게 컬링할 수 있다. 입술엔 로레알 파리의 인팔리블 24 H #타임리스 로즈‘를 발라 생기를 더했다.', '로레알 파리의 브랜드 모 토인 ‘나는 가치가 있다’라는 문구는 당신에게 무엇을 의미 하나요?', '로레알 파리는 헤어와 피부만 관리하는 화장품 브랜드가 아 니에요. 그 가치들 중 하나는 자기사랑과 존경, 세상 모든 여성이 자신감을 가질 수 있 다는 것이죠. 다름을 이해하 고 모든 연령의 여성들을 끌 어 안아줘요. 그래서 ‘나는 가 치가 있다’는 표현과 로레알 파리는 참 흡사해요.', '이 표현이 50년 전에 만 들어졌다던데요? 모든 것이 변했음에도 불구하고 표현은 정말 요즘 시대의 것 같죠?', '네, 제가 최고의 광고주를 만났네요 (웃음). 진지하게 말씀드리 자면 광고 표현이 50년 동안 살아남은 것은 메시지가 그만큼 의 미 있다는 뜻인 것 같아요. 그리고 정말 아름다운 표현이고요 . 셀린 디온, 에바 롱고리아, 비올라 다비스, 다우첸 크로스, 카밀 라 카베요와 함께 이런 훌륭한 그룹에 속해 있는 것이 정말 좋아 요. 영감을 주는 멋진 여성들이고 우리는 마주칠 때마다 좋은 순 간을 공유해요. 저는 제일 어린 모델 중 한 명이라 다른 모델들 을 보면서 배워나가는 중이죠. 아직 제인 폰다는 만나보지 못했 지만 엄청 멋있어요.', '뷰티에 관해 받은 조언이 있나요?', '눈썹을 밀지 말라고 조언받았어요. 그래서 아무것도 안 해요. 그 대로 놔뒀어요. 자연 그대로요.', '20년 후에는 어떨 것 같아요? 어떤 배역을 연기해보고 싶 나요?', '복잡한 내면을 가진 인간의 배역을 연기하고 싶어요. 진실된 이 야기를 하고 현실에서 벌어지고 있는, 여자들이 겪는 일들을 거 울처럼 비추는 작품이요. 저는 항상 진실을 찾고 있어요.', '베이지톤의 레이스 원피스는 라이언 로. 메이크업은 로레알 파리의 ‘수퍼라이너 플래시 캣아이’로 아이라인을 길게 위로 빼 블랙 캣아이 메이크업을 연출했다. 그리고 눈두덩에 진한 보랏빛의 ‘인디비듀얼 아이섀도 컬러 퀸 #27트랜센던트’를 펴 발라 표현했다.', 'SHE IS… ELLE FANNING', '이름은? 엘르.', '취미는? 복싱.', '비밀은? 곱슬머리의 소유자라는 것.', '좋아하는 노래는? 플리트우드 맥의 ‘Rihannon’.', '가장 좋아하는 영화는? 소피아 코폴라의 <처녀 자살 소동>.', '관심 있는 패션은? 칸에서 입었던 샴페인색의 구찌 드레스.', '꿈꾸는 여행지는? 아이슬랜드.', ' ']\""
      ]
     },
     "execution_count": 12,
     "metadata": {},
     "output_type": "execute_result"
    }
   ],
   "source": [
    "a_sl.iloc[44,6]"
   ]
  },
  {
   "cell_type": "code",
   "execution_count": 13,
   "metadata": {},
   "outputs": [
    {
     "data": {
      "text/plain": [
       "magazine                                                       A\n",
       "brand                                                        YSL\n",
       "category                                               CELEBRITY\n",
       "title                                  ONCE UPON A DREAM / 엘르 패닝\n",
       "link           http://www.allurekorea.com/2020/02/19/once-upo...\n",
       "date                                                  2020-02-01\n",
       "contents       ['현재 모두가 주목하는 최고의 배우가 된 사람. 엘르 패닝의 과거와 현재, 그리고...\n",
       "title_brand                                                    0\n",
       "check                                                          2\n",
       "why                                                            -\n",
       "Name: 44, dtype: object"
      ]
     },
     "execution_count": 13,
     "metadata": {},
     "output_type": "execute_result"
    }
   ],
   "source": [
    "a_sl.iloc[44,8] = 2\n",
    "a_sl.iloc[44]"
   ]
  },
  {
   "cell_type": "code",
   "execution_count": 15,
   "metadata": {},
   "outputs": [
    {
     "name": "stdout",
     "output_type": "stream",
     "text": [
      "success\n"
     ]
    }
   ],
   "source": [
    "a_sl.to_csv('./data/SL/a_sl.csv' , sep='|', mode='w' , encoding='utf-8' , index=False)\n",
    "print('success')"
   ]
  },
  {
   "cell_type": "markdown",
   "metadata": {},
   "source": [
    "### Bazaar"
   ]
  },
  {
   "cell_type": "code",
   "execution_count": 17,
   "metadata": {},
   "outputs": [],
   "source": [
    "for i in range(len(b_sl)) :\n",
    "    if '멜라니 로랑' in b_sl.iloc[i,6] :\n",
    "        print(i, '멜라니 로랑')\n",
    "#     else :\n",
    "#         print(i, 'nothing')"
   ]
  },
  {
   "cell_type": "markdown",
   "metadata": {},
   "source": [
    "### Cosmopolitan"
   ]
  },
  {
   "cell_type": "code",
   "execution_count": 16,
   "metadata": {},
   "outputs": [],
   "source": [
    "for i in range(len(c_sl)) :\n",
    "    if '멜라니 로랑' in c_sl.iloc[i,6] :\n",
    "        print(i, '멜라니 로랑')\n",
    "#     else :\n",
    "#         print(i, 'nothing')"
   ]
  },
  {
   "cell_type": "markdown",
   "metadata": {},
   "source": [
    "### Elle"
   ]
  },
  {
   "cell_type": "code",
   "execution_count": 20,
   "metadata": {
    "collapsed": true
   },
   "outputs": [
    {
     "name": "stdout",
     "output_type": "stream",
     "text": [
      "109 멜라니 로랑\n",
      "[[], ['이제 만 스무 살이 되는 엘르 패닝이 카메라 앞에 선 지도 18년째다', '', '레드 스웨터는 Saint Laurent by Anthony Vaccarello, 코코 크러시 이어링과 링은 모두 Chanel Watches & Fine Jewelry.', 'BEAUTY NOTE', '엘르 패닝의 건강한 피부를 그대로 살리기 위해 트루 매치 파운데이션을 얇게 펼쳐 발랐다. 미스 망가 워터프루프 마스카라를 위아래 눈썹에 여러 번 발라 풍성한 속눈썹을 연출. 립밤처럼 부드럽게 발려 금세 벨벳처럼 보송해지는 컬러리쉬 모이스트 매트 립스틱, R516 링컨로즈를 빈틈없이 꼼꼼히 발라 눈부시게 빛나는 레드 립을 완성했다.', '사용 제품은 모두 L’Oreal Paris.', '당신이 기억하는 엘르 패닝은 어떤 모습인가. 특수분장도 없이 드레스만 입었을 뿐인데 그 자체로 ‘공주’ 아우라를 뿜어내던 <말레피센트> 속의 오로라 공주? 주연인 안젤리나 졸리와 극명한 대비를 이루던 엘르의 새하얀 얼굴은 대중의 머릿속에 깊게 각인되었다. 그렇다. 대부분의 사람들이 기억하는 엘르는 솜털이 보송보송 나 있을 것 같은, 화장기 없이 앳된 소녀의 얼굴이다. 하지만 그녀의 ‘피지컬’을 보게 된다면 깜짝 놀랄지도! 우선 키가 정말 크다. 언니인 다코타 패닝의 키를 훌쩍 넘는 180cm. 그녀의 우상이자 영화 <매혹당한 사람들>에 함께 출연했던 니콜 키드먼과도 말 그대로 ‘어깨를 나란히’ 한다. 키만 큰 게 아니라 실루엣마저 가녀리다. 2016년 니콜라스 윈딩 레플 감독의 영화 <네온 데몬>에서는 패션모델로 분해 인상 깊은 연기를 선보였고 실제로 마크 제이콥스, 미우미우 등의 캠페인 모델로도 활약했다. 최근 로레알 파리의 뮤즈가 되어 뷰티 인더스트리까지 넘보고 있는 중. 범접할 수 없는 사랑스러움으로 팬들을 사로잡던 아역 배우가 어느새 훌쩍 자라 이젠 범접할 수 없는 반전 매력으로 스펙트럼을 넓혀가고 있는 것이다. 상대방의 한마디 한마디에 연신 감탄하는 표정을 지으며 어린아이 같은 말투로 대화를 나누는 ‘사석의 엘르’의 모습에서, 음습한 눈빛과 걱정에 찬 얼굴로 감정을 폭발시키는 스크린 속의 엘르를 찾기란 결코 쉽지 않다. 멜라니 로랑이 영어로 연출한 첫 번째 영화로 올해 개봉 예정인 <갤버스턴 Galveston>에서는 불안하고 비극적인 도망자 신세의 매춘부 연기에 도전하는데, 완전히 몰입돼 있는 그 모습을 보고 있노라면 멜라니의 연륜과 에너지가 엘르의 몸으로 옮겨간 것으로밖에 보이지 않는다.', '', '블랙 원피스는 Saint Laurent by Anthony Vaccarello. 코코 크러시 링과 코메트 네크리스는 모두 Chanel Watches & Fine Jewelry.', '', '데님 재킷과 팬츠는 모두 A. P. C. 화이트 벨트는 Maison Boinet. 코코 크러시 이어링은 Chanel Watches & Fine Jewelry.', 'BEAUTY NOTE', '얼굴 중심부터 바깥을 향해 트루 매치 파운데이션을 얇게 발라준다. 새하얀 피부 위에서 더욱 부각되는 클래식 레드 립은 컬러리쉬 모이스트 매트 립스틱, R516 링컨로즈를 립 라인부터 안쪽까지 꼼꼼히 메워 발라 완성한 것. 마지막으로 엑스트라 오디네리 보태니컬 오일을 가볍게 발라 모발 끝이 윤기 있어 보이도록 했다.', '사용 제품은 모두 L’Oreal Paris.', '엘르 패닝이 연기를 시작한 건 2001년, 생후 18개월 남짓할 무렵이다. 제시 넬슨 감독의 <아이 엠 샘>에서 주연이자 네 살 터울의 언니 다코타 패닝의 어린 시절 역할로 등장했다. 다코타 패닝(루시 역)이 숀 펜(샘 역)과 함께 그네를 타는 사이 시간이 흘러 훌쩍 커버리는 장면, 그 어린아이가 바로 엘르라는 사실을 아는지. 그 후 2002년 TV 드라마 <테이큰>에서 또 한 번 다코타의 아역으로 등장했고, 2006년 <바벨>, 2008년 <벤자민 버튼의 시간은 거꾸로 간다> 등의 조연을 거쳐 13세의 나이에 소피아 코폴라 감독의 영화 <썸웨어>의 주연을 꿰차기에 이른다. 어린이 영화를 벗어나 밀도 높은 필모그래피를 다지기 위한 초석이자 ‘패셔니스타’라는 수식어를 갖게 된 계기도 바로 이 작품. 사실 코폴라 집안과 엘르 패닝은 거의 한가족이라 해도 과언이 아니다. 밀레니얼 세대인 엘르는 소피아 코폴라의 뮤즈이고, 소피아의 아버지이자 독특한 작품세계를 고수하는 영화감독 프란시스 포드 코폴라 역시 엘르의 빅 팬. 프란시스는 나파 밸리에 있는 자신의 포도 농장에 엘르를 여러 번 초대했고, 2011년 자신이 연출한 스릴러 영화 <트윅스트>에 그녀를 뱀파이어로 출연시켰다. 소피아는 <썸웨어> 이후 7년 만에 <매혹당한 사람들>을 연출하며 또 한 번 엘르에게 러브 콜을 보냈다. 이성에 눈을 떠 호감을 숨김없이 표현하는 도발적인 ‘알리시아’라는 캐릭터는 엘르의 순진무구한 얼굴과 중저음의 반전 목소리를 만나 그 매력이 더욱 극대화됐다. 마치 소녀와 어른의 경계에 놓인 엘르 패닝이 곧 알리시아였던 것처럼! 니콜 키드먼과 커스틴 던스트라는 대배우 사이에서 주눅 들지 않고 당당한 기세를 뽐낸 것만으로도 <매혹당한 사람들>은 성인 배우의 길목에 접어든 엘르 패닝에게 전환기를 마련해 준 영화임에 분명하다.', '', '블라우스는 Isabel Marant, 코코 크러시 이어링과 링은 모두 Chanel Watches & Fine Jewelry.', '어른들의 세상에 일찍 발을 들인 걸로 모자라 성인 배우에 견줘도 뒤지지 않을 입지를 다진 엘르 패닝. 정작 본인은 스스로를 ‘어른’으로 규정하는 데 주저한다. “제가 어른이라고 느끼기 시작한 건 얼마 안 됐어요. 물론 자신감이 많이 생겼죠. 성인으로서 어떤 일을 스스로 해낸다는 건 기분 좋고 신나는 일이거든요. 하지만 제가 아직 어른과 아이의 중간쯤에 있다는 생각을 멈출 수 없어요.” 그녀처럼 어린 나이에 큰 성공을 거뒀다면 허세를 부리거나 거만하게 굴었을지도 모를 일. 하지만 엘르는 겸손한 태도로 평범한 삶을 살아갈 뿐이다. 그녀의 인스타그램(@ellefanning)을 봐도 가십지가 반길 법한 ‘몹쓸’ 장면은 도통 찾을 수 없다. 한 편의 영화를 끝내고 다음 영화에 들어가기 전까지 그저 테니스를 치거나 발레로 몸을 가다듬는 게 전부일 정도. 동유럽의 숨은 보석 같은 나라, 조지아에 뿌리를 두고 있는 화려하지 않은 집안 분위기 때문일까? 축구선수였던 할아버지, 야구선수였던 아버지, 테니스 챔피언이었던 어머니의 평범하지 않은 피를 물려받은 영향일지도!', '그렇다고 엘르 패닝의 성격을 비슷한 또래처럼 느긋하거나 태평하다고 속단하기엔 이르다. 자신이 페미니스트임을 밝힐 때만큼은 주저 없이 당당하고 전투적이기까지 하니까. 로레알 파리의 뮤즈가 되면서 이런 면모는 더욱 부각되고 있다. “‘당신은 소중하니까요’ 로레알 파리의 전설적인 슬로건이죠. 이 세상 모든 여성들에게 자신감을 북돋워주는 말이라고 생각해요. 아침에 일어나 어떤 아이섀도를 바를지, 어떤 립스틱을 바를지 생각하는 건 자신만의 개성을 당당히 표현하는 방법이죠. 제게 메이크업이란 ‘난 세상에 이렇게 보이길 원해, 이렇게 인식되길 원해’라고 외칠 수 있는 권리를 뜻해요.” 남성 중심적인 할리우드에서 여성 감독을 찾기란 그리 쉽지 않지만 엘르의 필모그래피에는 여성 감독이 여럿 있다. 소피아 코폴라, 멜라니 로랑 외에도 <메리 셸리 Mary Shelley>를 연출한 사우디아라비아의 하이파 알 만수르 감독, 2018년 개봉 예정인 <아이 씽크 위어 어론 나우 I Think We’re Alone Now>를 연출한 리드 모라노 감독까지. “‘꼭 여자 감독과 일해야지’ ‘여자끼리만 일해야지’라고 생각해 본 적은 없어요. 그분들의 제안을 받아들인 건 강하고 자신감 넘치며 진실되고 복합적인 여성 캐릭터를 창조해 내기 때문이에요. 그 감독들에게서 여자 그 이상의 영화적 판타지를 봤다고 할까요?” 다코타 패닝의 동생, 사랑스러운 아역 따위의 수식을 오래전에 던져버린 엘르의 알려진 차기작만 무려 7편. “언젠가 영화에 내 이야기를 담을 거예요.” 엘르는 멋진 여성 감독과 함께 작업하며 그들의 카메라 앞에 서 있는 자신의 모습과 카메라 뒤에 있는 모습을 함께 상상하고 있다. 순수하지만 단호한 배우의 눈빛에서 앞으로 무르익을 일만 남은, 아직은 떫고 거친 야망이 느껴진다. 엘르 패닝, 그녀는 계속해서 성장하고 있다.', '사진 DUSAN RELJIN', '스타일리스트 HORTENSE MANGA', '글 THOMAS JEAN', '에디터 정윤지', '번역 박진영', '메이크업 ISMAEL BLANCO(L’OREAL PARIS)', '헤어 TIE TOYAMA(L’OREAL PARIS)', '네일 SEVERINE', '디자인 전근영']]\n",
      "136 멜라니 로랑\n",
      "[[], ['<우리의 20세기>와 <더 테이블>. 극장가에서 오랜만에 보는 여자 이야기', '', '<더 테이블>하나의 카페에서 서로 다른 네 커플이 만나 대화를 나누는 옴니버스 영화. 평범한 일상을 섬세하게 포착하기로 정평이 난 김종관 감독이 하루 동안 같은 공간에 머문 네 개의 인연에 관한 이야기를 보여준다. 정유미, 정은채, 한예리, 임수정이 각각 연기하는 네 개의 에피소드는 오롯이 테이블에 마주 앉은 주인공들의 대사와 표정에 의해 진행된다. 각기 다른 매력의 그녀들이 어떤 사연으로 관객의 마음을 사로잡을지 궁금하다. 지난해 부산국제영화제와 올해 전주국제영화제에서 전석 매진을 기록하며 일찌감치 화제를 모았다. 8월 24일 개봉.', '', '<우리의 20세기>이완 맥그리거, 멜라니 로랑 주연의 <비기너스>로 극찬을 받은 감독 마이크 밀스의 신작. 자유롭고 순수했던 1979년 캘리포니아 산타바바라를 배경으로 각자의 서툰 인생을 살아가는 다섯 남녀의 이야기를 그렸다. 감독은 자전적 스토리이자 자신의 성장기에 영향을 준 여성들에게 쓰는 연애편지 같은 작품이라고 밝혔다. 삶에 대한 내밀한 고찰을 담은 이야기 속에서 아네트 베닝, 그레타 거위그, 엘르 패닝 등 할리우드의 각 세대를 대표하는 여배우들의 존재감이 빛난다. 9월 개봉.', '에디터 최선우', '디자인 박라영']]\n",
      "[109, 136]\n"
     ]
    }
   ],
   "source": [
    "ml = []\n",
    "for i in range(len(e_sl)) :\n",
    "    if '멜라니 로랑' in e_sl.iloc[i,6] :\n",
    "        print(i, '멜라니 로랑')\n",
    "        ml.append(i)\n",
    "        print(e_sl.iloc[i,6])\n",
    "#     else :\n",
    "#         print(i, 'nothing')\n",
    "print(ml)"
   ]
  },
  {
   "cell_type": "code",
   "execution_count": 22,
   "metadata": {},
   "outputs": [
    {
     "name": "stdout",
     "output_type": "stream",
     "text": [
      "magazine                                                       E\n",
      "brand                                                        YSL\n",
      "category                                                    STAR\n",
      "title                                         난 이제 더 이상 소녀가 아니에요\n",
      "link                 http://v.media.daum.net/v/20180321150407489\n",
      "date                                                  2018.03.21\n",
      "contents       [[], ['이제 만 스무 살이 되는 엘르 패닝이 카메라 앞에 선 지도 18년째다'...\n",
      "title_brand                                                    0\n",
      "check                                                          2\n",
      "why                                                          NaN\n",
      "Name: 109, dtype: object\n",
      "----------------------------------------------------------------------------------------------------\n",
      "magazine                                                       E\n",
      "brand                                                        YSL\n",
      "category                                                 CULTURE\n",
      "title                                                 여자가 빛나는 영화\n",
      "link                 http://v.media.daum.net/v/20170908155348181\n",
      "date                                                  2017.09.08\n",
      "contents       [[], ['<우리의 20세기>와 <더 테이블>. 극장가에서 오랜만에 보는 여자 이...\n",
      "title_brand                                                    0\n",
      "check                                                          2\n",
      "why                                                          NaN\n",
      "Name: 136, dtype: object\n",
      "----------------------------------------------------------------------------------------------------\n"
     ]
    }
   ],
   "source": [
    "for idx in ml :\n",
    "    e_sl.iloc[idx,8] = 2\n",
    "    print(e_sl.iloc[idx])\n",
    "    print('-'*100)"
   ]
  },
  {
   "cell_type": "code",
   "execution_count": 23,
   "metadata": {},
   "outputs": [
    {
     "name": "stdout",
     "output_type": "stream",
     "text": [
      "success\n"
     ]
    }
   ],
   "source": [
    "e_sl.to_csv('./data/SL/e_sl.csv' , sep='|', mode='w' , encoding='utf-8' , index=False)\n",
    "print('success')"
   ]
  },
  {
   "cell_type": "markdown",
   "metadata": {},
   "source": [
    "### FashionBiz"
   ]
  },
  {
   "cell_type": "code",
   "execution_count": 46,
   "metadata": {},
   "outputs": [
    {
     "data": {
      "text/plain": [
       "magazine                                                      FB\n",
       "brand                                                        YSL\n",
       "category                                              World Wide\n",
       "title                                         파리 패션계 ‘아프로폴리탄’ 뜨다\n",
       "link           https://www.fashionbiz.co.kr/article/view.asp?...\n",
       "date                                                  2017/10/17\n",
       "contents                                                        \n",
       "title_brand                                                    0\n",
       "check                                                          0\n",
       "why                                                          NaN\n",
       "Name: 9, dtype: object"
      ]
     },
     "execution_count": 46,
     "metadata": {},
     "output_type": "execute_result"
    }
   ],
   "source": [
    "fb_sl.iloc[9,6] = ' '\n",
    "fb_sl.iloc[9]"
   ]
  },
  {
   "cell_type": "code",
   "execution_count": 40,
   "metadata": {},
   "outputs": [
    {
     "data": {
      "text/plain": [
       "[9]"
      ]
     },
     "execution_count": 40,
     "metadata": {},
     "output_type": "execute_result"
    }
   ],
   "source": [
    "ml = [9]  # 얜 계속 빌런임\n",
    "ml"
   ]
  },
  {
   "cell_type": "code",
   "execution_count": 49,
   "metadata": {},
   "outputs": [
    {
     "name": "stdout",
     "output_type": "stream",
     "text": [
      "https://www.fashionbiz.co.kr/article/view.asp?cate=2&sub_num=65&idx=154544\n"
     ]
    },
    {
     "data": {
      "text/plain": [
       "[9, 19]"
      ]
     },
     "execution_count": 49,
     "metadata": {},
     "output_type": "execute_result"
    }
   ],
   "source": [
    "# fb_sl.iloc[19]\n",
    "fb_sl.iloc[19,6] = ' '\n",
    "fb_sl.iloc[19,6]\n",
    "print(fb_sl.iloc[19,4])\n",
    "ml.append(19)\n",
    "ml"
   ]
  },
  {
   "cell_type": "code",
   "execution_count": 45,
   "metadata": {},
   "outputs": [
    {
     "name": "stdout",
     "output_type": "stream",
     "text": [
      "19\n",
      "20\n",
      "21\n",
      "22\n",
      "23\n",
      "24\n",
      "[9]\n"
     ]
    }
   ],
   "source": [
    "# ml = []\n",
    "for i in range(19,len(fb_sl)) :\n",
    "    print(i)\n",
    "    if '멜라니 로랑' in fb_sl.iloc[i,6] :\n",
    "        print(i, '멜라니 로랑')\n",
    "        ml.append(i)\n",
    "        print(fb_sl.iloc[i,6])\n",
    "#     else :\n",
    "#         print(i, 'nothing')\n",
    "print(ml)"
   ]
  },
  {
   "cell_type": "code",
   "execution_count": 50,
   "metadata": {},
   "outputs": [
    {
     "data": {
      "text/plain": [
       "[9, 19]"
      ]
     },
     "execution_count": 50,
     "metadata": {},
     "output_type": "execute_result"
    }
   ],
   "source": [
    "ml"
   ]
  },
  {
   "cell_type": "code",
   "execution_count": 51,
   "metadata": {},
   "outputs": [
    {
     "name": "stdout",
     "output_type": "stream",
     "text": [
      "magazine                                                      FB\n",
      "brand                                                        YSL\n",
      "category                                              World Wide\n",
      "title                                         파리 패션계 ‘아프로폴리탄’ 뜨다\n",
      "link           https://www.fashionbiz.co.kr/article/view.asp?...\n",
      "date                                                  2017/10/17\n",
      "contents                                                        \n",
      "title_brand                                                    0\n",
      "check                                                          2\n",
      "why                                                          NaN\n",
      "Name: 9, dtype: object\n",
      "----------------------------------------------------------------------------------------------------\n",
      "magazine                                                      FB\n",
      "brand                                                        YSL\n",
      "category                                              World Wide\n",
      "title                                          디렉터 바뀐 「생로랑」 향방은?\n",
      "link           https://www.fashionbiz.co.kr/article/view.asp?...\n",
      "date                                                  2016/06/17\n",
      "contents                                                        \n",
      "title_brand                                                    1\n",
      "check                                                          2\n",
      "why                                                          NaN\n",
      "Name: 19, dtype: object\n",
      "----------------------------------------------------------------------------------------------------\n"
     ]
    }
   ],
   "source": [
    "for idx in ml :\n",
    "    fb_sl.iloc[idx,8] = 2\n",
    "    print(fb_sl.iloc[idx])\n",
    "    print('-'*100)"
   ]
  },
  {
   "cell_type": "code",
   "execution_count": 54,
   "metadata": {},
   "outputs": [
    {
     "data": {
      "text/plain": [
       "magazine                                                      FB\n",
       "brand                                                        YSL\n",
       "category                                              World Wide\n",
       "title                                          디렉터 바뀐 「생로랑」 향방은?\n",
       "link           https://www.fashionbiz.co.kr/article/view.asp?...\n",
       "date                                                  2016/06/17\n",
       "contents                                                        \n",
       "title_brand                                                    1\n",
       "check                                                          2\n",
       "why                                  회원만 열람할 수 있는 기사여서 내용이 없음 ㅜㅜ\n",
       "Name: 19, dtype: object"
      ]
     },
     "execution_count": 54,
     "metadata": {},
     "output_type": "execute_result"
    }
   ],
   "source": [
    "fb_sl.iloc[19,9] = '회원만 열람할 수 있는 기사여서 내용이 없음 ㅜㅜ'\n",
    "fb_sl.iloc[19]"
   ]
  },
  {
   "cell_type": "code",
   "execution_count": 55,
   "metadata": {},
   "outputs": [
    {
     "name": "stdout",
     "output_type": "stream",
     "text": [
      "success\n"
     ]
    }
   ],
   "source": [
    "fb_sl.to_csv('./data/SL/fb_sl.csv' , sep='|', mode='w' , encoding='utf-8' , index=False)\n",
    "print('success')"
   ]
  },
  {
   "cell_type": "markdown",
   "metadata": {},
   "source": [
    "### FashionN"
   ]
  },
  {
   "cell_type": "code",
   "execution_count": 56,
   "metadata": {},
   "outputs": [],
   "source": [
    "ml = []"
   ]
  },
  {
   "cell_type": "code",
   "execution_count": 58,
   "metadata": {},
   "outputs": [
    {
     "name": "stdout",
     "output_type": "stream",
     "text": [
      "[]\n"
     ]
    }
   ],
   "source": [
    "# ml = []\n",
    "for i in range(len(fn_sl)) :\n",
    "#     print(i)\n",
    "    if '멜라니 로랑' in fn_sl.iloc[i,6] :\n",
    "        print(i, '멜라니 로랑')\n",
    "        ml.append(i)\n",
    "        print(fn_sl.iloc[i,6])\n",
    "#     else :\n",
    "#         print(i, 'nothing')\n",
    "print(ml)"
   ]
  },
  {
   "cell_type": "markdown",
   "metadata": {},
   "source": [
    "### Marie Claire"
   ]
  },
  {
   "cell_type": "code",
   "execution_count": 60,
   "metadata": {},
   "outputs": [
    {
     "name": "stdout",
     "output_type": "stream",
     "text": [
      "258 멜라니 로랑\n",
      "['', '제목과 달리 삶과 세상사에서 ‘영원한 것’은 결코 있을 수 없다는 사실을 역설하는 작품이다. 여성의 시각으로 인생을 꿰뚫는 통찰과 혜안을 얻는 과정을 그리는 완벽한 여성 영화. 우리에게 <아멜리에>로 전설이 된 오드리 토투가 마흔이 넘은 나이가 되어 다시 매혹적인 외모로 등장한다. 그녀의 후신 격으로 요즘 프랑스 영화계의 대세인 멜라니 로랑(<바스터즈: 거친 녀석들> <에너미> <나우 유 씨 미: 마술 사기단>)도 함께 나오는 등 프랑스의 유명 여배우들이 거의 다 나온다고 보면 된다. 여성 3인의 3색 인생을 그린 옴니버스영화다. 시대 배경은 19 세기 말에서 20세기 초로 이어진다.', ' ', '🎥 2016 | 프랑스 | 드라마, 로맨스 | 115분\\n감독 트란 안 홍\\n출연 멜라니 로랑, 오드리 토투, 베레니스 베조\\n일시 3월 4일(토) 오후 8시 15분\\n장소 CGV청담씨네시티 서브팩 2관', '예매하러 가기']\n",
      "----------------------------------------------------------------------------------------------------\n",
      "[258]\n"
     ]
    }
   ],
   "source": [
    "ml = []\n",
    "for i in range(len(m_sl)) :\n",
    "#     print(i)\n",
    "    if '멜라니 로랑' in m_sl.iloc[i,6] :\n",
    "        print(i, '멜라니 로랑')\n",
    "        ml.append(i)\n",
    "        print(m_sl.iloc[i,6])\n",
    "#     else :\n",
    "#         print(i, 'nothing')\n",
    "print('-'*100)\n",
    "print(ml)"
   ]
  },
  {
   "cell_type": "code",
   "execution_count": 61,
   "metadata": {},
   "outputs": [
    {
     "name": "stdout",
     "output_type": "stream",
     "text": [
      "magazine                                                       M\n",
      "brand                                                        YSL\n",
      "category                                                    film\n",
      "title                                                       이터너티\n",
      "link           http://www.marieclairekorea.com/film/2017/02/%...\n",
      "date                                                     2017-02\n",
      "contents       ['', '제목과 달리 삶과 세상사에서 ‘영원한 것’은 결코 있을 수 없다는 사실을...\n",
      "title_brand                                                    0\n",
      "check                                                          2\n",
      "why                                                          NaN\n",
      "Name: 258, dtype: object\n",
      "----------------------------------------------------------------------------------------------------\n"
     ]
    }
   ],
   "source": [
    "for idx in ml :\n",
    "    m_sl.iloc[idx,8] = 2\n",
    "    print(m_sl.iloc[idx])\n",
    "    print('-'*100)"
   ]
  },
  {
   "cell_type": "code",
   "execution_count": 62,
   "metadata": {},
   "outputs": [
    {
     "name": "stdout",
     "output_type": "stream",
     "text": [
      "success\n"
     ]
    }
   ],
   "source": [
    "m_sl.to_csv('./data/SL/m_sl.csv' , sep='|', mode='w' , encoding='utf-8' , index=False)\n",
    "print('success')"
   ]
  },
  {
   "cell_type": "markdown",
   "metadata": {},
   "source": [
    "### Vogue"
   ]
  },
  {
   "cell_type": "code",
   "execution_count": 63,
   "metadata": {},
   "outputs": [
    {
     "name": "stdout",
     "output_type": "stream",
     "text": [
      "195 멜라니 로랑\n",
      "['엘르 패닝은 아역 배우에서 반짝반짝 빛나는 아가씨로 성장했다. 또 소피아 코폴라 감독의 영화 〈매혹당한 사람들〉로 가장 매혹적인 스타임을 증명했다.', '엘르 패닝(Elle Fanning)이 어떤 인물인지 알려면, 그녀가 뭘 하는지, 혹은 뭘 하지 않는지 보면 된다. 이를테면, 패닝은 가만히 앉아 있지 않는다. 트위터를 하지 않는다. 촬영 전날 밤까지 대본을 보지 않고(그러다 욕조에 들어가서 대본을 외운다), 자기가 출연한 토크쇼를 보지 않는다. “자동 응답기에 녹음된 제 목소리를 듣는 기분이거든요.” 파파라치가 헬스장까지 쫓아오는 것이 좋진 않지만, 소란을 일으킬만큼 자신이 유명하다고 생각하지 않는다. 길에서 만난 사람들이 그녀를 알아보면 “아, 네! 다코타 패닝 동생이에요!”라고 답하지 않으려 한다.', '물론 그녀는 그 자체로 스타다. 그녀의 아름다움(아치형 눈썹, 살짝 들린 짧은 코, 공기 요정이 만지고 간 것 같은 머리카락까지)과 인상적인 작품 리스트 때문만은 아니다. 패닝을 뉴올리언스의 층고가 높은 레스토랑 ‘Tableau’에서 만났을 때, 좀 놀랐다. 그녀는 자신이 누구이고 무엇을 원하는지 정확하게 알고, 그 확신이 상대에게도 전달될 정도로 자신감 있다. 그녀는 “Hi!”라고 인사하며 양손을 뻗어 나를 꽉 안았다. 셀린의 빨간 터틀넥, 발렌시아가의 검은색 로커빌리 데님, 반짝이는 버클이 달려 있는 메종 마르지엘라 스니커즈 차림이었다. 들고 있던 자그마한 구찌 가방을 내려놓고, 프렌치 도어 옆에 있는 의자에 미끄러지듯 앉았다. 패닝은 니콜 키드먼, 커스틴 던스트, 콜린 파렐과 함께 소피아 코폴라 감독의 작품 <매혹당한 사람들> 촬영을 위해 뉴올리언스에 몇 주간 머물렀다. 영화 <썸웨어> 이후 7년 만에 소피아 코폴라 감독과 함께했고, 다른 가족 없이 혼자 타지에서 촬영한 첫 작품이다.', '잠깐 뭐라도 마시고 나서(나는 레모네이드를, 그녀는 “얼음 많이” 다이어트 콜라를 주문했다) 그녀가 늘 하고 싶었다던 귀신의 집 투어를 하기로 했다. 약간 으스스한 부탁이었다. 코폴라 감독 버전의 <매혹당한 사람들>은 (1966년 출간된 토머스 컬리넌의 소설. 그리고 1971년에 클린트 이스트우드가 출연한 영화로도 제작됐다) 남북전쟁 시대, 다친 연방군 병사(콜린 파렐)가 버지니아의 여자 기숙학교에 머무르면서 환대, 유혹, 호러의 상황에 놓이는 이야기다. 패닝은 병사를 유혹하는 야심 찬 캐릭터인 알리시아를 연기했다. 영화 초반에 그녀는 병사의 방에 숨어 들어가 캐리 그랜트와 그레이스 켈리 주연의 영화 <나는 결백하다> 스타일의 대담한 키스를 한다.', '소피아 코폴라 감독은 이렇게 평한다. “엘르는 너무 다정해요. 아직 아이죠. 그런 그녀가 자기의 인성과는 반대인 방탕하고 허영심 많은 배드 걸 역할을 해야 했죠. 저는 그게 너무 재밌더라고요.” 엘르도 응수했다. “소피아는 저를 배드 걸로 만들 생각에 엄청 들떴어요!” 스스로도 그런 역할이어서 끌렸다. 마이크 밀스 감독이 메가폰을 잡고, 격동의 70년대를 살며 자신의 길을 찾아가는 여성들이 등장하는 영화 <20세기 여인들>의 촬영이 끝난 후, 엘르는 처음으로 별자리 운세를 보러 갔다(촬영이 끝난 것을 기념해 마이크 밀스 감독이 그녀에게 선물을 했다). “저는 엄청 모순이 많은 사람이래요.”\\n물고기자리적인 성향도 있다. “매우 소녀적이고 초자연적이며 묘한 재능도 갖고 있대요.” 콜린 파렐은 “엘르는 제가 본 어느 여배우보다 본능을 끄집어 내서 연기해요”라고 말했다. 니콜 키드먼 역시(그녀 특유의 여유와 우아함을 뿜어내며) “엘르의 연기는 전혀 힘들이지 않는 것처럼 자연스러워요”라고 평했다.', '많은 사람들이 패닝을 영화 <말레피센트>의 잠자는 숲속의 공주(그녀가 정말 좋아하는 역할)로 기억한다. 그리고 조지아의 디케이터에서 태어났고, 태어난 뒤 몇 년은 코니어스라는 도시에서 살았지만, 팬들에게 그녀는 ‘LA 키즈’의 전형이다. 큰 노력을 기울이지 않아도 스타일리시하고, 볼이 에나멜처럼 반짝이는 할리우드의 공주님 말이다. 그녀는 두 살부터 연기를 했고, 스크린을 위해, 그리고 스크린 위에서 평생 살아왔다. 패닝은 첫 키스도 카메라 앞에서 했다(영화 <진저 앤 로사>의 촬영이었다).', '그녀가 앞으로 사람들이 더 알아줬으면 하는 부분은 성격이 좀 있다는 거다. “엄마랑 언니는 늘 ‘그거 별로 자랑할 만한 거 아니야’라고 해요.” 그녀는 크게 웃으며 말했다. “그렇지만 저는 모르는 사람들에게도 거리낌 없이 ‘나 화낼 땐 완전 화내!’라고 하죠. 제가 사람을 잘 믿어서 종종 상처를 받았거든요.” 그녀는 그런 사람이다. 남들의 허무맹랑한 소리에 휘둘리지 않고, 원하는 바를 잘 아는 사람. 몸매 유지와 건강을 위해 부모님 집 근처(부모님과 함께 산다)의 피트니스 클럽에서 복싱을 시작했고, 무시무시한 레프트 훅을 연마한 사람. 또 자기의 테이블 매너를 스스로 비판하고(“남자처럼 먹어요”) 자신만의 박자를 타며 흐느적거리지만 다이앤 키튼 같은 걸음걸이로 성큼성큼 걷는 사람이다.', '<매혹당한 사람들> 촬영을 하며 우정을 쌓은 커스틴 던스트는 이렇게 말했다. “엘르는 말투가 독특해요. 좀 웃기달까. 할머니들이 자주 쓰는 표현을 하죠.” 패닝 자매가 미성년자였을 때, 세트장에서 그들과 함께 있어주며 친구 역할을 해준 건 할머니였다. 덕분에 손녀는 가끔 익살스러운 목소리로 할머니 흉내를 낸다.', '엘르는 커리어적으로 매우 대담하다. 작년, 그녀가 열여덟 살이 막 되었을 때, 섹스와 죽음, 마음속에 품고 있던 몽환적인 꿈을 망치는 스타덤에 관한 호러 필름인 니콜라스 윈딩 레픈 감독의 <네온 데몬>에 출연하며 많은 사람들을 놀라게 했다. 다코타 패닝은 “배우로서의 엘르 패닝에 너무 감동했어요”라며 영화의 클라이맥스에서 고통받는 동생을 보며 극장이 눈물바다가 되도록 울었다. <매혹당한 사람들>에서 패닝은 또 한 번 파격적인 캐릭터를 맡았다(남북전쟁 시대의 관습을 기준으로). “아주 유혹적이에요. 제 쇄골을 노출하거든요. 당시는 ‘어머, 쟤 발목 노출했어’라며 난리 칠 때잖아요.”', '그런 역할을 하자 언론은 그녀의 연기가 성장하고 있는지, 여배우로서 성숙해지고 있는지, 그녀가 어떤 아티스트가 될지 궁금증을 품기 시작했다. 엘르는 그런 질문이 매우 이상하다. “사람들이 제가 성장하는 걸 스크린에서 이미 봐왔잖아요.” 그녀는 다이어트 콜라를 한 모금 마시며 말했다. 그녀에게 영화 촬영은 쉽고 익숙한 부분이다. 다만 나이가 들수록 자신에게 새롭고 신기한 것을 왜 물어보지 않는지 모르겠다고 했다. 이를테면 파티, 졸업, 앞으로 어떤 여성이 되고 싶은지 같은. “열여덟 살이 되면 예전에는 없던 책임이 갑자기 생기잖아요. 스스로 여전히 어린애처럼 느끼기도 하고요. 이중적이죠.” 언니인 다코타가 NYU로 떠나기 전에, 패닝은 자매와 부모님, 할머니까지 LA에 있는 집에서 함께 살았다(그녀의 말을 빌리자면, “여자, 여자, 여자!”로 가득한 대가족이다). 엘르는 주변 여성들과 그녀들이 세운 기준을 보면서 많은 생각을 했다. 고등학교를 졸업할 때가 되니 아무 생각 없는 연기만 할 순 없고, 대학 진학과 같은 옵션에도 무게를 뒀다. 하지만 그녀 말로는, 선택은 쉬웠다. “영화를 그만한다고 생각하니 너무 무섭더라고요.”', '엘르는 영화 같은 내면을 갖고 있다. 그녀가 가장 좋아하는 시간 때우기는 침대에 앉아서 상상력이 어디까지 뻗어갈 수 있는지 놔두는 것이다. 종종 생생한 꿈을 꾼다. 꿈은 가끔 과거의 기억을 끄집어내고, (그녀 생각에는) 미래를 보여주기도 한다. 그녀는 4학년 때 친구 세 명과 LA의 쇼핑센터로 영화 <트와일라잇>을 보러 가기로 했다. 너무 설레서 기다리기 힘들 정도였다. 당시 학교에 좋아하는 남자가 있었는데(그는 5학년이었다. 다들 이런 경험 있을 것이다) 영화를 보기로 한 전날 밤, 어느 쇼핑몰에서 남자아이와 마주치는 꿈을 꿨다. “다음 날 일어나서 친구들한테 ‘우린 분명 그 오빠 만날 거야! 난 알 수 있어!’라며 난리 쳤죠. 친구들은 ‘그 오빠는 근처에 살지도 않는다’면서 웃었고요.” 그런데 정말로 그가 나타났다. 꿈에서 봤던 바로 그 장소에서 말이다. “저한테 무슨 마법이 있나 봐요!” 그녀는 매우 즐겁게 외쳤다. 이 이야기 모두가 귀신의 집 투어의 프롤로그처럼 느껴졌다. 나는 약간 겁먹은 상태였고, 분명히 겉으로도 티가 났을 것이다. “오늘 제 꿈에 에디터님이 나오면, 내일 알려드릴게요.” 그녀는 나를 안심시키려는 듯이 웃었다.', '잭슨 광장의 북쪽 구석에서 우리에게 ‘고스트 시티 투어’를 해줄 ‘초자연적 현상 수사관’이라고 불리는 가이드 빌을 만났다. 가는 길에, 나는 고스트 투어 가이드가 어떻게 생겼을지에 대해 전혀 생각해보지 않았지만, 빌을 보자마자 무조건 그가 ‘초자연적 현상 수사관’임을 알 수 있었다. 약간 그을린\\n피부에 회색 수염을 기른 그는 화이트 진과 니하이 레이스업 부츠, 스타워즈 로고가 그려진 버튼다운 셔츠를 입고, 목에 큰 십자가 두 개를 찼다. 한쪽 허벅지에는 귀신(영혼) 감지기가 들어 있는 주머니를 차고, 등에는 다른 장비로 가득 찬 잔스포츠 백팩을 메고 있었다.', '“영혼 상자를 몇 개 쓸 건데요. 어떻게 되는지 한번 지켜봅시다.” 그가 설명했다. 그의 목소리는 민속 현악기인 밴조의 줄을 뜯는 것 같았다. 밤색 머리는 한쪽으로 가지런히 가르마를 타고 있었다. 우리는 모퉁이를 돌아서 위엄 있고 장중한 오래된 식당으로 갔다. “여기는 뮤리엘스(Muriel’s)입니다”. 빌이 설명했다. “좋은 레스토랑이에요. 이곳도 귀신 들렸죠.” 그곳에 있는 귀신은 피에르 주르당이라는 이름이었는데, 18세기 말에 포커 게임에서 집문서를 잃고 스스로 목을 맸다고 했다. 나선형 계단을 올라가서 2층으로 가니, 부드러운 붉은빛이 켜진 안락한 방이 나왔다. 우리는 앉았고, 빌은 자기의 ‘영혼의 기운을 영어로 바꾸어주는 기구’를 꺼냈다. 그것은 베이비 모니터(아기 방의 소리를 들으려고 설치하는 무전기 형태의 것)처럼 생겼다. “이곳에 귀신이 있는 게 정말입니까?” 그가 물었다. 그 장치에 답변이 떴고, 패닝은 장치의 스크린을 유심히 보고 있었다. “네, 확실히요.” 베이비 모니터가 답했다.', '로열 스트리트에서 만난 술 취한 한 여성(아마 그녀도 어떤 귀신에 씐 상태였을지 모른다)이 차 안에서 패닝을 향해 소리쳤다. “어머, 너 입은 톱이 예쁘다!” 아까 말한 그 셀린 톱 말이다. 그래, 그 톱 참 예쁘다. 하이넥에 배꼽 근처가 노출되는 디자인이었는데, 패닝이 어릴 때 입었던 배꼽티의 어른 버\\n전이랄까. 하지만 패닝은 그녀의 말을 잘못 들었다. “어머, 너 입은 톱이 예쁘다(Dear, I like your top)” 대신에 “오 마이 갓, 얘 완전 커(Dear God, you are tall)”라고 말이다. 그녀는 <썸웨어>를 촬영하는 동안 1년에 18cm쯤 자랐고, 옷 사이즈도 두 사이즈나 커졌다. 그 이후로 180cm 정도 되는 자신의 키가 쭉 신경 쓰였다고 한다. 그렇지만 그녀의 우아하고 길쭉길쭉한 체형 덕에 캘리포니아 스타일의 로다테, 독특하고 유쾌한 미우미우 같은 스타일의 옷이 더욱 어울리게 됐다. “로다테랑 미우미우는 영화에 나오는 캐릭터 같아요”라고 그녀가 설명했다. 지난봄, 칸에서 그녀는 호화로운 발렌티노 드레스를 입었는데, 카메라를 향해 치마를 펼치는 게 너무 좋아서 천국 같았다고 했다. “치마 퍼지는 게 너무 신나서 계속 걸어 다녔어요.”', '어둠이 내려왔고, 시내는 밤의 방랑자로 가득 찼다. 빌은 예전에 사창가로 이용되던 건물로 우리를 데려갔다. 원래 ‘해 뜨는 집’이라고 불리던 곳이라고 했다. 남자 손님이 그곳의 여자에게 나쁜 짓을 하면, 주인인 마담이 그 남자에게 제대로 복수를 했다. 마담은 두 명의 여자를 보내서 약 탄 술을 대접했다. 조금 있다가 두 명을 더 보내고, 또 두 명을 보냈다. “그 얼뜨기는 나중이 돼서야 엄청 열 받은 창녀 여섯 명에게 둘러싸여 있음을 알게 되죠!” 빌이 소리쳤다. “여자들이 그를 때리고, 목을 찌르고, 그의 지갑을 꺼내고, 미리 파둔 무덤으로 그를 데굴데굴 굴려서 쓰레기처럼 버립니다. 최후의 일격으로 그의 위로 빈 병을 잔뜩 쌓아서 그를 덮어버렸죠!” 빌은 오늘날 그 건물이 호텔로 쓰인다고 했다.', '패닝은 순진한 얼굴로 미소 지으며 말했다. “나쁜 남자 친구를 데려오면 되겠네요.” 굳이 따지자면 패닝 집안은 배우 집안이라기보다 운동선수 집안이다. 다코타와 엘르의 아버지는 마이너리그에 있었고, 엄마는 프로 테니스 선수였다. 이모는 풋볼 경기의 사이드라인 리포터였다. 엘르도 오랫동안 발레를 했고, 잠깐 핫요가에 심취하는 등 언제나 운동에 관심이 있었지만, 패닝 자매 둘 다 빨리 다른 길로 진로를 틀었다. 다코타는 다섯 살 때 동네 연극 캠프에 참여하며 스카우터에게 발견됐다. 엘르는 “<Blue Fish>라는 연극이었는데, 언니가 바로 파란 물고기였대요!”라고 설명했다. “스카우터들이 부모님에게 ‘얘 데리고 LA나 뉴욕으로 가세요’라고 했대요. 파란 물고기 역할을 정말 잘했다고요.” 엄마는 결단력 있게 조지아에서의 삶을 멈추고 다코타의 광고와 파일럿 시즌 촬영을 위해 캘리포니아로 이사했다. 다코타가 숀 펜이 출연하는 영화 <아이 엠 샘>의 주연 역할을 따냈을 때 엘르와 아빠도 따라왔다. 엘르는 다코타의 어린 시절을 연기하기 위해 세트장에 불려왔다.', '엘르는 다코타에 대해 끊임없이 존경 그 이상을 표했다. “연기를 먼저 시작한 언니가 없었다면, 제가 지금 이 자리에 있을까요?” 하지만 엘르의 어린 시절을 찍은 홈 비디오만 봐도 그녀가 타고난 퍼포머라는 걸 알 수 있다 (카메라를 똑바로 보고 “여러분, 엘르 패닝입니다!”라는 소개 멘트에 맞춰 양팔을 딱딱 움직였을 정도다). 이제 그녀의 길에서 다코타의 그림자를 찾기는 어렵지만 서로에 대한 믿음과 사랑은 계속 이어지고 있다. 다코타 패닝은 이렇게 말한다. “가끔 사람들이 우리가 서로를 질투하거나 경쟁하기를 원하는 것 같아요. 그런 일은 절대 없을 거예요. 제 동생이 이 세상의 어떤 사람보다더 성공하고, 날아올랐으면 좋겠거든요.”', '엘르는 오디션을 증오한다. 한번은 극심한 공포에 기절한 적도 있다. 하지만 감독들을 만나서 프로젝트에 대해 이야기하는 것은 매우 좋아한다. 코폴라 감독이 <썸웨어>의 캐스팅을 진행할 때, 둘은 만나자마자 궁합이 맞음을 느꼈다. “그녀는 정말 재미있고, 반짝반짝 빛나는 개성을 갖고 있어요.” 코\\n폴라 감독은 엘르에 대해 이렇게 말했다. “세련되고 교양 있으면서 동시에 어린아이 같은 면을 갖기가 힘들거든요. 엘르는 여타 아역 배우들처럼 ‘미니 어른’이 아니에요.” <썸웨어>의 캐릭터가 아이스 스케이트를 탔기 때문에, 코폴라는 엘르에게 대역을 쓰자고 제안했지만, 엘르는 몇 주 동안 새벽과 방과후에 레슨을 받았다. <썸웨어>는 엘르가 다코타 패닝의 동생 그 이상임을 세상에 보여줬다. 하지만 그것도 벌써 오래전 얘기다. 코폴라 감독은 말했다. “어느 순간, 갑자기 저보다 키가 커졌어요. 하지만 예나 지금이나 여전히 빛나는 사람이죠.”', '지난 15년간(그러니까 그녀의 인생 대부분의 시간 동안) 패닝의 히어로는 마릴린 먼로다. 엘르는 사람들이 세잔의 그림을 공부하듯 먼로의 인터뷰와 사진을 공부했다. “특히 사진을 보면 그녀가 당시에 어떤 기분으로 말했는지 눈빛에서 엿보이죠. 그녀는 자기가 얼마나 대단한 사람인지 몰랐어요.”\\n엘르는 가끔 마릴린 먼로는 소셜 미디어를 어떻게 다뤘을지 상상한다. 몇 년 동안 엘르는 (매우 할머니 같은 말투로) “페이스북이라는 거랑 트위터를 거부해왔어요”라고 했다. 하지만 시간이 지나면서 그녀는 스스로 너무 갇히지 않았나, 우물 안 개구리가 되는 건 아닌가 걱정했다. “시대와 함께 진화해야죠!” 그녀는 시각적인 인물이기에 인스타그램이 더 구미가 당겼다. 그녀의 인스타그램 팔로어는 약 150만 명이다. “올리기 전에 늘 긴장해요. 사실 제가 세상의 주목을 피하기란 어렵죠. 언니의 팔로어 수도 100만대가 넘어요. 물론 세상을 다 가진 것 같은 셀레나 고메즈에 비할 바는 아니지만요.” 사실 테크놀로지에 있어 엘르는 아직 구식이다. 그녀는 작년 겨울에야 처음으로 넷플릭스를 시작했다. 아이폰에 새로운 이모지도 없다(왜냐하면 업데이트를 안 한 지 너무 오래됐다). 덕분에 친구들이 문자를 보내면 그녀의 휴대전화 화면에는 물음표와 깨진 글자가 잔뜩 뜬다. 친구들에게 그 얘기를 하자니 좀 민망해서 문자를 다 이해한 것처럼 행동하곤 한다.', '우리는 카페의 차양 밑에 앉아서 유명하다는 로컬 음식을 먹었다. 카페오레(나), 초코 우유(그녀), 그리고 베눼라고 불리는 튀긴 반죽에 슈가 파우더를 잔뜩 묻힌 도넛을 주문했다. 내가 슈가 파우더를 여기저기 흩뿌리지 않으려고, 하나를 조심히 들어 입으로 가져가려는데, 그녀가 나에게 생각을 너무 많이 하지 말라고 했다. 그러고는 단호하게 “숨 안 쉬고 먹어야 돼요”라고 덧붙였다.', '그녀는 재미있다. <매혹당한 사람들>의 세트장에서 그녀와 커스틴 던스트는 나중에 코미디 장르에 함께 출연하기로 했다(커스틴은 “엘르는 정말 웃겨요. 나중에 ‘SNL’ 호스트로 나오는 거 꼭 보고 싶어요”라고 했다). 여학교의 외부는 비욘세의 ‘레모네이드’ 뮤직비디오에 나온 루이지애나 농장에서 찍었고, 내부 장면은 뉴올리언스에 있는 코미디 배우 제니퍼 쿨리지의 집에서 찍었다(패닝은 그녀를 <금발이 너무해>에서 전설적인 ‘굽히고 튕겨!’ 장면의 폴렛 역할로 기억하고 있었다. “차마 그 장면을 직접 보여달라고는 못했어요. 다들 겁먹었거든요”). 쿨리지는 매년 할로윈 파티를 재미있게 하는 것으로 유 명한데, 엘르와 커스틴은 무난하게, 요정과 간호사로 분장했다. 현장은 그야말로 대단해서 ‘우리만 초대장의 메모를 못 읽었나’ 싶었다. 엘르는 “다들 마리 앙투아네트의 고딕풍 의상을 입고 왔어요. 우리만 엄청 튀었죠”라고 했다.', '하지만 그녀는 신경 쓰지 않았다. 10대 초반 시절, 튀지 않으려고 스키니 진에 무채색 톱만 입고 다녔다. 그 후 자기만의 방식을 받아들이고 ‘엘르다움’을 자랑스러워하기로 했다. 그것이 다른 사람들 눈에는 이상하게 보인다고 할지라도 말이다. 예를 들어 졸업 파티 때 그랬다. 엘르와 그녀의 가장 친한 친구인 카시오는 몇 주 동안 서로의 파트너가 되어 졸업 파티에 가기로 약속했다. 하지만 나중에 엘르는 칸에 가야 해서 댄스 파티 참석이 불가능했다. 그때 그녀는 아이디어를 떠올렸다. “둘이 같이 프랑스에 가고, 그걸 우리 버전의 졸업 파티로 만들면 어떨까?” 실제 그렇게 했다. 엘르는 드레스를, 카시오는 턱시도를 입고 레드 카펫에 섰고 행복한 시간을 보냈다. 또 한 번 말하지만 정말 최고의 시간이었다고! 어찌나 즐거웠는지, 다시는 그런 날을 맞이하지 못할까 봐 두려워 서로 그날에 대해 얘기하지 않았을 정도다.', '패닝의 친구들은 세대가 다양하다. 일하면서 만났기 때문이다. 커스틴 던스트와도 끈끈하고 가끔 마이크 밀스 감독과 저녁을 먹는다. 또 놀라울 정도로 많은 시간을 80세의 브루스 던과 통화를 하며 보낸다. 학교 친구들에게도 많이 기대는데(그들의 부모님이 영화 산업을 하고 있는 경우가 많기 때문에, 엘르가 학교를 빠져도 친구들은 잘 이해한다), 친구들이 대학에 가느라 다 떠나서 요즘 걱정이 되긴 한다. 그녀는 지금 싱글이지만, 정신없이 사랑에 빠지는 상상을 하며 멍 때리는 경우가 많다. “저는 정말 로맨틱해요.” 그녀가 말했다. 그러고는 내가 못 들었을까 봐 걱정하는 것처럼 팔을 앞으로 쭉 펴고 소리쳤다. “슈퍼로맨틱!” 하지만 여전히 그녀는 학교 밖에서 사람을 어떻게 만나는지(특히 나와 맞는 사람을 어떻게 만나는지) 잘 모른다.', '“운명이 찾아올 때 저는 카페에 앉아 있을까요? 위에서 스포트라이트가 비출까요? 그런 사람들을 어디서 찾아야 하는지 도무지 모르겠어요. 하지만 자연스럽게 누구를 만나는 마법 같은 일이 분명 있을 거라고 생각해요.” 그녀는 가족을 이루고 싶지만, 1998년생에게는 아직 먼 이야기다. “아직 세상의 고통을 배우지 않은 나이죠. 지금으로선 시간의 흐름을 천천히 따라가고 싶어요.” 그녀는 잠깐 생각하더니 덧붙였다. “우리는 아직 ‘인간’이 아니에요.”', '패닝과 앉아서 디저트를 두 접시나 해치웠더니, 나는 매우 인간이 된 기분이었다. 우리는 소화를 시킬 켬 시내를 걷기로 했다. 맑고 따뜻한 날이었고, 패닝은 봄 내음이 물씬 풍기는 옷을 입었다. 사랑스럽고 풍성한 화이트 오프 숄더 드레스에 샤넬 샌들을 신고, 로샤스의 화이트 빅 백을 들었다. 햇빛 속으로 들어가자마자, 그녀는 파랑과 분홍이 섞인 샤넬 스웨터를 어깨에 걸쳤다. 햇빛을 막으려는 거였다(엘르가 하지 않는 것 추가: 태닝). 우리는 코스튬 가발 가게에 갔고 그녀는 딱 맞는 스타일을 골랐다. 빈티지 숍에도 갔다. <매혹당한 사람들>에서 볼 법한 의상이 몇 벌 있었다. 파스텔 컬러의 긴 플로럴 드레스가.', '패닝은 최근 작품 세 개를 연달아서 여성 감독들과 촬영했다. <매혹당한 사람들>에서 함께한 코폴라에 이어서, 조지아의 사바나라는 도시에 가서 범죄 스릴러 영화 <갤버스턴>을 멜라니 로랑 감독과 찍었고, 곧 뉴욕주 북부로 가서 리드 모라노 감독의 새 영화 <I Think We’re Alone Now>를 찍을 예정이다. (“저랑 피터 딘클리지만 나온다고 보시면 돼요. 그가 지구에 남은 유일한 인간이었는데, 제가 나타나죠.”) 현재는 <틴 스피릿>이라는 영화를 위해 보컬 레슨을 받고 있다. 아메리칸 아이돌 같은 서바이벌 대회를 다루는 영화로 <라라랜드> 제작 팀이 주도한다. 엘르는 “분명한 건, 매우 힘든 도전이 될 거라는 거예요”라고 말했다.', '패닝이 꿈꾸고 있는 진짜 큰 도전은 감독이 되는 거다. “정말로, 정말로 하고 싶어요. 배우는 다른 사람의 비전을 탐험하는 거거든요. 제가 그 비전을 직접 만들면 좋을 것 같아요.” <네온 데몬>의 니콜라스 윈딩 레픈 감독이 자신의 꿈을 지지해줬다고 말했다. 엘르와 인터뷰를 하면 할수록 그녀가 디렉팅한 영화를 보고 싶어졌다. 집중을 잘하고, 똑 부러지며, 자신감 있고, 당장 실천하고 싶은 비전으로 가득했다. “어렵다는 거 알아요. 정말 많은 사람들이 나한테 끊임없이 의문을 제기할 거고요. 엄청난 도전이겠지만, 꼭 하고 싶어요.”', ' ', ' ']\n",
      "----------------------------------------------------------------------------------------------------\n",
      "[195]\n"
     ]
    }
   ],
   "source": [
    "ml = []\n",
    "for i in range(len(v_sl)) :\n",
    "#     print(i)\n",
    "    if '멜라니 로랑' in v_sl.iloc[i,6] :\n",
    "        print(i, '멜라니 로랑')\n",
    "        ml.append(i)\n",
    "        print(v_sl.iloc[i,6])\n",
    "#     else :\n",
    "#         print(i, 'nothing')\n",
    "print('-'*100)\n",
    "print(ml)"
   ]
  },
  {
   "cell_type": "code",
   "execution_count": 64,
   "metadata": {},
   "outputs": [
    {
     "name": "stdout",
     "output_type": "stream",
     "text": [
      "magazine                                                       V\n",
      "brand                                                        YSL\n",
      "category                                                 Fashion\n",
      "title                                                 Swept Away\n",
      "link                   http://www.vogue.co.kr/2017/09/04/128081/\n",
      "date                                                  2017.09.04\n",
      "contents       ['엘르 패닝은 아역 배우에서 반짝반짝 빛나는 아가씨로 성장했다. 또 소피아 코폴라...\n",
      "title_brand                                                    0\n",
      "check                                                          2\n",
      "why                                                          NaN\n",
      "Name: 195, dtype: object\n",
      "----------------------------------------------------------------------------------------------------\n"
     ]
    }
   ],
   "source": [
    "for idx in ml :\n",
    "    v_sl.iloc[idx,8] = 2\n",
    "    print(v_sl.iloc[idx])\n",
    "    print('-'*100)"
   ]
  },
  {
   "cell_type": "code",
   "execution_count": 65,
   "metadata": {},
   "outputs": [
    {
     "name": "stdout",
     "output_type": "stream",
     "text": [
      "success\n"
     ]
    }
   ],
   "source": [
    "v_sl.to_csv('./data/SL/v_sl.csv' , sep='|', mode='w' , encoding='utf-8' , index=False)\n",
    "print('success')"
   ]
  },
  {
   "cell_type": "markdown",
   "metadata": {},
   "source": [
    "### W"
   ]
  },
  {
   "cell_type": "code",
   "execution_count": 66,
   "metadata": {},
   "outputs": [
    {
     "name": "stdout",
     "output_type": "stream",
     "text": [
      "51 멜라니 로랑\n",
      "'내일은 있다.', '아침에 눈을 뜨고 일어날 때, ‘내일’이 다가왔음에 감사해야 할 날이 머지않았다. 인류를 비롯해 전 지구적 위기에 대처해야 할 미래를 떠올리는 오늘. 패션 브랜드들이 ‘지속 가능성(Sustainability)’을 위해 움직이고 있음에, 선한 영향력이 우리의 미래를 바꿔놓을 수 있음에 안도하며. 우리에게, 내일은 있다.', '얼마 전, 밀라노 패션위크에 다녀왔다. 매 시즌 경험하는 패션위크지만 이번엔 분위기가 사뭇 달랐다. 일정을 마치고 공항으로 향하던 날, 폰다지오네 프라다는 화요일의 정기 휴일도 아닌 월요일에 문을 닫았다. 코로나로 불리는 COVID–19 바이러스의 전염 가능성 때문이었다. 이번 시즌 그 영향으로 밀란의 아르마니가 쇼를 취소했고, 이어서 파리 브랜드 중 일부가 쇼를 하지 않거나 일정을 미뤘다. 2월 28일 파리에서 열릴 예정이었던 ‘지속 가능한 패션의 미래(Sustainable Future for Fashion Showcase)’ 행사마저 연기되었다. 나아가 아르마니는 4월 두바이에서 선보일 크루즈 쇼 역시 11월로 연기하기로 결정했다. 버버리는 4월 상하이에서 선보일 F/W 쇼를, 샤넬은 5월의 베이징 공방 쇼를 연기한다고 잇따라 발표했다. 구찌의 샌프란시스코 크루즈 쇼도 새로운 날짜와 장소를 고르고 있다고 밝혔고, 프라다의 5월 리조트 쇼 역시 모든 이의 건강과 안전을 위한 예방 차원에서 연기되었다. 뉴욕 패션위크 기간이 아닌 4월의 뉴욕 F/W 쇼를 선포한 랄프 로렌도 마찬가지였다. 그 대신 마린 세르의 프린트 마스크나 흰 샤넬 카멜리아 코르사주를 검정 마스크에 장식한 채 눈길을 끈 스트리트 패션이 눈에 띄었다. 새로운 패션 액세서리가 된 ‘마스크’는 우리의 이러한 불편한 현실을 대변한다. 호주 산불부터 코로나까지, 모든 순환의 원리에서 그 피해는 우리 자신에게 오롯이 돌아왔다. 영화 <컨테이젼>의 마지막 장면을 상기해보자. 인간의 무분별한 삼림개발로 서식지를 잃은 박쥐가 날아오르며 떨어뜨린 바나나를 돼지가 먹고 그로 인한 바이러스로 죽어가는 인류의 모습은 흡사 현재를 예고한 것 같으니까. 순환의 반작용으로 일어난 바이러스는 이처럼 인류를 시험대에 오르게 했다. 그냥 이대로 주저앉을 것인가, 혹은 이전과 다르게 살 것인가.', '오늘날 패션이 석유 사업 다음으로 환경을 파괴하는 주범이라는 기사를 접하고는 충격에 휩싸였다. 다행히 패션계는 변화하고 있고, 그것이 마케팅이든 퍼포먼스이든 좋은 일은 안 하는 것보다 하는 게 낫다. 환경 파괴의 주범이라는 패션의 오명을 벗게 할 자성의 목소리와 의미 있는 움직임이 지속적으로 일어나는 지금의 패션계. 스텔라 매카트니나 비비안 웨스트우드처럼 지속적으로 환경 메시지에 목소리를 높여온 디자이너 외에도 마린 세르, 에버레인, 제르마니에, 제로 웨이스트 대니얼, E.L.V.데님 등 의식 있는 다수의 신진 디자이너들이 이끄는 브랜드가 강렬한 메시지로 미래를 위한 행동에 나서고 있다. 패션계의 이러한 범지구적 노력을 통해 우리는 ‘희망’을 다시 이야기할 수 있지 않을까. 최근 열린 F/W 패션위크에선 ‘지속 가능한 발전’을 화두로 한 브랜드들의 노력이 유독 눈에 띄었다. 우선 폰다지오네 프라다에서 2020 F/W 여성 쇼를 선보인 프라다는 남성 쇼에 이어 지속 가능한 소재의 사용에 집중했다. 플라스틱에서 얻은 재생 섬유로 만든 소재를 리네아 로사 라인에 접목했고, 패딩에도 사용했다. 한편 디젤이 환경을 위해 노력하는 패션 브랜드들의 글로벌 협약인 ‘패션 팩트(The Fashion Pact)’에 참여한다는 소식과 함께 렌조 로소는 데님의 업사이클링을 선보이는 55DSL 이벤트를 열었다. 2020 S/S 시즌, 아티스틱한 업사이클링 의상을 선보이며 밤비 탈을 쓴 채 피날레 인사를 나눈 마르니의 디자이너 프란체스코 리소는 이번 F/W 시즌에는 무대마저 재활용 소재로 꾸몄다. 또 존 갈리아노는 메종 마르지엘라 쇼를 통해 빈티지 의상의 ‘재활용’을 통한 업사이클링을 대대적으로 실험했는데, 그는 이를 패션 유산의 ‘복원’ 개념으로 설명했다. 즉 빈티지 제품의 복제를 뜻하는 기존의 ‘레플리카(Replica)’를 확장한 ‘레시클라(Recicla)’를 소개하며, 레시클라 라벨을 부착한 신규 아이템을 직접 선정해 한정판 에디션으로 제안한 것. 또 엠포리오 아르마니는 쇼를 통해 재생 울과 데님, 오가닉 코튼과 나일론, 그리고 리사이클링 충전재를 사용한 R–EA 캡슐 컬렉션을 소개했다. 남성 브랜드들 역시 예외는 아니었다. 제냐는 #UseTheExisting이라는 슬로건 아래, 기존 자원의 재활용을 목표로 미국의 멀티미디어 아티스트인 앤 패터슨과 협업했다. 제냐 공장의 잔여 원단으로 제작한 수천 개의 리본으로 드라마틱한 무대를 선사한 것.', '‘우리는 완전히 다르게 살 수 있다(We are entirely free to live differently).’ 환경 운동가이기도 한 작가 조너선 사프란 포어의 이 말이 희망으로 들리는가. 과연 우리가 이전과 다르게 산다면 디스토피아로 향하던 급행열차를 막을 수 있을까. 이 질문에 대해 희망으로 패션을 진두지휘하는 이가 있다. 다름 아닌 환경과 여성을 소리 높여 지지하며, 2001년부터 모든 컬렉션에 가죽과 깃털, 퍼의 사용을 지양했던 디자이너 스텔라 매카트니. 지난해 9월 22일, 밀란 패션위크의 마지막 밤을 수놓은 ‘그린 카펫 패션 어워즈(Green Carpet Fashion Awards)’에서 개척자 상을 수상한 그녀는 2020 S/S 컬렉션을 포괄하는 슬로건으로 조너선의 소설 <We are the Weather>에 나온 이 문구를 룩과 액세서리에 프린팅했다. 얼마 전, 파리에서 선보인 스텔라 매카트니의 F/W 컬렉션은 #Cruelty–Free를 외치며 동물 탈을 쓴 모델들을 런웨이에 등장시켰고, 이전보다 높은 비중의 비건 가죽을 사용했다. 이태리 브루넬로 공장 등에서 자체 개발하고 생산해낸 비동물성 및 PVC 무함유 소재, 비동물성 양가죽과 시어링 등 친환경 소재의 영역을 확장하면서.', '발렌시아가의 뎀나 바잘리아는 ‘지속 가능한 미래’ 에 대한 다채로운 시각을 보여준다. 그는 발렌시아가 2020 F/W 쇼에서 물이 범람하고 불길이 솟구친 듯한 쇼장과 홍수에 잠긴 프런트로를 선보인 무대로 경각심을 불러일으켰다. 올해 초, 호주 산불로 피해 를 입은 코알라를 돕기 위한 채러티 컬렉션을 론칭하고, 지난 연말 마이애미 아트바젤 기간에는 폐기된 발렌시아가 의상을 모아 업사이클링 소파를 선보 이는 등 ‘가능성’의 문을 꾸준히 탐색하고 있다. 얼마 전 영화 <기생충>이 우리에게 삶의 공간을 통해 느끼는 사회 계층의 문제를 다뤘다면, 발렌시아가 유튜브에 최근 공개된 2020 S/S 발렌시아가 캠페인 영상은 여기에 미래와 환경 이슈를 더한다. ‘뉴스룸’ 이라는 재미있는 설정 아래 미래에 있을 법한 환경 문제를 비롯해 정치, 사회면까지 우리가 직면한 이슈를 흥미롭게 다룬 것. 또 발렌시아가는 환경을 넘어 인류의 지속 가능성에 깊은 관심을 두고 다양한 방식으로 실천하고 있다. 지난해 말, 기아 퇴치를 목표로 하는 유엔세계식량계획(WFP)에 수익금의 일부를 전달하는 캡슐 컬렉션도 선보였는데, 이는 2018년 쇼에서 처음 선보인 ‘Saving Lives Changing Lives’ 구호를 앞세운 캠페인에 이은 것이었다.', '10년 전 한 선배는 아이를 낳지 않겠다고 선언했다. 그 이유인즉, 미래의 오염된 환경에서 힘겹게 살아 갈 아이들이 너무 불쌍하다는 논리였다. 지금 일곱 살 딸, 60대 부모님과 함께 코로나 사태 속에 살아 가고 있는 내겐 그 당시 선배의 선언이 때때로 옛 노랫가사처럼 아련히 귓가에 맴돈다. 그런 면에서 마린 세르 쇼에 등장한, ‘가족’이라는 관계를 암시하는 모델들의 워킹은 뭉클한 감정을 불러일으켰다. 현재 가장 핫한 라이징 디자이너로 각광받고 있는 마린 세르의 화두는 언제나 ‘미래’로 향해 있다. 그녀는 파리 컬렉션을 통해 업사이클링과 퓨처 웨어를 선보이며 디스토피아적 미래를 강렬하게 그렸다. 아이코닉한 초승달 패턴으로 인기를 얻은 룩에서 나아가 쇼에 어린이 모델을 등장시키고, 마스크 패션으로 암울한 미래적 패션을 이야기하는 방식으로 희망을 찾는 걸까. 최근 선보인 2020 S/S 시즌 캠페인 이미지는 종말론 이후 네 곳의 지역 사회에 대한 이야기를 들려주며 우리의 습관적인 안일함에 경종을 울린다. 생존을 위해 모습이 변형된 미래의 여성이 등장하고, 기계 꽃이 피어나며, 물을 빼앗긴 잃어버린 낙원의 풍경이 펼쳐진 것. 고도화한 기계 문명 속에서 우리에게 주어질 적막한 현실을 미리 응시하게 하는 마린 세르의 캠페인은 이토록 아름답고 슬프다. 한편 로로피아나가 선보인 3부작 다큐멘터리 필름에는 척박한 몽골 대자연의 풍광이 담긴 유토피아가 펼쳐진다. 감독 뤽 자케와 공동 제작한 영상에는 우리가 자연에서 얻는 진귀한 소재에 대한 이야기가 잔잔하게 흘러간다. 로로피아나는 재생 가능한 캐시미어 섬유를 얻기 위해 자연의 생명 주기를 살핀다. 속털이 자연스럽게 빠지는 시기에 털을 빗어서 섬유를 수집하는 것이다. 가장 순수한 섬유인 캐시미어를 얻기 위한 지속 가능한 노력과 몽골의 염소와 허약한 생태계를 보호하겠다는 브랜드 의 윤리적 신념도 영상에 함께 담았다.', '‘미니멀리즘’이 사회 전반적인 화두로 떠오른 지난 해, 동명의 다큐멘터리와 한 옷장 정리 해결사의 리얼리티 프로그램이 인기를 얻었다. 사실 패션의 환경 이슈는 비비안 웨스트우드의 말처럼 대량 생산 이전의 과거로 돌아가 ‘좋은 옷을 오래 입는 일’ 자체가 해답이 될 수도 있다. 자신의 취향에 맞는 브랜드의 좋은 의상을 선택적으로 구입하고, 잘 관리해서 오래 즐거움을 느끼는 현명함과 세심한 노력 말이다. 이러한 태도는 가치 소비에 집중하는 밀레니얼 세대에게도 어필한다. 밀레니얼 세대의 75％가 지속 가능성을 고려한 제품이라면 비싼 값을 주고라도 구매할 의사가 있다고 한 조사 결과는 지속 가능한 미래에 그린 라이트를 켠다. 이들에게 어필하기 위해 브랜드들이 가장 집중하고 있는 것이 바로 친환경 소재 개발이다. 최근에 유네스코와 해양 보호 관련 협약을 맺고 학생들을 위한 프로그램인 ‘Sea Beyond’를 진행한 프라다는 대대적인 ‘리나일론 (Re–Nylon) 프로젝트’를 강력하게 펼친다. 내셔널 지오그래픽과 협업한 영상에서 나일론을 쏟아내는 차량의 폐섬유들이 하늘에 흩날리는 이미지로 깊은 인상을 남긴 프라다. 낚시 그물, 방직용 섬유 폐기물 등 플라스틱 폐기물의 재활용 및 정화 공정을 통해 섬유 생산 업체 아쿠아필과 협업하여 새로운 재생 나일론 ‘에코닐(Econyl2)’을 개발했다. 품질의 손상 없이 무한정으로 쓸 수 있는 것이 특징으로, 이 리나일론 프로젝트를 통해 기존의 나일론 제품 생산을 2021년 말까지 중단하겠다고 밝혔기도. 그러니 조만간 프라다의 모든 리나일론 백에는 브랜드의 전통적인 삼각형 로고와 함께 ‘재생’과 ‘순환’을 의미하는 로고가 더해질 것이다.', '에르노는 최근 지속 가능한 친환경 프로젝트를 특징으로 하는 ‘Herno Globe’를 선보였다. 패브릭의 84%는 재활용 나일론과 지퍼, 버튼으로 구성되며, 충전재는 친환경적 제조 과정을 통해 수급된 다운 소재를 사용했다. 또한 환경에 미치는 영향을 최소화하기 위해 친환경 염료를 사용했다. 양파와 같은 유기농 재료들은 노르스름한 색상을 내는 데 쓰였으며 보라색은 포도, 회색과 검은색은 대나무 숯, 초록색은 올리브, 파란색은 푸른 나뭇잎으로 만들어졌다. 또 브랜드 이름부터 환경에 대한 의식이 깃든 대니얼 실버스타인의 ‘제로 웨이스트 대니얼 (Zero Waste Daniel)’. 그의 컬렉션은 비영리 단체인 ‘Sure We Can’과 협력해 플라스틱 오염 문제를 다루며, 브루클린을 기반으로 다른 디자이너들이 쓰레기 매립지에 버리려고 한 고순환의 직물 찌꺼기로 옷을 만든다.', '이뿐만이 아니다. 기존에 가죽 액세서리를 주요 아이템으로 선보이거나 SPA 브랜드라는 타이틀로 눈총을 받은 브랜드들 역시 새로운 변화를 감행해 호응을 얻고 있다. 살바토레 페라가모의 젊고 지속 가능한 캡슐 컬렉션인 ‘42 Degrees’는 옥수수 등의 유기 섬유로 만든 깔창과 첨단 소재 폴리머에서 얻은 비화학적인 공정의 실로 이산화탄소 배출을 감소시켰다. 그런가 하면 지난해 멀버리는 탄소 중립 공장에서 친환경 가죽과 재활용 소재 실로 만든 포토벨로 백을 선보였다. 가죽 무두질 공장에서 만든 헤비 그레인 가죽은 식품 생산 과정에서 발생한 부산물로 만들어진 것. 더구나 이 백을 구입한 모든 고객들에게 멀버리의 평생 수선 서비스를 제공하며, 포토벨로 백의 수익금 전액은 열대우림 보호를 위한 ‘월드 랜드 트러스트’에 기부된다. 이어서 올해 선보인 멀버리의 환경 친화적인 ‘M 컬렉션’ 역시 혁신적인 재생 나일론과 지속 가능한 면 소재로 제작되었다. 한편 ‘순환 혁신’을 핵심으로 하는 H&M의 컨셔스 익스클루시브 S/S 컬렉션도 눈길을 끈다. 이전 컬렉션에서 사용하고 남은 재활용 글라스 비드 장식과 버려진 포도껍질과 줄기를 재활용한 혁신적인 비건 레더 소재인 비제아™ (VEGEA™) 등 다채로운 업사이클링 소재가 특징이다.', '나아가 패션 산업 환경을 바꾸려는 의지도 눈에 띈다. 우선 구찌의 2020 S/S 컬렉션은 지속 가능성을 향한 패션 브랜드의 변화를 여실히 보여준다. 구찌는 ‘탄소 중립화(Carbon Neutral)’를 선언하며 컬렉션을 통해 배출된 CO2 배출량을 만회하기 위해 쇼에 참석한 관중 수에 해당하는 나무를 심는 글로벌 산림 보존 지원 사업 ‘REDD+’를 공개했다.이를 통해 2018년을 기준으로 44만125톤에 달하는 이산화 탄소 배출을 줄이는 성과를 내기도. 동시에 브랜드의 사업 활동을 비롯해 매장, 사무실, 창고 등의 재생 에너지 비중도 확대해 이산화탄소 배출량을 약 45,800톤 감소할 예정이다. 또한 전 세계 핵심 생태계 보존 및 복원을 위한 노력에도 적극적으로 지원하고 있다.', 'S/S 시즌 쇼장에 160그루가 넘는 나무로 숲을 재현한 디올의 마리아 그라치아 치우리. 그녀는 패션이 단순히 환상을 전하는 쇼가 아닌 미래를 위한 프로젝트임을 선포했으며, 최근 디올 하우스는 루브르 박물관과 협업해 향후 5년간 파리의 튈르리 정원을 복원하는 프로젝트를 시작했다. 한편 네타포르테는 넷서스테인의 2020년 확장을 기념하며 환경에 미치는 요소를 최대한 고려한 광고 캠페인을 공개했다. 맥퀸 플라워와 함께 재활용 꽃과 재료로 작업하여 폐기물을 줄이는 동시에 버려진 꽃에 두 번째 생명을 불어넣어 만든 플로럴 예술 작품을 만들어낸 것이다. 나아가 네타포르테는 지속 가능성에 대한 목적의식을 가지고 모든 패션 촬영에 여행을 최소화할 것, 최대한 자연광을 사용할 것, 외주 제작사에 촬영 현장에서 플라스틱과 일회용 플라스틱 제품의 사용을 자제할 것 등을 요청하고 있다.', '다큐멘터리 <내일>은 감독 시릴 디옹과 프랑스 여배우 멜라니 로랑이 함께 지속 가능한 미래를 찾아 떠난 여정을 담았다. 동명의 책으로도 출간되어 베스트셀러에 오른 이 작품의 제목은 묵직한 의미를 지닌다. 막연한 미래(Future)가 아닌 바로 내일(Tomorrow)이 우리의 앞날, 혹은 마지막 날이 될 수 있기에. 2100년에 지구와 인류의 멸망을 예고한 한 리포트를 접한 그들이 ‘내일’을 바로 세우기 위해 희망의 증거를 수집하며 이야기는 시작된다. 그리고 여러 나라를 돌아다니며 지속 가능한 농업과 신 재생 에너지, 경제 및 교육 방면에서 더 나은 내일을 위해 노력하는 사람들을 만난다. 이 프로젝트를 처음 기획할 당시 멜라니 로랑은 임신 중이었고, 그들은 궁극적으로 후대에 시선을 고정했다. 그래서 ‘오늘’의 이러한 노력이 계속된다면 우리의 미래인 ‘내일’ 역시 나아질 수 있다는 메시지는 어린이들을 위한 그림책으로도 출간됐다.', '일상의 혁명이 필요한 오늘, 2016년 LA에서 스텔라 매카트니와 나눈 인터뷰는 우리에게 유의미한 메시지를 되새긴다. “나는 늘 생각해요. 왜 나는 일을 이렇게 힘들게 할까. 하지만 금방 깨닫곤 하죠. 난 쉽게 하는 일에는 관심이 없다는 사실을요. 물론 아직 어떤 최종 목적지에 도달하진 않았어요. 그 길에 도달하기 위해 노력하고, 걸어가고 있는 중이랍니다. 이를 위해선 스스로에 대한 강한 믿음, 자신감, 용기가 필요하죠.” 네 아이의 엄마이기도 한 그녀는 오늘도 그 약속을 실천 중이다. 사실 언제나 미래는 불확실성을 전제로 해왔지만 적어도 과정을 통해 확실성에 접근해왔다. 그것이 바로 과거-현재-미래로 이어지는 ‘순환’ 관계가 아닐까. 이런 점에서 패션도 지속 가능 움직임의 주축이 될 수 있을 것이다. 일례로 샤넬이 올해 안에 완공할 예정인 ‘19M’이라는 이름의 공방 공동체는 지속 가능한 성장의 대안에 대해 생각하게 한다. 그리고 ‘우리 모두 리얼리스트가 되자. 그러나 가슴속엔 불가능한 꿈을 지니자’라는 체 게바라의 말은 이러한 패션 혁명가들에 의해 실천되며 내일을 꿈꾸게 한다.'\n",
      "157 멜라니 로랑\n",
      "'여성들의 마음을 훔칠 새로운 주인공.', '‘욕조’라는 뜻을 지닌, 그 이름마저 유혹적인 베누아(Baignoire) 워치. 카트린 드뇌브와 잔 모로 같은 은막의 여인들이 사랑한 바로 그 워치가 놀랍게 변화했다. 1912년, 까르띠에가 처음 선보인 욕조를 닮은 독창적인 타원형에 아름다움을 향한 끝없는 갈망을 더해, 한층 더 모던하고 대담한 디자인으로 변신한 2019년의 베누아 컬렉션. 동시대 여성들의 마음을 훔칠 새로운 주인공을 탄생시킨 까르띠에 메종의 크리에이티브 디렉터 마리 로르 세레드를 만났다.', '까르띠에에서 당신의 역할을 무엇인가? 만나서 반갑다. 난 메종의 아이덴티티에 기대어 우아하고 아름다운 디자인을 이끌어내는 의미 있는 작업을 한다. 워치메이킹 분야에서 생각한다면, 까르띠에의 고객은 시계의 외관이나 기술적 디테일보다 스타일을 더욱 중요하게 생각하기에 어떠한 디자인도 실현할 수 있는 방법을 최선을 다해 고민한다. 즉, 아이코닉한 워치 모델을 재해석하고 메종의 새로운 시그너처 스타일을 제안하는 창의성을 보여주는 일 말이다. 100여 년 전에 트렌디했을 까르띠에 워치가 지금은 클래식이 되었듯, 내일을 위한 클래식을 선보이기 위해 노력하고 있다.', '다시 부활한 산토스와 팬더 컬렉션에 이어 올해는 베누아 워치가 돌아왔다. 그 의미와 메시지는 무엇일까? 전달하려는 메시지는 무수히 많다. 베누아는 특별한 방식으로 프렌치 시크 스타일을 표현하는 까르띠에 컬렉션이다. 물론, 우아한 취향의 ‘뭘 좀 아는 여자’들에게는 이미 알려져 있지만 아직 충분하지 않다고 생각한다. 그래서 이번 베누아의 디자인에 혼신을 쏟았고, 아이코닉 베누아를 비롯해 베누아 알롱제와 끌루 드 파리 버전의 세 가지 라인으로 구성했다. 물론 제작 과정에서는 도전이 필요했다. 우선 아이코닉 베누아 모델을 위해선 오리지널 디자인을 최대한 보존하는 동시에 오늘날의 고객들 기준을 충족하도록 안팎으로 품질을 향상하는 작업을 진행했다. 나아가 다이아몬드가 세팅된 아이코닉 베누아를 통해선 전문적인 주얼리 메이킹 기술을 드러내고 싶었다.', '개인적으로 아이코닉 베누아 워치와 베누아 알롱제 워치 중 어느 모델을 더 선호하나? 나는 지금 베젤에 다이아몬드가 파베 세팅된 핑크 골드 베누아 알롱제 워치를 착용하고 있지만, 상황에 따라 다른 워치를 선택할 수도 있다. 일례로 일상에서는 오리지널 버전을 착용하고, 특별한 날이나 파티가 있을 때는 알롱제를 착용해 기분 전환을 하면 어떨까.', '2019 SIHH 베누아 컬렉션 중 가장 눈여겨볼 제품은 무엇인가? 취향에 따라 다르겠지만, 제작 과정에서 목표를 달성하기가 가장 어려웠던 끌루 드 파리 버전을 추천하고 싶다. 이 특별한 버전은 끌루 드 파리 모티프를 베젤 위에 이어 붙인 것이 아니라 금 조각 위에 직접 하나하나 조각해 우아한 디자인에 강렬함을 더했다. 지나치게 경계를 벗어나지 않으면서 특별한 요소를 더하는 과정이 사실 굉장한 모험이었고, 그 과정에서 균형을 찾아야만 했다.', '베누아의 새로운 디자인을 고심하며 가장 주의를 기울인 점은 무엇인가? 바로 ‘시그너처’다. 즉, 한눈에 까르띠에의 작품임을 알아볼 수 있는 디자인에 집중했다. 특히 장인 정신과 퀄리티, 그리고 스타일의 모든 측면에서 고유한 ‘까르띠에 스타일’에 가장 큰 관심을 기울였고, 그 세 가지 요소의 조화를 이루고자 노력했다.', '베누아는 ‘욕조’라는 뜻을 지닌 채, 1900년대 초반의 귀족적인 삶을 영위하는 여성상을 반영해왔다. 그렇다면 새로운 베누아는 오늘날 어떠한 여성상을 반영하나? 베누아는 예나 지금이나 여성의 품격을 드러내는 오브제다. 실제로 많은 유명 인사들이 베누아를 착용하고 있는데, 최근 프랑스의 배우 겸 감독인 멜라니 로랑과 샤를로트 갱스부르 등이 베누아 워치를 선택했다. 이처럼 우아하면서도 관능적인 여성들이 자신만의 독자적이고 세련된 매력을 표현하기에 제격인 워치가 아닐까.'\n",
      "----------------------------------------------------------------------------------------------------\n",
      "[51, 157]\n"
     ]
    }
   ],
   "source": [
    "ml = []\n",
    "for i in range(len(w_sl)) :\n",
    "#     print(i)\n",
    "    if '멜라니 로랑' in w_sl.iloc[i,6] :\n",
    "        print(i, '멜라니 로랑')\n",
    "        ml.append(i)\n",
    "        print(w_sl.iloc[i,6])\n",
    "#     else :\n",
    "#         print(i, 'nothing')\n",
    "print('-'*100)\n",
    "print(ml)"
   ]
  },
  {
   "cell_type": "code",
   "execution_count": 67,
   "metadata": {},
   "outputs": [
    {
     "name": "stdout",
     "output_type": "stream",
     "text": [
      "magazine                                                       W\n",
      "brand                                                        YSL\n",
      "category                                             FASHION, 뉴스\n",
      "title                                     지속 가능성을 위해 움직이는 패션 브랜드\n",
      "link           http://www.wkorea.com/2020/04/03/%ec%a7%80%ec%...\n",
      "date                                                  2020-04-03\n",
      "contents       '내일은 있다.', '아침에 눈을 뜨고 일어날 때, ‘내일’이 다가왔음에 감사해야 ...\n",
      "title_brand                                                    0\n",
      "check                                                          2\n",
      "why                                                          NaN\n",
      "Name: 51, dtype: object\n",
      "----------------------------------------------------------------------------------------------------\n",
      "magazine                                                       W\n",
      "brand                                                        YSL\n",
      "category                                             FASHION, 뉴스\n",
      "title                                                   욕조 안의 시간\n",
      "link           http://www.wkorea.com/2019/03/13/%ec%9a%95%ec%...\n",
      "date                                                  2019-03-13\n",
      "contents       '여성들의 마음을 훔칠 새로운 주인공.', '‘욕조’라는 뜻을 지닌, 그 이름마저 ...\n",
      "title_brand                                                    0\n",
      "check                                                          2\n",
      "why                                                          NaN\n",
      "Name: 157, dtype: object\n",
      "----------------------------------------------------------------------------------------------------\n"
     ]
    }
   ],
   "source": [
    "for idx in ml :\n",
    "    w_sl.iloc[idx,8] = 2\n",
    "    print(w_sl.iloc[idx])\n",
    "    print('-'*100)"
   ]
  },
  {
   "cell_type": "code",
   "execution_count": 68,
   "metadata": {},
   "outputs": [
    {
     "name": "stdout",
     "output_type": "stream",
     "text": [
      "success\n"
     ]
    }
   ],
   "source": [
    "w_sl.to_csv('./data/SL/w_sl.csv' , sep='|', mode='w' , encoding='utf-8' , index=False)\n",
    "print('success')"
   ]
  },
  {
   "cell_type": "code",
   "execution_count": null,
   "metadata": {},
   "outputs": [],
   "source": []
  }
 ],
 "metadata": {
  "kernelspec": {
   "display_name": "Python 3",
   "language": "python",
   "name": "python3"
  },
  "language_info": {
   "codemirror_mode": {
    "name": "ipython",
    "version": 3
   },
   "file_extension": ".py",
   "mimetype": "text/x-python",
   "name": "python",
   "nbconvert_exporter": "python",
   "pygments_lexer": "ipython3",
   "version": "3.7.6"
  }
 },
 "nbformat": 4,
 "nbformat_minor": 4
}
