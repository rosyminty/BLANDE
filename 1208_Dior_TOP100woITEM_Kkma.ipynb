{
 "cells": [
  {
   "cell_type": "code",
   "execution_count": 1,
   "metadata": {},
   "outputs": [],
   "source": [
    "import pandas as pd\n",
    "import numpy as np"
   ]
  },
  {
   "cell_type": "code",
   "execution_count": 2,
   "metadata": {
    "scrolled": true
   },
   "outputs": [
    {
     "data": {
      "text/html": [
       "<div>\n",
       "<style scoped>\n",
       "    .dataframe tbody tr th:only-of-type {\n",
       "        vertical-align: middle;\n",
       "    }\n",
       "\n",
       "    .dataframe tbody tr th {\n",
       "        vertical-align: top;\n",
       "    }\n",
       "\n",
       "    .dataframe thead th {\n",
       "        text-align: right;\n",
       "    }\n",
       "</style>\n",
       "<table border=\"1\" class=\"dataframe\">\n",
       "  <thead>\n",
       "    <tr style=\"text-align: right;\">\n",
       "      <th></th>\n",
       "      <th>magazine</th>\n",
       "      <th>brand</th>\n",
       "      <th>category</th>\n",
       "      <th>title</th>\n",
       "      <th>link</th>\n",
       "      <th>date</th>\n",
       "      <th>contents</th>\n",
       "      <th>title_brand</th>\n",
       "      <th>check</th>\n",
       "      <th>word_dior</th>\n",
       "      <th>sentences_tag</th>\n",
       "      <th>ADFN</th>\n",
       "      <th>item</th>\n",
       "    </tr>\n",
       "  </thead>\n",
       "  <tbody>\n",
       "    <tr>\n",
       "      <th>0</th>\n",
       "      <td>A</td>\n",
       "      <td>D</td>\n",
       "      <td>FASHION</td>\n",
       "      <td>빈티지 쇼핑의 시대</td>\n",
       "      <td>http://www.allurekorea.com/2020/10/27/%eb%b9%8...</td>\n",
       "      <td>2020-10-27</td>\n",
       "      <td>['20년이 지난 패션템에 새로운 활기가 돈다. 바야흐로 빈티지 쇼핑의 시대다.',...</td>\n",
       "      <td>0</td>\n",
       "      <td>0</td>\n",
       "      <td>['그러니 빈티지 패션은, 어쩌면 나도 좋고 너도 좋은 일이다. 당시 사랑했던, 지...</td>\n",
       "      <td>[('[', 'SS'), (\"'\", 'SS'), ('그러', 'VV'), ('니',...</td>\n",
       "      <td>['좋', '좋', '사랑', '사랑', '새롭', '사랑', '좋', '옷', '...</td>\n",
       "      <td>['옷', '데님', '재킷', '재킷', '재킷', '팬츠', '가방', 'DIOR']</td>\n",
       "    </tr>\n",
       "    <tr>\n",
       "      <th>1</th>\n",
       "      <td>A</td>\n",
       "      <td>D</td>\n",
       "      <td>FASHION</td>\n",
       "      <td>주식을 시작한 패션 에디터의 이야기, 나는 주주다</td>\n",
       "      <td>http://www.allurekorea.com/2020/10/16/%ec%a3%b...</td>\n",
       "      <td>2020-10-16</td>\n",
       "      <td>['주식의 ‘주’자도 모르는 패션 에디터가 주식에 눈뜨려 하는 순간. 이번 시즌 가...</td>\n",
       "      <td>0</td>\n",
       "      <td>0</td>\n",
       "      <td>['  요즘 들어 주식은 친구들과의 대화에서 빼놓을 수 없는 주제가 되었다. 코로나...</td>\n",
       "      <td>[('[', 'SS'), (\"'\", 'SS'), ('요즘', 'NNG'), ('듣'...</td>\n",
       "      <td>['새롭', '세계', '생각', '세계', 'DIOR', '가방', '가방', '...</td>\n",
       "      <td>['DIOR', '가방', '가방', '가방', 'DIOR']</td>\n",
       "    </tr>\n",
       "    <tr>\n",
       "      <th>2</th>\n",
       "      <td>A</td>\n",
       "      <td>D</td>\n",
       "      <td>FASHION</td>\n",
       "      <td>거리로 나온 하이패션 슈즈들 4</td>\n",
       "      <td>http://www.allurekorea.com/2020/09/16/%eb%a6%a...</td>\n",
       "      <td>2020-09-16</td>\n",
       "      <td>['나이키의 조던 시리즈들 중에서도 역대급으로 평가받는 ‘에어 디올’은 부르는 게 ...</td>\n",
       "      <td>0</td>\n",
       "      <td>0</td>\n",
       "      <td>[\"['나이키의 조던 시리즈들 중에서도 역대급으로 평가받는 ‘에어 디올’은 부르는 ...</td>\n",
       "      <td>[('[', 'SS'), ('\"', 'SS'), ('[', 'SS'), (\"'\", ...</td>\n",
       "      <td>['DIOR', '하우스', '브랜드', '슈즈', 'DIOR', '작품', 'DI...</td>\n",
       "      <td>['DIOR', '슈즈', 'DIOR', 'DIOR', 'DIOR']</td>\n",
       "    </tr>\n",
       "    <tr>\n",
       "      <th>3</th>\n",
       "      <td>A</td>\n",
       "      <td>D</td>\n",
       "      <td>FASHION</td>\n",
       "      <td>차정원부터 아이린까지. 옷 잘입는 셀럽들의 사복 패션에 등장한 뉴 백은 무엇?</td>\n",
       "      <td>http://www.allurekorea.com/2020/08/13/%ec%b0%a...</td>\n",
       "      <td>2020-08-13</td>\n",
       "      <td>['셀럽들의 데일리룩에서 캐치한 뉴 백!', '@ch_amii', '지갑, 핸드폰,...</td>\n",
       "      <td>0</td>\n",
       "      <td>0</td>\n",
       "      <td>['디올 레이디 디올 디올아무르 미니백 5백만원대']</td>\n",
       "      <td>[('[', 'SS'), (\"'\", 'SS'), ('DIOR', 'OL'), ('L...</td>\n",
       "      <td>['DIOR', 'LADY', 'DIOR', 'DIOR']</td>\n",
       "      <td>['DIOR', 'DIOR', 'DIOR']</td>\n",
       "    </tr>\n",
       "    <tr>\n",
       "      <th>4</th>\n",
       "      <td>A</td>\n",
       "      <td>D</td>\n",
       "      <td>CELEBRITY</td>\n",
       "      <td>DON’T CATEGORIZE ME / 유태오</td>\n",
       "      <td>http://www.allurekorea.com/2020/05/28/dont-cat...</td>\n",
       "      <td>2020-05-28</td>\n",
       "      <td>['“Don’t Categorize Me.” 그가 말했다. 배우 유태오는 더없이 자...</td>\n",
       "      <td>0</td>\n",
       "      <td>0</td>\n",
       "      <td>['실크 슬리브리스와 블랙 와이드 팬츠는 김서룡 옴므. 블랙 부츠는 보테가 베네타....</td>\n",
       "      <td>[('[', 'SS'), (\"'\", 'SS'), ('실크', 'NNG'), ('슬리...</td>\n",
       "      <td>['블랙', '팬츠', 'HOMME', '블랙', 'DIOR', 'DIOR']</td>\n",
       "      <td>['팬츠', '부츠', 'DIOR', 'DIOR']</td>\n",
       "    </tr>\n",
       "    <tr>\n",
       "      <th>...</th>\n",
       "      <td>...</td>\n",
       "      <td>...</td>\n",
       "      <td>...</td>\n",
       "      <td>...</td>\n",
       "      <td>...</td>\n",
       "      <td>...</td>\n",
       "      <td>...</td>\n",
       "      <td>...</td>\n",
       "      <td>...</td>\n",
       "      <td>...</td>\n",
       "      <td>...</td>\n",
       "      <td>...</td>\n",
       "      <td>...</td>\n",
       "    </tr>\n",
       "    <tr>\n",
       "      <th>1754</th>\n",
       "      <td>W</td>\n",
       "      <td>D</td>\n",
       "      <td>FASHION, 쇼핑, 트렌드</td>\n",
       "      <td>가을의 하이킹</td>\n",
       "      <td>http://www.wkorea.com/2016/09/05/%ea%b0%80%ec%...</td>\n",
       "      <td>2016-09-05</td>\n",
       "      <td>'깊은 산과 거친 계곡, 험준한 바위를 오르내리는 트레킹화의 변신.\\n\\n1. 밀리...</td>\n",
       "      <td>0</td>\n",
       "      <td>0</td>\n",
       "      <td>['6. 주얼 장식과 앙증맞은 리본이 반전의 매력을 더하는 부츠는 디올 제품. 1백...</td>\n",
       "      <td>[('[', 'SS'), (\"'\", 'SS'), ('6', 'NR'), ('.', ...</td>\n",
       "      <td>['장식', 'DIOR', '제품']</td>\n",
       "      <td>['부츠', 'DIOR']</td>\n",
       "    </tr>\n",
       "    <tr>\n",
       "      <th>1755</th>\n",
       "      <td>W</td>\n",
       "      <td>D</td>\n",
       "      <td>FASHION, 뉴스</td>\n",
       "      <td>W해시태그</td>\n",
       "      <td>http://www.wkorea.com/2016/09/02/w%ed%95%b4%ec...</td>\n",
       "      <td>2016-09-02</td>\n",
       "      <td>'패션&amp;뷰티 아이템, 핫 스폿, 영화, 전시 등 더블유 에디터의 날카롭고 감각적인 ...</td>\n",
       "      <td>0</td>\n",
       "      <td>0</td>\n",
       "      <td>['#W뷰티콕  (뷰티 디렉터 송시은)\\\\n조회 2,023회\\\\n너무나 뜨거운 여름...</td>\n",
       "      <td>[('[', 'SS'), (\"'\", 'SS'), ('#', 'SW'), ('W', ...</td>\n",
       "      <td>['뷰티', '뷰티', '디렉터', '여름', '뷰티', '브랜드', '컬러', '...</td>\n",
       "      <td>['DIOR', '코트', 'DIOR']</td>\n",
       "    </tr>\n",
       "    <tr>\n",
       "      <th>1756</th>\n",
       "      <td>W</td>\n",
       "      <td>D</td>\n",
       "      <td>FASHION, 뉴스</td>\n",
       "      <td>마법의 색</td>\n",
       "      <td>http://www.wkorea.com/2016/09/02/%eb%a7%88%eb%...</td>\n",
       "      <td>2016-09-02</td>\n",
       "      <td>'크리스찬 디올에게 초록은 곧 ‘자연’을, 빨강은 ‘생명’을, 분홍은 ‘감미로움’을...</td>\n",
       "      <td>0</td>\n",
       "      <td>0</td>\n",
       "      <td>[\"'크리스찬 디올에게 초록은 곧 ‘자연’을, 빨강은 ‘생명’을, 분홍은 ‘감미로움...</td>\n",
       "      <td>[('[', 'SS'), ('\"', 'SS'), (\"'\", 'SS'), ('CHRI...</td>\n",
       "      <td>['CHRISTIAN', 'DIOR', 'DIOR', 'DIOR', '컬러', '세...</td>\n",
       "      <td>['DIOR', 'DIOR', 'DIOR', 'DIOR', 'DIOR', 'DIOR']</td>\n",
       "    </tr>\n",
       "    <tr>\n",
       "      <th>1757</th>\n",
       "      <td>W</td>\n",
       "      <td>D</td>\n",
       "      <td>FASHION, 화보</td>\n",
       "      <td>따로 또 같이</td>\n",
       "      <td>http://www.wkorea.com/2016/09/02/%eb%94%b0%eb%...</td>\n",
       "      <td>2016-09-02</td>\n",
       "      <td>'새로운 시즌을 맞아 더 모호하고 더 자유로운 방식으로 진화하고 있는 젠더 블렌딩 ...</td>\n",
       "      <td>0</td>\n",
       "      <td>0</td>\n",
       "      <td>['자수 장식 슈트, 실크 셔츠에 리본 타이를 연출한 구찌, 남성다운 검정 테일러드...</td>\n",
       "      <td>[('[', 'SS'), (\"'\", 'SS'), ('자수', 'NNG'), ('장식...</td>\n",
       "      <td>['장식', '슈트', '셔츠', '슈트', '장식', '선택', 'DIOR', '...</td>\n",
       "      <td>['슈트', '셔츠', '슈트', 'DIOR', '슈트', '셔츠', '슈트']</td>\n",
       "    </tr>\n",
       "    <tr>\n",
       "      <th>1758</th>\n",
       "      <td>W</td>\n",
       "      <td>D</td>\n",
       "      <td>FASHION, 트렌드</td>\n",
       "      <td>너도 나도 베트멍</td>\n",
       "      <td>http://www.wkorea.com/2016/09/01/%eb%84%88%eb%...</td>\n",
       "      <td>2016-09-01</td>\n",
       "      <td>'패션계에서 노바운더리 시대의 전후를 가르는 존재가 된 베트멍. 그 대표 아이템은 ...</td>\n",
       "      <td>0</td>\n",
       "      <td>0</td>\n",
       "      <td>['리하나\\\\n나이 만28세\\\\n직업 가수, 디자이너, 패셔니스타, 배드 걸\\\\n평...</td>\n",
       "      <td>[('[', 'SS'), (\"'\", 'SS'), ('리', 'NNG'), ('하나'...</td>\n",
       "      <td>['디자이너', '스타일', 'DIOR', '드레스', '디자이너', '새롭', '...</td>\n",
       "      <td>['DIOR', '드레스', '스커트', '티셔츠', '팬츠', '부츠']</td>\n",
       "    </tr>\n",
       "  </tbody>\n",
       "</table>\n",
       "<p>1759 rows × 13 columns</p>\n",
       "</div>"
      ],
      "text/plain": [
       "     magazine brand          category  \\\n",
       "0           A     D           FASHION   \n",
       "1           A     D           FASHION   \n",
       "2           A     D           FASHION   \n",
       "3           A     D           FASHION   \n",
       "4           A     D         CELEBRITY   \n",
       "...       ...   ...               ...   \n",
       "1754        W     D  FASHION, 쇼핑, 트렌드   \n",
       "1755        W     D       FASHION, 뉴스   \n",
       "1756        W     D       FASHION, 뉴스   \n",
       "1757        W     D       FASHION, 화보   \n",
       "1758        W     D      FASHION, 트렌드   \n",
       "\n",
       "                                            title  \\\n",
       "0                                      빈티지 쇼핑의 시대   \n",
       "1                     주식을 시작한 패션 에디터의 이야기, 나는 주주다   \n",
       "2                               거리로 나온 하이패션 슈즈들 4   \n",
       "3     차정원부터 아이린까지. 옷 잘입는 셀럽들의 사복 패션에 등장한 뉴 백은 무엇?   \n",
       "4                       DON’T CATEGORIZE ME / 유태오   \n",
       "...                                           ...   \n",
       "1754                                      가을의 하이킹   \n",
       "1755                                        W해시태그   \n",
       "1756                                        마법의 색   \n",
       "1757                                      따로 또 같이   \n",
       "1758                                    너도 나도 베트멍   \n",
       "\n",
       "                                                   link        date  \\\n",
       "0     http://www.allurekorea.com/2020/10/27/%eb%b9%8...  2020-10-27   \n",
       "1     http://www.allurekorea.com/2020/10/16/%ec%a3%b...  2020-10-16   \n",
       "2     http://www.allurekorea.com/2020/09/16/%eb%a6%a...  2020-09-16   \n",
       "3     http://www.allurekorea.com/2020/08/13/%ec%b0%a...  2020-08-13   \n",
       "4     http://www.allurekorea.com/2020/05/28/dont-cat...  2020-05-28   \n",
       "...                                                 ...         ...   \n",
       "1754  http://www.wkorea.com/2016/09/05/%ea%b0%80%ec%...  2016-09-05   \n",
       "1755  http://www.wkorea.com/2016/09/02/w%ed%95%b4%ec...  2016-09-02   \n",
       "1756  http://www.wkorea.com/2016/09/02/%eb%a7%88%eb%...  2016-09-02   \n",
       "1757  http://www.wkorea.com/2016/09/02/%eb%94%b0%eb%...  2016-09-02   \n",
       "1758  http://www.wkorea.com/2016/09/01/%eb%84%88%eb%...  2016-09-01   \n",
       "\n",
       "                                               contents  title_brand  check  \\\n",
       "0     ['20년이 지난 패션템에 새로운 활기가 돈다. 바야흐로 빈티지 쇼핑의 시대다.',...            0      0   \n",
       "1     ['주식의 ‘주’자도 모르는 패션 에디터가 주식에 눈뜨려 하는 순간. 이번 시즌 가...            0      0   \n",
       "2     ['나이키의 조던 시리즈들 중에서도 역대급으로 평가받는 ‘에어 디올’은 부르는 게 ...            0      0   \n",
       "3     ['셀럽들의 데일리룩에서 캐치한 뉴 백!', '@ch_amii', '지갑, 핸드폰,...            0      0   \n",
       "4     ['“Don’t Categorize Me.” 그가 말했다. 배우 유태오는 더없이 자...            0      0   \n",
       "...                                                 ...          ...    ...   \n",
       "1754  '깊은 산과 거친 계곡, 험준한 바위를 오르내리는 트레킹화의 변신.\\n\\n1. 밀리...            0      0   \n",
       "1755  '패션&뷰티 아이템, 핫 스폿, 영화, 전시 등 더블유 에디터의 날카롭고 감각적인 ...            0      0   \n",
       "1756  '크리스찬 디올에게 초록은 곧 ‘자연’을, 빨강은 ‘생명’을, 분홍은 ‘감미로움’을...            0      0   \n",
       "1757  '새로운 시즌을 맞아 더 모호하고 더 자유로운 방식으로 진화하고 있는 젠더 블렌딩 ...            0      0   \n",
       "1758  '패션계에서 노바운더리 시대의 전후를 가르는 존재가 된 베트멍. 그 대표 아이템은 ...            0      0   \n",
       "\n",
       "                                              word_dior  \\\n",
       "0     ['그러니 빈티지 패션은, 어쩌면 나도 좋고 너도 좋은 일이다. 당시 사랑했던, 지...   \n",
       "1     ['  요즘 들어 주식은 친구들과의 대화에서 빼놓을 수 없는 주제가 되었다. 코로나...   \n",
       "2     [\"['나이키의 조던 시리즈들 중에서도 역대급으로 평가받는 ‘에어 디올’은 부르는 ...   \n",
       "3                         ['디올 레이디 디올 디올아무르 미니백 5백만원대']   \n",
       "4     ['실크 슬리브리스와 블랙 와이드 팬츠는 김서룡 옴므. 블랙 부츠는 보테가 베네타....   \n",
       "...                                                 ...   \n",
       "1754  ['6. 주얼 장식과 앙증맞은 리본이 반전의 매력을 더하는 부츠는 디올 제품. 1백...   \n",
       "1755  ['#W뷰티콕  (뷰티 디렉터 송시은)\\\\n조회 2,023회\\\\n너무나 뜨거운 여름...   \n",
       "1756  [\"'크리스찬 디올에게 초록은 곧 ‘자연’을, 빨강은 ‘생명’을, 분홍은 ‘감미로움...   \n",
       "1757  ['자수 장식 슈트, 실크 셔츠에 리본 타이를 연출한 구찌, 남성다운 검정 테일러드...   \n",
       "1758  ['리하나\\\\n나이 만28세\\\\n직업 가수, 디자이너, 패셔니스타, 배드 걸\\\\n평...   \n",
       "\n",
       "                                          sentences_tag  \\\n",
       "0     [('[', 'SS'), (\"'\", 'SS'), ('그러', 'VV'), ('니',...   \n",
       "1     [('[', 'SS'), (\"'\", 'SS'), ('요즘', 'NNG'), ('듣'...   \n",
       "2     [('[', 'SS'), ('\"', 'SS'), ('[', 'SS'), (\"'\", ...   \n",
       "3     [('[', 'SS'), (\"'\", 'SS'), ('DIOR', 'OL'), ('L...   \n",
       "4     [('[', 'SS'), (\"'\", 'SS'), ('실크', 'NNG'), ('슬리...   \n",
       "...                                                 ...   \n",
       "1754  [('[', 'SS'), (\"'\", 'SS'), ('6', 'NR'), ('.', ...   \n",
       "1755  [('[', 'SS'), (\"'\", 'SS'), ('#', 'SW'), ('W', ...   \n",
       "1756  [('[', 'SS'), ('\"', 'SS'), (\"'\", 'SS'), ('CHRI...   \n",
       "1757  [('[', 'SS'), (\"'\", 'SS'), ('자수', 'NNG'), ('장식...   \n",
       "1758  [('[', 'SS'), (\"'\", 'SS'), ('리', 'NNG'), ('하나'...   \n",
       "\n",
       "                                                   ADFN  \\\n",
       "0     ['좋', '좋', '사랑', '사랑', '새롭', '사랑', '좋', '옷', '...   \n",
       "1     ['새롭', '세계', '생각', '세계', 'DIOR', '가방', '가방', '...   \n",
       "2     ['DIOR', '하우스', '브랜드', '슈즈', 'DIOR', '작품', 'DI...   \n",
       "3                      ['DIOR', 'LADY', 'DIOR', 'DIOR']   \n",
       "4           ['블랙', '팬츠', 'HOMME', '블랙', 'DIOR', 'DIOR']   \n",
       "...                                                 ...   \n",
       "1754                               ['장식', 'DIOR', '제품']   \n",
       "1755  ['뷰티', '뷰티', '디렉터', '여름', '뷰티', '브랜드', '컬러', '...   \n",
       "1756  ['CHRISTIAN', 'DIOR', 'DIOR', 'DIOR', '컬러', '세...   \n",
       "1757  ['장식', '슈트', '셔츠', '슈트', '장식', '선택', 'DIOR', '...   \n",
       "1758  ['디자이너', '스타일', 'DIOR', '드레스', '디자이너', '새롭', '...   \n",
       "\n",
       "                                                   item  \n",
       "0     ['옷', '데님', '재킷', '재킷', '재킷', '팬츠', '가방', 'DIOR']  \n",
       "1                    ['DIOR', '가방', '가방', '가방', 'DIOR']  \n",
       "2                ['DIOR', '슈즈', 'DIOR', 'DIOR', 'DIOR']  \n",
       "3                              ['DIOR', 'DIOR', 'DIOR']  \n",
       "4                          ['팬츠', '부츠', 'DIOR', 'DIOR']  \n",
       "...                                                 ...  \n",
       "1754                                     ['부츠', 'DIOR']  \n",
       "1755                             ['DIOR', '코트', 'DIOR']  \n",
       "1756   ['DIOR', 'DIOR', 'DIOR', 'DIOR', 'DIOR', 'DIOR']  \n",
       "1757       ['슈트', '셔츠', '슈트', 'DIOR', '슈트', '셔츠', '슈트']  \n",
       "1758          ['DIOR', '드레스', '스커트', '티셔츠', '팬츠', '부츠']  \n",
       "\n",
       "[1759 rows x 13 columns]"
      ]
     },
     "execution_count": 2,
     "metadata": {},
     "output_type": "execute_result"
    }
   ],
   "source": [
    "magazine_di = pd.read_csv('./data/d/magazine_D.csv' , sep='|', encoding='utf-8')\n",
    "magazine_di"
   ]
  },
  {
   "cell_type": "code",
   "execution_count": 3,
   "metadata": {
    "scrolled": true
   },
   "outputs": [],
   "source": [
    "# magazine_di.drop('why', axis=1, inplace=True)"
   ]
  },
  {
   "cell_type": "code",
   "execution_count": 4,
   "metadata": {},
   "outputs": [],
   "source": [
    "magazine_di.to_csv('./data/d/magazine_D.csv', index = False, sep ='|', encoding = 'utf-8')"
   ]
  },
  {
   "cell_type": "code",
   "execution_count": 5,
   "metadata": {
    "scrolled": true
   },
   "outputs": [
    {
     "data": {
      "text/html": [
       "<div>\n",
       "<style scoped>\n",
       "    .dataframe tbody tr th:only-of-type {\n",
       "        vertical-align: middle;\n",
       "    }\n",
       "\n",
       "    .dataframe tbody tr th {\n",
       "        vertical-align: top;\n",
       "    }\n",
       "\n",
       "    .dataframe thead th {\n",
       "        text-align: right;\n",
       "    }\n",
       "</style>\n",
       "<table border=\"1\" class=\"dataframe\">\n",
       "  <thead>\n",
       "    <tr style=\"text-align: right;\">\n",
       "      <th></th>\n",
       "      <th>magazine</th>\n",
       "      <th>brand</th>\n",
       "      <th>category</th>\n",
       "      <th>title</th>\n",
       "      <th>link</th>\n",
       "      <th>date</th>\n",
       "      <th>contents</th>\n",
       "      <th>title_brand</th>\n",
       "      <th>check</th>\n",
       "      <th>word_dior</th>\n",
       "      <th>sentences_tag</th>\n",
       "      <th>ADFN</th>\n",
       "      <th>item</th>\n",
       "    </tr>\n",
       "  </thead>\n",
       "  <tbody>\n",
       "    <tr>\n",
       "      <th>0</th>\n",
       "      <td>A</td>\n",
       "      <td>D</td>\n",
       "      <td>FASHION</td>\n",
       "      <td>빈티지 쇼핑의 시대</td>\n",
       "      <td>http://www.allurekorea.com/2020/10/27/%eb%b9%8...</td>\n",
       "      <td>2020-10-27</td>\n",
       "      <td>['20년이 지난 패션템에 새로운 활기가 돈다. 바야흐로 빈티지 쇼핑의 시대다.',...</td>\n",
       "      <td>0</td>\n",
       "      <td>0</td>\n",
       "      <td>['그러니 빈티지 패션은, 어쩌면 나도 좋고 너도 좋은 일이다. 당시 사랑했던, 지...</td>\n",
       "      <td>[('[', 'SS'), (\"'\", 'SS'), ('그러', 'VV'), ('니',...</td>\n",
       "      <td>['좋', '좋', '사랑', '사랑', '새롭', '사랑', '좋', '옷', '...</td>\n",
       "      <td>['옷', '데님', '재킷', '재킷', '재킷', '팬츠', '가방', 'DIOR']</td>\n",
       "    </tr>\n",
       "    <tr>\n",
       "      <th>1</th>\n",
       "      <td>A</td>\n",
       "      <td>D</td>\n",
       "      <td>FASHION</td>\n",
       "      <td>주식을 시작한 패션 에디터의 이야기, 나는 주주다</td>\n",
       "      <td>http://www.allurekorea.com/2020/10/16/%ec%a3%b...</td>\n",
       "      <td>2020-10-16</td>\n",
       "      <td>['주식의 ‘주’자도 모르는 패션 에디터가 주식에 눈뜨려 하는 순간. 이번 시즌 가...</td>\n",
       "      <td>0</td>\n",
       "      <td>0</td>\n",
       "      <td>['  요즘 들어 주식은 친구들과의 대화에서 빼놓을 수 없는 주제가 되었다. 코로나...</td>\n",
       "      <td>[('[', 'SS'), (\"'\", 'SS'), ('요즘', 'NNG'), ('듣'...</td>\n",
       "      <td>['새롭', '세계', '생각', '세계', 'DIOR', '가방', '가방', '...</td>\n",
       "      <td>['DIOR', '가방', '가방', '가방', 'DIOR']</td>\n",
       "    </tr>\n",
       "    <tr>\n",
       "      <th>2</th>\n",
       "      <td>A</td>\n",
       "      <td>D</td>\n",
       "      <td>FASHION</td>\n",
       "      <td>거리로 나온 하이패션 슈즈들 4</td>\n",
       "      <td>http://www.allurekorea.com/2020/09/16/%eb%a6%a...</td>\n",
       "      <td>2020-09-16</td>\n",
       "      <td>['나이키의 조던 시리즈들 중에서도 역대급으로 평가받는 ‘에어 디올’은 부르는 게 ...</td>\n",
       "      <td>0</td>\n",
       "      <td>0</td>\n",
       "      <td>[\"['나이키의 조던 시리즈들 중에서도 역대급으로 평가받는 ‘에어 디올’은 부르는 ...</td>\n",
       "      <td>[('[', 'SS'), ('\"', 'SS'), ('[', 'SS'), (\"'\", ...</td>\n",
       "      <td>['DIOR', '하우스', '브랜드', '슈즈', 'DIOR', '작품', 'DI...</td>\n",
       "      <td>['DIOR', '슈즈', 'DIOR', 'DIOR', 'DIOR']</td>\n",
       "    </tr>\n",
       "    <tr>\n",
       "      <th>3</th>\n",
       "      <td>A</td>\n",
       "      <td>D</td>\n",
       "      <td>FASHION</td>\n",
       "      <td>차정원부터 아이린까지. 옷 잘입는 셀럽들의 사복 패션에 등장한 뉴 백은 무엇?</td>\n",
       "      <td>http://www.allurekorea.com/2020/08/13/%ec%b0%a...</td>\n",
       "      <td>2020-08-13</td>\n",
       "      <td>['셀럽들의 데일리룩에서 캐치한 뉴 백!', '@ch_amii', '지갑, 핸드폰,...</td>\n",
       "      <td>0</td>\n",
       "      <td>0</td>\n",
       "      <td>['디올 레이디 디올 디올아무르 미니백 5백만원대']</td>\n",
       "      <td>[('[', 'SS'), (\"'\", 'SS'), ('DIOR', 'OL'), ('L...</td>\n",
       "      <td>['DIOR', 'LADY', 'DIOR', 'DIOR']</td>\n",
       "      <td>['DIOR', 'DIOR', 'DIOR']</td>\n",
       "    </tr>\n",
       "    <tr>\n",
       "      <th>4</th>\n",
       "      <td>A</td>\n",
       "      <td>D</td>\n",
       "      <td>CELEBRITY</td>\n",
       "      <td>DON’T CATEGORIZE ME / 유태오</td>\n",
       "      <td>http://www.allurekorea.com/2020/05/28/dont-cat...</td>\n",
       "      <td>2020-05-28</td>\n",
       "      <td>['“Don’t Categorize Me.” 그가 말했다. 배우 유태오는 더없이 자...</td>\n",
       "      <td>0</td>\n",
       "      <td>0</td>\n",
       "      <td>['실크 슬리브리스와 블랙 와이드 팬츠는 김서룡 옴므. 블랙 부츠는 보테가 베네타....</td>\n",
       "      <td>[('[', 'SS'), (\"'\", 'SS'), ('실크', 'NNG'), ('슬리...</td>\n",
       "      <td>['블랙', '팬츠', 'HOMME', '블랙', 'DIOR', 'DIOR']</td>\n",
       "      <td>['팬츠', '부츠', 'DIOR', 'DIOR']</td>\n",
       "    </tr>\n",
       "    <tr>\n",
       "      <th>...</th>\n",
       "      <td>...</td>\n",
       "      <td>...</td>\n",
       "      <td>...</td>\n",
       "      <td>...</td>\n",
       "      <td>...</td>\n",
       "      <td>...</td>\n",
       "      <td>...</td>\n",
       "      <td>...</td>\n",
       "      <td>...</td>\n",
       "      <td>...</td>\n",
       "      <td>...</td>\n",
       "      <td>...</td>\n",
       "      <td>...</td>\n",
       "    </tr>\n",
       "    <tr>\n",
       "      <th>1754</th>\n",
       "      <td>W</td>\n",
       "      <td>D</td>\n",
       "      <td>FASHION, 쇼핑, 트렌드</td>\n",
       "      <td>가을의 하이킹</td>\n",
       "      <td>http://www.wkorea.com/2016/09/05/%ea%b0%80%ec%...</td>\n",
       "      <td>2016-09-05</td>\n",
       "      <td>'깊은 산과 거친 계곡, 험준한 바위를 오르내리는 트레킹화의 변신.\\n\\n1. 밀리...</td>\n",
       "      <td>0</td>\n",
       "      <td>0</td>\n",
       "      <td>['6. 주얼 장식과 앙증맞은 리본이 반전의 매력을 더하는 부츠는 디올 제품. 1백...</td>\n",
       "      <td>[('[', 'SS'), (\"'\", 'SS'), ('6', 'NR'), ('.', ...</td>\n",
       "      <td>['장식', 'DIOR', '제품']</td>\n",
       "      <td>['부츠', 'DIOR']</td>\n",
       "    </tr>\n",
       "    <tr>\n",
       "      <th>1755</th>\n",
       "      <td>W</td>\n",
       "      <td>D</td>\n",
       "      <td>FASHION, 뉴스</td>\n",
       "      <td>W해시태그</td>\n",
       "      <td>http://www.wkorea.com/2016/09/02/w%ed%95%b4%ec...</td>\n",
       "      <td>2016-09-02</td>\n",
       "      <td>'패션&amp;뷰티 아이템, 핫 스폿, 영화, 전시 등 더블유 에디터의 날카롭고 감각적인 ...</td>\n",
       "      <td>0</td>\n",
       "      <td>0</td>\n",
       "      <td>['#W뷰티콕  (뷰티 디렉터 송시은)\\\\n조회 2,023회\\\\n너무나 뜨거운 여름...</td>\n",
       "      <td>[('[', 'SS'), (\"'\", 'SS'), ('#', 'SW'), ('W', ...</td>\n",
       "      <td>['뷰티', '뷰티', '디렉터', '여름', '뷰티', '브랜드', '컬러', '...</td>\n",
       "      <td>['DIOR', '코트', 'DIOR']</td>\n",
       "    </tr>\n",
       "    <tr>\n",
       "      <th>1756</th>\n",
       "      <td>W</td>\n",
       "      <td>D</td>\n",
       "      <td>FASHION, 뉴스</td>\n",
       "      <td>마법의 색</td>\n",
       "      <td>http://www.wkorea.com/2016/09/02/%eb%a7%88%eb%...</td>\n",
       "      <td>2016-09-02</td>\n",
       "      <td>'크리스찬 디올에게 초록은 곧 ‘자연’을, 빨강은 ‘생명’을, 분홍은 ‘감미로움’을...</td>\n",
       "      <td>0</td>\n",
       "      <td>0</td>\n",
       "      <td>[\"'크리스찬 디올에게 초록은 곧 ‘자연’을, 빨강은 ‘생명’을, 분홍은 ‘감미로움...</td>\n",
       "      <td>[('[', 'SS'), ('\"', 'SS'), (\"'\", 'SS'), ('CHRI...</td>\n",
       "      <td>['CHRISTIAN', 'DIOR', 'DIOR', 'DIOR', '컬러', '세...</td>\n",
       "      <td>['DIOR', 'DIOR', 'DIOR', 'DIOR', 'DIOR', 'DIOR']</td>\n",
       "    </tr>\n",
       "    <tr>\n",
       "      <th>1757</th>\n",
       "      <td>W</td>\n",
       "      <td>D</td>\n",
       "      <td>FASHION, 화보</td>\n",
       "      <td>따로 또 같이</td>\n",
       "      <td>http://www.wkorea.com/2016/09/02/%eb%94%b0%eb%...</td>\n",
       "      <td>2016-09-02</td>\n",
       "      <td>'새로운 시즌을 맞아 더 모호하고 더 자유로운 방식으로 진화하고 있는 젠더 블렌딩 ...</td>\n",
       "      <td>0</td>\n",
       "      <td>0</td>\n",
       "      <td>['자수 장식 슈트, 실크 셔츠에 리본 타이를 연출한 구찌, 남성다운 검정 테일러드...</td>\n",
       "      <td>[('[', 'SS'), (\"'\", 'SS'), ('자수', 'NNG'), ('장식...</td>\n",
       "      <td>['장식', '슈트', '셔츠', '슈트', '장식', '선택', 'DIOR', '...</td>\n",
       "      <td>['슈트', '셔츠', '슈트', 'DIOR', '슈트', '셔츠', '슈트']</td>\n",
       "    </tr>\n",
       "    <tr>\n",
       "      <th>1758</th>\n",
       "      <td>W</td>\n",
       "      <td>D</td>\n",
       "      <td>FASHION, 트렌드</td>\n",
       "      <td>너도 나도 베트멍</td>\n",
       "      <td>http://www.wkorea.com/2016/09/01/%eb%84%88%eb%...</td>\n",
       "      <td>2016-09-01</td>\n",
       "      <td>'패션계에서 노바운더리 시대의 전후를 가르는 존재가 된 베트멍. 그 대표 아이템은 ...</td>\n",
       "      <td>0</td>\n",
       "      <td>0</td>\n",
       "      <td>['리하나\\\\n나이 만28세\\\\n직업 가수, 디자이너, 패셔니스타, 배드 걸\\\\n평...</td>\n",
       "      <td>[('[', 'SS'), (\"'\", 'SS'), ('리', 'NNG'), ('하나'...</td>\n",
       "      <td>['디자이너', '스타일', 'DIOR', '드레스', '디자이너', '새롭', '...</td>\n",
       "      <td>['DIOR', '드레스', '스커트', '티셔츠', '팬츠', '부츠']</td>\n",
       "    </tr>\n",
       "  </tbody>\n",
       "</table>\n",
       "<p>1759 rows × 13 columns</p>\n",
       "</div>"
      ],
      "text/plain": [
       "     magazine brand          category  \\\n",
       "0           A     D           FASHION   \n",
       "1           A     D           FASHION   \n",
       "2           A     D           FASHION   \n",
       "3           A     D           FASHION   \n",
       "4           A     D         CELEBRITY   \n",
       "...       ...   ...               ...   \n",
       "1754        W     D  FASHION, 쇼핑, 트렌드   \n",
       "1755        W     D       FASHION, 뉴스   \n",
       "1756        W     D       FASHION, 뉴스   \n",
       "1757        W     D       FASHION, 화보   \n",
       "1758        W     D      FASHION, 트렌드   \n",
       "\n",
       "                                            title  \\\n",
       "0                                      빈티지 쇼핑의 시대   \n",
       "1                     주식을 시작한 패션 에디터의 이야기, 나는 주주다   \n",
       "2                               거리로 나온 하이패션 슈즈들 4   \n",
       "3     차정원부터 아이린까지. 옷 잘입는 셀럽들의 사복 패션에 등장한 뉴 백은 무엇?   \n",
       "4                       DON’T CATEGORIZE ME / 유태오   \n",
       "...                                           ...   \n",
       "1754                                      가을의 하이킹   \n",
       "1755                                        W해시태그   \n",
       "1756                                        마법의 색   \n",
       "1757                                      따로 또 같이   \n",
       "1758                                    너도 나도 베트멍   \n",
       "\n",
       "                                                   link        date  \\\n",
       "0     http://www.allurekorea.com/2020/10/27/%eb%b9%8...  2020-10-27   \n",
       "1     http://www.allurekorea.com/2020/10/16/%ec%a3%b...  2020-10-16   \n",
       "2     http://www.allurekorea.com/2020/09/16/%eb%a6%a...  2020-09-16   \n",
       "3     http://www.allurekorea.com/2020/08/13/%ec%b0%a...  2020-08-13   \n",
       "4     http://www.allurekorea.com/2020/05/28/dont-cat...  2020-05-28   \n",
       "...                                                 ...         ...   \n",
       "1754  http://www.wkorea.com/2016/09/05/%ea%b0%80%ec%...  2016-09-05   \n",
       "1755  http://www.wkorea.com/2016/09/02/w%ed%95%b4%ec...  2016-09-02   \n",
       "1756  http://www.wkorea.com/2016/09/02/%eb%a7%88%eb%...  2016-09-02   \n",
       "1757  http://www.wkorea.com/2016/09/02/%eb%94%b0%eb%...  2016-09-02   \n",
       "1758  http://www.wkorea.com/2016/09/01/%eb%84%88%eb%...  2016-09-01   \n",
       "\n",
       "                                               contents  title_brand  check  \\\n",
       "0     ['20년이 지난 패션템에 새로운 활기가 돈다. 바야흐로 빈티지 쇼핑의 시대다.',...            0      0   \n",
       "1     ['주식의 ‘주’자도 모르는 패션 에디터가 주식에 눈뜨려 하는 순간. 이번 시즌 가...            0      0   \n",
       "2     ['나이키의 조던 시리즈들 중에서도 역대급으로 평가받는 ‘에어 디올’은 부르는 게 ...            0      0   \n",
       "3     ['셀럽들의 데일리룩에서 캐치한 뉴 백!', '@ch_amii', '지갑, 핸드폰,...            0      0   \n",
       "4     ['“Don’t Categorize Me.” 그가 말했다. 배우 유태오는 더없이 자...            0      0   \n",
       "...                                                 ...          ...    ...   \n",
       "1754  '깊은 산과 거친 계곡, 험준한 바위를 오르내리는 트레킹화의 변신.\\n\\n1. 밀리...            0      0   \n",
       "1755  '패션&뷰티 아이템, 핫 스폿, 영화, 전시 등 더블유 에디터의 날카롭고 감각적인 ...            0      0   \n",
       "1756  '크리스찬 디올에게 초록은 곧 ‘자연’을, 빨강은 ‘생명’을, 분홍은 ‘감미로움’을...            0      0   \n",
       "1757  '새로운 시즌을 맞아 더 모호하고 더 자유로운 방식으로 진화하고 있는 젠더 블렌딩 ...            0      0   \n",
       "1758  '패션계에서 노바운더리 시대의 전후를 가르는 존재가 된 베트멍. 그 대표 아이템은 ...            0      0   \n",
       "\n",
       "                                              word_dior  \\\n",
       "0     ['그러니 빈티지 패션은, 어쩌면 나도 좋고 너도 좋은 일이다. 당시 사랑했던, 지...   \n",
       "1     ['  요즘 들어 주식은 친구들과의 대화에서 빼놓을 수 없는 주제가 되었다. 코로나...   \n",
       "2     [\"['나이키의 조던 시리즈들 중에서도 역대급으로 평가받는 ‘에어 디올’은 부르는 ...   \n",
       "3                         ['디올 레이디 디올 디올아무르 미니백 5백만원대']   \n",
       "4     ['실크 슬리브리스와 블랙 와이드 팬츠는 김서룡 옴므. 블랙 부츠는 보테가 베네타....   \n",
       "...                                                 ...   \n",
       "1754  ['6. 주얼 장식과 앙증맞은 리본이 반전의 매력을 더하는 부츠는 디올 제품. 1백...   \n",
       "1755  ['#W뷰티콕  (뷰티 디렉터 송시은)\\\\n조회 2,023회\\\\n너무나 뜨거운 여름...   \n",
       "1756  [\"'크리스찬 디올에게 초록은 곧 ‘자연’을, 빨강은 ‘생명’을, 분홍은 ‘감미로움...   \n",
       "1757  ['자수 장식 슈트, 실크 셔츠에 리본 타이를 연출한 구찌, 남성다운 검정 테일러드...   \n",
       "1758  ['리하나\\\\n나이 만28세\\\\n직업 가수, 디자이너, 패셔니스타, 배드 걸\\\\n평...   \n",
       "\n",
       "                                          sentences_tag  \\\n",
       "0     [('[', 'SS'), (\"'\", 'SS'), ('그러', 'VV'), ('니',...   \n",
       "1     [('[', 'SS'), (\"'\", 'SS'), ('요즘', 'NNG'), ('듣'...   \n",
       "2     [('[', 'SS'), ('\"', 'SS'), ('[', 'SS'), (\"'\", ...   \n",
       "3     [('[', 'SS'), (\"'\", 'SS'), ('DIOR', 'OL'), ('L...   \n",
       "4     [('[', 'SS'), (\"'\", 'SS'), ('실크', 'NNG'), ('슬리...   \n",
       "...                                                 ...   \n",
       "1754  [('[', 'SS'), (\"'\", 'SS'), ('6', 'NR'), ('.', ...   \n",
       "1755  [('[', 'SS'), (\"'\", 'SS'), ('#', 'SW'), ('W', ...   \n",
       "1756  [('[', 'SS'), ('\"', 'SS'), (\"'\", 'SS'), ('CHRI...   \n",
       "1757  [('[', 'SS'), (\"'\", 'SS'), ('자수', 'NNG'), ('장식...   \n",
       "1758  [('[', 'SS'), (\"'\", 'SS'), ('리', 'NNG'), ('하나'...   \n",
       "\n",
       "                                                   ADFN  \\\n",
       "0     ['좋', '좋', '사랑', '사랑', '새롭', '사랑', '좋', '옷', '...   \n",
       "1     ['새롭', '세계', '생각', '세계', 'DIOR', '가방', '가방', '...   \n",
       "2     ['DIOR', '하우스', '브랜드', '슈즈', 'DIOR', '작품', 'DI...   \n",
       "3                      ['DIOR', 'LADY', 'DIOR', 'DIOR']   \n",
       "4           ['블랙', '팬츠', 'HOMME', '블랙', 'DIOR', 'DIOR']   \n",
       "...                                                 ...   \n",
       "1754                               ['장식', 'DIOR', '제품']   \n",
       "1755  ['뷰티', '뷰티', '디렉터', '여름', '뷰티', '브랜드', '컬러', '...   \n",
       "1756  ['CHRISTIAN', 'DIOR', 'DIOR', 'DIOR', '컬러', '세...   \n",
       "1757  ['장식', '슈트', '셔츠', '슈트', '장식', '선택', 'DIOR', '...   \n",
       "1758  ['디자이너', '스타일', 'DIOR', '드레스', '디자이너', '새롭', '...   \n",
       "\n",
       "                                                   item  \n",
       "0     ['옷', '데님', '재킷', '재킷', '재킷', '팬츠', '가방', 'DIOR']  \n",
       "1                    ['DIOR', '가방', '가방', '가방', 'DIOR']  \n",
       "2                ['DIOR', '슈즈', 'DIOR', 'DIOR', 'DIOR']  \n",
       "3                              ['DIOR', 'DIOR', 'DIOR']  \n",
       "4                          ['팬츠', '부츠', 'DIOR', 'DIOR']  \n",
       "...                                                 ...  \n",
       "1754                                     ['부츠', 'DIOR']  \n",
       "1755                             ['DIOR', '코트', 'DIOR']  \n",
       "1756   ['DIOR', 'DIOR', 'DIOR', 'DIOR', 'DIOR', 'DIOR']  \n",
       "1757       ['슈트', '셔츠', '슈트', 'DIOR', '슈트', '셔츠', '슈트']  \n",
       "1758          ['DIOR', '드레스', '스커트', '티셔츠', '팬츠', '부츠']  \n",
       "\n",
       "[1759 rows x 13 columns]"
      ]
     },
     "execution_count": 5,
     "metadata": {},
     "output_type": "execute_result"
    }
   ],
   "source": [
    "magazine_di = pd.read_csv('./data/d/magazine_D.csv' , sep='|', encoding='utf-8')\n",
    "magazine_di"
   ]
  },
  {
   "cell_type": "code",
   "execution_count": 6,
   "metadata": {},
   "outputs": [
    {
     "data": {
      "text/plain": [
       "\"['그러니 빈티지 패션은, 어쩌면 나도 좋고 너도 좋은 일이다. 당시 사랑했던, 지금 사랑하지 않는 나의 물건들이 새로운 사랑을 받는 것도 좋은 일이다. 그래서 요즘은 빈티지 물건에 대해 중고임을 뜻하는 ‘Used’보다 ‘소장된(Pre-Owned)’을 사용하거나, ‘사랑받은(Pre-Loved)’ 물건으로 표기하는 일이 늘었다. 나는 요즘 지금보다 패션에 열정적이었던 때 구입한 옷을 다시 꺼내보는 즐거움에 빠져 있다. 더 이상 어울리지 않는 것은 새 주인을 찾아주기도 한다(내가 이렇게 짧은 걸 입고 다녔다니! 이렇게 높은 걸 신었다니!). 새로 산 토템 데님에 8년 된 미스지 컬렉션의 긴 재킷을 입고, 아크네의 슬랙스에 15년 된 아르마니 재킷을 입는 식이다. 당대의 미감을 쏟아부은 이 재킷들은 여전히 라인이 선명하고 다시 돌아온 1990년대 무드와도 잘 맞는다. 13년 전에 사고 잊어버렸던 DKNY의 팬츠는 당시 유행대로 밑위가 조금 짧지만 바지 라인만큼은 지금 막 나온 것 같다. 가방은 어떤가. 오래된 디올의 새들백은 당근마켓으로 팔아버렸지만 사회초년생 시절 구입한 루이 비통이며 페라가모 백은 너무 튼튼한 데다 클래식해 보이기까지 해서 열심히 들기로 한다(게다가 아직도 라인이 유지되는 스테디!). 정금자의 샤넬 브리프케이스가 탐이 나는가? 현재 파페치의 ‘Positively FARFETCH’ 코너에서 1995년 제작된 브리프케이스가 7백85만원에 팔리고 있다. 그러니 당장, 빈티지의 무드에 동참하시기를!']\""
      ]
     },
     "execution_count": 6,
     "metadata": {},
     "output_type": "execute_result"
    }
   ],
   "source": [
    "magazine_di['word_dior'][0]"
   ]
  },
  {
   "cell_type": "code",
   "execution_count": 7,
   "metadata": {},
   "outputs": [
    {
     "data": {
      "text/plain": [
       "1759"
      ]
     },
     "execution_count": 7,
     "metadata": {},
     "output_type": "execute_result"
    }
   ],
   "source": [
    "len(magazine_di)"
   ]
  },
  {
   "cell_type": "markdown",
   "metadata": {},
   "source": [
    "## Kkma"
   ]
  },
  {
   "cell_type": "code",
   "execution_count": 8,
   "metadata": {},
   "outputs": [],
   "source": [
    "from konlpy.tag import Kkma\n",
    "kkma = Kkma()"
   ]
  },
  {
   "cell_type": "code",
   "execution_count": 9,
   "metadata": {},
   "outputs": [],
   "source": [
    "didi = []\n",
    "for line in magazine_di['word_dior']:\n",
    "    didi.append(line)"
   ]
  },
  {
   "cell_type": "code",
   "execution_count": 10,
   "metadata": {},
   "outputs": [
    {
     "data": {
      "text/plain": [
       "list"
      ]
     },
     "execution_count": 10,
     "metadata": {},
     "output_type": "execute_result"
    }
   ],
   "source": [
    "type(didi)"
   ]
  },
  {
   "cell_type": "markdown",
   "metadata": {},
   "source": [
    "### 외국어 안잘리게 영어로"
   ]
  },
  {
   "cell_type": "code",
   "execution_count": 11,
   "metadata": {},
   "outputs": [
    {
     "name": "stdout",
     "output_type": "stream",
     "text": [
      "155\n"
     ]
    }
   ],
   "source": [
    "FN = []\n",
    "for idx in range(len(didi)) :\n",
    "    if '마리아 그라치아 치우리' in didi[idx] :\n",
    "        didi[idx] = didi[idx].replace('마리아 그라치아 치우리' , 'Maria Grazia Chiuri')\n",
    "        FN.append(idx)\n",
    "#         print(idx, slsl[idx])\n",
    "print(len(FN))"
   ]
  },
  {
   "cell_type": "code",
   "execution_count": 12,
   "metadata": {},
   "outputs": [
    {
     "name": "stdout",
     "output_type": "stream",
     "text": [
      "41\n"
     ]
    }
   ],
   "source": [
    "FN = []\n",
    "for idx in range(len(didi)) :\n",
    "    if '마리아 그라치아 키우리' in didi[idx] :\n",
    "        didi[idx] = didi[idx].replace('마리아 그라치아 키우리' , 'Maria Grazia Chiuri')\n",
    "        FN.append(idx)\n",
    "#         print(idx, slsl[idx])\n",
    "print(len(FN))"
   ]
  },
  {
   "cell_type": "code",
   "execution_count": 13,
   "metadata": {},
   "outputs": [
    {
     "name": "stdout",
     "output_type": "stream",
     "text": [
      "76\n"
     ]
    }
   ],
   "source": [
    "FN = []\n",
    "for idx in range(len(didi)) :\n",
    "    if '그라치아' in didi[idx] :\n",
    "        didi[idx] = didi[idx].replace('그라치아' , 'Grazia')\n",
    "        FN.append(idx)\n",
    "#         print(idx, slsl[idx])\n",
    "print(len(FN))"
   ]
  },
  {
   "cell_type": "code",
   "execution_count": 14,
   "metadata": {},
   "outputs": [
    {
     "name": "stdout",
     "output_type": "stream",
     "text": [
      "0\n"
     ]
    }
   ],
   "source": [
    "FN = []\n",
    "for idx in range(len(didi)) :\n",
    "    if '마리아 GRAZIA' in didi[idx] :\n",
    "        didi[idx] = didi[idx].replace('마리아 GRAZIA' , 'MARIA Grazia')\n",
    "        FN.append(idx)\n",
    "#         print(idx, slsl[idx])\n",
    "print(len(FN))"
   ]
  },
  {
   "cell_type": "code",
   "execution_count": 15,
   "metadata": {},
   "outputs": [
    {
     "name": "stdout",
     "output_type": "stream",
     "text": [
      "1610\n"
     ]
    }
   ],
   "source": [
    "FN = []\n",
    "for idx in range(len(didi)) :\n",
    "    if '디올' in didi[idx] :\n",
    "        didi[idx] = didi[idx].replace('디올' , 'DIOR')\n",
    "        FN.append(idx)\n",
    "#         print(idx, slsl[idx])\n",
    "print(len(FN))"
   ]
  },
  {
   "cell_type": "code",
   "execution_count": 16,
   "metadata": {},
   "outputs": [
    {
     "name": "stdout",
     "output_type": "stream",
     "text": [
      "111\n"
     ]
    }
   ],
   "source": [
    "FN = []\n",
    "for idx in range(len(didi)) :\n",
    "    if '펜디' in didi[idx] :\n",
    "        didi[idx] = didi[idx].replace('펜디' , 'FENDI')\n",
    "        FN.append(idx)\n",
    "#         print(idx, slsl[idx])\n",
    "print(len(FN))"
   ]
  },
  {
   "cell_type": "code",
   "execution_count": 17,
   "metadata": {},
   "outputs": [
    {
     "name": "stdout",
     "output_type": "stream",
     "text": [
      "3\n"
     ]
    }
   ],
   "source": [
    "FN = []\n",
    "for idx in range(len(didi)) :\n",
    "    if '닥터마틴' in didi[idx] :\n",
    "#         didi[idx] = didi[idx].replace('펜디' , 'FENDI')\n",
    "        FN.append(idx)\n",
    "#         print(idx, slsl[idx])\n",
    "print(len(FN))"
   ]
  },
  {
   "cell_type": "code",
   "execution_count": 18,
   "metadata": {},
   "outputs": [
    {
     "name": "stdout",
     "output_type": "stream",
     "text": [
      "20\n"
     ]
    }
   ],
   "source": [
    "FN = []\n",
    "for idx in range(len(didi)) :\n",
    "    if '카라 델레바인' in didi[idx] :\n",
    "        didi[idx] = didi[idx].replace('카라 델레바인' , 'Cara Delevingne')\n",
    "        FN.append(idx)\n",
    "#         print(idx, slsl[idx])\n",
    "print(len(FN))"
   ]
  },
  {
   "cell_type": "code",
   "execution_count": 19,
   "metadata": {},
   "outputs": [
    {
     "name": "stdout",
     "output_type": "stream",
     "text": [
      "35\n"
     ]
    }
   ],
   "source": [
    "FN = []\n",
    "for idx in range(len(didi)) :\n",
    "    if '에디션' in didi[idx] :\n",
    "        didi[idx] = didi[idx].replace('에디션' , 'EDITION')\n",
    "        FN.append(idx)\n",
    "#         print(idx, slsl[idx])\n",
    "print(len(FN))"
   ]
  },
  {
   "cell_type": "code",
   "execution_count": 20,
   "metadata": {},
   "outputs": [
    {
     "name": "stdout",
     "output_type": "stream",
     "text": [
      "38\n"
     ]
    }
   ],
   "source": [
    "FN = []\n",
    "for idx in range(len(didi)) :\n",
    "    if '오뜨 꾸띄르' in didi[idx] :\n",
    "        didi[idx] = didi[idx].replace('오뜨 꾸띄르' , 'HAUTE COUTURE')\n",
    "        FN.append(idx)\n",
    "#         print(idx, slsl[idx])\n",
    "print(len(FN))"
   ]
  },
  {
   "cell_type": "code",
   "execution_count": 21,
   "metadata": {},
   "outputs": [
    {
     "name": "stdout",
     "output_type": "stream",
     "text": [
      "1\n"
     ]
    }
   ],
   "source": [
    "FN = []\n",
    "for idx in range(len(didi)) :\n",
    "    if '오뜨 쿠튀르' in didi[idx] :\n",
    "        didi[idx] = didi[idx].replace('오뜨 쿠튀르' , 'HAUTE COUTURE')\n",
    "        FN.append(idx)\n",
    "#         print(idx, slsl[idx])\n",
    "print(len(FN))"
   ]
  },
  {
   "cell_type": "code",
   "execution_count": 22,
   "metadata": {},
   "outputs": [
    {
     "name": "stdout",
     "output_type": "stream",
     "text": [
      "95\n"
     ]
    }
   ],
   "source": [
    "FN = []\n",
    "for idx in range(len(didi)) :\n",
    "    if '쿠튀르' in didi[idx] :\n",
    "        didi[idx] = didi[idx].replace('쿠튀르' , 'COUTURE')\n",
    "        FN.append(idx)\n",
    "#         print(idx, slsl[idx])\n",
    "print(len(FN))"
   ]
  },
  {
   "cell_type": "code",
   "execution_count": 23,
   "metadata": {},
   "outputs": [
    {
     "name": "stdout",
     "output_type": "stream",
     "text": [
      "8\n"
     ]
    }
   ],
   "source": [
    "FN = []\n",
    "for idx in range(len(didi)) :\n",
    "    if '스타일리시' in didi[idx] :\n",
    "        didi[idx] = didi[idx].replace('스타일리시' , 'STYLISH')\n",
    "        FN.append(idx)\n",
    "#         print(idx, slsl[idx])\n",
    "print(len(FN))"
   ]
  },
  {
   "cell_type": "code",
   "execution_count": 24,
   "metadata": {},
   "outputs": [
    {
     "name": "stdout",
     "output_type": "stream",
     "text": [
      "70\n"
     ]
    }
   ],
   "source": [
    "FN = []\n",
    "for idx in range(len(didi)) :\n",
    "    if '에디터' in didi[idx] :\n",
    "        didi[idx] = didi[idx].replace('에디터' , 'EDITOR')\n",
    "        FN.append(idx)\n",
    "#         print(idx, slsl[idx])\n",
    "print(len(FN))"
   ]
  },
  {
   "cell_type": "code",
   "execution_count": 25,
   "metadata": {},
   "outputs": [
    {
     "name": "stdout",
     "output_type": "stream",
     "text": [
      "162\n"
     ]
    }
   ],
   "source": [
    "FN = []\n",
    "for idx in range(len(didi)) :\n",
    "    if '구찌' in didi[idx] :\n",
    "        didi[idx] = didi[idx].replace('구찌' , 'GUCCI')\n",
    "        FN.append(idx)\n",
    "#         print(idx, slsl[idx])\n",
    "print(len(FN))"
   ]
  },
  {
   "cell_type": "code",
   "execution_count": 26,
   "metadata": {},
   "outputs": [
    {
     "name": "stdout",
     "output_type": "stream",
     "text": [
      "11\n"
     ]
    }
   ],
   "source": [
    "FN = []\n",
    "for idx in range(len(didi)) :\n",
    "    if '몽클레르' in didi[idx] :\n",
    "        didi[idx] = didi[idx].replace('몽클레르' , 'MONCLER')\n",
    "        FN.append(idx)\n",
    "#         print(idx, slsl[idx])\n",
    "print(len(FN))"
   ]
  },
  {
   "cell_type": "code",
   "execution_count": 27,
   "metadata": {},
   "outputs": [
    {
     "name": "stdout",
     "output_type": "stream",
     "text": [
      "68\n"
     ]
    }
   ],
   "source": [
    "FN = []\n",
    "for idx in range(len(didi)) :\n",
    "    if '발렌시아가' in didi[idx] :\n",
    "        didi[idx] = didi[idx].replace('발렌시아가' , 'BALENCIAGA')\n",
    "        FN.append(idx)\n",
    "#         print(idx, slsl[idx])\n",
    "print(len(FN))"
   ]
  },
  {
   "cell_type": "code",
   "execution_count": 28,
   "metadata": {},
   "outputs": [
    {
     "name": "stdout",
     "output_type": "stream",
     "text": [
      "49\n"
     ]
    }
   ],
   "source": [
    "FN = []\n",
    "for idx in range(len(didi)) :\n",
    "    if '스포티' in didi[idx] :\n",
    "        didi[idx] = didi[idx].replace('스포티' , 'SPORTY')\n",
    "        FN.append(idx)\n",
    "#         print(idx, slsl[idx])\n",
    "print(len(FN))"
   ]
  },
  {
   "cell_type": "code",
   "execution_count": 29,
   "metadata": {},
   "outputs": [
    {
     "name": "stdout",
     "output_type": "stream",
     "text": [
      "38\n"
     ]
    }
   ],
   "source": [
    "FN = []\n",
    "for idx in range(len(didi)) :\n",
    "    if '셀러브리티' in didi[idx] :\n",
    "        didi[idx] = didi[idx].replace('셀러브리티' , 'CELEBRITY')\n",
    "        FN.append(idx)\n",
    "#         print(idx, slsl[idx])\n",
    "print(len(FN))"
   ]
  },
  {
   "cell_type": "code",
   "execution_count": 30,
   "metadata": {},
   "outputs": [
    {
     "name": "stdout",
     "output_type": "stream",
     "text": [
      "95\n"
     ]
    }
   ],
   "source": [
    "FN = []\n",
    "for idx in range(len(didi)) :\n",
    "    if '킴 존스' in didi[idx] :\n",
    "        didi[idx] = didi[idx].replace('킴 존스' , 'KIM JONES')\n",
    "        FN.append(idx)\n",
    "#         print(idx, slsl[idx])\n",
    "print(len(FN))"
   ]
  },
  {
   "cell_type": "code",
   "execution_count": 31,
   "metadata": {},
   "outputs": [
    {
     "name": "stdout",
     "output_type": "stream",
     "text": [
      "15\n"
     ]
    }
   ],
   "source": [
    "FN = []\n",
    "for idx in range(len(didi)) :\n",
    "    if '살바토레 페라가모' in didi[idx] :\n",
    "        didi[idx] = didi[idx].replace('살바토레 페라가모' , 'Salvatore Ferragamo')\n",
    "        FN.append(idx)\n",
    "#         print(idx, slsl[idx])\n",
    "print(len(FN))"
   ]
  },
  {
   "cell_type": "code",
   "execution_count": 32,
   "metadata": {},
   "outputs": [
    {
     "name": "stdout",
     "output_type": "stream",
     "text": [
      "34\n"
     ]
    }
   ],
   "source": [
    "FN = []\n",
    "for idx in range(len(didi)) :\n",
    "    if '에디 슬리먼' in didi[idx] :\n",
    "        didi[idx] = didi[idx].replace('에디 슬리먼' , 'Hedi Slimane')\n",
    "        FN.append(idx)\n",
    "#         print(idx, slsl[idx])\n",
    "print(len(FN))"
   ]
  },
  {
   "cell_type": "code",
   "execution_count": 33,
   "metadata": {},
   "outputs": [
    {
     "name": "stdout",
     "output_type": "stream",
     "text": [
      "21\n"
     ]
    }
   ],
   "source": [
    "FN = []\n",
    "for idx in range(len(didi)) :\n",
    "    if '에디 슬리만' in didi[idx] :\n",
    "        didi[idx] = didi[idx].replace('에디 슬리만' , 'Hedi Slimane')\n",
    "        FN.append(idx)\n",
    "#         print(idx, slsl[idx])\n",
    "print(len(FN))"
   ]
  },
  {
   "cell_type": "code",
   "execution_count": 34,
   "metadata": {},
   "outputs": [
    {
     "name": "stdout",
     "output_type": "stream",
     "text": [
      "27\n"
     ]
    }
   ],
   "source": [
    "FN = []\n",
    "for idx in range(len(didi)) :\n",
    "    if '칼 라거펠트' in didi[idx] :\n",
    "        didi[idx] = didi[idx].replace('칼 라거펠트' , 'Karl Lagerfeld')\n",
    "        FN.append(idx)\n",
    "#         print(idx, slsl[idx])\n",
    "print(len(FN))"
   ]
  },
  {
   "cell_type": "code",
   "execution_count": 35,
   "metadata": {},
   "outputs": [
    {
     "name": "stdout",
     "output_type": "stream",
     "text": [
      "63\n"
     ]
    }
   ],
   "source": [
    "FN = []\n",
    "for idx in range(len(didi)) :\n",
    "    if '아카이브' in didi[idx] :\n",
    "        didi[idx] = didi[idx].replace('아카이브' , 'ARCHIVE')\n",
    "        FN.append(idx)\n",
    "#         print(idx, slsl[idx])\n",
    "print(len(FN))"
   ]
  },
  {
   "cell_type": "code",
   "execution_count": 36,
   "metadata": {},
   "outputs": [
    {
     "name": "stdout",
     "output_type": "stream",
     "text": [
      "46\n"
     ]
    }
   ],
   "source": [
    "FN = []\n",
    "for idx in range(len(didi)) :\n",
    "    if '에르메스' in didi[idx] :\n",
    "        didi[idx] = didi[idx].replace('에르메스' , 'HERMES')\n",
    "        FN.append(idx)\n",
    "#         print(idx, slsl[idx])\n",
    "print(len(FN))"
   ]
  },
  {
   "cell_type": "code",
   "execution_count": 37,
   "metadata": {},
   "outputs": [
    {
     "name": "stdout",
     "output_type": "stream",
     "text": [
      "100\n"
     ]
    }
   ],
   "source": [
    "FN = []\n",
    "for idx in range(len(didi)) :\n",
    "    if '마리아' in didi[idx] :\n",
    "        didi[idx] = didi[idx].replace('마리아' , 'MARIA')\n",
    "        FN.append(idx)\n",
    "#         print(idx, slsl[idx])\n",
    "print(len(FN))"
   ]
  },
  {
   "cell_type": "code",
   "execution_count": 38,
   "metadata": {},
   "outputs": [
    {
     "name": "stdout",
     "output_type": "stream",
     "text": [
      "113\n"
     ]
    }
   ],
   "source": [
    "FN = []\n",
    "for idx in range(len(didi)) :\n",
    "    if '레이디' in didi[idx] :\n",
    "        didi[idx] = didi[idx].replace('레이디' , 'LADY')\n",
    "        FN.append(idx)\n",
    "#         print(idx, slsl[idx])\n",
    "print(len(FN))"
   ]
  },
  {
   "cell_type": "code",
   "execution_count": 39,
   "metadata": {},
   "outputs": [
    {
     "name": "stdout",
     "output_type": "stream",
     "text": [
      "202\n"
     ]
    }
   ],
   "source": [
    "FN = []\n",
    "for idx in range(len(didi)) :\n",
    "    if '크리에이티브' in didi[idx] :\n",
    "        didi[idx] = didi[idx].replace('크리에이티브' , 'CREATIVE')\n",
    "        FN.append(idx)\n",
    "#         print(idx, slsl[idx])\n",
    "print(len(FN))"
   ]
  },
  {
   "cell_type": "code",
   "execution_count": 40,
   "metadata": {},
   "outputs": [
    {
     "name": "stdout",
     "output_type": "stream",
     "text": [
      "88\n"
     ]
    }
   ],
   "source": [
    "FN = []\n",
    "for idx in range(len(didi)) :\n",
    "    if '주얼리' in didi[idx] :\n",
    "        didi[idx] = didi[idx].replace('주얼리' , 'JEWERLY')\n",
    "        FN.append(idx)\n",
    "#         print(idx, slsl[idx])\n",
    "print(len(FN))"
   ]
  },
  {
   "cell_type": "code",
   "execution_count": 41,
   "metadata": {},
   "outputs": [
    {
     "name": "stdout",
     "output_type": "stream",
     "text": [
      "18\n"
     ]
    }
   ],
   "source": [
    "FN = []\n",
    "for idx in range(len(didi)) :\n",
    "    if '마이애미' in didi[idx] :\n",
    "        didi[idx] = didi[idx].replace('마이애미' , 'MIAMI')\n",
    "        FN.append(idx)\n",
    "#         print(idx, slsl[idx])\n",
    "print(len(FN))"
   ]
  },
  {
   "cell_type": "code",
   "execution_count": 42,
   "metadata": {},
   "outputs": [
    {
     "name": "stdout",
     "output_type": "stream",
     "text": [
      "19\n"
     ]
    }
   ],
   "source": [
    "FN = []\n",
    "for idx in range(len(didi)) :\n",
    "    if '마이클 코어스' in didi[idx] :\n",
    "        didi[idx] = didi[idx].replace('마이클 코어스' , 'MICHAEL KORS')\n",
    "        FN.append(idx)\n",
    "#         print(idx, slsl[idx])\n",
    "print(len(FN))"
   ]
  },
  {
   "cell_type": "code",
   "execution_count": 43,
   "metadata": {},
   "outputs": [
    {
     "name": "stdout",
     "output_type": "stream",
     "text": [
      "48\n"
     ]
    }
   ],
   "source": [
    "FN = []\n",
    "for idx in range(len(didi)) :\n",
    "    if '메종' in didi[idx] :\n",
    "        didi[idx] = didi[idx].replace('메종' , 'MAISON')\n",
    "        FN.append(idx)\n",
    "#         print(idx, slsl[idx])\n",
    "print(len(FN))"
   ]
  },
  {
   "cell_type": "code",
   "execution_count": 44,
   "metadata": {},
   "outputs": [
    {
     "name": "stdout",
     "output_type": "stream",
     "text": [
      "93\n"
     ]
    }
   ],
   "source": [
    "FN = []\n",
    "for idx in range(len(didi)) :\n",
    "    if '발렌티노' in didi[idx] :\n",
    "        didi[idx] = didi[idx].replace('발렌티노' , 'VALENTINO')\n",
    "        FN.append(idx)\n",
    "#         print(idx, slsl[idx])\n",
    "print(len(FN))"
   ]
  },
  {
   "cell_type": "code",
   "execution_count": 45,
   "metadata": {},
   "outputs": [
    {
     "name": "stdout",
     "output_type": "stream",
     "text": [
      "47\n"
     ]
    }
   ],
   "source": [
    "FN = []\n",
    "for idx in range(len(didi)) :\n",
    "    if '베르사체' in didi[idx] :\n",
    "        didi[idx] = didi[idx].replace('베르사체' , 'VERSACE')\n",
    "        FN.append(idx)\n",
    "#         print(idx, slsl[idx])\n",
    "print(len(FN))"
   ]
  },
  {
   "cell_type": "code",
   "execution_count": 46,
   "metadata": {},
   "outputs": [
    {
     "name": "stdout",
     "output_type": "stream",
     "text": [
      "54\n"
     ]
    }
   ],
   "source": [
    "FN = []\n",
    "for idx in range(len(didi)) :\n",
    "    if '캘빈 클라인' in didi[idx] :\n",
    "        didi[idx] = didi[idx].replace('캘빈 클라인' , 'Calvin Klein')\n",
    "        FN.append(idx)\n",
    "#         print(idx, slsl[idx])\n",
    "print(len(FN))"
   ]
  },
  {
   "cell_type": "code",
   "execution_count": 47,
   "metadata": {},
   "outputs": [
    {
     "name": "stdout",
     "output_type": "stream",
     "text": [
      "10\n"
     ]
    }
   ],
   "source": [
    "FN = []\n",
    "for idx in range(len(didi)) :\n",
    "    if '스틸레토' in didi[idx] :\n",
    "        didi[idx] = didi[idx].replace('스틸레토' , 'Stiletto')\n",
    "        FN.append(idx)\n",
    "#         print(idx, slsl[idx])\n",
    "print(len(FN))"
   ]
  },
  {
   "cell_type": "code",
   "execution_count": 48,
   "metadata": {},
   "outputs": [
    {
     "name": "stdout",
     "output_type": "stream",
     "text": [
      "264\n"
     ]
    }
   ],
   "source": [
    "FN = []\n",
    "for idx in range(len(didi)) :\n",
    "    if '디자인' in didi[idx] :\n",
    "        didi[idx] = didi[idx].replace('디자인' , 'DESIGN')\n",
    "        FN.append(idx)\n",
    "#         print(idx, slsl[idx])\n",
    "print(len(FN))"
   ]
  },
  {
   "cell_type": "code",
   "execution_count": 49,
   "metadata": {},
   "outputs": [
    {
     "name": "stdout",
     "output_type": "stream",
     "text": [
      "41\n"
     ]
    }
   ],
   "source": [
    "FN = []\n",
    "for idx in range(len(didi)) :\n",
    "    if '꾸띄르' in didi[idx] :\n",
    "        didi[idx] = didi[idx].replace('꾸띄르' , 'COUTURE')\n",
    "        FN.append(idx)\n",
    "#         print(idx, slsl[idx])\n",
    "print(len(FN))"
   ]
  },
  {
   "cell_type": "code",
   "execution_count": 50,
   "metadata": {},
   "outputs": [
    {
     "name": "stdout",
     "output_type": "stream",
     "text": [
      "46\n"
     ]
    }
   ],
   "source": [
    "FN = []\n",
    "for idx in range(len(didi)) :\n",
    "    if '알렉산더' in didi[idx] :\n",
    "        didi[idx] = didi[idx].replace('알렉산더' , 'ALEXANDER')\n",
    "        FN.append(idx)\n",
    "#         print(idx, slsl[idx])\n",
    "print(len(FN))"
   ]
  },
  {
   "cell_type": "code",
   "execution_count": 51,
   "metadata": {},
   "outputs": [
    {
     "name": "stdout",
     "output_type": "stream",
     "text": [
      "44\n"
     ]
    }
   ],
   "source": [
    "FN = []\n",
    "for idx in range(len(didi)) :\n",
    "    if '벨라 하디드' in didi[idx] :\n",
    "        didi[idx] = didi[idx].replace('벨라 하디드' , 'Bella Hadid')\n",
    "        FN.append(idx)\n",
    "#         print(idx, slsl[idx])\n",
    "print(len(FN))"
   ]
  },
  {
   "cell_type": "code",
   "execution_count": 52,
   "metadata": {},
   "outputs": [
    {
     "name": "stdout",
     "output_type": "stream",
     "text": [
      "36\n"
     ]
    }
   ],
   "source": [
    "FN = []\n",
    "for idx in range(len(didi)) :\n",
    "    if '시그니처' in didi[idx] :\n",
    "        didi[idx] = didi[idx].replace('시그니처' , 'SIGNATURE')\n",
    "        FN.append(idx)\n",
    "#         print(idx, slsl[idx])\n",
    "print(len(FN))"
   ]
  },
  {
   "cell_type": "code",
   "execution_count": 53,
   "metadata": {},
   "outputs": [
    {
     "name": "stdout",
     "output_type": "stream",
     "text": [
      "173\n"
     ]
    }
   ],
   "source": [
    "FN = []\n",
    "for idx in range(len(didi)) :\n",
    "    if '크리스찬 DIOR' in didi[idx] :\n",
    "        didi[idx] = didi[idx].replace('크리스찬 DIOR' , 'CHRISTIAN DIOR')\n",
    "        FN.append(idx)\n",
    "#         print(idx, slsl[idx])\n",
    "print(len(FN))"
   ]
  },
  {
   "cell_type": "code",
   "execution_count": 54,
   "metadata": {},
   "outputs": [
    {
     "name": "stdout",
     "output_type": "stream",
     "text": [
      "72\n"
     ]
    }
   ],
   "source": [
    "FN = []\n",
    "for idx in range(len(didi)) :\n",
    "    if '새들' in didi[idx] :\n",
    "        didi[idx] = didi[idx].replace('새들' , 'SADDLE')\n",
    "        FN.append(idx)\n",
    "#         print(idx, slsl[idx])\n",
    "print(len(FN))"
   ]
  },
  {
   "cell_type": "code",
   "execution_count": 55,
   "metadata": {},
   "outputs": [
    {
     "name": "stdout",
     "output_type": "stream",
     "text": [
      "70\n"
     ]
    }
   ],
   "source": [
    "FN = []\n",
    "for idx in range(len(didi)) :\n",
    "    if '존 갈리아노' in didi[idx] :\n",
    "        didi[idx] = didi[idx].replace('존 갈리아노' , 'John Galliano')\n",
    "        FN.append(idx)\n",
    "#         print(idx, slsl[idx])\n",
    "print(len(FN))"
   ]
  },
  {
   "cell_type": "code",
   "execution_count": 56,
   "metadata": {},
   "outputs": [
    {
     "name": "stdout",
     "output_type": "stream",
     "text": [
      "53\n"
     ]
    }
   ],
   "source": [
    "FN = []\n",
    "for idx in range(len(didi)) :\n",
    "    if '셀린느' in didi[idx] :\n",
    "        didi[idx] = didi[idx].replace('셀린느' , 'CELINE')\n",
    "        FN.append(idx)\n",
    "#         print(idx, slsl[idx])\n",
    "print(len(FN))"
   ]
  },
  {
   "cell_type": "code",
   "execution_count": 57,
   "metadata": {},
   "outputs": [
    {
     "name": "stdout",
     "output_type": "stream",
     "text": [
      "63\n"
     ]
    }
   ],
   "source": [
    "FN = []\n",
    "for idx in range(len(didi)) :\n",
    "    if '인스타그램' in didi[idx] :\n",
    "        didi[idx] = didi[idx].replace('인스타그램' , 'INSTAGRAM')\n",
    "        FN.append(idx)\n",
    "#         print(idx, slsl[idx])\n",
    "print(len(FN))"
   ]
  },
  {
   "cell_type": "code",
   "execution_count": 58,
   "metadata": {},
   "outputs": [
    {
     "name": "stdout",
     "output_type": "stream",
     "text": [
      "13\n"
     ]
    }
   ],
   "source": [
    "FN = []\n",
    "for idx in range(len(didi)) :\n",
    "    if '다이애나' in didi[idx] :\n",
    "        didi[idx] = didi[idx].replace('다이애나' , 'Diana')\n",
    "        FN.append(idx)\n",
    "#         print(idx, didi[idx])\n",
    "print(len(FN))"
   ]
  },
  {
   "cell_type": "code",
   "execution_count": 59,
   "metadata": {},
   "outputs": [
    {
     "name": "stdout",
     "output_type": "stream",
     "text": [
      "33\n"
     ]
    }
   ],
   "source": [
    "FN = []\n",
    "for idx in range(len(didi)) :\n",
    "    if '다이아몬드' in didi[idx] :\n",
    "        didi[idx] = didi[idx].replace('다이애나' , 'DIAMOND')\n",
    "        FN.append(idx)\n",
    "#         print(idx, didi[idx])\n",
    "print(len(FN))"
   ]
  },
  {
   "cell_type": "code",
   "execution_count": 60,
   "metadata": {},
   "outputs": [
    {
     "name": "stdout",
     "output_type": "stream",
     "text": [
      "43\n"
     ]
    }
   ],
   "source": [
    "FN = []\n",
    "for idx in range(len(didi)) :\n",
    "    if '아이코닉' in didi[idx] :\n",
    "        didi[idx] = didi[idx].replace('아이코닉' , 'ICONIC')\n",
    "        FN.append(idx)\n",
    "#         print(idx, didi[idx])\n",
    "print(len(FN))"
   ]
  },
  {
   "cell_type": "code",
   "execution_count": 61,
   "metadata": {},
   "outputs": [
    {
     "name": "stdout",
     "output_type": "stream",
     "text": [
      "127\n"
     ]
    }
   ],
   "source": [
    "FN = []\n",
    "for idx in range(len(didi)) :\n",
    "    if '옴므' in didi[idx] :\n",
    "        didi[idx] = didi[idx].replace('옴므' , 'HOMME')\n",
    "        FN.append(idx)\n",
    "#         print(idx, didi[idx])\n",
    "print(len(FN))"
   ]
  },
  {
   "cell_type": "code",
   "execution_count": 62,
   "metadata": {},
   "outputs": [
    {
     "name": "stdout",
     "output_type": "stream",
     "text": [
      "13\n"
     ]
    }
   ],
   "source": [
    "FN = []\n",
    "for idx in range(len(didi)) :\n",
    "    if '컬래버레이션' in didi[idx] :\n",
    "        didi[idx] = didi[idx].replace('컬래버레이션' , 'COLLABORATION')\n",
    "        FN.append(idx)\n",
    "#         print(idx, didi[idx])\n",
    "print(len(FN))"
   ]
  },
  {
   "cell_type": "code",
   "execution_count": 63,
   "metadata": {},
   "outputs": [
    {
     "name": "stdout",
     "output_type": "stream",
     "text": [
      "43\n"
     ]
    }
   ],
   "source": [
    "FN = []\n",
    "for idx in range(len(didi)) :\n",
    "    if '부티크' in didi[idx] :\n",
    "        didi[idx] = didi[idx].replace('부티크' , 'boutique')\n",
    "        FN.append(idx)\n",
    "#         print(idx, didi[idx])\n",
    "print(len(FN))"
   ]
  },
  {
   "cell_type": "code",
   "execution_count": 64,
   "metadata": {},
   "outputs": [
    {
     "name": "stdout",
     "output_type": "stream",
     "text": [
      "30\n"
     ]
    }
   ],
   "source": [
    "FN = []\n",
    "for idx in range(len(didi)) :\n",
    "    if '인플루언서' in didi[idx] :\n",
    "        didi[idx] = didi[idx].replace('인플루언서' , 'INFLUENCER')\n",
    "        FN.append(idx)\n",
    "#         print(idx, didi[idx])\n",
    "print(len(FN))"
   ]
  },
  {
   "cell_type": "code",
   "execution_count": 65,
   "metadata": {},
   "outputs": [
    {
     "name": "stdout",
     "output_type": "stream",
     "text": [
      "38\n"
     ]
    }
   ],
   "source": [
    "FN = []\n",
    "for idx in range(len(didi)) :\n",
    "    if '크리스챤 DIOR' in didi[idx] :\n",
    "        didi[idx] = didi[idx].replace('크리스챤 DIOR' , 'CHRISTIAN DIOR')\n",
    "        FN.append(idx)\n",
    "#         print(idx, slsl[idx])\n",
    "print(len(FN))"
   ]
  },
  {
   "cell_type": "code",
   "execution_count": 66,
   "metadata": {},
   "outputs": [
    {
     "name": "stdout",
     "output_type": "stream",
     "text": [
      "25\n"
     ]
    }
   ],
   "source": [
    "FN = []\n",
    "for idx in range(len(didi)) :\n",
    "    if '버질 아블로' in didi[idx] :\n",
    "        didi[idx] = didi[idx].replace('버질 아블로' , 'Virgil Abloh')\n",
    "        FN.append(idx)\n",
    "#         print(idx, slsl[idx])\n",
    "print(len(FN))"
   ]
  },
  {
   "cell_type": "code",
   "execution_count": 67,
   "metadata": {},
   "outputs": [
    {
     "name": "stdout",
     "output_type": "stream",
     "text": [
      "50\n"
     ]
    }
   ],
   "source": [
    "FN = []\n",
    "for idx in range(len(didi)) :\n",
    "    if '생로랑' in didi[idx] :\n",
    "        didi[idx] = didi[idx].replace('생로랑' , 'SAINT LAURENT')\n",
    "        FN.append(idx)\n",
    "#         print(idx, slsl[idx])\n",
    "print(len(FN))"
   ]
  },
  {
   "cell_type": "code",
   "execution_count": 68,
   "metadata": {},
   "outputs": [
    {
     "name": "stdout",
     "output_type": "stream",
     "text": [
      "96\n"
     ]
    }
   ],
   "source": [
    "FN = []\n",
    "for idx in range(len(didi)) :\n",
    "    if '생 로랑' in didi[idx] :\n",
    "        didi[idx] = didi[idx].replace('생 로랑' , 'SAINT LAURENT')\n",
    "        FN.append(idx)\n",
    "#         print(idx, slsl[idx])\n",
    "print(len(FN))"
   ]
  },
  {
   "cell_type": "code",
   "execution_count": 69,
   "metadata": {},
   "outputs": [
    {
     "name": "stdout",
     "output_type": "stream",
     "text": [
      "39\n"
     ]
    }
   ],
   "source": [
    "FN = []\n",
    "for idx in range(len(didi)) :\n",
    "    if '이브 SAINT LAURENT' in didi[idx] :\n",
    "        didi[idx] = didi[idx].replace('이브 SAINT LAURENT' , 'YVES SAINT LAURENT')\n",
    "        FN.append(idx)\n",
    "#         print(idx, slsl[idx])\n",
    "print(len(FN))"
   ]
  },
  {
   "cell_type": "code",
   "execution_count": 70,
   "metadata": {},
   "outputs": [
    {
     "name": "stdout",
     "output_type": "stream",
     "text": [
      "11\n"
     ]
    }
   ],
   "source": [
    "FN = []\n",
    "for idx in range(len(didi)) :\n",
    "    if '입SAINT LAURENT' in didi[idx] :\n",
    "        didi[idx] = didi[idx].replace('입SAINT LAURENT' , 'YVES SAINT LAURENT')\n",
    "        FN.append(idx)\n",
    "#         print(idx, slsl[idx])\n",
    "print(len(FN))"
   ]
  },
  {
   "cell_type": "code",
   "execution_count": 71,
   "metadata": {},
   "outputs": [
    {
     "name": "stdout",
     "output_type": "stream",
     "text": [
      "8\n"
     ]
    }
   ],
   "source": [
    "FN = []\n",
    "for idx in range(len(didi)) :\n",
    "    if '웨어러블' in didi[idx] :\n",
    "        didi[idx] = didi[idx].replace('웨어러블' , 'WEARABLE')\n",
    "        FN.append(idx)\n",
    "#         print(idx, slsl[idx])\n",
    "print(len(FN))"
   ]
  },
  {
   "cell_type": "code",
   "execution_count": 72,
   "metadata": {},
   "outputs": [
    {
     "name": "stdout",
     "output_type": "stream",
     "text": [
      "8\n"
     ]
    }
   ],
   "source": [
    "FN = []\n",
    "for idx in range(len(didi)) :\n",
    "    if '블랙핑크' in didi[idx] :\n",
    "        didi[idx] = didi[idx].replace('블랙핑크' , 'BLACKPINK')\n",
    "        FN.append(idx)\n",
    "#         print(idx, slsl[idx])\n",
    "print(len(FN))"
   ]
  },
  {
   "cell_type": "code",
   "execution_count": 73,
   "metadata": {},
   "outputs": [
    {
     "name": "stdout",
     "output_type": "stream",
     "text": [
      "11\n"
     ]
    }
   ],
   "source": [
    "FN = []\n",
    "for idx in range(len(didi)) :\n",
    "    if '컨템포러리' in didi[idx] :\n",
    "        didi[idx] = didi[idx].replace('컨템포러리' , 'contemporary')\n",
    "        FN.append(idx)\n",
    "#         print(idx, slsl[idx])\n",
    "print(len(FN))"
   ]
  },
  {
   "cell_type": "code",
   "execution_count": null,
   "metadata": {},
   "outputs": [],
   "source": []
  },
  {
   "cell_type": "code",
   "execution_count": null,
   "metadata": {},
   "outputs": [],
   "source": []
  },
  {
   "cell_type": "code",
   "execution_count": null,
   "metadata": {},
   "outputs": [],
   "source": []
  },
  {
   "cell_type": "code",
   "execution_count": 74,
   "metadata": {},
   "outputs": [
    {
     "name": "stdout",
     "output_type": "stream",
     "text": [
      "1\n"
     ]
    }
   ],
   "source": [
    "FN = []\n",
    "for idx in range(len(didi)) :\n",
    "    if '노스탈' in didi[idx] :\n",
    "#         didi[idx] = didi[idx].replace('옴므' , 'HOMME')\n",
    "        FN.append(idx)\n",
    "#         print(idx, didi[idx])\n",
    "print(len(FN))"
   ]
  },
  {
   "cell_type": "code",
   "execution_count": null,
   "metadata": {},
   "outputs": [],
   "source": []
  },
  {
   "cell_type": "code",
   "execution_count": null,
   "metadata": {},
   "outputs": [],
   "source": []
  },
  {
   "cell_type": "code",
   "execution_count": null,
   "metadata": {},
   "outputs": [],
   "source": []
  },
  {
   "cell_type": "code",
   "execution_count": null,
   "metadata": {},
   "outputs": [],
   "source": []
  },
  {
   "cell_type": "markdown",
   "metadata": {},
   "source": [
    "### 영문 다 대문자로 변환"
   ]
  },
  {
   "cell_type": "code",
   "execution_count": 75,
   "metadata": {},
   "outputs": [],
   "source": [
    "for idx in range(len(didi)) :\n",
    "    didi[idx] = didi[idx].upper()\n",
    "#     print(slsl[idx])"
   ]
  },
  {
   "cell_type": "markdown",
   "metadata": {},
   "source": [
    "### 각 문장별로 형태소 구분하기"
   ]
  },
  {
   "cell_type": "code",
   "execution_count": 76,
   "metadata": {},
   "outputs": [],
   "source": [
    "\n",
    "sentences_tag = []\n",
    "for i in range(len(didi)) :\n",
    "# for sentence in didi:\n",
    "#     print(i)\n",
    "    morph = kkma.pos(didi[i])\n",
    "    sentences_tag.append(morph)\n",
    "#     print(morph)\n",
    "#     print('-'*30)"
   ]
  },
  {
   "cell_type": "markdown",
   "metadata": {},
   "source": [
    "### 형태소 구분 검토용으로 일부 진행"
   ]
  },
  {
   "cell_type": "code",
   "execution_count": 77,
   "metadata": {},
   "outputs": [],
   "source": [
    "\n",
    "# # TEST\n",
    "# # 각 문장별로 형태소 구분하기\n",
    "# sentences_tagT = []\n",
    "# for i in range(200,1000) :\n",
    "# # for sentence in didi:\n",
    "#     print(i)\n",
    "#     morph = kkma.pos(didi[i])\n",
    "#     sentences_tagT.append(morph)\n",
    "#     print(morph)\n",
    "#     print('-'*30)"
   ]
  },
  {
   "cell_type": "code",
   "execution_count": 78,
   "metadata": {},
   "outputs": [],
   "source": [
    "# didi[757]"
   ]
  },
  {
   "cell_type": "code",
   "execution_count": 79,
   "metadata": {},
   "outputs": [],
   "source": [
    "# 명사 혹은 형용사인 품사만 선별해 리스트에 담기\n",
    "noun_adj_list = []\n",
    "for sentence1 in sentences_tag:\n",
    "    for word, tag in sentence1:\n",
    "        if tag in ['NNG','NNP','VA', 'VV', 'OL', 'UN']:\n",
    "            noun_adj_list.append(word)"
   ]
  },
  {
   "cell_type": "markdown",
   "metadata": {},
   "source": [
    "## Stopwords"
   ]
  },
  {
   "cell_type": "code",
   "execution_count": 100,
   "metadata": {},
   "outputs": [
    {
     "data": {
      "text/html": [
       "<div>\n",
       "<style scoped>\n",
       "    .dataframe tbody tr th:only-of-type {\n",
       "        vertical-align: middle;\n",
       "    }\n",
       "\n",
       "    .dataframe tbody tr th {\n",
       "        vertical-align: top;\n",
       "    }\n",
       "\n",
       "    .dataframe thead th {\n",
       "        text-align: right;\n",
       "    }\n",
       "</style>\n",
       "<table border=\"1\" class=\"dataframe\">\n",
       "  <thead>\n",
       "    <tr style=\"text-align: right;\">\n",
       "      <th></th>\n",
       "      <th>0</th>\n",
       "    </tr>\n",
       "  </thead>\n",
       "  <tbody>\n",
       "    <tr>\n",
       "      <th>0</th>\n",
       "      <td>아</td>\n",
       "    </tr>\n",
       "    <tr>\n",
       "      <th>1</th>\n",
       "      <td>휴</td>\n",
       "    </tr>\n",
       "    <tr>\n",
       "      <th>2</th>\n",
       "      <td>아이구</td>\n",
       "    </tr>\n",
       "    <tr>\n",
       "      <th>3</th>\n",
       "      <td>아이쿠</td>\n",
       "    </tr>\n",
       "    <tr>\n",
       "      <th>4</th>\n",
       "      <td>아이고</td>\n",
       "    </tr>\n",
       "    <tr>\n",
       "      <th>...</th>\n",
       "      <td>...</td>\n",
       "    </tr>\n",
       "    <tr>\n",
       "      <th>670</th>\n",
       "      <td>일곱</td>\n",
       "    </tr>\n",
       "    <tr>\n",
       "      <th>671</th>\n",
       "      <td>여덟</td>\n",
       "    </tr>\n",
       "    <tr>\n",
       "      <th>672</th>\n",
       "      <td>아홉</td>\n",
       "    </tr>\n",
       "    <tr>\n",
       "      <th>673</th>\n",
       "      <td>령</td>\n",
       "    </tr>\n",
       "    <tr>\n",
       "      <th>674</th>\n",
       "      <td>영</td>\n",
       "    </tr>\n",
       "  </tbody>\n",
       "</table>\n",
       "<p>675 rows × 1 columns</p>\n",
       "</div>"
      ],
      "text/plain": [
       "       0\n",
       "0      아\n",
       "1      휴\n",
       "2    아이구\n",
       "3    아이쿠\n",
       "4    아이고\n",
       "..   ...\n",
       "670   일곱\n",
       "671   여덟\n",
       "672   아홉\n",
       "673    령\n",
       "674    영\n",
       "\n",
       "[675 rows x 1 columns]"
      ]
     },
     "execution_count": 100,
     "metadata": {},
     "output_type": "execute_result"
    }
   ],
   "source": [
    "stpwds = pd.read_csv('./stopwords.csv' , sep=',', encoding='utf-8', header=None)\n",
    "stpwds"
   ]
  },
  {
   "cell_type": "code",
   "execution_count": 101,
   "metadata": {},
   "outputs": [],
   "source": [
    "# 리스트로 변환\n",
    "stpwds_l = stpwds[0].tolist()"
   ]
  },
  {
   "cell_type": "code",
   "execution_count": 102,
   "metadata": {},
   "outputs": [],
   "source": [
    "# stpwds_l = []\n",
    "add = ['위하', '선보이', '가격', '가격 미정', '미정', '지금', 'BY', 'N', '있', '없', '지나', '만들', '말하', '입', '보', \n",
    "       '되','선보이', '같', '대하', '등장', '사람', '받', '많', '더하', '최근', '보여주', '후', '은', '티', '주', '리', '르', '라',\n",
    "      '레', '크', '디', '통하', '베', '전', '대', '잇', '타', 'S', '알', '키', '카', '시', '보이', '비', '늘', '바', '말', '미', '인',\n",
    "       '안', '그러', '위', '피', '코', '테', '마', '나오', '듣', '고', '노', '올', '어떻', '피부', \n",
    "      '패션', '컬렉션', '시즌', '사진', 'GRAZIA', 'CHIURI', '연출', '모습', '매치', '시작',  \n",
    "      '룩', '다양']\n",
    "for words in add :\n",
    "    stpwds_l.append(words)\n",
    "# stpwds_l"
   ]
  },
  {
   "cell_type": "markdown",
   "metadata": {},
   "source": [
    "### 불용어는 형태소분석 결과에서도 빼주기"
   ]
  },
  {
   "cell_type": "code",
   "execution_count": 103,
   "metadata": {},
   "outputs": [],
   "source": [
    "from collections import Counter"
   ]
  },
  {
   "cell_type": "code",
   "execution_count": 106,
   "metadata": {},
   "outputs": [],
   "source": [
    "# 불용어 제외 리스트\n",
    "noun_adj_list_stp= []\n",
    "for sentence1 in sentences_tag:\n",
    "    for word, tag in sentence1:\n",
    "        if word not in stpwds_l:\n",
    "            if tag in ['NNG','NNP','VA', 'VV', 'OL', 'UN']:\n",
    "                noun_adj_list_stp.append(word)"
   ]
  },
  {
   "cell_type": "code",
   "execution_count": 107,
   "metadata": {},
   "outputs": [
    {
     "name": "stdout",
     "output_type": "stream",
     "text": [
      "[('DIOR', 4896), ('브랜드', 753), ('드레스', 728), ('쇼', 677), ('디자이너', 653), ('여성', 623), ('장식', 550), ('하우스', 485), ('MARIA', 474), ('컬러', 467), ('DESIGN', 457), ('백', 455), ('제품', 448), ('모델', 421), ('디렉터', 421), ('스타일', 416), ('파리', 415), ('CHRISTIAN', 338), ('재킷', 323), ('소재', 323), ('LADY', 308), ('COUTURE', 307), ('영감', 298), ('작품', 289), ('CREATIVE', 284), ('블랙', 283), ('팬츠', 277), ('HOMME', 274), ('생각', 271), ('영화', 269), ('화이트', 264), ('스커트', 264), ('새롭', 257), ('옷', 249), ('세계', 241), ('프랑스', 238), ('JONES', 234), ('아이템', 232), ('GUCCI', 229), ('배우', 229), ('SAINT', 229), ('LAURENT', 229), ('KIM', 227), ('남성복', 224), ('샤넬', 222), ('코트', 222), ('완성', 216), ('라인', 211), ('프라다', 211), ('로고', 211), ('럭셔리', 207), ('슈트', 205), ('아티스트', 204), ('패턴', 200), ('사랑', 199), ('열리', 194), ('좋', 192), ('가죽', 191), ('선택', 190), ('봄', 187), ('셔츠', 186), ('여름', 186), ('새', 185), ('SADDLE', 182), ('데님', 180), ('표현', 180), ('미국', 179), ('프린트', 176), ('작업', 175), ('의상', 175), ('FENDI', 174), ('속', 168), ('가방', 164), ('런웨이', 164), ('웨어', 163), ('협업', 163), ('무대', 163), ('유명', 160), ('처음', 160), ('전시', 160), ('뷰티', 159), ('제작', 157), ('슈즈', 157), ('티셔츠', 157), ('앤', 157), ('착용', 156), ('아트', 156), ('JEWERLY', 155), ('시몬스', 155), ('따르', 151), ('실루엣', 151), ('크루즈', 151), ('패션쇼', 151), ('푸', 150), ('엘', 150), ('패션계', 150), ('루', 150), ('위크', 150), ('꽃', 149), ('장', 149)]\n"
     ]
    }
   ],
   "source": [
    "# 블용어 제외 순위\n",
    "counts_stp = Counter(noun_adj_list_stp)\n",
    "print(counts_stp.most_common(100))"
   ]
  },
  {
   "cell_type": "markdown",
   "metadata": {},
   "source": [
    "## WordCloud"
   ]
  },
  {
   "cell_type": "code",
   "execution_count": 108,
   "metadata": {},
   "outputs": [],
   "source": [
    "from wordcloud import WordCloud\n",
    "import matplotlib.pyplot as plt"
   ]
  },
  {
   "cell_type": "code",
   "execution_count": 109,
   "metadata": {},
   "outputs": [],
   "source": [
    "text = ' '.join(noun_adj_list)\n",
    "# text"
   ]
  },
  {
   "cell_type": "code",
   "execution_count": 110,
   "metadata": {},
   "outputs": [],
   "source": [
    "# wordcloud = WordCloud(font_path='font/NanumGothic.ttf', background_color='white', stopwords = stpwds_l).generate(text)"
   ]
  },
  {
   "cell_type": "code",
   "execution_count": 111,
   "metadata": {},
   "outputs": [],
   "source": [
    "# plt.figure(figsize=(22,22)) #이미지 사이즈 지정\n",
    "# plt.imshow(wordcloud, interpolation='lanczos') #이미지의 부드럽기 정도\n",
    "# plt.axis('off') #x y 축 숫자 제거\n",
    "# plt.show() \n",
    "# # plt.savefig()"
   ]
  },
  {
   "cell_type": "markdown",
   "metadata": {},
   "source": [
    "### top100 wordcloud before deleting other brands"
   ]
  },
  {
   "cell_type": "code",
   "execution_count": 112,
   "metadata": {},
   "outputs": [],
   "source": [
    "# 블용어 제외 순위 / 워드클라우드\n",
    "counts_stp = Counter(noun_adj_list_stp)\n",
    "top100 = counts_stp.most_common(100)\n",
    "top100_word = []\n",
    "for word, tag in top100 :\n",
    "    top100_word.append(word)"
   ]
  },
  {
   "cell_type": "code",
   "execution_count": 113,
   "metadata": {
    "scrolled": true
   },
   "outputs": [
    {
     "data": {
      "text/plain": [
       "'DIOR 브랜드 드레스 쇼 디자이너 여성 장식 하우스 MARIA 컬러 DESIGN 백 제품 모델 디렉터 스타일 파리 CHRISTIAN 재킷 소재 LADY COUTURE 영감 작품 CREATIVE 블랙 팬츠 HOMME 생각 영화 화이트 스커트 새롭 옷 세계 프랑스 JONES 아이템 GUCCI 배우 SAINT LAURENT KIM 남성복 샤넬 코트 완성 라인 프라다 로고 럭셔리 슈트 아티스트 패턴 사랑 열리 좋 가죽 선택 봄 셔츠 여름 새 SADDLE 데님 표현 미국 프린트 작업 의상 FENDI 속 가방 런웨이 웨어 협업 무대 유명 처음 전시 뷰티 제작 슈즈 티셔츠 앤 착용 아트 JEWERLY 시몬스 따르 실루엣 크루즈 패션쇼 푸 엘 패션계 루 위크 꽃 장'"
      ]
     },
     "execution_count": 113,
     "metadata": {},
     "output_type": "execute_result"
    }
   ],
   "source": [
    "text_b = ' '.join(top100_word)\n",
    "text_b"
   ]
  },
  {
   "cell_type": "code",
   "execution_count": 115,
   "metadata": {},
   "outputs": [],
   "source": [
    "# wordcloud100 = WordCloud(font_path='font/NanumGothic.ttf', background_color='white', stopwords = stpwds_l).generate(text_b)\n",
    "# plt.figure(figsize=(22,22)) #이미지 사이즈 지정\n",
    "# plt.imshow(wordcloud100, interpolation='lanczos') #이미지의 부드럽기 정도\n",
    "# plt.axis('off') #x y 축 숫자 제거\n",
    "# plt.show() \n",
    "# # plt.savefig()"
   ]
  },
  {
   "cell_type": "markdown",
   "metadata": {},
   "source": [
    "### top100 wordcloud after deleting other brands"
   ]
  },
  {
   "cell_type": "code",
   "execution_count": 116,
   "metadata": {},
   "outputs": [],
   "source": [
    "stpwds_b = stpwds_l\n",
    "brands = ['프라다', 'GUCCI', 'FENDI' ,\n",
    "         'SAINT', '샤넬']\n",
    "for words in brands :\n",
    "    stpwds_b.append(words)\n",
    "# stpwds_b"
   ]
  },
  {
   "cell_type": "code",
   "execution_count": 117,
   "metadata": {},
   "outputs": [],
   "source": [
    "# 불용어 제외 리스트\n",
    "noun_adj_list_stp= []\n",
    "for sentence1 in sentences_tag:\n",
    "    for word, tag in sentence1:\n",
    "        if word not in stpwds_b:\n",
    "            if tag in ['NNG','NNP','VA', 'VV', 'OL', 'UN']:\n",
    "                noun_adj_list_stp.append(word)"
   ]
  },
  {
   "cell_type": "code",
   "execution_count": 118,
   "metadata": {},
   "outputs": [],
   "source": [
    "# 블용어 제외 순위 / 워드클라우드\n",
    "counts_stp = Counter(noun_adj_list_stp)\n",
    "top100 = counts_stp.most_common(100)\n",
    "top100_word = []\n",
    "for word, tag in top100 :\n",
    "    top100_word.append(word)"
   ]
  },
  {
   "cell_type": "code",
   "execution_count": 119,
   "metadata": {},
   "outputs": [
    {
     "data": {
      "text/plain": [
       "'DIOR 브랜드 드레스 쇼 디자이너 여성 장식 하우스 MARIA 컬러 DESIGN 백 제품 모델 디렉터 스타일 파리 CHRISTIAN 재킷 소재 LADY COUTURE 영감 작품 CREATIVE 블랙 팬츠 HOMME 생각 영화 화이트 스커트 새롭 옷 세계 프랑스 JONES 아이템 배우 LAURENT KIM 남성복 코트 완성 라인 로고 럭셔리 슈트 아티스트 패턴 사랑 열리 좋 가죽 선택 봄 셔츠 여름 새 SADDLE 데님 표현 미국 프린트 작업 의상 속 가방 런웨이 웨어 협업 무대 유명 처음 전시 뷰티 제작 슈즈 티셔츠 앤 착용 아트 JEWERLY 시몬스 따르 실루엣 크루즈 패션쇼 푸 엘 패션계 루 위크 꽃 장 LVMH 커 이미지 그룹 핑크'"
      ]
     },
     "execution_count": 119,
     "metadata": {},
     "output_type": "execute_result"
    }
   ],
   "source": [
    "text_a = ' '.join(top100_word)\n",
    "text_a"
   ]
  },
  {
   "cell_type": "code",
   "execution_count": 121,
   "metadata": {},
   "outputs": [],
   "source": [
    "# wordcloud100 = WordCloud(font_path='font/NanumGothic.ttf', background_color='white', stopwords = stpwds_l).generate(text_a)\n",
    "# plt.figure(figsize=(22,22)) #이미지 사이즈 지정\n",
    "# plt.imshow(wordcloud100, interpolation='lanczos') #이미지의 부드럽기 정도\n",
    "# plt.axis('off') #x y 축 숫자 제거\n",
    "# plt.show() \n",
    "# # plt.savefig()"
   ]
  },
  {
   "cell_type": "code",
   "execution_count": null,
   "metadata": {},
   "outputs": [],
   "source": []
  },
  {
   "cell_type": "code",
   "execution_count": null,
   "metadata": {},
   "outputs": [],
   "source": []
  },
  {
   "cell_type": "code",
   "execution_count": null,
   "metadata": {},
   "outputs": [],
   "source": []
  },
  {
   "cell_type": "code",
   "execution_count": null,
   "metadata": {},
   "outputs": [],
   "source": []
  },
  {
   "cell_type": "code",
   "execution_count": null,
   "metadata": {},
   "outputs": [],
   "source": []
  },
  {
   "cell_type": "code",
   "execution_count": 122,
   "metadata": {
    "scrolled": true
   },
   "outputs": [
    {
     "data": {
      "text/plain": [
       "['DIOR',\n",
       " '브랜드',\n",
       " '드레스',\n",
       " '쇼',\n",
       " '디자이너',\n",
       " '여성',\n",
       " '장식',\n",
       " '하우스',\n",
       " 'MARIA',\n",
       " '컬러',\n",
       " 'DESIGN',\n",
       " '백',\n",
       " '제품',\n",
       " '모델',\n",
       " '디렉터',\n",
       " '스타일',\n",
       " '파리',\n",
       " 'CHRISTIAN',\n",
       " '재킷',\n",
       " '소재',\n",
       " 'LADY',\n",
       " 'COUTURE',\n",
       " '영감',\n",
       " '작품',\n",
       " 'CREATIVE',\n",
       " '블랙',\n",
       " '팬츠',\n",
       " 'HOMME',\n",
       " '생각',\n",
       " '영화',\n",
       " '화이트',\n",
       " '스커트',\n",
       " '새롭',\n",
       " '옷',\n",
       " '세계',\n",
       " '프랑스',\n",
       " 'JONES',\n",
       " '아이템',\n",
       " '배우',\n",
       " 'LAURENT',\n",
       " 'KIM',\n",
       " '남성복',\n",
       " '코트',\n",
       " '완성',\n",
       " '라인',\n",
       " '로고',\n",
       " '럭셔리',\n",
       " '슈트',\n",
       " '아티스트',\n",
       " '패턴',\n",
       " '사랑',\n",
       " '열리',\n",
       " '좋',\n",
       " '가죽',\n",
       " '선택',\n",
       " '봄',\n",
       " '셔츠',\n",
       " '여름',\n",
       " '새',\n",
       " 'SADDLE',\n",
       " '데님',\n",
       " '표현',\n",
       " '미국',\n",
       " '프린트',\n",
       " '작업',\n",
       " '의상',\n",
       " '속',\n",
       " '가방',\n",
       " '런웨이',\n",
       " '웨어',\n",
       " '협업',\n",
       " '무대',\n",
       " '유명',\n",
       " '처음',\n",
       " '전시',\n",
       " '뷰티',\n",
       " '제작',\n",
       " '슈즈',\n",
       " '티셔츠',\n",
       " '앤',\n",
       " '착용',\n",
       " '아트',\n",
       " 'JEWERLY',\n",
       " '시몬스',\n",
       " '따르',\n",
       " '실루엣',\n",
       " '크루즈',\n",
       " '패션쇼',\n",
       " '푸',\n",
       " '엘',\n",
       " '패션계',\n",
       " '루',\n",
       " '위크',\n",
       " '꽃',\n",
       " '장',\n",
       " 'LVMH',\n",
       " '커',\n",
       " '이미지',\n",
       " '그룹',\n",
       " '핑크']"
      ]
     },
     "execution_count": 122,
     "metadata": {},
     "output_type": "execute_result"
    }
   ],
   "source": [
    "top100_word"
   ]
  },
  {
   "cell_type": "code",
   "execution_count": null,
   "metadata": {},
   "outputs": [],
   "source": []
  },
  {
   "cell_type": "code",
   "execution_count": 131,
   "metadata": {},
   "outputs": [],
   "source": [
    "item_l = ['백', '드레스', '재킷', '주얼리', '옷', '슈즈', '스커트', 'JEWERLY', '팬츠', '가방', '슈트', '향수', '의상', '데님', '액세서리', '톱',\n",
    "        '셔츠', '모자', '수트', '스니커즈', '니트', '시계', '워치', '핸드백', '벨트', '선글라스', '목걸이', '티셔츠', '쇼츠', '샌들',\n",
    "        '귀고리', '워치', '코트', '부츠', '케이프']"
   ]
  },
  {
   "cell_type": "markdown",
   "metadata": {},
   "source": [
    "### magazine_di에 tag 컬럼 생성하기"
   ]
  },
  {
   "cell_type": "code",
   "execution_count": 132,
   "metadata": {},
   "outputs": [
    {
     "data": {
      "text/plain": [
       "1759"
      ]
     },
     "execution_count": 132,
     "metadata": {},
     "output_type": "execute_result"
    }
   ],
   "source": [
    "len(sentences_tag)"
   ]
  },
  {
   "cell_type": "code",
   "execution_count": 133,
   "metadata": {
    "scrolled": true
   },
   "outputs": [],
   "source": [
    "# print(magazine_di['word_dior'][0])\n",
    "# print(sentences_tag[0])"
   ]
  },
  {
   "cell_type": "code",
   "execution_count": 134,
   "metadata": {},
   "outputs": [],
   "source": [
    "# ITEM LIST\n",
    "woitem = []\n",
    "for sentence1 in sentences_tag:\n",
    "#     print(sentence1)\n",
    "    ADFNT = [] \n",
    "    for word, tag in sentence1:\n",
    "        \n",
    "        if not word in item_l:\n",
    "#             print(word)\n",
    "            if word in top100_word :\n",
    "        \n",
    "                if tag in ['NNG','NNP','VA', 'VV', 'OL']:\n",
    "                    ADFNT.append(word)\n",
    "    woitem.append(ADFNT)"
   ]
  },
  {
   "cell_type": "code",
   "execution_count": 135,
   "metadata": {},
   "outputs": [
    {
     "data": {
      "text/plain": [
       "1759"
      ]
     },
     "execution_count": 135,
     "metadata": {},
     "output_type": "execute_result"
    }
   ],
   "source": [
    "len(woitem)"
   ]
  },
  {
   "cell_type": "code",
   "execution_count": 136,
   "metadata": {},
   "outputs": [],
   "source": [
    "# len(sentences_tag)"
   ]
  },
  {
   "cell_type": "code",
   "execution_count": 137,
   "metadata": {
    "scrolled": true
   },
   "outputs": [],
   "source": [
    "# magazine_di['sentences_tag'] = sentences_tag\n",
    "# magazine_di"
   ]
  },
  {
   "cell_type": "code",
   "execution_count": 138,
   "metadata": {
    "scrolled": true
   },
   "outputs": [
    {
     "data": {
      "text/html": [
       "<div>\n",
       "<style scoped>\n",
       "    .dataframe tbody tr th:only-of-type {\n",
       "        vertical-align: middle;\n",
       "    }\n",
       "\n",
       "    .dataframe tbody tr th {\n",
       "        vertical-align: top;\n",
       "    }\n",
       "\n",
       "    .dataframe thead th {\n",
       "        text-align: right;\n",
       "    }\n",
       "</style>\n",
       "<table border=\"1\" class=\"dataframe\">\n",
       "  <thead>\n",
       "    <tr style=\"text-align: right;\">\n",
       "      <th></th>\n",
       "      <th>magazine</th>\n",
       "      <th>brand</th>\n",
       "      <th>category</th>\n",
       "      <th>title</th>\n",
       "      <th>link</th>\n",
       "      <th>date</th>\n",
       "      <th>contents</th>\n",
       "      <th>title_brand</th>\n",
       "      <th>check</th>\n",
       "      <th>word_dior</th>\n",
       "      <th>sentences_tag</th>\n",
       "      <th>ADFN</th>\n",
       "      <th>item</th>\n",
       "      <th>woitem</th>\n",
       "    </tr>\n",
       "  </thead>\n",
       "  <tbody>\n",
       "    <tr>\n",
       "      <th>0</th>\n",
       "      <td>A</td>\n",
       "      <td>D</td>\n",
       "      <td>FASHION</td>\n",
       "      <td>빈티지 쇼핑의 시대</td>\n",
       "      <td>http://www.allurekorea.com/2020/10/27/%eb%b9%8...</td>\n",
       "      <td>2020-10-27</td>\n",
       "      <td>['20년이 지난 패션템에 새로운 활기가 돈다. 바야흐로 빈티지 쇼핑의 시대다.',...</td>\n",
       "      <td>0</td>\n",
       "      <td>0</td>\n",
       "      <td>['그러니 빈티지 패션은, 어쩌면 나도 좋고 너도 좋은 일이다. 당시 사랑했던, 지...</td>\n",
       "      <td>[('[', 'SS'), (\"'\", 'SS'), ('그러', 'VV'), ('니',...</td>\n",
       "      <td>['좋', '좋', '사랑', '사랑', '새롭', '사랑', '좋', '옷', '...</td>\n",
       "      <td>['옷', '데님', '재킷', '재킷', '재킷', '팬츠', '가방', 'DIOR']</td>\n",
       "      <td>[좋, 좋, 사랑, 사랑, 새롭, 사랑, 좋, 새, 라인, 라인, DIOR, SAD...</td>\n",
       "    </tr>\n",
       "    <tr>\n",
       "      <th>1</th>\n",
       "      <td>A</td>\n",
       "      <td>D</td>\n",
       "      <td>FASHION</td>\n",
       "      <td>주식을 시작한 패션 에디터의 이야기, 나는 주주다</td>\n",
       "      <td>http://www.allurekorea.com/2020/10/16/%ec%a3%b...</td>\n",
       "      <td>2020-10-16</td>\n",
       "      <td>['주식의 ‘주’자도 모르는 패션 에디터가 주식에 눈뜨려 하는 순간. 이번 시즌 가...</td>\n",
       "      <td>0</td>\n",
       "      <td>0</td>\n",
       "      <td>['  요즘 들어 주식은 친구들과의 대화에서 빼놓을 수 없는 주제가 되었다. 코로나...</td>\n",
       "      <td>[('[', 'SS'), (\"'\", 'SS'), ('요즘', 'NNG'), ('듣'...</td>\n",
       "      <td>['새롭', '세계', '생각', '세계', 'DIOR', '가방', '가방', '...</td>\n",
       "      <td>['DIOR', '가방', '가방', '가방', 'DIOR']</td>\n",
       "      <td>[새롭, LVMH, 세계, LVMH, 생각, 세계, LVMH, DIOR, 브랜드, ...</td>\n",
       "    </tr>\n",
       "    <tr>\n",
       "      <th>2</th>\n",
       "      <td>A</td>\n",
       "      <td>D</td>\n",
       "      <td>FASHION</td>\n",
       "      <td>거리로 나온 하이패션 슈즈들 4</td>\n",
       "      <td>http://www.allurekorea.com/2020/09/16/%eb%a6%a...</td>\n",
       "      <td>2020-09-16</td>\n",
       "      <td>['나이키의 조던 시리즈들 중에서도 역대급으로 평가받는 ‘에어 디올’은 부르는 게 ...</td>\n",
       "      <td>0</td>\n",
       "      <td>0</td>\n",
       "      <td>[\"['나이키의 조던 시리즈들 중에서도 역대급으로 평가받는 ‘에어 디올’은 부르는 ...</td>\n",
       "      <td>[('[', 'SS'), ('\"', 'SS'), ('[', 'SS'), (\"'\", ...</td>\n",
       "      <td>['DIOR', '하우스', '브랜드', '슈즈', 'DIOR', '작품', 'DI...</td>\n",
       "      <td>['DIOR', '슈즈', 'DIOR', 'DIOR', 'DIOR']</td>\n",
       "      <td>[DIOR, 하우스, 브랜드, DIOR, 작품, DIOR, 제품, 화이트, 컬러, ...</td>\n",
       "    </tr>\n",
       "    <tr>\n",
       "      <th>3</th>\n",
       "      <td>A</td>\n",
       "      <td>D</td>\n",
       "      <td>FASHION</td>\n",
       "      <td>차정원부터 아이린까지. 옷 잘입는 셀럽들의 사복 패션에 등장한 뉴 백은 무엇?</td>\n",
       "      <td>http://www.allurekorea.com/2020/08/13/%ec%b0%a...</td>\n",
       "      <td>2020-08-13</td>\n",
       "      <td>['셀럽들의 데일리룩에서 캐치한 뉴 백!', '@ch_amii', '지갑, 핸드폰,...</td>\n",
       "      <td>0</td>\n",
       "      <td>0</td>\n",
       "      <td>['디올 레이디 디올 디올아무르 미니백 5백만원대']</td>\n",
       "      <td>[('[', 'SS'), (\"'\", 'SS'), ('DIOR', 'OL'), ('L...</td>\n",
       "      <td>['DIOR', 'LADY', 'DIOR', 'DIOR']</td>\n",
       "      <td>['DIOR', 'DIOR', 'DIOR']</td>\n",
       "      <td>[DIOR, LADY, DIOR, DIOR]</td>\n",
       "    </tr>\n",
       "    <tr>\n",
       "      <th>4</th>\n",
       "      <td>A</td>\n",
       "      <td>D</td>\n",
       "      <td>CELEBRITY</td>\n",
       "      <td>DON’T CATEGORIZE ME / 유태오</td>\n",
       "      <td>http://www.allurekorea.com/2020/05/28/dont-cat...</td>\n",
       "      <td>2020-05-28</td>\n",
       "      <td>['“Don’t Categorize Me.” 그가 말했다. 배우 유태오는 더없이 자...</td>\n",
       "      <td>0</td>\n",
       "      <td>0</td>\n",
       "      <td>['실크 슬리브리스와 블랙 와이드 팬츠는 김서룡 옴므. 블랙 부츠는 보테가 베네타....</td>\n",
       "      <td>[('[', 'SS'), (\"'\", 'SS'), ('실크', 'NNG'), ('슬리...</td>\n",
       "      <td>['블랙', '팬츠', 'HOMME', '블랙', 'DIOR', 'DIOR']</td>\n",
       "      <td>['팬츠', '부츠', 'DIOR', 'DIOR']</td>\n",
       "      <td>[블랙, HOMME, 블랙, DIOR, DIOR]</td>\n",
       "    </tr>\n",
       "    <tr>\n",
       "      <th>...</th>\n",
       "      <td>...</td>\n",
       "      <td>...</td>\n",
       "      <td>...</td>\n",
       "      <td>...</td>\n",
       "      <td>...</td>\n",
       "      <td>...</td>\n",
       "      <td>...</td>\n",
       "      <td>...</td>\n",
       "      <td>...</td>\n",
       "      <td>...</td>\n",
       "      <td>...</td>\n",
       "      <td>...</td>\n",
       "      <td>...</td>\n",
       "      <td>...</td>\n",
       "    </tr>\n",
       "    <tr>\n",
       "      <th>1754</th>\n",
       "      <td>W</td>\n",
       "      <td>D</td>\n",
       "      <td>FASHION, 쇼핑, 트렌드</td>\n",
       "      <td>가을의 하이킹</td>\n",
       "      <td>http://www.wkorea.com/2016/09/05/%ea%b0%80%ec%...</td>\n",
       "      <td>2016-09-05</td>\n",
       "      <td>'깊은 산과 거친 계곡, 험준한 바위를 오르내리는 트레킹화의 변신.\\n\\n1. 밀리...</td>\n",
       "      <td>0</td>\n",
       "      <td>0</td>\n",
       "      <td>['6. 주얼 장식과 앙증맞은 리본이 반전의 매력을 더하는 부츠는 디올 제품. 1백...</td>\n",
       "      <td>[('[', 'SS'), (\"'\", 'SS'), ('6', 'NR'), ('.', ...</td>\n",
       "      <td>['장식', 'DIOR', '제품']</td>\n",
       "      <td>['부츠', 'DIOR']</td>\n",
       "      <td>[장식, DIOR, 제품]</td>\n",
       "    </tr>\n",
       "    <tr>\n",
       "      <th>1755</th>\n",
       "      <td>W</td>\n",
       "      <td>D</td>\n",
       "      <td>FASHION, 뉴스</td>\n",
       "      <td>W해시태그</td>\n",
       "      <td>http://www.wkorea.com/2016/09/02/w%ed%95%b4%ec...</td>\n",
       "      <td>2016-09-02</td>\n",
       "      <td>'패션&amp;뷰티 아이템, 핫 스폿, 영화, 전시 등 더블유 에디터의 날카롭고 감각적인 ...</td>\n",
       "      <td>0</td>\n",
       "      <td>0</td>\n",
       "      <td>['#W뷰티콕  (뷰티 디렉터 송시은)\\\\n조회 2,023회\\\\n너무나 뜨거운 여름...</td>\n",
       "      <td>[('[', 'SS'), (\"'\", 'SS'), ('#', 'SW'), ('W', ...</td>\n",
       "      <td>['뷰티', '뷰티', '디렉터', '여름', '뷰티', '브랜드', '컬러', '...</td>\n",
       "      <td>['DIOR', '코트', 'DIOR']</td>\n",
       "      <td>[뷰티, 뷰티, 디렉터, 여름, 뷰티, 브랜드, 컬러, 컬러, 여름, 컬러, 컬러,...</td>\n",
       "    </tr>\n",
       "    <tr>\n",
       "      <th>1756</th>\n",
       "      <td>W</td>\n",
       "      <td>D</td>\n",
       "      <td>FASHION, 뉴스</td>\n",
       "      <td>마법의 색</td>\n",
       "      <td>http://www.wkorea.com/2016/09/02/%eb%a7%88%eb%...</td>\n",
       "      <td>2016-09-02</td>\n",
       "      <td>'크리스찬 디올에게 초록은 곧 ‘자연’을, 빨강은 ‘생명’을, 분홍은 ‘감미로움’을...</td>\n",
       "      <td>0</td>\n",
       "      <td>0</td>\n",
       "      <td>[\"'크리스찬 디올에게 초록은 곧 ‘자연’을, 빨강은 ‘생명’을, 분홍은 ‘감미로움...</td>\n",
       "      <td>[('[', 'SS'), ('\"', 'SS'), (\"'\", 'SS'), ('CHRI...</td>\n",
       "      <td>['CHRISTIAN', 'DIOR', 'DIOR', 'DIOR', '컬러', '세...</td>\n",
       "      <td>['DIOR', 'DIOR', 'DIOR', 'DIOR', 'DIOR', 'DIOR']</td>\n",
       "      <td>[CHRISTIAN, DIOR, DIOR, DIOR, 컬러, 세계, DIOR, 전시...</td>\n",
       "    </tr>\n",
       "    <tr>\n",
       "      <th>1757</th>\n",
       "      <td>W</td>\n",
       "      <td>D</td>\n",
       "      <td>FASHION, 화보</td>\n",
       "      <td>따로 또 같이</td>\n",
       "      <td>http://www.wkorea.com/2016/09/02/%eb%94%b0%eb%...</td>\n",
       "      <td>2016-09-02</td>\n",
       "      <td>'새로운 시즌을 맞아 더 모호하고 더 자유로운 방식으로 진화하고 있는 젠더 블렌딩 ...</td>\n",
       "      <td>0</td>\n",
       "      <td>0</td>\n",
       "      <td>['자수 장식 슈트, 실크 셔츠에 리본 타이를 연출한 구찌, 남성다운 검정 테일러드...</td>\n",
       "      <td>[('[', 'SS'), (\"'\", 'SS'), ('자수', 'NNG'), ('장식...</td>\n",
       "      <td>['장식', '슈트', '셔츠', '슈트', '장식', '선택', 'DIOR', '...</td>\n",
       "      <td>['슈트', '셔츠', '슈트', 'DIOR', '슈트', '셔츠', '슈트']</td>\n",
       "      <td>[장식, 장식, 선택, DIOR, HOMME, 여성]</td>\n",
       "    </tr>\n",
       "    <tr>\n",
       "      <th>1758</th>\n",
       "      <td>W</td>\n",
       "      <td>D</td>\n",
       "      <td>FASHION, 트렌드</td>\n",
       "      <td>너도 나도 베트멍</td>\n",
       "      <td>http://www.wkorea.com/2016/09/01/%eb%84%88%eb%...</td>\n",
       "      <td>2016-09-01</td>\n",
       "      <td>'패션계에서 노바운더리 시대의 전후를 가르는 존재가 된 베트멍. 그 대표 아이템은 ...</td>\n",
       "      <td>0</td>\n",
       "      <td>0</td>\n",
       "      <td>['리하나\\\\n나이 만28세\\\\n직업 가수, 디자이너, 패셔니스타, 배드 걸\\\\n평...</td>\n",
       "      <td>[('[', 'SS'), (\"'\", 'SS'), ('리', 'NNG'), ('하나'...</td>\n",
       "      <td>['디자이너', '스타일', 'DIOR', '드레스', '디자이너', '새롭', '...</td>\n",
       "      <td>['DIOR', '드레스', '스커트', '티셔츠', '팬츠', '부츠']</td>\n",
       "      <td>[디자이너, 스타일, DIOR, 디자이너, 새롭, 협업]</td>\n",
       "    </tr>\n",
       "  </tbody>\n",
       "</table>\n",
       "<p>1759 rows × 14 columns</p>\n",
       "</div>"
      ],
      "text/plain": [
       "     magazine brand          category  \\\n",
       "0           A     D           FASHION   \n",
       "1           A     D           FASHION   \n",
       "2           A     D           FASHION   \n",
       "3           A     D           FASHION   \n",
       "4           A     D         CELEBRITY   \n",
       "...       ...   ...               ...   \n",
       "1754        W     D  FASHION, 쇼핑, 트렌드   \n",
       "1755        W     D       FASHION, 뉴스   \n",
       "1756        W     D       FASHION, 뉴스   \n",
       "1757        W     D       FASHION, 화보   \n",
       "1758        W     D      FASHION, 트렌드   \n",
       "\n",
       "                                            title  \\\n",
       "0                                      빈티지 쇼핑의 시대   \n",
       "1                     주식을 시작한 패션 에디터의 이야기, 나는 주주다   \n",
       "2                               거리로 나온 하이패션 슈즈들 4   \n",
       "3     차정원부터 아이린까지. 옷 잘입는 셀럽들의 사복 패션에 등장한 뉴 백은 무엇?   \n",
       "4                       DON’T CATEGORIZE ME / 유태오   \n",
       "...                                           ...   \n",
       "1754                                      가을의 하이킹   \n",
       "1755                                        W해시태그   \n",
       "1756                                        마법의 색   \n",
       "1757                                      따로 또 같이   \n",
       "1758                                    너도 나도 베트멍   \n",
       "\n",
       "                                                   link        date  \\\n",
       "0     http://www.allurekorea.com/2020/10/27/%eb%b9%8...  2020-10-27   \n",
       "1     http://www.allurekorea.com/2020/10/16/%ec%a3%b...  2020-10-16   \n",
       "2     http://www.allurekorea.com/2020/09/16/%eb%a6%a...  2020-09-16   \n",
       "3     http://www.allurekorea.com/2020/08/13/%ec%b0%a...  2020-08-13   \n",
       "4     http://www.allurekorea.com/2020/05/28/dont-cat...  2020-05-28   \n",
       "...                                                 ...         ...   \n",
       "1754  http://www.wkorea.com/2016/09/05/%ea%b0%80%ec%...  2016-09-05   \n",
       "1755  http://www.wkorea.com/2016/09/02/w%ed%95%b4%ec...  2016-09-02   \n",
       "1756  http://www.wkorea.com/2016/09/02/%eb%a7%88%eb%...  2016-09-02   \n",
       "1757  http://www.wkorea.com/2016/09/02/%eb%94%b0%eb%...  2016-09-02   \n",
       "1758  http://www.wkorea.com/2016/09/01/%eb%84%88%eb%...  2016-09-01   \n",
       "\n",
       "                                               contents  title_brand  check  \\\n",
       "0     ['20년이 지난 패션템에 새로운 활기가 돈다. 바야흐로 빈티지 쇼핑의 시대다.',...            0      0   \n",
       "1     ['주식의 ‘주’자도 모르는 패션 에디터가 주식에 눈뜨려 하는 순간. 이번 시즌 가...            0      0   \n",
       "2     ['나이키의 조던 시리즈들 중에서도 역대급으로 평가받는 ‘에어 디올’은 부르는 게 ...            0      0   \n",
       "3     ['셀럽들의 데일리룩에서 캐치한 뉴 백!', '@ch_amii', '지갑, 핸드폰,...            0      0   \n",
       "4     ['“Don’t Categorize Me.” 그가 말했다. 배우 유태오는 더없이 자...            0      0   \n",
       "...                                                 ...          ...    ...   \n",
       "1754  '깊은 산과 거친 계곡, 험준한 바위를 오르내리는 트레킹화의 변신.\\n\\n1. 밀리...            0      0   \n",
       "1755  '패션&뷰티 아이템, 핫 스폿, 영화, 전시 등 더블유 에디터의 날카롭고 감각적인 ...            0      0   \n",
       "1756  '크리스찬 디올에게 초록은 곧 ‘자연’을, 빨강은 ‘생명’을, 분홍은 ‘감미로움’을...            0      0   \n",
       "1757  '새로운 시즌을 맞아 더 모호하고 더 자유로운 방식으로 진화하고 있는 젠더 블렌딩 ...            0      0   \n",
       "1758  '패션계에서 노바운더리 시대의 전후를 가르는 존재가 된 베트멍. 그 대표 아이템은 ...            0      0   \n",
       "\n",
       "                                              word_dior  \\\n",
       "0     ['그러니 빈티지 패션은, 어쩌면 나도 좋고 너도 좋은 일이다. 당시 사랑했던, 지...   \n",
       "1     ['  요즘 들어 주식은 친구들과의 대화에서 빼놓을 수 없는 주제가 되었다. 코로나...   \n",
       "2     [\"['나이키의 조던 시리즈들 중에서도 역대급으로 평가받는 ‘에어 디올’은 부르는 ...   \n",
       "3                         ['디올 레이디 디올 디올아무르 미니백 5백만원대']   \n",
       "4     ['실크 슬리브리스와 블랙 와이드 팬츠는 김서룡 옴므. 블랙 부츠는 보테가 베네타....   \n",
       "...                                                 ...   \n",
       "1754  ['6. 주얼 장식과 앙증맞은 리본이 반전의 매력을 더하는 부츠는 디올 제품. 1백...   \n",
       "1755  ['#W뷰티콕  (뷰티 디렉터 송시은)\\\\n조회 2,023회\\\\n너무나 뜨거운 여름...   \n",
       "1756  [\"'크리스찬 디올에게 초록은 곧 ‘자연’을, 빨강은 ‘생명’을, 분홍은 ‘감미로움...   \n",
       "1757  ['자수 장식 슈트, 실크 셔츠에 리본 타이를 연출한 구찌, 남성다운 검정 테일러드...   \n",
       "1758  ['리하나\\\\n나이 만28세\\\\n직업 가수, 디자이너, 패셔니스타, 배드 걸\\\\n평...   \n",
       "\n",
       "                                          sentences_tag  \\\n",
       "0     [('[', 'SS'), (\"'\", 'SS'), ('그러', 'VV'), ('니',...   \n",
       "1     [('[', 'SS'), (\"'\", 'SS'), ('요즘', 'NNG'), ('듣'...   \n",
       "2     [('[', 'SS'), ('\"', 'SS'), ('[', 'SS'), (\"'\", ...   \n",
       "3     [('[', 'SS'), (\"'\", 'SS'), ('DIOR', 'OL'), ('L...   \n",
       "4     [('[', 'SS'), (\"'\", 'SS'), ('실크', 'NNG'), ('슬리...   \n",
       "...                                                 ...   \n",
       "1754  [('[', 'SS'), (\"'\", 'SS'), ('6', 'NR'), ('.', ...   \n",
       "1755  [('[', 'SS'), (\"'\", 'SS'), ('#', 'SW'), ('W', ...   \n",
       "1756  [('[', 'SS'), ('\"', 'SS'), (\"'\", 'SS'), ('CHRI...   \n",
       "1757  [('[', 'SS'), (\"'\", 'SS'), ('자수', 'NNG'), ('장식...   \n",
       "1758  [('[', 'SS'), (\"'\", 'SS'), ('리', 'NNG'), ('하나'...   \n",
       "\n",
       "                                                   ADFN  \\\n",
       "0     ['좋', '좋', '사랑', '사랑', '새롭', '사랑', '좋', '옷', '...   \n",
       "1     ['새롭', '세계', '생각', '세계', 'DIOR', '가방', '가방', '...   \n",
       "2     ['DIOR', '하우스', '브랜드', '슈즈', 'DIOR', '작품', 'DI...   \n",
       "3                      ['DIOR', 'LADY', 'DIOR', 'DIOR']   \n",
       "4           ['블랙', '팬츠', 'HOMME', '블랙', 'DIOR', 'DIOR']   \n",
       "...                                                 ...   \n",
       "1754                               ['장식', 'DIOR', '제품']   \n",
       "1755  ['뷰티', '뷰티', '디렉터', '여름', '뷰티', '브랜드', '컬러', '...   \n",
       "1756  ['CHRISTIAN', 'DIOR', 'DIOR', 'DIOR', '컬러', '세...   \n",
       "1757  ['장식', '슈트', '셔츠', '슈트', '장식', '선택', 'DIOR', '...   \n",
       "1758  ['디자이너', '스타일', 'DIOR', '드레스', '디자이너', '새롭', '...   \n",
       "\n",
       "                                                   item  \\\n",
       "0     ['옷', '데님', '재킷', '재킷', '재킷', '팬츠', '가방', 'DIOR']   \n",
       "1                    ['DIOR', '가방', '가방', '가방', 'DIOR']   \n",
       "2                ['DIOR', '슈즈', 'DIOR', 'DIOR', 'DIOR']   \n",
       "3                              ['DIOR', 'DIOR', 'DIOR']   \n",
       "4                          ['팬츠', '부츠', 'DIOR', 'DIOR']   \n",
       "...                                                 ...   \n",
       "1754                                     ['부츠', 'DIOR']   \n",
       "1755                             ['DIOR', '코트', 'DIOR']   \n",
       "1756   ['DIOR', 'DIOR', 'DIOR', 'DIOR', 'DIOR', 'DIOR']   \n",
       "1757       ['슈트', '셔츠', '슈트', 'DIOR', '슈트', '셔츠', '슈트']   \n",
       "1758          ['DIOR', '드레스', '스커트', '티셔츠', '팬츠', '부츠']   \n",
       "\n",
       "                                                 woitem  \n",
       "0     [좋, 좋, 사랑, 사랑, 새롭, 사랑, 좋, 새, 라인, 라인, DIOR, SAD...  \n",
       "1     [새롭, LVMH, 세계, LVMH, 생각, 세계, LVMH, DIOR, 브랜드, ...  \n",
       "2     [DIOR, 하우스, 브랜드, DIOR, 작품, DIOR, 제품, 화이트, 컬러, ...  \n",
       "3                              [DIOR, LADY, DIOR, DIOR]  \n",
       "4                           [블랙, HOMME, 블랙, DIOR, DIOR]  \n",
       "...                                                 ...  \n",
       "1754                                     [장식, DIOR, 제품]  \n",
       "1755  [뷰티, 뷰티, 디렉터, 여름, 뷰티, 브랜드, 컬러, 컬러, 여름, 컬러, 컬러,...  \n",
       "1756  [CHRISTIAN, DIOR, DIOR, DIOR, 컬러, 세계, DIOR, 전시...  \n",
       "1757                      [장식, 장식, 선택, DIOR, HOMME, 여성]  \n",
       "1758                    [디자이너, 스타일, DIOR, 디자이너, 새롭, 협업]  \n",
       "\n",
       "[1759 rows x 14 columns]"
      ]
     },
     "execution_count": 138,
     "metadata": {},
     "output_type": "execute_result"
    }
   ],
   "source": [
    "magazine_di['woitem'] = woitem\n",
    "magazine_di"
   ]
  },
  {
   "cell_type": "code",
   "execution_count": 148,
   "metadata": {},
   "outputs": [],
   "source": [
    "magazine_di.drop(['brand', 'category','link', 'date', 'contents','title_brand','check'], axis=1, inplace=True )"
   ]
  },
  {
   "cell_type": "code",
   "execution_count": 147,
   "metadata": {},
   "outputs": [],
   "source": [
    "magazine_di.to_csv('./data/d/magazine_D_t.csv', index = False, sep ='|', encoding = 'utf-8')"
   ]
  },
  {
   "cell_type": "code",
   "execution_count": 149,
   "metadata": {
    "scrolled": true
   },
   "outputs": [
    {
     "data": {
      "text/html": [
       "<div>\n",
       "<style scoped>\n",
       "    .dataframe tbody tr th:only-of-type {\n",
       "        vertical-align: middle;\n",
       "    }\n",
       "\n",
       "    .dataframe tbody tr th {\n",
       "        vertical-align: top;\n",
       "    }\n",
       "\n",
       "    .dataframe thead th {\n",
       "        text-align: right;\n",
       "    }\n",
       "</style>\n",
       "<table border=\"1\" class=\"dataframe\">\n",
       "  <thead>\n",
       "    <tr style=\"text-align: right;\">\n",
       "      <th></th>\n",
       "      <th>magazine</th>\n",
       "      <th>brand</th>\n",
       "      <th>category</th>\n",
       "      <th>title</th>\n",
       "      <th>link</th>\n",
       "      <th>date</th>\n",
       "      <th>contents</th>\n",
       "      <th>title_brand</th>\n",
       "      <th>check</th>\n",
       "      <th>word_dior</th>\n",
       "      <th>sentences_tag</th>\n",
       "      <th>ADFN</th>\n",
       "      <th>item</th>\n",
       "      <th>woitem</th>\n",
       "    </tr>\n",
       "  </thead>\n",
       "  <tbody>\n",
       "    <tr>\n",
       "      <th>0</th>\n",
       "      <td>A</td>\n",
       "      <td>D</td>\n",
       "      <td>FASHION</td>\n",
       "      <td>빈티지 쇼핑의 시대</td>\n",
       "      <td>http://www.allurekorea.com/2020/10/27/%eb%b9%8...</td>\n",
       "      <td>2020-10-27</td>\n",
       "      <td>['20년이 지난 패션템에 새로운 활기가 돈다. 바야흐로 빈티지 쇼핑의 시대다.',...</td>\n",
       "      <td>0</td>\n",
       "      <td>0</td>\n",
       "      <td>['그러니 빈티지 패션은, 어쩌면 나도 좋고 너도 좋은 일이다. 당시 사랑했던, 지...</td>\n",
       "      <td>[('[', 'SS'), (\"'\", 'SS'), ('그러', 'VV'), ('니',...</td>\n",
       "      <td>['좋', '좋', '사랑', '사랑', '새롭', '사랑', '좋', '옷', '...</td>\n",
       "      <td>['옷', '데님', '재킷', '재킷', '재킷', '팬츠', '가방', 'DIOR']</td>\n",
       "      <td>['좋', '좋', '사랑', '사랑', '새롭', '사랑', '좋', '새', '...</td>\n",
       "    </tr>\n",
       "    <tr>\n",
       "      <th>1</th>\n",
       "      <td>A</td>\n",
       "      <td>D</td>\n",
       "      <td>FASHION</td>\n",
       "      <td>주식을 시작한 패션 에디터의 이야기, 나는 주주다</td>\n",
       "      <td>http://www.allurekorea.com/2020/10/16/%ec%a3%b...</td>\n",
       "      <td>2020-10-16</td>\n",
       "      <td>['주식의 ‘주’자도 모르는 패션 에디터가 주식에 눈뜨려 하는 순간. 이번 시즌 가...</td>\n",
       "      <td>0</td>\n",
       "      <td>0</td>\n",
       "      <td>['  요즘 들어 주식은 친구들과의 대화에서 빼놓을 수 없는 주제가 되었다. 코로나...</td>\n",
       "      <td>[('[', 'SS'), (\"'\", 'SS'), ('요즘', 'NNG'), ('듣'...</td>\n",
       "      <td>['새롭', '세계', '생각', '세계', 'DIOR', '가방', '가방', '...</td>\n",
       "      <td>['DIOR', '가방', '가방', '가방', 'DIOR']</td>\n",
       "      <td>['새롭', 'LVMH', '세계', 'LVMH', '생각', '세계', 'LVMH...</td>\n",
       "    </tr>\n",
       "    <tr>\n",
       "      <th>2</th>\n",
       "      <td>A</td>\n",
       "      <td>D</td>\n",
       "      <td>FASHION</td>\n",
       "      <td>거리로 나온 하이패션 슈즈들 4</td>\n",
       "      <td>http://www.allurekorea.com/2020/09/16/%eb%a6%a...</td>\n",
       "      <td>2020-09-16</td>\n",
       "      <td>['나이키의 조던 시리즈들 중에서도 역대급으로 평가받는 ‘에어 디올’은 부르는 게 ...</td>\n",
       "      <td>0</td>\n",
       "      <td>0</td>\n",
       "      <td>[\"['나이키의 조던 시리즈들 중에서도 역대급으로 평가받는 ‘에어 디올’은 부르는 ...</td>\n",
       "      <td>[('[', 'SS'), ('\"', 'SS'), ('[', 'SS'), (\"'\", ...</td>\n",
       "      <td>['DIOR', '하우스', '브랜드', '슈즈', 'DIOR', '작품', 'DI...</td>\n",
       "      <td>['DIOR', '슈즈', 'DIOR', 'DIOR', 'DIOR']</td>\n",
       "      <td>['DIOR', '하우스', '브랜드', 'DIOR', '작품', 'DIOR', '...</td>\n",
       "    </tr>\n",
       "    <tr>\n",
       "      <th>3</th>\n",
       "      <td>A</td>\n",
       "      <td>D</td>\n",
       "      <td>FASHION</td>\n",
       "      <td>차정원부터 아이린까지. 옷 잘입는 셀럽들의 사복 패션에 등장한 뉴 백은 무엇?</td>\n",
       "      <td>http://www.allurekorea.com/2020/08/13/%ec%b0%a...</td>\n",
       "      <td>2020-08-13</td>\n",
       "      <td>['셀럽들의 데일리룩에서 캐치한 뉴 백!', '@ch_amii', '지갑, 핸드폰,...</td>\n",
       "      <td>0</td>\n",
       "      <td>0</td>\n",
       "      <td>['디올 레이디 디올 디올아무르 미니백 5백만원대']</td>\n",
       "      <td>[('[', 'SS'), (\"'\", 'SS'), ('DIOR', 'OL'), ('L...</td>\n",
       "      <td>['DIOR', 'LADY', 'DIOR', 'DIOR']</td>\n",
       "      <td>['DIOR', 'DIOR', 'DIOR']</td>\n",
       "      <td>['DIOR', 'LADY', 'DIOR', 'DIOR']</td>\n",
       "    </tr>\n",
       "    <tr>\n",
       "      <th>4</th>\n",
       "      <td>A</td>\n",
       "      <td>D</td>\n",
       "      <td>CELEBRITY</td>\n",
       "      <td>DON’T CATEGORIZE ME / 유태오</td>\n",
       "      <td>http://www.allurekorea.com/2020/05/28/dont-cat...</td>\n",
       "      <td>2020-05-28</td>\n",
       "      <td>['“Don’t Categorize Me.” 그가 말했다. 배우 유태오는 더없이 자...</td>\n",
       "      <td>0</td>\n",
       "      <td>0</td>\n",
       "      <td>['실크 슬리브리스와 블랙 와이드 팬츠는 김서룡 옴므. 블랙 부츠는 보테가 베네타....</td>\n",
       "      <td>[('[', 'SS'), (\"'\", 'SS'), ('실크', 'NNG'), ('슬리...</td>\n",
       "      <td>['블랙', '팬츠', 'HOMME', '블랙', 'DIOR', 'DIOR']</td>\n",
       "      <td>['팬츠', '부츠', 'DIOR', 'DIOR']</td>\n",
       "      <td>['블랙', 'HOMME', '블랙', 'DIOR', 'DIOR']</td>\n",
       "    </tr>\n",
       "    <tr>\n",
       "      <th>...</th>\n",
       "      <td>...</td>\n",
       "      <td>...</td>\n",
       "      <td>...</td>\n",
       "      <td>...</td>\n",
       "      <td>...</td>\n",
       "      <td>...</td>\n",
       "      <td>...</td>\n",
       "      <td>...</td>\n",
       "      <td>...</td>\n",
       "      <td>...</td>\n",
       "      <td>...</td>\n",
       "      <td>...</td>\n",
       "      <td>...</td>\n",
       "      <td>...</td>\n",
       "    </tr>\n",
       "    <tr>\n",
       "      <th>1754</th>\n",
       "      <td>W</td>\n",
       "      <td>D</td>\n",
       "      <td>FASHION, 쇼핑, 트렌드</td>\n",
       "      <td>가을의 하이킹</td>\n",
       "      <td>http://www.wkorea.com/2016/09/05/%ea%b0%80%ec%...</td>\n",
       "      <td>2016-09-05</td>\n",
       "      <td>'깊은 산과 거친 계곡, 험준한 바위를 오르내리는 트레킹화의 변신.\\n\\n1. 밀리...</td>\n",
       "      <td>0</td>\n",
       "      <td>0</td>\n",
       "      <td>['6. 주얼 장식과 앙증맞은 리본이 반전의 매력을 더하는 부츠는 디올 제품. 1백...</td>\n",
       "      <td>[('[', 'SS'), (\"'\", 'SS'), ('6', 'NR'), ('.', ...</td>\n",
       "      <td>['장식', 'DIOR', '제품']</td>\n",
       "      <td>['부츠', 'DIOR']</td>\n",
       "      <td>['장식', 'DIOR', '제품']</td>\n",
       "    </tr>\n",
       "    <tr>\n",
       "      <th>1755</th>\n",
       "      <td>W</td>\n",
       "      <td>D</td>\n",
       "      <td>FASHION, 뉴스</td>\n",
       "      <td>W해시태그</td>\n",
       "      <td>http://www.wkorea.com/2016/09/02/w%ed%95%b4%ec...</td>\n",
       "      <td>2016-09-02</td>\n",
       "      <td>'패션&amp;뷰티 아이템, 핫 스폿, 영화, 전시 등 더블유 에디터의 날카롭고 감각적인 ...</td>\n",
       "      <td>0</td>\n",
       "      <td>0</td>\n",
       "      <td>['#W뷰티콕  (뷰티 디렉터 송시은)\\\\n조회 2,023회\\\\n너무나 뜨거운 여름...</td>\n",
       "      <td>[('[', 'SS'), (\"'\", 'SS'), ('#', 'SW'), ('W', ...</td>\n",
       "      <td>['뷰티', '뷰티', '디렉터', '여름', '뷰티', '브랜드', '컬러', '...</td>\n",
       "      <td>['DIOR', '코트', 'DIOR']</td>\n",
       "      <td>['뷰티', '뷰티', '디렉터', '여름', '뷰티', '브랜드', '컬러', '...</td>\n",
       "    </tr>\n",
       "    <tr>\n",
       "      <th>1756</th>\n",
       "      <td>W</td>\n",
       "      <td>D</td>\n",
       "      <td>FASHION, 뉴스</td>\n",
       "      <td>마법의 색</td>\n",
       "      <td>http://www.wkorea.com/2016/09/02/%eb%a7%88%eb%...</td>\n",
       "      <td>2016-09-02</td>\n",
       "      <td>'크리스찬 디올에게 초록은 곧 ‘자연’을, 빨강은 ‘생명’을, 분홍은 ‘감미로움’을...</td>\n",
       "      <td>0</td>\n",
       "      <td>0</td>\n",
       "      <td>[\"'크리스찬 디올에게 초록은 곧 ‘자연’을, 빨강은 ‘생명’을, 분홍은 ‘감미로움...</td>\n",
       "      <td>[('[', 'SS'), ('\"', 'SS'), (\"'\", 'SS'), ('CHRI...</td>\n",
       "      <td>['CHRISTIAN', 'DIOR', 'DIOR', 'DIOR', '컬러', '세...</td>\n",
       "      <td>['DIOR', 'DIOR', 'DIOR', 'DIOR', 'DIOR', 'DIOR']</td>\n",
       "      <td>['CHRISTIAN', 'DIOR', 'DIOR', 'DIOR', '컬러', '세...</td>\n",
       "    </tr>\n",
       "    <tr>\n",
       "      <th>1757</th>\n",
       "      <td>W</td>\n",
       "      <td>D</td>\n",
       "      <td>FASHION, 화보</td>\n",
       "      <td>따로 또 같이</td>\n",
       "      <td>http://www.wkorea.com/2016/09/02/%eb%94%b0%eb%...</td>\n",
       "      <td>2016-09-02</td>\n",
       "      <td>'새로운 시즌을 맞아 더 모호하고 더 자유로운 방식으로 진화하고 있는 젠더 블렌딩 ...</td>\n",
       "      <td>0</td>\n",
       "      <td>0</td>\n",
       "      <td>['자수 장식 슈트, 실크 셔츠에 리본 타이를 연출한 구찌, 남성다운 검정 테일러드...</td>\n",
       "      <td>[('[', 'SS'), (\"'\", 'SS'), ('자수', 'NNG'), ('장식...</td>\n",
       "      <td>['장식', '슈트', '셔츠', '슈트', '장식', '선택', 'DIOR', '...</td>\n",
       "      <td>['슈트', '셔츠', '슈트', 'DIOR', '슈트', '셔츠', '슈트']</td>\n",
       "      <td>['장식', '장식', '선택', 'DIOR', 'HOMME', '여성']</td>\n",
       "    </tr>\n",
       "    <tr>\n",
       "      <th>1758</th>\n",
       "      <td>W</td>\n",
       "      <td>D</td>\n",
       "      <td>FASHION, 트렌드</td>\n",
       "      <td>너도 나도 베트멍</td>\n",
       "      <td>http://www.wkorea.com/2016/09/01/%eb%84%88%eb%...</td>\n",
       "      <td>2016-09-01</td>\n",
       "      <td>'패션계에서 노바운더리 시대의 전후를 가르는 존재가 된 베트멍. 그 대표 아이템은 ...</td>\n",
       "      <td>0</td>\n",
       "      <td>0</td>\n",
       "      <td>['리하나\\\\n나이 만28세\\\\n직업 가수, 디자이너, 패셔니스타, 배드 걸\\\\n평...</td>\n",
       "      <td>[('[', 'SS'), (\"'\", 'SS'), ('리', 'NNG'), ('하나'...</td>\n",
       "      <td>['디자이너', '스타일', 'DIOR', '드레스', '디자이너', '새롭', '...</td>\n",
       "      <td>['DIOR', '드레스', '스커트', '티셔츠', '팬츠', '부츠']</td>\n",
       "      <td>['디자이너', '스타일', 'DIOR', '디자이너', '새롭', '협업']</td>\n",
       "    </tr>\n",
       "  </tbody>\n",
       "</table>\n",
       "<p>1759 rows × 14 columns</p>\n",
       "</div>"
      ],
      "text/plain": [
       "     magazine brand          category  \\\n",
       "0           A     D           FASHION   \n",
       "1           A     D           FASHION   \n",
       "2           A     D           FASHION   \n",
       "3           A     D           FASHION   \n",
       "4           A     D         CELEBRITY   \n",
       "...       ...   ...               ...   \n",
       "1754        W     D  FASHION, 쇼핑, 트렌드   \n",
       "1755        W     D       FASHION, 뉴스   \n",
       "1756        W     D       FASHION, 뉴스   \n",
       "1757        W     D       FASHION, 화보   \n",
       "1758        W     D      FASHION, 트렌드   \n",
       "\n",
       "                                            title  \\\n",
       "0                                      빈티지 쇼핑의 시대   \n",
       "1                     주식을 시작한 패션 에디터의 이야기, 나는 주주다   \n",
       "2                               거리로 나온 하이패션 슈즈들 4   \n",
       "3     차정원부터 아이린까지. 옷 잘입는 셀럽들의 사복 패션에 등장한 뉴 백은 무엇?   \n",
       "4                       DON’T CATEGORIZE ME / 유태오   \n",
       "...                                           ...   \n",
       "1754                                      가을의 하이킹   \n",
       "1755                                        W해시태그   \n",
       "1756                                        마법의 색   \n",
       "1757                                      따로 또 같이   \n",
       "1758                                    너도 나도 베트멍   \n",
       "\n",
       "                                                   link        date  \\\n",
       "0     http://www.allurekorea.com/2020/10/27/%eb%b9%8...  2020-10-27   \n",
       "1     http://www.allurekorea.com/2020/10/16/%ec%a3%b...  2020-10-16   \n",
       "2     http://www.allurekorea.com/2020/09/16/%eb%a6%a...  2020-09-16   \n",
       "3     http://www.allurekorea.com/2020/08/13/%ec%b0%a...  2020-08-13   \n",
       "4     http://www.allurekorea.com/2020/05/28/dont-cat...  2020-05-28   \n",
       "...                                                 ...         ...   \n",
       "1754  http://www.wkorea.com/2016/09/05/%ea%b0%80%ec%...  2016-09-05   \n",
       "1755  http://www.wkorea.com/2016/09/02/w%ed%95%b4%ec...  2016-09-02   \n",
       "1756  http://www.wkorea.com/2016/09/02/%eb%a7%88%eb%...  2016-09-02   \n",
       "1757  http://www.wkorea.com/2016/09/02/%eb%94%b0%eb%...  2016-09-02   \n",
       "1758  http://www.wkorea.com/2016/09/01/%eb%84%88%eb%...  2016-09-01   \n",
       "\n",
       "                                               contents  title_brand  check  \\\n",
       "0     ['20년이 지난 패션템에 새로운 활기가 돈다. 바야흐로 빈티지 쇼핑의 시대다.',...            0      0   \n",
       "1     ['주식의 ‘주’자도 모르는 패션 에디터가 주식에 눈뜨려 하는 순간. 이번 시즌 가...            0      0   \n",
       "2     ['나이키의 조던 시리즈들 중에서도 역대급으로 평가받는 ‘에어 디올’은 부르는 게 ...            0      0   \n",
       "3     ['셀럽들의 데일리룩에서 캐치한 뉴 백!', '@ch_amii', '지갑, 핸드폰,...            0      0   \n",
       "4     ['“Don’t Categorize Me.” 그가 말했다. 배우 유태오는 더없이 자...            0      0   \n",
       "...                                                 ...          ...    ...   \n",
       "1754  '깊은 산과 거친 계곡, 험준한 바위를 오르내리는 트레킹화의 변신.\\n\\n1. 밀리...            0      0   \n",
       "1755  '패션&뷰티 아이템, 핫 스폿, 영화, 전시 등 더블유 에디터의 날카롭고 감각적인 ...            0      0   \n",
       "1756  '크리스찬 디올에게 초록은 곧 ‘자연’을, 빨강은 ‘생명’을, 분홍은 ‘감미로움’을...            0      0   \n",
       "1757  '새로운 시즌을 맞아 더 모호하고 더 자유로운 방식으로 진화하고 있는 젠더 블렌딩 ...            0      0   \n",
       "1758  '패션계에서 노바운더리 시대의 전후를 가르는 존재가 된 베트멍. 그 대표 아이템은 ...            0      0   \n",
       "\n",
       "                                              word_dior  \\\n",
       "0     ['그러니 빈티지 패션은, 어쩌면 나도 좋고 너도 좋은 일이다. 당시 사랑했던, 지...   \n",
       "1     ['  요즘 들어 주식은 친구들과의 대화에서 빼놓을 수 없는 주제가 되었다. 코로나...   \n",
       "2     [\"['나이키의 조던 시리즈들 중에서도 역대급으로 평가받는 ‘에어 디올’은 부르는 ...   \n",
       "3                         ['디올 레이디 디올 디올아무르 미니백 5백만원대']   \n",
       "4     ['실크 슬리브리스와 블랙 와이드 팬츠는 김서룡 옴므. 블랙 부츠는 보테가 베네타....   \n",
       "...                                                 ...   \n",
       "1754  ['6. 주얼 장식과 앙증맞은 리본이 반전의 매력을 더하는 부츠는 디올 제품. 1백...   \n",
       "1755  ['#W뷰티콕  (뷰티 디렉터 송시은)\\\\n조회 2,023회\\\\n너무나 뜨거운 여름...   \n",
       "1756  [\"'크리스찬 디올에게 초록은 곧 ‘자연’을, 빨강은 ‘생명’을, 분홍은 ‘감미로움...   \n",
       "1757  ['자수 장식 슈트, 실크 셔츠에 리본 타이를 연출한 구찌, 남성다운 검정 테일러드...   \n",
       "1758  ['리하나\\\\n나이 만28세\\\\n직업 가수, 디자이너, 패셔니스타, 배드 걸\\\\n평...   \n",
       "\n",
       "                                          sentences_tag  \\\n",
       "0     [('[', 'SS'), (\"'\", 'SS'), ('그러', 'VV'), ('니',...   \n",
       "1     [('[', 'SS'), (\"'\", 'SS'), ('요즘', 'NNG'), ('듣'...   \n",
       "2     [('[', 'SS'), ('\"', 'SS'), ('[', 'SS'), (\"'\", ...   \n",
       "3     [('[', 'SS'), (\"'\", 'SS'), ('DIOR', 'OL'), ('L...   \n",
       "4     [('[', 'SS'), (\"'\", 'SS'), ('실크', 'NNG'), ('슬리...   \n",
       "...                                                 ...   \n",
       "1754  [('[', 'SS'), (\"'\", 'SS'), ('6', 'NR'), ('.', ...   \n",
       "1755  [('[', 'SS'), (\"'\", 'SS'), ('#', 'SW'), ('W', ...   \n",
       "1756  [('[', 'SS'), ('\"', 'SS'), (\"'\", 'SS'), ('CHRI...   \n",
       "1757  [('[', 'SS'), (\"'\", 'SS'), ('자수', 'NNG'), ('장식...   \n",
       "1758  [('[', 'SS'), (\"'\", 'SS'), ('리', 'NNG'), ('하나'...   \n",
       "\n",
       "                                                   ADFN  \\\n",
       "0     ['좋', '좋', '사랑', '사랑', '새롭', '사랑', '좋', '옷', '...   \n",
       "1     ['새롭', '세계', '생각', '세계', 'DIOR', '가방', '가방', '...   \n",
       "2     ['DIOR', '하우스', '브랜드', '슈즈', 'DIOR', '작품', 'DI...   \n",
       "3                      ['DIOR', 'LADY', 'DIOR', 'DIOR']   \n",
       "4           ['블랙', '팬츠', 'HOMME', '블랙', 'DIOR', 'DIOR']   \n",
       "...                                                 ...   \n",
       "1754                               ['장식', 'DIOR', '제품']   \n",
       "1755  ['뷰티', '뷰티', '디렉터', '여름', '뷰티', '브랜드', '컬러', '...   \n",
       "1756  ['CHRISTIAN', 'DIOR', 'DIOR', 'DIOR', '컬러', '세...   \n",
       "1757  ['장식', '슈트', '셔츠', '슈트', '장식', '선택', 'DIOR', '...   \n",
       "1758  ['디자이너', '스타일', 'DIOR', '드레스', '디자이너', '새롭', '...   \n",
       "\n",
       "                                                   item  \\\n",
       "0     ['옷', '데님', '재킷', '재킷', '재킷', '팬츠', '가방', 'DIOR']   \n",
       "1                    ['DIOR', '가방', '가방', '가방', 'DIOR']   \n",
       "2                ['DIOR', '슈즈', 'DIOR', 'DIOR', 'DIOR']   \n",
       "3                              ['DIOR', 'DIOR', 'DIOR']   \n",
       "4                          ['팬츠', '부츠', 'DIOR', 'DIOR']   \n",
       "...                                                 ...   \n",
       "1754                                     ['부츠', 'DIOR']   \n",
       "1755                             ['DIOR', '코트', 'DIOR']   \n",
       "1756   ['DIOR', 'DIOR', 'DIOR', 'DIOR', 'DIOR', 'DIOR']   \n",
       "1757       ['슈트', '셔츠', '슈트', 'DIOR', '슈트', '셔츠', '슈트']   \n",
       "1758          ['DIOR', '드레스', '스커트', '티셔츠', '팬츠', '부츠']   \n",
       "\n",
       "                                                 woitem  \n",
       "0     ['좋', '좋', '사랑', '사랑', '새롭', '사랑', '좋', '새', '...  \n",
       "1     ['새롭', 'LVMH', '세계', 'LVMH', '생각', '세계', 'LVMH...  \n",
       "2     ['DIOR', '하우스', '브랜드', 'DIOR', '작품', 'DIOR', '...  \n",
       "3                      ['DIOR', 'LADY', 'DIOR', 'DIOR']  \n",
       "4                 ['블랙', 'HOMME', '블랙', 'DIOR', 'DIOR']  \n",
       "...                                                 ...  \n",
       "1754                               ['장식', 'DIOR', '제품']  \n",
       "1755  ['뷰티', '뷰티', '디렉터', '여름', '뷰티', '브랜드', '컬러', '...  \n",
       "1756  ['CHRISTIAN', 'DIOR', 'DIOR', 'DIOR', '컬러', '세...  \n",
       "1757          ['장식', '장식', '선택', 'DIOR', 'HOMME', '여성']  \n",
       "1758        ['디자이너', '스타일', 'DIOR', '디자이너', '새롭', '협업']  \n",
       "\n",
       "[1759 rows x 14 columns]"
      ]
     },
     "execution_count": 149,
     "metadata": {},
     "output_type": "execute_result"
    }
   ],
   "source": [
    "magazine_di = pd.read_csv('./data/d/magazine_D_t.csv' , sep='|', encoding='utf-8')\n",
    "magazine_di"
   ]
  },
  {
   "cell_type": "code",
   "execution_count": null,
   "metadata": {},
   "outputs": [],
   "source": []
  },
  {
   "cell_type": "code",
   "execution_count": null,
   "metadata": {},
   "outputs": [],
   "source": []
  },
  {
   "cell_type": "code",
   "execution_count": null,
   "metadata": {},
   "outputs": [],
   "source": []
  }
 ],
 "metadata": {
  "kernelspec": {
   "display_name": "Python 3",
   "language": "python",
   "name": "python3"
  },
  "language_info": {
   "codemirror_mode": {
    "name": "ipython",
    "version": 3
   },
   "file_extension": ".py",
   "mimetype": "text/x-python",
   "name": "python",
   "nbconvert_exporter": "python",
   "pygments_lexer": "ipython3",
   "version": "3.6.5"
  }
 },
 "nbformat": 4,
 "nbformat_minor": 4
}
