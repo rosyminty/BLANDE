{
 "cells": [
  {
   "cell_type": "code",
   "execution_count": 1,
   "metadata": {},
   "outputs": [],
   "source": [
    "import pandas as pd\n",
    "import numpy as np"
   ]
  },
  {
   "cell_type": "code",
   "execution_count": 2,
   "metadata": {},
   "outputs": [],
   "source": [
    "magazine_sl = pd.read_csv('./data/SL/magazine_sl.csv' , sep='|', encoding='utf-8')"
   ]
  },
  {
   "cell_type": "code",
   "execution_count": 3,
   "metadata": {
    "scrolled": true
   },
   "outputs": [
    {
     "data": {
      "text/html": [
       "<div>\n",
       "<style scoped>\n",
       "    .dataframe tbody tr th:only-of-type {\n",
       "        vertical-align: middle;\n",
       "    }\n",
       "\n",
       "    .dataframe tbody tr th {\n",
       "        vertical-align: top;\n",
       "    }\n",
       "\n",
       "    .dataframe thead th {\n",
       "        text-align: right;\n",
       "    }\n",
       "</style>\n",
       "<table border=\"1\" class=\"dataframe\">\n",
       "  <thead>\n",
       "    <tr style=\"text-align: right;\">\n",
       "      <th></th>\n",
       "      <th>magazine</th>\n",
       "      <th>brand</th>\n",
       "      <th>category</th>\n",
       "      <th>title</th>\n",
       "      <th>link</th>\n",
       "      <th>date</th>\n",
       "      <th>contents</th>\n",
       "      <th>title_brand</th>\n",
       "      <th>check</th>\n",
       "      <th>word_laurent</th>\n",
       "      <th>sentences_tag</th>\n",
       "      <th>ADFN</th>\n",
       "    </tr>\n",
       "  </thead>\n",
       "  <tbody>\n",
       "    <tr>\n",
       "      <th>0</th>\n",
       "      <td>A</td>\n",
       "      <td>YSL</td>\n",
       "      <td>CELEBRITY</td>\n",
       "      <td>깊게 뿌리내리기 위하여, 수영</td>\n",
       "      <td>http://www.allurekorea.com/2020/11/20/%ea%b9%8...</td>\n",
       "      <td>2020-11-20</td>\n",
       "      <td>['누구보다 본인에게 엄격하지만 수용할 줄 아는 너른 마음도 지녔다. 오늘도 부단히...</td>\n",
       "      <td>0</td>\n",
       "      <td>0</td>\n",
       "      <td>['빨간 더블 브레스티드 코트, 타이츠, 라텍스 소재 보디슈트와 사이하이 부츠는 모...</td>\n",
       "      <td>[('[', 'SS'), (\"'\", 'SS'), ('빨갛', 'VA'), ('ㄴ',...</td>\n",
       "      <td>['코트', '소재', '슈트', '하이', '부츠', 'LAURENT', 'ANT...</td>\n",
       "    </tr>\n",
       "    <tr>\n",
       "      <th>1</th>\n",
       "      <td>A</td>\n",
       "      <td>YSL</td>\n",
       "      <td>FASHION</td>\n",
       "      <td>코트 체크</td>\n",
       "      <td>http://www.allurekorea.com/2020/11/10/%ec%bd%9...</td>\n",
       "      <td>2020-10-26</td>\n",
       "      <td>['겨울이 오기 전 기억해야 할 코트의 면면.', '90’S STANDARD', '...</td>\n",
       "      <td>0</td>\n",
       "      <td>0</td>\n",
       "      <td>['클래식한 캐멀 컬러 코트는 1백78만원, 우영미(Wooyoungmi). 버건디 ...</td>\n",
       "      <td>[('[', 'SS'), (\"'\", 'SS'), ('클래식', 'NNG'), ('하...</td>\n",
       "      <td>['클래식', '컬러', '코트', '컬러', '가죽', '셔츠', '스커트', '...</td>\n",
       "    </tr>\n",
       "    <tr>\n",
       "      <th>2</th>\n",
       "      <td>A</td>\n",
       "      <td>YSL</td>\n",
       "      <td>FASHION</td>\n",
       "      <td>데님이여 영원하라</td>\n",
       "      <td>http://www.allurekorea.com/2020/11/06/%eb%8d%b...</td>\n",
       "      <td>2020-10-26</td>\n",
       "      <td>['데님 팬츠를 선택할 때 가장 중요한 것은 자신의 체형에 맞는 핏을 고르는 것이다...</td>\n",
       "      <td>0</td>\n",
       "      <td>0</td>\n",
       "      <td>['  짙은 그레이 컬러의 데님 팬츠는 95만5천원, 생로랑 바이 안토니 바카렐로(...</td>\n",
       "      <td>[('[', 'SS'), (\"'\", 'SS'), ('짙', 'VV'), ('은', ...</td>\n",
       "      <td>['컬러', '데님', '팬츠', 'LAURENT', 'ANTHONY', 'LAUR...</td>\n",
       "    </tr>\n",
       "    <tr>\n",
       "      <th>3</th>\n",
       "      <td>A</td>\n",
       "      <td>YSL</td>\n",
       "      <td>FASHION</td>\n",
       "      <td>안경 하세요?!</td>\n",
       "      <td>http://www.allurekorea.com/2020/10/29/%ec%95%8...</td>\n",
       "      <td>2020-10-23</td>\n",
       "      <td>['모든 게 익고 마는 금빛 가을에는 탐스러운 금테 안경을. 전체 메탈로 장식한 다...</td>\n",
       "      <td>0</td>\n",
       "      <td>0</td>\n",
       "      <td>['  YSL 모노그램을 새긴 블랙 에나멜 안경다리의 둥근 금테 안경은 40만원대,...</td>\n",
       "      <td>[('[', 'SS'), (\"'\", 'SS'), ('YSL', 'OL'), ('모노...</td>\n",
       "      <td>['블랙', 'LAURENT', 'LAURENT']</td>\n",
       "    </tr>\n",
       "    <tr>\n",
       "      <th>4</th>\n",
       "      <td>A</td>\n",
       "      <td>YSL</td>\n",
       "      <td>FASHION</td>\n",
       "      <td>가을의 정석, 트렌치 코트 입는 법 8가지</td>\n",
       "      <td>http://www.allurekorea.com/2020/10/11/%ea%b0%8...</td>\n",
       "      <td>2020-09-27</td>\n",
       "      <td>['정직하고 말끔하게, 혹은 자유롭고 분방하게. 변화무쌍한 계절처럼 다양한 모습을 ...</td>\n",
       "      <td>0</td>\n",
       "      <td>0</td>\n",
       "      <td>['컬러블록 트렌치코트는 가격미정, 르쥬(Leje). 컵케이크 프린트 티셔츠는 27...</td>\n",
       "      <td>[('[', 'SS'), (\"'\", 'SS'), ('컬러', 'NNG'), ('블록...</td>\n",
       "      <td>['컬러', '코트', '프린트', '데님', '팬츠', '슈즈', '선글라스', ...</td>\n",
       "    </tr>\n",
       "    <tr>\n",
       "      <th>...</th>\n",
       "      <td>...</td>\n",
       "      <td>...</td>\n",
       "      <td>...</td>\n",
       "      <td>...</td>\n",
       "      <td>...</td>\n",
       "      <td>...</td>\n",
       "      <td>...</td>\n",
       "      <td>...</td>\n",
       "      <td>...</td>\n",
       "      <td>...</td>\n",
       "      <td>...</td>\n",
       "      <td>...</td>\n",
       "    </tr>\n",
       "    <tr>\n",
       "      <th>1269</th>\n",
       "      <td>W</td>\n",
       "      <td>YSL</td>\n",
       "      <td>FASHION, 트렌드</td>\n",
       "      <td>어깨로말해요</td>\n",
       "      <td>http://www.wkorea.com/2016/09/05/%ec%96%b4%ea%...</td>\n",
       "      <td>2016-09-05</td>\n",
       "      <td>'어깨 좀 쓴다 하는 여인들이 모두 모였다. 이 현상은 특히 젊은 디자이너들의 의상...</td>\n",
       "      <td>0</td>\n",
       "      <td>0</td>\n",
       "      <td>[\"'어깨 좀 쓴다 하는 여인들이 모두 모였다. 이 현상은 특히 젊은 디자이너들의 ...</td>\n",
       "      <td>[('[', 'SS'), ('\"', 'SS'), (\"'\", 'SS'), ('어깨',...</td>\n",
       "      <td>['어깨', '디자이너', '의상', '어깨', '어깨', 'DESIGN', '데뷔...</td>\n",
       "    </tr>\n",
       "    <tr>\n",
       "      <th>1270</th>\n",
       "      <td>W</td>\n",
       "      <td>YSL</td>\n",
       "      <td>FASHION, 뉴스</td>\n",
       "      <td>W해시태그</td>\n",
       "      <td>http://www.wkorea.com/2016/09/02/w%ed%95%b4%ec...</td>\n",
       "      <td>2016-09-02</td>\n",
       "      <td>'패션&amp;뷰티 아이템, 핫 스폿, 영화, 전시 등 더블유 에디터의 날카롭고 감각적인 ...</td>\n",
       "      <td>0</td>\n",
       "      <td>0</td>\n",
       "      <td>['#W뷰티콕  (뷰티 디렉터 송시은)\\\\n조회 2,023회\\\\n너무나 뜨거운 여름...</td>\n",
       "      <td>[('[', 'SS'), (\"'\", 'SS'), ('#', 'SW'), ('W', ...</td>\n",
       "      <td>['뷰티', '뷰티', '디렉터', '여름', '뷰티', '브랜드', '가을', '...</td>\n",
       "    </tr>\n",
       "    <tr>\n",
       "      <th>1271</th>\n",
       "      <td>W</td>\n",
       "      <td>YSL</td>\n",
       "      <td>FASHION, 화보</td>\n",
       "      <td>따로 또 같이</td>\n",
       "      <td>http://www.wkorea.com/2016/09/02/%eb%94%b0%eb%...</td>\n",
       "      <td>2016-09-02</td>\n",
       "      <td>'새로운 시즌을 맞아 더 모호하고 더 자유로운 방식으로 진화하고 있는 젠더 블렌딩 ...</td>\n",
       "      <td>0</td>\n",
       "      <td>0</td>\n",
       "      <td>['중성적인 스타일링을 위해선 실루엣을 활용하는 방법에 주목해야 한다. 생로랑 남성...</td>\n",
       "      <td>[('[', 'SS'), (\"'\", 'SS'), ('중', 'NNG'), ('성적'...</td>\n",
       "      <td>['실루엣', 'LAURENT', '어깨', '모델', '스타일', '실루엣', '...</td>\n",
       "    </tr>\n",
       "    <tr>\n",
       "      <th>1272</th>\n",
       "      <td>W</td>\n",
       "      <td>YSL</td>\n",
       "      <td>FASHION, 트렌드</td>\n",
       "      <td>두려움 없는 반란</td>\n",
       "      <td>http://www.wkorea.com/2016/09/01/%eb%91%90%eb%...</td>\n",
       "      <td>2016-09-01</td>\n",
       "      <td>'오늘날 패션엔 경계가 사라졌다. 패션계에 하이와 로 패션의 캐주얼한 조우가 무르익...</td>\n",
       "      <td>0</td>\n",
       "      <td>0</td>\n",
       "      <td>['이러한 맥락은 오늘날 브랜드의 모델 캐스팅에도 그대로 적용된다. 일례로 유명한 ...</td>\n",
       "      <td>[('[', 'SS'), (\"'\", 'SS'), ('이러', 'XR'), ('하',...</td>\n",
       "      <td>['브랜드', '모델', '모델', '전시', '디렉터', '모델', '모델', '...</td>\n",
       "    </tr>\n",
       "    <tr>\n",
       "      <th>1273</th>\n",
       "      <td>W</td>\n",
       "      <td>YSL</td>\n",
       "      <td>FASHION, 트렌드</td>\n",
       "      <td>너도 나도 베트멍</td>\n",
       "      <td>http://www.wkorea.com/2016/09/01/%eb%84%88%eb%...</td>\n",
       "      <td>2016-09-01</td>\n",
       "      <td>'패션계에서 노바운더리 시대의 전후를 가르는 존재가 된 베트멍. 그 대표 아이템은 ...</td>\n",
       "      <td>0</td>\n",
       "      <td>0</td>\n",
       "      <td>['셀린 디옹\\\\n나이 만48세\\\\n직업 세계적인 디바\\\\n평소 스타일 얼마 전까진...</td>\n",
       "      <td>[('[', 'SS'), (\"'\", 'SS'), ('세', 'VA'), ('ㄹ', ...</td>\n",
       "      <td>['스타일', '클래식', '화이트', 'LAURENT', '속', '패션계', '...</td>\n",
       "    </tr>\n",
       "  </tbody>\n",
       "</table>\n",
       "<p>1274 rows × 12 columns</p>\n",
       "</div>"
      ],
      "text/plain": [
       "     magazine brand      category                    title  \\\n",
       "0           A   YSL     CELEBRITY         깊게 뿌리내리기 위하여, 수영   \n",
       "1           A   YSL       FASHION                    코트 체크   \n",
       "2           A   YSL       FASHION                데님이여 영원하라   \n",
       "3           A   YSL       FASHION                 안경 하세요?!   \n",
       "4           A   YSL       FASHION  가을의 정석, 트렌치 코트 입는 법 8가지   \n",
       "...       ...   ...           ...                      ...   \n",
       "1269        W   YSL  FASHION, 트렌드                   어깨로말해요   \n",
       "1270        W   YSL   FASHION, 뉴스                    W해시태그   \n",
       "1271        W   YSL   FASHION, 화보                  따로 또 같이   \n",
       "1272        W   YSL  FASHION, 트렌드                두려움 없는 반란   \n",
       "1273        W   YSL  FASHION, 트렌드                너도 나도 베트멍   \n",
       "\n",
       "                                                   link        date  \\\n",
       "0     http://www.allurekorea.com/2020/11/20/%ea%b9%8...  2020-11-20   \n",
       "1     http://www.allurekorea.com/2020/11/10/%ec%bd%9...  2020-10-26   \n",
       "2     http://www.allurekorea.com/2020/11/06/%eb%8d%b...  2020-10-26   \n",
       "3     http://www.allurekorea.com/2020/10/29/%ec%95%8...  2020-10-23   \n",
       "4     http://www.allurekorea.com/2020/10/11/%ea%b0%8...  2020-09-27   \n",
       "...                                                 ...         ...   \n",
       "1269  http://www.wkorea.com/2016/09/05/%ec%96%b4%ea%...  2016-09-05   \n",
       "1270  http://www.wkorea.com/2016/09/02/w%ed%95%b4%ec...  2016-09-02   \n",
       "1271  http://www.wkorea.com/2016/09/02/%eb%94%b0%eb%...  2016-09-02   \n",
       "1272  http://www.wkorea.com/2016/09/01/%eb%91%90%eb%...  2016-09-01   \n",
       "1273  http://www.wkorea.com/2016/09/01/%eb%84%88%eb%...  2016-09-01   \n",
       "\n",
       "                                               contents  title_brand  check  \\\n",
       "0     ['누구보다 본인에게 엄격하지만 수용할 줄 아는 너른 마음도 지녔다. 오늘도 부단히...            0      0   \n",
       "1     ['겨울이 오기 전 기억해야 할 코트의 면면.', '90’S STANDARD', '...            0      0   \n",
       "2     ['데님 팬츠를 선택할 때 가장 중요한 것은 자신의 체형에 맞는 핏을 고르는 것이다...            0      0   \n",
       "3     ['모든 게 익고 마는 금빛 가을에는 탐스러운 금테 안경을. 전체 메탈로 장식한 다...            0      0   \n",
       "4     ['정직하고 말끔하게, 혹은 자유롭고 분방하게. 변화무쌍한 계절처럼 다양한 모습을 ...            0      0   \n",
       "...                                                 ...          ...    ...   \n",
       "1269  '어깨 좀 쓴다 하는 여인들이 모두 모였다. 이 현상은 특히 젊은 디자이너들의 의상...            0      0   \n",
       "1270  '패션&뷰티 아이템, 핫 스폿, 영화, 전시 등 더블유 에디터의 날카롭고 감각적인 ...            0      0   \n",
       "1271  '새로운 시즌을 맞아 더 모호하고 더 자유로운 방식으로 진화하고 있는 젠더 블렌딩 ...            0      0   \n",
       "1272  '오늘날 패션엔 경계가 사라졌다. 패션계에 하이와 로 패션의 캐주얼한 조우가 무르익...            0      0   \n",
       "1273  '패션계에서 노바운더리 시대의 전후를 가르는 존재가 된 베트멍. 그 대표 아이템은 ...            0      0   \n",
       "\n",
       "                                           word_laurent  \\\n",
       "0     ['빨간 더블 브레스티드 코트, 타이츠, 라텍스 소재 보디슈트와 사이하이 부츠는 모...   \n",
       "1     ['클래식한 캐멀 컬러 코트는 1백78만원, 우영미(Wooyoungmi). 버건디 ...   \n",
       "2     ['  짙은 그레이 컬러의 데님 팬츠는 95만5천원, 생로랑 바이 안토니 바카렐로(...   \n",
       "3     ['  YSL 모노그램을 새긴 블랙 에나멜 안경다리의 둥근 금테 안경은 40만원대,...   \n",
       "4     ['컬러블록 트렌치코트는 가격미정, 르쥬(Leje). 컵케이크 프린트 티셔츠는 27...   \n",
       "...                                                 ...   \n",
       "1269  [\"'어깨 좀 쓴다 하는 여인들이 모두 모였다. 이 현상은 특히 젊은 디자이너들의 ...   \n",
       "1270  ['#W뷰티콕  (뷰티 디렉터 송시은)\\\\n조회 2,023회\\\\n너무나 뜨거운 여름...   \n",
       "1271  ['중성적인 스타일링을 위해선 실루엣을 활용하는 방법에 주목해야 한다. 생로랑 남성...   \n",
       "1272  ['이러한 맥락은 오늘날 브랜드의 모델 캐스팅에도 그대로 적용된다. 일례로 유명한 ...   \n",
       "1273  ['셀린 디옹\\\\n나이 만48세\\\\n직업 세계적인 디바\\\\n평소 스타일 얼마 전까진...   \n",
       "\n",
       "                                          sentences_tag  \\\n",
       "0     [('[', 'SS'), (\"'\", 'SS'), ('빨갛', 'VA'), ('ㄴ',...   \n",
       "1     [('[', 'SS'), (\"'\", 'SS'), ('클래식', 'NNG'), ('하...   \n",
       "2     [('[', 'SS'), (\"'\", 'SS'), ('짙', 'VV'), ('은', ...   \n",
       "3     [('[', 'SS'), (\"'\", 'SS'), ('YSL', 'OL'), ('모노...   \n",
       "4     [('[', 'SS'), (\"'\", 'SS'), ('컬러', 'NNG'), ('블록...   \n",
       "...                                                 ...   \n",
       "1269  [('[', 'SS'), ('\"', 'SS'), (\"'\", 'SS'), ('어깨',...   \n",
       "1270  [('[', 'SS'), (\"'\", 'SS'), ('#', 'SW'), ('W', ...   \n",
       "1271  [('[', 'SS'), (\"'\", 'SS'), ('중', 'NNG'), ('성적'...   \n",
       "1272  [('[', 'SS'), (\"'\", 'SS'), ('이러', 'XR'), ('하',...   \n",
       "1273  [('[', 'SS'), (\"'\", 'SS'), ('세', 'VA'), ('ㄹ', ...   \n",
       "\n",
       "                                                   ADFN  \n",
       "0     ['코트', '소재', '슈트', '하이', '부츠', 'LAURENT', 'ANT...  \n",
       "1     ['클래식', '컬러', '코트', '컬러', '가죽', '셔츠', '스커트', '...  \n",
       "2     ['컬러', '데님', '팬츠', 'LAURENT', 'ANTHONY', 'LAUR...  \n",
       "3                          ['블랙', 'LAURENT', 'LAURENT']  \n",
       "4     ['컬러', '코트', '프린트', '데님', '팬츠', '슈즈', '선글라스', ...  \n",
       "...                                                 ...  \n",
       "1269  ['어깨', '디자이너', '의상', '어깨', '어깨', 'DESIGN', '데뷔...  \n",
       "1270  ['뷰티', '뷰티', '디렉터', '여름', '뷰티', '브랜드', '가을', '...  \n",
       "1271  ['실루엣', 'LAURENT', '어깨', '모델', '스타일', '실루엣', '...  \n",
       "1272  ['브랜드', '모델', '모델', '전시', '디렉터', '모델', '모델', '...  \n",
       "1273  ['스타일', '클래식', '화이트', 'LAURENT', '속', '패션계', '...  \n",
       "\n",
       "[1274 rows x 12 columns]"
      ]
     },
     "execution_count": 3,
     "metadata": {},
     "output_type": "execute_result"
    }
   ],
   "source": [
    "magazine_sl"
   ]
  },
  {
   "cell_type": "code",
   "execution_count": 4,
   "metadata": {
    "scrolled": true
   },
   "outputs": [],
   "source": [
    "# magazine_sl.drop('why', axis=1, inplace=True)"
   ]
  },
  {
   "cell_type": "code",
   "execution_count": 5,
   "metadata": {},
   "outputs": [],
   "source": [
    "magazine_sl.to_csv('./data/SL/magazine_sl.csv', index = False, sep ='|', encoding = 'utf-8')"
   ]
  },
  {
   "cell_type": "code",
   "execution_count": 6,
   "metadata": {
    "scrolled": true
   },
   "outputs": [
    {
     "data": {
      "text/html": [
       "<div>\n",
       "<style scoped>\n",
       "    .dataframe tbody tr th:only-of-type {\n",
       "        vertical-align: middle;\n",
       "    }\n",
       "\n",
       "    .dataframe tbody tr th {\n",
       "        vertical-align: top;\n",
       "    }\n",
       "\n",
       "    .dataframe thead th {\n",
       "        text-align: right;\n",
       "    }\n",
       "</style>\n",
       "<table border=\"1\" class=\"dataframe\">\n",
       "  <thead>\n",
       "    <tr style=\"text-align: right;\">\n",
       "      <th></th>\n",
       "      <th>magazine</th>\n",
       "      <th>brand</th>\n",
       "      <th>category</th>\n",
       "      <th>title</th>\n",
       "      <th>link</th>\n",
       "      <th>date</th>\n",
       "      <th>contents</th>\n",
       "      <th>title_brand</th>\n",
       "      <th>check</th>\n",
       "      <th>word_laurent</th>\n",
       "      <th>sentences_tag</th>\n",
       "      <th>ADFN</th>\n",
       "    </tr>\n",
       "  </thead>\n",
       "  <tbody>\n",
       "    <tr>\n",
       "      <th>0</th>\n",
       "      <td>A</td>\n",
       "      <td>YSL</td>\n",
       "      <td>CELEBRITY</td>\n",
       "      <td>깊게 뿌리내리기 위하여, 수영</td>\n",
       "      <td>http://www.allurekorea.com/2020/11/20/%ea%b9%8...</td>\n",
       "      <td>2020-11-20</td>\n",
       "      <td>['누구보다 본인에게 엄격하지만 수용할 줄 아는 너른 마음도 지녔다. 오늘도 부단히...</td>\n",
       "      <td>0</td>\n",
       "      <td>0</td>\n",
       "      <td>['빨간 더블 브레스티드 코트, 타이츠, 라텍스 소재 보디슈트와 사이하이 부츠는 모...</td>\n",
       "      <td>[('[', 'SS'), (\"'\", 'SS'), ('빨갛', 'VA'), ('ㄴ',...</td>\n",
       "      <td>['코트', '소재', '슈트', '하이', '부츠', 'LAURENT', 'ANT...</td>\n",
       "    </tr>\n",
       "    <tr>\n",
       "      <th>1</th>\n",
       "      <td>A</td>\n",
       "      <td>YSL</td>\n",
       "      <td>FASHION</td>\n",
       "      <td>코트 체크</td>\n",
       "      <td>http://www.allurekorea.com/2020/11/10/%ec%bd%9...</td>\n",
       "      <td>2020-10-26</td>\n",
       "      <td>['겨울이 오기 전 기억해야 할 코트의 면면.', '90’S STANDARD', '...</td>\n",
       "      <td>0</td>\n",
       "      <td>0</td>\n",
       "      <td>['클래식한 캐멀 컬러 코트는 1백78만원, 우영미(Wooyoungmi). 버건디 ...</td>\n",
       "      <td>[('[', 'SS'), (\"'\", 'SS'), ('클래식', 'NNG'), ('하...</td>\n",
       "      <td>['클래식', '컬러', '코트', '컬러', '가죽', '셔츠', '스커트', '...</td>\n",
       "    </tr>\n",
       "    <tr>\n",
       "      <th>2</th>\n",
       "      <td>A</td>\n",
       "      <td>YSL</td>\n",
       "      <td>FASHION</td>\n",
       "      <td>데님이여 영원하라</td>\n",
       "      <td>http://www.allurekorea.com/2020/11/06/%eb%8d%b...</td>\n",
       "      <td>2020-10-26</td>\n",
       "      <td>['데님 팬츠를 선택할 때 가장 중요한 것은 자신의 체형에 맞는 핏을 고르는 것이다...</td>\n",
       "      <td>0</td>\n",
       "      <td>0</td>\n",
       "      <td>['  짙은 그레이 컬러의 데님 팬츠는 95만5천원, 생로랑 바이 안토니 바카렐로(...</td>\n",
       "      <td>[('[', 'SS'), (\"'\", 'SS'), ('짙', 'VV'), ('은', ...</td>\n",
       "      <td>['컬러', '데님', '팬츠', 'LAURENT', 'ANTHONY', 'LAUR...</td>\n",
       "    </tr>\n",
       "    <tr>\n",
       "      <th>3</th>\n",
       "      <td>A</td>\n",
       "      <td>YSL</td>\n",
       "      <td>FASHION</td>\n",
       "      <td>안경 하세요?!</td>\n",
       "      <td>http://www.allurekorea.com/2020/10/29/%ec%95%8...</td>\n",
       "      <td>2020-10-23</td>\n",
       "      <td>['모든 게 익고 마는 금빛 가을에는 탐스러운 금테 안경을. 전체 메탈로 장식한 다...</td>\n",
       "      <td>0</td>\n",
       "      <td>0</td>\n",
       "      <td>['  YSL 모노그램을 새긴 블랙 에나멜 안경다리의 둥근 금테 안경은 40만원대,...</td>\n",
       "      <td>[('[', 'SS'), (\"'\", 'SS'), ('YSL', 'OL'), ('모노...</td>\n",
       "      <td>['블랙', 'LAURENT', 'LAURENT']</td>\n",
       "    </tr>\n",
       "    <tr>\n",
       "      <th>4</th>\n",
       "      <td>A</td>\n",
       "      <td>YSL</td>\n",
       "      <td>FASHION</td>\n",
       "      <td>가을의 정석, 트렌치 코트 입는 법 8가지</td>\n",
       "      <td>http://www.allurekorea.com/2020/10/11/%ea%b0%8...</td>\n",
       "      <td>2020-09-27</td>\n",
       "      <td>['정직하고 말끔하게, 혹은 자유롭고 분방하게. 변화무쌍한 계절처럼 다양한 모습을 ...</td>\n",
       "      <td>0</td>\n",
       "      <td>0</td>\n",
       "      <td>['컬러블록 트렌치코트는 가격미정, 르쥬(Leje). 컵케이크 프린트 티셔츠는 27...</td>\n",
       "      <td>[('[', 'SS'), (\"'\", 'SS'), ('컬러', 'NNG'), ('블록...</td>\n",
       "      <td>['컬러', '코트', '프린트', '데님', '팬츠', '슈즈', '선글라스', ...</td>\n",
       "    </tr>\n",
       "    <tr>\n",
       "      <th>...</th>\n",
       "      <td>...</td>\n",
       "      <td>...</td>\n",
       "      <td>...</td>\n",
       "      <td>...</td>\n",
       "      <td>...</td>\n",
       "      <td>...</td>\n",
       "      <td>...</td>\n",
       "      <td>...</td>\n",
       "      <td>...</td>\n",
       "      <td>...</td>\n",
       "      <td>...</td>\n",
       "      <td>...</td>\n",
       "    </tr>\n",
       "    <tr>\n",
       "      <th>1269</th>\n",
       "      <td>W</td>\n",
       "      <td>YSL</td>\n",
       "      <td>FASHION, 트렌드</td>\n",
       "      <td>어깨로말해요</td>\n",
       "      <td>http://www.wkorea.com/2016/09/05/%ec%96%b4%ea%...</td>\n",
       "      <td>2016-09-05</td>\n",
       "      <td>'어깨 좀 쓴다 하는 여인들이 모두 모였다. 이 현상은 특히 젊은 디자이너들의 의상...</td>\n",
       "      <td>0</td>\n",
       "      <td>0</td>\n",
       "      <td>[\"'어깨 좀 쓴다 하는 여인들이 모두 모였다. 이 현상은 특히 젊은 디자이너들의 ...</td>\n",
       "      <td>[('[', 'SS'), ('\"', 'SS'), (\"'\", 'SS'), ('어깨',...</td>\n",
       "      <td>['어깨', '디자이너', '의상', '어깨', '어깨', 'DESIGN', '데뷔...</td>\n",
       "    </tr>\n",
       "    <tr>\n",
       "      <th>1270</th>\n",
       "      <td>W</td>\n",
       "      <td>YSL</td>\n",
       "      <td>FASHION, 뉴스</td>\n",
       "      <td>W해시태그</td>\n",
       "      <td>http://www.wkorea.com/2016/09/02/w%ed%95%b4%ec...</td>\n",
       "      <td>2016-09-02</td>\n",
       "      <td>'패션&amp;뷰티 아이템, 핫 스폿, 영화, 전시 등 더블유 에디터의 날카롭고 감각적인 ...</td>\n",
       "      <td>0</td>\n",
       "      <td>0</td>\n",
       "      <td>['#W뷰티콕  (뷰티 디렉터 송시은)\\\\n조회 2,023회\\\\n너무나 뜨거운 여름...</td>\n",
       "      <td>[('[', 'SS'), (\"'\", 'SS'), ('#', 'SW'), ('W', ...</td>\n",
       "      <td>['뷰티', '뷰티', '디렉터', '여름', '뷰티', '브랜드', '가을', '...</td>\n",
       "    </tr>\n",
       "    <tr>\n",
       "      <th>1271</th>\n",
       "      <td>W</td>\n",
       "      <td>YSL</td>\n",
       "      <td>FASHION, 화보</td>\n",
       "      <td>따로 또 같이</td>\n",
       "      <td>http://www.wkorea.com/2016/09/02/%eb%94%b0%eb%...</td>\n",
       "      <td>2016-09-02</td>\n",
       "      <td>'새로운 시즌을 맞아 더 모호하고 더 자유로운 방식으로 진화하고 있는 젠더 블렌딩 ...</td>\n",
       "      <td>0</td>\n",
       "      <td>0</td>\n",
       "      <td>['중성적인 스타일링을 위해선 실루엣을 활용하는 방법에 주목해야 한다. 생로랑 남성...</td>\n",
       "      <td>[('[', 'SS'), (\"'\", 'SS'), ('중', 'NNG'), ('성적'...</td>\n",
       "      <td>['실루엣', 'LAURENT', '어깨', '모델', '스타일', '실루엣', '...</td>\n",
       "    </tr>\n",
       "    <tr>\n",
       "      <th>1272</th>\n",
       "      <td>W</td>\n",
       "      <td>YSL</td>\n",
       "      <td>FASHION, 트렌드</td>\n",
       "      <td>두려움 없는 반란</td>\n",
       "      <td>http://www.wkorea.com/2016/09/01/%eb%91%90%eb%...</td>\n",
       "      <td>2016-09-01</td>\n",
       "      <td>'오늘날 패션엔 경계가 사라졌다. 패션계에 하이와 로 패션의 캐주얼한 조우가 무르익...</td>\n",
       "      <td>0</td>\n",
       "      <td>0</td>\n",
       "      <td>['이러한 맥락은 오늘날 브랜드의 모델 캐스팅에도 그대로 적용된다. 일례로 유명한 ...</td>\n",
       "      <td>[('[', 'SS'), (\"'\", 'SS'), ('이러', 'XR'), ('하',...</td>\n",
       "      <td>['브랜드', '모델', '모델', '전시', '디렉터', '모델', '모델', '...</td>\n",
       "    </tr>\n",
       "    <tr>\n",
       "      <th>1273</th>\n",
       "      <td>W</td>\n",
       "      <td>YSL</td>\n",
       "      <td>FASHION, 트렌드</td>\n",
       "      <td>너도 나도 베트멍</td>\n",
       "      <td>http://www.wkorea.com/2016/09/01/%eb%84%88%eb%...</td>\n",
       "      <td>2016-09-01</td>\n",
       "      <td>'패션계에서 노바운더리 시대의 전후를 가르는 존재가 된 베트멍. 그 대표 아이템은 ...</td>\n",
       "      <td>0</td>\n",
       "      <td>0</td>\n",
       "      <td>['셀린 디옹\\\\n나이 만48세\\\\n직업 세계적인 디바\\\\n평소 스타일 얼마 전까진...</td>\n",
       "      <td>[('[', 'SS'), (\"'\", 'SS'), ('세', 'VA'), ('ㄹ', ...</td>\n",
       "      <td>['스타일', '클래식', '화이트', 'LAURENT', '속', '패션계', '...</td>\n",
       "    </tr>\n",
       "  </tbody>\n",
       "</table>\n",
       "<p>1274 rows × 12 columns</p>\n",
       "</div>"
      ],
      "text/plain": [
       "     magazine brand      category                    title  \\\n",
       "0           A   YSL     CELEBRITY         깊게 뿌리내리기 위하여, 수영   \n",
       "1           A   YSL       FASHION                    코트 체크   \n",
       "2           A   YSL       FASHION                데님이여 영원하라   \n",
       "3           A   YSL       FASHION                 안경 하세요?!   \n",
       "4           A   YSL       FASHION  가을의 정석, 트렌치 코트 입는 법 8가지   \n",
       "...       ...   ...           ...                      ...   \n",
       "1269        W   YSL  FASHION, 트렌드                   어깨로말해요   \n",
       "1270        W   YSL   FASHION, 뉴스                    W해시태그   \n",
       "1271        W   YSL   FASHION, 화보                  따로 또 같이   \n",
       "1272        W   YSL  FASHION, 트렌드                두려움 없는 반란   \n",
       "1273        W   YSL  FASHION, 트렌드                너도 나도 베트멍   \n",
       "\n",
       "                                                   link        date  \\\n",
       "0     http://www.allurekorea.com/2020/11/20/%ea%b9%8...  2020-11-20   \n",
       "1     http://www.allurekorea.com/2020/11/10/%ec%bd%9...  2020-10-26   \n",
       "2     http://www.allurekorea.com/2020/11/06/%eb%8d%b...  2020-10-26   \n",
       "3     http://www.allurekorea.com/2020/10/29/%ec%95%8...  2020-10-23   \n",
       "4     http://www.allurekorea.com/2020/10/11/%ea%b0%8...  2020-09-27   \n",
       "...                                                 ...         ...   \n",
       "1269  http://www.wkorea.com/2016/09/05/%ec%96%b4%ea%...  2016-09-05   \n",
       "1270  http://www.wkorea.com/2016/09/02/w%ed%95%b4%ec...  2016-09-02   \n",
       "1271  http://www.wkorea.com/2016/09/02/%eb%94%b0%eb%...  2016-09-02   \n",
       "1272  http://www.wkorea.com/2016/09/01/%eb%91%90%eb%...  2016-09-01   \n",
       "1273  http://www.wkorea.com/2016/09/01/%eb%84%88%eb%...  2016-09-01   \n",
       "\n",
       "                                               contents  title_brand  check  \\\n",
       "0     ['누구보다 본인에게 엄격하지만 수용할 줄 아는 너른 마음도 지녔다. 오늘도 부단히...            0      0   \n",
       "1     ['겨울이 오기 전 기억해야 할 코트의 면면.', '90’S STANDARD', '...            0      0   \n",
       "2     ['데님 팬츠를 선택할 때 가장 중요한 것은 자신의 체형에 맞는 핏을 고르는 것이다...            0      0   \n",
       "3     ['모든 게 익고 마는 금빛 가을에는 탐스러운 금테 안경을. 전체 메탈로 장식한 다...            0      0   \n",
       "4     ['정직하고 말끔하게, 혹은 자유롭고 분방하게. 변화무쌍한 계절처럼 다양한 모습을 ...            0      0   \n",
       "...                                                 ...          ...    ...   \n",
       "1269  '어깨 좀 쓴다 하는 여인들이 모두 모였다. 이 현상은 특히 젊은 디자이너들의 의상...            0      0   \n",
       "1270  '패션&뷰티 아이템, 핫 스폿, 영화, 전시 등 더블유 에디터의 날카롭고 감각적인 ...            0      0   \n",
       "1271  '새로운 시즌을 맞아 더 모호하고 더 자유로운 방식으로 진화하고 있는 젠더 블렌딩 ...            0      0   \n",
       "1272  '오늘날 패션엔 경계가 사라졌다. 패션계에 하이와 로 패션의 캐주얼한 조우가 무르익...            0      0   \n",
       "1273  '패션계에서 노바운더리 시대의 전후를 가르는 존재가 된 베트멍. 그 대표 아이템은 ...            0      0   \n",
       "\n",
       "                                           word_laurent  \\\n",
       "0     ['빨간 더블 브레스티드 코트, 타이츠, 라텍스 소재 보디슈트와 사이하이 부츠는 모...   \n",
       "1     ['클래식한 캐멀 컬러 코트는 1백78만원, 우영미(Wooyoungmi). 버건디 ...   \n",
       "2     ['  짙은 그레이 컬러의 데님 팬츠는 95만5천원, 생로랑 바이 안토니 바카렐로(...   \n",
       "3     ['  YSL 모노그램을 새긴 블랙 에나멜 안경다리의 둥근 금테 안경은 40만원대,...   \n",
       "4     ['컬러블록 트렌치코트는 가격미정, 르쥬(Leje). 컵케이크 프린트 티셔츠는 27...   \n",
       "...                                                 ...   \n",
       "1269  [\"'어깨 좀 쓴다 하는 여인들이 모두 모였다. 이 현상은 특히 젊은 디자이너들의 ...   \n",
       "1270  ['#W뷰티콕  (뷰티 디렉터 송시은)\\\\n조회 2,023회\\\\n너무나 뜨거운 여름...   \n",
       "1271  ['중성적인 스타일링을 위해선 실루엣을 활용하는 방법에 주목해야 한다. 생로랑 남성...   \n",
       "1272  ['이러한 맥락은 오늘날 브랜드의 모델 캐스팅에도 그대로 적용된다. 일례로 유명한 ...   \n",
       "1273  ['셀린 디옹\\\\n나이 만48세\\\\n직업 세계적인 디바\\\\n평소 스타일 얼마 전까진...   \n",
       "\n",
       "                                          sentences_tag  \\\n",
       "0     [('[', 'SS'), (\"'\", 'SS'), ('빨갛', 'VA'), ('ㄴ',...   \n",
       "1     [('[', 'SS'), (\"'\", 'SS'), ('클래식', 'NNG'), ('하...   \n",
       "2     [('[', 'SS'), (\"'\", 'SS'), ('짙', 'VV'), ('은', ...   \n",
       "3     [('[', 'SS'), (\"'\", 'SS'), ('YSL', 'OL'), ('모노...   \n",
       "4     [('[', 'SS'), (\"'\", 'SS'), ('컬러', 'NNG'), ('블록...   \n",
       "...                                                 ...   \n",
       "1269  [('[', 'SS'), ('\"', 'SS'), (\"'\", 'SS'), ('어깨',...   \n",
       "1270  [('[', 'SS'), (\"'\", 'SS'), ('#', 'SW'), ('W', ...   \n",
       "1271  [('[', 'SS'), (\"'\", 'SS'), ('중', 'NNG'), ('성적'...   \n",
       "1272  [('[', 'SS'), (\"'\", 'SS'), ('이러', 'XR'), ('하',...   \n",
       "1273  [('[', 'SS'), (\"'\", 'SS'), ('세', 'VA'), ('ㄹ', ...   \n",
       "\n",
       "                                                   ADFN  \n",
       "0     ['코트', '소재', '슈트', '하이', '부츠', 'LAURENT', 'ANT...  \n",
       "1     ['클래식', '컬러', '코트', '컬러', '가죽', '셔츠', '스커트', '...  \n",
       "2     ['컬러', '데님', '팬츠', 'LAURENT', 'ANTHONY', 'LAUR...  \n",
       "3                          ['블랙', 'LAURENT', 'LAURENT']  \n",
       "4     ['컬러', '코트', '프린트', '데님', '팬츠', '슈즈', '선글라스', ...  \n",
       "...                                                 ...  \n",
       "1269  ['어깨', '디자이너', '의상', '어깨', '어깨', 'DESIGN', '데뷔...  \n",
       "1270  ['뷰티', '뷰티', '디렉터', '여름', '뷰티', '브랜드', '가을', '...  \n",
       "1271  ['실루엣', 'LAURENT', '어깨', '모델', '스타일', '실루엣', '...  \n",
       "1272  ['브랜드', '모델', '모델', '전시', '디렉터', '모델', '모델', '...  \n",
       "1273  ['스타일', '클래식', '화이트', 'LAURENT', '속', '패션계', '...  \n",
       "\n",
       "[1274 rows x 12 columns]"
      ]
     },
     "execution_count": 6,
     "metadata": {},
     "output_type": "execute_result"
    }
   ],
   "source": [
    "magazine_sl = pd.read_csv('./data/SL/magazine_sl.csv' , sep='|', encoding='utf-8')\n",
    "magazine_sl"
   ]
  },
  {
   "cell_type": "code",
   "execution_count": 7,
   "metadata": {
    "scrolled": true
   },
   "outputs": [
    {
     "data": {
      "text/plain": [
       "\"['빨간 더블 브레스티드 코트, 타이츠, 라텍스 소재 보디슈트와 사이하이 부츠는 모두 생로랑 바이 안토니 바카렐로(Saint Laurent by Anthony Vaccarello). 골드 반지는 이에르 로르 (Hyeres Lor).']\""
      ]
     },
     "execution_count": 7,
     "metadata": {},
     "output_type": "execute_result"
    }
   ],
   "source": [
    "magazine_sl['word_laurent'][0]"
   ]
  },
  {
   "cell_type": "code",
   "execution_count": 8,
   "metadata": {},
   "outputs": [
    {
     "data": {
      "text/plain": [
       "str"
      ]
     },
     "execution_count": 8,
     "metadata": {},
     "output_type": "execute_result"
    }
   ],
   "source": [
    "type(magazine_sl['word_laurent'][0])"
   ]
  },
  {
   "cell_type": "code",
   "execution_count": 9,
   "metadata": {},
   "outputs": [],
   "source": [
    "# replace test\n",
    "if '생 로랑' in magazine_sl.iloc[0,10] :\n",
    "#     print('Yes')\n",
    "    magazine_sl.iloc[0,10] = magazine_sl.iloc[0,10].replace('생 로랑' , '생로랑')\n",
    "    print(magazine_sl.iloc[0,10])"
   ]
  },
  {
   "cell_type": "code",
   "execution_count": 10,
   "metadata": {},
   "outputs": [
    {
     "name": "stdout",
     "output_type": "stream",
     "text": [
      "[]\n"
     ]
    }
   ],
   "source": [
    "# replace 전체 적용\n",
    "replace = []\n",
    "for i in range(len(magazine_sl)) :\n",
    "    if '생 로랑' in magazine_sl.iloc[i,10] :\n",
    "        magazine_sl.iloc[i,10] = magazine_sl.iloc[i,10].replace('생 로랑' , '생로랑')\n",
    "        replace.append(i)\n",
    "print(replace)"
   ]
  },
  {
   "cell_type": "code",
   "execution_count": 11,
   "metadata": {},
   "outputs": [],
   "source": [
    "# 검토\n",
    "for idx in replace :\n",
    "    print(magazine_sl.iloc[idx,10])\n",
    "    print('-'*100)"
   ]
  },
  {
   "cell_type": "code",
   "execution_count": 12,
   "metadata": {},
   "outputs": [],
   "source": [
    "magazine_sl.to_csv('./data/SL/magazine_sl.csv', index = False, sep ='|', encoding = 'utf-8')"
   ]
  },
  {
   "cell_type": "code",
   "execution_count": 13,
   "metadata": {},
   "outputs": [],
   "source": [
    "magazine_sl = pd.read_csv('./data/SL/magazine_sl.csv' , sep='|', encoding='utf-8')"
   ]
  },
  {
   "cell_type": "code",
   "execution_count": 14,
   "metadata": {},
   "outputs": [
    {
     "data": {
      "text/plain": [
       "1274"
      ]
     },
     "execution_count": 14,
     "metadata": {},
     "output_type": "execute_result"
    }
   ],
   "source": [
    "len(magazine_sl)"
   ]
  },
  {
   "cell_type": "markdown",
   "metadata": {},
   "source": [
    "## Kkma"
   ]
  },
  {
   "cell_type": "code",
   "execution_count": 15,
   "metadata": {},
   "outputs": [],
   "source": [
    "from konlpy.tag import Kkma\n",
    "kkma = Kkma()"
   ]
  },
  {
   "cell_type": "code",
   "execution_count": 16,
   "metadata": {},
   "outputs": [],
   "source": [
    "slsl = []\n",
    "for line in magazine_sl['word_laurent']:\n",
    "    slsl.append(line)"
   ]
  },
  {
   "cell_type": "code",
   "execution_count": 17,
   "metadata": {},
   "outputs": [
    {
     "data": {
      "text/plain": [
       "list"
      ]
     },
     "execution_count": 17,
     "metadata": {},
     "output_type": "execute_result"
    }
   ],
   "source": [
    "type(slsl)"
   ]
  },
  {
   "cell_type": "markdown",
   "metadata": {},
   "source": [
    "### 외국어 안잘리게 영어로"
   ]
  },
  {
   "cell_type": "code",
   "execution_count": 18,
   "metadata": {},
   "outputs": [],
   "source": [
    "for idx in range(len(slsl)) :\n",
    "# for sentence in slsl :\n",
    "    if '생로랑' in slsl[idx] :\n",
    "        slsl[idx] = slsl[idx].replace('생로랑' , 'SAINT_LAURENT')"
   ]
  },
  {
   "cell_type": "code",
   "execution_count": 19,
   "metadata": {},
   "outputs": [],
   "source": [
    "for idx in range(len(slsl)) :\n",
    "    if '이브 SAINT' in slsl[idx] :\n",
    "        slsl[idx] = slsl[idx].replace('이브 SAINT' , 'YVES_SAINT')"
   ]
  },
  {
   "cell_type": "code",
   "execution_count": 20,
   "metadata": {},
   "outputs": [],
   "source": [
    "for idx in range(len(slsl)) :\n",
    "    if '입SAINT' in slsl[idx] :\n",
    "        slsl[idx] = slsl[idx].replace('입SAINT' , 'YVES_SAINT')\n",
    "#         print(idx, slsl[idx])"
   ]
  },
  {
   "cell_type": "code",
   "execution_count": 21,
   "metadata": {},
   "outputs": [],
   "source": [
    "for idx in range(len(slsl)) :\n",
    "    if '이브SAINT' in slsl[idx] :\n",
    "        slsl[idx] = slsl[idx].replace('이브SAINT' , 'YVES_SAINT')\n",
    "#         print(idx, slsl[idx])"
   ]
  },
  {
   "cell_type": "code",
   "execution_count": 22,
   "metadata": {},
   "outputs": [],
   "source": [
    "for idx in range(len(slsl)) :\n",
    "    if '구찌' in slsl[idx] :\n",
    "        slsl[idx] = slsl[idx].replace('구찌' , 'GUCCI')\n",
    "#         print(idx, slsl[idx])"
   ]
  },
  {
   "cell_type": "code",
   "execution_count": 23,
   "metadata": {},
   "outputs": [],
   "source": [
    "for idx in range(len(slsl)) :\n",
    "    if '안토니 바카렐로' in slsl[idx] :\n",
    "        slsl[idx] = slsl[idx].replace('안토니 바카렐로' , 'ANTHONY VACCARELLO')\n",
    "#         print(idx, slsl[idx])"
   ]
  },
  {
   "cell_type": "code",
   "execution_count": 24,
   "metadata": {},
   "outputs": [],
   "source": [
    "for idx in range(len(slsl)) :\n",
    "    if '안토니바카렐로' in slsl[idx] :\n",
    "        slsl[idx] = slsl[idx].replace('안토니바카렐로' , 'ANTHONY VACCARELLO')\n",
    "#         print(idx, slsl[idx])"
   ]
  },
  {
   "cell_type": "code",
   "execution_count": 25,
   "metadata": {},
   "outputs": [],
   "source": [
    "for idx in range(len(slsl)) :\n",
    "    if '안토니오' in slsl[idx] :\n",
    "        slsl[idx] = slsl[idx].replace('안토니오' , 'ANTHONY')\n",
    "#         print(idx, slsl[idx])"
   ]
  },
  {
   "cell_type": "code",
   "execution_count": 26,
   "metadata": {},
   "outputs": [],
   "source": [
    "for idx in range(len(slsl)) :\n",
    "    if '안토니' in slsl[idx] :\n",
    "        slsl[idx] = slsl[idx].replace('안토니' , 'ANTHONY')\n",
    "#         print(idx, slsl[idx])"
   ]
  },
  {
   "cell_type": "code",
   "execution_count": 27,
   "metadata": {},
   "outputs": [],
   "source": [
    "for idx in range(len(slsl)) :\n",
    "    if '디올' in slsl[idx] :\n",
    "        slsl[idx] = slsl[idx].replace('디올' , 'DIOR')\n",
    "#         print(idx, slsl[idx])"
   ]
  },
  {
   "cell_type": "code",
   "execution_count": 28,
   "metadata": {},
   "outputs": [],
   "source": [
    "for idx in range(len(slsl)) :\n",
    "    if '오뜨 꾸띄르' in slsl[idx] :\n",
    "        slsl[idx] = slsl[idx].replace('오뜨 꾸띄르' , 'HAUTE COUTURE')\n",
    "#         print(idx, slsl[idx])"
   ]
  },
  {
   "cell_type": "code",
   "execution_count": 29,
   "metadata": {},
   "outputs": [],
   "source": [
    "for idx in range(len(slsl)) :\n",
    "    if '에디 슬리먼' in slsl[idx] :\n",
    "        slsl[idx] = slsl[idx].replace('에디 슬리먼' , 'Hedi Slimane')\n",
    "#         print(idx, slsl[idx])"
   ]
  },
  {
   "cell_type": "code",
   "execution_count": 30,
   "metadata": {},
   "outputs": [],
   "source": [
    "for idx in range(len(slsl)) :\n",
    "    if '쿠튀르' in slsl[idx] :\n",
    "        slsl[idx] = slsl[idx].replace('쿠튀르' , 'COUTURE')\n",
    "#         print(idx, slsl[idx])"
   ]
  },
  {
   "cell_type": "code",
   "execution_count": 31,
   "metadata": {},
   "outputs": [],
   "source": [
    "for idx in range(len(slsl)) :\n",
    "    if '에디터' in slsl[idx] :\n",
    "        slsl[idx] = slsl[idx].replace('에디터' , 'EDITOR')\n",
    "#         print(idx, slsl[idx])"
   ]
  },
  {
   "cell_type": "code",
   "execution_count": 32,
   "metadata": {},
   "outputs": [],
   "source": [
    "for idx in range(len(slsl)) :\n",
    "    if '마라케시' in slsl[idx] :\n",
    "        slsl[idx] = slsl[idx].replace('마라케시' , 'Marrakech')\n",
    "#         print(idx, slsl[idx])"
   ]
  },
  {
   "cell_type": "code",
   "execution_count": 33,
   "metadata": {},
   "outputs": [],
   "source": [
    "for idx in range(len(slsl)) :\n",
    "    if '몽클레르' in slsl[idx] :\n",
    "        slsl[idx] = slsl[idx].replace('몽클레르' , 'MONCLER')\n",
    "#         print(idx, slsl[idx])"
   ]
  },
  {
   "cell_type": "code",
   "execution_count": 34,
   "metadata": {},
   "outputs": [
    {
     "name": "stdout",
     "output_type": "stream",
     "text": [
      "35\n"
     ]
    }
   ],
   "source": [
    "FN = []\n",
    "for idx in range(len(slsl)) :\n",
    "    if '르 스모킹' in slsl[idx] :\n",
    "        slsl[idx] = slsl[idx].replace('르 스모킹' , 'LE_SMOKING')\n",
    "        FN.append(i)\n",
    "#         print(idx, slsl[idx])\n",
    "print(len(FN))"
   ]
  },
  {
   "cell_type": "code",
   "execution_count": 35,
   "metadata": {},
   "outputs": [
    {
     "name": "stdout",
     "output_type": "stream",
     "text": [
      "13\n"
     ]
    }
   ],
   "source": [
    "FN = []\n",
    "for idx in range(len(slsl)) :\n",
    "    if '에디션' in slsl[idx] :\n",
    "        slsl[idx] = slsl[idx].replace('에디션' , 'EDITION')\n",
    "        FN.append(i)\n",
    "#         print(idx, slsl[idx])\n",
    "print(len(FN))"
   ]
  },
  {
   "cell_type": "code",
   "execution_count": 36,
   "metadata": {},
   "outputs": [
    {
     "name": "stdout",
     "output_type": "stream",
     "text": [
      "70\n"
     ]
    }
   ],
   "source": [
    "FN = []\n",
    "for idx in range(len(slsl)) :\n",
    "    if '에디' in slsl[idx] :\n",
    "        slsl[idx] = slsl[idx].replace('에디' , 'HEDI')\n",
    "        FN.append(i)\n",
    "#         print(idx, slsl[idx])\n",
    "print(len(FN))"
   ]
  },
  {
   "cell_type": "code",
   "execution_count": 37,
   "metadata": {},
   "outputs": [
    {
     "name": "stdout",
     "output_type": "stream",
     "text": [
      "37\n"
     ]
    }
   ],
   "source": [
    "FN = []\n",
    "for idx in range(len(slsl)) :\n",
    "    if '바카렐로' in slsl[idx] :\n",
    "        slsl[idx] = slsl[idx].replace('바카렐로' , 'VACCARELLO')\n",
    "        FN.append(i)\n",
    "#         print(idx, slsl[idx])\n",
    "print(len(FN))"
   ]
  },
  {
   "cell_type": "code",
   "execution_count": 38,
   "metadata": {},
   "outputs": [
    {
     "name": "stdout",
     "output_type": "stream",
     "text": [
      "2\n"
     ]
    }
   ],
   "source": [
    "FN = []\n",
    "for idx in range(len(slsl)) :\n",
    "    if '바칼레로' in slsl[idx] :\n",
    "        slsl[idx] = slsl[idx].replace('바칼레로' , 'VACCARELLO')\n",
    "        FN.append(i)\n",
    "#         print(idx, slsl[idx])\n",
    "print(len(FN))"
   ]
  },
  {
   "cell_type": "code",
   "execution_count": 39,
   "metadata": {},
   "outputs": [
    {
     "name": "stdout",
     "output_type": "stream",
     "text": [
      "1\n"
     ]
    }
   ],
   "source": [
    "FN = []\n",
    "for idx in range(len(slsl)) :\n",
    "    if '바칼렐로' in slsl[idx] :\n",
    "        slsl[idx] = slsl[idx].replace('바칼렐로' , 'VACCARELLO')\n",
    "        FN.append(i)\n",
    "#         print(idx, slsl[idx])\n",
    "print(len(FN))"
   ]
  },
  {
   "cell_type": "code",
   "execution_count": 40,
   "metadata": {},
   "outputs": [
    {
     "name": "stdout",
     "output_type": "stream",
     "text": [
      "121\n"
     ]
    }
   ],
   "source": [
    "FN = []\n",
    "for idx in range(len(slsl)) :\n",
    "    if '발렌시아가' in slsl[idx] :\n",
    "        slsl[idx] = slsl[idx].replace('발렌시아가' , 'BALENCIAGA')\n",
    "        FN.append(i)\n",
    "#         print(idx, slsl[idx])\n",
    "print(len(FN))"
   ]
  },
  {
   "cell_type": "code",
   "execution_count": 41,
   "metadata": {},
   "outputs": [
    {
     "name": "stdout",
     "output_type": "stream",
     "text": [
      "42\n"
     ]
    }
   ],
   "source": [
    "FN = []\n",
    "for idx in range(len(slsl)) :\n",
    "    if '꾸뛰르' in slsl[idx] :\n",
    "        slsl[idx] = slsl[idx].replace('꾸뛰르' , 'COUTURE')\n",
    "        FN.append(i)\n",
    "#         print(idx, slsl[idx])\n",
    "print(len(FN))"
   ]
  },
  {
   "cell_type": "code",
   "execution_count": 42,
   "metadata": {},
   "outputs": [
    {
     "name": "stdout",
     "output_type": "stream",
     "text": [
      "2\n"
     ]
    }
   ],
   "source": [
    "FN = []\n",
    "for idx in range(len(slsl)) :\n",
    "    if '베티 카트루스' in slsl[idx] :\n",
    "        slsl[idx] = slsl[idx].replace('베티 카트루스' , 'Betty Catroux')\n",
    "        FN.append(i)\n",
    "#         print(idx, slsl[idx])\n",
    "print(len(FN))"
   ]
  },
  {
   "cell_type": "code",
   "execution_count": 43,
   "metadata": {},
   "outputs": [
    {
     "name": "stdout",
     "output_type": "stream",
     "text": [
      "8\n"
     ]
    }
   ],
   "source": [
    "FN = []\n",
    "for idx in range(len(slsl)) :\n",
    "    if '베티 카트루' in slsl[idx] :\n",
    "        slsl[idx] = slsl[idx].replace('베티 카트루' , 'Betty Catroux')\n",
    "        FN.append(i)\n",
    "#         print(idx, slsl[idx])\n",
    "print(len(FN))"
   ]
  },
  {
   "cell_type": "code",
   "execution_count": 44,
   "metadata": {},
   "outputs": [
    {
     "name": "stdout",
     "output_type": "stream",
     "text": [
      "17\n"
     ]
    }
   ],
   "source": [
    "FN = []\n",
    "for idx in range(len(slsl)) :\n",
    "    if '마리아 그라치아 치우리' in slsl[idx] :\n",
    "        slsl[idx] = slsl[idx].replace('마리아 그라치아 치우리' , 'Maria Grazia Chiuri')\n",
    "        FN.append(i)\n",
    "#         print(idx, slsl[idx])\n",
    "print(len(FN))"
   ]
  },
  {
   "cell_type": "code",
   "execution_count": 45,
   "metadata": {},
   "outputs": [
    {
     "name": "stdout",
     "output_type": "stream",
     "text": [
      "5\n"
     ]
    }
   ],
   "source": [
    "FN = []\n",
    "for idx in range(len(slsl)) :\n",
    "    if '치우리' in slsl[idx] :\n",
    "#         slsl[idx] = slsl[idx].replace('마리아 그라치아 치우리' , 'Maria Grazia Chiuri')\n",
    "        FN.append(i)\n",
    "#         print(idx, slsl[idx])\n",
    "print(len(FN))"
   ]
  },
  {
   "cell_type": "code",
   "execution_count": 46,
   "metadata": {},
   "outputs": [
    {
     "name": "stdout",
     "output_type": "stream",
     "text": [
      "10\n"
     ]
    }
   ],
   "source": [
    "FN = []\n",
    "for idx in range(len(slsl)) :\n",
    "    if '스타일리시' in slsl[idx] :\n",
    "        slsl[idx] = slsl[idx].replace('스타일리시' , 'STYLISH')\n",
    "        FN.append(i)\n",
    "#         print(idx, slsl[idx])\n",
    "print(len(FN))"
   ]
  },
  {
   "cell_type": "code",
   "execution_count": 47,
   "metadata": {},
   "outputs": [
    {
     "name": "stdout",
     "output_type": "stream",
     "text": [
      "16\n"
     ]
    }
   ],
   "source": [
    "FN = []\n",
    "for idx in range(len(slsl)) :\n",
    "    if '스포티' in slsl[idx] :\n",
    "        slsl[idx] = slsl[idx].replace('스포티' , 'SPORTY')\n",
    "        FN.append(idx)\n",
    "#         print(idx, slsl[idx])\n",
    "print(len(FN))"
   ]
  },
  {
   "cell_type": "code",
   "execution_count": 48,
   "metadata": {},
   "outputs": [
    {
     "name": "stdout",
     "output_type": "stream",
     "text": [
      "99\n"
     ]
    }
   ],
   "source": [
    "FN = []\n",
    "for idx in range(len(slsl)) :\n",
    "    if '크리에이티브' in slsl[idx] :\n",
    "        slsl[idx] = slsl[idx].replace('크리에이티브' , 'CREATIVE')\n",
    "        FN.append(idx)\n",
    "#         print(idx, slsl[idx])\n",
    "print(len(FN))"
   ]
  },
  {
   "cell_type": "code",
   "execution_count": 49,
   "metadata": {},
   "outputs": [
    {
     "name": "stdout",
     "output_type": "stream",
     "text": [
      "26\n"
     ]
    }
   ],
   "source": [
    "FN = []\n",
    "for idx in range(len(slsl)) :\n",
    "    if '주얼리' in slsl[idx] :\n",
    "        slsl[idx] = slsl[idx].replace('주얼리' , 'JEWERLY')\n",
    "        FN.append(idx)\n",
    "#         print(idx, slsl[idx])\n",
    "print(len(FN))"
   ]
  },
  {
   "cell_type": "code",
   "execution_count": 50,
   "metadata": {},
   "outputs": [
    {
     "name": "stdout",
     "output_type": "stream",
     "text": [
      "20\n"
     ]
    }
   ],
   "source": [
    "FN = []\n",
    "for idx in range(len(slsl)) :\n",
    "    if '마이클 코어스' in slsl[idx] :\n",
    "        slsl[idx] = slsl[idx].replace('마이클 코어스' , 'MICHAEL KORS')\n",
    "        FN.append(idx)\n",
    "#         print(idx, slsl[idx])\n",
    "print(len(FN))"
   ]
  },
  {
   "cell_type": "code",
   "execution_count": 51,
   "metadata": {},
   "outputs": [
    {
     "name": "stdout",
     "output_type": "stream",
     "text": [
      "25\n"
     ]
    }
   ],
   "source": [
    "FN = []\n",
    "for idx in range(len(slsl)) :\n",
    "    if '메종' in slsl[idx] :\n",
    "        slsl[idx] = slsl[idx].replace('메종' , 'MAISON')\n",
    "        FN.append(idx)\n",
    "#         print(idx, slsl[idx])\n",
    "print(len(FN))"
   ]
  },
  {
   "cell_type": "code",
   "execution_count": 52,
   "metadata": {},
   "outputs": [
    {
     "name": "stdout",
     "output_type": "stream",
     "text": [
      "53\n"
     ]
    }
   ],
   "source": [
    "FN = []\n",
    "for idx in range(len(slsl)) :\n",
    "    if '발렌티노' in slsl[idx] :\n",
    "        slsl[idx] = slsl[idx].replace('발렌티노' , 'VALENTINO')\n",
    "        FN.append(idx)\n",
    "#         print(idx, slsl[idx])\n",
    "print(len(FN))"
   ]
  },
  {
   "cell_type": "code",
   "execution_count": 53,
   "metadata": {},
   "outputs": [
    {
     "name": "stdout",
     "output_type": "stream",
     "text": [
      "36\n"
     ]
    }
   ],
   "source": [
    "FN = []\n",
    "for idx in range(len(slsl)) :\n",
    "    if '베르사체' in slsl[idx] :\n",
    "        slsl[idx] = slsl[idx].replace('베르사체' , 'VERSACE')\n",
    "        FN.append(idx)\n",
    "#         print(idx, slsl[idx])\n",
    "print(len(FN))"
   ]
  },
  {
   "cell_type": "code",
   "execution_count": 54,
   "metadata": {},
   "outputs": [
    {
     "name": "stdout",
     "output_type": "stream",
     "text": [
      "15\n"
     ]
    }
   ],
   "source": [
    "FN = []\n",
    "for idx in range(len(slsl)) :\n",
    "    if '셀러브리티' in slsl[idx] :\n",
    "        slsl[idx] = slsl[idx].replace('셀러브리티' , 'CELEBRITY')\n",
    "        FN.append(idx)\n",
    "#         print(idx, slsl[idx])\n",
    "print(len(FN))"
   ]
  },
  {
   "cell_type": "code",
   "execution_count": 55,
   "metadata": {},
   "outputs": [
    {
     "name": "stdout",
     "output_type": "stream",
     "text": [
      "6\n"
     ]
    }
   ],
   "source": [
    "FN = []\n",
    "for idx in range(len(slsl)) :\n",
    "    if '킴 존스' in slsl[idx] :\n",
    "        slsl[idx] = slsl[idx].replace('킴 존스' , 'KIM JONES')\n",
    "        FN.append(idx)\n",
    "#         print(idx, slsl[idx])\n",
    "print(len(FN))"
   ]
  },
  {
   "cell_type": "code",
   "execution_count": 56,
   "metadata": {},
   "outputs": [
    {
     "name": "stdout",
     "output_type": "stream",
     "text": [
      "20\n"
     ]
    }
   ],
   "source": [
    "FN = []\n",
    "for idx in range(len(slsl)) :\n",
    "    if '살바토레 페라가모' in slsl[idx] :\n",
    "        slsl[idx] = slsl[idx].replace('살바토레 페라가모' , 'Salvatore Ferragamo')\n",
    "        FN.append(idx)\n",
    "#         print(idx, slsl[idx])\n",
    "print(len(FN))"
   ]
  },
  {
   "cell_type": "code",
   "execution_count": 57,
   "metadata": {},
   "outputs": [
    {
     "name": "stdout",
     "output_type": "stream",
     "text": [
      "33\n"
     ]
    }
   ],
   "source": [
    "FN = []\n",
    "for idx in range(len(slsl)) :\n",
    "    if '칼 라거펠트' in slsl[idx] :\n",
    "        slsl[idx] = slsl[idx].replace('칼 라거펠트' , 'Karl Lagerfeld')\n",
    "        FN.append(idx)\n",
    "#         print(idx, slsl[idx])\n",
    "print(len(FN))"
   ]
  },
  {
   "cell_type": "code",
   "execution_count": 58,
   "metadata": {},
   "outputs": [
    {
     "name": "stdout",
     "output_type": "stream",
     "text": [
      "36\n"
     ]
    }
   ],
   "source": [
    "FN = []\n",
    "for idx in range(len(slsl)) :\n",
    "    if '아카이브' in slsl[idx] :\n",
    "        slsl[idx] = slsl[idx].replace('아카이브' , 'ARCHIVE')\n",
    "        FN.append(idx)\n",
    "#         print(idx, slsl[idx])\n",
    "print(len(FN))"
   ]
  },
  {
   "cell_type": "code",
   "execution_count": 59,
   "metadata": {},
   "outputs": [
    {
     "name": "stdout",
     "output_type": "stream",
     "text": [
      "31\n"
     ]
    }
   ],
   "source": [
    "FN = []\n",
    "for idx in range(len(slsl)) :\n",
    "    if '에르메스' in slsl[idx] :\n",
    "        slsl[idx] = slsl[idx].replace('에르메스' , 'HERMES')\n",
    "        FN.append(idx)\n",
    "#         print(idx, slsl[idx])\n",
    "print(len(FN))"
   ]
  },
  {
   "cell_type": "code",
   "execution_count": 60,
   "metadata": {},
   "outputs": [
    {
     "name": "stdout",
     "output_type": "stream",
     "text": [
      "23\n"
     ]
    }
   ],
   "source": [
    "FN = []\n",
    "for idx in range(len(slsl)) :\n",
    "    if '마리아' in slsl[idx] :\n",
    "        slsl[idx] = slsl[idx].replace('마리아' , 'MARIA')\n",
    "        FN.append(idx)\n",
    "#         print(idx, slsl[idx])\n",
    "print(len(FN))"
   ]
  },
  {
   "cell_type": "code",
   "execution_count": 61,
   "metadata": {},
   "outputs": [
    {
     "name": "stdout",
     "output_type": "stream",
     "text": [
      "15\n"
     ]
    }
   ],
   "source": [
    "FN = []\n",
    "for idx in range(len(slsl)) :\n",
    "    if '레이디' in slsl[idx] :\n",
    "        slsl[idx] = slsl[idx].replace('레이디' , 'LADY')\n",
    "        FN.append(idx)\n",
    "#         print(idx, slsl[idx])\n",
    "print(len(FN))"
   ]
  },
  {
   "cell_type": "code",
   "execution_count": 62,
   "metadata": {},
   "outputs": [
    {
     "name": "stdout",
     "output_type": "stream",
     "text": [
      "22\n"
     ]
    }
   ],
   "source": [
    "FN = []\n",
    "for idx in range(len(slsl)) :\n",
    "    if '케어링' in slsl[idx] :\n",
    "#         slsl[idx] = slsl[idx].replace('케어링' , 'LADY')\n",
    "        FN.append(idx)\n",
    "#         print(idx, slsl[idx])\n",
    "print(len(FN))"
   ]
  },
  {
   "cell_type": "code",
   "execution_count": 63,
   "metadata": {},
   "outputs": [
    {
     "name": "stdout",
     "output_type": "stream",
     "text": [
      "33\n"
     ]
    }
   ],
   "source": [
    "FN = []\n",
    "for idx in range(len(slsl)) :\n",
    "    if '캘빈 클라인' in slsl[idx] :\n",
    "        slsl[idx] = slsl[idx].replace('캘빈 클라인' , 'Calvin Klein')\n",
    "        FN.append(idx)\n",
    "#         print(idx, slsl[idx])\n",
    "print(len(FN))"
   ]
  },
  {
   "cell_type": "code",
   "execution_count": 64,
   "metadata": {},
   "outputs": [
    {
     "name": "stdout",
     "output_type": "stream",
     "text": [
      "20\n"
     ]
    }
   ],
   "source": [
    "FN = []\n",
    "for idx in range(len(slsl)) :\n",
    "    if '스틸레토' in slsl[idx] :\n",
    "        slsl[idx] = slsl[idx].replace('스틸레토' , 'Stiletto')\n",
    "        FN.append(idx)\n",
    "#         print(idx, slsl[idx])\n",
    "print(len(FN))"
   ]
  },
  {
   "cell_type": "code",
   "execution_count": 65,
   "metadata": {},
   "outputs": [
    {
     "name": "stdout",
     "output_type": "stream",
     "text": [
      "39\n"
     ]
    }
   ],
   "source": [
    "FN = []\n",
    "for idx in range(len(slsl)) :\n",
    "    if '펜디' in slsl[idx] :\n",
    "        slsl[idx] = slsl[idx].replace('펜디' , 'FENDI')\n",
    "        FN.append(idx)\n",
    "#         print(idx, slsl[idx])\n",
    "print(len(FN))"
   ]
  },
  {
   "cell_type": "code",
   "execution_count": 66,
   "metadata": {},
   "outputs": [
    {
     "name": "stdout",
     "output_type": "stream",
     "text": [
      "160\n"
     ]
    }
   ],
   "source": [
    "FN = []\n",
    "for idx in range(len(slsl)) :\n",
    "    if '디자인' in slsl[idx] :\n",
    "        slsl[idx] = slsl[idx].replace('디자인' , 'DESIGN')\n",
    "        FN.append(idx)\n",
    "#         print(idx, slsl[idx])\n",
    "print(len(FN))"
   ]
  },
  {
   "cell_type": "code",
   "execution_count": 67,
   "metadata": {},
   "outputs": [
    {
     "name": "stdout",
     "output_type": "stream",
     "text": [
      "7\n"
     ]
    }
   ],
   "source": [
    "FN = []\n",
    "for idx in range(len(slsl)) :\n",
    "    if '꾸띄르' in slsl[idx] :\n",
    "        slsl[idx] = slsl[idx].replace('꾸띄르' , 'COUTURE')\n",
    "        FN.append(idx)\n",
    "#         print(idx, slsl[idx])\n",
    "print(len(FN))"
   ]
  },
  {
   "cell_type": "code",
   "execution_count": 68,
   "metadata": {},
   "outputs": [
    {
     "name": "stdout",
     "output_type": "stream",
     "text": [
      "59\n"
     ]
    }
   ],
   "source": [
    "FN = []\n",
    "for idx in range(len(slsl)) :\n",
    "    if '알렉산더' in slsl[idx] :\n",
    "        slsl[idx] = slsl[idx].replace('알렉산더' , 'ALEXANDER')\n",
    "        FN.append(idx)\n",
    "#         print(idx, slsl[idx])\n",
    "print(len(FN))"
   ]
  },
  {
   "cell_type": "code",
   "execution_count": 69,
   "metadata": {},
   "outputs": [
    {
     "name": "stdout",
     "output_type": "stream",
     "text": [
      "4\n"
     ]
    }
   ],
   "source": [
    "FN = []\n",
    "for idx in range(len(slsl)) :\n",
    "    if '벨라 하디드' in slsl[idx] :\n",
    "        slsl[idx] = slsl[idx].replace('벨라 하디드' , 'Bella Hadid')\n",
    "        FN.append(idx)\n",
    "#         print(idx, slsl[idx])\n",
    "print(len(FN))"
   ]
  },
  {
   "cell_type": "code",
   "execution_count": 70,
   "metadata": {},
   "outputs": [
    {
     "name": "stdout",
     "output_type": "stream",
     "text": [
      "12\n"
     ]
    }
   ],
   "source": [
    "FN = []\n",
    "for idx in range(len(slsl)) :\n",
    "    if '시그니처' in slsl[idx] :\n",
    "        slsl[idx] = slsl[idx].replace('시그니처' , 'SIGNATURE')\n",
    "        FN.append(idx)\n",
    "#         print(idx, slsl[idx])\n",
    "print(len(FN))"
   ]
  },
  {
   "cell_type": "code",
   "execution_count": 71,
   "metadata": {},
   "outputs": [
    {
     "name": "stdout",
     "output_type": "stream",
     "text": [
      "23\n"
     ]
    }
   ],
   "source": [
    "FN = []\n",
    "for idx in range(len(slsl)) :\n",
    "    if '시그너처' in slsl[idx] :\n",
    "        slsl[idx] = slsl[idx].replace('시그너처' , 'SIGNATURE')\n",
    "        FN.append(idx)\n",
    "#         print(idx, slsl[idx])\n",
    "print(len(FN))"
   ]
  },
  {
   "cell_type": "code",
   "execution_count": 72,
   "metadata": {},
   "outputs": [
    {
     "name": "stdout",
     "output_type": "stream",
     "text": [
      "19\n"
     ]
    }
   ],
   "source": [
    "FN = []\n",
    "for idx in range(len(slsl)) :\n",
    "    if '존 갈리아노' in slsl[idx] :\n",
    "        slsl[idx] = slsl[idx].replace('존 갈리아노' , 'John Galliano')\n",
    "        FN.append(idx)\n",
    "#         print(idx, slsl[idx])\n",
    "print(len(FN))"
   ]
  },
  {
   "cell_type": "code",
   "execution_count": 73,
   "metadata": {},
   "outputs": [
    {
     "name": "stdout",
     "output_type": "stream",
     "text": [
      "3\n"
     ]
    }
   ],
   "source": [
    "FN = []\n",
    "for idx in range(len(slsl)) :\n",
    "    if '캘빈클라인' in slsl[idx] :\n",
    "        slsl[idx] = slsl[idx].replace('캘빈클라인' , 'Calvin Klein')\n",
    "        FN.append(idx)\n",
    "#         print(idx, slsl[idx])\n",
    "print(len(FN))"
   ]
  },
  {
   "cell_type": "code",
   "execution_count": 74,
   "metadata": {},
   "outputs": [
    {
     "name": "stdout",
     "output_type": "stream",
     "text": [
      "60\n"
     ]
    }
   ],
   "source": [
    "FN = []\n",
    "for idx in range(len(slsl)) :\n",
    "    if '셀린느' in slsl[idx] :\n",
    "        slsl[idx] = slsl[idx].replace('셀린느' , 'CELINE')\n",
    "        FN.append(idx)\n",
    "#         print(idx, slsl[idx])\n",
    "print(len(FN))"
   ]
  },
  {
   "cell_type": "code",
   "execution_count": 75,
   "metadata": {},
   "outputs": [
    {
     "name": "stdout",
     "output_type": "stream",
     "text": [
      "41\n"
     ]
    }
   ],
   "source": [
    "FN = []\n",
    "for idx in range(len(slsl)) :\n",
    "    if '인스타그램' in slsl[idx] :\n",
    "        slsl[idx] = slsl[idx].replace('인스타그램' , 'INSTAGRAM')\n",
    "        FN.append(idx)\n",
    "#         print(idx, slsl[idx])\n",
    "print(len(FN))"
   ]
  },
  {
   "cell_type": "code",
   "execution_count": 76,
   "metadata": {},
   "outputs": [
    {
     "name": "stdout",
     "output_type": "stream",
     "text": [
      "3\n"
     ]
    }
   ],
   "source": [
    "FN = []\n",
    "for idx in range(len(slsl)) :\n",
    "    if '새들' in slsl[idx] :\n",
    "        slsl[idx] = slsl[idx].replace('새들' , 'SADDLE')\n",
    "        FN.append(idx)\n",
    "#         print(idx, slsl[idx])\n",
    "print(len(FN))"
   ]
  },
  {
   "cell_type": "code",
   "execution_count": 77,
   "metadata": {},
   "outputs": [
    {
     "name": "stdout",
     "output_type": "stream",
     "text": [
      "17\n"
     ]
    }
   ],
   "source": [
    "FN = []\n",
    "for idx in range(len(slsl)) :\n",
    "    if '아이코닉' in slsl[idx] :\n",
    "        slsl[idx] = slsl[idx].replace('아이코닉' , 'ICONIC')\n",
    "        FN.append(idx)\n",
    "#         print(idx, didi[idx])\n",
    "print(len(FN))"
   ]
  },
  {
   "cell_type": "code",
   "execution_count": 78,
   "metadata": {},
   "outputs": [
    {
     "name": "stdout",
     "output_type": "stream",
     "text": [
      "8\n"
     ]
    }
   ],
   "source": [
    "FN = []\n",
    "for idx in range(len(slsl)) :\n",
    "    if '부티크' in slsl[idx] :\n",
    "        slsl[idx] = slsl[idx].replace('부티크' , 'boutique')\n",
    "        FN.append(idx)\n",
    "#         print(idx, didi[idx])\n",
    "print(len(FN))"
   ]
  },
  {
   "cell_type": "code",
   "execution_count": 79,
   "metadata": {},
   "outputs": [
    {
     "name": "stdout",
     "output_type": "stream",
     "text": [
      "12\n"
     ]
    }
   ],
   "source": [
    "FN = []\n",
    "for idx in range(len(slsl)) :\n",
    "    if '인플루언서' in slsl[idx] :\n",
    "        slsl[idx] = slsl[idx].replace('인플루언서' , 'INFLUENCER')\n",
    "        FN.append(idx)\n",
    "#         print(idx, didi[idx])\n",
    "print(len(FN))"
   ]
  },
  {
   "cell_type": "code",
   "execution_count": 80,
   "metadata": {},
   "outputs": [
    {
     "name": "stdout",
     "output_type": "stream",
     "text": [
      "16\n"
     ]
    }
   ],
   "source": [
    "FN = []\n",
    "for idx in range(len(slsl)) :\n",
    "    if '블랙핑크' in slsl[idx] :\n",
    "        slsl[idx] = slsl[idx].replace('블랙핑크' , 'BLACKPINK')\n",
    "        FN.append(idx)\n",
    "#         print(idx, slsl[idx])\n",
    "print(len(FN))"
   ]
  },
  {
   "cell_type": "code",
   "execution_count": 81,
   "metadata": {},
   "outputs": [
    {
     "name": "stdout",
     "output_type": "stream",
     "text": [
      "0\n"
     ]
    }
   ],
   "source": [
    "FN = []\n",
    "for idx in range(len(slsl)) :\n",
    "    if '셀린느' in slsl[idx] :\n",
    "        slsl[idx] = slsl[idx].replace('셀린느' , 'CELINE')\n",
    "        FN.append(idx)\n",
    "#         print(idx, slsl[idx])\n",
    "print(len(FN))"
   ]
  },
  {
   "cell_type": "code",
   "execution_count": 82,
   "metadata": {},
   "outputs": [
    {
     "name": "stdout",
     "output_type": "stream",
     "text": [
      "0\n"
     ]
    }
   ],
   "source": [
    "FN = []\n",
    "for idx in range(len(slsl)) :\n",
    "    if '알렉산더' in slsl[idx] :\n",
    "        slsl[idx] = slsl[idx].replace('알렉산더' , 'Alexander McQueen')\n",
    "        FN.append(idx)\n",
    "#         print(idx, slsl[idx])\n",
    "print(len(FN))"
   ]
  },
  {
   "cell_type": "code",
   "execution_count": 83,
   "metadata": {},
   "outputs": [
    {
     "name": "stdout",
     "output_type": "stream",
     "text": [
      "10\n"
     ]
    }
   ],
   "source": [
    "FN = []\n",
    "for idx in range(len(slsl)) :\n",
    "    if '웨어러블' in slsl[idx] :\n",
    "        slsl[idx] = slsl[idx].replace('웨어러블' , 'WEARABLE')\n",
    "        FN.append(idx)\n",
    "#         print(idx, slsl[idx])\n",
    "print(len(FN))"
   ]
  },
  {
   "cell_type": "code",
   "execution_count": 84,
   "metadata": {},
   "outputs": [
    {
     "name": "stdout",
     "output_type": "stream",
     "text": [
      "12\n"
     ]
    }
   ],
   "source": [
    "FN = []\n",
    "for idx in range(len(slsl)) :\n",
    "    if '앙리 피노' in slsl[idx] :\n",
    "        slsl[idx] = slsl[idx].replace('앙리 피노' , 'Henri Pinault')\n",
    "        FN.append(idx)\n",
    "#         print(idx, slsl[idx])\n",
    "print(len(FN))"
   ]
  },
  {
   "cell_type": "code",
   "execution_count": 85,
   "metadata": {},
   "outputs": [
    {
     "name": "stdout",
     "output_type": "stream",
     "text": [
      "2\n"
     ]
    }
   ],
   "source": [
    "FN = []\n",
    "for idx in range(len(slsl)) :\n",
    "    if '컨템포러리' in slsl[idx] :\n",
    "        slsl[idx] = slsl[idx].replace('컨템포러리' , 'contemporary')\n",
    "        FN.append(idx)\n",
    "#         print(idx, slsl[idx])\n",
    "print(len(FN))"
   ]
  },
  {
   "cell_type": "code",
   "execution_count": null,
   "metadata": {},
   "outputs": [],
   "source": []
  },
  {
   "cell_type": "code",
   "execution_count": 86,
   "metadata": {},
   "outputs": [
    {
     "name": "stdout",
     "output_type": "stream",
     "text": [
      "6\n"
     ]
    }
   ],
   "source": [
    "FN = []\n",
    "for idx in range(len(slsl)) :\n",
    "    if '힐피거' in slsl[idx] :\n",
    "#         slsl[idx] = slsl[idx].replace('웨어러블' , 'Henri Pinault')\n",
    "        FN.append(idx)\n",
    "#         print(idx, slsl[idx])\n",
    "print(len(FN))"
   ]
  },
  {
   "cell_type": "code",
   "execution_count": null,
   "metadata": {},
   "outputs": [],
   "source": []
  },
  {
   "cell_type": "code",
   "execution_count": null,
   "metadata": {},
   "outputs": [],
   "source": []
  },
  {
   "cell_type": "code",
   "execution_count": null,
   "metadata": {},
   "outputs": [],
   "source": []
  },
  {
   "cell_type": "code",
   "execution_count": null,
   "metadata": {},
   "outputs": [],
   "source": []
  },
  {
   "cell_type": "code",
   "execution_count": null,
   "metadata": {},
   "outputs": [],
   "source": []
  },
  {
   "cell_type": "code",
   "execution_count": null,
   "metadata": {},
   "outputs": [],
   "source": []
  },
  {
   "cell_type": "code",
   "execution_count": null,
   "metadata": {},
   "outputs": [],
   "source": []
  },
  {
   "cell_type": "code",
   "execution_count": null,
   "metadata": {},
   "outputs": [],
   "source": []
  },
  {
   "cell_type": "markdown",
   "metadata": {},
   "source": [
    "### 영문 다 대문자로 변환"
   ]
  },
  {
   "cell_type": "code",
   "execution_count": 87,
   "metadata": {},
   "outputs": [],
   "source": [
    "for idx in range(len(slsl)) :\n",
    "    slsl[idx] = slsl[idx].upper()\n",
    "#     print(slsl[idx])"
   ]
  },
  {
   "cell_type": "markdown",
   "metadata": {},
   "source": [
    "### 각 문장별로 형태소 구분하기"
   ]
  },
  {
   "cell_type": "code",
   "execution_count": 88,
   "metadata": {
    "scrolled": true
   },
   "outputs": [],
   "source": [
    "sentences_tag = []\n",
    "for i in range(len(slsl)) :\n",
    "# for sentence in slsl:\n",
    "#     print(i)\n",
    "    morph = kkma.pos(slsl[i])\n",
    "    sentences_tag.append(morph)\n",
    "#     print(morph)\n",
    "#     print('-'*30)"
   ]
  },
  {
   "cell_type": "markdown",
   "metadata": {},
   "source": [
    "### 형태소 구분 검토용으로 일부 진행"
   ]
  },
  {
   "cell_type": "code",
   "execution_count": 89,
   "metadata": {},
   "outputs": [],
   "source": [
    "# sentences_tag[0]"
   ]
  },
  {
   "cell_type": "code",
   "execution_count": 90,
   "metadata": {},
   "outputs": [],
   "source": [
    "# # TEST\n",
    "# # 각 문장별로 형태소 구분하기\n",
    "# sentences_tagT = []\n",
    "# for i in range(200,1000) :\n",
    "# # for sentence in slsl:\n",
    "#     print(i)\n",
    "#     morph = kkma.pos(slsl[i])\n",
    "#     sentences_tagT.append(morph)\n",
    "#     print(morph)\n",
    "#     print('-'*30)"
   ]
  },
  {
   "cell_type": "code",
   "execution_count": 91,
   "metadata": {
    "scrolled": false
   },
   "outputs": [],
   "source": [
    "# slsl[556]"
   ]
  },
  {
   "cell_type": "code",
   "execution_count": 92,
   "metadata": {},
   "outputs": [],
   "source": [
    "# len(slsl)"
   ]
  },
  {
   "cell_type": "code",
   "execution_count": 93,
   "metadata": {},
   "outputs": [],
   "source": [
    "# print(morph)"
   ]
  },
  {
   "cell_type": "code",
   "execution_count": 94,
   "metadata": {},
   "outputs": [],
   "source": [
    "# for i in range(len(slsl[0:5])) :\n",
    "#     print(slsl[i])"
   ]
  },
  {
   "cell_type": "code",
   "execution_count": 95,
   "metadata": {},
   "outputs": [],
   "source": [
    "# print(sentences_tag)\n",
    "# print(len(sentences_tag))\n",
    "# print('\\n'*3)"
   ]
  },
  {
   "cell_type": "code",
   "execution_count": 92,
   "metadata": {},
   "outputs": [],
   "source": [
    "# # 명사 혹은 형용사인 품사만 선별해 리스트에 담기\n",
    "# noun_adj_list = []\n",
    "# for sentence1 in sentences_tag:\n",
    "#     for word, tag in sentence1:\n",
    "#         if tag in ['NNG','NNP','VA', 'VV', 'OL']:\n",
    "#             noun_adj_list.append(word)"
   ]
  },
  {
   "cell_type": "code",
   "execution_count": 97,
   "metadata": {},
   "outputs": [],
   "source": [
    "from collections import Counter"
   ]
  },
  {
   "cell_type": "code",
   "execution_count": 98,
   "metadata": {},
   "outputs": [],
   "source": [
    "# noun_adj_list"
   ]
  },
  {
   "cell_type": "code",
   "execution_count": 99,
   "metadata": {},
   "outputs": [],
   "source": [
    "# # 별된 품사별 빈도수 계산 & 상위 빈도 100위 까지 출력\n",
    "# counts = Counter(noun_adj_list)\n",
    "# print(counts.most_common(100))"
   ]
  },
  {
   "cell_type": "code",
   "execution_count": 100,
   "metadata": {},
   "outputs": [],
   "source": [
    "# 명사만\n",
    "noun_list = []\n",
    "for sentence1 in sentences_tag:\n",
    "    for word, tag in sentence1:\n",
    "        if tag in ['NNG','NNP', 'OL']:\n",
    "            noun_list.append(word)\n",
    "# noun_list"
   ]
  },
  {
   "cell_type": "code",
   "execution_count": 101,
   "metadata": {},
   "outputs": [],
   "source": [
    "# counts_noun = Counter(noun_list)\n",
    "# print(counts_noun.most_common(100))"
   ]
  },
  {
   "cell_type": "markdown",
   "metadata": {},
   "source": [
    "## Stopwords"
   ]
  },
  {
   "cell_type": "code",
   "execution_count": 102,
   "metadata": {},
   "outputs": [],
   "source": [
    "stpwds = pd.read_csv('./stopwords.csv' , sep=',', encoding='utf-8', header=None)\n",
    "# stpwds"
   ]
  },
  {
   "cell_type": "code",
   "execution_count": 103,
   "metadata": {},
   "outputs": [
    {
     "name": "stdout",
     "output_type": "stream",
     "text": [
      "<class 'pandas.core.frame.DataFrame'>\n"
     ]
    }
   ],
   "source": [
    "print(type(stpwds))"
   ]
  },
  {
   "cell_type": "code",
   "execution_count": 104,
   "metadata": {},
   "outputs": [],
   "source": [
    "# 리스트로 변환\n",
    "stpwds_l = stpwds[0].tolist()"
   ]
  },
  {
   "cell_type": "code",
   "execution_count": 105,
   "metadata": {},
   "outputs": [],
   "source": [
    "# stpwds_l"
   ]
  },
  {
   "cell_type": "code",
   "execution_count": 106,
   "metadata": {},
   "outputs": [
    {
     "data": {
      "text/plain": [
       "list"
      ]
     },
     "execution_count": 106,
     "metadata": {},
     "output_type": "execute_result"
    }
   ],
   "source": [
    "type(stpwds_l)"
   ]
  },
  {
   "cell_type": "code",
   "execution_count": 107,
   "metadata": {},
   "outputs": [],
   "source": [
    "# stpwds_l = []\n",
    "add = ['위하', '선보이', '가격', '가격 미정', '미정', '지금', 'BY', 'N', '있', '없', '지나', '만들', '말하', '입', '보', \n",
    "       '되','선보이', '같', '대하', '등장', '사람', '받', '많', '더하', '최근', '보여주', '후', '르', '링', '리', '르', '라', \n",
    "      '레', '티', '크', '디', '통하', '전', '알', '슬', '대', '말', '잇', '타', '보이', '커', '베', 'S', '카', '키', '시', '주',\n",
    "      '푸', '안', '그러', '늘', '비', '바', '위', '인', '이자', '노', '미', '테', '은', '마', '앤', '그렇', '부', '앞', '고', '코', \n",
    "       '장', '터', '쓰', '어떻', '사실', '사이', \n",
    "       '패션', '컬렉션', '시즌', '사진', '매치', 'VACCARELLO', 'SLIMANE', '연출', '모습', '시작', 'SAINT', 'YVES','길', '떠나', \n",
    "      '룩', '다양']\n",
    "for words in add :\n",
    "    stpwds_l.append(words)\n",
    "# stpwds_l"
   ]
  },
  {
   "cell_type": "markdown",
   "metadata": {},
   "source": [
    "### 불용어는 형태소분석 결과에서도 빼주기"
   ]
  },
  {
   "cell_type": "code",
   "execution_count": 108,
   "metadata": {},
   "outputs": [],
   "source": [
    "# 불용어 제외 리스트\n",
    "noun_adj_list_stp= []\n",
    "for sentence1 in sentences_tag:\n",
    "    for word, tag in sentence1:\n",
    "        if word not in stpwds_l:\n",
    "            if tag in ['NNG','NNP','VA', 'VV', 'OL']:\n",
    "                noun_adj_list_stp.append(word)"
   ]
  },
  {
   "cell_type": "code",
   "execution_count": 109,
   "metadata": {
    "scrolled": true
   },
   "outputs": [
    {
     "name": "stdout",
     "output_type": "stream",
     "text": [
      "[('LAURENT', 2302), ('브랜드', 532), ('디자이너', 420), ('ANTHONY', 371), ('쇼', 370), ('HEDI', 348), ('DIOR', 343), ('드레스', 340), ('소재', 316), ('스타일', 316), ('모델', 298), ('여성', 288), ('파리', 284), ('팬츠', 269), ('장식', 254), ('GUCCI', 245), ('DESIGN', 244), ('재킷', 234), ('제품', 215), ('하우스', 214), ('컬러', 204), ('옷', 187), ('가죽', 186), ('부츠', 178), ('그룹', 176), ('디렉터', 176), ('CELINE', 164), ('새롭', 162), ('블랙', 154), ('아이템', 154), ('슈트', 153), ('BALENCIAGA', 150), ('프랑스', 144), ('럭셔리', 141), ('CREATIVE', 133), ('COUTURE', 131), ('코트', 130), ('생각', 130), ('데님', 129), ('로고', 128), ('셔츠', 124), ('여름', 122), ('영감', 121), ('슈즈', 119), ('봄', 118), ('좋', 116), ('선글라스', 114), ('세계', 114), ('캠페인', 114), ('실루엣', 113), ('영화', 109), ('새', 108), ('시대', 105), ('어깨', 104), ('전시', 104), ('사랑', 101), ('톱', 99), ('속', 97), ('시절', 97), ('라인', 96), ('광고', 96), ('수트', 96), ('미니', 95), ('패션계', 95), ('뷰티', 94), ('남성복', 94), ('즐기', 93), ('하이', 90), ('스커트', 90), ('이름', 90), ('완성', 90), ('트렌드', 90), ('시크', 90), ('패턴', 89), ('프라다', 88), ('의상', 88), ('자리', 86), ('열리', 86), ('숄더', 85), ('분위기', 85), ('클래식', 84), ('무드', 84), ('파워', 84), ('패션쇼', 84), ('화이트', 82), ('표현', 82), ('완벽', 82), ('작품', 81), ('이미지', 81), ('백', 79), ('다르', 78), ('뉴욕', 78), ('프린트', 77), ('선택', 77), ('위크', 77), ('피', 76), ('스타', 76), ('처음', 76), ('데뷔', 76), ('가을', 75)]\n"
     ]
    }
   ],
   "source": [
    "# 블용어 제외 후 순위\n",
    "counts_stp = Counter(noun_adj_list_stp)\n",
    "print(counts_stp.most_common(100))"
   ]
  },
  {
   "cell_type": "markdown",
   "metadata": {},
   "source": [
    "## WordCloud"
   ]
  },
  {
   "cell_type": "code",
   "execution_count": 110,
   "metadata": {},
   "outputs": [],
   "source": [
    "# https://khann.tistory.com/60"
   ]
  },
  {
   "cell_type": "code",
   "execution_count": 112,
   "metadata": {},
   "outputs": [],
   "source": [
    "from wordcloud import WordCloud\n",
    "import matplotlib.pyplot as plt"
   ]
  },
  {
   "cell_type": "code",
   "execution_count": 113,
   "metadata": {},
   "outputs": [],
   "source": [
    "text = ' '.join(noun_adj_list)\n",
    "# text"
   ]
  },
  {
   "cell_type": "code",
   "execution_count": 114,
   "metadata": {},
   "outputs": [
    {
     "ename": "OSError",
     "evalue": "cannot open resource",
     "output_type": "error",
     "traceback": [
      "\u001b[1;31m---------------------------------------------------------------------------\u001b[0m",
      "\u001b[1;31mOSError\u001b[0m                                   Traceback (most recent call last)",
      "\u001b[1;32m<ipython-input-114-b6c22eaee40a>\u001b[0m in \u001b[0;36m<module>\u001b[1;34m()\u001b[0m\n\u001b[1;32m----> 1\u001b[1;33m \u001b[0mwordcloud\u001b[0m \u001b[1;33m=\u001b[0m \u001b[0mWordCloud\u001b[0m\u001b[1;33m(\u001b[0m\u001b[0mfont_path\u001b[0m\u001b[1;33m=\u001b[0m\u001b[1;34m'font/NanumGothic.ttf'\u001b[0m\u001b[1;33m,\u001b[0m \u001b[0mbackground_color\u001b[0m\u001b[1;33m=\u001b[0m\u001b[1;34m'white'\u001b[0m\u001b[1;33m,\u001b[0m \u001b[0mstopwords\u001b[0m \u001b[1;33m=\u001b[0m \u001b[0mstpwds_l\u001b[0m\u001b[1;33m)\u001b[0m\u001b[1;33m.\u001b[0m\u001b[0mgenerate\u001b[0m\u001b[1;33m(\u001b[0m\u001b[0mtext\u001b[0m\u001b[1;33m)\u001b[0m\u001b[1;33m\u001b[0m\u001b[0m\n\u001b[0m",
      "\u001b[1;32m~\\Anaconda3\\lib\\site-packages\\wordcloud\\wordcloud.py\u001b[0m in \u001b[0;36mgenerate\u001b[1;34m(self, text)\u001b[0m\n\u001b[0;32m    630\u001b[0m         \u001b[0mself\u001b[0m\u001b[1;33m\u001b[0m\u001b[0m\n\u001b[0;32m    631\u001b[0m         \"\"\"\n\u001b[1;32m--> 632\u001b[1;33m         \u001b[1;32mreturn\u001b[0m \u001b[0mself\u001b[0m\u001b[1;33m.\u001b[0m\u001b[0mgenerate_from_text\u001b[0m\u001b[1;33m(\u001b[0m\u001b[0mtext\u001b[0m\u001b[1;33m)\u001b[0m\u001b[1;33m\u001b[0m\u001b[0m\n\u001b[0m\u001b[0;32m    633\u001b[0m \u001b[1;33m\u001b[0m\u001b[0m\n\u001b[0;32m    634\u001b[0m     \u001b[1;32mdef\u001b[0m \u001b[0m_check_generated\u001b[0m\u001b[1;33m(\u001b[0m\u001b[0mself\u001b[0m\u001b[1;33m)\u001b[0m\u001b[1;33m:\u001b[0m\u001b[1;33m\u001b[0m\u001b[0m\n",
      "\u001b[1;32m~\\Anaconda3\\lib\\site-packages\\wordcloud\\wordcloud.py\u001b[0m in \u001b[0;36mgenerate_from_text\u001b[1;34m(self, text)\u001b[0m\n\u001b[0;32m    612\u001b[0m         \"\"\"\n\u001b[0;32m    613\u001b[0m         \u001b[0mwords\u001b[0m \u001b[1;33m=\u001b[0m \u001b[0mself\u001b[0m\u001b[1;33m.\u001b[0m\u001b[0mprocess_text\u001b[0m\u001b[1;33m(\u001b[0m\u001b[0mtext\u001b[0m\u001b[1;33m)\u001b[0m\u001b[1;33m\u001b[0m\u001b[0m\n\u001b[1;32m--> 614\u001b[1;33m         \u001b[0mself\u001b[0m\u001b[1;33m.\u001b[0m\u001b[0mgenerate_from_frequencies\u001b[0m\u001b[1;33m(\u001b[0m\u001b[0mwords\u001b[0m\u001b[1;33m)\u001b[0m\u001b[1;33m\u001b[0m\u001b[0m\n\u001b[0m\u001b[0;32m    615\u001b[0m         \u001b[1;32mreturn\u001b[0m \u001b[0mself\u001b[0m\u001b[1;33m\u001b[0m\u001b[0m\n\u001b[0;32m    616\u001b[0m \u001b[1;33m\u001b[0m\u001b[0m\n",
      "\u001b[1;32m~\\Anaconda3\\lib\\site-packages\\wordcloud\\wordcloud.py\u001b[0m in \u001b[0;36mgenerate_from_frequencies\u001b[1;34m(self, frequencies, max_font_size)\u001b[0m\n\u001b[0;32m    445\u001b[0m             \u001b[1;32melse\u001b[0m\u001b[1;33m:\u001b[0m\u001b[1;33m\u001b[0m\u001b[0m\n\u001b[0;32m    446\u001b[0m                 self.generate_from_frequencies(dict(frequencies[:2]),\n\u001b[1;32m--> 447\u001b[1;33m                                                max_font_size=self.height)\n\u001b[0m\u001b[0;32m    448\u001b[0m                 \u001b[1;31m# find font sizes\u001b[0m\u001b[1;33m\u001b[0m\u001b[1;33m\u001b[0m\u001b[0m\n\u001b[0;32m    449\u001b[0m                 \u001b[0msizes\u001b[0m \u001b[1;33m=\u001b[0m \u001b[1;33m[\u001b[0m\u001b[0mx\u001b[0m\u001b[1;33m[\u001b[0m\u001b[1;36m1\u001b[0m\u001b[1;33m]\u001b[0m \u001b[1;32mfor\u001b[0m \u001b[0mx\u001b[0m \u001b[1;32min\u001b[0m \u001b[0mself\u001b[0m\u001b[1;33m.\u001b[0m\u001b[0mlayout_\u001b[0m\u001b[1;33m]\u001b[0m\u001b[1;33m\u001b[0m\u001b[0m\n",
      "\u001b[1;32m~\\Anaconda3\\lib\\site-packages\\wordcloud\\wordcloud.py\u001b[0m in \u001b[0;36mgenerate_from_frequencies\u001b[1;34m(self, frequencies, max_font_size)\u001b[0m\n\u001b[0;32m    494\u001b[0m             \u001b[1;32mwhile\u001b[0m \u001b[1;32mTrue\u001b[0m\u001b[1;33m:\u001b[0m\u001b[1;33m\u001b[0m\u001b[0m\n\u001b[0;32m    495\u001b[0m                 \u001b[1;31m# try to find a position\u001b[0m\u001b[1;33m\u001b[0m\u001b[1;33m\u001b[0m\u001b[0m\n\u001b[1;32m--> 496\u001b[1;33m                 \u001b[0mfont\u001b[0m \u001b[1;33m=\u001b[0m \u001b[0mImageFont\u001b[0m\u001b[1;33m.\u001b[0m\u001b[0mtruetype\u001b[0m\u001b[1;33m(\u001b[0m\u001b[0mself\u001b[0m\u001b[1;33m.\u001b[0m\u001b[0mfont_path\u001b[0m\u001b[1;33m,\u001b[0m \u001b[0mfont_size\u001b[0m\u001b[1;33m)\u001b[0m\u001b[1;33m\u001b[0m\u001b[0m\n\u001b[0m\u001b[0;32m    497\u001b[0m                 \u001b[1;31m# transpose font optionally\u001b[0m\u001b[1;33m\u001b[0m\u001b[1;33m\u001b[0m\u001b[0m\n\u001b[0;32m    498\u001b[0m                 transposed_font = ImageFont.TransposedFont(\n",
      "\u001b[1;32m~\\Anaconda3\\lib\\site-packages\\PIL\\ImageFont.py\u001b[0m in \u001b[0;36mtruetype\u001b[1;34m(font, size, index, encoding, layout_engine)\u001b[0m\n\u001b[0;32m    834\u001b[0m \u001b[1;33m\u001b[0m\u001b[0m\n\u001b[0;32m    835\u001b[0m     \u001b[1;32mtry\u001b[0m\u001b[1;33m:\u001b[0m\u001b[1;33m\u001b[0m\u001b[0m\n\u001b[1;32m--> 836\u001b[1;33m         \u001b[1;32mreturn\u001b[0m \u001b[0mfreetype\u001b[0m\u001b[1;33m(\u001b[0m\u001b[0mfont\u001b[0m\u001b[1;33m)\u001b[0m\u001b[1;33m\u001b[0m\u001b[0m\n\u001b[0m\u001b[0;32m    837\u001b[0m     \u001b[1;32mexcept\u001b[0m \u001b[0mOSError\u001b[0m\u001b[1;33m:\u001b[0m\u001b[1;33m\u001b[0m\u001b[0m\n\u001b[0;32m    838\u001b[0m         \u001b[1;32mif\u001b[0m \u001b[1;32mnot\u001b[0m \u001b[0misPath\u001b[0m\u001b[1;33m(\u001b[0m\u001b[0mfont\u001b[0m\u001b[1;33m)\u001b[0m\u001b[1;33m:\u001b[0m\u001b[1;33m\u001b[0m\u001b[0m\n",
      "\u001b[1;32m~\\Anaconda3\\lib\\site-packages\\PIL\\ImageFont.py\u001b[0m in \u001b[0;36mfreetype\u001b[1;34m(font)\u001b[0m\n\u001b[0;32m    831\u001b[0m \u001b[1;33m\u001b[0m\u001b[0m\n\u001b[0;32m    832\u001b[0m     \u001b[1;32mdef\u001b[0m \u001b[0mfreetype\u001b[0m\u001b[1;33m(\u001b[0m\u001b[0mfont\u001b[0m\u001b[1;33m)\u001b[0m\u001b[1;33m:\u001b[0m\u001b[1;33m\u001b[0m\u001b[0m\n\u001b[1;32m--> 833\u001b[1;33m         \u001b[1;32mreturn\u001b[0m \u001b[0mFreeTypeFont\u001b[0m\u001b[1;33m(\u001b[0m\u001b[0mfont\u001b[0m\u001b[1;33m,\u001b[0m \u001b[0msize\u001b[0m\u001b[1;33m,\u001b[0m \u001b[0mindex\u001b[0m\u001b[1;33m,\u001b[0m \u001b[0mencoding\u001b[0m\u001b[1;33m,\u001b[0m \u001b[0mlayout_engine\u001b[0m\u001b[1;33m)\u001b[0m\u001b[1;33m\u001b[0m\u001b[0m\n\u001b[0m\u001b[0;32m    834\u001b[0m \u001b[1;33m\u001b[0m\u001b[0m\n\u001b[0;32m    835\u001b[0m     \u001b[1;32mtry\u001b[0m\u001b[1;33m:\u001b[0m\u001b[1;33m\u001b[0m\u001b[0m\n",
      "\u001b[1;32m~\\Anaconda3\\lib\\site-packages\\PIL\\ImageFont.py\u001b[0m in \u001b[0;36m__init__\u001b[1;34m(self, font, size, index, encoding, layout_engine)\u001b[0m\n\u001b[0;32m    192\u001b[0m                     \u001b[1;32mreturn\u001b[0m\u001b[1;33m\u001b[0m\u001b[0m\n\u001b[0;32m    193\u001b[0m             self.font = core.getfont(\n\u001b[1;32m--> 194\u001b[1;33m                 \u001b[0mfont\u001b[0m\u001b[1;33m,\u001b[0m \u001b[0msize\u001b[0m\u001b[1;33m,\u001b[0m \u001b[0mindex\u001b[0m\u001b[1;33m,\u001b[0m \u001b[0mencoding\u001b[0m\u001b[1;33m,\u001b[0m \u001b[0mlayout_engine\u001b[0m\u001b[1;33m=\u001b[0m\u001b[0mlayout_engine\u001b[0m\u001b[1;33m\u001b[0m\u001b[0m\n\u001b[0m\u001b[0;32m    195\u001b[0m             )\n\u001b[0;32m    196\u001b[0m         \u001b[1;32melse\u001b[0m\u001b[1;33m:\u001b[0m\u001b[1;33m\u001b[0m\u001b[0m\n",
      "\u001b[1;31mOSError\u001b[0m: cannot open resource"
     ]
    }
   ],
   "source": [
    "wordcloud = WordCloud(font_path='font/NanumGothic.ttf', background_color='white', stopwords = stpwds_l).generate(text)"
   ]
  },
  {
   "cell_type": "code",
   "execution_count": null,
   "metadata": {
    "scrolled": false
   },
   "outputs": [],
   "source": [
    "plt.figure(figsize=(22,22)) #이미지 사이즈 지정\n",
    "plt.imshow(wordcloud, interpolation='lanczos') #이미지의 부드럽기 정도\n",
    "plt.axis('off') #x y 축 숫자 제거\n",
    "plt.show() \n",
    "# plt.savefig()"
   ]
  },
  {
   "cell_type": "code",
   "execution_count": null,
   "metadata": {},
   "outputs": [],
   "source": [
    "# 블용어 제외 후 순위\n",
    "counts_stp = Counter(noun_adj_list_stp)\n",
    "print(counts_stp.most_common(100))"
   ]
  },
  {
   "cell_type": "markdown",
   "metadata": {},
   "source": [
    "### top100 wordcloud before deleting other brands"
   ]
  },
  {
   "cell_type": "code",
   "execution_count": null,
   "metadata": {},
   "outputs": [],
   "source": [
    "# 블용어 제외 순위 / 워드클라우드\n",
    "counts_stp = Counter(noun_adj_list_stp)\n",
    "top100 = counts_stp.most_common(100)\n",
    "top100_word = []\n",
    "for word, tag in top100 :\n",
    "    top100_word.append(word)"
   ]
  },
  {
   "cell_type": "code",
   "execution_count": null,
   "metadata": {},
   "outputs": [],
   "source": [
    "text_b = ' '.join(top100_word)\n",
    "text_b"
   ]
  },
  {
   "cell_type": "code",
   "execution_count": null,
   "metadata": {},
   "outputs": [],
   "source": [
    "wordcloud100 = WordCloud(font_path='font/NanumGothic.ttf', background_color='white', stopwords = stpwds_l).generate(text_b)\n",
    "plt.figure(figsize=(22,22)) #이미지 사이즈 지정\n",
    "plt.imshow(wordcloud100, interpolation='lanczos') #이미지의 부드럽기 정도\n",
    "plt.axis('off') #x y 축 숫자 제거\n",
    "plt.show() \n",
    "# plt.savefig()"
   ]
  },
  {
   "cell_type": "markdown",
   "metadata": {},
   "source": [
    "### top100 wordcloud after deleting other brands"
   ]
  },
  {
   "cell_type": "code",
   "execution_count": null,
   "metadata": {},
   "outputs": [],
   "source": [
    "stpwds_a = stpwds_l\n",
    "brands = ['프라다', '샤넬', 'GUCCI', 'BALENCIAGA', \n",
    "          'DIOR', 'CELINE']\n",
    "for words in brands :\n",
    "    stpwds_a.append(words)\n",
    "# stpwds_b"
   ]
  },
  {
   "cell_type": "code",
   "execution_count": null,
   "metadata": {},
   "outputs": [],
   "source": [
    "# 불용어 제외 리스트\n",
    "noun_adj_list_stp= []\n",
    "for sentence1 in sentences_tag:\n",
    "    for word, tag in sentence1:\n",
    "        if word not in stpwds_a:\n",
    "            if tag in ['NNG','NNP','VA', 'VV', 'OL', 'UN']:\n",
    "                noun_adj_list_stp.append(word)\n",
    "# noun_adj_list_stp"
   ]
  },
  {
   "cell_type": "code",
   "execution_count": null,
   "metadata": {
    "scrolled": true
   },
   "outputs": [],
   "source": [
    "# 블용어 제외 순위 / 워드클라우드\n",
    "counts_stp = Counter(noun_adj_list_stp)\n",
    "top100 = counts_stp.most_common(100)\n",
    "top100_word = []\n",
    "for word, tag in top100 :\n",
    "    top100_word.append(word)\n",
    "# top100_word"
   ]
  },
  {
   "cell_type": "code",
   "execution_count": null,
   "metadata": {},
   "outputs": [],
   "source": [
    "text_a = ' '.join(top100_word)\n",
    "text_a"
   ]
  },
  {
   "cell_type": "code",
   "execution_count": null,
   "metadata": {
    "scrolled": false
   },
   "outputs": [],
   "source": [
    "wordcloud100 = WordCloud(font_path='font/NanumGothic.ttf', background_color='white', stopwords = stpwds_l).generate(text_a)\n",
    "plt.figure(figsize=(22,22)) #이미지 사이즈 지정\n",
    "plt.imshow(wordcloud100, interpolation='lanczos') #이미지의 부드럽기 정도\n",
    "plt.axis('off') #x y 축 숫자 제거\n",
    "plt.show() \n",
    "# plt.savefig()"
   ]
  },
  {
   "cell_type": "code",
   "execution_count": null,
   "metadata": {},
   "outputs": [],
   "source": []
  },
  {
   "cell_type": "code",
   "execution_count": null,
   "metadata": {},
   "outputs": [],
   "source": []
  },
  {
   "cell_type": "code",
   "execution_count": null,
   "metadata": {},
   "outputs": [],
   "source": []
  },
  {
   "cell_type": "code",
   "execution_count": null,
   "metadata": {
    "scrolled": true
   },
   "outputs": [],
   "source": [
    "top100_word"
   ]
  },
  {
   "cell_type": "code",
   "execution_count": null,
   "metadata": {},
   "outputs": [],
   "source": [
    "len(top100_word)"
   ]
  },
  {
   "cell_type": "code",
   "execution_count": null,
   "metadata": {},
   "outputs": [],
   "source": []
  },
  {
   "cell_type": "code",
   "execution_count": null,
   "metadata": {},
   "outputs": [],
   "source": []
  },
  {
   "cell_type": "code",
   "execution_count": 93,
   "metadata": {},
   "outputs": [],
   "source": [
    "item_l = ['백', '드레스', '재킷', '주얼리', '옷', '슈즈', '스커트', 'JEWERLY', '팬츠', '가방', '슈트', '향수', '의상', '데님', '액세서리', '톱',\n",
    "        '셔츠', '모자', '수트', '스니커즈', '니트', '시계', '워치', '핸드백', '벨트', '선글라스', '목걸이', '티셔츠', '쇼츠', '샌들',\n",
    "        '귀고리', '워치', '코트', '부츠', 'LAURENT']"
   ]
  },
  {
   "cell_type": "markdown",
   "metadata": {},
   "source": [
    "### magazine_sl에 tag 컬럼 생성하기"
   ]
  },
  {
   "cell_type": "code",
   "execution_count": 96,
   "metadata": {},
   "outputs": [
    {
     "data": {
      "text/plain": [
       "1274"
      ]
     },
     "execution_count": 96,
     "metadata": {},
     "output_type": "execute_result"
    }
   ],
   "source": [
    "len(sentences_tag)"
   ]
  },
  {
   "cell_type": "code",
   "execution_count": 95,
   "metadata": {},
   "outputs": [],
   "source": [
    "# print(magazine_sl['word_laurent'][0])\n",
    "# print(sentences_tag[0])"
   ]
  },
  {
   "cell_type": "code",
   "execution_count": 94,
   "metadata": {},
   "outputs": [],
   "source": [
    "# ITEM LIST\n",
    "item = []\n",
    "for sentence1 in sentences_tag:\n",
    "#     print(sentence1)\n",
    "    ADFNT = [] \n",
    "    for word, tag in sentence1:\n",
    "        \n",
    "        if word in item_l:\n",
    "#             print(word)\n",
    "            if tag in ['NNG','NNP','VA', 'VV', 'OL']:\n",
    "                ADFNT.append(word)\n",
    "    item.append(ADFNT)"
   ]
  },
  {
   "cell_type": "code",
   "execution_count": 97,
   "metadata": {},
   "outputs": [
    {
     "data": {
      "text/plain": [
       "1274"
      ]
     },
     "execution_count": 97,
     "metadata": {},
     "output_type": "execute_result"
    }
   ],
   "source": [
    "len(item)"
   ]
  },
  {
   "cell_type": "code",
   "execution_count": 98,
   "metadata": {},
   "outputs": [],
   "source": [
    "# len(sentences_tag)"
   ]
  },
  {
   "cell_type": "code",
   "execution_count": 99,
   "metadata": {},
   "outputs": [],
   "source": [
    "# type(sentences_tag)"
   ]
  },
  {
   "cell_type": "code",
   "execution_count": 100,
   "metadata": {
    "scrolled": true
   },
   "outputs": [],
   "source": [
    "# magazine_sl['sentences_tag'] = sentences_tag\n",
    "# magazine_sl"
   ]
  },
  {
   "cell_type": "code",
   "execution_count": 101,
   "metadata": {
    "scrolled": true
   },
   "outputs": [
    {
     "data": {
      "text/html": [
       "<div>\n",
       "<style scoped>\n",
       "    .dataframe tbody tr th:only-of-type {\n",
       "        vertical-align: middle;\n",
       "    }\n",
       "\n",
       "    .dataframe tbody tr th {\n",
       "        vertical-align: top;\n",
       "    }\n",
       "\n",
       "    .dataframe thead th {\n",
       "        text-align: right;\n",
       "    }\n",
       "</style>\n",
       "<table border=\"1\" class=\"dataframe\">\n",
       "  <thead>\n",
       "    <tr style=\"text-align: right;\">\n",
       "      <th></th>\n",
       "      <th>magazine</th>\n",
       "      <th>brand</th>\n",
       "      <th>category</th>\n",
       "      <th>title</th>\n",
       "      <th>link</th>\n",
       "      <th>date</th>\n",
       "      <th>contents</th>\n",
       "      <th>title_brand</th>\n",
       "      <th>check</th>\n",
       "      <th>word_laurent</th>\n",
       "      <th>sentences_tag</th>\n",
       "      <th>ADFN</th>\n",
       "      <th>item</th>\n",
       "    </tr>\n",
       "  </thead>\n",
       "  <tbody>\n",
       "    <tr>\n",
       "      <th>0</th>\n",
       "      <td>A</td>\n",
       "      <td>YSL</td>\n",
       "      <td>CELEBRITY</td>\n",
       "      <td>깊게 뿌리내리기 위하여, 수영</td>\n",
       "      <td>http://www.allurekorea.com/2020/11/20/%ea%b9%8...</td>\n",
       "      <td>2020-11-20</td>\n",
       "      <td>['누구보다 본인에게 엄격하지만 수용할 줄 아는 너른 마음도 지녔다. 오늘도 부단히...</td>\n",
       "      <td>0</td>\n",
       "      <td>0</td>\n",
       "      <td>['빨간 더블 브레스티드 코트, 타이츠, 라텍스 소재 보디슈트와 사이하이 부츠는 모...</td>\n",
       "      <td>[('[', 'SS'), (\"'\", 'SS'), ('빨갛', 'VA'), ('ㄴ',...</td>\n",
       "      <td>['코트', '소재', '슈트', '하이', '부츠', 'LAURENT', 'ANT...</td>\n",
       "      <td>[코트, 슈트, 부츠, LAURENT, LAURENT]</td>\n",
       "    </tr>\n",
       "    <tr>\n",
       "      <th>1</th>\n",
       "      <td>A</td>\n",
       "      <td>YSL</td>\n",
       "      <td>FASHION</td>\n",
       "      <td>코트 체크</td>\n",
       "      <td>http://www.allurekorea.com/2020/11/10/%ec%bd%9...</td>\n",
       "      <td>2020-10-26</td>\n",
       "      <td>['겨울이 오기 전 기억해야 할 코트의 면면.', '90’S STANDARD', '...</td>\n",
       "      <td>0</td>\n",
       "      <td>0</td>\n",
       "      <td>['클래식한 캐멀 컬러 코트는 1백78만원, 우영미(Wooyoungmi). 버건디 ...</td>\n",
       "      <td>[('[', 'SS'), (\"'\", 'SS'), ('클래식', 'NNG'), ('하...</td>\n",
       "      <td>['클래식', '컬러', '코트', '컬러', '가죽', '셔츠', '스커트', '...</td>\n",
       "      <td>[코트, 셔츠, 스커트, LAURENT, LAURENT, 코트, 재킷, 팬츠, LA...</td>\n",
       "    </tr>\n",
       "    <tr>\n",
       "      <th>2</th>\n",
       "      <td>A</td>\n",
       "      <td>YSL</td>\n",
       "      <td>FASHION</td>\n",
       "      <td>데님이여 영원하라</td>\n",
       "      <td>http://www.allurekorea.com/2020/11/06/%eb%8d%b...</td>\n",
       "      <td>2020-10-26</td>\n",
       "      <td>['데님 팬츠를 선택할 때 가장 중요한 것은 자신의 체형에 맞는 핏을 고르는 것이다...</td>\n",
       "      <td>0</td>\n",
       "      <td>0</td>\n",
       "      <td>['  짙은 그레이 컬러의 데님 팬츠는 95만5천원, 생로랑 바이 안토니 바카렐로(...</td>\n",
       "      <td>[('[', 'SS'), (\"'\", 'SS'), ('짙', 'VV'), ('은', ...</td>\n",
       "      <td>['컬러', '데님', '팬츠', 'LAURENT', 'ANTHONY', 'LAUR...</td>\n",
       "      <td>[데님, 팬츠, LAURENT, LAURENT]</td>\n",
       "    </tr>\n",
       "    <tr>\n",
       "      <th>3</th>\n",
       "      <td>A</td>\n",
       "      <td>YSL</td>\n",
       "      <td>FASHION</td>\n",
       "      <td>안경 하세요?!</td>\n",
       "      <td>http://www.allurekorea.com/2020/10/29/%ec%95%8...</td>\n",
       "      <td>2020-10-23</td>\n",
       "      <td>['모든 게 익고 마는 금빛 가을에는 탐스러운 금테 안경을. 전체 메탈로 장식한 다...</td>\n",
       "      <td>0</td>\n",
       "      <td>0</td>\n",
       "      <td>['  YSL 모노그램을 새긴 블랙 에나멜 안경다리의 둥근 금테 안경은 40만원대,...</td>\n",
       "      <td>[('[', 'SS'), (\"'\", 'SS'), ('YSL', 'OL'), ('모노...</td>\n",
       "      <td>['블랙', 'LAURENT', 'LAURENT']</td>\n",
       "      <td>[LAURENT, LAURENT]</td>\n",
       "    </tr>\n",
       "    <tr>\n",
       "      <th>4</th>\n",
       "      <td>A</td>\n",
       "      <td>YSL</td>\n",
       "      <td>FASHION</td>\n",
       "      <td>가을의 정석, 트렌치 코트 입는 법 8가지</td>\n",
       "      <td>http://www.allurekorea.com/2020/10/11/%ea%b0%8...</td>\n",
       "      <td>2020-09-27</td>\n",
       "      <td>['정직하고 말끔하게, 혹은 자유롭고 분방하게. 변화무쌍한 계절처럼 다양한 모습을 ...</td>\n",
       "      <td>0</td>\n",
       "      <td>0</td>\n",
       "      <td>['컬러블록 트렌치코트는 가격미정, 르쥬(Leje). 컵케이크 프린트 티셔츠는 27...</td>\n",
       "      <td>[('[', 'SS'), (\"'\", 'SS'), ('컬러', 'NNG'), ('블록...</td>\n",
       "      <td>['컬러', '코트', '프린트', '데님', '팬츠', '슈즈', '선글라스', ...</td>\n",
       "      <td>[코트, 티셔츠, 데님, 팬츠, 벨트, 슈즈, 선글라스, LAURENT, LAURE...</td>\n",
       "    </tr>\n",
       "    <tr>\n",
       "      <th>...</th>\n",
       "      <td>...</td>\n",
       "      <td>...</td>\n",
       "      <td>...</td>\n",
       "      <td>...</td>\n",
       "      <td>...</td>\n",
       "      <td>...</td>\n",
       "      <td>...</td>\n",
       "      <td>...</td>\n",
       "      <td>...</td>\n",
       "      <td>...</td>\n",
       "      <td>...</td>\n",
       "      <td>...</td>\n",
       "      <td>...</td>\n",
       "    </tr>\n",
       "    <tr>\n",
       "      <th>1269</th>\n",
       "      <td>W</td>\n",
       "      <td>YSL</td>\n",
       "      <td>FASHION, 트렌드</td>\n",
       "      <td>어깨로말해요</td>\n",
       "      <td>http://www.wkorea.com/2016/09/05/%ec%96%b4%ea%...</td>\n",
       "      <td>2016-09-05</td>\n",
       "      <td>'어깨 좀 쓴다 하는 여인들이 모두 모였다. 이 현상은 특히 젊은 디자이너들의 의상...</td>\n",
       "      <td>0</td>\n",
       "      <td>0</td>\n",
       "      <td>[\"'어깨 좀 쓴다 하는 여인들이 모두 모였다. 이 현상은 특히 젊은 디자이너들의 ...</td>\n",
       "      <td>[('[', 'SS'), ('\"', 'SS'), (\"'\", 'SS'), ('어깨',...</td>\n",
       "      <td>['어깨', '디자이너', '의상', '어깨', '어깨', 'DESIGN', '데뷔...</td>\n",
       "      <td>[의상, LAURENT]</td>\n",
       "    </tr>\n",
       "    <tr>\n",
       "      <th>1270</th>\n",
       "      <td>W</td>\n",
       "      <td>YSL</td>\n",
       "      <td>FASHION, 뉴스</td>\n",
       "      <td>W해시태그</td>\n",
       "      <td>http://www.wkorea.com/2016/09/02/w%ed%95%b4%ec...</td>\n",
       "      <td>2016-09-02</td>\n",
       "      <td>'패션&amp;뷰티 아이템, 핫 스폿, 영화, 전시 등 더블유 에디터의 날카롭고 감각적인 ...</td>\n",
       "      <td>0</td>\n",
       "      <td>0</td>\n",
       "      <td>['#W뷰티콕  (뷰티 디렉터 송시은)\\\\n조회 2,023회\\\\n너무나 뜨거운 여름...</td>\n",
       "      <td>[('[', 'SS'), (\"'\", 'SS'), ('#', 'SW'), ('W', ...</td>\n",
       "      <td>['뷰티', '뷰티', '디렉터', '여름', '뷰티', '브랜드', '가을', '...</td>\n",
       "      <td>[LAURENT, 코트, LAURENT]</td>\n",
       "    </tr>\n",
       "    <tr>\n",
       "      <th>1271</th>\n",
       "      <td>W</td>\n",
       "      <td>YSL</td>\n",
       "      <td>FASHION, 화보</td>\n",
       "      <td>따로 또 같이</td>\n",
       "      <td>http://www.wkorea.com/2016/09/02/%eb%94%b0%eb%...</td>\n",
       "      <td>2016-09-02</td>\n",
       "      <td>'새로운 시즌을 맞아 더 모호하고 더 자유로운 방식으로 진화하고 있는 젠더 블렌딩 ...</td>\n",
       "      <td>0</td>\n",
       "      <td>0</td>\n",
       "      <td>['중성적인 스타일링을 위해선 실루엣을 활용하는 방법에 주목해야 한다. 생로랑 남성...</td>\n",
       "      <td>[('[', 'SS'), (\"'\", 'SS'), ('중', 'NNG'), ('성적'...</td>\n",
       "      <td>['실루엣', 'LAURENT', '어깨', '모델', '스타일', '실루엣', '...</td>\n",
       "      <td>[LAURENT, 톱]</td>\n",
       "    </tr>\n",
       "    <tr>\n",
       "      <th>1272</th>\n",
       "      <td>W</td>\n",
       "      <td>YSL</td>\n",
       "      <td>FASHION, 트렌드</td>\n",
       "      <td>두려움 없는 반란</td>\n",
       "      <td>http://www.wkorea.com/2016/09/01/%eb%91%90%eb%...</td>\n",
       "      <td>2016-09-01</td>\n",
       "      <td>'오늘날 패션엔 경계가 사라졌다. 패션계에 하이와 로 패션의 캐주얼한 조우가 무르익...</td>\n",
       "      <td>0</td>\n",
       "      <td>0</td>\n",
       "      <td>['이러한 맥락은 오늘날 브랜드의 모델 캐스팅에도 그대로 적용된다. 일례로 유명한 ...</td>\n",
       "      <td>[('[', 'SS'), (\"'\", 'SS'), ('이러', 'XR'), ('하',...</td>\n",
       "      <td>['브랜드', '모델', '모델', '전시', '디렉터', '모델', '모델', '...</td>\n",
       "      <td>[LAURENT]</td>\n",
       "    </tr>\n",
       "    <tr>\n",
       "      <th>1273</th>\n",
       "      <td>W</td>\n",
       "      <td>YSL</td>\n",
       "      <td>FASHION, 트렌드</td>\n",
       "      <td>너도 나도 베트멍</td>\n",
       "      <td>http://www.wkorea.com/2016/09/01/%eb%84%88%eb%...</td>\n",
       "      <td>2016-09-01</td>\n",
       "      <td>'패션계에서 노바운더리 시대의 전후를 가르는 존재가 된 베트멍. 그 대표 아이템은 ...</td>\n",
       "      <td>0</td>\n",
       "      <td>0</td>\n",
       "      <td>['셀린 디옹\\\\n나이 만48세\\\\n직업 세계적인 디바\\\\n평소 스타일 얼마 전까진...</td>\n",
       "      <td>[('[', 'SS'), (\"'\", 'SS'), ('세', 'VA'), ('ㄹ', ...</td>\n",
       "      <td>['스타일', '클래식', '화이트', 'LAURENT', '속', '패션계', '...</td>\n",
       "      <td>[LAURENT, 샌들, 핸드백]</td>\n",
       "    </tr>\n",
       "  </tbody>\n",
       "</table>\n",
       "<p>1274 rows × 13 columns</p>\n",
       "</div>"
      ],
      "text/plain": [
       "     magazine brand      category                    title  \\\n",
       "0           A   YSL     CELEBRITY         깊게 뿌리내리기 위하여, 수영   \n",
       "1           A   YSL       FASHION                    코트 체크   \n",
       "2           A   YSL       FASHION                데님이여 영원하라   \n",
       "3           A   YSL       FASHION                 안경 하세요?!   \n",
       "4           A   YSL       FASHION  가을의 정석, 트렌치 코트 입는 법 8가지   \n",
       "...       ...   ...           ...                      ...   \n",
       "1269        W   YSL  FASHION, 트렌드                   어깨로말해요   \n",
       "1270        W   YSL   FASHION, 뉴스                    W해시태그   \n",
       "1271        W   YSL   FASHION, 화보                  따로 또 같이   \n",
       "1272        W   YSL  FASHION, 트렌드                두려움 없는 반란   \n",
       "1273        W   YSL  FASHION, 트렌드                너도 나도 베트멍   \n",
       "\n",
       "                                                   link        date  \\\n",
       "0     http://www.allurekorea.com/2020/11/20/%ea%b9%8...  2020-11-20   \n",
       "1     http://www.allurekorea.com/2020/11/10/%ec%bd%9...  2020-10-26   \n",
       "2     http://www.allurekorea.com/2020/11/06/%eb%8d%b...  2020-10-26   \n",
       "3     http://www.allurekorea.com/2020/10/29/%ec%95%8...  2020-10-23   \n",
       "4     http://www.allurekorea.com/2020/10/11/%ea%b0%8...  2020-09-27   \n",
       "...                                                 ...         ...   \n",
       "1269  http://www.wkorea.com/2016/09/05/%ec%96%b4%ea%...  2016-09-05   \n",
       "1270  http://www.wkorea.com/2016/09/02/w%ed%95%b4%ec...  2016-09-02   \n",
       "1271  http://www.wkorea.com/2016/09/02/%eb%94%b0%eb%...  2016-09-02   \n",
       "1272  http://www.wkorea.com/2016/09/01/%eb%91%90%eb%...  2016-09-01   \n",
       "1273  http://www.wkorea.com/2016/09/01/%eb%84%88%eb%...  2016-09-01   \n",
       "\n",
       "                                               contents  title_brand  check  \\\n",
       "0     ['누구보다 본인에게 엄격하지만 수용할 줄 아는 너른 마음도 지녔다. 오늘도 부단히...            0      0   \n",
       "1     ['겨울이 오기 전 기억해야 할 코트의 면면.', '90’S STANDARD', '...            0      0   \n",
       "2     ['데님 팬츠를 선택할 때 가장 중요한 것은 자신의 체형에 맞는 핏을 고르는 것이다...            0      0   \n",
       "3     ['모든 게 익고 마는 금빛 가을에는 탐스러운 금테 안경을. 전체 메탈로 장식한 다...            0      0   \n",
       "4     ['정직하고 말끔하게, 혹은 자유롭고 분방하게. 변화무쌍한 계절처럼 다양한 모습을 ...            0      0   \n",
       "...                                                 ...          ...    ...   \n",
       "1269  '어깨 좀 쓴다 하는 여인들이 모두 모였다. 이 현상은 특히 젊은 디자이너들의 의상...            0      0   \n",
       "1270  '패션&뷰티 아이템, 핫 스폿, 영화, 전시 등 더블유 에디터의 날카롭고 감각적인 ...            0      0   \n",
       "1271  '새로운 시즌을 맞아 더 모호하고 더 자유로운 방식으로 진화하고 있는 젠더 블렌딩 ...            0      0   \n",
       "1272  '오늘날 패션엔 경계가 사라졌다. 패션계에 하이와 로 패션의 캐주얼한 조우가 무르익...            0      0   \n",
       "1273  '패션계에서 노바운더리 시대의 전후를 가르는 존재가 된 베트멍. 그 대표 아이템은 ...            0      0   \n",
       "\n",
       "                                           word_laurent  \\\n",
       "0     ['빨간 더블 브레스티드 코트, 타이츠, 라텍스 소재 보디슈트와 사이하이 부츠는 모...   \n",
       "1     ['클래식한 캐멀 컬러 코트는 1백78만원, 우영미(Wooyoungmi). 버건디 ...   \n",
       "2     ['  짙은 그레이 컬러의 데님 팬츠는 95만5천원, 생로랑 바이 안토니 바카렐로(...   \n",
       "3     ['  YSL 모노그램을 새긴 블랙 에나멜 안경다리의 둥근 금테 안경은 40만원대,...   \n",
       "4     ['컬러블록 트렌치코트는 가격미정, 르쥬(Leje). 컵케이크 프린트 티셔츠는 27...   \n",
       "...                                                 ...   \n",
       "1269  [\"'어깨 좀 쓴다 하는 여인들이 모두 모였다. 이 현상은 특히 젊은 디자이너들의 ...   \n",
       "1270  ['#W뷰티콕  (뷰티 디렉터 송시은)\\\\n조회 2,023회\\\\n너무나 뜨거운 여름...   \n",
       "1271  ['중성적인 스타일링을 위해선 실루엣을 활용하는 방법에 주목해야 한다. 생로랑 남성...   \n",
       "1272  ['이러한 맥락은 오늘날 브랜드의 모델 캐스팅에도 그대로 적용된다. 일례로 유명한 ...   \n",
       "1273  ['셀린 디옹\\\\n나이 만48세\\\\n직업 세계적인 디바\\\\n평소 스타일 얼마 전까진...   \n",
       "\n",
       "                                          sentences_tag  \\\n",
       "0     [('[', 'SS'), (\"'\", 'SS'), ('빨갛', 'VA'), ('ㄴ',...   \n",
       "1     [('[', 'SS'), (\"'\", 'SS'), ('클래식', 'NNG'), ('하...   \n",
       "2     [('[', 'SS'), (\"'\", 'SS'), ('짙', 'VV'), ('은', ...   \n",
       "3     [('[', 'SS'), (\"'\", 'SS'), ('YSL', 'OL'), ('모노...   \n",
       "4     [('[', 'SS'), (\"'\", 'SS'), ('컬러', 'NNG'), ('블록...   \n",
       "...                                                 ...   \n",
       "1269  [('[', 'SS'), ('\"', 'SS'), (\"'\", 'SS'), ('어깨',...   \n",
       "1270  [('[', 'SS'), (\"'\", 'SS'), ('#', 'SW'), ('W', ...   \n",
       "1271  [('[', 'SS'), (\"'\", 'SS'), ('중', 'NNG'), ('성적'...   \n",
       "1272  [('[', 'SS'), (\"'\", 'SS'), ('이러', 'XR'), ('하',...   \n",
       "1273  [('[', 'SS'), (\"'\", 'SS'), ('세', 'VA'), ('ㄹ', ...   \n",
       "\n",
       "                                                   ADFN  \\\n",
       "0     ['코트', '소재', '슈트', '하이', '부츠', 'LAURENT', 'ANT...   \n",
       "1     ['클래식', '컬러', '코트', '컬러', '가죽', '셔츠', '스커트', '...   \n",
       "2     ['컬러', '데님', '팬츠', 'LAURENT', 'ANTHONY', 'LAUR...   \n",
       "3                          ['블랙', 'LAURENT', 'LAURENT']   \n",
       "4     ['컬러', '코트', '프린트', '데님', '팬츠', '슈즈', '선글라스', ...   \n",
       "...                                                 ...   \n",
       "1269  ['어깨', '디자이너', '의상', '어깨', '어깨', 'DESIGN', '데뷔...   \n",
       "1270  ['뷰티', '뷰티', '디렉터', '여름', '뷰티', '브랜드', '가을', '...   \n",
       "1271  ['실루엣', 'LAURENT', '어깨', '모델', '스타일', '실루엣', '...   \n",
       "1272  ['브랜드', '모델', '모델', '전시', '디렉터', '모델', '모델', '...   \n",
       "1273  ['스타일', '클래식', '화이트', 'LAURENT', '속', '패션계', '...   \n",
       "\n",
       "                                                   item  \n",
       "0                        [코트, 슈트, 부츠, LAURENT, LAURENT]  \n",
       "1     [코트, 셔츠, 스커트, LAURENT, LAURENT, 코트, 재킷, 팬츠, LA...  \n",
       "2                            [데님, 팬츠, LAURENT, LAURENT]  \n",
       "3                                    [LAURENT, LAURENT]  \n",
       "4     [코트, 티셔츠, 데님, 팬츠, 벨트, 슈즈, 선글라스, LAURENT, LAURE...  \n",
       "...                                                 ...  \n",
       "1269                                      [의상, LAURENT]  \n",
       "1270                             [LAURENT, 코트, LAURENT]  \n",
       "1271                                       [LAURENT, 톱]  \n",
       "1272                                          [LAURENT]  \n",
       "1273                                 [LAURENT, 샌들, 핸드백]  \n",
       "\n",
       "[1274 rows x 13 columns]"
      ]
     },
     "execution_count": 101,
     "metadata": {},
     "output_type": "execute_result"
    }
   ],
   "source": [
    "magazine_sl['item'] = item\n",
    "magazine_sl"
   ]
  },
  {
   "cell_type": "code",
   "execution_count": 102,
   "metadata": {},
   "outputs": [],
   "source": [
    "magazine_sl.to_csv('./data/SL/magazine_sl.csv', index = False, sep ='|', encoding = 'utf-8')"
   ]
  },
  {
   "cell_type": "code",
   "execution_count": 103,
   "metadata": {},
   "outputs": [],
   "source": [
    "magazine_sl = pd.read_csv('./data/SL/magazine_sl.csv' , sep='|', encoding='utf-8')"
   ]
  },
  {
   "cell_type": "code",
   "execution_count": 104,
   "metadata": {},
   "outputs": [
    {
     "data": {
      "text/html": [
       "<div>\n",
       "<style scoped>\n",
       "    .dataframe tbody tr th:only-of-type {\n",
       "        vertical-align: middle;\n",
       "    }\n",
       "\n",
       "    .dataframe tbody tr th {\n",
       "        vertical-align: top;\n",
       "    }\n",
       "\n",
       "    .dataframe thead th {\n",
       "        text-align: right;\n",
       "    }\n",
       "</style>\n",
       "<table border=\"1\" class=\"dataframe\">\n",
       "  <thead>\n",
       "    <tr style=\"text-align: right;\">\n",
       "      <th></th>\n",
       "      <th>magazine</th>\n",
       "      <th>brand</th>\n",
       "      <th>category</th>\n",
       "      <th>title</th>\n",
       "      <th>link</th>\n",
       "      <th>date</th>\n",
       "      <th>contents</th>\n",
       "      <th>title_brand</th>\n",
       "      <th>check</th>\n",
       "      <th>word_laurent</th>\n",
       "      <th>sentences_tag</th>\n",
       "      <th>ADFN</th>\n",
       "      <th>item</th>\n",
       "    </tr>\n",
       "  </thead>\n",
       "  <tbody>\n",
       "    <tr>\n",
       "      <th>0</th>\n",
       "      <td>A</td>\n",
       "      <td>YSL</td>\n",
       "      <td>CELEBRITY</td>\n",
       "      <td>깊게 뿌리내리기 위하여, 수영</td>\n",
       "      <td>http://www.allurekorea.com/2020/11/20/%ea%b9%8...</td>\n",
       "      <td>2020-11-20</td>\n",
       "      <td>['누구보다 본인에게 엄격하지만 수용할 줄 아는 너른 마음도 지녔다. 오늘도 부단히...</td>\n",
       "      <td>0</td>\n",
       "      <td>0</td>\n",
       "      <td>['빨간 더블 브레스티드 코트, 타이츠, 라텍스 소재 보디슈트와 사이하이 부츠는 모...</td>\n",
       "      <td>[('[', 'SS'), (\"'\", 'SS'), ('빨갛', 'VA'), ('ㄴ',...</td>\n",
       "      <td>['코트', '소재', '슈트', '하이', '부츠', 'LAURENT', 'ANT...</td>\n",
       "      <td>['코트', '슈트', '부츠', 'LAURENT', 'LAURENT']</td>\n",
       "    </tr>\n",
       "    <tr>\n",
       "      <th>1</th>\n",
       "      <td>A</td>\n",
       "      <td>YSL</td>\n",
       "      <td>FASHION</td>\n",
       "      <td>코트 체크</td>\n",
       "      <td>http://www.allurekorea.com/2020/11/10/%ec%bd%9...</td>\n",
       "      <td>2020-10-26</td>\n",
       "      <td>['겨울이 오기 전 기억해야 할 코트의 면면.', '90’S STANDARD', '...</td>\n",
       "      <td>0</td>\n",
       "      <td>0</td>\n",
       "      <td>['클래식한 캐멀 컬러 코트는 1백78만원, 우영미(Wooyoungmi). 버건디 ...</td>\n",
       "      <td>[('[', 'SS'), (\"'\", 'SS'), ('클래식', 'NNG'), ('하...</td>\n",
       "      <td>['클래식', '컬러', '코트', '컬러', '가죽', '셔츠', '스커트', '...</td>\n",
       "      <td>['코트', '셔츠', '스커트', 'LAURENT', 'LAURENT', '코트'...</td>\n",
       "    </tr>\n",
       "    <tr>\n",
       "      <th>2</th>\n",
       "      <td>A</td>\n",
       "      <td>YSL</td>\n",
       "      <td>FASHION</td>\n",
       "      <td>데님이여 영원하라</td>\n",
       "      <td>http://www.allurekorea.com/2020/11/06/%eb%8d%b...</td>\n",
       "      <td>2020-10-26</td>\n",
       "      <td>['데님 팬츠를 선택할 때 가장 중요한 것은 자신의 체형에 맞는 핏을 고르는 것이다...</td>\n",
       "      <td>0</td>\n",
       "      <td>0</td>\n",
       "      <td>['  짙은 그레이 컬러의 데님 팬츠는 95만5천원, 생로랑 바이 안토니 바카렐로(...</td>\n",
       "      <td>[('[', 'SS'), (\"'\", 'SS'), ('짙', 'VV'), ('은', ...</td>\n",
       "      <td>['컬러', '데님', '팬츠', 'LAURENT', 'ANTHONY', 'LAUR...</td>\n",
       "      <td>['데님', '팬츠', 'LAURENT', 'LAURENT']</td>\n",
       "    </tr>\n",
       "    <tr>\n",
       "      <th>3</th>\n",
       "      <td>A</td>\n",
       "      <td>YSL</td>\n",
       "      <td>FASHION</td>\n",
       "      <td>안경 하세요?!</td>\n",
       "      <td>http://www.allurekorea.com/2020/10/29/%ec%95%8...</td>\n",
       "      <td>2020-10-23</td>\n",
       "      <td>['모든 게 익고 마는 금빛 가을에는 탐스러운 금테 안경을. 전체 메탈로 장식한 다...</td>\n",
       "      <td>0</td>\n",
       "      <td>0</td>\n",
       "      <td>['  YSL 모노그램을 새긴 블랙 에나멜 안경다리의 둥근 금테 안경은 40만원대,...</td>\n",
       "      <td>[('[', 'SS'), (\"'\", 'SS'), ('YSL', 'OL'), ('모노...</td>\n",
       "      <td>['블랙', 'LAURENT', 'LAURENT']</td>\n",
       "      <td>['LAURENT', 'LAURENT']</td>\n",
       "    </tr>\n",
       "    <tr>\n",
       "      <th>4</th>\n",
       "      <td>A</td>\n",
       "      <td>YSL</td>\n",
       "      <td>FASHION</td>\n",
       "      <td>가을의 정석, 트렌치 코트 입는 법 8가지</td>\n",
       "      <td>http://www.allurekorea.com/2020/10/11/%ea%b0%8...</td>\n",
       "      <td>2020-09-27</td>\n",
       "      <td>['정직하고 말끔하게, 혹은 자유롭고 분방하게. 변화무쌍한 계절처럼 다양한 모습을 ...</td>\n",
       "      <td>0</td>\n",
       "      <td>0</td>\n",
       "      <td>['컬러블록 트렌치코트는 가격미정, 르쥬(Leje). 컵케이크 프린트 티셔츠는 27...</td>\n",
       "      <td>[('[', 'SS'), (\"'\", 'SS'), ('컬러', 'NNG'), ('블록...</td>\n",
       "      <td>['컬러', '코트', '프린트', '데님', '팬츠', '슈즈', '선글라스', ...</td>\n",
       "      <td>['코트', '티셔츠', '데님', '팬츠', '벨트', '슈즈', '선글라스', ...</td>\n",
       "    </tr>\n",
       "    <tr>\n",
       "      <th>...</th>\n",
       "      <td>...</td>\n",
       "      <td>...</td>\n",
       "      <td>...</td>\n",
       "      <td>...</td>\n",
       "      <td>...</td>\n",
       "      <td>...</td>\n",
       "      <td>...</td>\n",
       "      <td>...</td>\n",
       "      <td>...</td>\n",
       "      <td>...</td>\n",
       "      <td>...</td>\n",
       "      <td>...</td>\n",
       "      <td>...</td>\n",
       "    </tr>\n",
       "    <tr>\n",
       "      <th>1269</th>\n",
       "      <td>W</td>\n",
       "      <td>YSL</td>\n",
       "      <td>FASHION, 트렌드</td>\n",
       "      <td>어깨로말해요</td>\n",
       "      <td>http://www.wkorea.com/2016/09/05/%ec%96%b4%ea%...</td>\n",
       "      <td>2016-09-05</td>\n",
       "      <td>'어깨 좀 쓴다 하는 여인들이 모두 모였다. 이 현상은 특히 젊은 디자이너들의 의상...</td>\n",
       "      <td>0</td>\n",
       "      <td>0</td>\n",
       "      <td>[\"'어깨 좀 쓴다 하는 여인들이 모두 모였다. 이 현상은 특히 젊은 디자이너들의 ...</td>\n",
       "      <td>[('[', 'SS'), ('\"', 'SS'), (\"'\", 'SS'), ('어깨',...</td>\n",
       "      <td>['어깨', '디자이너', '의상', '어깨', '어깨', 'DESIGN', '데뷔...</td>\n",
       "      <td>['의상', 'LAURENT']</td>\n",
       "    </tr>\n",
       "    <tr>\n",
       "      <th>1270</th>\n",
       "      <td>W</td>\n",
       "      <td>YSL</td>\n",
       "      <td>FASHION, 뉴스</td>\n",
       "      <td>W해시태그</td>\n",
       "      <td>http://www.wkorea.com/2016/09/02/w%ed%95%b4%ec...</td>\n",
       "      <td>2016-09-02</td>\n",
       "      <td>'패션&amp;뷰티 아이템, 핫 스폿, 영화, 전시 등 더블유 에디터의 날카롭고 감각적인 ...</td>\n",
       "      <td>0</td>\n",
       "      <td>0</td>\n",
       "      <td>['#W뷰티콕  (뷰티 디렉터 송시은)\\\\n조회 2,023회\\\\n너무나 뜨거운 여름...</td>\n",
       "      <td>[('[', 'SS'), (\"'\", 'SS'), ('#', 'SW'), ('W', ...</td>\n",
       "      <td>['뷰티', '뷰티', '디렉터', '여름', '뷰티', '브랜드', '가을', '...</td>\n",
       "      <td>['LAURENT', '코트', 'LAURENT']</td>\n",
       "    </tr>\n",
       "    <tr>\n",
       "      <th>1271</th>\n",
       "      <td>W</td>\n",
       "      <td>YSL</td>\n",
       "      <td>FASHION, 화보</td>\n",
       "      <td>따로 또 같이</td>\n",
       "      <td>http://www.wkorea.com/2016/09/02/%eb%94%b0%eb%...</td>\n",
       "      <td>2016-09-02</td>\n",
       "      <td>'새로운 시즌을 맞아 더 모호하고 더 자유로운 방식으로 진화하고 있는 젠더 블렌딩 ...</td>\n",
       "      <td>0</td>\n",
       "      <td>0</td>\n",
       "      <td>['중성적인 스타일링을 위해선 실루엣을 활용하는 방법에 주목해야 한다. 생로랑 남성...</td>\n",
       "      <td>[('[', 'SS'), (\"'\", 'SS'), ('중', 'NNG'), ('성적'...</td>\n",
       "      <td>['실루엣', 'LAURENT', '어깨', '모델', '스타일', '실루엣', '...</td>\n",
       "      <td>['LAURENT', '톱']</td>\n",
       "    </tr>\n",
       "    <tr>\n",
       "      <th>1272</th>\n",
       "      <td>W</td>\n",
       "      <td>YSL</td>\n",
       "      <td>FASHION, 트렌드</td>\n",
       "      <td>두려움 없는 반란</td>\n",
       "      <td>http://www.wkorea.com/2016/09/01/%eb%91%90%eb%...</td>\n",
       "      <td>2016-09-01</td>\n",
       "      <td>'오늘날 패션엔 경계가 사라졌다. 패션계에 하이와 로 패션의 캐주얼한 조우가 무르익...</td>\n",
       "      <td>0</td>\n",
       "      <td>0</td>\n",
       "      <td>['이러한 맥락은 오늘날 브랜드의 모델 캐스팅에도 그대로 적용된다. 일례로 유명한 ...</td>\n",
       "      <td>[('[', 'SS'), (\"'\", 'SS'), ('이러', 'XR'), ('하',...</td>\n",
       "      <td>['브랜드', '모델', '모델', '전시', '디렉터', '모델', '모델', '...</td>\n",
       "      <td>['LAURENT']</td>\n",
       "    </tr>\n",
       "    <tr>\n",
       "      <th>1273</th>\n",
       "      <td>W</td>\n",
       "      <td>YSL</td>\n",
       "      <td>FASHION, 트렌드</td>\n",
       "      <td>너도 나도 베트멍</td>\n",
       "      <td>http://www.wkorea.com/2016/09/01/%eb%84%88%eb%...</td>\n",
       "      <td>2016-09-01</td>\n",
       "      <td>'패션계에서 노바운더리 시대의 전후를 가르는 존재가 된 베트멍. 그 대표 아이템은 ...</td>\n",
       "      <td>0</td>\n",
       "      <td>0</td>\n",
       "      <td>['셀린 디옹\\\\n나이 만48세\\\\n직업 세계적인 디바\\\\n평소 스타일 얼마 전까진...</td>\n",
       "      <td>[('[', 'SS'), (\"'\", 'SS'), ('세', 'VA'), ('ㄹ', ...</td>\n",
       "      <td>['스타일', '클래식', '화이트', 'LAURENT', '속', '패션계', '...</td>\n",
       "      <td>['LAURENT', '샌들', '핸드백']</td>\n",
       "    </tr>\n",
       "  </tbody>\n",
       "</table>\n",
       "<p>1274 rows × 13 columns</p>\n",
       "</div>"
      ],
      "text/plain": [
       "     magazine brand      category                    title  \\\n",
       "0           A   YSL     CELEBRITY         깊게 뿌리내리기 위하여, 수영   \n",
       "1           A   YSL       FASHION                    코트 체크   \n",
       "2           A   YSL       FASHION                데님이여 영원하라   \n",
       "3           A   YSL       FASHION                 안경 하세요?!   \n",
       "4           A   YSL       FASHION  가을의 정석, 트렌치 코트 입는 법 8가지   \n",
       "...       ...   ...           ...                      ...   \n",
       "1269        W   YSL  FASHION, 트렌드                   어깨로말해요   \n",
       "1270        W   YSL   FASHION, 뉴스                    W해시태그   \n",
       "1271        W   YSL   FASHION, 화보                  따로 또 같이   \n",
       "1272        W   YSL  FASHION, 트렌드                두려움 없는 반란   \n",
       "1273        W   YSL  FASHION, 트렌드                너도 나도 베트멍   \n",
       "\n",
       "                                                   link        date  \\\n",
       "0     http://www.allurekorea.com/2020/11/20/%ea%b9%8...  2020-11-20   \n",
       "1     http://www.allurekorea.com/2020/11/10/%ec%bd%9...  2020-10-26   \n",
       "2     http://www.allurekorea.com/2020/11/06/%eb%8d%b...  2020-10-26   \n",
       "3     http://www.allurekorea.com/2020/10/29/%ec%95%8...  2020-10-23   \n",
       "4     http://www.allurekorea.com/2020/10/11/%ea%b0%8...  2020-09-27   \n",
       "...                                                 ...         ...   \n",
       "1269  http://www.wkorea.com/2016/09/05/%ec%96%b4%ea%...  2016-09-05   \n",
       "1270  http://www.wkorea.com/2016/09/02/w%ed%95%b4%ec...  2016-09-02   \n",
       "1271  http://www.wkorea.com/2016/09/02/%eb%94%b0%eb%...  2016-09-02   \n",
       "1272  http://www.wkorea.com/2016/09/01/%eb%91%90%eb%...  2016-09-01   \n",
       "1273  http://www.wkorea.com/2016/09/01/%eb%84%88%eb%...  2016-09-01   \n",
       "\n",
       "                                               contents  title_brand  check  \\\n",
       "0     ['누구보다 본인에게 엄격하지만 수용할 줄 아는 너른 마음도 지녔다. 오늘도 부단히...            0      0   \n",
       "1     ['겨울이 오기 전 기억해야 할 코트의 면면.', '90’S STANDARD', '...            0      0   \n",
       "2     ['데님 팬츠를 선택할 때 가장 중요한 것은 자신의 체형에 맞는 핏을 고르는 것이다...            0      0   \n",
       "3     ['모든 게 익고 마는 금빛 가을에는 탐스러운 금테 안경을. 전체 메탈로 장식한 다...            0      0   \n",
       "4     ['정직하고 말끔하게, 혹은 자유롭고 분방하게. 변화무쌍한 계절처럼 다양한 모습을 ...            0      0   \n",
       "...                                                 ...          ...    ...   \n",
       "1269  '어깨 좀 쓴다 하는 여인들이 모두 모였다. 이 현상은 특히 젊은 디자이너들의 의상...            0      0   \n",
       "1270  '패션&뷰티 아이템, 핫 스폿, 영화, 전시 등 더블유 에디터의 날카롭고 감각적인 ...            0      0   \n",
       "1271  '새로운 시즌을 맞아 더 모호하고 더 자유로운 방식으로 진화하고 있는 젠더 블렌딩 ...            0      0   \n",
       "1272  '오늘날 패션엔 경계가 사라졌다. 패션계에 하이와 로 패션의 캐주얼한 조우가 무르익...            0      0   \n",
       "1273  '패션계에서 노바운더리 시대의 전후를 가르는 존재가 된 베트멍. 그 대표 아이템은 ...            0      0   \n",
       "\n",
       "                                           word_laurent  \\\n",
       "0     ['빨간 더블 브레스티드 코트, 타이츠, 라텍스 소재 보디슈트와 사이하이 부츠는 모...   \n",
       "1     ['클래식한 캐멀 컬러 코트는 1백78만원, 우영미(Wooyoungmi). 버건디 ...   \n",
       "2     ['  짙은 그레이 컬러의 데님 팬츠는 95만5천원, 생로랑 바이 안토니 바카렐로(...   \n",
       "3     ['  YSL 모노그램을 새긴 블랙 에나멜 안경다리의 둥근 금테 안경은 40만원대,...   \n",
       "4     ['컬러블록 트렌치코트는 가격미정, 르쥬(Leje). 컵케이크 프린트 티셔츠는 27...   \n",
       "...                                                 ...   \n",
       "1269  [\"'어깨 좀 쓴다 하는 여인들이 모두 모였다. 이 현상은 특히 젊은 디자이너들의 ...   \n",
       "1270  ['#W뷰티콕  (뷰티 디렉터 송시은)\\\\n조회 2,023회\\\\n너무나 뜨거운 여름...   \n",
       "1271  ['중성적인 스타일링을 위해선 실루엣을 활용하는 방법에 주목해야 한다. 생로랑 남성...   \n",
       "1272  ['이러한 맥락은 오늘날 브랜드의 모델 캐스팅에도 그대로 적용된다. 일례로 유명한 ...   \n",
       "1273  ['셀린 디옹\\\\n나이 만48세\\\\n직업 세계적인 디바\\\\n평소 스타일 얼마 전까진...   \n",
       "\n",
       "                                          sentences_tag  \\\n",
       "0     [('[', 'SS'), (\"'\", 'SS'), ('빨갛', 'VA'), ('ㄴ',...   \n",
       "1     [('[', 'SS'), (\"'\", 'SS'), ('클래식', 'NNG'), ('하...   \n",
       "2     [('[', 'SS'), (\"'\", 'SS'), ('짙', 'VV'), ('은', ...   \n",
       "3     [('[', 'SS'), (\"'\", 'SS'), ('YSL', 'OL'), ('모노...   \n",
       "4     [('[', 'SS'), (\"'\", 'SS'), ('컬러', 'NNG'), ('블록...   \n",
       "...                                                 ...   \n",
       "1269  [('[', 'SS'), ('\"', 'SS'), (\"'\", 'SS'), ('어깨',...   \n",
       "1270  [('[', 'SS'), (\"'\", 'SS'), ('#', 'SW'), ('W', ...   \n",
       "1271  [('[', 'SS'), (\"'\", 'SS'), ('중', 'NNG'), ('성적'...   \n",
       "1272  [('[', 'SS'), (\"'\", 'SS'), ('이러', 'XR'), ('하',...   \n",
       "1273  [('[', 'SS'), (\"'\", 'SS'), ('세', 'VA'), ('ㄹ', ...   \n",
       "\n",
       "                                                   ADFN  \\\n",
       "0     ['코트', '소재', '슈트', '하이', '부츠', 'LAURENT', 'ANT...   \n",
       "1     ['클래식', '컬러', '코트', '컬러', '가죽', '셔츠', '스커트', '...   \n",
       "2     ['컬러', '데님', '팬츠', 'LAURENT', 'ANTHONY', 'LAUR...   \n",
       "3                          ['블랙', 'LAURENT', 'LAURENT']   \n",
       "4     ['컬러', '코트', '프린트', '데님', '팬츠', '슈즈', '선글라스', ...   \n",
       "...                                                 ...   \n",
       "1269  ['어깨', '디자이너', '의상', '어깨', '어깨', 'DESIGN', '데뷔...   \n",
       "1270  ['뷰티', '뷰티', '디렉터', '여름', '뷰티', '브랜드', '가을', '...   \n",
       "1271  ['실루엣', 'LAURENT', '어깨', '모델', '스타일', '실루엣', '...   \n",
       "1272  ['브랜드', '모델', '모델', '전시', '디렉터', '모델', '모델', '...   \n",
       "1273  ['스타일', '클래식', '화이트', 'LAURENT', '속', '패션계', '...   \n",
       "\n",
       "                                                   item  \n",
       "0              ['코트', '슈트', '부츠', 'LAURENT', 'LAURENT']  \n",
       "1     ['코트', '셔츠', '스커트', 'LAURENT', 'LAURENT', '코트'...  \n",
       "2                    ['데님', '팬츠', 'LAURENT', 'LAURENT']  \n",
       "3                                ['LAURENT', 'LAURENT']  \n",
       "4     ['코트', '티셔츠', '데님', '팬츠', '벨트', '슈즈', '선글라스', ...  \n",
       "...                                                 ...  \n",
       "1269                                  ['의상', 'LAURENT']  \n",
       "1270                       ['LAURENT', '코트', 'LAURENT']  \n",
       "1271                                   ['LAURENT', '톱']  \n",
       "1272                                        ['LAURENT']  \n",
       "1273                           ['LAURENT', '샌들', '핸드백']  \n",
       "\n",
       "[1274 rows x 13 columns]"
      ]
     },
     "execution_count": 104,
     "metadata": {},
     "output_type": "execute_result"
    }
   ],
   "source": [
    "magazine_sl"
   ]
  },
  {
   "cell_type": "code",
   "execution_count": null,
   "metadata": {},
   "outputs": [],
   "source": []
  },
  {
   "cell_type": "code",
   "execution_count": null,
   "metadata": {},
   "outputs": [],
   "source": []
  }
 ],
 "metadata": {
  "kernelspec": {
   "display_name": "Python 3",
   "language": "python",
   "name": "python3"
  },
  "language_info": {
   "codemirror_mode": {
    "name": "ipython",
    "version": 3
   },
   "file_extension": ".py",
   "mimetype": "text/x-python",
   "name": "python",
   "nbconvert_exporter": "python",
   "pygments_lexer": "ipython3",
   "version": "3.6.5"
  }
 },
 "nbformat": 4,
 "nbformat_minor": 4
}
