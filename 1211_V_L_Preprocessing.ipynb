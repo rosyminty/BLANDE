{
 "cells": [
  {
   "cell_type": "code",
   "execution_count": 1,
   "metadata": {},
   "outputs": [],
   "source": [
    "import pandas as pd\n",
    "import numpy as np"
   ]
  },
  {
   "cell_type": "code",
   "execution_count": 2,
   "metadata": {
    "scrolled": true
   },
   "outputs": [
    {
     "data": {
      "text/html": [
       "<div>\n",
       "<style scoped>\n",
       "    .dataframe tbody tr th:only-of-type {\n",
       "        vertical-align: middle;\n",
       "    }\n",
       "\n",
       "    .dataframe tbody tr th {\n",
       "        vertical-align: top;\n",
       "    }\n",
       "\n",
       "    .dataframe thead th {\n",
       "        text-align: right;\n",
       "    }\n",
       "</style>\n",
       "<table border=\"1\" class=\"dataframe\">\n",
       "  <thead>\n",
       "    <tr style=\"text-align: right;\">\n",
       "      <th></th>\n",
       "      <th>magazine</th>\n",
       "      <th>brand</th>\n",
       "      <th>category</th>\n",
       "      <th>title</th>\n",
       "      <th>link</th>\n",
       "      <th>date</th>\n",
       "      <th>contents</th>\n",
       "      <th>title_brand</th>\n",
       "      <th>check</th>\n",
       "    </tr>\n",
       "  </thead>\n",
       "  <tbody>\n",
       "    <tr>\n",
       "      <th>0</th>\n",
       "      <td>V</td>\n",
       "      <td>L</td>\n",
       "      <td>Fashion</td>\n",
       "      <td>‘레이디 디올’ 백을 재탄생시킨 아티스트</td>\n",
       "      <td>http://www.vogue.co.kr/2020/12/08/%eb%a0%88%ec...</td>\n",
       "      <td>2020.12.08</td>\n",
       "      <td>['예술의 역할은 뭐라고 생각하나? 구글 검색기를 믿어보자면 ‘사람들의 의견을 바꾸...</td>\n",
       "      <td>0</td>\n",
       "      <td>0</td>\n",
       "    </tr>\n",
       "    <tr>\n",
       "      <th>1</th>\n",
       "      <td>V</td>\n",
       "      <td>L</td>\n",
       "      <td>Living</td>\n",
       "      <td>보그 가족사진관</td>\n",
       "      <td>http://www.vogue.co.kr/2020/11/27/%eb%b3%b4%ea...</td>\n",
       "      <td>2020.11.27</td>\n",
       "      <td>['힘들 때 우리를 위로하는 건 때로는 가족사진 한 장입니다. 가족사진은 우리 개개...</td>\n",
       "      <td>0</td>\n",
       "      <td>0</td>\n",
       "    </tr>\n",
       "    <tr>\n",
       "      <th>2</th>\n",
       "      <td>V</td>\n",
       "      <td>L</td>\n",
       "      <td>daily issue</td>\n",
       "      <td>&lt;프렌즈&gt; 특별판, 내년 3월 촬영 시작</td>\n",
       "      <td>http://www.vogue.co.kr/2020/11/13/%ed%94%84%eb...</td>\n",
       "      <td>2020.11.13</td>\n",
       "      <td>['전 세계에서 큰 인기를 얻었던 미국 시트콤 &lt;프렌즈&gt;. 미국 뉴욕에 사는 청춘 ...</td>\n",
       "      <td>0</td>\n",
       "      <td>0</td>\n",
       "    </tr>\n",
       "    <tr>\n",
       "      <th>3</th>\n",
       "      <td>V</td>\n",
       "      <td>L</td>\n",
       "      <td>daily issue</td>\n",
       "      <td>투톤 헤어가 잘 어울리는 스타 3인</td>\n",
       "      <td>http://www.vogue.co.kr/2020/10/20/%ed%88%ac%ed...</td>\n",
       "      <td>2020.10.20</td>\n",
       "      <td>['겨울이 오기 전에 심심한 헤어스타일에 드라마틱한 변화를 주고 싶다면, 투톤 헤어...</td>\n",
       "      <td>0</td>\n",
       "      <td>0</td>\n",
       "    </tr>\n",
       "    <tr>\n",
       "      <th>4</th>\n",
       "      <td>V</td>\n",
       "      <td>L</td>\n",
       "      <td>Fashion</td>\n",
       "      <td>신박한 ‘슬리브 니트’의 멋</td>\n",
       "      <td>http://www.vogue.co.kr/2020/10/19/%ec%8b%a0%eb...</td>\n",
       "      <td>2020.10.19</td>\n",
       "      <td>['니트인데 슬리브만 연결된 니트라니.', '낯선 듯 익숙한 슬리브 니트는 오직 두...</td>\n",
       "      <td>0</td>\n",
       "      <td>0</td>\n",
       "    </tr>\n",
       "    <tr>\n",
       "      <th>...</th>\n",
       "      <td>...</td>\n",
       "      <td>...</td>\n",
       "      <td>...</td>\n",
       "      <td>...</td>\n",
       "      <td>...</td>\n",
       "      <td>...</td>\n",
       "      <td>...</td>\n",
       "      <td>...</td>\n",
       "      <td>...</td>\n",
       "    </tr>\n",
       "    <tr>\n",
       "      <th>134</th>\n",
       "      <td>V</td>\n",
       "      <td>L</td>\n",
       "      <td>Living</td>\n",
       "      <td>여름 몸매를 위한 샐러드 레시피</td>\n",
       "      <td>http://www.vogue.co.kr/2017/07/18/%ed%86%b1%eb...</td>\n",
       "      <td>2017.07.18</td>\n",
       "      <td>['다음 주에 떠나는 여름휴가! 막바지 몸매 관리에 들어갔다면?\\n몸매 관리에 일가...</td>\n",
       "      <td>0</td>\n",
       "      <td>0</td>\n",
       "    </tr>\n",
       "    <tr>\n",
       "      <th>135</th>\n",
       "      <td>V</td>\n",
       "      <td>L</td>\n",
       "      <td>Fashion</td>\n",
       "      <td>온라인 쇼핑탐구생활 – Summer Earrings</td>\n",
       "      <td>http://www.vogue.co.kr/2017/07/18/%ec%98%a8%eb...</td>\n",
       "      <td>2017.07.18</td>\n",
       "      <td>['고요하고 서늘하고 사랑스러운 여름 귀고리.', ' ', '미 서부의 거칠고 원시...</td>\n",
       "      <td>0</td>\n",
       "      <td>0</td>\n",
       "    </tr>\n",
       "    <tr>\n",
       "      <th>136</th>\n",
       "      <td>V</td>\n",
       "      <td>L</td>\n",
       "      <td>Beauty</td>\n",
       "      <td>향기 나는 타투가 있다?</td>\n",
       "      <td>http://www.vogue.co.kr/2017/07/12/%ed%96%a5%ea...</td>\n",
       "      <td>2017.07.12</td>\n",
       "      <td>['타투 스탬프, 타투 스티커는 들어봤어도 향기 나는 타투는 처음이라고요? 꽃과 풀...</td>\n",
       "      <td>0</td>\n",
       "      <td>0</td>\n",
       "    </tr>\n",
       "    <tr>\n",
       "      <th>137</th>\n",
       "      <td>V</td>\n",
       "      <td>L</td>\n",
       "      <td>Living</td>\n",
       "      <td>전설의 고향</td>\n",
       "      <td>http://www.vogue.co.kr/2017/07/05/%ec%a0%84%ec...</td>\n",
       "      <td>2017.07.05</td>\n",
       "      <td>['쥐라산맥에서 사진가 배병우는 카메라의 셔터를 눌렀다. 모필에 먹과 물을 듬뿍 적...</td>\n",
       "      <td>0</td>\n",
       "      <td>0</td>\n",
       "    </tr>\n",
       "    <tr>\n",
       "      <th>138</th>\n",
       "      <td>V</td>\n",
       "      <td>L</td>\n",
       "      <td>Beauty</td>\n",
       "      <td>de Luxe</td>\n",
       "      <td>http://www.vogue.co.kr/2017/07/04/de-luxe/</td>\n",
       "      <td>2017.07.04</td>\n",
       "      <td>['‘럭셔리’, ‘하이엔드’라는 수식어 대신 ‘신뢰할 수 있는’이라는 작위를 얻어낸...</td>\n",
       "      <td>0</td>\n",
       "      <td>0</td>\n",
       "    </tr>\n",
       "  </tbody>\n",
       "</table>\n",
       "<p>139 rows × 9 columns</p>\n",
       "</div>"
      ],
      "text/plain": [
       "    magazine brand     category                         title  \\\n",
       "0          V     L      Fashion        ‘레이디 디올’ 백을 재탄생시킨 아티스트   \n",
       "1          V     L       Living                      보그 가족사진관   \n",
       "2          V     L  daily issue        <프렌즈> 특별판, 내년 3월 촬영 시작   \n",
       "3          V     L  daily issue           투톤 헤어가 잘 어울리는 스타 3인   \n",
       "4          V     L      Fashion               신박한 ‘슬리브 니트’의 멋   \n",
       "..       ...   ...          ...                           ...   \n",
       "134        V     L       Living             여름 몸매를 위한 샐러드 레시피   \n",
       "135        V     L      Fashion  온라인 쇼핑탐구생활 – Summer Earrings   \n",
       "136        V     L       Beauty                 향기 나는 타투가 있다?   \n",
       "137        V     L       Living                        전설의 고향   \n",
       "138        V     L       Beauty                       de Luxe   \n",
       "\n",
       "                                                  link        date  \\\n",
       "0    http://www.vogue.co.kr/2020/12/08/%eb%a0%88%ec...  2020.12.08   \n",
       "1    http://www.vogue.co.kr/2020/11/27/%eb%b3%b4%ea...  2020.11.27   \n",
       "2    http://www.vogue.co.kr/2020/11/13/%ed%94%84%eb...  2020.11.13   \n",
       "3    http://www.vogue.co.kr/2020/10/20/%ed%88%ac%ed...  2020.10.20   \n",
       "4    http://www.vogue.co.kr/2020/10/19/%ec%8b%a0%eb...  2020.10.19   \n",
       "..                                                 ...         ...   \n",
       "134  http://www.vogue.co.kr/2017/07/18/%ed%86%b1%eb...  2017.07.18   \n",
       "135  http://www.vogue.co.kr/2017/07/18/%ec%98%a8%eb...  2017.07.18   \n",
       "136  http://www.vogue.co.kr/2017/07/12/%ed%96%a5%ea...  2017.07.12   \n",
       "137  http://www.vogue.co.kr/2017/07/05/%ec%a0%84%ec...  2017.07.05   \n",
       "138         http://www.vogue.co.kr/2017/07/04/de-luxe/  2017.07.04   \n",
       "\n",
       "                                              contents  title_brand  check  \n",
       "0    ['예술의 역할은 뭐라고 생각하나? 구글 검색기를 믿어보자면 ‘사람들의 의견을 바꾸...            0      0  \n",
       "1    ['힘들 때 우리를 위로하는 건 때로는 가족사진 한 장입니다. 가족사진은 우리 개개...            0      0  \n",
       "2    ['전 세계에서 큰 인기를 얻었던 미국 시트콤 <프렌즈>. 미국 뉴욕에 사는 청춘 ...            0      0  \n",
       "3    ['겨울이 오기 전에 심심한 헤어스타일에 드라마틱한 변화를 주고 싶다면, 투톤 헤어...            0      0  \n",
       "4    ['니트인데 슬리브만 연결된 니트라니.', '낯선 듯 익숙한 슬리브 니트는 오직 두...            0      0  \n",
       "..                                                 ...          ...    ...  \n",
       "134  ['다음 주에 떠나는 여름휴가! 막바지 몸매 관리에 들어갔다면?\\n몸매 관리에 일가...            0      0  \n",
       "135  ['고요하고 서늘하고 사랑스러운 여름 귀고리.', ' ', '미 서부의 거칠고 원시...            0      0  \n",
       "136  ['타투 스탬프, 타투 스티커는 들어봤어도 향기 나는 타투는 처음이라고요? 꽃과 풀...            0      0  \n",
       "137  ['쥐라산맥에서 사진가 배병우는 카메라의 셔터를 눌렀다. 모필에 먹과 물을 듬뿍 적...            0      0  \n",
       "138  ['‘럭셔리’, ‘하이엔드’라는 수식어 대신 ‘신뢰할 수 있는’이라는 작위를 얻어낸...            0      0  \n",
       "\n",
       "[139 rows x 9 columns]"
      ]
     },
     "execution_count": 2,
     "metadata": {},
     "output_type": "execute_result"
    }
   ],
   "source": [
    "V_L = pd.read_csv('./data/Vogue_LISA_df.csv' , sep='|', encoding='utf-8')\n",
    "V_L"
   ]
  },
  {
   "cell_type": "markdown",
   "metadata": {},
   "source": [
    "### 크롤링 부재한 아이들 채우기"
   ]
  },
  {
   "cell_type": "code",
   "execution_count": 3,
   "metadata": {},
   "outputs": [
    {
     "name": "stdout",
     "output_type": "stream",
     "text": [
      "[24, 25, 26, 80]\n",
      "4\n"
     ]
    }
   ],
   "source": [
    "# contents가 공백인 애들 다시 지정\n",
    "cblank = []\n",
    "for i in range(len(V_L)) :\n",
    "    if V_L['contents'][i] == '[]' :    \n",
    "        cblank.append(i)\n",
    "print(cblank)\n",
    "print(len(cblank))"
   ]
  },
  {
   "cell_type": "code",
   "execution_count": 11,
   "metadata": {},
   "outputs": [
    {
     "name": "stdout",
     "output_type": "stream",
     "text": [
      "http://www.vogue.co.kr/2019/03/25/%eb%89%b4%ed%8a%bc%ec%9d%98-%eb%b2%95%ec%b9%99/\n"
     ]
    }
   ],
   "source": [
    "print(V_L.loc[80, 'link'])"
   ]
  },
  {
   "cell_type": "code",
   "execution_count": 13,
   "metadata": {},
   "outputs": [],
   "source": [
    "V_L.loc[[24, 25, 26, 80], 'check'] = 2"
   ]
  },
  {
   "cell_type": "markdown",
   "metadata": {},
   "source": [
    "### 리사 외 다른 이름 지우기"
   ]
  },
  {
   "cell_type": "code",
   "execution_count": 6,
   "metadata": {},
   "outputs": [
    {
     "name": "stdout",
     "output_type": "stream",
     "text": [
      "11\n"
     ]
    }
   ],
   "source": [
    "nidx = []\n",
    "for i in range(len(V_L)) :\n",
    "    if '리사이클' in V_L['contents'][i] :\n",
    "        V_L.loc[i, 'check'] = 2\n",
    "        nidx.append(i)\n",
    "print(len(nidx))"
   ]
  },
  {
   "cell_type": "code",
   "execution_count": 8,
   "metadata": {},
   "outputs": [
    {
     "name": "stdout",
     "output_type": "stream",
     "text": [
      "1\n"
     ]
    }
   ],
   "source": [
    "nidx = []\n",
    "for i in range(len(V_L)) :\n",
    "    if '내리사랑' in V_L['contents'][i] :\n",
    "        V_L.loc[i, 'check'] = 2\n",
    "        nidx.append(i)\n",
    "print(len(nidx))"
   ]
  },
  {
   "cell_type": "code",
   "execution_count": 10,
   "metadata": {},
   "outputs": [
    {
     "name": "stdout",
     "output_type": "stream",
     "text": [
      "0\n"
     ]
    }
   ],
   "source": [
    "nidx = []\n",
    "for i in range(len(V_L)) :\n",
    "    if '사리사욕' in V_L['contents'][i] :\n",
    "        V_L.loc[i, 'check'] = 2\n",
    "        nidx.append(i)\n",
    "print(len(nidx))"
   ]
  },
  {
   "cell_type": "code",
   "execution_count": 12,
   "metadata": {},
   "outputs": [
    {
     "name": "stdout",
     "output_type": "stream",
     "text": [
      "0\n"
     ]
    }
   ],
   "source": [
    "nidx = []\n",
    "for i in range(len(V_L)) :\n",
    "    if '리사 테일러' in V_L['contents'][i] :\n",
    "        V_L.loc[i, 'check'] = 2\n",
    "        nidx.append(i)\n",
    "print(len(nidx))"
   ]
  },
  {
   "cell_type": "code",
   "execution_count": 16,
   "metadata": {},
   "outputs": [
    {
     "name": "stdout",
     "output_type": "stream",
     "text": [
      "27\n"
     ]
    }
   ],
   "source": [
    "nidx = []\n",
    "for i in range(len(V_L)) :\n",
    "    if '요리사' in V_L['contents'][i] :\n",
    "        V_L.loc[i, 'check'] = 2\n",
    "        nidx.append(i)\n",
    "print(len(nidx))"
   ]
  },
  {
   "cell_type": "code",
   "execution_count": 21,
   "metadata": {},
   "outputs": [
    {
     "name": "stdout",
     "output_type": "stream",
     "text": [
      "1\n"
     ]
    }
   ],
   "source": [
    "nidx = []\n",
    "for i in range(len(V_L)) :\n",
    "    if '멜리사 제퍼슨' in V_L['contents'][i] :\n",
    "        V_L.loc[i, 'check'] = 2\n",
    "        nidx.append(i)\n",
    "print(len(nidx))"
   ]
  },
  {
   "cell_type": "code",
   "execution_count": 24,
   "metadata": {},
   "outputs": [
    {
     "name": "stdout",
     "output_type": "stream",
     "text": [
      "1\n"
     ]
    }
   ],
   "source": [
    "nidx = []\n",
    "for i in range(len(V_L)) :\n",
    "    if '리사 보넷' in V_L['contents'][i] :\n",
    "        V_L.loc[i, 'check'] = 2\n",
    "        nidx.append(i)\n",
    "print(len(nidx))"
   ]
  },
  {
   "cell_type": "code",
   "execution_count": 27,
   "metadata": {},
   "outputs": [
    {
     "name": "stdout",
     "output_type": "stream",
     "text": [
      "1\n"
     ]
    }
   ],
   "source": [
    "nidx = []\n",
    "for i in range(len(V_L)) :\n",
    "    if '리사 심슨' in V_L['contents'][i] :\n",
    "        V_L.loc[i, 'check'] = 2\n",
    "        nidx.append(i)\n",
    "print(len(nidx))"
   ]
  },
  {
   "cell_type": "code",
   "execution_count": 31,
   "metadata": {},
   "outputs": [
    {
     "name": "stdout",
     "output_type": "stream",
     "text": [
      "3\n"
     ]
    }
   ],
   "source": [
    "nidx = []\n",
    "for i in range(len(V_L)) :\n",
    "    if '리사 쿠드로' in V_L['contents'][i] :\n",
    "        V_L.loc[i, 'check'] = 2\n",
    "        nidx.append(i)\n",
    "print(len(nidx))"
   ]
  },
  {
   "cell_type": "code",
   "execution_count": 38,
   "metadata": {},
   "outputs": [
    {
     "name": "stdout",
     "output_type": "stream",
     "text": [
      "9\n"
     ]
    }
   ],
   "source": [
    "nidx = []\n",
    "for i in range(len(V_L)) :\n",
    "    if '멜리사' in V_L['contents'][i] :\n",
    "        V_L.loc[i, 'check'] = 2\n",
    "        nidx.append(i)\n",
    "print(len(nidx))"
   ]
  },
  {
   "cell_type": "code",
   "execution_count": 41,
   "metadata": {},
   "outputs": [
    {
     "name": "stdout",
     "output_type": "stream",
     "text": [
      "1\n"
     ]
    }
   ],
   "source": [
    "nidx = []\n",
    "for i in range(len(V_L)) :\n",
    "    if '리사 다케바' in V_L['contents'][i] :\n",
    "        V_L.loc[i, 'check'] = 2\n",
    "        nidx.append(i)\n",
    "print(len(nidx))"
   ]
  },
  {
   "cell_type": "code",
   "execution_count": 44,
   "metadata": {},
   "outputs": [
    {
     "name": "stdout",
     "output_type": "stream",
     "text": [
      "2\n"
     ]
    }
   ],
   "source": [
    "nidx = []\n",
    "for i in range(len(V_L)) :\n",
    "    if '리사르' in V_L['contents'][i] :\n",
    "        V_L.loc[i, 'check'] = 2\n",
    "        nidx.append(i)\n",
    "print(len(nidx))"
   ]
  },
  {
   "cell_type": "code",
   "execution_count": 48,
   "metadata": {},
   "outputs": [
    {
     "name": "stdout",
     "output_type": "stream",
     "text": [
      "6\n"
     ]
    }
   ],
   "source": [
    "nidx = []\n",
    "for i in range(len(V_L)) :\n",
    "    if '알리사' in V_L['contents'][i] :\n",
    "        V_L.loc[i, 'check'] = 2\n",
    "        nidx.append(i)\n",
    "print(len(nidx))"
   ]
  },
  {
   "cell_type": "code",
   "execution_count": 54,
   "metadata": {},
   "outputs": [
    {
     "name": "stdout",
     "output_type": "stream",
     "text": [
      "2\n"
     ]
    }
   ],
   "source": [
    "nidx = []\n",
    "for i in range(len(V_L)) :\n",
    "    if '리사 프랭클린' in V_L['contents'][i] :\n",
    "        V_L.loc[i, 'check'] = 2\n",
    "        nidx.append(i)\n",
    "print(len(nidx))"
   ]
  },
  {
   "cell_type": "code",
   "execution_count": 57,
   "metadata": {},
   "outputs": [
    {
     "name": "stdout",
     "output_type": "stream",
     "text": [
      "10\n"
     ]
    }
   ],
   "source": [
    "nidx = []\n",
    "for i in range(len(V_L)) :\n",
    "    if '관리사' in V_L['contents'][i] :\n",
    "        V_L.loc[i, 'check'] = 2\n",
    "        nidx.append(i)\n",
    "print(len(nidx))"
   ]
  },
  {
   "cell_type": "code",
   "execution_count": 61,
   "metadata": {},
   "outputs": [
    {
     "name": "stdout",
     "output_type": "stream",
     "text": [
      "1\n"
     ]
    }
   ],
   "source": [
    "nidx = []\n",
    "for i in range(len(V_L)) :\n",
    "    if '카리사' in V_L['contents'][i] :\n",
    "        V_L.loc[i, 'check'] = 2\n",
    "        nidx.append(i)\n",
    "print(len(nidx))"
   ]
  },
  {
   "cell_type": "code",
   "execution_count": 63,
   "metadata": {},
   "outputs": [
    {
     "name": "stdout",
     "output_type": "stream",
     "text": [
      "1\n"
     ]
    }
   ],
   "source": [
    "nidx = []\n",
    "for i in range(len(V_L)) :\n",
    "    if '심리사' in V_L['contents'][i] :\n",
    "        V_L.loc[i, 'check'] = 2\n",
    "        nidx.append(i)\n",
    "print(len(nidx))"
   ]
  },
  {
   "cell_type": "code",
   "execution_count": 66,
   "metadata": {},
   "outputs": [
    {
     "name": "stdout",
     "output_type": "stream",
     "text": [
      "1\n"
     ]
    }
   ],
   "source": [
    "nidx = []\n",
    "for i in range(len(V_L)) :\n",
    "    if '리사 엘드리지' in V_L['contents'][i] :\n",
    "        V_L.loc[i, 'check'] = 2\n",
    "        nidx.append(i)\n",
    "print(len(nidx))"
   ]
  },
  {
   "cell_type": "code",
   "execution_count": 72,
   "metadata": {},
   "outputs": [
    {
     "name": "stdout",
     "output_type": "stream",
     "text": [
      "1\n"
     ]
    }
   ],
   "source": [
    "nidx = []\n",
    "for i in range(len(V_L)) :\n",
    "    if '리사이틀' in V_L['contents'][i] :\n",
    "        V_L.loc[i, 'check'] = 2\n",
    "        nidx.append(i)\n",
    "print(len(nidx))"
   ]
  },
  {
   "cell_type": "code",
   "execution_count": 77,
   "metadata": {},
   "outputs": [
    {
     "name": "stdout",
     "output_type": "stream",
     "text": [
      "2\n"
     ]
    }
   ],
   "source": [
    "nidx = []\n",
    "for i in range(len(V_L)) :\n",
    "    if '리사운드' in V_L['contents'][i] :\n",
    "        V_L.loc[i, 'check'] = 2\n",
    "        nidx.append(i)\n",
    "print(len(nidx))"
   ]
  },
  {
   "cell_type": "code",
   "execution_count": 81,
   "metadata": {},
   "outputs": [
    {
     "name": "stdout",
     "output_type": "stream",
     "text": [
      "1\n"
     ]
    }
   ],
   "source": [
    "nidx = []\n",
    "for i in range(len(V_L)) :\n",
    "    if '생리사' in V_L['contents'][i] :\n",
    "        V_L.loc[i, 'check'] = 2\n",
    "        nidx.append(i)\n",
    "print(len(nidx))"
   ]
  },
  {
   "cell_type": "code",
   "execution_count": 86,
   "metadata": {},
   "outputs": [
    {
     "name": "stdout",
     "output_type": "stream",
     "text": [
      "1\n"
     ]
    }
   ],
   "source": [
    "nidx = []\n",
    "for i in range(len(V_L)) :\n",
    "    if '패리사' in V_L['contents'][i] :\n",
    "        V_L.loc[i, 'check'] = 2\n",
    "        nidx.append(i)\n",
    "print(len(nidx))"
   ]
  },
  {
   "cell_type": "code",
   "execution_count": 97,
   "metadata": {},
   "outputs": [
    {
     "name": "stdout",
     "output_type": "stream",
     "text": [
      "2\n"
     ]
    }
   ],
   "source": [
    "nidx = []\n",
    "for i in range(len(V_L)) :\n",
    "    if '엘리사' in V_L['contents'][i] :\n",
    "        V_L.loc[i, 'check'] = 2\n",
    "        nidx.append(i)\n",
    "print(len(nidx))"
   ]
  },
  {
   "cell_type": "code",
   "execution_count": 101,
   "metadata": {},
   "outputs": [
    {
     "name": "stdout",
     "output_type": "stream",
     "text": [
      "2\n"
     ]
    }
   ],
   "source": [
    "nidx = []\n",
    "for i in range(len(V_L)) :\n",
    "    if '프리사' in V_L['contents'][i] :\n",
    "        V_L.loc[i, 'check'] = 2\n",
    "        nidx.append(i)\n",
    "print(len(nidx))"
   ]
  },
  {
   "cell_type": "code",
   "execution_count": 106,
   "metadata": {},
   "outputs": [
    {
     "name": "stdout",
     "output_type": "stream",
     "text": [
      "1\n"
     ]
    }
   ],
   "source": [
    "nidx = []\n",
    "for i in range(len(V_L)) :\n",
    "    if '마르코 리사' in V_L['contents'][i] :\n",
    "        V_L.loc[i, 'check'] = 2\n",
    "        nidx.append(i)\n",
    "print(len(nidx))"
   ]
  },
  {
   "cell_type": "code",
   "execution_count": 110,
   "metadata": {},
   "outputs": [
    {
     "name": "stdout",
     "output_type": "stream",
     "text": [
      "1\n"
     ]
    }
   ],
   "source": [
    "nidx = []\n",
    "for i in range(len(V_L)) :\n",
    "    if '줄리사' in V_L['contents'][i] :\n",
    "        V_L.loc[i, 'check'] = 2\n",
    "        nidx.append(i)\n",
    "print(len(nidx))"
   ]
  },
  {
   "cell_type": "code",
   "execution_count": 114,
   "metadata": {},
   "outputs": [
    {
     "name": "stdout",
     "output_type": "stream",
     "text": [
      "2\n"
     ]
    }
   ],
   "source": [
    "nidx = []\n",
    "for i in range(len(V_L)) :\n",
    "    if '리사 마리' in V_L['contents'][i] :\n",
    "        V_L.loc[i, 'check'] = 2\n",
    "        nidx.append(i)\n",
    "print(len(nidx))"
   ]
  },
  {
   "cell_type": "code",
   "execution_count": 117,
   "metadata": {},
   "outputs": [
    {
     "name": "stdout",
     "output_type": "stream",
     "text": [
      "1\n"
     ]
    }
   ],
   "source": [
    "nidx = []\n",
    "for i in range(len(V_L)) :\n",
    "    if '리사 에이킨' in V_L['contents'][i] :\n",
    "        V_L.loc[i, 'check'] = 2\n",
    "        nidx.append(i)\n",
    "print(len(nidx))"
   ]
  },
  {
   "cell_type": "code",
   "execution_count": 121,
   "metadata": {},
   "outputs": [
    {
     "name": "stdout",
     "output_type": "stream",
     "text": [
      "1\n"
     ]
    }
   ],
   "source": [
    "nidx = []\n",
    "for i in range(len(V_L)) :\n",
    "    if '벨리사리오' in V_L['contents'][i] :\n",
    "        V_L.loc[i, 'check'] = 2\n",
    "        nidx.append(i)\n",
    "print(len(nidx))"
   ]
  },
  {
   "cell_type": "markdown",
   "metadata": {},
   "source": [
    "### 본문에 리사 없으면 지우기"
   ]
  },
  {
   "cell_type": "code",
   "execution_count": 14,
   "metadata": {
    "collapsed": true
   },
   "outputs": [
    {
     "name": "stdout",
     "output_type": "stream",
     "text": [
      "14\n",
      "24\n",
      "25\n",
      "26\n",
      "43\n",
      "49\n",
      "50\n",
      "78\n",
      "80\n",
      "81\n",
      "91\n",
      "101\n",
      "105\n",
      "114\n",
      "115\n",
      "116\n",
      "120\n",
      "121\n",
      "124\n",
      "131\n",
      "135\n",
      "136\n",
      "138\n"
     ]
    }
   ],
   "source": [
    "for i in range(len(V_L)):\n",
    "    if not '리사' in V_L['contents'][i] :\n",
    "        V_L.loc[i, 'check'] = 2\n",
    "        print(i)"
   ]
  },
  {
   "cell_type": "code",
   "execution_count": 15,
   "metadata": {},
   "outputs": [
    {
     "name": "stdout",
     "output_type": "stream",
     "text": [
      "http://www.vogue.co.kr/2020/08/11/%ed%95%9c%ec%98%a5%ec%97%90%ec%84%9c%ec%9d%98-%ea%b7%bc%ec%82%ac%ed%95%9c-%ec%8b%9d%ec%82%ac/\n"
     ]
    }
   ],
   "source": [
    "print(V_L.loc[14, 'link'])"
   ]
  },
  {
   "cell_type": "markdown",
   "metadata": {},
   "source": [
    "### 카테고리로 확인"
   ]
  },
  {
   "cell_type": "code",
   "execution_count": 17,
   "metadata": {},
   "outputs": [
    {
     "data": {
      "text/plain": [
       "array(['Fashion', 'Living', 'daily issue', 'Beauty', 'People'],\n",
       "      dtype=object)"
      ]
     },
     "execution_count": 17,
     "metadata": {},
     "output_type": "execute_result"
    }
   ],
   "source": [
    "# category 종류\n",
    "V_L['category'].unique()"
   ]
  },
  {
   "cell_type": "code",
   "execution_count": 18,
   "metadata": {},
   "outputs": [
    {
     "data": {
      "text/plain": [
       "Fashion        49\n",
       "Living         38\n",
       "Beauty         26\n",
       "daily issue    19\n",
       "People          7\n",
       "Name: category, dtype: int64"
      ]
     },
     "execution_count": 18,
     "metadata": {},
     "output_type": "execute_result"
    }
   ],
   "source": [
    "# category별 개수\n",
    "V_L['category'].value_counts()"
   ]
  },
  {
   "cell_type": "code",
   "execution_count": 28,
   "metadata": {},
   "outputs": [
    {
     "data": {
      "text/html": [
       "<div>\n",
       "<style scoped>\n",
       "    .dataframe tbody tr th:only-of-type {\n",
       "        vertical-align: middle;\n",
       "    }\n",
       "\n",
       "    .dataframe tbody tr th {\n",
       "        vertical-align: top;\n",
       "    }\n",
       "\n",
       "    .dataframe thead th {\n",
       "        text-align: right;\n",
       "    }\n",
       "</style>\n",
       "<table border=\"1\" class=\"dataframe\">\n",
       "  <thead>\n",
       "    <tr style=\"text-align: right;\">\n",
       "      <th></th>\n",
       "      <th>magazine</th>\n",
       "      <th>brand</th>\n",
       "      <th>category</th>\n",
       "      <th>title</th>\n",
       "      <th>link</th>\n",
       "      <th>date</th>\n",
       "      <th>contents</th>\n",
       "      <th>title_brand</th>\n",
       "      <th>check</th>\n",
       "    </tr>\n",
       "  </thead>\n",
       "  <tbody>\n",
       "    <tr>\n",
       "      <th>92</th>\n",
       "      <td>V</td>\n",
       "      <td>L</td>\n",
       "      <td>People</td>\n",
       "      <td>멀버리 행사장에 등장한 블랙핑크 리사-로제!</td>\n",
       "      <td>http://www.vogue.co.kr/2018/09/07/%eb%a9%80%eb...</td>\n",
       "      <td>2018.09.07</td>\n",
       "      <td>['', '보그 레이더는 #멀버리(@mulberryengland )2018 가을/겨...</td>\n",
       "      <td>1</td>\n",
       "      <td>1</td>\n",
       "    </tr>\n",
       "  </tbody>\n",
       "</table>\n",
       "</div>"
      ],
      "text/plain": [
       "   magazine brand category                     title  \\\n",
       "92        V     L   People  멀버리 행사장에 등장한 블랙핑크 리사-로제!   \n",
       "\n",
       "                                                 link        date  \\\n",
       "92  http://www.vogue.co.kr/2018/09/07/%eb%a9%80%eb...  2018.09.07   \n",
       "\n",
       "                                             contents  title_brand  check  \n",
       "92  ['', '보그 레이더는 #멀버리(@mulberryengland )2018 가을/겨...            1      1  "
      ]
     },
     "execution_count": 28,
     "metadata": {},
     "output_type": "execute_result"
    }
   ],
   "source": [
    "V_L[(V_L['category'] == 'People') & (V_L['check'] != 2)]"
   ]
  },
  {
   "cell_type": "code",
   "execution_count": 26,
   "metadata": {},
   "outputs": [
    {
     "name": "stdout",
     "output_type": "stream",
     "text": [
      "http://www.vogue.co.kr/2017/11/02/space-strategist/\n"
     ]
    }
   ],
   "source": [
    "print(V_L.loc[125, 'link'])"
   ]
  },
  {
   "cell_type": "code",
   "execution_count": 49,
   "metadata": {
    "collapsed": true
   },
   "outputs": [
    {
     "data": {
      "text/html": [
       "<div>\n",
       "<style scoped>\n",
       "    .dataframe tbody tr th:only-of-type {\n",
       "        vertical-align: middle;\n",
       "    }\n",
       "\n",
       "    .dataframe tbody tr th {\n",
       "        vertical-align: top;\n",
       "    }\n",
       "\n",
       "    .dataframe thead th {\n",
       "        text-align: right;\n",
       "    }\n",
       "</style>\n",
       "<table border=\"1\" class=\"dataframe\">\n",
       "  <thead>\n",
       "    <tr style=\"text-align: right;\">\n",
       "      <th></th>\n",
       "      <th>magazine</th>\n",
       "      <th>brand</th>\n",
       "      <th>category</th>\n",
       "      <th>title</th>\n",
       "      <th>link</th>\n",
       "      <th>date</th>\n",
       "      <th>contents</th>\n",
       "      <th>title_brand</th>\n",
       "      <th>check</th>\n",
       "    </tr>\n",
       "  </thead>\n",
       "  <tbody>\n",
       "    <tr>\n",
       "      <th>3</th>\n",
       "      <td>V</td>\n",
       "      <td>L</td>\n",
       "      <td>daily issue</td>\n",
       "      <td>투톤 헤어가 잘 어울리는 스타 3인</td>\n",
       "      <td>http://www.vogue.co.kr/2020/10/20/%ed%88%ac%ed...</td>\n",
       "      <td>2020.10.20</td>\n",
       "      <td>['겨울이 오기 전에 심심한 헤어스타일에 드라마틱한 변화를 주고 싶다면, 투톤 헤어...</td>\n",
       "      <td>0</td>\n",
       "      <td>0</td>\n",
       "    </tr>\n",
       "    <tr>\n",
       "      <th>5</th>\n",
       "      <td>V</td>\n",
       "      <td>L</td>\n",
       "      <td>daily issue</td>\n",
       "      <td>올가을 단발 여신 5인</td>\n",
       "      <td>http://www.vogue.co.kr/2020/10/02/%ec%98%ac%ea...</td>\n",
       "      <td>2020.10.02</td>\n",
       "      <td>['올해는 머리카락 길러보나 했지만, 날이 추워지면 귀신같이 마음에 단발 바람이 불...</td>\n",
       "      <td>0</td>\n",
       "      <td>0</td>\n",
       "    </tr>\n",
       "    <tr>\n",
       "      <th>40</th>\n",
       "      <td>V</td>\n",
       "      <td>L</td>\n",
       "      <td>daily issue</td>\n",
       "      <td>‘텀블러’가 뽑은 올해의 인기 아이돌</td>\n",
       "      <td>http://www.vogue.co.kr/2019/12/03/%ed%85%80%eb...</td>\n",
       "      <td>2019.12.03</td>\n",
       "      <td>['올해는 유독 K-팝의 인기가 높았습니다. 세계 어디에서도 한국 아이돌 노래를 들...</td>\n",
       "      <td>0</td>\n",
       "      <td>0</td>\n",
       "    </tr>\n",
       "    <tr>\n",
       "      <th>56</th>\n",
       "      <td>V</td>\n",
       "      <td>L</td>\n",
       "      <td>daily issue</td>\n",
       "      <td>필름 카메라에 푹 빠진 스타들</td>\n",
       "      <td>http://www.vogue.co.kr/2019/09/16/%ed%95%84%eb...</td>\n",
       "      <td>2019.09.16</td>\n",
       "      <td>['투박한 카메라를 들고 셔터를 꾸욱 누르면, ‘찰칵’ 소리와 함께 사진이 찍힙니다...</td>\n",
       "      <td>0</td>\n",
       "      <td>0</td>\n",
       "    </tr>\n",
       "    <tr>\n",
       "      <th>66</th>\n",
       "      <td>V</td>\n",
       "      <td>L</td>\n",
       "      <td>daily issue</td>\n",
       "      <td>장윤주, 파리에서의 한 달 살이</td>\n",
       "      <td>http://www.vogue.co.kr/2019/07/05/%ec%9e%a5%ec...</td>\n",
       "      <td>2019.07.05</td>\n",
       "      <td>['모델 장윤주. 그동안 많은 도시를 누볐지만, 한때 그녀의 이름을 들으면 가장 먼...</td>\n",
       "      <td>0</td>\n",
       "      <td>0</td>\n",
       "    </tr>\n",
       "  </tbody>\n",
       "</table>\n",
       "</div>"
      ],
      "text/plain": [
       "   magazine brand     category                 title  \\\n",
       "3         V     L  daily issue   투톤 헤어가 잘 어울리는 스타 3인   \n",
       "5         V     L  daily issue          올가을 단발 여신 5인   \n",
       "40        V     L  daily issue  ‘텀블러’가 뽑은 올해의 인기 아이돌   \n",
       "56        V     L  daily issue      필름 카메라에 푹 빠진 스타들   \n",
       "66        V     L  daily issue     장윤주, 파리에서의 한 달 살이   \n",
       "\n",
       "                                                 link        date  \\\n",
       "3   http://www.vogue.co.kr/2020/10/20/%ed%88%ac%ed...  2020.10.20   \n",
       "5   http://www.vogue.co.kr/2020/10/02/%ec%98%ac%ea...  2020.10.02   \n",
       "40  http://www.vogue.co.kr/2019/12/03/%ed%85%80%eb...  2019.12.03   \n",
       "56  http://www.vogue.co.kr/2019/09/16/%ed%95%84%eb...  2019.09.16   \n",
       "66  http://www.vogue.co.kr/2019/07/05/%ec%9e%a5%ec...  2019.07.05   \n",
       "\n",
       "                                             contents  title_brand  check  \n",
       "3   ['겨울이 오기 전에 심심한 헤어스타일에 드라마틱한 변화를 주고 싶다면, 투톤 헤어...            0      0  \n",
       "5   ['올해는 머리카락 길러보나 했지만, 날이 추워지면 귀신같이 마음에 단발 바람이 불...            0      0  \n",
       "40  ['올해는 유독 K-팝의 인기가 높았습니다. 세계 어디에서도 한국 아이돌 노래를 들...            0      0  \n",
       "56  ['투박한 카메라를 들고 셔터를 꾸욱 누르면, ‘찰칵’ 소리와 함께 사진이 찍힙니다...            0      0  \n",
       "66  ['모델 장윤주. 그동안 많은 도시를 누볐지만, 한때 그녀의 이름을 들으면 가장 먼...            0      0  "
      ]
     },
     "execution_count": 49,
     "metadata": {},
     "output_type": "execute_result"
    }
   ],
   "source": [
    "V_L[(V_L['category'] == 'daily issue') & (V_L['check'] != 2)]"
   ]
  },
  {
   "cell_type": "code",
   "execution_count": 47,
   "metadata": {},
   "outputs": [
    {
     "name": "stdout",
     "output_type": "stream",
     "text": [
      "http://www.vogue.co.kr/2019/04/22/%ec%95%84%ec%9d%b4%ec%9c%a0%ea%b0%80-%ec%84%a0%ed%83%9d%ed%95%9c-%eb%84%b7%ed%94%8c%eb%a6%ad%ec%8a%a4-%ec%98%a4%eb%a6%ac%ec%a7%80%eb%84%90-%ec%b5%9c%ec%95%a0-%ec%9e%91%ed%92%88%ec%9d%80/\n"
     ]
    }
   ],
   "source": [
    "print(V_L.loc[77, 'link'])"
   ]
  },
  {
   "cell_type": "code",
   "execution_count": 50,
   "metadata": {},
   "outputs": [],
   "source": [
    "V_L.loc[[40,66], 'check'] = 2"
   ]
  },
  {
   "cell_type": "code",
   "execution_count": 67,
   "metadata": {
    "scrolled": true
   },
   "outputs": [
    {
     "data": {
      "text/html": [
       "<div>\n",
       "<style scoped>\n",
       "    .dataframe tbody tr th:only-of-type {\n",
       "        vertical-align: middle;\n",
       "    }\n",
       "\n",
       "    .dataframe tbody tr th {\n",
       "        vertical-align: top;\n",
       "    }\n",
       "\n",
       "    .dataframe thead th {\n",
       "        text-align: right;\n",
       "    }\n",
       "</style>\n",
       "<table border=\"1\" class=\"dataframe\">\n",
       "  <thead>\n",
       "    <tr style=\"text-align: right;\">\n",
       "      <th></th>\n",
       "      <th>magazine</th>\n",
       "      <th>brand</th>\n",
       "      <th>category</th>\n",
       "      <th>title</th>\n",
       "      <th>link</th>\n",
       "      <th>date</th>\n",
       "      <th>contents</th>\n",
       "      <th>title_brand</th>\n",
       "      <th>check</th>\n",
       "    </tr>\n",
       "  </thead>\n",
       "  <tbody>\n",
       "    <tr>\n",
       "      <th>11</th>\n",
       "      <td>V</td>\n",
       "      <td>L</td>\n",
       "      <td>Beauty</td>\n",
       "      <td>Are You Ready?</td>\n",
       "      <td>http://www.vogue.co.kr/2020/09/11/are-you-ready/</td>\n",
       "      <td>2020.09.11</td>\n",
       "      <td>['바쁜 현대인, 외식에 질린 직장인, 식이 조절이 필요한 다이어터, 귀찮은 건 딱...</td>\n",
       "      <td>0</td>\n",
       "      <td>0</td>\n",
       "    </tr>\n",
       "    <tr>\n",
       "      <th>44</th>\n",
       "      <td>V</td>\n",
       "      <td>L</td>\n",
       "      <td>Beauty</td>\n",
       "      <td>Modest Movement</td>\n",
       "      <td>http://www.vogue.co.kr/2019/11/25/modest-movem...</td>\n",
       "      <td>2019.11.25</td>\n",
       "      <td>['23년 차 모델, 엔터테이너, 스타일 아이콘, 3집 싱어송라이터, 천만 배우 그...</td>\n",
       "      <td>0</td>\n",
       "      <td>0</td>\n",
       "    </tr>\n",
       "  </tbody>\n",
       "</table>\n",
       "</div>"
      ],
      "text/plain": [
       "   magazine brand category            title  \\\n",
       "11        V     L   Beauty   Are You Ready?   \n",
       "44        V     L   Beauty  Modest Movement   \n",
       "\n",
       "                                                 link        date  \\\n",
       "11   http://www.vogue.co.kr/2020/09/11/are-you-ready/  2020.09.11   \n",
       "44  http://www.vogue.co.kr/2019/11/25/modest-movem...  2019.11.25   \n",
       "\n",
       "                                             contents  title_brand  check  \n",
       "11  ['바쁜 현대인, 외식에 질린 직장인, 식이 조절이 필요한 다이어터, 귀찮은 건 딱...            0      0  \n",
       "44  ['23년 차 모델, 엔터테이너, 스타일 아이콘, 3집 싱어송라이터, 천만 배우 그...            0      0  "
      ]
     },
     "execution_count": 67,
     "metadata": {},
     "output_type": "execute_result"
    }
   ],
   "source": [
    "V_L[(V_L['category'] == 'Beauty') & (V_L['check'] != 2)]"
   ]
  },
  {
   "cell_type": "code",
   "execution_count": 68,
   "metadata": {},
   "outputs": [
    {
     "name": "stdout",
     "output_type": "stream",
     "text": [
      "http://www.vogue.co.kr/2017/12/08/%eb%a6%ac%ec%82%ac-%ec%97%98%eb%93%9c%eb%a6%ac%ec%a7%80%ec%9d%98-%eb%b9%88%ed%8b%b0%ec%a7%80-%eb%a9%94%ec%9d%b4%ed%81%ac%ec%97%85-%ec%bb%ac%eb%a0%89%ec%85%98/\n"
     ]
    }
   ],
   "source": [
    "print(V_L.loc[119, 'link'])"
   ]
  },
  {
   "cell_type": "code",
   "execution_count": 69,
   "metadata": {},
   "outputs": [],
   "source": [
    "V_L.loc[[11, 44], 'check'] = 2"
   ]
  },
  {
   "cell_type": "code",
   "execution_count": 87,
   "metadata": {
    "scrolled": true
   },
   "outputs": [
    {
     "data": {
      "text/html": [
       "<div>\n",
       "<style scoped>\n",
       "    .dataframe tbody tr th:only-of-type {\n",
       "        vertical-align: middle;\n",
       "    }\n",
       "\n",
       "    .dataframe tbody tr th {\n",
       "        vertical-align: top;\n",
       "    }\n",
       "\n",
       "    .dataframe thead th {\n",
       "        text-align: right;\n",
       "    }\n",
       "</style>\n",
       "<table border=\"1\" class=\"dataframe\">\n",
       "  <thead>\n",
       "    <tr style=\"text-align: right;\">\n",
       "      <th></th>\n",
       "      <th>magazine</th>\n",
       "      <th>brand</th>\n",
       "      <th>category</th>\n",
       "      <th>title</th>\n",
       "      <th>link</th>\n",
       "      <th>date</th>\n",
       "      <th>contents</th>\n",
       "      <th>title_brand</th>\n",
       "      <th>check</th>\n",
       "    </tr>\n",
       "  </thead>\n",
       "  <tbody>\n",
       "    <tr>\n",
       "      <th>61</th>\n",
       "      <td>V</td>\n",
       "      <td>L</td>\n",
       "      <td>Living</td>\n",
       "      <td>요즘 ‘죠스’ 영화</td>\n",
       "      <td>http://www.vogue.co.kr/2019/08/23/%ec%9a%94%ec...</td>\n",
       "      <td>2019.08.23</td>\n",
       "      <td>['스티븐 스필버그 감독의 &lt;죠스&gt;를 감명 깊게 본 다음부터, 바다에 갈 때 가장 ...</td>\n",
       "      <td>0</td>\n",
       "      <td>0</td>\n",
       "    </tr>\n",
       "    <tr>\n",
       "      <th>82</th>\n",
       "      <td>V</td>\n",
       "      <td>L</td>\n",
       "      <td>Living</td>\n",
       "      <td>나의 집사를 소개합니다</td>\n",
       "      <td>http://www.vogue.co.kr/2019/02/27/%eb%82%98%ec...</td>\n",
       "      <td>2019.02.27</td>\n",
       "      <td>['고양이를 가족으로 맞은 스타들의 집사 라이프 7', ' ', '벵갈 고양이 ‘삼...</td>\n",
       "      <td>0</td>\n",
       "      <td>0</td>\n",
       "    </tr>\n",
       "    <tr>\n",
       "      <th>85</th>\n",
       "      <td>V</td>\n",
       "      <td>L</td>\n",
       "      <td>Living</td>\n",
       "      <td>우리 어디서 만날까?</td>\n",
       "      <td>http://www.vogue.co.kr/2018/12/29/%ec%9a%b0%eb...</td>\n",
       "      <td>2018.12.29</td>\n",
       "      <td>['스타들의 일상 사진에서 포착한 핫플레이스 좌표들.', ' ', 'https://...</td>\n",
       "      <td>0</td>\n",
       "      <td>0</td>\n",
       "    </tr>\n",
       "  </tbody>\n",
       "</table>\n",
       "</div>"
      ],
      "text/plain": [
       "   magazine brand category         title  \\\n",
       "61        V     L   Living    요즘 ‘죠스’ 영화   \n",
       "82        V     L   Living  나의 집사를 소개합니다   \n",
       "85        V     L   Living   우리 어디서 만날까?   \n",
       "\n",
       "                                                 link        date  \\\n",
       "61  http://www.vogue.co.kr/2019/08/23/%ec%9a%94%ec...  2019.08.23   \n",
       "82  http://www.vogue.co.kr/2019/02/27/%eb%82%98%ec...  2019.02.27   \n",
       "85  http://www.vogue.co.kr/2018/12/29/%ec%9a%b0%eb...  2018.12.29   \n",
       "\n",
       "                                             contents  title_brand  check  \n",
       "61  ['스티븐 스필버그 감독의 <죠스>를 감명 깊게 본 다음부터, 바다에 갈 때 가장 ...            0      0  \n",
       "82  ['고양이를 가족으로 맞은 스타들의 집사 라이프 7', ' ', '벵갈 고양이 ‘삼...            0      0  \n",
       "85  ['스타들의 일상 사진에서 포착한 핫플레이스 좌표들.', ' ', 'https://...            0      0  "
      ]
     },
     "execution_count": 87,
     "metadata": {},
     "output_type": "execute_result"
    }
   ],
   "source": [
    "V_L[(V_L['category'] == 'Living') & (V_L['check'] != 2)]"
   ]
  },
  {
   "cell_type": "code",
   "execution_count": 85,
   "metadata": {},
   "outputs": [
    {
     "name": "stdout",
     "output_type": "stream",
     "text": [
      "http://www.vogue.co.kr/2018/03/20/%ed%95%b4%eb%a6%ac-%ec%99%95%ec%9e%90%e2%99%a5%eb%a9%94%ea%b1%b4-%eb%a7%88%ed%81%b4-5%ec%9b%94-%ec%99%95%ec%8b%a4-%ea%b2%b0%ed%98%bc%ec%8b%9d-%ec%a7%91%ec%a4%91-%ed%83%90%ea%b5%ac/\n"
     ]
    }
   ],
   "source": [
    "print(V_L.loc[108, 'link'])"
   ]
  },
  {
   "cell_type": "code",
   "execution_count": 88,
   "metadata": {},
   "outputs": [],
   "source": [
    "V_L.loc[[61,85], 'check'] = 2"
   ]
  },
  {
   "cell_type": "code",
   "execution_count": 122,
   "metadata": {
    "scrolled": true
   },
   "outputs": [
    {
     "data": {
      "text/html": [
       "<div>\n",
       "<style scoped>\n",
       "    .dataframe tbody tr th:only-of-type {\n",
       "        vertical-align: middle;\n",
       "    }\n",
       "\n",
       "    .dataframe tbody tr th {\n",
       "        vertical-align: top;\n",
       "    }\n",
       "\n",
       "    .dataframe thead th {\n",
       "        text-align: right;\n",
       "    }\n",
       "</style>\n",
       "<table border=\"1\" class=\"dataframe\">\n",
       "  <thead>\n",
       "    <tr style=\"text-align: right;\">\n",
       "      <th></th>\n",
       "      <th>magazine</th>\n",
       "      <th>brand</th>\n",
       "      <th>category</th>\n",
       "      <th>title</th>\n",
       "      <th>link</th>\n",
       "      <th>date</th>\n",
       "      <th>contents</th>\n",
       "      <th>title_brand</th>\n",
       "      <th>check</th>\n",
       "    </tr>\n",
       "  </thead>\n",
       "  <tbody>\n",
       "    <tr>\n",
       "      <th>4</th>\n",
       "      <td>V</td>\n",
       "      <td>L</td>\n",
       "      <td>Fashion</td>\n",
       "      <td>신박한 ‘슬리브 니트’의 멋</td>\n",
       "      <td>http://www.vogue.co.kr/2020/10/19/%ec%8b%a0%eb...</td>\n",
       "      <td>2020.10.19</td>\n",
       "      <td>['니트인데 슬리브만 연결된 니트라니.', '낯선 듯 익숙한 슬리브 니트는 오직 두...</td>\n",
       "      <td>0</td>\n",
       "      <td>0</td>\n",
       "    </tr>\n",
       "    <tr>\n",
       "      <th>13</th>\n",
       "      <td>V</td>\n",
       "      <td>L</td>\n",
       "      <td>Fashion</td>\n",
       "      <td>지금부터 가을까지 ‘만능템’! 베스트 모아보기</td>\n",
       "      <td>http://www.vogue.co.kr/2020/08/18/227976/</td>\n",
       "      <td>2020.08.18</td>\n",
       "      <td>['여름의 끝자락부터 가을까지! 옷장을 책임질 아이템이 있다면 단연 ‘베스트’입니다...</td>\n",
       "      <td>0</td>\n",
       "      <td>0</td>\n",
       "    </tr>\n",
       "    <tr>\n",
       "      <th>18</th>\n",
       "      <td>V</td>\n",
       "      <td>L</td>\n",
       "      <td>Fashion</td>\n",
       "      <td>셀럽이 열광하는 힙스터 브랜드는?</td>\n",
       "      <td>http://www.vogue.co.kr/2020/06/25/%ec%85%80%eb...</td>\n",
       "      <td>2020.06.25</td>\n",
       "      <td>['셀럽과 인플루언서의 SNS 피드를 휩쓸며 힙스터 맛집으로 떠오른 패션 브랜드가 ...</td>\n",
       "      <td>0</td>\n",
       "      <td>0</td>\n",
       "    </tr>\n",
       "    <tr>\n",
       "      <th>32</th>\n",
       "      <td>V</td>\n",
       "      <td>L</td>\n",
       "      <td>Fashion</td>\n",
       "      <td>몽중몽</td>\n",
       "      <td>http://www.vogue.co.kr/2020/02/26/%e5%a4%a2%e4...</td>\n",
       "      <td>2020.02.26</td>\n",
       "      <td>['물과 하늘 사이 이어지는 몽환적인 세계에 들어선 블랙핑크.', '‘블랙핑크’를 ...</td>\n",
       "      <td>0</td>\n",
       "      <td>0</td>\n",
       "    </tr>\n",
       "    <tr>\n",
       "      <th>58</th>\n",
       "      <td>V</td>\n",
       "      <td>L</td>\n",
       "      <td>Fashion</td>\n",
       "      <td>이제 곧 시작하는 4대 도시 패션 위크에서 주목할 만한 포인트 7가지 #VKFW20...</td>\n",
       "      <td>http://www.vogue.co.kr/2019/09/06/%ec%9d%b4%ec...</td>\n",
       "      <td>2019.09.06</td>\n",
       "      <td>['2020년 봄여름을 위한 컬렉션이 시작되었다. 뉴욕부터 런던, 밀라노를 거쳐 파...</td>\n",
       "      <td>0</td>\n",
       "      <td>0</td>\n",
       "    </tr>\n",
       "    <tr>\n",
       "      <th>64</th>\n",
       "      <td>V</td>\n",
       "      <td>L</td>\n",
       "      <td>Fashion</td>\n",
       "      <td>‘발볼 부자’가 추천하는 슈즈 브랜드</td>\n",
       "      <td>http://www.vogue.co.kr/2019/07/17/%eb%b0%9c%eb...</td>\n",
       "      <td>2019.07.17</td>\n",
       "      <td>['세상은 넓고 어여쁜 신발은 많다? 순전히 ‘섬섬옥족’에게 가당한 소리. 자칭 타...</td>\n",
       "      <td>0</td>\n",
       "      <td>0</td>\n",
       "    </tr>\n",
       "    <tr>\n",
       "      <th>93</th>\n",
       "      <td>V</td>\n",
       "      <td>L</td>\n",
       "      <td>Fashion</td>\n",
       "      <td>핑크 펑크</td>\n",
       "      <td>http://www.vogue.co.kr/2018/08/01/%ed%95%91%ed...</td>\n",
       "      <td>2018.08.01</td>\n",
       "      <td>['더 이상의 핑크는 필요 없다. 인간 핑크가 된 블랙핑크.', '블랙핑크로 팀 이...</td>\n",
       "      <td>0</td>\n",
       "      <td>0</td>\n",
       "    </tr>\n",
       "    <tr>\n",
       "      <th>96</th>\n",
       "      <td>V</td>\n",
       "      <td>L</td>\n",
       "      <td>Fashion</td>\n",
       "      <td>그 꽃무늬 드레스, 도대체 어디 거?</td>\n",
       "      <td>http://www.vogue.co.kr/2018/07/18/%ea%b7%b8-%e...</td>\n",
       "      <td>2018.07.18</td>\n",
       "      <td>['#백예린드레스로 국내에 수많은 ‘짝퉁 드레스’를 양산한 하늘하늘한 드레스!', ...</td>\n",
       "      <td>0</td>\n",
       "      <td>0</td>\n",
       "    </tr>\n",
       "    <tr>\n",
       "      <th>113</th>\n",
       "      <td>V</td>\n",
       "      <td>L</td>\n",
       "      <td>Fashion</td>\n",
       "      <td>Young, Wild &amp; Free</td>\n",
       "      <td>http://www.vogue.co.kr/2018/01/23/young-wild-f...</td>\n",
       "      <td>2018.01.23</td>\n",
       "      <td>['블랙 핑크 리사와 노나곤의 캡슐 컬렉션', '“무대뿐 아니라 일상에서도 입을 수...</td>\n",
       "      <td>0</td>\n",
       "      <td>0</td>\n",
       "    </tr>\n",
       "    <tr>\n",
       "      <th>133</th>\n",
       "      <td>V</td>\n",
       "      <td>L</td>\n",
       "      <td>Fashion</td>\n",
       "      <td>Yoon Ju</td>\n",
       "      <td>http://www.vogue.co.kr/2017/07/28/yoon-ju/</td>\n",
       "      <td>2017.07.28</td>\n",
       "      <td>['동양적 선과 한국의 색채로 응축된 서울 여자, 장윤주. 사진가 어윈 올라프의 뷰...</td>\n",
       "      <td>0</td>\n",
       "      <td>0</td>\n",
       "    </tr>\n",
       "  </tbody>\n",
       "</table>\n",
       "</div>"
      ],
      "text/plain": [
       "    magazine brand category  \\\n",
       "4          V     L  Fashion   \n",
       "13         V     L  Fashion   \n",
       "18         V     L  Fashion   \n",
       "32         V     L  Fashion   \n",
       "58         V     L  Fashion   \n",
       "64         V     L  Fashion   \n",
       "93         V     L  Fashion   \n",
       "96         V     L  Fashion   \n",
       "113        V     L  Fashion   \n",
       "133        V     L  Fashion   \n",
       "\n",
       "                                                 title  \\\n",
       "4                                      신박한 ‘슬리브 니트’의 멋   \n",
       "13                           지금부터 가을까지 ‘만능템’! 베스트 모아보기   \n",
       "18                                  셀럽이 열광하는 힙스터 브랜드는?   \n",
       "32                                                 몽중몽   \n",
       "58   이제 곧 시작하는 4대 도시 패션 위크에서 주목할 만한 포인트 7가지 #VKFW20...   \n",
       "64                                ‘발볼 부자’가 추천하는 슈즈 브랜드   \n",
       "93                                               핑크 펑크   \n",
       "96                                그 꽃무늬 드레스, 도대체 어디 거?   \n",
       "113                                 Young, Wild & Free   \n",
       "133                                            Yoon Ju   \n",
       "\n",
       "                                                  link        date  \\\n",
       "4    http://www.vogue.co.kr/2020/10/19/%ec%8b%a0%eb...  2020.10.19   \n",
       "13           http://www.vogue.co.kr/2020/08/18/227976/  2020.08.18   \n",
       "18   http://www.vogue.co.kr/2020/06/25/%ec%85%80%eb...  2020.06.25   \n",
       "32   http://www.vogue.co.kr/2020/02/26/%e5%a4%a2%e4...  2020.02.26   \n",
       "58   http://www.vogue.co.kr/2019/09/06/%ec%9d%b4%ec...  2019.09.06   \n",
       "64   http://www.vogue.co.kr/2019/07/17/%eb%b0%9c%eb...  2019.07.17   \n",
       "93   http://www.vogue.co.kr/2018/08/01/%ed%95%91%ed...  2018.08.01   \n",
       "96   http://www.vogue.co.kr/2018/07/18/%ea%b7%b8-%e...  2018.07.18   \n",
       "113  http://www.vogue.co.kr/2018/01/23/young-wild-f...  2018.01.23   \n",
       "133         http://www.vogue.co.kr/2017/07/28/yoon-ju/  2017.07.28   \n",
       "\n",
       "                                              contents  title_brand  check  \n",
       "4    ['니트인데 슬리브만 연결된 니트라니.', '낯선 듯 익숙한 슬리브 니트는 오직 두...            0      0  \n",
       "13   ['여름의 끝자락부터 가을까지! 옷장을 책임질 아이템이 있다면 단연 ‘베스트’입니다...            0      0  \n",
       "18   ['셀럽과 인플루언서의 SNS 피드를 휩쓸며 힙스터 맛집으로 떠오른 패션 브랜드가 ...            0      0  \n",
       "32   ['물과 하늘 사이 이어지는 몽환적인 세계에 들어선 블랙핑크.', '‘블랙핑크’를 ...            0      0  \n",
       "58   ['2020년 봄여름을 위한 컬렉션이 시작되었다. 뉴욕부터 런던, 밀라노를 거쳐 파...            0      0  \n",
       "64   ['세상은 넓고 어여쁜 신발은 많다? 순전히 ‘섬섬옥족’에게 가당한 소리. 자칭 타...            0      0  \n",
       "93   ['더 이상의 핑크는 필요 없다. 인간 핑크가 된 블랙핑크.', '블랙핑크로 팀 이...            0      0  \n",
       "96   ['#백예린드레스로 국내에 수많은 ‘짝퉁 드레스’를 양산한 하늘하늘한 드레스!', ...            0      0  \n",
       "113  ['블랙 핑크 리사와 노나곤의 캡슐 컬렉션', '“무대뿐 아니라 일상에서도 입을 수...            0      0  \n",
       "133  ['동양적 선과 한국의 색채로 응축된 서울 여자, 장윤주. 사진가 어윈 올라프의 뷰...            0      0  "
      ]
     },
     "execution_count": 122,
     "metadata": {},
     "output_type": "execute_result"
    }
   ],
   "source": [
    "V_L[(V_L['category'] == 'Fashion') & (V_L['check'] == 0)]"
   ]
  },
  {
   "cell_type": "code",
   "execution_count": 123,
   "metadata": {},
   "outputs": [
    {
     "name": "stdout",
     "output_type": "stream",
     "text": [
      "http://www.vogue.co.kr/2017/07/28/yoon-ju/\n"
     ]
    }
   ],
   "source": [
    "print(V_L.loc[133, 'link'])"
   ]
  },
  {
   "cell_type": "code",
   "execution_count": 124,
   "metadata": {},
   "outputs": [],
   "source": [
    "V_L.loc[[64,133], 'check'] = 2"
   ]
  },
  {
   "cell_type": "code",
   "execution_count": 125,
   "metadata": {},
   "outputs": [],
   "source": [
    "# 중간저장\n",
    "V_L.to_csv('./data/Vogue_LISA_df.csv' , sep='|', mode='w' , encoding='utf-8' , index=False)"
   ]
  },
  {
   "cell_type": "code",
   "execution_count": 126,
   "metadata": {
    "scrolled": true
   },
   "outputs": [
    {
     "data": {
      "text/html": [
       "<div>\n",
       "<style scoped>\n",
       "    .dataframe tbody tr th:only-of-type {\n",
       "        vertical-align: middle;\n",
       "    }\n",
       "\n",
       "    .dataframe tbody tr th {\n",
       "        vertical-align: top;\n",
       "    }\n",
       "\n",
       "    .dataframe thead th {\n",
       "        text-align: right;\n",
       "    }\n",
       "</style>\n",
       "<table border=\"1\" class=\"dataframe\">\n",
       "  <thead>\n",
       "    <tr style=\"text-align: right;\">\n",
       "      <th></th>\n",
       "      <th>magazine</th>\n",
       "      <th>brand</th>\n",
       "      <th>category</th>\n",
       "      <th>title</th>\n",
       "      <th>link</th>\n",
       "      <th>date</th>\n",
       "      <th>contents</th>\n",
       "      <th>title_brand</th>\n",
       "      <th>check</th>\n",
       "    </tr>\n",
       "  </thead>\n",
       "  <tbody>\n",
       "    <tr>\n",
       "      <th>0</th>\n",
       "      <td>V</td>\n",
       "      <td>L</td>\n",
       "      <td>Fashion</td>\n",
       "      <td>‘레이디 디올’ 백을 재탄생시킨 아티스트</td>\n",
       "      <td>http://www.vogue.co.kr/2020/12/08/%eb%a0%88%ec...</td>\n",
       "      <td>2020.12.08</td>\n",
       "      <td>['예술의 역할은 뭐라고 생각하나? 구글 검색기를 믿어보자면 ‘사람들의 의견을 바꾸...</td>\n",
       "      <td>0</td>\n",
       "      <td>2</td>\n",
       "    </tr>\n",
       "    <tr>\n",
       "      <th>1</th>\n",
       "      <td>V</td>\n",
       "      <td>L</td>\n",
       "      <td>Living</td>\n",
       "      <td>보그 가족사진관</td>\n",
       "      <td>http://www.vogue.co.kr/2020/11/27/%eb%b3%b4%ea...</td>\n",
       "      <td>2020.11.27</td>\n",
       "      <td>['힘들 때 우리를 위로하는 건 때로는 가족사진 한 장입니다. 가족사진은 우리 개개...</td>\n",
       "      <td>0</td>\n",
       "      <td>2</td>\n",
       "    </tr>\n",
       "    <tr>\n",
       "      <th>2</th>\n",
       "      <td>V</td>\n",
       "      <td>L</td>\n",
       "      <td>daily issue</td>\n",
       "      <td>&lt;프렌즈&gt; 특별판, 내년 3월 촬영 시작</td>\n",
       "      <td>http://www.vogue.co.kr/2020/11/13/%ed%94%84%eb...</td>\n",
       "      <td>2020.11.13</td>\n",
       "      <td>['전 세계에서 큰 인기를 얻었던 미국 시트콤 &lt;프렌즈&gt;. 미국 뉴욕에 사는 청춘 ...</td>\n",
       "      <td>0</td>\n",
       "      <td>2</td>\n",
       "    </tr>\n",
       "    <tr>\n",
       "      <th>3</th>\n",
       "      <td>V</td>\n",
       "      <td>L</td>\n",
       "      <td>daily issue</td>\n",
       "      <td>투톤 헤어가 잘 어울리는 스타 3인</td>\n",
       "      <td>http://www.vogue.co.kr/2020/10/20/%ed%88%ac%ed...</td>\n",
       "      <td>2020.10.20</td>\n",
       "      <td>['겨울이 오기 전에 심심한 헤어스타일에 드라마틱한 변화를 주고 싶다면, 투톤 헤어...</td>\n",
       "      <td>0</td>\n",
       "      <td>0</td>\n",
       "    </tr>\n",
       "    <tr>\n",
       "      <th>4</th>\n",
       "      <td>V</td>\n",
       "      <td>L</td>\n",
       "      <td>Fashion</td>\n",
       "      <td>신박한 ‘슬리브 니트’의 멋</td>\n",
       "      <td>http://www.vogue.co.kr/2020/10/19/%ec%8b%a0%eb...</td>\n",
       "      <td>2020.10.19</td>\n",
       "      <td>['니트인데 슬리브만 연결된 니트라니.', '낯선 듯 익숙한 슬리브 니트는 오직 두...</td>\n",
       "      <td>0</td>\n",
       "      <td>0</td>\n",
       "    </tr>\n",
       "    <tr>\n",
       "      <th>...</th>\n",
       "      <td>...</td>\n",
       "      <td>...</td>\n",
       "      <td>...</td>\n",
       "      <td>...</td>\n",
       "      <td>...</td>\n",
       "      <td>...</td>\n",
       "      <td>...</td>\n",
       "      <td>...</td>\n",
       "      <td>...</td>\n",
       "    </tr>\n",
       "    <tr>\n",
       "      <th>134</th>\n",
       "      <td>V</td>\n",
       "      <td>L</td>\n",
       "      <td>Living</td>\n",
       "      <td>여름 몸매를 위한 샐러드 레시피</td>\n",
       "      <td>http://www.vogue.co.kr/2017/07/18/%ed%86%b1%eb...</td>\n",
       "      <td>2017.07.18</td>\n",
       "      <td>['다음 주에 떠나는 여름휴가! 막바지 몸매 관리에 들어갔다면?\\n몸매 관리에 일가...</td>\n",
       "      <td>0</td>\n",
       "      <td>2</td>\n",
       "    </tr>\n",
       "    <tr>\n",
       "      <th>135</th>\n",
       "      <td>V</td>\n",
       "      <td>L</td>\n",
       "      <td>Fashion</td>\n",
       "      <td>온라인 쇼핑탐구생활 – Summer Earrings</td>\n",
       "      <td>http://www.vogue.co.kr/2017/07/18/%ec%98%a8%eb...</td>\n",
       "      <td>2017.07.18</td>\n",
       "      <td>['고요하고 서늘하고 사랑스러운 여름 귀고리.', ' ', '미 서부의 거칠고 원시...</td>\n",
       "      <td>0</td>\n",
       "      <td>2</td>\n",
       "    </tr>\n",
       "    <tr>\n",
       "      <th>136</th>\n",
       "      <td>V</td>\n",
       "      <td>L</td>\n",
       "      <td>Beauty</td>\n",
       "      <td>향기 나는 타투가 있다?</td>\n",
       "      <td>http://www.vogue.co.kr/2017/07/12/%ed%96%a5%ea...</td>\n",
       "      <td>2017.07.12</td>\n",
       "      <td>['타투 스탬프, 타투 스티커는 들어봤어도 향기 나는 타투는 처음이라고요? 꽃과 풀...</td>\n",
       "      <td>0</td>\n",
       "      <td>2</td>\n",
       "    </tr>\n",
       "    <tr>\n",
       "      <th>137</th>\n",
       "      <td>V</td>\n",
       "      <td>L</td>\n",
       "      <td>Living</td>\n",
       "      <td>전설의 고향</td>\n",
       "      <td>http://www.vogue.co.kr/2017/07/05/%ec%a0%84%ec...</td>\n",
       "      <td>2017.07.05</td>\n",
       "      <td>['쥐라산맥에서 사진가 배병우는 카메라의 셔터를 눌렀다. 모필에 먹과 물을 듬뿍 적...</td>\n",
       "      <td>0</td>\n",
       "      <td>2</td>\n",
       "    </tr>\n",
       "    <tr>\n",
       "      <th>138</th>\n",
       "      <td>V</td>\n",
       "      <td>L</td>\n",
       "      <td>Beauty</td>\n",
       "      <td>de Luxe</td>\n",
       "      <td>http://www.vogue.co.kr/2017/07/04/de-luxe/</td>\n",
       "      <td>2017.07.04</td>\n",
       "      <td>['‘럭셔리’, ‘하이엔드’라는 수식어 대신 ‘신뢰할 수 있는’이라는 작위를 얻어낸...</td>\n",
       "      <td>0</td>\n",
       "      <td>2</td>\n",
       "    </tr>\n",
       "  </tbody>\n",
       "</table>\n",
       "<p>139 rows × 9 columns</p>\n",
       "</div>"
      ],
      "text/plain": [
       "    magazine brand     category                         title  \\\n",
       "0          V     L      Fashion        ‘레이디 디올’ 백을 재탄생시킨 아티스트   \n",
       "1          V     L       Living                      보그 가족사진관   \n",
       "2          V     L  daily issue        <프렌즈> 특별판, 내년 3월 촬영 시작   \n",
       "3          V     L  daily issue           투톤 헤어가 잘 어울리는 스타 3인   \n",
       "4          V     L      Fashion               신박한 ‘슬리브 니트’의 멋   \n",
       "..       ...   ...          ...                           ...   \n",
       "134        V     L       Living             여름 몸매를 위한 샐러드 레시피   \n",
       "135        V     L      Fashion  온라인 쇼핑탐구생활 – Summer Earrings   \n",
       "136        V     L       Beauty                 향기 나는 타투가 있다?   \n",
       "137        V     L       Living                        전설의 고향   \n",
       "138        V     L       Beauty                       de Luxe   \n",
       "\n",
       "                                                  link        date  \\\n",
       "0    http://www.vogue.co.kr/2020/12/08/%eb%a0%88%ec...  2020.12.08   \n",
       "1    http://www.vogue.co.kr/2020/11/27/%eb%b3%b4%ea...  2020.11.27   \n",
       "2    http://www.vogue.co.kr/2020/11/13/%ed%94%84%eb...  2020.11.13   \n",
       "3    http://www.vogue.co.kr/2020/10/20/%ed%88%ac%ed...  2020.10.20   \n",
       "4    http://www.vogue.co.kr/2020/10/19/%ec%8b%a0%eb...  2020.10.19   \n",
       "..                                                 ...         ...   \n",
       "134  http://www.vogue.co.kr/2017/07/18/%ed%86%b1%eb...  2017.07.18   \n",
       "135  http://www.vogue.co.kr/2017/07/18/%ec%98%a8%eb...  2017.07.18   \n",
       "136  http://www.vogue.co.kr/2017/07/12/%ed%96%a5%ea...  2017.07.12   \n",
       "137  http://www.vogue.co.kr/2017/07/05/%ec%a0%84%ec...  2017.07.05   \n",
       "138         http://www.vogue.co.kr/2017/07/04/de-luxe/  2017.07.04   \n",
       "\n",
       "                                              contents  title_brand  check  \n",
       "0    ['예술의 역할은 뭐라고 생각하나? 구글 검색기를 믿어보자면 ‘사람들의 의견을 바꾸...            0      2  \n",
       "1    ['힘들 때 우리를 위로하는 건 때로는 가족사진 한 장입니다. 가족사진은 우리 개개...            0      2  \n",
       "2    ['전 세계에서 큰 인기를 얻었던 미국 시트콤 <프렌즈>. 미국 뉴욕에 사는 청춘 ...            0      2  \n",
       "3    ['겨울이 오기 전에 심심한 헤어스타일에 드라마틱한 변화를 주고 싶다면, 투톤 헤어...            0      0  \n",
       "4    ['니트인데 슬리브만 연결된 니트라니.', '낯선 듯 익숙한 슬리브 니트는 오직 두...            0      0  \n",
       "..                                                 ...          ...    ...  \n",
       "134  ['다음 주에 떠나는 여름휴가! 막바지 몸매 관리에 들어갔다면?\\n몸매 관리에 일가...            0      2  \n",
       "135  ['고요하고 서늘하고 사랑스러운 여름 귀고리.', ' ', '미 서부의 거칠고 원시...            0      2  \n",
       "136  ['타투 스탬프, 타투 스티커는 들어봤어도 향기 나는 타투는 처음이라고요? 꽃과 풀...            0      2  \n",
       "137  ['쥐라산맥에서 사진가 배병우는 카메라의 셔터를 눌렀다. 모필에 먹과 물을 듬뿍 적...            0      2  \n",
       "138  ['‘럭셔리’, ‘하이엔드’라는 수식어 대신 ‘신뢰할 수 있는’이라는 작위를 얻어낸...            0      2  \n",
       "\n",
       "[139 rows x 9 columns]"
      ]
     },
     "execution_count": 126,
     "metadata": {},
     "output_type": "execute_result"
    }
   ],
   "source": [
    "V_L = pd.read_csv('./data/Vogue_LISA_df.csv' , sep='|', encoding='utf-8')\n",
    "V_L"
   ]
  },
  {
   "cell_type": "code",
   "execution_count": 128,
   "metadata": {
    "scrolled": true
   },
   "outputs": [
    {
     "data": {
      "text/plain": [
       "16"
      ]
     },
     "execution_count": 128,
     "metadata": {},
     "output_type": "execute_result"
    }
   ],
   "source": [
    "len(V_L[V_L['check'] != 2])"
   ]
  },
  {
   "cell_type": "code",
   "execution_count": null,
   "metadata": {},
   "outputs": [],
   "source": []
  }
 ],
 "metadata": {
  "kernelspec": {
   "display_name": "Python 3",
   "language": "python",
   "name": "python3"
  },
  "language_info": {
   "codemirror_mode": {
    "name": "ipython",
    "version": 3
   },
   "file_extension": ".py",
   "mimetype": "text/x-python",
   "name": "python",
   "nbconvert_exporter": "python",
   "pygments_lexer": "ipython3",
   "version": "3.8.3"
  }
 },
 "nbformat": 4,
 "nbformat_minor": 4
}
