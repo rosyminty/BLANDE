{
 "cells": [
  {
   "cell_type": "code",
   "execution_count": 1,
   "metadata": {},
   "outputs": [],
   "source": [
    "import pandas as pd\n",
    "import numpy as np"
   ]
  },
  {
   "cell_type": "code",
   "execution_count": 2,
   "metadata": {},
   "outputs": [],
   "source": [
    "a_di_dw = pd.read_csv('./data/d/a_di_dw.csv' , sep='|', encoding='utf-8')\n",
    "c_di_dw = pd.read_csv('./data/d/c_di_dw.csv' , sep='|', encoding='utf-8')\n",
    "b_di_dw = pd.read_csv('./data/d/b_di_dw.csv' , sep='|', encoding='utf-8')\n",
    "e_di_dw = pd.read_csv('./data/d/e_di_dw.csv' , sep='|', encoding='utf-8')\n",
    "fb_di_dw = pd.read_csv('./data/d/fb_di_dw.csv' , sep='|', encoding='utf-8')\n",
    "fn_di_dw = pd.read_csv('./data/d/fn_di_dw.csv' , sep='|', encoding='utf-8')\n",
    "m_di_dw = pd.read_csv('./data/d/m_di_dw.csv' , sep='|', encoding='utf-8')\n",
    "v_di_dw = pd.read_csv('./data/d/v_di_dw.csv' , sep='|', encoding='utf-8')\n",
    "w_di_dw = pd.read_csv('./data/d/w_di_dw.csv' , sep='|', encoding='utf-8')"
   ]
  },
  {
   "cell_type": "code",
   "execution_count": null,
   "metadata": {},
   "outputs": [],
   "source": []
  }
 ],
 "metadata": {
  "kernelspec": {
   "display_name": "Python 3",
   "language": "python",
   "name": "python3"
  },
  "language_info": {
   "codemirror_mode": {
    "name": "ipython",
    "version": 3
   },
   "file_extension": ".py",
   "mimetype": "text/x-python",
   "name": "python",
   "nbconvert_exporter": "python",
   "pygments_lexer": "ipython3",
   "version": "3.7.6"
  }
 },
 "nbformat": 4,
 "nbformat_minor": 4
}
