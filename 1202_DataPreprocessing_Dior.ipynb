{
 "cells": [
  {
   "cell_type": "code",
   "execution_count": 1,
   "metadata": {},
   "outputs": [],
   "source": [
    "import pandas as pd\n",
    "import numpy as np"
   ]
  },
  {
   "cell_type": "markdown",
   "metadata": {},
   "source": [
    "## load files"
   ]
  },
  {
   "cell_type": "code",
   "execution_count": 2,
   "metadata": {},
   "outputs": [],
   "source": [
    "a_di = pd.read_csv('./data/d/a_di.csv' , sep='|', encoding='utf-8')\n",
    "b_di = pd.read_csv('./data/d/b_di.csv' , sep='|', encoding='utf-8')\n",
    "c_di = pd.read_csv('./data/d/c_di.csv' , sep='|', encoding='utf-8')\n",
    "e_di = pd.read_csv('./data/d/e_di.csv' , sep='|', encoding='utf-8')\n",
    "fb_di = pd.read_csv('./data/d/fb_di.csv' , sep='|', encoding='utf-8')\n",
    "fn_di = pd.read_csv('./data/d/fn_di.csv' , sep='|', encoding='utf-8')\n",
    "m_di = pd.read_csv('./data/d/m_di.csv' , sep='|', encoding='utf-8')\n",
    "v_di = pd.read_csv('./data/d/v_di.csv' , sep='|', encoding='utf-8')\n",
    "w_di = pd.read_csv('./data/d/w_di.csv' , sep='|', encoding='utf-8')"
   ]
  },
  {
   "cell_type": "code",
   "execution_count": 4,
   "metadata": {},
   "outputs": [],
   "source": [
    "a_di_d = a_di[a_di['check'] != 2]\n",
    "c_di_d = c_di[c_di['check'] != 2]\n",
    "b_di_d = b_di[b_di['check'] != 2]\n",
    "e_di_d = e_di[e_di['check'] != 2]\n",
    "fb_di_d = fb_di[fb_di['check'] != 2]\n",
    "fn_di_d = fn_di[fn_di['check'] != 2]\n",
    "m_di_d = m_di[m_di['check'] != 2]\n",
    "v_di_d = v_di[v_di['check'] != 2]\n",
    "w_di_d = w_di[w_di['check'] != 2]"
   ]
  },
  {
   "cell_type": "code",
   "execution_count": null,
   "metadata": {},
   "outputs": [],
   "source": []
  }
 ],
 "metadata": {
  "kernelspec": {
   "display_name": "Python 3",
   "language": "python",
   "name": "python3"
  },
  "language_info": {
   "codemirror_mode": {
    "name": "ipython",
    "version": 3
   },
   "file_extension": ".py",
   "mimetype": "text/x-python",
   "name": "python",
   "nbconvert_exporter": "python",
   "pygments_lexer": "ipython3",
   "version": "3.7.6"
  }
 },
 "nbformat": 4,
 "nbformat_minor": 4
}
