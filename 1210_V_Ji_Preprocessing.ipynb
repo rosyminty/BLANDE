{
 "cells": [
  {
   "cell_type": "code",
   "execution_count": 1,
   "metadata": {},
   "outputs": [],
   "source": [
    "import pandas as pd\n",
    "import numpy as np"
   ]
  },
  {
   "cell_type": "code",
   "execution_count": 2,
   "metadata": {
    "collapsed": true
   },
   "outputs": [
    {
     "data": {
      "text/html": [
       "<div>\n",
       "<style scoped>\n",
       "    .dataframe tbody tr th:only-of-type {\n",
       "        vertical-align: middle;\n",
       "    }\n",
       "\n",
       "    .dataframe tbody tr th {\n",
       "        vertical-align: top;\n",
       "    }\n",
       "\n",
       "    .dataframe thead th {\n",
       "        text-align: right;\n",
       "    }\n",
       "</style>\n",
       "<table border=\"1\" class=\"dataframe\">\n",
       "  <thead>\n",
       "    <tr style=\"text-align: right;\">\n",
       "      <th></th>\n",
       "      <th>magazine</th>\n",
       "      <th>brand</th>\n",
       "      <th>category</th>\n",
       "      <th>title</th>\n",
       "      <th>link</th>\n",
       "      <th>date</th>\n",
       "      <th>contents</th>\n",
       "      <th>title_brand</th>\n",
       "      <th>check</th>\n",
       "    </tr>\n",
       "  </thead>\n",
       "  <tbody>\n",
       "    <tr>\n",
       "      <th>0</th>\n",
       "      <td>V</td>\n",
       "      <td>Ji</td>\n",
       "      <td>Living</td>\n",
       "      <td>사계절의 이슈 스무 가지 #1</td>\n",
       "      <td>http://www.vogue.co.kr/2020/11/24/%ec%82%ac%ea...</td>\n",
       "      <td>2020.11.24</td>\n",
       "      <td>['세상의 대격변, 일상을 지키며 맞은 한반도의 변화. 그 사계절의 이슈 스무 가지...</td>\n",
       "      <td>0</td>\n",
       "      <td>0</td>\n",
       "    </tr>\n",
       "    <tr>\n",
       "      <th>1</th>\n",
       "      <td>V</td>\n",
       "      <td>Ji</td>\n",
       "      <td>Beauty</td>\n",
       "      <td>Hot!</td>\n",
       "      <td>http://www.vogue.co.kr/2020/11/14/hot/</td>\n",
       "      <td>2020.11.14</td>\n",
       "      <td>['한국인의 자존심!', '매운맛이 생각지 못한 소식으로 뉴스에 올랐습니다. 그 주...</td>\n",
       "      <td>0</td>\n",
       "      <td>0</td>\n",
       "    </tr>\n",
       "    <tr>\n",
       "      <th>2</th>\n",
       "      <td>V</td>\n",
       "      <td>Ji</td>\n",
       "      <td>Beauty</td>\n",
       "      <td>#IAMLIBRE</td>\n",
       "      <td>http://www.vogue.co.kr/2020/11/01/232989/</td>\n",
       "      <td>2020.11.01</td>\n",
       "      <td>['', '이브 생 로랑(Yves Saint Laurent)은 우리 여자들에게 자유...</td>\n",
       "      <td>0</td>\n",
       "      <td>0</td>\n",
       "    </tr>\n",
       "    <tr>\n",
       "      <th>3</th>\n",
       "      <td>V</td>\n",
       "      <td>Ji</td>\n",
       "      <td>Fashion</td>\n",
       "      <td>내일이 궁금한 여자 뮤지션 3인</td>\n",
       "      <td>http://www.vogue.co.kr/2020/09/25/%eb%82%b4%ec...</td>\n",
       "      <td>2020.09.25</td>\n",
       "      <td>['음악 하는 예술가, 부러 어긋나는 개척자, 가장 나다운 나.', '나는. 살아 ...</td>\n",
       "      <td>0</td>\n",
       "      <td>0</td>\n",
       "    </tr>\n",
       "    <tr>\n",
       "      <th>4</th>\n",
       "      <td>V</td>\n",
       "      <td>Ji</td>\n",
       "      <td>daily issue</td>\n",
       "      <td>블랙핑크 지수, 드라마 첫 주연</td>\n",
       "      <td>http://www.vogue.co.kr/2020/08/18/%eb%b8%94%eb...</td>\n",
       "      <td>2020.08.18</td>\n",
       "      <td>['걸 그룹 블랙핑크 지수가 드라마에 본격적으로 도전장을 내밉니다.', '', '지...</td>\n",
       "      <td>1</td>\n",
       "      <td>1</td>\n",
       "    </tr>\n",
       "    <tr>\n",
       "      <th>...</th>\n",
       "      <td>...</td>\n",
       "      <td>...</td>\n",
       "      <td>...</td>\n",
       "      <td>...</td>\n",
       "      <td>...</td>\n",
       "      <td>...</td>\n",
       "      <td>...</td>\n",
       "      <td>...</td>\n",
       "      <td>...</td>\n",
       "    </tr>\n",
       "    <tr>\n",
       "      <th>154</th>\n",
       "      <td>V</td>\n",
       "      <td>Ji</td>\n",
       "      <td>Fashion</td>\n",
       "      <td>Super 5 in SEOUL – ⑤ Clare Waight Keller (클레어 ...</td>\n",
       "      <td>http://www.vogue.co.kr/2016/08/04/super-5-in-s...</td>\n",
       "      <td>2016.08.04</td>\n",
       "      <td>['패션계는 패션의 미래를 이끌 마켓으로 상하이와 도쿄가 아닌 서울을 지목했다. 그...</td>\n",
       "      <td>0</td>\n",
       "      <td>0</td>\n",
       "    </tr>\n",
       "    <tr>\n",
       "      <th>155</th>\n",
       "      <td>V</td>\n",
       "      <td>Ji</td>\n",
       "      <td>Fashion</td>\n",
       "      <td>Super 5 in SEOUL – ③ Stuart Vevers (스튜어트 베버스)</td>\n",
       "      <td>http://www.vogue.co.kr/2016/08/02/super-5-in-s...</td>\n",
       "      <td>2016.08.02</td>\n",
       "      <td>['패션계는 패션의 미래를 이끌 마켓으로 상하이와 도쿄가 아닌 서울을 지목했다. 그...</td>\n",
       "      <td>0</td>\n",
       "      <td>0</td>\n",
       "    </tr>\n",
       "    <tr>\n",
       "      <th>156</th>\n",
       "      <td>V</td>\n",
       "      <td>Ji</td>\n",
       "      <td>Beauty</td>\n",
       "      <td>BEAUTY AND THE BEST – ⑦ CHARLOTTE CHO</td>\n",
       "      <td>http://www.vogue.co.kr/2016/08/01/beauty-and-t...</td>\n",
       "      <td>2016.08.01</td>\n",
       "      <td>['한국식 뷰티 루틴에 따라 피부를 가꾸고 ‘메이드 인 코리아’ 제품만 골라 쓰는 ...</td>\n",
       "      <td>0</td>\n",
       "      <td>0</td>\n",
       "    </tr>\n",
       "    <tr>\n",
       "      <th>157</th>\n",
       "      <td>V</td>\n",
       "      <td>Ji</td>\n",
       "      <td>Beauty</td>\n",
       "      <td>바캉스 대비 작전</td>\n",
       "      <td>http://www.vogue.co.kr/2016/07/19/%eb%b0%94%ec...</td>\n",
       "      <td>2016.07.19</td>\n",
       "      <td>[]</td>\n",
       "      <td>0</td>\n",
       "      <td>0</td>\n",
       "    </tr>\n",
       "    <tr>\n",
       "      <th>158</th>\n",
       "      <td>V</td>\n",
       "      <td>Ji</td>\n",
       "      <td>Fashion</td>\n",
       "      <td>#스타의옷장 #여름 모자</td>\n",
       "      <td>http://www.vogue.co.kr/2016/07/15/%ec%8a%a4%ed...</td>\n",
       "      <td>2016.07.15</td>\n",
       "      <td>['셀러브리티들의 평상시 스타일을 통해 알아본, 가장 핫한 패션 트렌드!\\n그 열두...</td>\n",
       "      <td>0</td>\n",
       "      <td>0</td>\n",
       "    </tr>\n",
       "  </tbody>\n",
       "</table>\n",
       "<p>159 rows × 9 columns</p>\n",
       "</div>"
      ],
      "text/plain": [
       "    magazine brand     category  \\\n",
       "0          V    Ji       Living   \n",
       "1          V    Ji       Beauty   \n",
       "2          V    Ji       Beauty   \n",
       "3          V    Ji      Fashion   \n",
       "4          V    Ji  daily issue   \n",
       "..       ...   ...          ...   \n",
       "154        V    Ji      Fashion   \n",
       "155        V    Ji      Fashion   \n",
       "156        V    Ji       Beauty   \n",
       "157        V    Ji       Beauty   \n",
       "158        V    Ji      Fashion   \n",
       "\n",
       "                                                 title  \\\n",
       "0                                     사계절의 이슈 스무 가지 #1   \n",
       "1                                                 Hot!   \n",
       "2                                            #IAMLIBRE   \n",
       "3                                    내일이 궁금한 여자 뮤지션 3인   \n",
       "4                                    블랙핑크 지수, 드라마 첫 주연   \n",
       "..                                                 ...   \n",
       "154  Super 5 in SEOUL – ⑤ Clare Waight Keller (클레어 ...   \n",
       "155      Super 5 in SEOUL – ③ Stuart Vevers (스튜어트 베버스)   \n",
       "156              BEAUTY AND THE BEST – ⑦ CHARLOTTE CHO   \n",
       "157                                          바캉스 대비 작전   \n",
       "158                                      #스타의옷장 #여름 모자   \n",
       "\n",
       "                                                  link        date  \\\n",
       "0    http://www.vogue.co.kr/2020/11/24/%ec%82%ac%ea...  2020.11.24   \n",
       "1               http://www.vogue.co.kr/2020/11/14/hot/  2020.11.14   \n",
       "2            http://www.vogue.co.kr/2020/11/01/232989/  2020.11.01   \n",
       "3    http://www.vogue.co.kr/2020/09/25/%eb%82%b4%ec...  2020.09.25   \n",
       "4    http://www.vogue.co.kr/2020/08/18/%eb%b8%94%eb...  2020.08.18   \n",
       "..                                                 ...         ...   \n",
       "154  http://www.vogue.co.kr/2016/08/04/super-5-in-s...  2016.08.04   \n",
       "155  http://www.vogue.co.kr/2016/08/02/super-5-in-s...  2016.08.02   \n",
       "156  http://www.vogue.co.kr/2016/08/01/beauty-and-t...  2016.08.01   \n",
       "157  http://www.vogue.co.kr/2016/07/19/%eb%b0%94%ec...  2016.07.19   \n",
       "158  http://www.vogue.co.kr/2016/07/15/%ec%8a%a4%ed...  2016.07.15   \n",
       "\n",
       "                                              contents  title_brand  check  \n",
       "0    ['세상의 대격변, 일상을 지키며 맞은 한반도의 변화. 그 사계절의 이슈 스무 가지...            0      0  \n",
       "1    ['한국인의 자존심!', '매운맛이 생각지 못한 소식으로 뉴스에 올랐습니다. 그 주...            0      0  \n",
       "2    ['', '이브 생 로랑(Yves Saint Laurent)은 우리 여자들에게 자유...            0      0  \n",
       "3    ['음악 하는 예술가, 부러 어긋나는 개척자, 가장 나다운 나.', '나는. 살아 ...            0      0  \n",
       "4    ['걸 그룹 블랙핑크 지수가 드라마에 본격적으로 도전장을 내밉니다.', '', '지...            1      1  \n",
       "..                                                 ...          ...    ...  \n",
       "154  ['패션계는 패션의 미래를 이끌 마켓으로 상하이와 도쿄가 아닌 서울을 지목했다. 그...            0      0  \n",
       "155  ['패션계는 패션의 미래를 이끌 마켓으로 상하이와 도쿄가 아닌 서울을 지목했다. 그...            0      0  \n",
       "156  ['한국식 뷰티 루틴에 따라 피부를 가꾸고 ‘메이드 인 코리아’ 제품만 골라 쓰는 ...            0      0  \n",
       "157                                                 []            0      0  \n",
       "158  ['셀러브리티들의 평상시 스타일을 통해 알아본, 가장 핫한 패션 트렌드!\\n그 열두...            0      0  \n",
       "\n",
       "[159 rows x 9 columns]"
      ]
     },
     "execution_count": 2,
     "metadata": {},
     "output_type": "execute_result"
    }
   ],
   "source": [
    "V_Ji = pd.read_csv('./data/Vogue_JISOO_df.csv' , sep='|', encoding='utf-8')\n",
    "V_Ji"
   ]
  },
  {
   "cell_type": "markdown",
   "metadata": {},
   "source": [
    "### 크롤링 부재한 아이들 채우기"
   ]
  },
  {
   "cell_type": "code",
   "execution_count": 3,
   "metadata": {},
   "outputs": [
    {
     "name": "stdout",
     "output_type": "stream",
     "text": [
      "[157]\n",
      "1\n"
     ]
    }
   ],
   "source": [
    "# contents가 공백인 애들 다시 지정\n",
    "cblank = []\n",
    "for i in range(len(V_Ji)) :\n",
    "    if V_Ji['contents'][i] == '[]' :    \n",
    "        cblank.append(i)\n",
    "print(cblank)\n",
    "print(len(cblank))"
   ]
  },
  {
   "cell_type": "code",
   "execution_count": 4,
   "metadata": {},
   "outputs": [
    {
     "name": "stdout",
     "output_type": "stream",
     "text": [
      "http://www.vogue.co.kr/2016/07/19/%eb%b0%94%ec%ba%89%ec%8a%a4-%eb%8c%80%eb%b9%84-%ec%9e%91%ec%a0%84/\n"
     ]
    }
   ],
   "source": [
    "print(V_Ji.loc[157, 'link'])"
   ]
  },
  {
   "cell_type": "code",
   "execution_count": 5,
   "metadata": {},
   "outputs": [],
   "source": [
    "V_Ji.loc[157,'check'] = 2"
   ]
  },
  {
   "cell_type": "markdown",
   "metadata": {},
   "source": [
    "### 지수 외 다른 이름 지우기"
   ]
  },
  {
   "cell_type": "code",
   "execution_count": 8,
   "metadata": {},
   "outputs": [
    {
     "name": "stdout",
     "output_type": "stream",
     "text": [
      "0\n"
     ]
    }
   ],
   "source": [
    "nidx = []\n",
    "for i in range(len(V_Ji)) :\n",
    "    if 'pH 지수' in V_Ji['contents'][i] :\n",
    "        V_Ji.loc[i, 'check'] = 2\n",
    "        nidx.append(i)\n",
    "print(len(nidx))"
   ]
  },
  {
   "cell_type": "code",
   "execution_count": 11,
   "metadata": {},
   "outputs": [
    {
     "name": "stdout",
     "output_type": "stream",
     "text": [
      "0\n"
     ]
    }
   ],
   "source": [
    "nidx = []\n",
    "for i in range(len(V_Ji)) :\n",
    "    if '지수 장' in V_Ji['contents'][i] :\n",
    "        V_Ji.loc[i, 'check'] = 2\n",
    "        nidx.append(i)\n",
    "print(len(nidx))"
   ]
  },
  {
   "cell_type": "code",
   "execution_count": 13,
   "metadata": {},
   "outputs": [
    {
     "name": "stdout",
     "output_type": "stream",
     "text": [
      "1\n"
     ]
    }
   ],
   "source": [
    "nidx = []\n",
    "for i in range(len(V_Ji)) :\n",
    "    if '스타일링 지수' in V_Ji['contents'][i] :\n",
    "        V_Ji.loc[i, 'check'] = 2\n",
    "        nidx.append(i)\n",
    "print(len(nidx))"
   ]
  },
  {
   "cell_type": "code",
   "execution_count": 15,
   "metadata": {},
   "outputs": [
    {
     "name": "stdout",
     "output_type": "stream",
     "text": [
      "8\n"
     ]
    }
   ],
   "source": [
    "nidx = []\n",
    "for i in range(len(V_Ji)) :\n",
    "    if '혈당 지수' in V_Ji['contents'][i] :\n",
    "        V_Ji.loc[i, 'check'] = 2\n",
    "        nidx.append(i)\n",
    "print(len(nidx))"
   ]
  },
  {
   "cell_type": "code",
   "execution_count": 17,
   "metadata": {},
   "outputs": [
    {
     "name": "stdout",
     "output_type": "stream",
     "text": [
      "9\n"
     ]
    }
   ],
   "source": [
    "nidx = []\n",
    "for i in range(len(V_Ji)) :\n",
    "    if '스트레스 지수' in V_Ji['contents'][i] :\n",
    "        V_Ji.loc[i, 'check'] = 2\n",
    "        nidx.append(i)\n",
    "print(len(nidx))"
   ]
  },
  {
   "cell_type": "code",
   "execution_count": 19,
   "metadata": {},
   "outputs": [
    {
     "name": "stdout",
     "output_type": "stream",
     "text": [
      "6\n"
     ]
    }
   ],
   "source": [
    "nidx = []\n",
    "for i in range(len(V_Ji)) :\n",
    "    if '불쾌지수' in V_Ji['contents'][i] :\n",
    "        V_Ji.loc[i, 'check'] = 2\n",
    "        nidx.append(i)\n",
    "print(len(nidx))"
   ]
  },
  {
   "cell_type": "code",
   "execution_count": 22,
   "metadata": {},
   "outputs": [
    {
     "name": "stdout",
     "output_type": "stream",
     "text": [
      "0\n"
     ]
    }
   ],
   "source": [
    "nidx = []\n",
    "for i in range(len(V_Ji)) :\n",
    "    if '매너 지수' in V_Ji['contents'][i] :\n",
    "        V_Ji.loc[i, 'check'] = 2\n",
    "        nidx.append(i)\n",
    "print(len(nidx))"
   ]
  },
  {
   "cell_type": "code",
   "execution_count": 29,
   "metadata": {},
   "outputs": [
    {
     "name": "stdout",
     "output_type": "stream",
     "text": [
      "1\n"
     ]
    }
   ],
   "source": [
    "nidx = []\n",
    "for i in range(len(V_Ji)) :\n",
    "    if '항산화 지수' in V_Ji['contents'][i] :\n",
    "        V_Ji.loc[i, 'check'] = 2\n",
    "        nidx.append(i)\n",
    "print(len(nidx))"
   ]
  },
  {
   "cell_type": "code",
   "execution_count": 34,
   "metadata": {},
   "outputs": [
    {
     "name": "stdout",
     "output_type": "stream",
     "text": [
      "1\n"
     ]
    }
   ],
   "source": [
    "nidx = []\n",
    "for i in range(len(V_Ji)) :\n",
    "    if '홍지수' in V_Ji['contents'][i] :\n",
    "        V_Ji.loc[i, 'check'] = 2\n",
    "        nidx.append(i)\n",
    "print(len(nidx))"
   ]
  },
  {
   "cell_type": "code",
   "execution_count": 36,
   "metadata": {},
   "outputs": [
    {
     "name": "stdout",
     "output_type": "stream",
     "text": [
      "4\n"
     ]
    }
   ],
   "source": [
    "nidx = []\n",
    "for i in range(len(V_Ji)) :\n",
    "    if '백지수' in V_Ji['contents'][i] :\n",
    "        V_Ji.loc[i, 'check'] = 2\n",
    "        nidx.append(i)\n",
    "print(len(nidx))"
   ]
  },
  {
   "cell_type": "code",
   "execution_count": 40,
   "metadata": {},
   "outputs": [
    {
     "name": "stdout",
     "output_type": "stream",
     "text": [
      "13\n"
     ]
    }
   ],
   "source": [
    "nidx = []\n",
    "for i in range(len(V_Ji)) :\n",
    "    if '미지수' in V_Ji['contents'][i] :\n",
    "        V_Ji.loc[i, 'check'] = 2\n",
    "        nidx.append(i)\n",
    "print(len(nidx))"
   ]
  },
  {
   "cell_type": "code",
   "execution_count": 45,
   "metadata": {},
   "outputs": [
    {
     "name": "stdout",
     "output_type": "stream",
     "text": [
      "2\n"
     ]
    }
   ],
   "source": [
    "nidx = []\n",
    "for i in range(len(V_Ji)) :\n",
    "    if '체질량 지수' in V_Ji['contents'][i] :\n",
    "        V_Ji.loc[i, 'check'] = 2\n",
    "        nidx.append(i)\n",
    "print(len(nidx))"
   ]
  },
  {
   "cell_type": "code",
   "execution_count": 51,
   "metadata": {},
   "outputs": [
    {
     "name": "stdout",
     "output_type": "stream",
     "text": [
      "2\n"
     ]
    }
   ],
   "source": [
    "nidx = []\n",
    "for i in range(len(V_Ji)) :\n",
    "    if '서지수' in V_Ji['contents'][i] :\n",
    "        V_Ji.loc[i, 'check'] = 2\n",
    "        nidx.append(i)\n",
    "print(len(nidx))"
   ]
  },
  {
   "cell_type": "code",
   "execution_count": null,
   "metadata": {},
   "outputs": [],
   "source": []
  },
  {
   "cell_type": "code",
   "execution_count": null,
   "metadata": {},
   "outputs": [],
   "source": []
  },
  {
   "cell_type": "code",
   "execution_count": null,
   "metadata": {},
   "outputs": [],
   "source": []
  },
  {
   "cell_type": "markdown",
   "metadata": {},
   "source": [
    "### 본문에 지수 없으면 지우기"
   ]
  },
  {
   "cell_type": "code",
   "execution_count": 9,
   "metadata": {
    "scrolled": true
   },
   "outputs": [
    {
     "name": "stdout",
     "output_type": "stream",
     "text": [
      "3\n",
      "23\n",
      "43\n",
      "55\n",
      "61\n",
      "62\n",
      "63\n",
      "64\n",
      "65\n",
      "67\n",
      "77\n",
      "81\n",
      "84\n",
      "87\n",
      "90\n",
      "91\n",
      "93\n",
      "97\n",
      "98\n",
      "101\n",
      "102\n",
      "117\n",
      "121\n",
      "124\n",
      "125\n",
      "126\n",
      "128\n",
      "138\n",
      "140\n",
      "141\n",
      "144\n",
      "148\n",
      "157\n",
      "158\n"
     ]
    }
   ],
   "source": [
    "for i in range(len(V_Ji)):\n",
    "    if not '지수' in V_Ji['contents'][i] :\n",
    "        V_Ji.loc[i, 'check'] = 2\n",
    "        print(i)"
   ]
  },
  {
   "cell_type": "code",
   "execution_count": 21,
   "metadata": {},
   "outputs": [
    {
     "name": "stdout",
     "output_type": "stream",
     "text": [
      "http://www.vogue.co.kr/2018/10/09/%eb%8b%b9%ec%8b%a0%ec%9d%b4-%ec%9d%b4%ec%84%b1%ed%95%9c%ed%85%8c-%ed%87%b4%ec%a7%9c%eb%a7%9e%eb%8a%94-%ec%9d%b4%ec%9c%a0/\n"
     ]
    }
   ],
   "source": [
    "print(V_Ji.loc[63, 'link'])"
   ]
  },
  {
   "cell_type": "markdown",
   "metadata": {},
   "source": [
    "### 카테고리로 확인"
   ]
  },
  {
   "cell_type": "code",
   "execution_count": 23,
   "metadata": {},
   "outputs": [
    {
     "data": {
      "text/plain": [
       "array(['Living', 'Beauty', 'Fashion', 'daily issue', 'People',\n",
       "       'ADVERTORIAL'], dtype=object)"
      ]
     },
     "execution_count": 23,
     "metadata": {},
     "output_type": "execute_result"
    }
   ],
   "source": [
    "# category 종류\n",
    "V_Ji['category'].unique()"
   ]
  },
  {
   "cell_type": "code",
   "execution_count": 24,
   "metadata": {},
   "outputs": [
    {
     "data": {
      "text/plain": [
       "Beauty         70\n",
       "Living         40\n",
       "Fashion        30\n",
       "daily issue    14\n",
       "People          4\n",
       "ADVERTORIAL     1\n",
       "Name: category, dtype: int64"
      ]
     },
     "execution_count": 24,
     "metadata": {},
     "output_type": "execute_result"
    }
   ],
   "source": [
    "# category별 개수\n",
    "V_Ji['category'].value_counts()"
   ]
  },
  {
   "cell_type": "code",
   "execution_count": 30,
   "metadata": {},
   "outputs": [
    {
     "data": {
      "text/html": [
       "<div>\n",
       "<style scoped>\n",
       "    .dataframe tbody tr th:only-of-type {\n",
       "        vertical-align: middle;\n",
       "    }\n",
       "\n",
       "    .dataframe tbody tr th {\n",
       "        vertical-align: top;\n",
       "    }\n",
       "\n",
       "    .dataframe thead th {\n",
       "        text-align: right;\n",
       "    }\n",
       "</style>\n",
       "<table border=\"1\" class=\"dataframe\">\n",
       "  <thead>\n",
       "    <tr style=\"text-align: right;\">\n",
       "      <th></th>\n",
       "      <th>magazine</th>\n",
       "      <th>brand</th>\n",
       "      <th>category</th>\n",
       "      <th>title</th>\n",
       "      <th>link</th>\n",
       "      <th>date</th>\n",
       "      <th>contents</th>\n",
       "      <th>title_brand</th>\n",
       "      <th>check</th>\n",
       "    </tr>\n",
       "  </thead>\n",
       "  <tbody>\n",
       "  </tbody>\n",
       "</table>\n",
       "</div>"
      ],
      "text/plain": [
       "Empty DataFrame\n",
       "Columns: [magazine, brand, category, title, link, date, contents, title_brand, check]\n",
       "Index: []"
      ]
     },
     "execution_count": 30,
     "metadata": {},
     "output_type": "execute_result"
    }
   ],
   "source": [
    "V_Ji[(V_Ji['category'] == 'ADVERTORIAL') & (V_Ji['check'] != 2)]"
   ]
  },
  {
   "cell_type": "code",
   "execution_count": 31,
   "metadata": {},
   "outputs": [],
   "source": [
    "# print(V_Ji.loc[133, 'link'])"
   ]
  },
  {
   "cell_type": "code",
   "execution_count": 32,
   "metadata": {
    "collapsed": true
   },
   "outputs": [
    {
     "data": {
      "text/html": [
       "<div>\n",
       "<style scoped>\n",
       "    .dataframe tbody tr th:only-of-type {\n",
       "        vertical-align: middle;\n",
       "    }\n",
       "\n",
       "    .dataframe tbody tr th {\n",
       "        vertical-align: top;\n",
       "    }\n",
       "\n",
       "    .dataframe thead th {\n",
       "        text-align: right;\n",
       "    }\n",
       "</style>\n",
       "<table border=\"1\" class=\"dataframe\">\n",
       "  <thead>\n",
       "    <tr style=\"text-align: right;\">\n",
       "      <th></th>\n",
       "      <th>magazine</th>\n",
       "      <th>brand</th>\n",
       "      <th>category</th>\n",
       "      <th>title</th>\n",
       "      <th>link</th>\n",
       "      <th>date</th>\n",
       "      <th>contents</th>\n",
       "      <th>title_brand</th>\n",
       "      <th>check</th>\n",
       "    </tr>\n",
       "  </thead>\n",
       "  <tbody>\n",
       "    <tr>\n",
       "      <th>30</th>\n",
       "      <td>V</td>\n",
       "      <td>Ji</td>\n",
       "      <td>People</td>\n",
       "      <td>여자 감독과 여자 스태프, 동지</td>\n",
       "      <td>http://www.vogue.co.kr/2019/09/30/%eb%8f%99%ec...</td>\n",
       "      <td>2019.09.30</td>\n",
       "      <td>['&lt;집으로&gt;부터 &lt;벌새&gt;까지 한국 영화계의 여자 감독. 그 비전을 공유하며 작품이...</td>\n",
       "      <td>0</td>\n",
       "      <td>0</td>\n",
       "    </tr>\n",
       "    <tr>\n",
       "      <th>142</th>\n",
       "      <td>V</td>\n",
       "      <td>Ji</td>\n",
       "      <td>People</td>\n",
       "      <td>The ‘Editors’ – ⑩ Paek Jisu</td>\n",
       "      <td>http://www.vogue.co.kr/2016/12/21/the-editors-...</td>\n",
       "      <td>2016.12.21</td>\n",
       "      <td>['지금의 &lt;보그 코리아&gt;를 만드는 에디터들은 무엇을 감상하고, 무슨 생각을 하며,...</td>\n",
       "      <td>0</td>\n",
       "      <td>0</td>\n",
       "    </tr>\n",
       "  </tbody>\n",
       "</table>\n",
       "</div>"
      ],
      "text/plain": [
       "    magazine brand category                        title  \\\n",
       "30         V    Ji   People            여자 감독과 여자 스태프, 동지   \n",
       "142        V    Ji   People  The ‘Editors’ – ⑩ Paek Jisu   \n",
       "\n",
       "                                                  link        date  \\\n",
       "30   http://www.vogue.co.kr/2019/09/30/%eb%8f%99%ec...  2019.09.30   \n",
       "142  http://www.vogue.co.kr/2016/12/21/the-editors-...  2016.12.21   \n",
       "\n",
       "                                              contents  title_brand  check  \n",
       "30   ['<집으로>부터 <벌새>까지 한국 영화계의 여자 감독. 그 비전을 공유하며 작품이...            0      0  \n",
       "142  ['지금의 <보그 코리아>를 만드는 에디터들은 무엇을 감상하고, 무슨 생각을 하며,...            0      0  "
      ]
     },
     "execution_count": 32,
     "metadata": {},
     "output_type": "execute_result"
    }
   ],
   "source": [
    "V_Ji[(V_Ji['category'] == 'People') & (V_Ji['check'] != 2)]"
   ]
  },
  {
   "cell_type": "code",
   "execution_count": 35,
   "metadata": {},
   "outputs": [
    {
     "name": "stdout",
     "output_type": "stream",
     "text": [
      "http://www.vogue.co.kr/2016/12/21/the-editors-%e2%91%a9-paek-jisu/\n"
     ]
    }
   ],
   "source": [
    "print(V_Ji.loc[142, 'link'])"
   ]
  },
  {
   "cell_type": "code",
   "execution_count": 54,
   "metadata": {
    "collapsed": true
   },
   "outputs": [
    {
     "data": {
      "text/html": [
       "<div>\n",
       "<style scoped>\n",
       "    .dataframe tbody tr th:only-of-type {\n",
       "        vertical-align: middle;\n",
       "    }\n",
       "\n",
       "    .dataframe tbody tr th {\n",
       "        vertical-align: top;\n",
       "    }\n",
       "\n",
       "    .dataframe thead th {\n",
       "        text-align: right;\n",
       "    }\n",
       "</style>\n",
       "<table border=\"1\" class=\"dataframe\">\n",
       "  <thead>\n",
       "    <tr style=\"text-align: right;\">\n",
       "      <th></th>\n",
       "      <th>magazine</th>\n",
       "      <th>brand</th>\n",
       "      <th>category</th>\n",
       "      <th>title</th>\n",
       "      <th>link</th>\n",
       "      <th>date</th>\n",
       "      <th>contents</th>\n",
       "      <th>title_brand</th>\n",
       "      <th>check</th>\n",
       "    </tr>\n",
       "  </thead>\n",
       "  <tbody>\n",
       "    <tr>\n",
       "      <th>26</th>\n",
       "      <td>V</td>\n",
       "      <td>Ji</td>\n",
       "      <td>daily issue</td>\n",
       "      <td>‘텀블러’가 뽑은 올해의 인기 아이돌</td>\n",
       "      <td>http://www.vogue.co.kr/2019/12/03/%ed%85%80%eb...</td>\n",
       "      <td>2019.12.03</td>\n",
       "      <td>['올해는 유독 K-팝의 인기가 높았습니다. 세계 어디에서도 한국 아이돌 노래를 들...</td>\n",
       "      <td>0</td>\n",
       "      <td>0</td>\n",
       "    </tr>\n",
       "    <tr>\n",
       "      <th>36</th>\n",
       "      <td>V</td>\n",
       "      <td>Ji</td>\n",
       "      <td>daily issue</td>\n",
       "      <td>스타들의 체크 활용법</td>\n",
       "      <td>http://www.vogue.co.kr/2019/09/19/%ec%8a%a4%ed...</td>\n",
       "      <td>2019.09.19</td>\n",
       "      <td>['다양한 패턴 중 가을과 가장 잘 어울리는 건 아마 체크일 겁니다. 클래식과 빈티...</td>\n",
       "      <td>0</td>\n",
       "      <td>0</td>\n",
       "    </tr>\n",
       "    <tr>\n",
       "      <th>38</th>\n",
       "      <td>V</td>\n",
       "      <td>Ji</td>\n",
       "      <td>daily issue</td>\n",
       "      <td>필름 카메라에 푹 빠진 스타들</td>\n",
       "      <td>http://www.vogue.co.kr/2019/09/16/%ed%95%84%eb...</td>\n",
       "      <td>2019.09.16</td>\n",
       "      <td>['투박한 카메라를 들고 셔터를 꾸욱 누르면, ‘찰칵’ 소리와 함께 사진이 찍힙니다...</td>\n",
       "      <td>0</td>\n",
       "      <td>0</td>\n",
       "    </tr>\n",
       "  </tbody>\n",
       "</table>\n",
       "</div>"
      ],
      "text/plain": [
       "   magazine brand     category                 title  \\\n",
       "26        V    Ji  daily issue  ‘텀블러’가 뽑은 올해의 인기 아이돌   \n",
       "36        V    Ji  daily issue           스타들의 체크 활용법   \n",
       "38        V    Ji  daily issue      필름 카메라에 푹 빠진 스타들   \n",
       "\n",
       "                                                 link        date  \\\n",
       "26  http://www.vogue.co.kr/2019/12/03/%ed%85%80%eb...  2019.12.03   \n",
       "36  http://www.vogue.co.kr/2019/09/19/%ec%8a%a4%ed...  2019.09.19   \n",
       "38  http://www.vogue.co.kr/2019/09/16/%ed%95%84%eb...  2019.09.16   \n",
       "\n",
       "                                             contents  title_brand  check  \n",
       "26  ['올해는 유독 K-팝의 인기가 높았습니다. 세계 어디에서도 한국 아이돌 노래를 들...            0      0  \n",
       "36  ['다양한 패턴 중 가을과 가장 잘 어울리는 건 아마 체크일 겁니다. 클래식과 빈티...            0      0  \n",
       "38  ['투박한 카메라를 들고 셔터를 꾸욱 누르면, ‘찰칵’ 소리와 함께 사진이 찍힙니다...            0      0  "
      ]
     },
     "execution_count": 54,
     "metadata": {},
     "output_type": "execute_result"
    }
   ],
   "source": [
    "V_Ji[(V_Ji['category'] == 'daily issue') & (V_Ji['check'] == 0)]"
   ]
  },
  {
   "cell_type": "code",
   "execution_count": 49,
   "metadata": {},
   "outputs": [
    {
     "name": "stdout",
     "output_type": "stream",
     "text": [
      "http://www.vogue.co.kr/2019/03/28/%eb%af%bc%ed%8a%b8%ec%b4%88%ec%bd%94-%ed%98%b8-vs-%eb%b6%88%ed%98%b8-%ec%95%84%ec%9d%b4%eb%8f%8c%ec%9d%98-%ec%84%a0%ed%83%9d/\n"
     ]
    }
   ],
   "source": [
    "print(V_Ji.loc[53, 'link'])"
   ]
  },
  {
   "cell_type": "code",
   "execution_count": 53,
   "metadata": {},
   "outputs": [],
   "source": [
    "V_Ji.loc[[11, 37],'check'] = 2"
   ]
  },
  {
   "cell_type": "code",
   "execution_count": 55,
   "metadata": {},
   "outputs": [],
   "source": [
    "# 중간저장\n",
    "V_Ji.to_csv('./data/Vogue_JISOO_df.csv' , sep='|', mode='w' , encoding='utf-8' , index=False)"
   ]
  },
  {
   "cell_type": "code",
   "execution_count": 56,
   "metadata": {},
   "outputs": [
    {
     "data": {
      "text/html": [
       "<div>\n",
       "<style scoped>\n",
       "    .dataframe tbody tr th:only-of-type {\n",
       "        vertical-align: middle;\n",
       "    }\n",
       "\n",
       "    .dataframe tbody tr th {\n",
       "        vertical-align: top;\n",
       "    }\n",
       "\n",
       "    .dataframe thead th {\n",
       "        text-align: right;\n",
       "    }\n",
       "</style>\n",
       "<table border=\"1\" class=\"dataframe\">\n",
       "  <thead>\n",
       "    <tr style=\"text-align: right;\">\n",
       "      <th></th>\n",
       "      <th>magazine</th>\n",
       "      <th>brand</th>\n",
       "      <th>category</th>\n",
       "      <th>title</th>\n",
       "      <th>link</th>\n",
       "      <th>date</th>\n",
       "      <th>contents</th>\n",
       "      <th>title_brand</th>\n",
       "      <th>check</th>\n",
       "    </tr>\n",
       "  </thead>\n",
       "  <tbody>\n",
       "    <tr>\n",
       "      <th>0</th>\n",
       "      <td>V</td>\n",
       "      <td>Ji</td>\n",
       "      <td>Living</td>\n",
       "      <td>사계절의 이슈 스무 가지 #1</td>\n",
       "      <td>http://www.vogue.co.kr/2020/11/24/%ec%82%ac%ea...</td>\n",
       "      <td>2020.11.24</td>\n",
       "      <td>['세상의 대격변, 일상을 지키며 맞은 한반도의 변화. 그 사계절의 이슈 스무 가지...</td>\n",
       "      <td>0</td>\n",
       "      <td>0</td>\n",
       "    </tr>\n",
       "    <tr>\n",
       "      <th>1</th>\n",
       "      <td>V</td>\n",
       "      <td>Ji</td>\n",
       "      <td>Beauty</td>\n",
       "      <td>Hot!</td>\n",
       "      <td>http://www.vogue.co.kr/2020/11/14/hot/</td>\n",
       "      <td>2020.11.14</td>\n",
       "      <td>['한국인의 자존심!', '매운맛이 생각지 못한 소식으로 뉴스에 올랐습니다. 그 주...</td>\n",
       "      <td>0</td>\n",
       "      <td>2</td>\n",
       "    </tr>\n",
       "    <tr>\n",
       "      <th>2</th>\n",
       "      <td>V</td>\n",
       "      <td>Ji</td>\n",
       "      <td>Beauty</td>\n",
       "      <td>#IAMLIBRE</td>\n",
       "      <td>http://www.vogue.co.kr/2020/11/01/232989/</td>\n",
       "      <td>2020.11.01</td>\n",
       "      <td>['', '이브 생 로랑(Yves Saint Laurent)은 우리 여자들에게 자유...</td>\n",
       "      <td>0</td>\n",
       "      <td>2</td>\n",
       "    </tr>\n",
       "    <tr>\n",
       "      <th>3</th>\n",
       "      <td>V</td>\n",
       "      <td>Ji</td>\n",
       "      <td>Fashion</td>\n",
       "      <td>내일이 궁금한 여자 뮤지션 3인</td>\n",
       "      <td>http://www.vogue.co.kr/2020/09/25/%eb%82%b4%ec...</td>\n",
       "      <td>2020.09.25</td>\n",
       "      <td>['음악 하는 예술가, 부러 어긋나는 개척자, 가장 나다운 나.', '나는. 살아 ...</td>\n",
       "      <td>0</td>\n",
       "      <td>2</td>\n",
       "    </tr>\n",
       "    <tr>\n",
       "      <th>4</th>\n",
       "      <td>V</td>\n",
       "      <td>Ji</td>\n",
       "      <td>daily issue</td>\n",
       "      <td>블랙핑크 지수, 드라마 첫 주연</td>\n",
       "      <td>http://www.vogue.co.kr/2020/08/18/%eb%b8%94%eb...</td>\n",
       "      <td>2020.08.18</td>\n",
       "      <td>['걸 그룹 블랙핑크 지수가 드라마에 본격적으로 도전장을 내밉니다.', '', '지...</td>\n",
       "      <td>1</td>\n",
       "      <td>1</td>\n",
       "    </tr>\n",
       "    <tr>\n",
       "      <th>...</th>\n",
       "      <td>...</td>\n",
       "      <td>...</td>\n",
       "      <td>...</td>\n",
       "      <td>...</td>\n",
       "      <td>...</td>\n",
       "      <td>...</td>\n",
       "      <td>...</td>\n",
       "      <td>...</td>\n",
       "      <td>...</td>\n",
       "    </tr>\n",
       "    <tr>\n",
       "      <th>154</th>\n",
       "      <td>V</td>\n",
       "      <td>Ji</td>\n",
       "      <td>Fashion</td>\n",
       "      <td>Super 5 in SEOUL – ⑤ Clare Waight Keller (클레어 ...</td>\n",
       "      <td>http://www.vogue.co.kr/2016/08/04/super-5-in-s...</td>\n",
       "      <td>2016.08.04</td>\n",
       "      <td>['패션계는 패션의 미래를 이끌 마켓으로 상하이와 도쿄가 아닌 서울을 지목했다. 그...</td>\n",
       "      <td>0</td>\n",
       "      <td>2</td>\n",
       "    </tr>\n",
       "    <tr>\n",
       "      <th>155</th>\n",
       "      <td>V</td>\n",
       "      <td>Ji</td>\n",
       "      <td>Fashion</td>\n",
       "      <td>Super 5 in SEOUL – ③ Stuart Vevers (스튜어트 베버스)</td>\n",
       "      <td>http://www.vogue.co.kr/2016/08/02/super-5-in-s...</td>\n",
       "      <td>2016.08.02</td>\n",
       "      <td>['패션계는 패션의 미래를 이끌 마켓으로 상하이와 도쿄가 아닌 서울을 지목했다. 그...</td>\n",
       "      <td>0</td>\n",
       "      <td>2</td>\n",
       "    </tr>\n",
       "    <tr>\n",
       "      <th>156</th>\n",
       "      <td>V</td>\n",
       "      <td>Ji</td>\n",
       "      <td>Beauty</td>\n",
       "      <td>BEAUTY AND THE BEST – ⑦ CHARLOTTE CHO</td>\n",
       "      <td>http://www.vogue.co.kr/2016/08/01/beauty-and-t...</td>\n",
       "      <td>2016.08.01</td>\n",
       "      <td>['한국식 뷰티 루틴에 따라 피부를 가꾸고 ‘메이드 인 코리아’ 제품만 골라 쓰는 ...</td>\n",
       "      <td>0</td>\n",
       "      <td>0</td>\n",
       "    </tr>\n",
       "    <tr>\n",
       "      <th>157</th>\n",
       "      <td>V</td>\n",
       "      <td>Ji</td>\n",
       "      <td>Beauty</td>\n",
       "      <td>바캉스 대비 작전</td>\n",
       "      <td>http://www.vogue.co.kr/2016/07/19/%eb%b0%94%ec...</td>\n",
       "      <td>2016.07.19</td>\n",
       "      <td>[]</td>\n",
       "      <td>0</td>\n",
       "      <td>2</td>\n",
       "    </tr>\n",
       "    <tr>\n",
       "      <th>158</th>\n",
       "      <td>V</td>\n",
       "      <td>Ji</td>\n",
       "      <td>Fashion</td>\n",
       "      <td>#스타의옷장 #여름 모자</td>\n",
       "      <td>http://www.vogue.co.kr/2016/07/15/%ec%8a%a4%ed...</td>\n",
       "      <td>2016.07.15</td>\n",
       "      <td>['셀러브리티들의 평상시 스타일을 통해 알아본, 가장 핫한 패션 트렌드!\\n그 열두...</td>\n",
       "      <td>0</td>\n",
       "      <td>2</td>\n",
       "    </tr>\n",
       "  </tbody>\n",
       "</table>\n",
       "<p>159 rows × 9 columns</p>\n",
       "</div>"
      ],
      "text/plain": [
       "    magazine brand     category  \\\n",
       "0          V    Ji       Living   \n",
       "1          V    Ji       Beauty   \n",
       "2          V    Ji       Beauty   \n",
       "3          V    Ji      Fashion   \n",
       "4          V    Ji  daily issue   \n",
       "..       ...   ...          ...   \n",
       "154        V    Ji      Fashion   \n",
       "155        V    Ji      Fashion   \n",
       "156        V    Ji       Beauty   \n",
       "157        V    Ji       Beauty   \n",
       "158        V    Ji      Fashion   \n",
       "\n",
       "                                                 title  \\\n",
       "0                                     사계절의 이슈 스무 가지 #1   \n",
       "1                                                 Hot!   \n",
       "2                                            #IAMLIBRE   \n",
       "3                                    내일이 궁금한 여자 뮤지션 3인   \n",
       "4                                    블랙핑크 지수, 드라마 첫 주연   \n",
       "..                                                 ...   \n",
       "154  Super 5 in SEOUL – ⑤ Clare Waight Keller (클레어 ...   \n",
       "155      Super 5 in SEOUL – ③ Stuart Vevers (스튜어트 베버스)   \n",
       "156              BEAUTY AND THE BEST – ⑦ CHARLOTTE CHO   \n",
       "157                                          바캉스 대비 작전   \n",
       "158                                      #스타의옷장 #여름 모자   \n",
       "\n",
       "                                                  link        date  \\\n",
       "0    http://www.vogue.co.kr/2020/11/24/%ec%82%ac%ea...  2020.11.24   \n",
       "1               http://www.vogue.co.kr/2020/11/14/hot/  2020.11.14   \n",
       "2            http://www.vogue.co.kr/2020/11/01/232989/  2020.11.01   \n",
       "3    http://www.vogue.co.kr/2020/09/25/%eb%82%b4%ec...  2020.09.25   \n",
       "4    http://www.vogue.co.kr/2020/08/18/%eb%b8%94%eb...  2020.08.18   \n",
       "..                                                 ...         ...   \n",
       "154  http://www.vogue.co.kr/2016/08/04/super-5-in-s...  2016.08.04   \n",
       "155  http://www.vogue.co.kr/2016/08/02/super-5-in-s...  2016.08.02   \n",
       "156  http://www.vogue.co.kr/2016/08/01/beauty-and-t...  2016.08.01   \n",
       "157  http://www.vogue.co.kr/2016/07/19/%eb%b0%94%ec...  2016.07.19   \n",
       "158  http://www.vogue.co.kr/2016/07/15/%ec%8a%a4%ed...  2016.07.15   \n",
       "\n",
       "                                              contents  title_brand  check  \n",
       "0    ['세상의 대격변, 일상을 지키며 맞은 한반도의 변화. 그 사계절의 이슈 스무 가지...            0      0  \n",
       "1    ['한국인의 자존심!', '매운맛이 생각지 못한 소식으로 뉴스에 올랐습니다. 그 주...            0      2  \n",
       "2    ['', '이브 생 로랑(Yves Saint Laurent)은 우리 여자들에게 자유...            0      2  \n",
       "3    ['음악 하는 예술가, 부러 어긋나는 개척자, 가장 나다운 나.', '나는. 살아 ...            0      2  \n",
       "4    ['걸 그룹 블랙핑크 지수가 드라마에 본격적으로 도전장을 내밉니다.', '', '지...            1      1  \n",
       "..                                                 ...          ...    ...  \n",
       "154  ['패션계는 패션의 미래를 이끌 마켓으로 상하이와 도쿄가 아닌 서울을 지목했다. 그...            0      2  \n",
       "155  ['패션계는 패션의 미래를 이끌 마켓으로 상하이와 도쿄가 아닌 서울을 지목했다. 그...            0      2  \n",
       "156  ['한국식 뷰티 루틴에 따라 피부를 가꾸고 ‘메이드 인 코리아’ 제품만 골라 쓰는 ...            0      0  \n",
       "157                                                 []            0      2  \n",
       "158  ['셀러브리티들의 평상시 스타일을 통해 알아본, 가장 핫한 패션 트렌드!\\n그 열두...            0      2  \n",
       "\n",
       "[159 rows x 9 columns]"
      ]
     },
     "execution_count": 56,
     "metadata": {},
     "output_type": "execute_result"
    }
   ],
   "source": [
    "V_Ji = pd.read_csv('./data/Vogue_JISOO_df.csv' , sep='|', encoding='utf-8')\n",
    "V_Ji"
   ]
  },
  {
   "cell_type": "code",
   "execution_count": null,
   "metadata": {},
   "outputs": [],
   "source": []
  }
 ],
 "metadata": {
  "kernelspec": {
   "display_name": "Python 3",
   "language": "python",
   "name": "python3"
  },
  "language_info": {
   "codemirror_mode": {
    "name": "ipython",
    "version": 3
   },
   "file_extension": ".py",
   "mimetype": "text/x-python",
   "name": "python",
   "nbconvert_exporter": "python",
   "pygments_lexer": "ipython3",
   "version": "3.8.3"
  }
 },
 "nbformat": 4,
 "nbformat_minor": 4
}
