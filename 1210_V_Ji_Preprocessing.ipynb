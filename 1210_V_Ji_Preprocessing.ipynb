{
 "cells": [
  {
   "cell_type": "code",
   "execution_count": 1,
   "metadata": {},
   "outputs": [],
   "source": [
    "import pandas as pd\n",
    "import numpy as np"
   ]
  },
  {
   "cell_type": "code",
   "execution_count": 2,
   "metadata": {
    "scrolled": true
   },
   "outputs": [
    {
     "data": {
      "text/html": [
       "<div>\n",
       "<style scoped>\n",
       "    .dataframe tbody tr th:only-of-type {\n",
       "        vertical-align: middle;\n",
       "    }\n",
       "\n",
       "    .dataframe tbody tr th {\n",
       "        vertical-align: top;\n",
       "    }\n",
       "\n",
       "    .dataframe thead th {\n",
       "        text-align: right;\n",
       "    }\n",
       "</style>\n",
       "<table border=\"1\" class=\"dataframe\">\n",
       "  <thead>\n",
       "    <tr style=\"text-align: right;\">\n",
       "      <th></th>\n",
       "      <th>magazine</th>\n",
       "      <th>brand</th>\n",
       "      <th>category</th>\n",
       "      <th>title</th>\n",
       "      <th>link</th>\n",
       "      <th>date</th>\n",
       "      <th>contents</th>\n",
       "      <th>title_brand</th>\n",
       "      <th>check</th>\n",
       "    </tr>\n",
       "  </thead>\n",
       "  <tbody>\n",
       "    <tr>\n",
       "      <th>0</th>\n",
       "      <td>V</td>\n",
       "      <td>Ji</td>\n",
       "      <td>Living</td>\n",
       "      <td>사계절의 이슈 스무 가지 #1</td>\n",
       "      <td>http://www.vogue.co.kr/2020/11/24/%ec%82%ac%ea...</td>\n",
       "      <td>2020.11.24</td>\n",
       "      <td>['세상의 대격변, 일상을 지키며 맞은 한반도의 변화. 그 사계절의 이슈 스무 가지...</td>\n",
       "      <td>0</td>\n",
       "      <td>0</td>\n",
       "    </tr>\n",
       "    <tr>\n",
       "      <th>1</th>\n",
       "      <td>V</td>\n",
       "      <td>Ji</td>\n",
       "      <td>Beauty</td>\n",
       "      <td>Hot!</td>\n",
       "      <td>http://www.vogue.co.kr/2020/11/14/hot/</td>\n",
       "      <td>2020.11.14</td>\n",
       "      <td>['한국인의 자존심!', '매운맛이 생각지 못한 소식으로 뉴스에 올랐습니다. 그 주...</td>\n",
       "      <td>0</td>\n",
       "      <td>2</td>\n",
       "    </tr>\n",
       "    <tr>\n",
       "      <th>2</th>\n",
       "      <td>V</td>\n",
       "      <td>Ji</td>\n",
       "      <td>Beauty</td>\n",
       "      <td>#IAMLIBRE</td>\n",
       "      <td>http://www.vogue.co.kr/2020/11/01/232989/</td>\n",
       "      <td>2020.11.01</td>\n",
       "      <td>['', '이브 생 로랑(Yves Saint Laurent)은 우리 여자들에게 자유...</td>\n",
       "      <td>0</td>\n",
       "      <td>2</td>\n",
       "    </tr>\n",
       "    <tr>\n",
       "      <th>3</th>\n",
       "      <td>V</td>\n",
       "      <td>Ji</td>\n",
       "      <td>Fashion</td>\n",
       "      <td>내일이 궁금한 여자 뮤지션 3인</td>\n",
       "      <td>http://www.vogue.co.kr/2020/09/25/%eb%82%b4%ec...</td>\n",
       "      <td>2020.09.25</td>\n",
       "      <td>['음악 하는 예술가, 부러 어긋나는 개척자, 가장 나다운 나.', '나는. 살아 ...</td>\n",
       "      <td>0</td>\n",
       "      <td>2</td>\n",
       "    </tr>\n",
       "    <tr>\n",
       "      <th>4</th>\n",
       "      <td>V</td>\n",
       "      <td>Ji</td>\n",
       "      <td>daily issue</td>\n",
       "      <td>블랙핑크 지수, 드라마 첫 주연</td>\n",
       "      <td>http://www.vogue.co.kr/2020/08/18/%eb%b8%94%eb...</td>\n",
       "      <td>2020.08.18</td>\n",
       "      <td>['걸 그룹 블랙핑크 지수가 드라마에 본격적으로 도전장을 내밉니다.', '', '지...</td>\n",
       "      <td>1</td>\n",
       "      <td>1</td>\n",
       "    </tr>\n",
       "    <tr>\n",
       "      <th>...</th>\n",
       "      <td>...</td>\n",
       "      <td>...</td>\n",
       "      <td>...</td>\n",
       "      <td>...</td>\n",
       "      <td>...</td>\n",
       "      <td>...</td>\n",
       "      <td>...</td>\n",
       "      <td>...</td>\n",
       "      <td>...</td>\n",
       "    </tr>\n",
       "    <tr>\n",
       "      <th>154</th>\n",
       "      <td>V</td>\n",
       "      <td>Ji</td>\n",
       "      <td>Fashion</td>\n",
       "      <td>Super 5 in SEOUL – ⑤ Clare Waight Keller (클레어 ...</td>\n",
       "      <td>http://www.vogue.co.kr/2016/08/04/super-5-in-s...</td>\n",
       "      <td>2016.08.04</td>\n",
       "      <td>['패션계는 패션의 미래를 이끌 마켓으로 상하이와 도쿄가 아닌 서울을 지목했다. 그...</td>\n",
       "      <td>0</td>\n",
       "      <td>2</td>\n",
       "    </tr>\n",
       "    <tr>\n",
       "      <th>155</th>\n",
       "      <td>V</td>\n",
       "      <td>Ji</td>\n",
       "      <td>Fashion</td>\n",
       "      <td>Super 5 in SEOUL – ③ Stuart Vevers (스튜어트 베버스)</td>\n",
       "      <td>http://www.vogue.co.kr/2016/08/02/super-5-in-s...</td>\n",
       "      <td>2016.08.02</td>\n",
       "      <td>['패션계는 패션의 미래를 이끌 마켓으로 상하이와 도쿄가 아닌 서울을 지목했다. 그...</td>\n",
       "      <td>0</td>\n",
       "      <td>2</td>\n",
       "    </tr>\n",
       "    <tr>\n",
       "      <th>156</th>\n",
       "      <td>V</td>\n",
       "      <td>Ji</td>\n",
       "      <td>Beauty</td>\n",
       "      <td>BEAUTY AND THE BEST – ⑦ CHARLOTTE CHO</td>\n",
       "      <td>http://www.vogue.co.kr/2016/08/01/beauty-and-t...</td>\n",
       "      <td>2016.08.01</td>\n",
       "      <td>['한국식 뷰티 루틴에 따라 피부를 가꾸고 ‘메이드 인 코리아’ 제품만 골라 쓰는 ...</td>\n",
       "      <td>0</td>\n",
       "      <td>0</td>\n",
       "    </tr>\n",
       "    <tr>\n",
       "      <th>157</th>\n",
       "      <td>V</td>\n",
       "      <td>Ji</td>\n",
       "      <td>Beauty</td>\n",
       "      <td>바캉스 대비 작전</td>\n",
       "      <td>http://www.vogue.co.kr/2016/07/19/%eb%b0%94%ec...</td>\n",
       "      <td>2016.07.19</td>\n",
       "      <td>[]</td>\n",
       "      <td>0</td>\n",
       "      <td>2</td>\n",
       "    </tr>\n",
       "    <tr>\n",
       "      <th>158</th>\n",
       "      <td>V</td>\n",
       "      <td>Ji</td>\n",
       "      <td>Fashion</td>\n",
       "      <td>#스타의옷장 #여름 모자</td>\n",
       "      <td>http://www.vogue.co.kr/2016/07/15/%ec%8a%a4%ed...</td>\n",
       "      <td>2016.07.15</td>\n",
       "      <td>['셀러브리티들의 평상시 스타일을 통해 알아본, 가장 핫한 패션 트렌드!\\n그 열두...</td>\n",
       "      <td>0</td>\n",
       "      <td>2</td>\n",
       "    </tr>\n",
       "  </tbody>\n",
       "</table>\n",
       "<p>159 rows × 9 columns</p>\n",
       "</div>"
      ],
      "text/plain": [
       "    magazine brand     category  \\\n",
       "0          V    Ji       Living   \n",
       "1          V    Ji       Beauty   \n",
       "2          V    Ji       Beauty   \n",
       "3          V    Ji      Fashion   \n",
       "4          V    Ji  daily issue   \n",
       "..       ...   ...          ...   \n",
       "154        V    Ji      Fashion   \n",
       "155        V    Ji      Fashion   \n",
       "156        V    Ji       Beauty   \n",
       "157        V    Ji       Beauty   \n",
       "158        V    Ji      Fashion   \n",
       "\n",
       "                                                 title  \\\n",
       "0                                     사계절의 이슈 스무 가지 #1   \n",
       "1                                                 Hot!   \n",
       "2                                            #IAMLIBRE   \n",
       "3                                    내일이 궁금한 여자 뮤지션 3인   \n",
       "4                                    블랙핑크 지수, 드라마 첫 주연   \n",
       "..                                                 ...   \n",
       "154  Super 5 in SEOUL – ⑤ Clare Waight Keller (클레어 ...   \n",
       "155      Super 5 in SEOUL – ③ Stuart Vevers (스튜어트 베버스)   \n",
       "156              BEAUTY AND THE BEST – ⑦ CHARLOTTE CHO   \n",
       "157                                          바캉스 대비 작전   \n",
       "158                                      #스타의옷장 #여름 모자   \n",
       "\n",
       "                                                  link        date  \\\n",
       "0    http://www.vogue.co.kr/2020/11/24/%ec%82%ac%ea...  2020.11.24   \n",
       "1               http://www.vogue.co.kr/2020/11/14/hot/  2020.11.14   \n",
       "2            http://www.vogue.co.kr/2020/11/01/232989/  2020.11.01   \n",
       "3    http://www.vogue.co.kr/2020/09/25/%eb%82%b4%ec...  2020.09.25   \n",
       "4    http://www.vogue.co.kr/2020/08/18/%eb%b8%94%eb...  2020.08.18   \n",
       "..                                                 ...         ...   \n",
       "154  http://www.vogue.co.kr/2016/08/04/super-5-in-s...  2016.08.04   \n",
       "155  http://www.vogue.co.kr/2016/08/02/super-5-in-s...  2016.08.02   \n",
       "156  http://www.vogue.co.kr/2016/08/01/beauty-and-t...  2016.08.01   \n",
       "157  http://www.vogue.co.kr/2016/07/19/%eb%b0%94%ec...  2016.07.19   \n",
       "158  http://www.vogue.co.kr/2016/07/15/%ec%8a%a4%ed...  2016.07.15   \n",
       "\n",
       "                                              contents  title_brand  check  \n",
       "0    ['세상의 대격변, 일상을 지키며 맞은 한반도의 변화. 그 사계절의 이슈 스무 가지...            0      0  \n",
       "1    ['한국인의 자존심!', '매운맛이 생각지 못한 소식으로 뉴스에 올랐습니다. 그 주...            0      2  \n",
       "2    ['', '이브 생 로랑(Yves Saint Laurent)은 우리 여자들에게 자유...            0      2  \n",
       "3    ['음악 하는 예술가, 부러 어긋나는 개척자, 가장 나다운 나.', '나는. 살아 ...            0      2  \n",
       "4    ['걸 그룹 블랙핑크 지수가 드라마에 본격적으로 도전장을 내밉니다.', '', '지...            1      1  \n",
       "..                                                 ...          ...    ...  \n",
       "154  ['패션계는 패션의 미래를 이끌 마켓으로 상하이와 도쿄가 아닌 서울을 지목했다. 그...            0      2  \n",
       "155  ['패션계는 패션의 미래를 이끌 마켓으로 상하이와 도쿄가 아닌 서울을 지목했다. 그...            0      2  \n",
       "156  ['한국식 뷰티 루틴에 따라 피부를 가꾸고 ‘메이드 인 코리아’ 제품만 골라 쓰는 ...            0      0  \n",
       "157                                                 []            0      2  \n",
       "158  ['셀러브리티들의 평상시 스타일을 통해 알아본, 가장 핫한 패션 트렌드!\\n그 열두...            0      2  \n",
       "\n",
       "[159 rows x 9 columns]"
      ]
     },
     "execution_count": 2,
     "metadata": {},
     "output_type": "execute_result"
    }
   ],
   "source": [
    "V_Ji = pd.read_csv('./data/Vogue_JISOO_df.csv' , sep='|', encoding='utf-8')\n",
    "V_Ji"
   ]
  },
  {
   "cell_type": "markdown",
   "metadata": {},
   "source": [
    "### 크롤링 부재한 아이들 채우기"
   ]
  },
  {
   "cell_type": "code",
   "execution_count": 3,
   "metadata": {},
   "outputs": [
    {
     "name": "stdout",
     "output_type": "stream",
     "text": [
      "[157]\n",
      "1\n"
     ]
    }
   ],
   "source": [
    "# contents가 공백인 애들 다시 지정\n",
    "cblank = []\n",
    "for i in range(len(V_Ji)) :\n",
    "    if V_Ji['contents'][i] == '[]' :    \n",
    "        cblank.append(i)\n",
    "print(cblank)\n",
    "print(len(cblank))"
   ]
  },
  {
   "cell_type": "code",
   "execution_count": 4,
   "metadata": {},
   "outputs": [
    {
     "name": "stdout",
     "output_type": "stream",
     "text": [
      "http://www.vogue.co.kr/2016/07/19/%eb%b0%94%ec%ba%89%ec%8a%a4-%eb%8c%80%eb%b9%84-%ec%9e%91%ec%a0%84/\n"
     ]
    }
   ],
   "source": [
    "print(V_Ji.loc[157, 'link'])"
   ]
  },
  {
   "cell_type": "code",
   "execution_count": 5,
   "metadata": {},
   "outputs": [],
   "source": [
    "V_Ji.loc[157,'check'] = 2"
   ]
  },
  {
   "cell_type": "markdown",
   "metadata": {},
   "source": [
    "### 지수 외 다른 이름 지우기"
   ]
  },
  {
   "cell_type": "code",
   "execution_count": 3,
   "metadata": {},
   "outputs": [
    {
     "name": "stdout",
     "output_type": "stream",
     "text": [
      "0\n"
     ]
    }
   ],
   "source": [
    "nidx = []\n",
    "for i in range(len(V_Ji)) :\n",
    "    if 'pH 지수' in V_Ji['contents'][i] :\n",
    "        V_Ji.loc[i, 'check'] = 2\n",
    "        nidx.append(i)\n",
    "print(len(nidx))"
   ]
  },
  {
   "cell_type": "code",
   "execution_count": 4,
   "metadata": {},
   "outputs": [
    {
     "name": "stdout",
     "output_type": "stream",
     "text": [
      "0\n"
     ]
    }
   ],
   "source": [
    "nidx = []\n",
    "for i in range(len(V_Ji)) :\n",
    "    if '지수 장' in V_Ji['contents'][i] :\n",
    "        V_Ji.loc[i, 'check'] = 2\n",
    "        nidx.append(i)\n",
    "print(len(nidx))"
   ]
  },
  {
   "cell_type": "code",
   "execution_count": 5,
   "metadata": {},
   "outputs": [
    {
     "name": "stdout",
     "output_type": "stream",
     "text": [
      "1\n"
     ]
    }
   ],
   "source": [
    "nidx = []\n",
    "for i in range(len(V_Ji)) :\n",
    "    if '스타일링 지수' in V_Ji['contents'][i] :\n",
    "        V_Ji.loc[i, 'check'] = 2\n",
    "        nidx.append(i)\n",
    "print(len(nidx))"
   ]
  },
  {
   "cell_type": "code",
   "execution_count": 6,
   "metadata": {},
   "outputs": [
    {
     "name": "stdout",
     "output_type": "stream",
     "text": [
      "8\n"
     ]
    }
   ],
   "source": [
    "nidx = []\n",
    "for i in range(len(V_Ji)) :\n",
    "    if '혈당 지수' in V_Ji['contents'][i] :\n",
    "        V_Ji.loc[i, 'check'] = 2\n",
    "        nidx.append(i)\n",
    "print(len(nidx))"
   ]
  },
  {
   "cell_type": "code",
   "execution_count": 84,
   "metadata": {},
   "outputs": [
    {
     "name": "stdout",
     "output_type": "stream",
     "text": [
      "3\n"
     ]
    }
   ],
   "source": [
    "nidx = []\n",
    "for i in range(len(V_Ji)) :\n",
    "    if '혈당지수' in V_Ji['contents'][i] :\n",
    "        V_Ji.loc[i, 'check'] = 2\n",
    "        nidx.append(i)\n",
    "print(len(nidx))"
   ]
  },
  {
   "cell_type": "code",
   "execution_count": 7,
   "metadata": {},
   "outputs": [
    {
     "name": "stdout",
     "output_type": "stream",
     "text": [
      "9\n"
     ]
    }
   ],
   "source": [
    "nidx = []\n",
    "for i in range(len(V_Ji)) :\n",
    "    if '스트레스 지수' in V_Ji['contents'][i] :\n",
    "        V_Ji.loc[i, 'check'] = 2\n",
    "        nidx.append(i)\n",
    "print(len(nidx))"
   ]
  },
  {
   "cell_type": "code",
   "execution_count": 85,
   "metadata": {},
   "outputs": [
    {
     "name": "stdout",
     "output_type": "stream",
     "text": [
      "0\n"
     ]
    }
   ],
   "source": [
    "nidx = []\n",
    "for i in range(len(V_Ji)) :\n",
    "    if '스트레스지수' in V_Ji['contents'][i] :\n",
    "        V_Ji.loc[i, 'check'] = 2\n",
    "        nidx.append(i)\n",
    "print(len(nidx))"
   ]
  },
  {
   "cell_type": "code",
   "execution_count": 8,
   "metadata": {},
   "outputs": [
    {
     "name": "stdout",
     "output_type": "stream",
     "text": [
      "6\n"
     ]
    }
   ],
   "source": [
    "nidx = []\n",
    "for i in range(len(V_Ji)) :\n",
    "    if '불쾌지수' in V_Ji['contents'][i] :\n",
    "        V_Ji.loc[i, 'check'] = 2\n",
    "        nidx.append(i)\n",
    "print(len(nidx))"
   ]
  },
  {
   "cell_type": "code",
   "execution_count": 9,
   "metadata": {},
   "outputs": [
    {
     "name": "stdout",
     "output_type": "stream",
     "text": [
      "0\n"
     ]
    }
   ],
   "source": [
    "nidx = []\n",
    "for i in range(len(V_Ji)) :\n",
    "    if '매너 지수' in V_Ji['contents'][i] :\n",
    "        V_Ji.loc[i, 'check'] = 2\n",
    "        nidx.append(i)\n",
    "print(len(nidx))"
   ]
  },
  {
   "cell_type": "code",
   "execution_count": 10,
   "metadata": {},
   "outputs": [
    {
     "name": "stdout",
     "output_type": "stream",
     "text": [
      "1\n"
     ]
    }
   ],
   "source": [
    "nidx = []\n",
    "for i in range(len(V_Ji)) :\n",
    "    if '항산화 지수' in V_Ji['contents'][i] :\n",
    "        V_Ji.loc[i, 'check'] = 2\n",
    "        nidx.append(i)\n",
    "print(len(nidx))"
   ]
  },
  {
   "cell_type": "code",
   "execution_count": 11,
   "metadata": {},
   "outputs": [
    {
     "name": "stdout",
     "output_type": "stream",
     "text": [
      "1\n"
     ]
    }
   ],
   "source": [
    "nidx = []\n",
    "for i in range(len(V_Ji)) :\n",
    "    if '홍지수' in V_Ji['contents'][i] :\n",
    "        V_Ji.loc[i, 'check'] = 2\n",
    "        nidx.append(i)\n",
    "print(len(nidx))"
   ]
  },
  {
   "cell_type": "code",
   "execution_count": 12,
   "metadata": {},
   "outputs": [
    {
     "name": "stdout",
     "output_type": "stream",
     "text": [
      "4\n"
     ]
    }
   ],
   "source": [
    "nidx = []\n",
    "for i in range(len(V_Ji)) :\n",
    "    if '백지수' in V_Ji['contents'][i] :\n",
    "        V_Ji.loc[i, 'check'] = 2\n",
    "        nidx.append(i)\n",
    "print(len(nidx))"
   ]
  },
  {
   "cell_type": "code",
   "execution_count": 13,
   "metadata": {},
   "outputs": [
    {
     "name": "stdout",
     "output_type": "stream",
     "text": [
      "13\n"
     ]
    }
   ],
   "source": [
    "nidx = []\n",
    "for i in range(len(V_Ji)) :\n",
    "    if '미지수' in V_Ji['contents'][i] :\n",
    "        V_Ji.loc[i, 'check'] = 2\n",
    "        nidx.append(i)\n",
    "print(len(nidx))"
   ]
  },
  {
   "cell_type": "code",
   "execution_count": 14,
   "metadata": {},
   "outputs": [
    {
     "name": "stdout",
     "output_type": "stream",
     "text": [
      "2\n"
     ]
    }
   ],
   "source": [
    "nidx = []\n",
    "for i in range(len(V_Ji)) :\n",
    "    if '체질량 지수' in V_Ji['contents'][i] :\n",
    "        V_Ji.loc[i, 'check'] = 2\n",
    "        nidx.append(i)\n",
    "print(len(nidx))"
   ]
  },
  {
   "cell_type": "code",
   "execution_count": 15,
   "metadata": {},
   "outputs": [
    {
     "name": "stdout",
     "output_type": "stream",
     "text": [
      "2\n"
     ]
    }
   ],
   "source": [
    "nidx = []\n",
    "for i in range(len(V_Ji)) :\n",
    "    if '서지수' in V_Ji['contents'][i] :\n",
    "        V_Ji.loc[i, 'check'] = 2\n",
    "        nidx.append(i)\n",
    "print(len(nidx))"
   ]
  },
  {
   "cell_type": "code",
   "execution_count": 24,
   "metadata": {},
   "outputs": [
    {
     "name": "stdout",
     "output_type": "stream",
     "text": [
      "2\n"
     ]
    }
   ],
   "source": [
    "nidx = []\n",
    "for i in range(len(V_Ji)) :\n",
    "    if '번지수' in V_Ji['contents'][i] :\n",
    "        V_Ji.loc[i, 'check'] = 2\n",
    "        nidx.append(i)\n",
    "print(len(nidx))"
   ]
  },
  {
   "cell_type": "code",
   "execution_count": 29,
   "metadata": {},
   "outputs": [
    {
     "name": "stdout",
     "output_type": "stream",
     "text": [
      "1\n"
     ]
    }
   ],
   "source": [
    "nidx = []\n",
    "for i in range(len(V_Ji)) :\n",
    "    if 'Zisu' in V_Ji['contents'][i] :\n",
    "        V_Ji.loc[i, 'check'] = 2\n",
    "        nidx.append(i)\n",
    "print(len(nidx))"
   ]
  },
  {
   "cell_type": "code",
   "execution_count": 36,
   "metadata": {
    "scrolled": true
   },
   "outputs": [
    {
     "name": "stdout",
     "output_type": "stream",
     "text": [
      "2\n"
     ]
    }
   ],
   "source": [
    "nidx = []\n",
    "for i in range(len(V_Ji)) :\n",
    "    if '이지수' in V_Ji['contents'][i] :\n",
    "        V_Ji.loc[i, 'check'] = 2\n",
    "        nidx.append(i)\n",
    "print(len(nidx))"
   ]
  },
  {
   "cell_type": "code",
   "execution_count": 40,
   "metadata": {},
   "outputs": [
    {
     "name": "stdout",
     "output_type": "stream",
     "text": [
      "4\n"
     ]
    }
   ],
   "source": [
    "nidx = []\n",
    "for i in range(len(V_Ji)) :\n",
    "    if '스타일 지수' in V_Ji['contents'][i] :\n",
    "        V_Ji.loc[i, 'check'] = 2\n",
    "        nidx.append(i)\n",
    "print(len(nidx))"
   ]
  },
  {
   "cell_type": "code",
   "execution_count": 41,
   "metadata": {},
   "outputs": [
    {
     "name": "stdout",
     "output_type": "stream",
     "text": [
      "1\n"
     ]
    }
   ],
   "source": [
    "nidx = []\n",
    "for i in range(len(V_Ji)) :\n",
    "    if '패션지수' in V_Ji['contents'][i] :\n",
    "        V_Ji.loc[i, 'check'] = 2\n",
    "        nidx.append(i)\n",
    "print(len(nidx))"
   ]
  },
  {
   "cell_type": "code",
   "execution_count": 44,
   "metadata": {},
   "outputs": [
    {
     "name": "stdout",
     "output_type": "stream",
     "text": [
      "2\n"
     ]
    }
   ],
   "source": [
    "nidx = []\n",
    "for i in range(len(V_Ji)) :\n",
    "    if '행복지수' in V_Ji['contents'][i] :\n",
    "        V_Ji.loc[i, 'check'] = 2\n",
    "        nidx.append(i)\n",
    "print(len(nidx))"
   ]
  },
  {
   "cell_type": "code",
   "execution_count": 47,
   "metadata": {},
   "outputs": [
    {
     "name": "stdout",
     "output_type": "stream",
     "text": [
      "1\n"
     ]
    }
   ],
   "source": [
    "nidx = []\n",
    "for i in range(len(V_Ji)) :\n",
    "    if '패션 지수' in V_Ji['contents'][i] :\n",
    "        V_Ji.loc[i, 'check'] = 2\n",
    "        nidx.append(i)\n",
    "print(len(nidx))"
   ]
  },
  {
   "cell_type": "code",
   "execution_count": 48,
   "metadata": {},
   "outputs": [
    {
     "name": "stdout",
     "output_type": "stream",
     "text": [
      "2\n"
     ]
    }
   ],
   "source": [
    "nidx = []\n",
    "for i in range(len(V_Ji)) :\n",
    "    if '행복 지수' in V_Ji['contents'][i] :\n",
    "        V_Ji.loc[i, 'check'] = 2\n",
    "        nidx.append(i)\n",
    "print(len(nidx))"
   ]
  },
  {
   "cell_type": "code",
   "execution_count": 51,
   "metadata": {},
   "outputs": [
    {
     "name": "stdout",
     "output_type": "stream",
     "text": [
      "4\n"
     ]
    }
   ],
   "source": [
    "nidx = []\n",
    "for i in range(len(V_Ji)) :\n",
    "    if 'SPF 지수' in V_Ji['contents'][i] :\n",
    "        V_Ji.loc[i, 'check'] = 2\n",
    "        nidx.append(i)\n",
    "print(len(nidx))"
   ]
  },
  {
   "cell_type": "code",
   "execution_count": 52,
   "metadata": {},
   "outputs": [
    {
     "name": "stdout",
     "output_type": "stream",
     "text": [
      "4\n"
     ]
    }
   ],
   "source": [
    "nidx = []\n",
    "for i in range(len(V_Ji)) :\n",
    "    if '자외선 차단 지수' in V_Ji['contents'][i] :\n",
    "        V_Ji.loc[i, 'check'] = 2\n",
    "        nidx.append(i)\n",
    "print(len(nidx))"
   ]
  },
  {
   "cell_type": "code",
   "execution_count": 55,
   "metadata": {},
   "outputs": [
    {
     "name": "stdout",
     "output_type": "stream",
     "text": [
      "2\n"
     ]
    }
   ],
   "source": [
    "nidx = []\n",
    "for i in range(len(V_Ji)) :\n",
    "    if '공감 지수' in V_Ji['contents'][i] :\n",
    "        V_Ji.loc[i, 'check'] = 2\n",
    "        nidx.append(i)\n",
    "print(len(nidx))"
   ]
  },
  {
   "cell_type": "code",
   "execution_count": 59,
   "metadata": {},
   "outputs": [
    {
     "name": "stdout",
     "output_type": "stream",
     "text": [
      "1\n"
     ]
    }
   ],
   "source": [
    "nidx = []\n",
    "for i in range(len(V_Ji)) :\n",
    "    if '코스피 지수' in V_Ji['contents'][i] :\n",
    "        V_Ji.loc[i, 'check'] = 2\n",
    "        nidx.append(i)\n",
    "print(len(nidx))"
   ]
  },
  {
   "cell_type": "code",
   "execution_count": 61,
   "metadata": {},
   "outputs": [
    {
     "name": "stdout",
     "output_type": "stream",
     "text": [
      "1\n"
     ]
    }
   ],
   "source": [
    "nidx = []\n",
    "for i in range(len(V_Ji)) :\n",
    "    if '마블링 지수' in V_Ji['contents'][i] :\n",
    "        V_Ji.loc[i, 'check'] = 2\n",
    "        nidx.append(i)\n",
    "print(len(nidx))"
   ]
  },
  {
   "cell_type": "code",
   "execution_count": 65,
   "metadata": {},
   "outputs": [
    {
     "name": "stdout",
     "output_type": "stream",
     "text": [
      "1\n"
     ]
    }
   ],
   "source": [
    "nidx = []\n",
    "for i in range(len(V_Ji)) :\n",
    "    if '힙 지수' in V_Ji['contents'][i] :\n",
    "        V_Ji.loc[i, 'check'] = 2\n",
    "        nidx.append(i)\n",
    "print(len(nidx))"
   ]
  },
  {
   "cell_type": "code",
   "execution_count": 68,
   "metadata": {},
   "outputs": [
    {
     "name": "stdout",
     "output_type": "stream",
     "text": [
      "1\n"
     ]
    }
   ],
   "source": [
    "nidx = []\n",
    "for i in range(len(V_Ji)) :\n",
    "    if '류지수' in V_Ji['contents'][i] :\n",
    "        V_Ji.loc[i, 'check'] = 2\n",
    "        nidx.append(i)\n",
    "print(len(nidx))"
   ]
  },
  {
   "cell_type": "code",
   "execution_count": 71,
   "metadata": {},
   "outputs": [
    {
     "name": "stdout",
     "output_type": "stream",
     "text": [
      "1\n"
     ]
    }
   ],
   "source": [
    "nidx = []\n",
    "for i in range(len(V_Ji)) :\n",
    "    if '높은 지수' in V_Ji['contents'][i] :\n",
    "        V_Ji.loc[i, 'check'] = 2\n",
    "        nidx.append(i)\n",
    "print(len(nidx))"
   ]
  },
  {
   "cell_type": "code",
   "execution_count": 74,
   "metadata": {},
   "outputs": [
    {
     "name": "stdout",
     "output_type": "stream",
     "text": [
      "1\n"
     ]
    }
   ],
   "source": [
    "nidx = []\n",
    "for i in range(len(V_Ji)) :\n",
    "    if '건강 지수' in V_Ji['contents'][i] :\n",
    "        V_Ji.loc[i, 'check'] = 2\n",
    "        nidx.append(i)\n",
    "print(len(nidx))"
   ]
  },
  {
   "cell_type": "code",
   "execution_count": 75,
   "metadata": {},
   "outputs": [
    {
     "name": "stdout",
     "output_type": "stream",
     "text": [
      "1\n"
     ]
    }
   ],
   "source": [
    "nidx = []\n",
    "for i in range(len(V_Ji)) :\n",
    "    if '건강지수' in V_Ji['contents'][i] :\n",
    "        V_Ji.loc[i, 'check'] = 2\n",
    "        nidx.append(i)\n",
    "print(len(nidx))"
   ]
  },
  {
   "cell_type": "code",
   "execution_count": 79,
   "metadata": {},
   "outputs": [
    {
     "name": "stdout",
     "output_type": "stream",
     "text": [
      "2\n"
     ]
    }
   ],
   "source": [
    "nidx = []\n",
    "for i in range(len(V_Ji)) :\n",
    "    if '지능 지수' in V_Ji['contents'][i] :\n",
    "        V_Ji.loc[i, 'check'] = 2\n",
    "        nidx.append(i)\n",
    "print(len(nidx))"
   ]
  },
  {
   "cell_type": "code",
   "execution_count": 80,
   "metadata": {},
   "outputs": [
    {
     "name": "stdout",
     "output_type": "stream",
     "text": [
      "1\n"
     ]
    }
   ],
   "source": [
    "nidx = []\n",
    "for i in range(len(V_Ji)) :\n",
    "    if '지능지수' in V_Ji['contents'][i] :\n",
    "        V_Ji.loc[i, 'check'] = 2\n",
    "        nidx.append(i)\n",
    "print(len(nidx))"
   ]
  },
  {
   "cell_type": "code",
   "execution_count": 88,
   "metadata": {},
   "outputs": [
    {
     "name": "stdout",
     "output_type": "stream",
     "text": [
      "5\n"
     ]
    }
   ],
   "source": [
    "nidx = []\n",
    "for i in range(len(V_Ji)) :\n",
    "    if '당지수' in V_Ji['contents'][i] :\n",
    "        V_Ji.loc[i, 'check'] = 2\n",
    "        nidx.append(i)\n",
    "print(len(nidx))"
   ]
  },
  {
   "cell_type": "code",
   "execution_count": 91,
   "metadata": {},
   "outputs": [
    {
     "name": "stdout",
     "output_type": "stream",
     "text": [
      "1\n"
     ]
    }
   ],
   "source": [
    "nidx = []\n",
    "for i in range(len(V_Ji)) :\n",
    "    if '평등 지수' in V_Ji['contents'][i] :\n",
    "        V_Ji.loc[i, 'check'] = 2\n",
    "        nidx.append(i)\n",
    "print(len(nidx))"
   ]
  },
  {
   "cell_type": "code",
   "execution_count": 92,
   "metadata": {},
   "outputs": [
    {
     "name": "stdout",
     "output_type": "stream",
     "text": [
      "0\n"
     ]
    }
   ],
   "source": [
    "nidx = []\n",
    "for i in range(len(V_Ji)) :\n",
    "    if '평등지수' in V_Ji['contents'][i] :\n",
    "        V_Ji.loc[i, 'check'] = 2\n",
    "        nidx.append(i)\n",
    "print(len(nidx))"
   ]
  },
  {
   "cell_type": "code",
   "execution_count": 97,
   "metadata": {},
   "outputs": [
    {
     "name": "stdout",
     "output_type": "stream",
     "text": [
      "1\n"
     ]
    }
   ],
   "source": [
    "nidx = []\n",
    "for i in range(len(V_Ji)) :\n",
    "    if '설렘 지수' in V_Ji['contents'][i] :\n",
    "        V_Ji.loc[i, 'check'] = 2\n",
    "        nidx.append(i)\n",
    "print(len(nidx))"
   ]
  },
  {
   "cell_type": "code",
   "execution_count": 108,
   "metadata": {},
   "outputs": [
    {
     "name": "stdout",
     "output_type": "stream",
     "text": [
      "1\n"
     ]
    }
   ],
   "source": [
    "nidx = []\n",
    "for i in range(len(V_Ji)) :\n",
    "    if '저당 지수' in V_Ji['contents'][i] :\n",
    "        V_Ji.loc[i, 'check'] = 2\n",
    "        nidx.append(i)\n",
    "print(len(nidx))"
   ]
  },
  {
   "cell_type": "code",
   "execution_count": 112,
   "metadata": {},
   "outputs": [
    {
     "name": "stdout",
     "output_type": "stream",
     "text": [
      "1\n"
     ]
    }
   ],
   "source": [
    "nidx = []\n",
    "for i in range(len(V_Ji)) :\n",
    "    if '대기오염 지수' in V_Ji['contents'][i] :\n",
    "        V_Ji.loc[i, 'check'] = 2\n",
    "        nidx.append(i)\n",
    "print(len(nidx))"
   ]
  },
  {
   "cell_type": "code",
   "execution_count": 115,
   "metadata": {},
   "outputs": [
    {
     "name": "stdout",
     "output_type": "stream",
     "text": [
      "1\n"
     ]
    }
   ],
   "source": [
    "nidx = []\n",
    "for i in range(len(V_Ji)) :\n",
    "    if 'PA 지수' in V_Ji['contents'][i] :\n",
    "        V_Ji.loc[i, 'check'] = 2\n",
    "        nidx.append(i)\n",
    "print(len(nidx))"
   ]
  },
  {
   "cell_type": "code",
   "execution_count": 118,
   "metadata": {},
   "outputs": [
    {
     "name": "stdout",
     "output_type": "stream",
     "text": [
      "5\n"
     ]
    }
   ],
   "source": [
    "nidx = []\n",
    "for i in range(len(V_Ji)) :\n",
    "    if '매력 지수' in V_Ji['contents'][i] :\n",
    "        V_Ji.loc[i, 'check'] = 2\n",
    "        nidx.append(i)\n",
    "print(len(nidx))"
   ]
  },
  {
   "cell_type": "code",
   "execution_count": 119,
   "metadata": {},
   "outputs": [
    {
     "name": "stdout",
     "output_type": "stream",
     "text": [
      "1\n"
     ]
    }
   ],
   "source": [
    "nidx = []\n",
    "for i in range(len(V_Ji)) :\n",
    "    if '매력지수' in V_Ji['contents'][i] :\n",
    "        V_Ji.loc[i, 'check'] = 2\n",
    "        nidx.append(i)\n",
    "print(len(nidx))"
   ]
  },
  {
   "cell_type": "code",
   "execution_count": 123,
   "metadata": {},
   "outputs": [
    {
     "name": "stdout",
     "output_type": "stream",
     "text": [
      "1\n"
     ]
    }
   ],
   "source": [
    "nidx = []\n",
    "for i in range(len(V_Ji)) :\n",
    "    if '우울 지수' in V_Ji['contents'][i] :\n",
    "        V_Ji.loc[i, 'check'] = 2\n",
    "        nidx.append(i)\n",
    "print(len(nidx))"
   ]
  },
  {
   "cell_type": "code",
   "execution_count": 126,
   "metadata": {},
   "outputs": [
    {
     "name": "stdout",
     "output_type": "stream",
     "text": [
      "1\n"
     ]
    }
   ],
   "source": [
    "nidx = []\n",
    "for i in range(len(V_Ji)) :\n",
    "    if '염증 지수' in V_Ji['contents'][i] :\n",
    "        V_Ji.loc[i, 'check'] = 2\n",
    "        nidx.append(i)\n",
    "print(len(nidx))"
   ]
  },
  {
   "cell_type": "code",
   "execution_count": 132,
   "metadata": {},
   "outputs": [
    {
     "name": "stdout",
     "output_type": "stream",
     "text": [
      "1\n"
     ]
    }
   ],
   "source": [
    "nidx = []\n",
    "for i in range(len(V_Ji)) :\n",
    "    if '당부하지수' in V_Ji['contents'][i] :\n",
    "        V_Ji.loc[i, 'check'] = 2\n",
    "        nidx.append(i)\n",
    "print(len(nidx))"
   ]
  },
  {
   "cell_type": "code",
   "execution_count": 138,
   "metadata": {},
   "outputs": [
    {
     "name": "stdout",
     "output_type": "stream",
     "text": [
      "1\n"
     ]
    }
   ],
   "source": [
    "nidx = []\n",
    "for i in range(len(V_Ji)) :\n",
    "    if 'SPF차단 지수' in V_Ji['contents'][i] :\n",
    "        V_Ji.loc[i, 'check'] = 2\n",
    "        nidx.append(i)\n",
    "print(len(nidx))"
   ]
  },
  {
   "cell_type": "code",
   "execution_count": 141,
   "metadata": {},
   "outputs": [
    {
     "name": "stdout",
     "output_type": "stream",
     "text": [
      "2\n"
     ]
    }
   ],
   "source": [
    "nidx = []\n",
    "for i in range(len(V_Ji)) :\n",
    "    if '안지수' in V_Ji['contents'][i] :\n",
    "        V_Ji.loc[i, 'check'] = 2\n",
    "        nidx.append(i)\n",
    "print(len(nidx))"
   ]
  },
  {
   "cell_type": "code",
   "execution_count": 147,
   "metadata": {},
   "outputs": [
    {
     "name": "stdout",
     "output_type": "stream",
     "text": [
      "1\n"
     ]
    }
   ],
   "source": [
    "nidx = []\n",
    "for i in range(len(V_Ji)) :\n",
    "    if '자외선 지수' in V_Ji['contents'][i] :\n",
    "        V_Ji.loc[i, 'check'] = 2\n",
    "        nidx.append(i)\n",
    "print(len(nidx))"
   ]
  },
  {
   "cell_type": "code",
   "execution_count": null,
   "metadata": {},
   "outputs": [],
   "source": []
  },
  {
   "cell_type": "markdown",
   "metadata": {},
   "source": [
    "### 본문에 지수 없으면 지우기"
   ]
  },
  {
   "cell_type": "code",
   "execution_count": 16,
   "metadata": {
    "collapsed": true
   },
   "outputs": [
    {
     "name": "stdout",
     "output_type": "stream",
     "text": [
      "3\n",
      "23\n",
      "43\n",
      "55\n",
      "61\n",
      "62\n",
      "63\n",
      "64\n",
      "65\n",
      "67\n",
      "77\n",
      "81\n",
      "84\n",
      "87\n",
      "90\n",
      "91\n",
      "93\n",
      "97\n",
      "98\n",
      "101\n",
      "102\n",
      "117\n",
      "121\n",
      "124\n",
      "125\n",
      "126\n",
      "128\n",
      "138\n",
      "140\n",
      "141\n",
      "144\n",
      "148\n",
      "157\n",
      "158\n"
     ]
    }
   ],
   "source": [
    "for i in range(len(V_Ji)):\n",
    "    if not '지수' in V_Ji['contents'][i] :\n",
    "        V_Ji.loc[i, 'check'] = 2\n",
    "        print(i)"
   ]
  },
  {
   "cell_type": "code",
   "execution_count": 21,
   "metadata": {},
   "outputs": [
    {
     "name": "stdout",
     "output_type": "stream",
     "text": [
      "http://www.vogue.co.kr/2018/10/09/%eb%8b%b9%ec%8b%a0%ec%9d%b4-%ec%9d%b4%ec%84%b1%ed%95%9c%ed%85%8c-%ed%87%b4%ec%a7%9c%eb%a7%9e%eb%8a%94-%ec%9d%b4%ec%9c%a0/\n"
     ]
    }
   ],
   "source": [
    "print(V_Ji.loc[63, 'link'])"
   ]
  },
  {
   "cell_type": "markdown",
   "metadata": {},
   "source": [
    "### 카테고리로 확인"
   ]
  },
  {
   "cell_type": "code",
   "execution_count": 23,
   "metadata": {},
   "outputs": [
    {
     "data": {
      "text/plain": [
       "array(['Living', 'Beauty', 'Fashion', 'daily issue', 'People',\n",
       "       'ADVERTORIAL'], dtype=object)"
      ]
     },
     "execution_count": 23,
     "metadata": {},
     "output_type": "execute_result"
    }
   ],
   "source": [
    "# category 종류\n",
    "V_Ji['category'].unique()"
   ]
  },
  {
   "cell_type": "code",
   "execution_count": 24,
   "metadata": {},
   "outputs": [
    {
     "data": {
      "text/plain": [
       "Beauty         70\n",
       "Living         40\n",
       "Fashion        30\n",
       "daily issue    14\n",
       "People          4\n",
       "ADVERTORIAL     1\n",
       "Name: category, dtype: int64"
      ]
     },
     "execution_count": 24,
     "metadata": {},
     "output_type": "execute_result"
    }
   ],
   "source": [
    "# category별 개수\n",
    "V_Ji['category'].value_counts()"
   ]
  },
  {
   "cell_type": "code",
   "execution_count": 19,
   "metadata": {},
   "outputs": [
    {
     "data": {
      "text/html": [
       "<div>\n",
       "<style scoped>\n",
       "    .dataframe tbody tr th:only-of-type {\n",
       "        vertical-align: middle;\n",
       "    }\n",
       "\n",
       "    .dataframe tbody tr th {\n",
       "        vertical-align: top;\n",
       "    }\n",
       "\n",
       "    .dataframe thead th {\n",
       "        text-align: right;\n",
       "    }\n",
       "</style>\n",
       "<table border=\"1\" class=\"dataframe\">\n",
       "  <thead>\n",
       "    <tr style=\"text-align: right;\">\n",
       "      <th></th>\n",
       "      <th>magazine</th>\n",
       "      <th>brand</th>\n",
       "      <th>category</th>\n",
       "      <th>title</th>\n",
       "      <th>link</th>\n",
       "      <th>date</th>\n",
       "      <th>contents</th>\n",
       "      <th>title_brand</th>\n",
       "      <th>check</th>\n",
       "    </tr>\n",
       "  </thead>\n",
       "  <tbody>\n",
       "  </tbody>\n",
       "</table>\n",
       "</div>"
      ],
      "text/plain": [
       "Empty DataFrame\n",
       "Columns: [magazine, brand, category, title, link, date, contents, title_brand, check]\n",
       "Index: []"
      ]
     },
     "execution_count": 19,
     "metadata": {},
     "output_type": "execute_result"
    }
   ],
   "source": [
    "V_Ji[(V_Ji['category'] == 'ADVERTORIAL') & (V_Ji['check'] != 2)]"
   ]
  },
  {
   "cell_type": "code",
   "execution_count": 31,
   "metadata": {},
   "outputs": [],
   "source": [
    "# print(V_Ji.loc[133, 'link'])"
   ]
  },
  {
   "cell_type": "code",
   "execution_count": 20,
   "metadata": {},
   "outputs": [
    {
     "data": {
      "text/html": [
       "<div>\n",
       "<style scoped>\n",
       "    .dataframe tbody tr th:only-of-type {\n",
       "        vertical-align: middle;\n",
       "    }\n",
       "\n",
       "    .dataframe tbody tr th {\n",
       "        vertical-align: top;\n",
       "    }\n",
       "\n",
       "    .dataframe thead th {\n",
       "        text-align: right;\n",
       "    }\n",
       "</style>\n",
       "<table border=\"1\" class=\"dataframe\">\n",
       "  <thead>\n",
       "    <tr style=\"text-align: right;\">\n",
       "      <th></th>\n",
       "      <th>magazine</th>\n",
       "      <th>brand</th>\n",
       "      <th>category</th>\n",
       "      <th>title</th>\n",
       "      <th>link</th>\n",
       "      <th>date</th>\n",
       "      <th>contents</th>\n",
       "      <th>title_brand</th>\n",
       "      <th>check</th>\n",
       "    </tr>\n",
       "  </thead>\n",
       "  <tbody>\n",
       "  </tbody>\n",
       "</table>\n",
       "</div>"
      ],
      "text/plain": [
       "Empty DataFrame\n",
       "Columns: [magazine, brand, category, title, link, date, contents, title_brand, check]\n",
       "Index: []"
      ]
     },
     "execution_count": 20,
     "metadata": {},
     "output_type": "execute_result"
    }
   ],
   "source": [
    "V_Ji[(V_Ji['category'] == 'People') & (V_Ji['check'] != 2)]"
   ]
  },
  {
   "cell_type": "code",
   "execution_count": 35,
   "metadata": {},
   "outputs": [
    {
     "name": "stdout",
     "output_type": "stream",
     "text": [
      "http://www.vogue.co.kr/2016/12/21/the-editors-%e2%91%a9-paek-jisu/\n"
     ]
    }
   ],
   "source": [
    "print(V_Ji.loc[142, 'link'])"
   ]
  },
  {
   "cell_type": "code",
   "execution_count": 21,
   "metadata": {
    "collapsed": true
   },
   "outputs": [
    {
     "data": {
      "text/html": [
       "<div>\n",
       "<style scoped>\n",
       "    .dataframe tbody tr th:only-of-type {\n",
       "        vertical-align: middle;\n",
       "    }\n",
       "\n",
       "    .dataframe tbody tr th {\n",
       "        vertical-align: top;\n",
       "    }\n",
       "\n",
       "    .dataframe thead th {\n",
       "        text-align: right;\n",
       "    }\n",
       "</style>\n",
       "<table border=\"1\" class=\"dataframe\">\n",
       "  <thead>\n",
       "    <tr style=\"text-align: right;\">\n",
       "      <th></th>\n",
       "      <th>magazine</th>\n",
       "      <th>brand</th>\n",
       "      <th>category</th>\n",
       "      <th>title</th>\n",
       "      <th>link</th>\n",
       "      <th>date</th>\n",
       "      <th>contents</th>\n",
       "      <th>title_brand</th>\n",
       "      <th>check</th>\n",
       "    </tr>\n",
       "  </thead>\n",
       "  <tbody>\n",
       "    <tr>\n",
       "      <th>26</th>\n",
       "      <td>V</td>\n",
       "      <td>Ji</td>\n",
       "      <td>daily issue</td>\n",
       "      <td>‘텀블러’가 뽑은 올해의 인기 아이돌</td>\n",
       "      <td>http://www.vogue.co.kr/2019/12/03/%ed%85%80%eb...</td>\n",
       "      <td>2019.12.03</td>\n",
       "      <td>['올해는 유독 K-팝의 인기가 높았습니다. 세계 어디에서도 한국 아이돌 노래를 들...</td>\n",
       "      <td>0</td>\n",
       "      <td>0</td>\n",
       "    </tr>\n",
       "    <tr>\n",
       "      <th>36</th>\n",
       "      <td>V</td>\n",
       "      <td>Ji</td>\n",
       "      <td>daily issue</td>\n",
       "      <td>스타들의 체크 활용법</td>\n",
       "      <td>http://www.vogue.co.kr/2019/09/19/%ec%8a%a4%ed...</td>\n",
       "      <td>2019.09.19</td>\n",
       "      <td>['다양한 패턴 중 가을과 가장 잘 어울리는 건 아마 체크일 겁니다. 클래식과 빈티...</td>\n",
       "      <td>0</td>\n",
       "      <td>0</td>\n",
       "    </tr>\n",
       "    <tr>\n",
       "      <th>38</th>\n",
       "      <td>V</td>\n",
       "      <td>Ji</td>\n",
       "      <td>daily issue</td>\n",
       "      <td>필름 카메라에 푹 빠진 스타들</td>\n",
       "      <td>http://www.vogue.co.kr/2019/09/16/%ed%95%84%eb...</td>\n",
       "      <td>2019.09.16</td>\n",
       "      <td>['투박한 카메라를 들고 셔터를 꾸욱 누르면, ‘찰칵’ 소리와 함께 사진이 찍힙니다...</td>\n",
       "      <td>0</td>\n",
       "      <td>0</td>\n",
       "    </tr>\n",
       "  </tbody>\n",
       "</table>\n",
       "</div>"
      ],
      "text/plain": [
       "   magazine brand     category                 title  \\\n",
       "26        V    Ji  daily issue  ‘텀블러’가 뽑은 올해의 인기 아이돌   \n",
       "36        V    Ji  daily issue           스타들의 체크 활용법   \n",
       "38        V    Ji  daily issue      필름 카메라에 푹 빠진 스타들   \n",
       "\n",
       "                                                 link        date  \\\n",
       "26  http://www.vogue.co.kr/2019/12/03/%ed%85%80%eb...  2019.12.03   \n",
       "36  http://www.vogue.co.kr/2019/09/19/%ec%8a%a4%ed...  2019.09.19   \n",
       "38  http://www.vogue.co.kr/2019/09/16/%ed%95%84%eb...  2019.09.16   \n",
       "\n",
       "                                             contents  title_brand  check  \n",
       "26  ['올해는 유독 K-팝의 인기가 높았습니다. 세계 어디에서도 한국 아이돌 노래를 들...            0      0  \n",
       "36  ['다양한 패턴 중 가을과 가장 잘 어울리는 건 아마 체크일 겁니다. 클래식과 빈티...            0      0  \n",
       "38  ['투박한 카메라를 들고 셔터를 꾸욱 누르면, ‘찰칵’ 소리와 함께 사진이 찍힙니다...            0      0  "
      ]
     },
     "execution_count": 21,
     "metadata": {},
     "output_type": "execute_result"
    }
   ],
   "source": [
    "V_Ji[(V_Ji['category'] == 'daily issue') & (V_Ji['check'] == 0)]"
   ]
  },
  {
   "cell_type": "code",
   "execution_count": 49,
   "metadata": {},
   "outputs": [
    {
     "name": "stdout",
     "output_type": "stream",
     "text": [
      "http://www.vogue.co.kr/2019/03/28/%eb%af%bc%ed%8a%b8%ec%b4%88%ec%bd%94-%ed%98%b8-vs-%eb%b6%88%ed%98%b8-%ec%95%84%ec%9d%b4%eb%8f%8c%ec%9d%98-%ec%84%a0%ed%83%9d/\n"
     ]
    }
   ],
   "source": [
    "print(V_Ji.loc[53, 'link'])"
   ]
  },
  {
   "cell_type": "code",
   "execution_count": 53,
   "metadata": {},
   "outputs": [],
   "source": [
    "V_Ji.loc[[11, 37],'check'] = 2"
   ]
  },
  {
   "cell_type": "code",
   "execution_count": 17,
   "metadata": {},
   "outputs": [],
   "source": [
    "# 중간저장\n",
    "V_Ji.to_csv('./data/Vogue_JISOO_df.csv' , sep='|', mode='w' , encoding='utf-8' , index=False)"
   ]
  },
  {
   "cell_type": "code",
   "execution_count": 18,
   "metadata": {
    "collapsed": true
   },
   "outputs": [
    {
     "data": {
      "text/html": [
       "<div>\n",
       "<style scoped>\n",
       "    .dataframe tbody tr th:only-of-type {\n",
       "        vertical-align: middle;\n",
       "    }\n",
       "\n",
       "    .dataframe tbody tr th {\n",
       "        vertical-align: top;\n",
       "    }\n",
       "\n",
       "    .dataframe thead th {\n",
       "        text-align: right;\n",
       "    }\n",
       "</style>\n",
       "<table border=\"1\" class=\"dataframe\">\n",
       "  <thead>\n",
       "    <tr style=\"text-align: right;\">\n",
       "      <th></th>\n",
       "      <th>magazine</th>\n",
       "      <th>brand</th>\n",
       "      <th>category</th>\n",
       "      <th>title</th>\n",
       "      <th>link</th>\n",
       "      <th>date</th>\n",
       "      <th>contents</th>\n",
       "      <th>title_brand</th>\n",
       "      <th>check</th>\n",
       "    </tr>\n",
       "  </thead>\n",
       "  <tbody>\n",
       "    <tr>\n",
       "      <th>0</th>\n",
       "      <td>V</td>\n",
       "      <td>Ji</td>\n",
       "      <td>Living</td>\n",
       "      <td>사계절의 이슈 스무 가지 #1</td>\n",
       "      <td>http://www.vogue.co.kr/2020/11/24/%ec%82%ac%ea...</td>\n",
       "      <td>2020.11.24</td>\n",
       "      <td>['세상의 대격변, 일상을 지키며 맞은 한반도의 변화. 그 사계절의 이슈 스무 가지...</td>\n",
       "      <td>0</td>\n",
       "      <td>0</td>\n",
       "    </tr>\n",
       "    <tr>\n",
       "      <th>1</th>\n",
       "      <td>V</td>\n",
       "      <td>Ji</td>\n",
       "      <td>Beauty</td>\n",
       "      <td>Hot!</td>\n",
       "      <td>http://www.vogue.co.kr/2020/11/14/hot/</td>\n",
       "      <td>2020.11.14</td>\n",
       "      <td>['한국인의 자존심!', '매운맛이 생각지 못한 소식으로 뉴스에 올랐습니다. 그 주...</td>\n",
       "      <td>0</td>\n",
       "      <td>2</td>\n",
       "    </tr>\n",
       "    <tr>\n",
       "      <th>2</th>\n",
       "      <td>V</td>\n",
       "      <td>Ji</td>\n",
       "      <td>Beauty</td>\n",
       "      <td>#IAMLIBRE</td>\n",
       "      <td>http://www.vogue.co.kr/2020/11/01/232989/</td>\n",
       "      <td>2020.11.01</td>\n",
       "      <td>['', '이브 생 로랑(Yves Saint Laurent)은 우리 여자들에게 자유...</td>\n",
       "      <td>0</td>\n",
       "      <td>2</td>\n",
       "    </tr>\n",
       "    <tr>\n",
       "      <th>3</th>\n",
       "      <td>V</td>\n",
       "      <td>Ji</td>\n",
       "      <td>Fashion</td>\n",
       "      <td>내일이 궁금한 여자 뮤지션 3인</td>\n",
       "      <td>http://www.vogue.co.kr/2020/09/25/%eb%82%b4%ec...</td>\n",
       "      <td>2020.09.25</td>\n",
       "      <td>['음악 하는 예술가, 부러 어긋나는 개척자, 가장 나다운 나.', '나는. 살아 ...</td>\n",
       "      <td>0</td>\n",
       "      <td>2</td>\n",
       "    </tr>\n",
       "    <tr>\n",
       "      <th>4</th>\n",
       "      <td>V</td>\n",
       "      <td>Ji</td>\n",
       "      <td>daily issue</td>\n",
       "      <td>블랙핑크 지수, 드라마 첫 주연</td>\n",
       "      <td>http://www.vogue.co.kr/2020/08/18/%eb%b8%94%eb...</td>\n",
       "      <td>2020.08.18</td>\n",
       "      <td>['걸 그룹 블랙핑크 지수가 드라마에 본격적으로 도전장을 내밉니다.', '', '지...</td>\n",
       "      <td>1</td>\n",
       "      <td>1</td>\n",
       "    </tr>\n",
       "    <tr>\n",
       "      <th>...</th>\n",
       "      <td>...</td>\n",
       "      <td>...</td>\n",
       "      <td>...</td>\n",
       "      <td>...</td>\n",
       "      <td>...</td>\n",
       "      <td>...</td>\n",
       "      <td>...</td>\n",
       "      <td>...</td>\n",
       "      <td>...</td>\n",
       "    </tr>\n",
       "    <tr>\n",
       "      <th>154</th>\n",
       "      <td>V</td>\n",
       "      <td>Ji</td>\n",
       "      <td>Fashion</td>\n",
       "      <td>Super 5 in SEOUL – ⑤ Clare Waight Keller (클레어 ...</td>\n",
       "      <td>http://www.vogue.co.kr/2016/08/04/super-5-in-s...</td>\n",
       "      <td>2016.08.04</td>\n",
       "      <td>['패션계는 패션의 미래를 이끌 마켓으로 상하이와 도쿄가 아닌 서울을 지목했다. 그...</td>\n",
       "      <td>0</td>\n",
       "      <td>2</td>\n",
       "    </tr>\n",
       "    <tr>\n",
       "      <th>155</th>\n",
       "      <td>V</td>\n",
       "      <td>Ji</td>\n",
       "      <td>Fashion</td>\n",
       "      <td>Super 5 in SEOUL – ③ Stuart Vevers (스튜어트 베버스)</td>\n",
       "      <td>http://www.vogue.co.kr/2016/08/02/super-5-in-s...</td>\n",
       "      <td>2016.08.02</td>\n",
       "      <td>['패션계는 패션의 미래를 이끌 마켓으로 상하이와 도쿄가 아닌 서울을 지목했다. 그...</td>\n",
       "      <td>0</td>\n",
       "      <td>2</td>\n",
       "    </tr>\n",
       "    <tr>\n",
       "      <th>156</th>\n",
       "      <td>V</td>\n",
       "      <td>Ji</td>\n",
       "      <td>Beauty</td>\n",
       "      <td>BEAUTY AND THE BEST – ⑦ CHARLOTTE CHO</td>\n",
       "      <td>http://www.vogue.co.kr/2016/08/01/beauty-and-t...</td>\n",
       "      <td>2016.08.01</td>\n",
       "      <td>['한국식 뷰티 루틴에 따라 피부를 가꾸고 ‘메이드 인 코리아’ 제품만 골라 쓰는 ...</td>\n",
       "      <td>0</td>\n",
       "      <td>0</td>\n",
       "    </tr>\n",
       "    <tr>\n",
       "      <th>157</th>\n",
       "      <td>V</td>\n",
       "      <td>Ji</td>\n",
       "      <td>Beauty</td>\n",
       "      <td>바캉스 대비 작전</td>\n",
       "      <td>http://www.vogue.co.kr/2016/07/19/%eb%b0%94%ec...</td>\n",
       "      <td>2016.07.19</td>\n",
       "      <td>[]</td>\n",
       "      <td>0</td>\n",
       "      <td>2</td>\n",
       "    </tr>\n",
       "    <tr>\n",
       "      <th>158</th>\n",
       "      <td>V</td>\n",
       "      <td>Ji</td>\n",
       "      <td>Fashion</td>\n",
       "      <td>#스타의옷장 #여름 모자</td>\n",
       "      <td>http://www.vogue.co.kr/2016/07/15/%ec%8a%a4%ed...</td>\n",
       "      <td>2016.07.15</td>\n",
       "      <td>['셀러브리티들의 평상시 스타일을 통해 알아본, 가장 핫한 패션 트렌드!\\n그 열두...</td>\n",
       "      <td>0</td>\n",
       "      <td>2</td>\n",
       "    </tr>\n",
       "  </tbody>\n",
       "</table>\n",
       "<p>159 rows × 9 columns</p>\n",
       "</div>"
      ],
      "text/plain": [
       "    magazine brand     category  \\\n",
       "0          V    Ji       Living   \n",
       "1          V    Ji       Beauty   \n",
       "2          V    Ji       Beauty   \n",
       "3          V    Ji      Fashion   \n",
       "4          V    Ji  daily issue   \n",
       "..       ...   ...          ...   \n",
       "154        V    Ji      Fashion   \n",
       "155        V    Ji      Fashion   \n",
       "156        V    Ji       Beauty   \n",
       "157        V    Ji       Beauty   \n",
       "158        V    Ji      Fashion   \n",
       "\n",
       "                                                 title  \\\n",
       "0                                     사계절의 이슈 스무 가지 #1   \n",
       "1                                                 Hot!   \n",
       "2                                            #IAMLIBRE   \n",
       "3                                    내일이 궁금한 여자 뮤지션 3인   \n",
       "4                                    블랙핑크 지수, 드라마 첫 주연   \n",
       "..                                                 ...   \n",
       "154  Super 5 in SEOUL – ⑤ Clare Waight Keller (클레어 ...   \n",
       "155      Super 5 in SEOUL – ③ Stuart Vevers (스튜어트 베버스)   \n",
       "156              BEAUTY AND THE BEST – ⑦ CHARLOTTE CHO   \n",
       "157                                          바캉스 대비 작전   \n",
       "158                                      #스타의옷장 #여름 모자   \n",
       "\n",
       "                                                  link        date  \\\n",
       "0    http://www.vogue.co.kr/2020/11/24/%ec%82%ac%ea...  2020.11.24   \n",
       "1               http://www.vogue.co.kr/2020/11/14/hot/  2020.11.14   \n",
       "2            http://www.vogue.co.kr/2020/11/01/232989/  2020.11.01   \n",
       "3    http://www.vogue.co.kr/2020/09/25/%eb%82%b4%ec...  2020.09.25   \n",
       "4    http://www.vogue.co.kr/2020/08/18/%eb%b8%94%eb...  2020.08.18   \n",
       "..                                                 ...         ...   \n",
       "154  http://www.vogue.co.kr/2016/08/04/super-5-in-s...  2016.08.04   \n",
       "155  http://www.vogue.co.kr/2016/08/02/super-5-in-s...  2016.08.02   \n",
       "156  http://www.vogue.co.kr/2016/08/01/beauty-and-t...  2016.08.01   \n",
       "157  http://www.vogue.co.kr/2016/07/19/%eb%b0%94%ec...  2016.07.19   \n",
       "158  http://www.vogue.co.kr/2016/07/15/%ec%8a%a4%ed...  2016.07.15   \n",
       "\n",
       "                                              contents  title_brand  check  \n",
       "0    ['세상의 대격변, 일상을 지키며 맞은 한반도의 변화. 그 사계절의 이슈 스무 가지...            0      0  \n",
       "1    ['한국인의 자존심!', '매운맛이 생각지 못한 소식으로 뉴스에 올랐습니다. 그 주...            0      2  \n",
       "2    ['', '이브 생 로랑(Yves Saint Laurent)은 우리 여자들에게 자유...            0      2  \n",
       "3    ['음악 하는 예술가, 부러 어긋나는 개척자, 가장 나다운 나.', '나는. 살아 ...            0      2  \n",
       "4    ['걸 그룹 블랙핑크 지수가 드라마에 본격적으로 도전장을 내밉니다.', '', '지...            1      1  \n",
       "..                                                 ...          ...    ...  \n",
       "154  ['패션계는 패션의 미래를 이끌 마켓으로 상하이와 도쿄가 아닌 서울을 지목했다. 그...            0      2  \n",
       "155  ['패션계는 패션의 미래를 이끌 마켓으로 상하이와 도쿄가 아닌 서울을 지목했다. 그...            0      2  \n",
       "156  ['한국식 뷰티 루틴에 따라 피부를 가꾸고 ‘메이드 인 코리아’ 제품만 골라 쓰는 ...            0      0  \n",
       "157                                                 []            0      2  \n",
       "158  ['셀러브리티들의 평상시 스타일을 통해 알아본, 가장 핫한 패션 트렌드!\\n그 열두...            0      2  \n",
       "\n",
       "[159 rows x 9 columns]"
      ]
     },
     "execution_count": 18,
     "metadata": {},
     "output_type": "execute_result"
    }
   ],
   "source": [
    "V_Ji = pd.read_csv('./data/Vogue_JISOO_df.csv' , sep='|', encoding='utf-8')\n",
    "V_Ji"
   ]
  },
  {
   "cell_type": "code",
   "execution_count": 53,
   "metadata": {
    "collapsed": true
   },
   "outputs": [
    {
     "data": {
      "text/html": [
       "<div>\n",
       "<style scoped>\n",
       "    .dataframe tbody tr th:only-of-type {\n",
       "        vertical-align: middle;\n",
       "    }\n",
       "\n",
       "    .dataframe tbody tr th {\n",
       "        vertical-align: top;\n",
       "    }\n",
       "\n",
       "    .dataframe thead th {\n",
       "        text-align: right;\n",
       "    }\n",
       "</style>\n",
       "<table border=\"1\" class=\"dataframe\">\n",
       "  <thead>\n",
       "    <tr style=\"text-align: right;\">\n",
       "      <th></th>\n",
       "      <th>magazine</th>\n",
       "      <th>brand</th>\n",
       "      <th>category</th>\n",
       "      <th>title</th>\n",
       "      <th>link</th>\n",
       "      <th>date</th>\n",
       "      <th>contents</th>\n",
       "      <th>title_brand</th>\n",
       "      <th>check</th>\n",
       "    </tr>\n",
       "  </thead>\n",
       "  <tbody>\n",
       "    <tr>\n",
       "      <th>10</th>\n",
       "      <td>V</td>\n",
       "      <td>Ji</td>\n",
       "      <td>Fashion</td>\n",
       "      <td>블랙핑크 리사, 레드벨벳 아이린이 즐겨 입는 여름 티셔츠는?</td>\n",
       "      <td>http://www.vogue.co.kr/2020/06/17/%eb%b8%94%eb...</td>\n",
       "      <td>2020.06.17</td>\n",
       "      <td>['여름엔 티셔츠만 한 게 없죠. 무더위를 공략하면서 스타일까지 챙긴, 잘 고른 티...</td>\n",
       "      <td>0</td>\n",
       "      <td>0</td>\n",
       "    </tr>\n",
       "    <tr>\n",
       "      <th>16</th>\n",
       "      <td>V</td>\n",
       "      <td>Ji</td>\n",
       "      <td>Fashion</td>\n",
       "      <td>몽중몽</td>\n",
       "      <td>http://www.vogue.co.kr/2020/02/26/%e5%a4%a2%e4...</td>\n",
       "      <td>2020.02.26</td>\n",
       "      <td>['물과 하늘 사이 이어지는 몽환적인 세계에 들어선 블랙핑크.', '‘블랙핑크’를 ...</td>\n",
       "      <td>0</td>\n",
       "      <td>0</td>\n",
       "    </tr>\n",
       "    <tr>\n",
       "      <th>31</th>\n",
       "      <td>V</td>\n",
       "      <td>Ji</td>\n",
       "      <td>Fashion</td>\n",
       "      <td>Star Is Born</td>\n",
       "      <td>http://www.vogue.co.kr/2019/09/27/star-is-born/</td>\n",
       "      <td>2019.09.27</td>\n",
       "      <td>['새로운 패션 인플루언서의 탄생! 글로벌 엔터테이너 ‘라이언’이 스튜어트 베버스의...</td>\n",
       "      <td>0</td>\n",
       "      <td>0</td>\n",
       "    </tr>\n",
       "    <tr>\n",
       "      <th>39</th>\n",
       "      <td>V</td>\n",
       "      <td>Ji</td>\n",
       "      <td>Fashion</td>\n",
       "      <td>이제 곧 시작하는 4대 도시 패션 위크에서 주목할 만한 포인트 7가지 #VKFW20...</td>\n",
       "      <td>http://www.vogue.co.kr/2019/09/06/%ec%9d%b4%ec...</td>\n",
       "      <td>2019.09.06</td>\n",
       "      <td>['2020년 봄여름을 위한 컬렉션이 시작되었다. 뉴욕부터 런던, 밀라노를 거쳐 파...</td>\n",
       "      <td>0</td>\n",
       "      <td>0</td>\n",
       "    </tr>\n",
       "    <tr>\n",
       "      <th>72</th>\n",
       "      <td>V</td>\n",
       "      <td>Ji</td>\n",
       "      <td>Fashion</td>\n",
       "      <td>핑크 펑크</td>\n",
       "      <td>http://www.vogue.co.kr/2018/08/01/%ed%95%91%ed...</td>\n",
       "      <td>2018.08.01</td>\n",
       "      <td>['더 이상의 핑크는 필요 없다. 인간 핑크가 된 블랙핑크.', '블랙핑크로 팀 이...</td>\n",
       "      <td>0</td>\n",
       "      <td>0</td>\n",
       "    </tr>\n",
       "    <tr>\n",
       "      <th>82</th>\n",
       "      <td>V</td>\n",
       "      <td>Ji</td>\n",
       "      <td>Fashion</td>\n",
       "      <td>modern hero</td>\n",
       "      <td>http://www.vogue.co.kr/2018/01/29/modern-hero/</td>\n",
       "      <td>2018.01.29</td>\n",
       "      <td>['자신만의 방식으로 세상의 지지와 신뢰를 얻고, 대중성의 왕관을 쓴 류승룡이 이번...</td>\n",
       "      <td>0</td>\n",
       "      <td>0</td>\n",
       "    </tr>\n",
       "    <tr>\n",
       "      <th>96</th>\n",
       "      <td>V</td>\n",
       "      <td>Ji</td>\n",
       "      <td>Fashion</td>\n",
       "      <td>Rad Guys</td>\n",
       "      <td>http://www.vogue.co.kr/2017/11/24/rad-guys/</td>\n",
       "      <td>2017.11.24</td>\n",
       "      <td>['수컷의 으르렁거림이 들릴 듯한 남자들. 박중훈, 주진모, 양익준, 김무열, 지수...</td>\n",
       "      <td>0</td>\n",
       "      <td>0</td>\n",
       "    </tr>\n",
       "    <tr>\n",
       "      <th>153</th>\n",
       "      <td>V</td>\n",
       "      <td>Ji</td>\n",
       "      <td>Fashion</td>\n",
       "      <td>Another Vogue – 20인과의 인터뷰</td>\n",
       "      <td>http://www.vogue.co.kr/2016/08/22/another-vogu...</td>\n",
       "      <td>2016.08.22</td>\n",
       "      <td>['지난 20년 동안 숱한 아티스트를 뮤즈로 삼아온 &lt;보그&gt;는 이달 ‘Another...</td>\n",
       "      <td>0</td>\n",
       "      <td>0</td>\n",
       "    </tr>\n",
       "  </tbody>\n",
       "</table>\n",
       "</div>"
      ],
      "text/plain": [
       "    magazine brand category  \\\n",
       "10         V    Ji  Fashion   \n",
       "16         V    Ji  Fashion   \n",
       "31         V    Ji  Fashion   \n",
       "39         V    Ji  Fashion   \n",
       "72         V    Ji  Fashion   \n",
       "82         V    Ji  Fashion   \n",
       "96         V    Ji  Fashion   \n",
       "153        V    Ji  Fashion   \n",
       "\n",
       "                                                 title  \\\n",
       "10                   블랙핑크 리사, 레드벨벳 아이린이 즐겨 입는 여름 티셔츠는?   \n",
       "16                                                 몽중몽   \n",
       "31                                        Star Is Born   \n",
       "39   이제 곧 시작하는 4대 도시 패션 위크에서 주목할 만한 포인트 7가지 #VKFW20...   \n",
       "72                                               핑크 펑크   \n",
       "82                                         modern hero   \n",
       "96                                            Rad Guys   \n",
       "153                          Another Vogue – 20인과의 인터뷰   \n",
       "\n",
       "                                                  link        date  \\\n",
       "10   http://www.vogue.co.kr/2020/06/17/%eb%b8%94%eb...  2020.06.17   \n",
       "16   http://www.vogue.co.kr/2020/02/26/%e5%a4%a2%e4...  2020.02.26   \n",
       "31     http://www.vogue.co.kr/2019/09/27/star-is-born/  2019.09.27   \n",
       "39   http://www.vogue.co.kr/2019/09/06/%ec%9d%b4%ec...  2019.09.06   \n",
       "72   http://www.vogue.co.kr/2018/08/01/%ed%95%91%ed...  2018.08.01   \n",
       "82      http://www.vogue.co.kr/2018/01/29/modern-hero/  2018.01.29   \n",
       "96         http://www.vogue.co.kr/2017/11/24/rad-guys/  2017.11.24   \n",
       "153  http://www.vogue.co.kr/2016/08/22/another-vogu...  2016.08.22   \n",
       "\n",
       "                                              contents  title_brand  check  \n",
       "10   ['여름엔 티셔츠만 한 게 없죠. 무더위를 공략하면서 스타일까지 챙긴, 잘 고른 티...            0      0  \n",
       "16   ['물과 하늘 사이 이어지는 몽환적인 세계에 들어선 블랙핑크.', '‘블랙핑크’를 ...            0      0  \n",
       "31   ['새로운 패션 인플루언서의 탄생! 글로벌 엔터테이너 ‘라이언’이 스튜어트 베버스의...            0      0  \n",
       "39   ['2020년 봄여름을 위한 컬렉션이 시작되었다. 뉴욕부터 런던, 밀라노를 거쳐 파...            0      0  \n",
       "72   ['더 이상의 핑크는 필요 없다. 인간 핑크가 된 블랙핑크.', '블랙핑크로 팀 이...            0      0  \n",
       "82   ['자신만의 방식으로 세상의 지지와 신뢰를 얻고, 대중성의 왕관을 쓴 류승룡이 이번...            0      0  \n",
       "96   ['수컷의 으르렁거림이 들릴 듯한 남자들. 박중훈, 주진모, 양익준, 김무열, 지수...            0      0  \n",
       "153  ['지난 20년 동안 숱한 아티스트를 뮤즈로 삼아온 <보그>는 이달 ‘Another...            0      0  "
      ]
     },
     "execution_count": 53,
     "metadata": {},
     "output_type": "execute_result"
    }
   ],
   "source": [
    "V_Ji[(V_Ji['category'] == 'Fashion') & (V_Ji['check'] == 0)]"
   ]
  },
  {
   "cell_type": "code",
   "execution_count": 54,
   "metadata": {},
   "outputs": [
    {
     "name": "stdout",
     "output_type": "stream",
     "text": [
      "http://www.vogue.co.kr/2016/08/22/another-vogue-20%ec%9d%b8%ea%b3%bc%ec%9d%98-%ec%9d%b8%ed%84%b0%eb%b7%b0/\n"
     ]
    }
   ],
   "source": [
    "print(V_Ji.loc[153, 'link'])"
   ]
  },
  {
   "cell_type": "code",
   "execution_count": 56,
   "metadata": {},
   "outputs": [],
   "source": [
    "V_Ji.loc[[31, 39, 82, 96],'check'] = 2"
   ]
  },
  {
   "cell_type": "code",
   "execution_count": 89,
   "metadata": {
    "scrolled": true
   },
   "outputs": [
    {
     "data": {
      "text/html": [
       "<div>\n",
       "<style scoped>\n",
       "    .dataframe tbody tr th:only-of-type {\n",
       "        vertical-align: middle;\n",
       "    }\n",
       "\n",
       "    .dataframe tbody tr th {\n",
       "        vertical-align: top;\n",
       "    }\n",
       "\n",
       "    .dataframe thead th {\n",
       "        text-align: right;\n",
       "    }\n",
       "</style>\n",
       "<table border=\"1\" class=\"dataframe\">\n",
       "  <thead>\n",
       "    <tr style=\"text-align: right;\">\n",
       "      <th></th>\n",
       "      <th>magazine</th>\n",
       "      <th>brand</th>\n",
       "      <th>category</th>\n",
       "      <th>title</th>\n",
       "      <th>link</th>\n",
       "      <th>date</th>\n",
       "      <th>contents</th>\n",
       "      <th>title_brand</th>\n",
       "      <th>check</th>\n",
       "    </tr>\n",
       "  </thead>\n",
       "  <tbody>\n",
       "    <tr>\n",
       "      <th>66</th>\n",
       "      <td>V</td>\n",
       "      <td>Ji</td>\n",
       "      <td>Living</td>\n",
       "      <td>그들만의 언어, ‘돌민정음’</td>\n",
       "      <td>http://www.vogue.co.kr/2018/09/26/%ea%b7%b8%eb...</td>\n",
       "      <td>2018.09.26</td>\n",
       "      <td>['국내는 물론이고 전 세계적으로 K-pop이 대세라는 사실을 부정할 사람은 없을 ...</td>\n",
       "      <td>0</td>\n",
       "      <td>0</td>\n",
       "    </tr>\n",
       "    <tr>\n",
       "      <th>83</th>\n",
       "      <td>V</td>\n",
       "      <td>Ji</td>\n",
       "      <td>Living</td>\n",
       "      <td>우아함의 반대말</td>\n",
       "      <td>http://www.vogue.co.kr/2018/01/25/%ec%9a%b0%ec...</td>\n",
       "      <td>2018.01.25</td>\n",
       "      <td>['아침저녁으로 인스타그램에 코를 박고 있다가도 무시로 이 세계가 21세기적 스타를...</td>\n",
       "      <td>0</td>\n",
       "      <td>0</td>\n",
       "    </tr>\n",
       "    <tr>\n",
       "      <th>127</th>\n",
       "      <td>V</td>\n",
       "      <td>Ji</td>\n",
       "      <td>Living</td>\n",
       "      <td>247년만의 프러포즈</td>\n",
       "      <td>http://www.vogue.co.kr/2017/04/06/247%eb%85%84...</td>\n",
       "      <td>2017.04.06</td>\n",
       "      <td>['오늘날 자동차에 가까운 발명품은 247년 전, 1770년 프랑스에서 등장했지만 ...</td>\n",
       "      <td>0</td>\n",
       "      <td>0</td>\n",
       "    </tr>\n",
       "  </tbody>\n",
       "</table>\n",
       "</div>"
      ],
      "text/plain": [
       "    magazine brand category            title  \\\n",
       "66         V    Ji   Living  그들만의 언어, ‘돌민정음’   \n",
       "83         V    Ji   Living         우아함의 반대말   \n",
       "127        V    Ji   Living      247년만의 프러포즈   \n",
       "\n",
       "                                                  link        date  \\\n",
       "66   http://www.vogue.co.kr/2018/09/26/%ea%b7%b8%eb...  2018.09.26   \n",
       "83   http://www.vogue.co.kr/2018/01/25/%ec%9a%b0%ec...  2018.01.25   \n",
       "127  http://www.vogue.co.kr/2017/04/06/247%eb%85%84...  2017.04.06   \n",
       "\n",
       "                                              contents  title_brand  check  \n",
       "66   ['국내는 물론이고 전 세계적으로 K-pop이 대세라는 사실을 부정할 사람은 없을 ...            0      0  \n",
       "83   ['아침저녁으로 인스타그램에 코를 박고 있다가도 무시로 이 세계가 21세기적 스타를...            0      0  \n",
       "127  ['오늘날 자동차에 가까운 발명품은 247년 전, 1770년 프랑스에서 등장했지만 ...            0      0  "
      ]
     },
     "execution_count": 89,
     "metadata": {},
     "output_type": "execute_result"
    }
   ],
   "source": [
    "V_Ji[(V_Ji['category'] == 'Living') & (V_Ji['check'] == 0)]"
   ]
  },
  {
   "cell_type": "code",
   "execution_count": 90,
   "metadata": {},
   "outputs": [
    {
     "name": "stdout",
     "output_type": "stream",
     "text": [
      "http://www.vogue.co.kr/2017/04/06/247%eb%85%84%eb%a7%8c%ec%9d%98-%ed%94%84%eb%9f%ac%ed%8f%ac%ec%a6%88/\n"
     ]
    }
   ],
   "source": [
    "print(V_Ji.loc[127, 'link'])"
   ]
  },
  {
   "cell_type": "code",
   "execution_count": 93,
   "metadata": {},
   "outputs": [],
   "source": [
    "V_Ji.loc[[83],'check'] = 2"
   ]
  },
  {
   "cell_type": "code",
   "execution_count": 148,
   "metadata": {
    "scrolled": true
   },
   "outputs": [
    {
     "data": {
      "text/html": [
       "<div>\n",
       "<style scoped>\n",
       "    .dataframe tbody tr th:only-of-type {\n",
       "        vertical-align: middle;\n",
       "    }\n",
       "\n",
       "    .dataframe tbody tr th {\n",
       "        vertical-align: top;\n",
       "    }\n",
       "\n",
       "    .dataframe thead th {\n",
       "        text-align: right;\n",
       "    }\n",
       "</style>\n",
       "<table border=\"1\" class=\"dataframe\">\n",
       "  <thead>\n",
       "    <tr style=\"text-align: right;\">\n",
       "      <th></th>\n",
       "      <th>magazine</th>\n",
       "      <th>brand</th>\n",
       "      <th>category</th>\n",
       "      <th>title</th>\n",
       "      <th>link</th>\n",
       "      <th>date</th>\n",
       "      <th>contents</th>\n",
       "      <th>title_brand</th>\n",
       "      <th>check</th>\n",
       "    </tr>\n",
       "  </thead>\n",
       "  <tbody>\n",
       "    <tr>\n",
       "      <th>17</th>\n",
       "      <td>V</td>\n",
       "      <td>Ji</td>\n",
       "      <td>Beauty</td>\n",
       "      <td>En Etoile</td>\n",
       "      <td>http://www.vogue.co.kr/2020/02/24/en-etoile/</td>\n",
       "      <td>2020.02.24</td>\n",
       "      <td>['유성이 빛을 발하는 시간은 수십 분의 1초에서 수 초 사이. 그 찰나의 아름다움...</td>\n",
       "      <td>0</td>\n",
       "      <td>0</td>\n",
       "    </tr>\n",
       "    <tr>\n",
       "      <th>34</th>\n",
       "      <td>V</td>\n",
       "      <td>Ji</td>\n",
       "      <td>Beauty</td>\n",
       "      <td>앞머리 대신 잔머리</td>\n",
       "      <td>http://www.vogue.co.kr/2019/09/20/%ec%95%9e%eb...</td>\n",
       "      <td>2019.09.20</td>\n",
       "      <td>['드라마 &lt;호텔 델루나&gt;가 끝난 지도 어언 3주. 하지만 아이유도, 팬들도 ‘장만...</td>\n",
       "      <td>0</td>\n",
       "      <td>0</td>\n",
       "    </tr>\n",
       "    <tr>\n",
       "      <th>41</th>\n",
       "      <td>V</td>\n",
       "      <td>Ji</td>\n",
       "      <td>Beauty</td>\n",
       "      <td>지방 녹이는 오일? 크릴 오일 선택법</td>\n",
       "      <td>http://www.vogue.co.kr/2019/08/26/%ec%a7%80%eb...</td>\n",
       "      <td>2019.08.26</td>\n",
       "      <td>['혈관 건강 증진과 다이어트 효과까지 볼 수 있어 주목받고 있는 크릴 오일!', ...</td>\n",
       "      <td>0</td>\n",
       "      <td>0</td>\n",
       "    </tr>\n",
       "    <tr>\n",
       "      <th>95</th>\n",
       "      <td>V</td>\n",
       "      <td>Ji</td>\n",
       "      <td>Beauty</td>\n",
       "      <td>HOLIDAY NAILS</td>\n",
       "      <td>http://www.vogue.co.kr/2017/12/04/holiday-nails/</td>\n",
       "      <td>2017.12.04</td>\n",
       "      <td>[' ', '크리스마스에 산타 할아버지가 빠지면 섭섭하죠? 네일 아티스트 케이티는 ...</td>\n",
       "      <td>0</td>\n",
       "      <td>0</td>\n",
       "    </tr>\n",
       "    <tr>\n",
       "      <th>99</th>\n",
       "      <td>V</td>\n",
       "      <td>Ji</td>\n",
       "      <td>Beauty</td>\n",
       "      <td>외까풀이 매력적인 남자 7</td>\n",
       "      <td>http://www.vogue.co.kr/2017/11/09/%ec%99%b8%ea...</td>\n",
       "      <td>2017.11.09</td>\n",
       "      <td>['10대를 넘어 20~40대 등 다양한 연령대의 여성들에게 사랑받고 있는 그룹 ‘...</td>\n",
       "      <td>0</td>\n",
       "      <td>0</td>\n",
       "    </tr>\n",
       "    <tr>\n",
       "      <th>104</th>\n",
       "      <td>V</td>\n",
       "      <td>Ji</td>\n",
       "      <td>Beauty</td>\n",
       "      <td>인생은 40부터! 동안 미녀들의 뷰티 팁</td>\n",
       "      <td>http://www.vogue.co.kr/2017/10/16/%ec%9d%b8%ec...</td>\n",
       "      <td>2017.10.16</td>\n",
       "      <td>['나이는 나만 먹나봐? 시간을 가늠하기 힘들 정도로 아름다움을 유지하는 그녀들의 ...</td>\n",
       "      <td>0</td>\n",
       "      <td>0</td>\n",
       "    </tr>\n",
       "    <tr>\n",
       "      <th>105</th>\n",
       "      <td>V</td>\n",
       "      <td>Ji</td>\n",
       "      <td>Beauty</td>\n",
       "      <td>단발병 주의보</td>\n",
       "      <td>http://www.vogue.co.kr/2017/09/25/%eb%8b%a8%eb...</td>\n",
       "      <td>2017.09.25</td>\n",
       "      <td>['긴 머리를 고수해온 여성들의 마음을 설레게 할 ‘단발병 유발자’를 소개합니다.'...</td>\n",
       "      <td>0</td>\n",
       "      <td>0</td>\n",
       "    </tr>\n",
       "    <tr>\n",
       "      <th>115</th>\n",
       "      <td>V</td>\n",
       "      <td>Ji</td>\n",
       "      <td>Beauty</td>\n",
       "      <td>Green Green Grass of Home</td>\n",
       "      <td>http://www.vogue.co.kr/2017/07/26/green-green-...</td>\n",
       "      <td>2017.07.26</td>\n",
       "      <td>['봄나물 밥상이나 다이어트 샐러드 같은 소소한 소재에 불과하던 채소가 2017년 ...</td>\n",
       "      <td>0</td>\n",
       "      <td>0</td>\n",
       "    </tr>\n",
       "    <tr>\n",
       "      <th>130</th>\n",
       "      <td>V</td>\n",
       "      <td>Ji</td>\n",
       "      <td>Beauty</td>\n",
       "      <td>‘세젤예’ 셀럽 봄 헤어</td>\n",
       "      <td>http://www.vogue.co.kr/2017/03/30/%ec%84%b8%ec...</td>\n",
       "      <td>2017.03.30</td>\n",
       "      <td>['거울만 보면 ‘머리하고 싶다’는 생각이 가득! 이번 봄 헤어 변신을 계획하고 있...</td>\n",
       "      <td>0</td>\n",
       "      <td>0</td>\n",
       "    </tr>\n",
       "  </tbody>\n",
       "</table>\n",
       "</div>"
      ],
      "text/plain": [
       "    magazine brand category                      title  \\\n",
       "17         V    Ji   Beauty                  En Etoile   \n",
       "34         V    Ji   Beauty                 앞머리 대신 잔머리   \n",
       "41         V    Ji   Beauty       지방 녹이는 오일? 크릴 오일 선택법   \n",
       "95         V    Ji   Beauty              HOLIDAY NAILS   \n",
       "99         V    Ji   Beauty             외까풀이 매력적인 남자 7   \n",
       "104        V    Ji   Beauty     인생은 40부터! 동안 미녀들의 뷰티 팁   \n",
       "105        V    Ji   Beauty                    단발병 주의보   \n",
       "115        V    Ji   Beauty  Green Green Grass of Home   \n",
       "130        V    Ji   Beauty              ‘세젤예’ 셀럽 봄 헤어   \n",
       "\n",
       "                                                  link        date  \\\n",
       "17        http://www.vogue.co.kr/2020/02/24/en-etoile/  2020.02.24   \n",
       "34   http://www.vogue.co.kr/2019/09/20/%ec%95%9e%eb...  2019.09.20   \n",
       "41   http://www.vogue.co.kr/2019/08/26/%ec%a7%80%eb...  2019.08.26   \n",
       "95    http://www.vogue.co.kr/2017/12/04/holiday-nails/  2017.12.04   \n",
       "99   http://www.vogue.co.kr/2017/11/09/%ec%99%b8%ea...  2017.11.09   \n",
       "104  http://www.vogue.co.kr/2017/10/16/%ec%9d%b8%ec...  2017.10.16   \n",
       "105  http://www.vogue.co.kr/2017/09/25/%eb%8b%a8%eb...  2017.09.25   \n",
       "115  http://www.vogue.co.kr/2017/07/26/green-green-...  2017.07.26   \n",
       "130  http://www.vogue.co.kr/2017/03/30/%ec%84%b8%ec...  2017.03.30   \n",
       "\n",
       "                                              contents  title_brand  check  \n",
       "17   ['유성이 빛을 발하는 시간은 수십 분의 1초에서 수 초 사이. 그 찰나의 아름다움...            0      0  \n",
       "34   ['드라마 <호텔 델루나>가 끝난 지도 어언 3주. 하지만 아이유도, 팬들도 ‘장만...            0      0  \n",
       "41   ['혈관 건강 증진과 다이어트 효과까지 볼 수 있어 주목받고 있는 크릴 오일!', ...            0      0  \n",
       "95   [' ', '크리스마스에 산타 할아버지가 빠지면 섭섭하죠? 네일 아티스트 케이티는 ...            0      0  \n",
       "99   ['10대를 넘어 20~40대 등 다양한 연령대의 여성들에게 사랑받고 있는 그룹 ‘...            0      0  \n",
       "104  ['나이는 나만 먹나봐? 시간을 가늠하기 힘들 정도로 아름다움을 유지하는 그녀들의 ...            0      0  \n",
       "105  ['긴 머리를 고수해온 여성들의 마음을 설레게 할 ‘단발병 유발자’를 소개합니다.'...            0      0  \n",
       "115  ['봄나물 밥상이나 다이어트 샐러드 같은 소소한 소재에 불과하던 채소가 2017년 ...            0      0  \n",
       "130  ['거울만 보면 ‘머리하고 싶다’는 생각이 가득! 이번 봄 헤어 변신을 계획하고 있...            0      0  "
      ]
     },
     "execution_count": 148,
     "metadata": {},
     "output_type": "execute_result"
    }
   ],
   "source": [
    "V_Ji[(V_Ji['category'] == 'Beauty') & (V_Ji['check'] == 0)]"
   ]
  },
  {
   "cell_type": "code",
   "execution_count": 146,
   "metadata": {},
   "outputs": [
    {
     "name": "stdout",
     "output_type": "stream",
     "text": [
      "http://www.vogue.co.kr/2016/09/30/night-wishes/\n"
     ]
    }
   ],
   "source": [
    "print(V_Ji.loc[150, 'link'])"
   ]
  },
  {
   "cell_type": "code",
   "execution_count": 149,
   "metadata": {},
   "outputs": [],
   "source": [
    "V_Ji.loc[[41, 99, 104, 105, 115, 130], 'check'] = 2"
   ]
  },
  {
   "cell_type": "code",
   "execution_count": 150,
   "metadata": {},
   "outputs": [],
   "source": [
    "# 중간저장\n",
    "V_Ji.to_csv('./data/Vogue_JISOO_df.csv' , sep='|', mode='w' , encoding='utf-8' , index=False)"
   ]
  },
  {
   "cell_type": "code",
   "execution_count": null,
   "metadata": {},
   "outputs": [],
   "source": []
  }
 ],
 "metadata": {
  "kernelspec": {
   "display_name": "Python 3",
   "language": "python",
   "name": "python3"
  },
  "language_info": {
   "codemirror_mode": {
    "name": "ipython",
    "version": 3
   },
   "file_extension": ".py",
   "mimetype": "text/x-python",
   "name": "python",
   "nbconvert_exporter": "python",
   "pygments_lexer": "ipython3",
   "version": "3.8.3"
  }
 },
 "nbformat": 4,
 "nbformat_minor": 4
}
