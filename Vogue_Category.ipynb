{
 "cells": [
  {
   "cell_type": "markdown",
   "metadata": {},
   "source": [
    "# 보그에서 카테고리 갖고오기"
   ]
  },
  {
   "cell_type": "code",
   "execution_count": 1,
   "metadata": {},
   "outputs": [],
   "source": [
    "import pandas as pd\n",
    "import numpy as np"
   ]
  },
  {
   "cell_type": "code",
   "execution_count": 24,
   "metadata": {},
   "outputs": [],
   "source": [
    "from selenium import webdriver\n",
    "import time"
   ]
  },
  {
   "cell_type": "code",
   "execution_count": 3,
   "metadata": {
    "collapsed": true
   },
   "outputs": [
    {
     "data": {
      "text/html": [
       "<div>\n",
       "<style scoped>\n",
       "    .dataframe tbody tr th:only-of-type {\n",
       "        vertical-align: middle;\n",
       "    }\n",
       "\n",
       "    .dataframe tbody tr th {\n",
       "        vertical-align: top;\n",
       "    }\n",
       "\n",
       "    .dataframe thead th {\n",
       "        text-align: right;\n",
       "    }\n",
       "</style>\n",
       "<table border=\"1\" class=\"dataframe\">\n",
       "  <thead>\n",
       "    <tr style=\"text-align: right;\">\n",
       "      <th></th>\n",
       "      <th>title</th>\n",
       "      <th>date</th>\n",
       "      <th>link</th>\n",
       "      <th>디올</th>\n",
       "      <th>check</th>\n",
       "      <th>why</th>\n",
       "      <th>contents</th>\n",
       "    </tr>\n",
       "  </thead>\n",
       "  <tbody>\n",
       "    <tr>\n",
       "      <th>0</th>\n",
       "      <td>보물 창고 같은 빈티지 숍</td>\n",
       "      <td>2020.11.09</td>\n",
       "      <td>http://www.vogue.co.kr/2020/11/09/%eb%b3%b4%eb...</td>\n",
       "      <td>0</td>\n",
       "      <td>2</td>\n",
       "      <td>NaN</td>\n",
       "      <td>['시간을 간직한 빈티지 패션 아이템은 그 어떤 트렌디한 아이템에서도 느낄 수 없는...</td>\n",
       "    </tr>\n",
       "    <tr>\n",
       "      <th>1</th>\n",
       "      <td>패션계 F4를 소개합니다</td>\n",
       "      <td>2020.10.28</td>\n",
       "      <td>http://www.vogue.co.kr/2020/10/28/%ed%8c%a8%ec...</td>\n",
       "      <td>0</td>\n",
       "      <td>3</td>\n",
       "      <td>다른 브랜드 같이 있는데 디올에 해당하는 기사만 긁어오면 넘 좋겠어요 ㅜ</td>\n",
       "      <td>['LVMH와 케어링 그룹, 루이 비통과 디올, 구찌와 생로랑.\\n니콜라 제스키에르...</td>\n",
       "    </tr>\n",
       "    <tr>\n",
       "      <th>2</th>\n",
       "      <td>패션, 아멘</td>\n",
       "      <td>2020.10.21</td>\n",
       "      <td>http://www.vogue.co.kr/2020/10/21/%ed%8c%a8%ec...</td>\n",
       "      <td>0</td>\n",
       "      <td>2</td>\n",
       "      <td>NaN</td>\n",
       "      <td>['오뜨 꾸뛰르와 하이 스트리트 패션과 마찬가지로 패션 비즈니스도 대대적 재평가를 ...</td>\n",
       "    </tr>\n",
       "    <tr>\n",
       "      <th>3</th>\n",
       "      <td>송경아처럼 예쁜 집 꾸미는 법</td>\n",
       "      <td>2020.10.15</td>\n",
       "      <td>http://www.vogue.co.kr/2020/10/15/%ec%86%a1%ea...</td>\n",
       "      <td>0</td>\n",
       "      <td>2</td>\n",
       "      <td>NaN</td>\n",
       "      <td>['손수 디자인한 프렌치 스타일 소파부터 아기자기하게 꾸민 주방, 레트로풍 조명과 ...</td>\n",
       "    </tr>\n",
       "    <tr>\n",
       "      <th>4</th>\n",
       "      <td>스트레이 키즈의 후회 없는 순간</td>\n",
       "      <td>2020.10.02</td>\n",
       "      <td>http://www.vogue.co.kr/2020/10/02/%ec%8a%a4%ed...</td>\n",
       "      <td>0</td>\n",
       "      <td>2</td>\n",
       "      <td>NaN</td>\n",
       "      <td>['후회 없이 지금이라는 순간을 만끽하고 싶다면, ‘스트레이 키즈’ 여덟 명의 소년...</td>\n",
       "    </tr>\n",
       "    <tr>\n",
       "      <th>...</th>\n",
       "      <td>...</td>\n",
       "      <td>...</td>\n",
       "      <td>...</td>\n",
       "      <td>...</td>\n",
       "      <td>...</td>\n",
       "      <td>...</td>\n",
       "      <td>...</td>\n",
       "    </tr>\n",
       "    <tr>\n",
       "      <th>490</th>\n",
       "      <td>상하이의 디올 전시</td>\n",
       "      <td>2013.11.20</td>\n",
       "      <td>http://www.vogue.co.kr/2013/11/20/%ec%83%81%ed...</td>\n",
       "      <td>1</td>\n",
       "      <td>0</td>\n",
       "      <td>NaN</td>\n",
       "      <td>['47년 여성의 몸이 만들어낸 아름다운 곡선을 따라 ‘바 수트’란 우아한 룩을 창...</td>\n",
       "    </tr>\n",
       "    <tr>\n",
       "      <th>491</th>\n",
       "      <td>‘미스 디올’로 변신한 전지현 2</td>\n",
       "      <td>2013.09.03</td>\n",
       "      <td>http://www.vogue.co.kr/2013/09/03/%eb%af%b8%ec...</td>\n",
       "      <td>1</td>\n",
       "      <td>0</td>\n",
       "      <td>NaN</td>\n",
       "      <td>['CF 퀸이자 스타일 아이콘이었던 그녀가 여배우로서 그리 강한 존재감을 드러낼 줄...</td>\n",
       "    </tr>\n",
       "    <tr>\n",
       "      <th>492</th>\n",
       "      <td>‘미스 디올’로 변신한 전지현 1</td>\n",
       "      <td>2013.09.02</td>\n",
       "      <td>http://www.vogue.co.kr/2013/09/02/%eb%af%b8%ec...</td>\n",
       "      <td>1</td>\n",
       "      <td>0</td>\n",
       "      <td>NaN</td>\n",
       "      <td>['CF 퀸이자 스타일 아이콘이었던 그녀가 여배우로서 그리 강한 존재감을 드러낼 줄...</td>\n",
       "    </tr>\n",
       "    <tr>\n",
       "      <th>493</th>\n",
       "      <td>디올 드레스 입은 스타들의 부산 파티 현장</td>\n",
       "      <td>2011.11.03</td>\n",
       "      <td>http://www.vogue.co.kr/2011/11/03/%eb%94%94%ec...</td>\n",
       "      <td>1</td>\n",
       "      <td>0</td>\n",
       "      <td>NaN</td>\n",
       "      <td>['부산영화제를 찾은 스타와 영화인들을 위해 디올이 ‘ United Asia Fil...</td>\n",
       "    </tr>\n",
       "    <tr>\n",
       "      <th>494</th>\n",
       "      <td>미스 디올, 나탈리 포트만</td>\n",
       "      <td>2011.04.05</td>\n",
       "      <td>http://www.vogue.co.kr/2011/04/05/%eb%af%b8%ec...</td>\n",
       "      <td>1</td>\n",
       "      <td>0</td>\n",
       "      <td>NaN</td>\n",
       "      <td>['삶의 환희를 표현한 ‘미스 디올’의 뮤즈로나탈리 포트만보다 어울리는 여인이 있을...</td>\n",
       "    </tr>\n",
       "  </tbody>\n",
       "</table>\n",
       "<p>495 rows × 7 columns</p>\n",
       "</div>"
      ],
      "text/plain": [
       "                       title        date  \\\n",
       "0             보물 창고 같은 빈티지 숍  2020.11.09   \n",
       "1              패션계 F4를 소개합니다  2020.10.28   \n",
       "2                     패션, 아멘  2020.10.21   \n",
       "3           송경아처럼 예쁜 집 꾸미는 법  2020.10.15   \n",
       "4          스트레이 키즈의 후회 없는 순간  2020.10.02   \n",
       "..                       ...         ...   \n",
       "490               상하이의 디올 전시  2013.11.20   \n",
       "491       ‘미스 디올’로 변신한 전지현 2  2013.09.03   \n",
       "492       ‘미스 디올’로 변신한 전지현 1  2013.09.02   \n",
       "493  디올 드레스 입은 스타들의 부산 파티 현장  2011.11.03   \n",
       "494           미스 디올, 나탈리 포트만  2011.04.05   \n",
       "\n",
       "                                                  link  디올  check  \\\n",
       "0    http://www.vogue.co.kr/2020/11/09/%eb%b3%b4%eb...   0      2   \n",
       "1    http://www.vogue.co.kr/2020/10/28/%ed%8c%a8%ec...   0      3   \n",
       "2    http://www.vogue.co.kr/2020/10/21/%ed%8c%a8%ec...   0      2   \n",
       "3    http://www.vogue.co.kr/2020/10/15/%ec%86%a1%ea...   0      2   \n",
       "4    http://www.vogue.co.kr/2020/10/02/%ec%8a%a4%ed...   0      2   \n",
       "..                                                 ...  ..    ...   \n",
       "490  http://www.vogue.co.kr/2013/11/20/%ec%83%81%ed...   1      0   \n",
       "491  http://www.vogue.co.kr/2013/09/03/%eb%af%b8%ec...   1      0   \n",
       "492  http://www.vogue.co.kr/2013/09/02/%eb%af%b8%ec...   1      0   \n",
       "493  http://www.vogue.co.kr/2011/11/03/%eb%94%94%ec...   1      0   \n",
       "494  http://www.vogue.co.kr/2011/04/05/%eb%af%b8%ec...   1      0   \n",
       "\n",
       "                                          why  \\\n",
       "0                                         NaN   \n",
       "1    다른 브랜드 같이 있는데 디올에 해당하는 기사만 긁어오면 넘 좋겠어요 ㅜ   \n",
       "2                                         NaN   \n",
       "3                                         NaN   \n",
       "4                                         NaN   \n",
       "..                                        ...   \n",
       "490                                       NaN   \n",
       "491                                       NaN   \n",
       "492                                       NaN   \n",
       "493                                       NaN   \n",
       "494                                       NaN   \n",
       "\n",
       "                                              contents  \n",
       "0    ['시간을 간직한 빈티지 패션 아이템은 그 어떤 트렌디한 아이템에서도 느낄 수 없는...  \n",
       "1    ['LVMH와 케어링 그룹, 루이 비통과 디올, 구찌와 생로랑.\\n니콜라 제스키에르...  \n",
       "2    ['오뜨 꾸뛰르와 하이 스트리트 패션과 마찬가지로 패션 비즈니스도 대대적 재평가를 ...  \n",
       "3    ['손수 디자인한 프렌치 스타일 소파부터 아기자기하게 꾸민 주방, 레트로풍 조명과 ...  \n",
       "4    ['후회 없이 지금이라는 순간을 만끽하고 싶다면, ‘스트레이 키즈’ 여덟 명의 소년...  \n",
       "..                                                 ...  \n",
       "490  ['47년 여성의 몸이 만들어낸 아름다운 곡선을 따라 ‘바 수트’란 우아한 룩을 창...  \n",
       "491  ['CF 퀸이자 스타일 아이콘이었던 그녀가 여배우로서 그리 강한 존재감을 드러낼 줄...  \n",
       "492  ['CF 퀸이자 스타일 아이콘이었던 그녀가 여배우로서 그리 강한 존재감을 드러낼 줄...  \n",
       "493  ['부산영화제를 찾은 스타와 영화인들을 위해 디올이 ‘ United Asia Fil...  \n",
       "494  ['삶의 환희를 표현한 ‘미스 디올’의 뮤즈로나탈리 포트만보다 어울리는 여인이 있을...  \n",
       "\n",
       "[495 rows x 7 columns]"
      ]
     },
     "execution_count": 3,
     "metadata": {},
     "output_type": "execute_result"
    }
   ],
   "source": [
    "V_D_c = pd.read_csv('./data/Vogue_Dior_contents.csv' , sep='|', encoding='utf-8')\n",
    "V_D_c"
   ]
  },
  {
   "cell_type": "code",
   "execution_count": 5,
   "metadata": {},
   "outputs": [],
   "source": [
    "path = './driver/chromedriver.exe'"
   ]
  },
  {
   "cell_type": "markdown",
   "metadata": {},
   "source": [
    "## for 돌리기 전에 간단히 test"
   ]
  },
  {
   "cell_type": "code",
   "execution_count": 7,
   "metadata": {},
   "outputs": [
    {
     "data": {
      "text/plain": [
       "'http://www.vogue.co.kr/2020/11/09/%eb%b3%b4%eb%ac%bc-%ec%b0%bd%ea%b3%a0-%ea%b0%99%ec%9d%80-%eb%b9%88%ed%8b%b0%ec%a7%80-%ec%88%8d/'"
      ]
     },
     "execution_count": 7,
     "metadata": {},
     "output_type": "execute_result"
    }
   ],
   "source": [
    "# 원하는 row에서 링크 가져오기\n",
    "cUrl = V_D_c['link'][0]\n",
    "cUrl"
   ]
  },
  {
   "cell_type": "code",
   "execution_count": 8,
   "metadata": {},
   "outputs": [
    {
     "data": {
      "text/plain": [
       "<selenium.webdriver.chrome.webdriver.WebDriver (session=\"81ee7df3815005f62cf9470c92fcf54b\")>"
      ]
     },
     "execution_count": 8,
     "metadata": {},
     "output_type": "execute_result"
    }
   ],
   "source": [
    "driver = webdriver.Chrome(path)     # 크롬 브라우저 제어할 수 있는 객체, 웹브라우저 실행\n",
    "driver"
   ]
  },
  {
   "cell_type": "code",
   "execution_count": 9,
   "metadata": {},
   "outputs": [],
   "source": [
    "driver.get(cUrl)"
   ]
  },
  {
   "cell_type": "code",
   "execution_count": 13,
   "metadata": {},
   "outputs": [
    {
     "data": {
      "text/plain": [
       "'Fashion'"
      ]
     },
     "execution_count": 13,
     "metadata": {},
     "output_type": "execute_result"
    }
   ],
   "source": [
    "c = driver.find_element_by_css_selector('div.post-cate-txt').text\n",
    "c"
   ]
  },
  {
   "cell_type": "code",
   "execution_count": 16,
   "metadata": {},
   "outputs": [],
   "source": [
    "category = []\n",
    "for i in range(5) :\n",
    "    cUrl = V_D_c['link'][i]\n",
    "    driver.get(cUrl)\n",
    "    c = driver.find_element_by_css_selector('div.post-cate-txt').text\n",
    "#     print(c)\n",
    "    category.append(c)"
   ]
  },
  {
   "cell_type": "code",
   "execution_count": 17,
   "metadata": {},
   "outputs": [
    {
     "data": {
      "text/plain": [
       "['Fashion', 'Fashion', 'daily issue', 'Living', 'Fashion']"
      ]
     },
     "execution_count": 17,
     "metadata": {},
     "output_type": "execute_result"
    }
   ],
   "source": [
    "category"
   ]
  },
  {
   "cell_type": "markdown",
   "metadata": {},
   "source": [
    "## Creating Category Column"
   ]
  },
  {
   "cell_type": "markdown",
   "metadata": {},
   "source": [
    "### Dior"
   ]
  },
  {
   "cell_type": "code",
   "execution_count": 37,
   "metadata": {
    "scrolled": true
   },
   "outputs": [
    {
     "data": {
      "text/html": [
       "<div>\n",
       "<style scoped>\n",
       "    .dataframe tbody tr th:only-of-type {\n",
       "        vertical-align: middle;\n",
       "    }\n",
       "\n",
       "    .dataframe tbody tr th {\n",
       "        vertical-align: top;\n",
       "    }\n",
       "\n",
       "    .dataframe thead th {\n",
       "        text-align: right;\n",
       "    }\n",
       "</style>\n",
       "<table border=\"1\" class=\"dataframe\">\n",
       "  <thead>\n",
       "    <tr style=\"text-align: right;\">\n",
       "      <th></th>\n",
       "      <th>title</th>\n",
       "      <th>date</th>\n",
       "      <th>link</th>\n",
       "      <th>title_brand</th>\n",
       "      <th>check</th>\n",
       "      <th>why</th>\n",
       "      <th>contents</th>\n",
       "    </tr>\n",
       "  </thead>\n",
       "  <tbody>\n",
       "    <tr>\n",
       "      <th>0</th>\n",
       "      <td>보물 창고 같은 빈티지 숍</td>\n",
       "      <td>2020.11.09</td>\n",
       "      <td>http://www.vogue.co.kr/2020/11/09/%eb%b3%b4%eb...</td>\n",
       "      <td>0</td>\n",
       "      <td>2</td>\n",
       "      <td>NaN</td>\n",
       "      <td>['시간을 간직한 빈티지 패션 아이템은 그 어떤 트렌디한 아이템에서도 느낄 수 없는...</td>\n",
       "    </tr>\n",
       "    <tr>\n",
       "      <th>1</th>\n",
       "      <td>패션계 F4를 소개합니다</td>\n",
       "      <td>2020.10.28</td>\n",
       "      <td>http://www.vogue.co.kr/2020/10/28/%ed%8c%a8%ec...</td>\n",
       "      <td>0</td>\n",
       "      <td>3</td>\n",
       "      <td>다른 브랜드 같이 있는데 디올에 해당하는 기사만 긁어오면 넘 좋겠어요 ㅜ</td>\n",
       "      <td>['LVMH와 케어링 그룹, 루이 비통과 디올, 구찌와 생로랑.\\n니콜라 제스키에르...</td>\n",
       "    </tr>\n",
       "    <tr>\n",
       "      <th>2</th>\n",
       "      <td>패션, 아멘</td>\n",
       "      <td>2020.10.21</td>\n",
       "      <td>http://www.vogue.co.kr/2020/10/21/%ed%8c%a8%ec...</td>\n",
       "      <td>0</td>\n",
       "      <td>2</td>\n",
       "      <td>NaN</td>\n",
       "      <td>['오뜨 꾸뛰르와 하이 스트리트 패션과 마찬가지로 패션 비즈니스도 대대적 재평가를 ...</td>\n",
       "    </tr>\n",
       "    <tr>\n",
       "      <th>3</th>\n",
       "      <td>송경아처럼 예쁜 집 꾸미는 법</td>\n",
       "      <td>2020.10.15</td>\n",
       "      <td>http://www.vogue.co.kr/2020/10/15/%ec%86%a1%ea...</td>\n",
       "      <td>0</td>\n",
       "      <td>2</td>\n",
       "      <td>NaN</td>\n",
       "      <td>['손수 디자인한 프렌치 스타일 소파부터 아기자기하게 꾸민 주방, 레트로풍 조명과 ...</td>\n",
       "    </tr>\n",
       "    <tr>\n",
       "      <th>4</th>\n",
       "      <td>스트레이 키즈의 후회 없는 순간</td>\n",
       "      <td>2020.10.02</td>\n",
       "      <td>http://www.vogue.co.kr/2020/10/02/%ec%8a%a4%ed...</td>\n",
       "      <td>0</td>\n",
       "      <td>2</td>\n",
       "      <td>NaN</td>\n",
       "      <td>['후회 없이 지금이라는 순간을 만끽하고 싶다면, ‘스트레이 키즈’ 여덟 명의 소년...</td>\n",
       "    </tr>\n",
       "    <tr>\n",
       "      <th>...</th>\n",
       "      <td>...</td>\n",
       "      <td>...</td>\n",
       "      <td>...</td>\n",
       "      <td>...</td>\n",
       "      <td>...</td>\n",
       "      <td>...</td>\n",
       "      <td>...</td>\n",
       "    </tr>\n",
       "    <tr>\n",
       "      <th>490</th>\n",
       "      <td>상하이의 디올 전시</td>\n",
       "      <td>2013.11.20</td>\n",
       "      <td>http://www.vogue.co.kr/2013/11/20/%ec%83%81%ed...</td>\n",
       "      <td>1</td>\n",
       "      <td>0</td>\n",
       "      <td>NaN</td>\n",
       "      <td>['47년 여성의 몸이 만들어낸 아름다운 곡선을 따라 ‘바 수트’란 우아한 룩을 창...</td>\n",
       "    </tr>\n",
       "    <tr>\n",
       "      <th>491</th>\n",
       "      <td>‘미스 디올’로 변신한 전지현 2</td>\n",
       "      <td>2013.09.03</td>\n",
       "      <td>http://www.vogue.co.kr/2013/09/03/%eb%af%b8%ec...</td>\n",
       "      <td>1</td>\n",
       "      <td>0</td>\n",
       "      <td>NaN</td>\n",
       "      <td>['CF 퀸이자 스타일 아이콘이었던 그녀가 여배우로서 그리 강한 존재감을 드러낼 줄...</td>\n",
       "    </tr>\n",
       "    <tr>\n",
       "      <th>492</th>\n",
       "      <td>‘미스 디올’로 변신한 전지현 1</td>\n",
       "      <td>2013.09.02</td>\n",
       "      <td>http://www.vogue.co.kr/2013/09/02/%eb%af%b8%ec...</td>\n",
       "      <td>1</td>\n",
       "      <td>0</td>\n",
       "      <td>NaN</td>\n",
       "      <td>['CF 퀸이자 스타일 아이콘이었던 그녀가 여배우로서 그리 강한 존재감을 드러낼 줄...</td>\n",
       "    </tr>\n",
       "    <tr>\n",
       "      <th>493</th>\n",
       "      <td>디올 드레스 입은 스타들의 부산 파티 현장</td>\n",
       "      <td>2011.11.03</td>\n",
       "      <td>http://www.vogue.co.kr/2011/11/03/%eb%94%94%ec...</td>\n",
       "      <td>1</td>\n",
       "      <td>0</td>\n",
       "      <td>NaN</td>\n",
       "      <td>['부산영화제를 찾은 스타와 영화인들을 위해 디올이 ‘ United Asia Fil...</td>\n",
       "    </tr>\n",
       "    <tr>\n",
       "      <th>494</th>\n",
       "      <td>미스 디올, 나탈리 포트만</td>\n",
       "      <td>2011.04.05</td>\n",
       "      <td>http://www.vogue.co.kr/2011/04/05/%eb%af%b8%ec...</td>\n",
       "      <td>1</td>\n",
       "      <td>0</td>\n",
       "      <td>NaN</td>\n",
       "      <td>['삶의 환희를 표현한 ‘미스 디올’의 뮤즈로나탈리 포트만보다 어울리는 여인이 있을...</td>\n",
       "    </tr>\n",
       "  </tbody>\n",
       "</table>\n",
       "<p>495 rows × 7 columns</p>\n",
       "</div>"
      ],
      "text/plain": [
       "                       title        date  \\\n",
       "0             보물 창고 같은 빈티지 숍  2020.11.09   \n",
       "1              패션계 F4를 소개합니다  2020.10.28   \n",
       "2                     패션, 아멘  2020.10.21   \n",
       "3           송경아처럼 예쁜 집 꾸미는 법  2020.10.15   \n",
       "4          스트레이 키즈의 후회 없는 순간  2020.10.02   \n",
       "..                       ...         ...   \n",
       "490               상하이의 디올 전시  2013.11.20   \n",
       "491       ‘미스 디올’로 변신한 전지현 2  2013.09.03   \n",
       "492       ‘미스 디올’로 변신한 전지현 1  2013.09.02   \n",
       "493  디올 드레스 입은 스타들의 부산 파티 현장  2011.11.03   \n",
       "494           미스 디올, 나탈리 포트만  2011.04.05   \n",
       "\n",
       "                                                  link  title_brand  check  \\\n",
       "0    http://www.vogue.co.kr/2020/11/09/%eb%b3%b4%eb...            0      2   \n",
       "1    http://www.vogue.co.kr/2020/10/28/%ed%8c%a8%ec...            0      3   \n",
       "2    http://www.vogue.co.kr/2020/10/21/%ed%8c%a8%ec...            0      2   \n",
       "3    http://www.vogue.co.kr/2020/10/15/%ec%86%a1%ea...            0      2   \n",
       "4    http://www.vogue.co.kr/2020/10/02/%ec%8a%a4%ed...            0      2   \n",
       "..                                                 ...          ...    ...   \n",
       "490  http://www.vogue.co.kr/2013/11/20/%ec%83%81%ed...            1      0   \n",
       "491  http://www.vogue.co.kr/2013/09/03/%eb%af%b8%ec...            1      0   \n",
       "492  http://www.vogue.co.kr/2013/09/02/%eb%af%b8%ec...            1      0   \n",
       "493  http://www.vogue.co.kr/2011/11/03/%eb%94%94%ec...            1      0   \n",
       "494  http://www.vogue.co.kr/2011/04/05/%eb%af%b8%ec...            1      0   \n",
       "\n",
       "                                          why  \\\n",
       "0                                         NaN   \n",
       "1    다른 브랜드 같이 있는데 디올에 해당하는 기사만 긁어오면 넘 좋겠어요 ㅜ   \n",
       "2                                         NaN   \n",
       "3                                         NaN   \n",
       "4                                         NaN   \n",
       "..                                        ...   \n",
       "490                                       NaN   \n",
       "491                                       NaN   \n",
       "492                                       NaN   \n",
       "493                                       NaN   \n",
       "494                                       NaN   \n",
       "\n",
       "                                              contents  \n",
       "0    ['시간을 간직한 빈티지 패션 아이템은 그 어떤 트렌디한 아이템에서도 느낄 수 없는...  \n",
       "1    ['LVMH와 케어링 그룹, 루이 비통과 디올, 구찌와 생로랑.\\n니콜라 제스키에르...  \n",
       "2    ['오뜨 꾸뛰르와 하이 스트리트 패션과 마찬가지로 패션 비즈니스도 대대적 재평가를 ...  \n",
       "3    ['손수 디자인한 프렌치 스타일 소파부터 아기자기하게 꾸민 주방, 레트로풍 조명과 ...  \n",
       "4    ['후회 없이 지금이라는 순간을 만끽하고 싶다면, ‘스트레이 키즈’ 여덟 명의 소년...  \n",
       "..                                                 ...  \n",
       "490  ['47년 여성의 몸이 만들어낸 아름다운 곡선을 따라 ‘바 수트’란 우아한 룩을 창...  \n",
       "491  ['CF 퀸이자 스타일 아이콘이었던 그녀가 여배우로서 그리 강한 존재감을 드러낼 줄...  \n",
       "492  ['CF 퀸이자 스타일 아이콘이었던 그녀가 여배우로서 그리 강한 존재감을 드러낼 줄...  \n",
       "493  ['부산영화제를 찾은 스타와 영화인들을 위해 디올이 ‘ United Asia Fil...  \n",
       "494  ['삶의 환희를 표현한 ‘미스 디올’의 뮤즈로나탈리 포트만보다 어울리는 여인이 있을...  \n",
       "\n",
       "[495 rows x 7 columns]"
      ]
     },
     "execution_count": 37,
     "metadata": {},
     "output_type": "execute_result"
    }
   ],
   "source": [
    "# '디올' 컬럼명 변경\n",
    "V_D_c = V_D_c.rename({'디올':'title_brand'}, axis='columns')\n",
    "V_D_c"
   ]
  },
  {
   "cell_type": "code",
   "execution_count": 39,
   "metadata": {},
   "outputs": [
    {
     "data": {
      "text/html": [
       "<div>\n",
       "<style scoped>\n",
       "    .dataframe tbody tr th:only-of-type {\n",
       "        vertical-align: middle;\n",
       "    }\n",
       "\n",
       "    .dataframe tbody tr th {\n",
       "        vertical-align: top;\n",
       "    }\n",
       "\n",
       "    .dataframe thead th {\n",
       "        text-align: right;\n",
       "    }\n",
       "</style>\n",
       "<table border=\"1\" class=\"dataframe\">\n",
       "  <thead>\n",
       "    <tr style=\"text-align: right;\">\n",
       "      <th></th>\n",
       "      <th>title</th>\n",
       "      <th>date</th>\n",
       "      <th>link</th>\n",
       "      <th>title_brand</th>\n",
       "      <th>check</th>\n",
       "      <th>why</th>\n",
       "      <th>contents</th>\n",
       "      <th>Brand</th>\n",
       "    </tr>\n",
       "  </thead>\n",
       "  <tbody>\n",
       "    <tr>\n",
       "      <th>0</th>\n",
       "      <td>보물 창고 같은 빈티지 숍</td>\n",
       "      <td>2020.11.09</td>\n",
       "      <td>http://www.vogue.co.kr/2020/11/09/%eb%b3%b4%eb...</td>\n",
       "      <td>0</td>\n",
       "      <td>2</td>\n",
       "      <td>NaN</td>\n",
       "      <td>['시간을 간직한 빈티지 패션 아이템은 그 어떤 트렌디한 아이템에서도 느낄 수 없는...</td>\n",
       "      <td>D</td>\n",
       "    </tr>\n",
       "    <tr>\n",
       "      <th>1</th>\n",
       "      <td>패션계 F4를 소개합니다</td>\n",
       "      <td>2020.10.28</td>\n",
       "      <td>http://www.vogue.co.kr/2020/10/28/%ed%8c%a8%ec...</td>\n",
       "      <td>0</td>\n",
       "      <td>3</td>\n",
       "      <td>다른 브랜드 같이 있는데 디올에 해당하는 기사만 긁어오면 넘 좋겠어요 ㅜ</td>\n",
       "      <td>['LVMH와 케어링 그룹, 루이 비통과 디올, 구찌와 생로랑.\\n니콜라 제스키에르...</td>\n",
       "      <td>D</td>\n",
       "    </tr>\n",
       "    <tr>\n",
       "      <th>2</th>\n",
       "      <td>패션, 아멘</td>\n",
       "      <td>2020.10.21</td>\n",
       "      <td>http://www.vogue.co.kr/2020/10/21/%ed%8c%a8%ec...</td>\n",
       "      <td>0</td>\n",
       "      <td>2</td>\n",
       "      <td>NaN</td>\n",
       "      <td>['오뜨 꾸뛰르와 하이 스트리트 패션과 마찬가지로 패션 비즈니스도 대대적 재평가를 ...</td>\n",
       "      <td>D</td>\n",
       "    </tr>\n",
       "    <tr>\n",
       "      <th>3</th>\n",
       "      <td>송경아처럼 예쁜 집 꾸미는 법</td>\n",
       "      <td>2020.10.15</td>\n",
       "      <td>http://www.vogue.co.kr/2020/10/15/%ec%86%a1%ea...</td>\n",
       "      <td>0</td>\n",
       "      <td>2</td>\n",
       "      <td>NaN</td>\n",
       "      <td>['손수 디자인한 프렌치 스타일 소파부터 아기자기하게 꾸민 주방, 레트로풍 조명과 ...</td>\n",
       "      <td>D</td>\n",
       "    </tr>\n",
       "    <tr>\n",
       "      <th>4</th>\n",
       "      <td>스트레이 키즈의 후회 없는 순간</td>\n",
       "      <td>2020.10.02</td>\n",
       "      <td>http://www.vogue.co.kr/2020/10/02/%ec%8a%a4%ed...</td>\n",
       "      <td>0</td>\n",
       "      <td>2</td>\n",
       "      <td>NaN</td>\n",
       "      <td>['후회 없이 지금이라는 순간을 만끽하고 싶다면, ‘스트레이 키즈’ 여덟 명의 소년...</td>\n",
       "      <td>D</td>\n",
       "    </tr>\n",
       "    <tr>\n",
       "      <th>...</th>\n",
       "      <td>...</td>\n",
       "      <td>...</td>\n",
       "      <td>...</td>\n",
       "      <td>...</td>\n",
       "      <td>...</td>\n",
       "      <td>...</td>\n",
       "      <td>...</td>\n",
       "      <td>...</td>\n",
       "    </tr>\n",
       "    <tr>\n",
       "      <th>490</th>\n",
       "      <td>상하이의 디올 전시</td>\n",
       "      <td>2013.11.20</td>\n",
       "      <td>http://www.vogue.co.kr/2013/11/20/%ec%83%81%ed...</td>\n",
       "      <td>1</td>\n",
       "      <td>0</td>\n",
       "      <td>NaN</td>\n",
       "      <td>['47년 여성의 몸이 만들어낸 아름다운 곡선을 따라 ‘바 수트’란 우아한 룩을 창...</td>\n",
       "      <td>D</td>\n",
       "    </tr>\n",
       "    <tr>\n",
       "      <th>491</th>\n",
       "      <td>‘미스 디올’로 변신한 전지현 2</td>\n",
       "      <td>2013.09.03</td>\n",
       "      <td>http://www.vogue.co.kr/2013/09/03/%eb%af%b8%ec...</td>\n",
       "      <td>1</td>\n",
       "      <td>0</td>\n",
       "      <td>NaN</td>\n",
       "      <td>['CF 퀸이자 스타일 아이콘이었던 그녀가 여배우로서 그리 강한 존재감을 드러낼 줄...</td>\n",
       "      <td>D</td>\n",
       "    </tr>\n",
       "    <tr>\n",
       "      <th>492</th>\n",
       "      <td>‘미스 디올’로 변신한 전지현 1</td>\n",
       "      <td>2013.09.02</td>\n",
       "      <td>http://www.vogue.co.kr/2013/09/02/%eb%af%b8%ec...</td>\n",
       "      <td>1</td>\n",
       "      <td>0</td>\n",
       "      <td>NaN</td>\n",
       "      <td>['CF 퀸이자 스타일 아이콘이었던 그녀가 여배우로서 그리 강한 존재감을 드러낼 줄...</td>\n",
       "      <td>D</td>\n",
       "    </tr>\n",
       "    <tr>\n",
       "      <th>493</th>\n",
       "      <td>디올 드레스 입은 스타들의 부산 파티 현장</td>\n",
       "      <td>2011.11.03</td>\n",
       "      <td>http://www.vogue.co.kr/2011/11/03/%eb%94%94%ec...</td>\n",
       "      <td>1</td>\n",
       "      <td>0</td>\n",
       "      <td>NaN</td>\n",
       "      <td>['부산영화제를 찾은 스타와 영화인들을 위해 디올이 ‘ United Asia Fil...</td>\n",
       "      <td>D</td>\n",
       "    </tr>\n",
       "    <tr>\n",
       "      <th>494</th>\n",
       "      <td>미스 디올, 나탈리 포트만</td>\n",
       "      <td>2011.04.05</td>\n",
       "      <td>http://www.vogue.co.kr/2011/04/05/%eb%af%b8%ec...</td>\n",
       "      <td>1</td>\n",
       "      <td>0</td>\n",
       "      <td>NaN</td>\n",
       "      <td>['삶의 환희를 표현한 ‘미스 디올’의 뮤즈로나탈리 포트만보다 어울리는 여인이 있을...</td>\n",
       "      <td>D</td>\n",
       "    </tr>\n",
       "  </tbody>\n",
       "</table>\n",
       "<p>495 rows × 8 columns</p>\n",
       "</div>"
      ],
      "text/plain": [
       "                       title        date  \\\n",
       "0             보물 창고 같은 빈티지 숍  2020.11.09   \n",
       "1              패션계 F4를 소개합니다  2020.10.28   \n",
       "2                     패션, 아멘  2020.10.21   \n",
       "3           송경아처럼 예쁜 집 꾸미는 법  2020.10.15   \n",
       "4          스트레이 키즈의 후회 없는 순간  2020.10.02   \n",
       "..                       ...         ...   \n",
       "490               상하이의 디올 전시  2013.11.20   \n",
       "491       ‘미스 디올’로 변신한 전지현 2  2013.09.03   \n",
       "492       ‘미스 디올’로 변신한 전지현 1  2013.09.02   \n",
       "493  디올 드레스 입은 스타들의 부산 파티 현장  2011.11.03   \n",
       "494           미스 디올, 나탈리 포트만  2011.04.05   \n",
       "\n",
       "                                                  link  title_brand  check  \\\n",
       "0    http://www.vogue.co.kr/2020/11/09/%eb%b3%b4%eb...            0      2   \n",
       "1    http://www.vogue.co.kr/2020/10/28/%ed%8c%a8%ec...            0      3   \n",
       "2    http://www.vogue.co.kr/2020/10/21/%ed%8c%a8%ec...            0      2   \n",
       "3    http://www.vogue.co.kr/2020/10/15/%ec%86%a1%ea...            0      2   \n",
       "4    http://www.vogue.co.kr/2020/10/02/%ec%8a%a4%ed...            0      2   \n",
       "..                                                 ...          ...    ...   \n",
       "490  http://www.vogue.co.kr/2013/11/20/%ec%83%81%ed...            1      0   \n",
       "491  http://www.vogue.co.kr/2013/09/03/%eb%af%b8%ec...            1      0   \n",
       "492  http://www.vogue.co.kr/2013/09/02/%eb%af%b8%ec...            1      0   \n",
       "493  http://www.vogue.co.kr/2011/11/03/%eb%94%94%ec...            1      0   \n",
       "494  http://www.vogue.co.kr/2011/04/05/%eb%af%b8%ec...            1      0   \n",
       "\n",
       "                                          why  \\\n",
       "0                                         NaN   \n",
       "1    다른 브랜드 같이 있는데 디올에 해당하는 기사만 긁어오면 넘 좋겠어요 ㅜ   \n",
       "2                                         NaN   \n",
       "3                                         NaN   \n",
       "4                                         NaN   \n",
       "..                                        ...   \n",
       "490                                       NaN   \n",
       "491                                       NaN   \n",
       "492                                       NaN   \n",
       "493                                       NaN   \n",
       "494                                       NaN   \n",
       "\n",
       "                                              contents Brand  \n",
       "0    ['시간을 간직한 빈티지 패션 아이템은 그 어떤 트렌디한 아이템에서도 느낄 수 없는...     D  \n",
       "1    ['LVMH와 케어링 그룹, 루이 비통과 디올, 구찌와 생로랑.\\n니콜라 제스키에르...     D  \n",
       "2    ['오뜨 꾸뛰르와 하이 스트리트 패션과 마찬가지로 패션 비즈니스도 대대적 재평가를 ...     D  \n",
       "3    ['손수 디자인한 프렌치 스타일 소파부터 아기자기하게 꾸민 주방, 레트로풍 조명과 ...     D  \n",
       "4    ['후회 없이 지금이라는 순간을 만끽하고 싶다면, ‘스트레이 키즈’ 여덟 명의 소년...     D  \n",
       "..                                                 ...   ...  \n",
       "490  ['47년 여성의 몸이 만들어낸 아름다운 곡선을 따라 ‘바 수트’란 우아한 룩을 창...     D  \n",
       "491  ['CF 퀸이자 스타일 아이콘이었던 그녀가 여배우로서 그리 강한 존재감을 드러낼 줄...     D  \n",
       "492  ['CF 퀸이자 스타일 아이콘이었던 그녀가 여배우로서 그리 강한 존재감을 드러낼 줄...     D  \n",
       "493  ['부산영화제를 찾은 스타와 영화인들을 위해 디올이 ‘ United Asia Fil...     D  \n",
       "494  ['삶의 환희를 표현한 ‘미스 디올’의 뮤즈로나탈리 포트만보다 어울리는 여인이 있을...     D  \n",
       "\n",
       "[495 rows x 8 columns]"
      ]
     },
     "execution_count": 39,
     "metadata": {},
     "output_type": "execute_result"
    }
   ],
   "source": [
    "# Brand 컬럼 생성\n",
    "V_D_c['Brand'] = 'D'\n",
    "V_D_c"
   ]
  },
  {
   "cell_type": "code",
   "execution_count": 19,
   "metadata": {},
   "outputs": [
    {
     "data": {
      "text/plain": [
       "<selenium.webdriver.chrome.webdriver.WebDriver (session=\"3dbe9bff43d3af87ddd49ff5420c6ef0\")>"
      ]
     },
     "execution_count": 19,
     "metadata": {},
     "output_type": "execute_result"
    }
   ],
   "source": [
    "driver = webdriver.Chrome(path)     # 크롬 브라우저 제어할 수 있는 객체, 웹브라우저 실행\n",
    "driver"
   ]
  },
  {
   "cell_type": "code",
   "execution_count": 20,
   "metadata": {},
   "outputs": [
    {
     "data": {
      "text/plain": [
       "495"
      ]
     },
     "execution_count": 20,
     "metadata": {},
     "output_type": "execute_result"
    }
   ],
   "source": [
    "len(V_D_c)"
   ]
  },
  {
   "cell_type": "code",
   "execution_count": null,
   "metadata": {},
   "outputs": [],
   "source": [
    "category = []"
   ]
  },
  {
   "cell_type": "code",
   "execution_count": 40,
   "metadata": {
    "scrolled": true
   },
   "outputs": [
    {
     "name": "stdout",
     "output_type": "stream",
     "text": [
      "index :  40 , category:  Fashion\n",
      "index :  41 , category:  daily issue\n",
      "index :  42 , category:  People\n",
      "index :  43 , category:  Beauty\n",
      "index :  44 , category:  daily issue\n"
     ]
    }
   ],
   "source": [
    "for i in range(40,45) :\n",
    "    cUrl = V_D_c['link'][i]\n",
    "    driver.get(cUrl)\n",
    "    time.sleep(0.5)\n",
    "    c = driver.find_element_by_css_selector('div.post-cate-txt').text\n",
    "    print('index : ' , i  , ', category: ', c)\n",
    "    category.append(c)"
   ]
  },
  {
   "cell_type": "code",
   "execution_count": 41,
   "metadata": {},
   "outputs": [
    {
     "data": {
      "text/plain": [
       "45"
      ]
     },
     "execution_count": 41,
     "metadata": {},
     "output_type": "execute_result"
    }
   ],
   "source": [
    "len(category)"
   ]
  },
  {
   "cell_type": "code",
   "execution_count": null,
   "metadata": {},
   "outputs": [],
   "source": [
    "V_D_c['category'] = category\n",
    "V_D_c"
   ]
  },
  {
   "cell_type": "code",
   "execution_count": null,
   "metadata": {},
   "outputs": [],
   "source": [
    "V_D_c.to_csv('./data/Vogue_Dior_cc.csv' , sep='|', mode='w' , encoding='utf-8' , index=False)\n",
    "print('success')"
   ]
  },
  {
   "cell_type": "code",
   "execution_count": null,
   "metadata": {},
   "outputs": [],
   "source": [
    "V_D_cc = pd.read_csv('./data/Vogue_Dior_cc.csv' , sep='|', encoding='utf-8')\n",
    "V_D_cc"
   ]
  },
  {
   "cell_type": "markdown",
   "metadata": {},
   "source": [
    "### Chanel"
   ]
  },
  {
   "cell_type": "code",
   "execution_count": null,
   "metadata": {},
   "outputs": [],
   "source": [
    "V_Ch_c = pd.read_csv('./data/Vogue_Chanel_contents.csv' , sep='|', encoding='utf-8')\n",
    "V_Ch_c"
   ]
  },
  {
   "cell_type": "code",
   "execution_count": null,
   "metadata": {},
   "outputs": [],
   "source": []
  },
  {
   "cell_type": "code",
   "execution_count": null,
   "metadata": {},
   "outputs": [],
   "source": []
  },
  {
   "cell_type": "code",
   "execution_count": null,
   "metadata": {},
   "outputs": [],
   "source": []
  },
  {
   "cell_type": "code",
   "execution_count": null,
   "metadata": {},
   "outputs": [],
   "source": []
  },
  {
   "cell_type": "code",
   "execution_count": null,
   "metadata": {},
   "outputs": [],
   "source": []
  },
  {
   "cell_type": "code",
   "execution_count": null,
   "metadata": {},
   "outputs": [],
   "source": []
  },
  {
   "cell_type": "code",
   "execution_count": null,
   "metadata": {},
   "outputs": [],
   "source": []
  },
  {
   "cell_type": "code",
   "execution_count": null,
   "metadata": {},
   "outputs": [],
   "source": []
  },
  {
   "cell_type": "code",
   "execution_count": null,
   "metadata": {},
   "outputs": [],
   "source": []
  },
  {
   "cell_type": "code",
   "execution_count": null,
   "metadata": {},
   "outputs": [],
   "source": []
  },
  {
   "cell_type": "code",
   "execution_count": null,
   "metadata": {},
   "outputs": [],
   "source": []
  },
  {
   "cell_type": "code",
   "execution_count": null,
   "metadata": {},
   "outputs": [],
   "source": []
  },
  {
   "cell_type": "code",
   "execution_count": null,
   "metadata": {},
   "outputs": [],
   "source": []
  },
  {
   "cell_type": "code",
   "execution_count": null,
   "metadata": {},
   "outputs": [],
   "source": []
  },
  {
   "cell_type": "code",
   "execution_count": null,
   "metadata": {},
   "outputs": [],
   "source": []
  },
  {
   "cell_type": "code",
   "execution_count": null,
   "metadata": {},
   "outputs": [],
   "source": []
  },
  {
   "cell_type": "code",
   "execution_count": null,
   "metadata": {},
   "outputs": [],
   "source": []
  }
 ],
 "metadata": {
  "kernelspec": {
   "display_name": "Python 3",
   "language": "python",
   "name": "python3"
  },
  "language_info": {
   "codemirror_mode": {
    "name": "ipython",
    "version": 3
   },
   "file_extension": ".py",
   "mimetype": "text/x-python",
   "name": "python",
   "nbconvert_exporter": "python",
   "pygments_lexer": "ipython3",
   "version": "3.8.3"
  }
 },
 "nbformat": 4,
 "nbformat_minor": 4
}
