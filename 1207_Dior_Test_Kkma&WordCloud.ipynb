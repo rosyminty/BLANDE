{
 "cells": [
  {
   "cell_type": "code",
   "execution_count": 1,
   "metadata": {},
   "outputs": [],
   "source": [
    "import pandas as pd\n",
    "import numpy as np"
   ]
  },
  {
   "cell_type": "code",
   "execution_count": 2,
   "metadata": {
    "collapsed": true
   },
   "outputs": [
    {
     "data": {
      "text/html": [
       "<div>\n",
       "<style scoped>\n",
       "    .dataframe tbody tr th:only-of-type {\n",
       "        vertical-align: middle;\n",
       "    }\n",
       "\n",
       "    .dataframe tbody tr th {\n",
       "        vertical-align: top;\n",
       "    }\n",
       "\n",
       "    .dataframe thead th {\n",
       "        text-align: right;\n",
       "    }\n",
       "</style>\n",
       "<table border=\"1\" class=\"dataframe\">\n",
       "  <thead>\n",
       "    <tr style=\"text-align: right;\">\n",
       "      <th></th>\n",
       "      <th>magazine</th>\n",
       "      <th>brand</th>\n",
       "      <th>category</th>\n",
       "      <th>title</th>\n",
       "      <th>link</th>\n",
       "      <th>date</th>\n",
       "      <th>contents</th>\n",
       "      <th>title_brand</th>\n",
       "      <th>check</th>\n",
       "      <th>why</th>\n",
       "      <th>word_dior</th>\n",
       "      <th>sentences_tag</th>\n",
       "      <th>ADFN</th>\n",
       "    </tr>\n",
       "  </thead>\n",
       "  <tbody>\n",
       "    <tr>\n",
       "      <th>0</th>\n",
       "      <td>A</td>\n",
       "      <td>D</td>\n",
       "      <td>FASHION</td>\n",
       "      <td>빈티지 쇼핑의 시대</td>\n",
       "      <td>http://www.allurekorea.com/2020/10/27/%eb%b9%8...</td>\n",
       "      <td>2020-10-27</td>\n",
       "      <td>['20년이 지난 패션템에 새로운 활기가 돈다. 바야흐로 빈티지 쇼핑의 시대다.',...</td>\n",
       "      <td>0</td>\n",
       "      <td>0</td>\n",
       "      <td>-</td>\n",
       "      <td>['그러니 빈티지 패션은, 어쩌면 나도 좋고 너도 좋은 일이다. 당시 사랑했던, 지...</td>\n",
       "      <td>[('[', 'SS'), (\"'\", 'SS'), ('그러', 'VV'), ('니',...</td>\n",
       "      <td>['그러', '빈티지', '패션', '좋', '느', '좋', '당시', '사랑',...</td>\n",
       "    </tr>\n",
       "    <tr>\n",
       "      <th>1</th>\n",
       "      <td>A</td>\n",
       "      <td>D</td>\n",
       "      <td>FASHION</td>\n",
       "      <td>주식을 시작한 패션 에디터의 이야기, 나는 주주다</td>\n",
       "      <td>http://www.allurekorea.com/2020/10/16/%ec%a3%b...</td>\n",
       "      <td>2020-10-16</td>\n",
       "      <td>['주식의 ‘주’자도 모르는 패션 에디터가 주식에 눈뜨려 하는 순간. 이번 시즌 가...</td>\n",
       "      <td>0</td>\n",
       "      <td>0</td>\n",
       "      <td>-</td>\n",
       "      <td>['  요즘 들어 주식은 친구들과의 대화에서 빼놓을 수 없는 주제가 되었다. 코로나...</td>\n",
       "      <td>[('[', 'SS'), (\"'\", 'SS'), ('요즘', 'NNG'), ('듣'...</td>\n",
       "      <td>['요즘', '듣', '주식', '친구', '과의', '대화', '빼놓', '주제'...</td>\n",
       "    </tr>\n",
       "    <tr>\n",
       "      <th>2</th>\n",
       "      <td>A</td>\n",
       "      <td>D</td>\n",
       "      <td>FASHION</td>\n",
       "      <td>거리로 나온 하이패션 슈즈들 4</td>\n",
       "      <td>http://www.allurekorea.com/2020/09/16/%eb%a6%a...</td>\n",
       "      <td>2020-09-16</td>\n",
       "      <td>['나이키의 조던 시리즈들 중에서도 역대급으로 평가받는 ‘에어 디올’은 부르는 게 ...</td>\n",
       "      <td>0</td>\n",
       "      <td>0</td>\n",
       "      <td>-</td>\n",
       "      <td>[\"['나이키의 조던 시리즈들 중에서도 역대급으로 평가받는 ‘에어 디올’은 부르는 ...</td>\n",
       "      <td>[('[', 'SS'), ('\"', 'SS'), ('[', 'SS'), (\"'\", ...</td>\n",
       "      <td>['나이', '키', '조', '덜', '시리즈', '역대', '급', '평가', ...</td>\n",
       "    </tr>\n",
       "    <tr>\n",
       "      <th>3</th>\n",
       "      <td>A</td>\n",
       "      <td>D</td>\n",
       "      <td>FASHION</td>\n",
       "      <td>차정원부터 아이린까지. 옷 잘입는 셀럽들의 사복 패션에 등장한 뉴 백은 무엇?</td>\n",
       "      <td>http://www.allurekorea.com/2020/08/13/%ec%b0%a...</td>\n",
       "      <td>2020-08-13</td>\n",
       "      <td>['셀럽들의 데일리룩에서 캐치한 뉴 백!', '@ch_amii', '지갑, 핸드폰,...</td>\n",
       "      <td>0</td>\n",
       "      <td>0</td>\n",
       "      <td>-</td>\n",
       "      <td>['디올 레이디 디올 디올아무르 미니백 5백만원대']</td>\n",
       "      <td>[('[', 'SS'), (\"'\", 'SS'), ('DIOR', 'OL'), ('레...</td>\n",
       "      <td>['DIOR', '레이디', 'DIOR', 'DIOR', '아무르', '미니', '대']</td>\n",
       "    </tr>\n",
       "    <tr>\n",
       "      <th>4</th>\n",
       "      <td>A</td>\n",
       "      <td>D</td>\n",
       "      <td>CELEBRITY</td>\n",
       "      <td>DON’T CATEGORIZE ME / 유태오</td>\n",
       "      <td>http://www.allurekorea.com/2020/05/28/dont-cat...</td>\n",
       "      <td>2020-05-28</td>\n",
       "      <td>['“Don’t Categorize Me.” 그가 말했다. 배우 유태오는 더없이 자...</td>\n",
       "      <td>0</td>\n",
       "      <td>0</td>\n",
       "      <td>-</td>\n",
       "      <td>['실크 슬리브리스와 블랙 와이드 팬츠는 김서룡 옴므. 블랙 부츠는 보테가 베네타....</td>\n",
       "      <td>[('[', 'SS'), (\"'\", 'SS'), ('실크', 'NNG'), ('슬리...</td>\n",
       "      <td>['실크', '슬리브리스', '블랙', '와이드', '팬츠', '김', '블랙', ...</td>\n",
       "    </tr>\n",
       "    <tr>\n",
       "      <th>...</th>\n",
       "      <td>...</td>\n",
       "      <td>...</td>\n",
       "      <td>...</td>\n",
       "      <td>...</td>\n",
       "      <td>...</td>\n",
       "      <td>...</td>\n",
       "      <td>...</td>\n",
       "      <td>...</td>\n",
       "      <td>...</td>\n",
       "      <td>...</td>\n",
       "      <td>...</td>\n",
       "      <td>...</td>\n",
       "      <td>...</td>\n",
       "    </tr>\n",
       "    <tr>\n",
       "      <th>1754</th>\n",
       "      <td>W</td>\n",
       "      <td>D</td>\n",
       "      <td>FASHION, 쇼핑, 트렌드</td>\n",
       "      <td>가을의 하이킹</td>\n",
       "      <td>http://www.wkorea.com/2016/09/05/%ea%b0%80%ec%...</td>\n",
       "      <td>2016-09-05</td>\n",
       "      <td>'깊은 산과 거친 계곡, 험준한 바위를 오르내리는 트레킹화의 변신.\\n\\n1. 밀리...</td>\n",
       "      <td>0</td>\n",
       "      <td>0</td>\n",
       "      <td>NaN</td>\n",
       "      <td>['6. 주얼 장식과 앙증맞은 리본이 반전의 매력을 더하는 부츠는 디올 제품. 1백...</td>\n",
       "      <td>[('[', 'SS'), (\"'\", 'SS'), ('6', 'NR'), ('.', ...</td>\n",
       "      <td>['주', '얼', '장식', '앙증맞', '리본', '반전', '매력', '부츠'...</td>\n",
       "    </tr>\n",
       "    <tr>\n",
       "      <th>1755</th>\n",
       "      <td>W</td>\n",
       "      <td>D</td>\n",
       "      <td>FASHION, 뉴스</td>\n",
       "      <td>W해시태그</td>\n",
       "      <td>http://www.wkorea.com/2016/09/02/w%ed%95%b4%ec...</td>\n",
       "      <td>2016-09-02</td>\n",
       "      <td>'패션&amp;뷰티 아이템, 핫 스폿, 영화, 전시 등 더블유 에디터의 날카롭고 감각적인 ...</td>\n",
       "      <td>0</td>\n",
       "      <td>0</td>\n",
       "      <td>NaN</td>\n",
       "      <td>['#W뷰티콕  (뷰티 디렉터 송시은)\\\\n조회 2,023회\\\\n너무나 뜨거운 여름...</td>\n",
       "      <td>[('[', 'SS'), (\"'\", 'SS'), ('#', 'SW'), ('W', ...</td>\n",
       "      <td>['W', '뷰티', '콕', '뷰티', '디렉터', '송', '시은', '조회',...</td>\n",
       "    </tr>\n",
       "    <tr>\n",
       "      <th>1756</th>\n",
       "      <td>W</td>\n",
       "      <td>D</td>\n",
       "      <td>FASHION, 뉴스</td>\n",
       "      <td>마법의 색</td>\n",
       "      <td>http://www.wkorea.com/2016/09/02/%eb%a7%88%eb%...</td>\n",
       "      <td>2016-09-02</td>\n",
       "      <td>'크리스찬 디올에게 초록은 곧 ‘자연’을, 빨강은 ‘생명’을, 분홍은 ‘감미로움’을...</td>\n",
       "      <td>0</td>\n",
       "      <td>0</td>\n",
       "      <td>NaN</td>\n",
       "      <td>[\"'크리스찬 디올에게 초록은 곧 ‘자연’을, 빨강은 ‘생명’을, 분홍은 ‘감미로움...</td>\n",
       "      <td>[('[', 'SS'), ('\"', 'SS'), (\"'\", 'SS'), ('크리스'...</td>\n",
       "      <td>['크리스', '찬', 'DIOR', '초록', '자연', '빨강', '생명', '...</td>\n",
       "    </tr>\n",
       "    <tr>\n",
       "      <th>1757</th>\n",
       "      <td>W</td>\n",
       "      <td>D</td>\n",
       "      <td>FASHION, 화보</td>\n",
       "      <td>따로 또 같이</td>\n",
       "      <td>http://www.wkorea.com/2016/09/02/%eb%94%b0%eb%...</td>\n",
       "      <td>2016-09-02</td>\n",
       "      <td>'새로운 시즌을 맞아 더 모호하고 더 자유로운 방식으로 진화하고 있는 젠더 블렌딩 ...</td>\n",
       "      <td>0</td>\n",
       "      <td>0</td>\n",
       "      <td>NaN</td>\n",
       "      <td>['자수 장식 슈트, 실크 셔츠에 리본 타이를 연출한 구찌, 남성다운 검정 테일러드...</td>\n",
       "      <td>[('[', 'SS'), (\"'\", 'SS'), ('자수', 'NNG'), ('장식...</td>\n",
       "      <td>['자수', '장식', '슈트', '실크', '셔츠', '리본', '타이', '연출...</td>\n",
       "    </tr>\n",
       "    <tr>\n",
       "      <th>1758</th>\n",
       "      <td>W</td>\n",
       "      <td>D</td>\n",
       "      <td>FASHION, 트렌드</td>\n",
       "      <td>너도 나도 베트멍</td>\n",
       "      <td>http://www.wkorea.com/2016/09/01/%eb%84%88%eb%...</td>\n",
       "      <td>2016-09-01</td>\n",
       "      <td>'패션계에서 노바운더리 시대의 전후를 가르는 존재가 된 베트멍. 그 대표 아이템은 ...</td>\n",
       "      <td>0</td>\n",
       "      <td>0</td>\n",
       "      <td>NaN</td>\n",
       "      <td>['리하나\\\\n나이 만28세\\\\n직업 가수, 디자이너, 패셔니스타, 배드 걸\\\\n평...</td>\n",
       "      <td>[('[', 'SS'), (\"'\", 'SS'), ('리', 'NNG'), ('하나'...</td>\n",
       "      <td>['리', '나이', '직업', '가수', '디자이너', '패', '시', '니스'...</td>\n",
       "    </tr>\n",
       "  </tbody>\n",
       "</table>\n",
       "<p>1759 rows × 13 columns</p>\n",
       "</div>"
      ],
      "text/plain": [
       "     magazine brand          category  \\\n",
       "0           A     D           FASHION   \n",
       "1           A     D           FASHION   \n",
       "2           A     D           FASHION   \n",
       "3           A     D           FASHION   \n",
       "4           A     D         CELEBRITY   \n",
       "...       ...   ...               ...   \n",
       "1754        W     D  FASHION, 쇼핑, 트렌드   \n",
       "1755        W     D       FASHION, 뉴스   \n",
       "1756        W     D       FASHION, 뉴스   \n",
       "1757        W     D       FASHION, 화보   \n",
       "1758        W     D      FASHION, 트렌드   \n",
       "\n",
       "                                            title  \\\n",
       "0                                      빈티지 쇼핑의 시대   \n",
       "1                     주식을 시작한 패션 에디터의 이야기, 나는 주주다   \n",
       "2                               거리로 나온 하이패션 슈즈들 4   \n",
       "3     차정원부터 아이린까지. 옷 잘입는 셀럽들의 사복 패션에 등장한 뉴 백은 무엇?   \n",
       "4                       DON’T CATEGORIZE ME / 유태오   \n",
       "...                                           ...   \n",
       "1754                                      가을의 하이킹   \n",
       "1755                                        W해시태그   \n",
       "1756                                        마법의 색   \n",
       "1757                                      따로 또 같이   \n",
       "1758                                    너도 나도 베트멍   \n",
       "\n",
       "                                                   link        date  \\\n",
       "0     http://www.allurekorea.com/2020/10/27/%eb%b9%8...  2020-10-27   \n",
       "1     http://www.allurekorea.com/2020/10/16/%ec%a3%b...  2020-10-16   \n",
       "2     http://www.allurekorea.com/2020/09/16/%eb%a6%a...  2020-09-16   \n",
       "3     http://www.allurekorea.com/2020/08/13/%ec%b0%a...  2020-08-13   \n",
       "4     http://www.allurekorea.com/2020/05/28/dont-cat...  2020-05-28   \n",
       "...                                                 ...         ...   \n",
       "1754  http://www.wkorea.com/2016/09/05/%ea%b0%80%ec%...  2016-09-05   \n",
       "1755  http://www.wkorea.com/2016/09/02/w%ed%95%b4%ec...  2016-09-02   \n",
       "1756  http://www.wkorea.com/2016/09/02/%eb%a7%88%eb%...  2016-09-02   \n",
       "1757  http://www.wkorea.com/2016/09/02/%eb%94%b0%eb%...  2016-09-02   \n",
       "1758  http://www.wkorea.com/2016/09/01/%eb%84%88%eb%...  2016-09-01   \n",
       "\n",
       "                                               contents  title_brand  check  \\\n",
       "0     ['20년이 지난 패션템에 새로운 활기가 돈다. 바야흐로 빈티지 쇼핑의 시대다.',...            0      0   \n",
       "1     ['주식의 ‘주’자도 모르는 패션 에디터가 주식에 눈뜨려 하는 순간. 이번 시즌 가...            0      0   \n",
       "2     ['나이키의 조던 시리즈들 중에서도 역대급으로 평가받는 ‘에어 디올’은 부르는 게 ...            0      0   \n",
       "3     ['셀럽들의 데일리룩에서 캐치한 뉴 백!', '@ch_amii', '지갑, 핸드폰,...            0      0   \n",
       "4     ['“Don’t Categorize Me.” 그가 말했다. 배우 유태오는 더없이 자...            0      0   \n",
       "...                                                 ...          ...    ...   \n",
       "1754  '깊은 산과 거친 계곡, 험준한 바위를 오르내리는 트레킹화의 변신.\\n\\n1. 밀리...            0      0   \n",
       "1755  '패션&뷰티 아이템, 핫 스폿, 영화, 전시 등 더블유 에디터의 날카롭고 감각적인 ...            0      0   \n",
       "1756  '크리스찬 디올에게 초록은 곧 ‘자연’을, 빨강은 ‘생명’을, 분홍은 ‘감미로움’을...            0      0   \n",
       "1757  '새로운 시즌을 맞아 더 모호하고 더 자유로운 방식으로 진화하고 있는 젠더 블렌딩 ...            0      0   \n",
       "1758  '패션계에서 노바운더리 시대의 전후를 가르는 존재가 된 베트멍. 그 대표 아이템은 ...            0      0   \n",
       "\n",
       "      why                                          word_dior  \\\n",
       "0       -  ['그러니 빈티지 패션은, 어쩌면 나도 좋고 너도 좋은 일이다. 당시 사랑했던, 지...   \n",
       "1       -  ['  요즘 들어 주식은 친구들과의 대화에서 빼놓을 수 없는 주제가 되었다. 코로나...   \n",
       "2       -  [\"['나이키의 조던 시리즈들 중에서도 역대급으로 평가받는 ‘에어 디올’은 부르는 ...   \n",
       "3       -                      ['디올 레이디 디올 디올아무르 미니백 5백만원대']   \n",
       "4       -  ['실크 슬리브리스와 블랙 와이드 팬츠는 김서룡 옴므. 블랙 부츠는 보테가 베네타....   \n",
       "...   ...                                                ...   \n",
       "1754  NaN  ['6. 주얼 장식과 앙증맞은 리본이 반전의 매력을 더하는 부츠는 디올 제품. 1백...   \n",
       "1755  NaN  ['#W뷰티콕  (뷰티 디렉터 송시은)\\\\n조회 2,023회\\\\n너무나 뜨거운 여름...   \n",
       "1756  NaN  [\"'크리스찬 디올에게 초록은 곧 ‘자연’을, 빨강은 ‘생명’을, 분홍은 ‘감미로움...   \n",
       "1757  NaN  ['자수 장식 슈트, 실크 셔츠에 리본 타이를 연출한 구찌, 남성다운 검정 테일러드...   \n",
       "1758  NaN  ['리하나\\\\n나이 만28세\\\\n직업 가수, 디자이너, 패셔니스타, 배드 걸\\\\n평...   \n",
       "\n",
       "                                          sentences_tag  \\\n",
       "0     [('[', 'SS'), (\"'\", 'SS'), ('그러', 'VV'), ('니',...   \n",
       "1     [('[', 'SS'), (\"'\", 'SS'), ('요즘', 'NNG'), ('듣'...   \n",
       "2     [('[', 'SS'), ('\"', 'SS'), ('[', 'SS'), (\"'\", ...   \n",
       "3     [('[', 'SS'), (\"'\", 'SS'), ('DIOR', 'OL'), ('레...   \n",
       "4     [('[', 'SS'), (\"'\", 'SS'), ('실크', 'NNG'), ('슬리...   \n",
       "...                                                 ...   \n",
       "1754  [('[', 'SS'), (\"'\", 'SS'), ('6', 'NR'), ('.', ...   \n",
       "1755  [('[', 'SS'), (\"'\", 'SS'), ('#', 'SW'), ('W', ...   \n",
       "1756  [('[', 'SS'), ('\"', 'SS'), (\"'\", 'SS'), ('크리스'...   \n",
       "1757  [('[', 'SS'), (\"'\", 'SS'), ('자수', 'NNG'), ('장식...   \n",
       "1758  [('[', 'SS'), (\"'\", 'SS'), ('리', 'NNG'), ('하나'...   \n",
       "\n",
       "                                                   ADFN  \n",
       "0     ['그러', '빈티지', '패션', '좋', '느', '좋', '당시', '사랑',...  \n",
       "1     ['요즘', '듣', '주식', '친구', '과의', '대화', '빼놓', '주제'...  \n",
       "2     ['나이', '키', '조', '덜', '시리즈', '역대', '급', '평가', ...  \n",
       "3     ['DIOR', '레이디', 'DIOR', 'DIOR', '아무르', '미니', '대']  \n",
       "4     ['실크', '슬리브리스', '블랙', '와이드', '팬츠', '김', '블랙', ...  \n",
       "...                                                 ...  \n",
       "1754  ['주', '얼', '장식', '앙증맞', '리본', '반전', '매력', '부츠'...  \n",
       "1755  ['W', '뷰티', '콕', '뷰티', '디렉터', '송', '시은', '조회',...  \n",
       "1756  ['크리스', '찬', 'DIOR', '초록', '자연', '빨강', '생명', '...  \n",
       "1757  ['자수', '장식', '슈트', '실크', '셔츠', '리본', '타이', '연출...  \n",
       "1758  ['리', '나이', '직업', '가수', '디자이너', '패', '시', '니스'...  \n",
       "\n",
       "[1759 rows x 13 columns]"
      ]
     },
     "execution_count": 2,
     "metadata": {},
     "output_type": "execute_result"
    }
   ],
   "source": [
    "magazine_di = pd.read_csv('./data/d/magazine_D.csv' , sep='|', encoding='utf-8')\n",
    "magazine_di"
   ]
  },
  {
   "cell_type": "code",
   "execution_count": 84,
   "metadata": {
    "scrolled": true
   },
   "outputs": [],
   "source": [
    "magazine_di.drop('why', axis=1, inplace=True)"
   ]
  },
  {
   "cell_type": "code",
   "execution_count": 85,
   "metadata": {},
   "outputs": [],
   "source": [
    "magazine_di.to_csv('./data/d/magazine_D.csv', index = False, sep ='|', encoding = 'utf-8')"
   ]
  },
  {
   "cell_type": "code",
   "execution_count": 86,
   "metadata": {
    "scrolled": true
   },
   "outputs": [
    {
     "data": {
      "text/html": [
       "<div>\n",
       "<style scoped>\n",
       "    .dataframe tbody tr th:only-of-type {\n",
       "        vertical-align: middle;\n",
       "    }\n",
       "\n",
       "    .dataframe tbody tr th {\n",
       "        vertical-align: top;\n",
       "    }\n",
       "\n",
       "    .dataframe thead th {\n",
       "        text-align: right;\n",
       "    }\n",
       "</style>\n",
       "<table border=\"1\" class=\"dataframe\">\n",
       "  <thead>\n",
       "    <tr style=\"text-align: right;\">\n",
       "      <th></th>\n",
       "      <th>magazine</th>\n",
       "      <th>brand</th>\n",
       "      <th>category</th>\n",
       "      <th>title</th>\n",
       "      <th>link</th>\n",
       "      <th>date</th>\n",
       "      <th>contents</th>\n",
       "      <th>title_brand</th>\n",
       "      <th>check</th>\n",
       "      <th>word_dior</th>\n",
       "      <th>sentences_tag</th>\n",
       "      <th>ADFN</th>\n",
       "    </tr>\n",
       "  </thead>\n",
       "  <tbody>\n",
       "    <tr>\n",
       "      <th>0</th>\n",
       "      <td>A</td>\n",
       "      <td>D</td>\n",
       "      <td>FASHION</td>\n",
       "      <td>빈티지 쇼핑의 시대</td>\n",
       "      <td>http://www.allurekorea.com/2020/10/27/%eb%b9%8...</td>\n",
       "      <td>2020-10-27</td>\n",
       "      <td>['20년이 지난 패션템에 새로운 활기가 돈다. 바야흐로 빈티지 쇼핑의 시대다.',...</td>\n",
       "      <td>0</td>\n",
       "      <td>0</td>\n",
       "      <td>['그러니 빈티지 패션은, 어쩌면 나도 좋고 너도 좋은 일이다. 당시 사랑했던, 지...</td>\n",
       "      <td>[('[', 'SS'), (\"'\", 'SS'), ('그러', 'VV'), ('니',...</td>\n",
       "      <td>['그러', '빈티지', '패션', '좋', '느', '좋', '당시', '사랑',...</td>\n",
       "    </tr>\n",
       "    <tr>\n",
       "      <th>1</th>\n",
       "      <td>A</td>\n",
       "      <td>D</td>\n",
       "      <td>FASHION</td>\n",
       "      <td>주식을 시작한 패션 에디터의 이야기, 나는 주주다</td>\n",
       "      <td>http://www.allurekorea.com/2020/10/16/%ec%a3%b...</td>\n",
       "      <td>2020-10-16</td>\n",
       "      <td>['주식의 ‘주’자도 모르는 패션 에디터가 주식에 눈뜨려 하는 순간. 이번 시즌 가...</td>\n",
       "      <td>0</td>\n",
       "      <td>0</td>\n",
       "      <td>['  요즘 들어 주식은 친구들과의 대화에서 빼놓을 수 없는 주제가 되었다. 코로나...</td>\n",
       "      <td>[('[', 'SS'), (\"'\", 'SS'), ('요즘', 'NNG'), ('듣'...</td>\n",
       "      <td>['요즘', '듣', '주식', '친구', '과의', '대화', '빼놓', '주제'...</td>\n",
       "    </tr>\n",
       "    <tr>\n",
       "      <th>2</th>\n",
       "      <td>A</td>\n",
       "      <td>D</td>\n",
       "      <td>FASHION</td>\n",
       "      <td>거리로 나온 하이패션 슈즈들 4</td>\n",
       "      <td>http://www.allurekorea.com/2020/09/16/%eb%a6%a...</td>\n",
       "      <td>2020-09-16</td>\n",
       "      <td>['나이키의 조던 시리즈들 중에서도 역대급으로 평가받는 ‘에어 디올’은 부르는 게 ...</td>\n",
       "      <td>0</td>\n",
       "      <td>0</td>\n",
       "      <td>[\"['나이키의 조던 시리즈들 중에서도 역대급으로 평가받는 ‘에어 디올’은 부르는 ...</td>\n",
       "      <td>[('[', 'SS'), ('\"', 'SS'), ('[', 'SS'), (\"'\", ...</td>\n",
       "      <td>['나이', '키', '조', '덜', '시리즈', '역대', '급', '평가', ...</td>\n",
       "    </tr>\n",
       "    <tr>\n",
       "      <th>3</th>\n",
       "      <td>A</td>\n",
       "      <td>D</td>\n",
       "      <td>FASHION</td>\n",
       "      <td>차정원부터 아이린까지. 옷 잘입는 셀럽들의 사복 패션에 등장한 뉴 백은 무엇?</td>\n",
       "      <td>http://www.allurekorea.com/2020/08/13/%ec%b0%a...</td>\n",
       "      <td>2020-08-13</td>\n",
       "      <td>['셀럽들의 데일리룩에서 캐치한 뉴 백!', '@ch_amii', '지갑, 핸드폰,...</td>\n",
       "      <td>0</td>\n",
       "      <td>0</td>\n",
       "      <td>['디올 레이디 디올 디올아무르 미니백 5백만원대']</td>\n",
       "      <td>[('[', 'SS'), (\"'\", 'SS'), ('DIOR', 'OL'), ('레...</td>\n",
       "      <td>['DIOR', '레이디', 'DIOR', 'DIOR', '아무르', '미니', '대']</td>\n",
       "    </tr>\n",
       "    <tr>\n",
       "      <th>4</th>\n",
       "      <td>A</td>\n",
       "      <td>D</td>\n",
       "      <td>CELEBRITY</td>\n",
       "      <td>DON’T CATEGORIZE ME / 유태오</td>\n",
       "      <td>http://www.allurekorea.com/2020/05/28/dont-cat...</td>\n",
       "      <td>2020-05-28</td>\n",
       "      <td>['“Don’t Categorize Me.” 그가 말했다. 배우 유태오는 더없이 자...</td>\n",
       "      <td>0</td>\n",
       "      <td>0</td>\n",
       "      <td>['실크 슬리브리스와 블랙 와이드 팬츠는 김서룡 옴므. 블랙 부츠는 보테가 베네타....</td>\n",
       "      <td>[('[', 'SS'), (\"'\", 'SS'), ('실크', 'NNG'), ('슬리...</td>\n",
       "      <td>['실크', '슬리브리스', '블랙', '와이드', '팬츠', '김', '블랙', ...</td>\n",
       "    </tr>\n",
       "    <tr>\n",
       "      <th>...</th>\n",
       "      <td>...</td>\n",
       "      <td>...</td>\n",
       "      <td>...</td>\n",
       "      <td>...</td>\n",
       "      <td>...</td>\n",
       "      <td>...</td>\n",
       "      <td>...</td>\n",
       "      <td>...</td>\n",
       "      <td>...</td>\n",
       "      <td>...</td>\n",
       "      <td>...</td>\n",
       "      <td>...</td>\n",
       "    </tr>\n",
       "    <tr>\n",
       "      <th>1754</th>\n",
       "      <td>W</td>\n",
       "      <td>D</td>\n",
       "      <td>FASHION, 쇼핑, 트렌드</td>\n",
       "      <td>가을의 하이킹</td>\n",
       "      <td>http://www.wkorea.com/2016/09/05/%ea%b0%80%ec%...</td>\n",
       "      <td>2016-09-05</td>\n",
       "      <td>'깊은 산과 거친 계곡, 험준한 바위를 오르내리는 트레킹화의 변신.\\n\\n1. 밀리...</td>\n",
       "      <td>0</td>\n",
       "      <td>0</td>\n",
       "      <td>['6. 주얼 장식과 앙증맞은 리본이 반전의 매력을 더하는 부츠는 디올 제품. 1백...</td>\n",
       "      <td>[('[', 'SS'), (\"'\", 'SS'), ('6', 'NR'), ('.', ...</td>\n",
       "      <td>['주', '얼', '장식', '앙증맞', '리본', '반전', '매력', '부츠'...</td>\n",
       "    </tr>\n",
       "    <tr>\n",
       "      <th>1755</th>\n",
       "      <td>W</td>\n",
       "      <td>D</td>\n",
       "      <td>FASHION, 뉴스</td>\n",
       "      <td>W해시태그</td>\n",
       "      <td>http://www.wkorea.com/2016/09/02/w%ed%95%b4%ec...</td>\n",
       "      <td>2016-09-02</td>\n",
       "      <td>'패션&amp;뷰티 아이템, 핫 스폿, 영화, 전시 등 더블유 에디터의 날카롭고 감각적인 ...</td>\n",
       "      <td>0</td>\n",
       "      <td>0</td>\n",
       "      <td>['#W뷰티콕  (뷰티 디렉터 송시은)\\\\n조회 2,023회\\\\n너무나 뜨거운 여름...</td>\n",
       "      <td>[('[', 'SS'), (\"'\", 'SS'), ('#', 'SW'), ('W', ...</td>\n",
       "      <td>['W', '뷰티', '콕', '뷰티', '디렉터', '송', '시은', '조회',...</td>\n",
       "    </tr>\n",
       "    <tr>\n",
       "      <th>1756</th>\n",
       "      <td>W</td>\n",
       "      <td>D</td>\n",
       "      <td>FASHION, 뉴스</td>\n",
       "      <td>마법의 색</td>\n",
       "      <td>http://www.wkorea.com/2016/09/02/%eb%a7%88%eb%...</td>\n",
       "      <td>2016-09-02</td>\n",
       "      <td>'크리스찬 디올에게 초록은 곧 ‘자연’을, 빨강은 ‘생명’을, 분홍은 ‘감미로움’을...</td>\n",
       "      <td>0</td>\n",
       "      <td>0</td>\n",
       "      <td>[\"'크리스찬 디올에게 초록은 곧 ‘자연’을, 빨강은 ‘생명’을, 분홍은 ‘감미로움...</td>\n",
       "      <td>[('[', 'SS'), ('\"', 'SS'), (\"'\", 'SS'), ('크리스'...</td>\n",
       "      <td>['크리스', '찬', 'DIOR', '초록', '자연', '빨강', '생명', '...</td>\n",
       "    </tr>\n",
       "    <tr>\n",
       "      <th>1757</th>\n",
       "      <td>W</td>\n",
       "      <td>D</td>\n",
       "      <td>FASHION, 화보</td>\n",
       "      <td>따로 또 같이</td>\n",
       "      <td>http://www.wkorea.com/2016/09/02/%eb%94%b0%eb%...</td>\n",
       "      <td>2016-09-02</td>\n",
       "      <td>'새로운 시즌을 맞아 더 모호하고 더 자유로운 방식으로 진화하고 있는 젠더 블렌딩 ...</td>\n",
       "      <td>0</td>\n",
       "      <td>0</td>\n",
       "      <td>['자수 장식 슈트, 실크 셔츠에 리본 타이를 연출한 구찌, 남성다운 검정 테일러드...</td>\n",
       "      <td>[('[', 'SS'), (\"'\", 'SS'), ('자수', 'NNG'), ('장식...</td>\n",
       "      <td>['자수', '장식', '슈트', '실크', '셔츠', '리본', '타이', '연출...</td>\n",
       "    </tr>\n",
       "    <tr>\n",
       "      <th>1758</th>\n",
       "      <td>W</td>\n",
       "      <td>D</td>\n",
       "      <td>FASHION, 트렌드</td>\n",
       "      <td>너도 나도 베트멍</td>\n",
       "      <td>http://www.wkorea.com/2016/09/01/%eb%84%88%eb%...</td>\n",
       "      <td>2016-09-01</td>\n",
       "      <td>'패션계에서 노바운더리 시대의 전후를 가르는 존재가 된 베트멍. 그 대표 아이템은 ...</td>\n",
       "      <td>0</td>\n",
       "      <td>0</td>\n",
       "      <td>['리하나\\\\n나이 만28세\\\\n직업 가수, 디자이너, 패셔니스타, 배드 걸\\\\n평...</td>\n",
       "      <td>[('[', 'SS'), (\"'\", 'SS'), ('리', 'NNG'), ('하나'...</td>\n",
       "      <td>['리', '나이', '직업', '가수', '디자이너', '패', '시', '니스'...</td>\n",
       "    </tr>\n",
       "  </tbody>\n",
       "</table>\n",
       "<p>1759 rows × 12 columns</p>\n",
       "</div>"
      ],
      "text/plain": [
       "     magazine brand          category  \\\n",
       "0           A     D           FASHION   \n",
       "1           A     D           FASHION   \n",
       "2           A     D           FASHION   \n",
       "3           A     D           FASHION   \n",
       "4           A     D         CELEBRITY   \n",
       "...       ...   ...               ...   \n",
       "1754        W     D  FASHION, 쇼핑, 트렌드   \n",
       "1755        W     D       FASHION, 뉴스   \n",
       "1756        W     D       FASHION, 뉴스   \n",
       "1757        W     D       FASHION, 화보   \n",
       "1758        W     D      FASHION, 트렌드   \n",
       "\n",
       "                                            title  \\\n",
       "0                                      빈티지 쇼핑의 시대   \n",
       "1                     주식을 시작한 패션 에디터의 이야기, 나는 주주다   \n",
       "2                               거리로 나온 하이패션 슈즈들 4   \n",
       "3     차정원부터 아이린까지. 옷 잘입는 셀럽들의 사복 패션에 등장한 뉴 백은 무엇?   \n",
       "4                       DON’T CATEGORIZE ME / 유태오   \n",
       "...                                           ...   \n",
       "1754                                      가을의 하이킹   \n",
       "1755                                        W해시태그   \n",
       "1756                                        마법의 색   \n",
       "1757                                      따로 또 같이   \n",
       "1758                                    너도 나도 베트멍   \n",
       "\n",
       "                                                   link        date  \\\n",
       "0     http://www.allurekorea.com/2020/10/27/%eb%b9%8...  2020-10-27   \n",
       "1     http://www.allurekorea.com/2020/10/16/%ec%a3%b...  2020-10-16   \n",
       "2     http://www.allurekorea.com/2020/09/16/%eb%a6%a...  2020-09-16   \n",
       "3     http://www.allurekorea.com/2020/08/13/%ec%b0%a...  2020-08-13   \n",
       "4     http://www.allurekorea.com/2020/05/28/dont-cat...  2020-05-28   \n",
       "...                                                 ...         ...   \n",
       "1754  http://www.wkorea.com/2016/09/05/%ea%b0%80%ec%...  2016-09-05   \n",
       "1755  http://www.wkorea.com/2016/09/02/w%ed%95%b4%ec...  2016-09-02   \n",
       "1756  http://www.wkorea.com/2016/09/02/%eb%a7%88%eb%...  2016-09-02   \n",
       "1757  http://www.wkorea.com/2016/09/02/%eb%94%b0%eb%...  2016-09-02   \n",
       "1758  http://www.wkorea.com/2016/09/01/%eb%84%88%eb%...  2016-09-01   \n",
       "\n",
       "                                               contents  title_brand  check  \\\n",
       "0     ['20년이 지난 패션템에 새로운 활기가 돈다. 바야흐로 빈티지 쇼핑의 시대다.',...            0      0   \n",
       "1     ['주식의 ‘주’자도 모르는 패션 에디터가 주식에 눈뜨려 하는 순간. 이번 시즌 가...            0      0   \n",
       "2     ['나이키의 조던 시리즈들 중에서도 역대급으로 평가받는 ‘에어 디올’은 부르는 게 ...            0      0   \n",
       "3     ['셀럽들의 데일리룩에서 캐치한 뉴 백!', '@ch_amii', '지갑, 핸드폰,...            0      0   \n",
       "4     ['“Don’t Categorize Me.” 그가 말했다. 배우 유태오는 더없이 자...            0      0   \n",
       "...                                                 ...          ...    ...   \n",
       "1754  '깊은 산과 거친 계곡, 험준한 바위를 오르내리는 트레킹화의 변신.\\n\\n1. 밀리...            0      0   \n",
       "1755  '패션&뷰티 아이템, 핫 스폿, 영화, 전시 등 더블유 에디터의 날카롭고 감각적인 ...            0      0   \n",
       "1756  '크리스찬 디올에게 초록은 곧 ‘자연’을, 빨강은 ‘생명’을, 분홍은 ‘감미로움’을...            0      0   \n",
       "1757  '새로운 시즌을 맞아 더 모호하고 더 자유로운 방식으로 진화하고 있는 젠더 블렌딩 ...            0      0   \n",
       "1758  '패션계에서 노바운더리 시대의 전후를 가르는 존재가 된 베트멍. 그 대표 아이템은 ...            0      0   \n",
       "\n",
       "                                              word_dior  \\\n",
       "0     ['그러니 빈티지 패션은, 어쩌면 나도 좋고 너도 좋은 일이다. 당시 사랑했던, 지...   \n",
       "1     ['  요즘 들어 주식은 친구들과의 대화에서 빼놓을 수 없는 주제가 되었다. 코로나...   \n",
       "2     [\"['나이키의 조던 시리즈들 중에서도 역대급으로 평가받는 ‘에어 디올’은 부르는 ...   \n",
       "3                         ['디올 레이디 디올 디올아무르 미니백 5백만원대']   \n",
       "4     ['실크 슬리브리스와 블랙 와이드 팬츠는 김서룡 옴므. 블랙 부츠는 보테가 베네타....   \n",
       "...                                                 ...   \n",
       "1754  ['6. 주얼 장식과 앙증맞은 리본이 반전의 매력을 더하는 부츠는 디올 제품. 1백...   \n",
       "1755  ['#W뷰티콕  (뷰티 디렉터 송시은)\\\\n조회 2,023회\\\\n너무나 뜨거운 여름...   \n",
       "1756  [\"'크리스찬 디올에게 초록은 곧 ‘자연’을, 빨강은 ‘생명’을, 분홍은 ‘감미로움...   \n",
       "1757  ['자수 장식 슈트, 실크 셔츠에 리본 타이를 연출한 구찌, 남성다운 검정 테일러드...   \n",
       "1758  ['리하나\\\\n나이 만28세\\\\n직업 가수, 디자이너, 패셔니스타, 배드 걸\\\\n평...   \n",
       "\n",
       "                                          sentences_tag  \\\n",
       "0     [('[', 'SS'), (\"'\", 'SS'), ('그러', 'VV'), ('니',...   \n",
       "1     [('[', 'SS'), (\"'\", 'SS'), ('요즘', 'NNG'), ('듣'...   \n",
       "2     [('[', 'SS'), ('\"', 'SS'), ('[', 'SS'), (\"'\", ...   \n",
       "3     [('[', 'SS'), (\"'\", 'SS'), ('DIOR', 'OL'), ('레...   \n",
       "4     [('[', 'SS'), (\"'\", 'SS'), ('실크', 'NNG'), ('슬리...   \n",
       "...                                                 ...   \n",
       "1754  [('[', 'SS'), (\"'\", 'SS'), ('6', 'NR'), ('.', ...   \n",
       "1755  [('[', 'SS'), (\"'\", 'SS'), ('#', 'SW'), ('W', ...   \n",
       "1756  [('[', 'SS'), ('\"', 'SS'), (\"'\", 'SS'), ('크리스'...   \n",
       "1757  [('[', 'SS'), (\"'\", 'SS'), ('자수', 'NNG'), ('장식...   \n",
       "1758  [('[', 'SS'), (\"'\", 'SS'), ('리', 'NNG'), ('하나'...   \n",
       "\n",
       "                                                   ADFN  \n",
       "0     ['그러', '빈티지', '패션', '좋', '느', '좋', '당시', '사랑',...  \n",
       "1     ['요즘', '듣', '주식', '친구', '과의', '대화', '빼놓', '주제'...  \n",
       "2     ['나이', '키', '조', '덜', '시리즈', '역대', '급', '평가', ...  \n",
       "3     ['DIOR', '레이디', 'DIOR', 'DIOR', '아무르', '미니', '대']  \n",
       "4     ['실크', '슬리브리스', '블랙', '와이드', '팬츠', '김', '블랙', ...  \n",
       "...                                                 ...  \n",
       "1754  ['주', '얼', '장식', '앙증맞', '리본', '반전', '매력', '부츠'...  \n",
       "1755  ['W', '뷰티', '콕', '뷰티', '디렉터', '송', '시은', '조회',...  \n",
       "1756  ['크리스', '찬', 'DIOR', '초록', '자연', '빨강', '생명', '...  \n",
       "1757  ['자수', '장식', '슈트', '실크', '셔츠', '리본', '타이', '연출...  \n",
       "1758  ['리', '나이', '직업', '가수', '디자이너', '패', '시', '니스'...  \n",
       "\n",
       "[1759 rows x 12 columns]"
      ]
     },
     "execution_count": 86,
     "metadata": {},
     "output_type": "execute_result"
    }
   ],
   "source": [
    "magazine_di = pd.read_csv('./data/d/magazine_D.csv' , sep='|', encoding='utf-8')\n",
    "magazine_di"
   ]
  },
  {
   "cell_type": "code",
   "execution_count": 3,
   "metadata": {},
   "outputs": [
    {
     "data": {
      "text/plain": [
       "\"['그러니 빈티지 패션은, 어쩌면 나도 좋고 너도 좋은 일이다. 당시 사랑했던, 지금 사랑하지 않는 나의 물건들이 새로운 사랑을 받는 것도 좋은 일이다. 그래서 요즘은 빈티지 물건에 대해 중고임을 뜻하는 ‘Used’보다 ‘소장된(Pre-Owned)’을 사용하거나, ‘사랑받은(Pre-Loved)’ 물건으로 표기하는 일이 늘었다. 나는 요즘 지금보다 패션에 열정적이었던 때 구입한 옷을 다시 꺼내보는 즐거움에 빠져 있다. 더 이상 어울리지 않는 것은 새 주인을 찾아주기도 한다(내가 이렇게 짧은 걸 입고 다녔다니! 이렇게 높은 걸 신었다니!). 새로 산 토템 데님에 8년 된 미스지 컬렉션의 긴 재킷을 입고, 아크네의 슬랙스에 15년 된 아르마니 재킷을 입는 식이다. 당대의 미감을 쏟아부은 이 재킷들은 여전히 라인이 선명하고 다시 돌아온 1990년대 무드와도 잘 맞는다. 13년 전에 사고 잊어버렸던 DKNY의 팬츠는 당시 유행대로 밑위가 조금 짧지만 바지 라인만큼은 지금 막 나온 것 같다. 가방은 어떤가. 오래된 디올의 새들백은 당근마켓으로 팔아버렸지만 사회초년생 시절 구입한 루이 비통이며 페라가모 백은 너무 튼튼한 데다 클래식해 보이기까지 해서 열심히 들기로 한다(게다가 아직도 라인이 유지되는 스테디!). 정금자의 샤넬 브리프케이스가 탐이 나는가? 현재 파페치의 ‘Positively FARFETCH’ 코너에서 1995년 제작된 브리프케이스가 7백85만원에 팔리고 있다. 그러니 당장, 빈티지의 무드에 동참하시기를!']\""
      ]
     },
     "execution_count": 3,
     "metadata": {},
     "output_type": "execute_result"
    }
   ],
   "source": [
    "magazine_di['word_dior'][0]"
   ]
  },
  {
   "cell_type": "code",
   "execution_count": 4,
   "metadata": {},
   "outputs": [
    {
     "data": {
      "text/plain": [
       "1759"
      ]
     },
     "execution_count": 4,
     "metadata": {},
     "output_type": "execute_result"
    }
   ],
   "source": [
    "len(magazine_di)"
   ]
  },
  {
   "cell_type": "markdown",
   "metadata": {},
   "source": [
    "## Kkma"
   ]
  },
  {
   "cell_type": "code",
   "execution_count": 5,
   "metadata": {},
   "outputs": [],
   "source": [
    "from konlpy.tag import Kkma\n",
    "kkma = Kkma()"
   ]
  },
  {
   "cell_type": "code",
   "execution_count": 122,
   "metadata": {},
   "outputs": [],
   "source": [
    "didi = []\n",
    "for line in magazine_di['word_dior']:\n",
    "    didi.append(line)"
   ]
  },
  {
   "cell_type": "code",
   "execution_count": 7,
   "metadata": {},
   "outputs": [
    {
     "data": {
      "text/plain": [
       "list"
      ]
     },
     "execution_count": 7,
     "metadata": {},
     "output_type": "execute_result"
    }
   ],
   "source": [
    "type(didi)"
   ]
  },
  {
   "cell_type": "markdown",
   "metadata": {},
   "source": [
    "### 영문 다 대문자로 변환"
   ]
  },
  {
   "cell_type": "code",
   "execution_count": 185,
   "metadata": {},
   "outputs": [],
   "source": [
    "for idx in range(len(didi)) :\n",
    "    didi[idx] = didi[idx].upper()\n",
    "#     print(slsl[idx])"
   ]
  },
  {
   "cell_type": "markdown",
   "metadata": {},
   "source": [
    "### 외국어 안잘리게 영어로"
   ]
  },
  {
   "cell_type": "code",
   "execution_count": 160,
   "metadata": {},
   "outputs": [
    {
     "name": "stdout",
     "output_type": "stream",
     "text": [
      "155\n"
     ]
    }
   ],
   "source": [
    "FN = []\n",
    "for idx in range(len(didi)) :\n",
    "    if '마리아 그라치아 치우리' in didi[idx] :\n",
    "        didi[idx] = didi[idx].replace('마리아 그라치아 치우리' , 'Maria Grazia Chiuri')\n",
    "        FN.append(idx)\n",
    "#         print(idx, slsl[idx])\n",
    "print(len(FN))"
   ]
  },
  {
   "cell_type": "code",
   "execution_count": 161,
   "metadata": {},
   "outputs": [
    {
     "name": "stdout",
     "output_type": "stream",
     "text": [
      "41\n"
     ]
    }
   ],
   "source": [
    "FN = []\n",
    "for idx in range(len(didi)) :\n",
    "    if '마리아 그라치아 키우리' in didi[idx] :\n",
    "        didi[idx] = didi[idx].replace('마리아 그라치아 키우리' , 'Maria Grazia Chiuri')\n",
    "        FN.append(idx)\n",
    "#         print(idx, slsl[idx])\n",
    "print(len(FN))"
   ]
  },
  {
   "cell_type": "code",
   "execution_count": 162,
   "metadata": {},
   "outputs": [
    {
     "name": "stdout",
     "output_type": "stream",
     "text": [
      "76\n"
     ]
    }
   ],
   "source": [
    "FN = []\n",
    "for idx in range(len(didi)) :\n",
    "    if '그라치아' in didi[idx] :\n",
    "        didi[idx] = didi[idx].replace('그라치아' , 'Grazia')\n",
    "        FN.append(idx)\n",
    "#         print(idx, slsl[idx])\n",
    "print(len(FN))"
   ]
  },
  {
   "cell_type": "code",
   "execution_count": 163,
   "metadata": {},
   "outputs": [
    {
     "name": "stdout",
     "output_type": "stream",
     "text": [
      "0\n"
     ]
    }
   ],
   "source": [
    "FN = []\n",
    "for idx in range(len(didi)) :\n",
    "    if '마리아 GRAZIA' in didi[idx] :\n",
    "        didi[idx] = didi[idx].replace('마리아 GRAZIA' , 'MARIA Grazia')\n",
    "        FN.append(idx)\n",
    "#         print(idx, slsl[idx])\n",
    "print(len(FN))"
   ]
  },
  {
   "cell_type": "code",
   "execution_count": 164,
   "metadata": {},
   "outputs": [
    {
     "name": "stdout",
     "output_type": "stream",
     "text": [
      "1610\n"
     ]
    }
   ],
   "source": [
    "FN = []\n",
    "for idx in range(len(didi)) :\n",
    "    if '디올' in didi[idx] :\n",
    "        didi[idx] = didi[idx].replace('디올' , 'DIOR')\n",
    "        FN.append(idx)\n",
    "#         print(idx, slsl[idx])\n",
    "print(len(FN))"
   ]
  },
  {
   "cell_type": "code",
   "execution_count": 165,
   "metadata": {},
   "outputs": [
    {
     "name": "stdout",
     "output_type": "stream",
     "text": [
      "111\n"
     ]
    }
   ],
   "source": [
    "FN = []\n",
    "for idx in range(len(didi)) :\n",
    "    if '펜디' in didi[idx] :\n",
    "        didi[idx] = didi[idx].replace('펜디' , 'FENDI')\n",
    "        FN.append(idx)\n",
    "#         print(idx, slsl[idx])\n",
    "print(len(FN))"
   ]
  },
  {
   "cell_type": "code",
   "execution_count": 166,
   "metadata": {},
   "outputs": [
    {
     "name": "stdout",
     "output_type": "stream",
     "text": [
      "3\n"
     ]
    }
   ],
   "source": [
    "FN = []\n",
    "for idx in range(len(didi)) :\n",
    "    if '닥터마틴' in didi[idx] :\n",
    "#         didi[idx] = didi[idx].replace('펜디' , 'FENDI')\n",
    "        FN.append(idx)\n",
    "#         print(idx, slsl[idx])\n",
    "print(len(FN))"
   ]
  },
  {
   "cell_type": "code",
   "execution_count": 167,
   "metadata": {},
   "outputs": [
    {
     "name": "stdout",
     "output_type": "stream",
     "text": [
      "20\n"
     ]
    }
   ],
   "source": [
    "FN = []\n",
    "for idx in range(len(didi)) :\n",
    "    if '카라 델레바인' in didi[idx] :\n",
    "        didi[idx] = didi[idx].replace('카라 델레바인' , 'Cara Delevingne')\n",
    "        FN.append(idx)\n",
    "#         print(idx, slsl[idx])\n",
    "print(len(FN))"
   ]
  },
  {
   "cell_type": "code",
   "execution_count": 168,
   "metadata": {},
   "outputs": [
    {
     "name": "stdout",
     "output_type": "stream",
     "text": [
      "35\n"
     ]
    }
   ],
   "source": [
    "FN = []\n",
    "for idx in range(len(didi)) :\n",
    "    if '에디션' in didi[idx] :\n",
    "        didi[idx] = didi[idx].replace('에디션' , 'EDITION')\n",
    "        FN.append(idx)\n",
    "#         print(idx, slsl[idx])\n",
    "print(len(FN))"
   ]
  },
  {
   "cell_type": "code",
   "execution_count": 169,
   "metadata": {},
   "outputs": [
    {
     "name": "stdout",
     "output_type": "stream",
     "text": [
      "38\n"
     ]
    }
   ],
   "source": [
    "FN = []\n",
    "for idx in range(len(didi)) :\n",
    "    if '오뜨 꾸띄르' in didi[idx] :\n",
    "        didi[idx] = didi[idx].replace('오뜨 꾸띄르' , 'HAUTE COUTURE')\n",
    "        FN.append(idx)\n",
    "#         print(idx, slsl[idx])\n",
    "print(len(FN))"
   ]
  },
  {
   "cell_type": "code",
   "execution_count": 170,
   "metadata": {},
   "outputs": [
    {
     "name": "stdout",
     "output_type": "stream",
     "text": [
      "1\n"
     ]
    }
   ],
   "source": [
    "FN = []\n",
    "for idx in range(len(didi)) :\n",
    "    if '오뜨 쿠튀르' in didi[idx] :\n",
    "        didi[idx] = didi[idx].replace('오뜨 쿠튀르' , 'HAUTE COUTURE')\n",
    "        FN.append(idx)\n",
    "#         print(idx, slsl[idx])\n",
    "print(len(FN))"
   ]
  },
  {
   "cell_type": "code",
   "execution_count": 171,
   "metadata": {},
   "outputs": [
    {
     "name": "stdout",
     "output_type": "stream",
     "text": [
      "95\n"
     ]
    }
   ],
   "source": [
    "FN = []\n",
    "for idx in range(len(didi)) :\n",
    "    if '쿠튀르' in didi[idx] :\n",
    "        didi[idx] = didi[idx].replace('쿠튀르' , 'COUTURE')\n",
    "        FN.append(idx)\n",
    "#         print(idx, slsl[idx])\n",
    "print(len(FN))"
   ]
  },
  {
   "cell_type": "code",
   "execution_count": 172,
   "metadata": {},
   "outputs": [
    {
     "name": "stdout",
     "output_type": "stream",
     "text": [
      "8\n"
     ]
    }
   ],
   "source": [
    "FN = []\n",
    "for idx in range(len(didi)) :\n",
    "    if '스타일리시' in didi[idx] :\n",
    "        didi[idx] = didi[idx].replace('스타일리시' , 'STYLISH')\n",
    "        FN.append(idx)\n",
    "#         print(idx, slsl[idx])\n",
    "print(len(FN))"
   ]
  },
  {
   "cell_type": "code",
   "execution_count": 173,
   "metadata": {},
   "outputs": [
    {
     "name": "stdout",
     "output_type": "stream",
     "text": [
      "70\n"
     ]
    }
   ],
   "source": [
    "FN = []\n",
    "for idx in range(len(didi)) :\n",
    "    if '에디터' in didi[idx] :\n",
    "        didi[idx] = didi[idx].replace('에디터' , 'EDITOR')\n",
    "        FN.append(idx)\n",
    "#         print(idx, slsl[idx])\n",
    "print(len(FN))"
   ]
  },
  {
   "cell_type": "code",
   "execution_count": 174,
   "metadata": {},
   "outputs": [
    {
     "name": "stdout",
     "output_type": "stream",
     "text": [
      "162\n"
     ]
    }
   ],
   "source": [
    "FN = []\n",
    "for idx in range(len(didi)) :\n",
    "    if '구찌' in didi[idx] :\n",
    "        didi[idx] = didi[idx].replace('구찌' , 'GUCCI')\n",
    "        FN.append(idx)\n",
    "#         print(idx, slsl[idx])\n",
    "print(len(FN))"
   ]
  },
  {
   "cell_type": "code",
   "execution_count": 175,
   "metadata": {},
   "outputs": [
    {
     "name": "stdout",
     "output_type": "stream",
     "text": [
      "11\n"
     ]
    }
   ],
   "source": [
    "FN = []\n",
    "for idx in range(len(didi)) :\n",
    "    if '몽클레르' in didi[idx] :\n",
    "        didi[idx] = didi[idx].replace('몽클레르' , 'MONCLER')\n",
    "        FN.append(idx)\n",
    "#         print(idx, slsl[idx])\n",
    "print(len(FN))"
   ]
  },
  {
   "cell_type": "code",
   "execution_count": 176,
   "metadata": {},
   "outputs": [
    {
     "name": "stdout",
     "output_type": "stream",
     "text": [
      "68\n"
     ]
    }
   ],
   "source": [
    "FN = []\n",
    "for idx in range(len(didi)) :\n",
    "    if '발렌시아가' in didi[idx] :\n",
    "        didi[idx] = didi[idx].replace('발렌시아가' , 'BALENCIAGA')\n",
    "        FN.append(idx)\n",
    "#         print(idx, slsl[idx])\n",
    "print(len(FN))"
   ]
  },
  {
   "cell_type": "code",
   "execution_count": 177,
   "metadata": {},
   "outputs": [
    {
     "name": "stdout",
     "output_type": "stream",
     "text": [
      "49\n"
     ]
    }
   ],
   "source": [
    "FN = []\n",
    "for idx in range(len(didi)) :\n",
    "    if '스포티' in didi[idx] :\n",
    "        didi[idx] = didi[idx].replace('스포티' , 'SPORTY')\n",
    "        FN.append(idx)\n",
    "#         print(idx, slsl[idx])\n",
    "print(len(FN))"
   ]
  },
  {
   "cell_type": "code",
   "execution_count": 178,
   "metadata": {},
   "outputs": [
    {
     "name": "stdout",
     "output_type": "stream",
     "text": [
      "38\n"
     ]
    }
   ],
   "source": [
    "FN = []\n",
    "for idx in range(len(didi)) :\n",
    "    if '셀러브리티' in didi[idx] :\n",
    "        didi[idx] = didi[idx].replace('셀러브리티' , 'CELEBRITY')\n",
    "        FN.append(idx)\n",
    "#         print(idx, slsl[idx])\n",
    "print(len(FN))"
   ]
  },
  {
   "cell_type": "code",
   "execution_count": 179,
   "metadata": {},
   "outputs": [
    {
     "name": "stdout",
     "output_type": "stream",
     "text": [
      "95\n"
     ]
    }
   ],
   "source": [
    "FN = []\n",
    "for idx in range(len(didi)) :\n",
    "    if '킴 존스' in didi[idx] :\n",
    "        didi[idx] = didi[idx].replace('킴 존스' , 'KIM JONES')\n",
    "        FN.append(idx)\n",
    "#         print(idx, slsl[idx])\n",
    "print(len(FN))"
   ]
  },
  {
   "cell_type": "code",
   "execution_count": 180,
   "metadata": {},
   "outputs": [
    {
     "name": "stdout",
     "output_type": "stream",
     "text": [
      "15\n"
     ]
    }
   ],
   "source": [
    "FN = []\n",
    "for idx in range(len(didi)) :\n",
    "    if '살바토레 페라가모' in didi[idx] :\n",
    "        didi[idx] = didi[idx].replace('살바토레 페라가모' , 'Salvatore Ferragamo')\n",
    "        FN.append(idx)\n",
    "#         print(idx, slsl[idx])\n",
    "print(len(FN))"
   ]
  },
  {
   "cell_type": "code",
   "execution_count": 181,
   "metadata": {},
   "outputs": [
    {
     "name": "stdout",
     "output_type": "stream",
     "text": [
      "34\n"
     ]
    }
   ],
   "source": [
    "FN = []\n",
    "for idx in range(len(didi)) :\n",
    "    if '에디 슬리먼' in didi[idx] :\n",
    "        didi[idx] = didi[idx].replace('에디 슬리먼' , 'Hedi Slimane')\n",
    "        FN.append(idx)\n",
    "#         print(idx, slsl[idx])\n",
    "print(len(FN))"
   ]
  },
  {
   "cell_type": "code",
   "execution_count": 182,
   "metadata": {},
   "outputs": [
    {
     "name": "stdout",
     "output_type": "stream",
     "text": [
      "21\n"
     ]
    }
   ],
   "source": [
    "FN = []\n",
    "for idx in range(len(didi)) :\n",
    "    if '에디 슬리만' in didi[idx] :\n",
    "        didi[idx] = didi[idx].replace('에디 슬리만' , 'Hedi Slimane')\n",
    "        FN.append(idx)\n",
    "#         print(idx, slsl[idx])\n",
    "print(len(FN))"
   ]
  },
  {
   "cell_type": "code",
   "execution_count": 183,
   "metadata": {},
   "outputs": [
    {
     "name": "stdout",
     "output_type": "stream",
     "text": [
      "0\n"
     ]
    }
   ],
   "source": [
    "FN = []\n",
    "for idx in range(len(didi)) :\n",
    "    if '칼 라거펠트' in didi[idx] :\n",
    "        didi[idx] = didi[idx].replace('칼 라거펠트' , 'Karl Lagerfeld')\n",
    "        FN.append(idx)\n",
    "#         print(idx, slsl[idx])\n",
    "print(len(FN))"
   ]
  },
  {
   "cell_type": "code",
   "execution_count": 184,
   "metadata": {},
   "outputs": [
    {
     "name": "stdout",
     "output_type": "stream",
     "text": [
      "0\n"
     ]
    }
   ],
   "source": [
    "FN = []\n",
    "for idx in range(len(didi)) :\n",
    "    if '아카이브' in didi[idx] :\n",
    "        didi[idx] = didi[idx].replace('아카이브' , 'ARCHIVE')\n",
    "        FN.append(idx)\n",
    "#         print(idx, slsl[idx])\n",
    "print(len(FN))"
   ]
  },
  {
   "cell_type": "code",
   "execution_count": 251,
   "metadata": {},
   "outputs": [
    {
     "name": "stdout",
     "output_type": "stream",
     "text": [
      "0\n"
     ]
    }
   ],
   "source": [
    "FN = []\n",
    "for idx in range(len(didi)) :\n",
    "    if '에르메스' in didi[idx] :\n",
    "        didi[idx] = didi[idx].replace('에르메스' , 'HERMES')\n",
    "        FN.append(idx)\n",
    "#         print(idx, slsl[idx])\n",
    "print(len(FN))"
   ]
  },
  {
   "cell_type": "code",
   "execution_count": 252,
   "metadata": {},
   "outputs": [
    {
     "name": "stdout",
     "output_type": "stream",
     "text": [
      "0\n"
     ]
    }
   ],
   "source": [
    "FN = []\n",
    "for idx in range(len(didi)) :\n",
    "    if '마리아' in didi[idx] :\n",
    "        didi[idx] = didi[idx].replace('마리아' , 'MARIA')\n",
    "        FN.append(idx)\n",
    "#         print(idx, slsl[idx])\n",
    "print(len(FN))"
   ]
  },
  {
   "cell_type": "code",
   "execution_count": 271,
   "metadata": {},
   "outputs": [
    {
     "name": "stdout",
     "output_type": "stream",
     "text": [
      "0\n"
     ]
    }
   ],
   "source": [
    "FN = []\n",
    "for idx in range(len(didi)) :\n",
    "    if '레이디' in didi[idx] :\n",
    "        didi[idx] = didi[idx].replace('레이디' , 'LADY')\n",
    "        FN.append(idx)\n",
    "#         print(idx, slsl[idx])\n",
    "print(len(FN))"
   ]
  },
  {
   "cell_type": "code",
   "execution_count": null,
   "metadata": {},
   "outputs": [],
   "source": [
    "FN = []\n",
    "for idx in range(len(didi)) :\n",
    "    if '크리에이티브' in didi[idx] :\n",
    "        didi[idx] = didi[idx].replace('크리에이티브' , 'CREATIVE')\n",
    "        FN.append(idx)\n",
    "#         print(idx, slsl[idx])\n",
    "print(len(FN))"
   ]
  },
  {
   "cell_type": "code",
   "execution_count": null,
   "metadata": {},
   "outputs": [],
   "source": [
    "FN = []\n",
    "for idx in range(len(didi)) :\n",
    "    if '주얼리' in didi[idx] :\n",
    "        didi[idx] = didi[idx].replace('주얼리' , 'JEWERLY')\n",
    "        FN.append(idx)\n",
    "#         print(idx, slsl[idx])\n",
    "print(len(FN))"
   ]
  },
  {
   "cell_type": "code",
   "execution_count": null,
   "metadata": {},
   "outputs": [],
   "source": [
    "FN = []\n",
    "for idx in range(len(didi)) :\n",
    "    if '마이애미' in didi[idx] :\n",
    "        didi[idx] = didi[idx].replace('마이애미' , 'MIAMI')\n",
    "        FN.append(idx)\n",
    "#         print(idx, slsl[idx])\n",
    "print(len(FN))"
   ]
  },
  {
   "cell_type": "code",
   "execution_count": null,
   "metadata": {},
   "outputs": [],
   "source": [
    "FN = []\n",
    "for idx in range(len(didi)) :\n",
    "    if '마이클 코어스' in didi[idx] :\n",
    "        didi[idx] = didi[idx].replace('마이클 코어스' , 'MICHAEL KORS')\n",
    "        FN.append(idx)\n",
    "#         print(idx, slsl[idx])\n",
    "print(len(FN))"
   ]
  },
  {
   "cell_type": "code",
   "execution_count": null,
   "metadata": {},
   "outputs": [],
   "source": [
    "FN = []\n",
    "for idx in range(len(didi)) :\n",
    "    if '메종' in didi[idx] :\n",
    "        didi[idx] = didi[idx].replace('메종' , 'MAISON')\n",
    "        FN.append(idx)\n",
    "#         print(idx, slsl[idx])\n",
    "print(len(FN))"
   ]
  },
  {
   "cell_type": "code",
   "execution_count": null,
   "metadata": {},
   "outputs": [],
   "source": [
    "FN = []\n",
    "for idx in range(len(didi)) :\n",
    "    if '발렌티노' in didi[idx] :\n",
    "        didi[idx] = didi[idx].replace('발렌티노' , 'VALENTINO')\n",
    "        FN.append(idx)\n",
    "#         print(idx, slsl[idx])\n",
    "print(len(FN))"
   ]
  },
  {
   "cell_type": "code",
   "execution_count": null,
   "metadata": {},
   "outputs": [],
   "source": [
    "FN = []\n",
    "for idx in range(len(didi)) :\n",
    "    if '베르사체' in didi[idx] :\n",
    "        didi[idx] = didi[idx].replace('베르사체' , 'VERSACE')\n",
    "        FN.append(idx)\n",
    "#         print(idx, slsl[idx])\n",
    "print(len(FN))"
   ]
  },
  {
   "cell_type": "code",
   "execution_count": 303,
   "metadata": {},
   "outputs": [
    {
     "name": "stdout",
     "output_type": "stream",
     "text": [
      "54\n"
     ]
    }
   ],
   "source": [
    "FN = []\n",
    "for idx in range(len(didi)) :\n",
    "    if '캘빈 클라인' in didi[idx] :\n",
    "        didi[idx] = didi[idx].replace('캘빈 클라인' , 'Calvin Klein')\n",
    "        FN.append(idx)\n",
    "#         print(idx, slsl[idx])\n",
    "print(len(FN))"
   ]
  },
  {
   "cell_type": "code",
   "execution_count": 318,
   "metadata": {},
   "outputs": [
    {
     "name": "stdout",
     "output_type": "stream",
     "text": [
      "10\n"
     ]
    }
   ],
   "source": [
    "FN = []\n",
    "for idx in range(len(didi)) :\n",
    "    if '스틸레토' in didi[idx] :\n",
    "        didi[idx] = didi[idx].replace('스틸레토' , 'Stiletto')\n",
    "        FN.append(idx)\n",
    "#         print(idx, slsl[idx])\n",
    "print(len(FN))"
   ]
  },
  {
   "cell_type": "code",
   "execution_count": 342,
   "metadata": {},
   "outputs": [
    {
     "name": "stdout",
     "output_type": "stream",
     "text": [
      "264\n"
     ]
    }
   ],
   "source": [
    "FN = []\n",
    "for idx in range(len(didi)) :\n",
    "    if '디자인' in didi[idx] :\n",
    "        didi[idx] = didi[idx].replace('디자인' , 'DESIGN')\n",
    "        FN.append(idx)\n",
    "#         print(idx, slsl[idx])\n",
    "print(len(FN))"
   ]
  },
  {
   "cell_type": "code",
   "execution_count": null,
   "metadata": {},
   "outputs": [],
   "source": []
  },
  {
   "cell_type": "code",
   "execution_count": null,
   "metadata": {},
   "outputs": [],
   "source": []
  },
  {
   "cell_type": "code",
   "execution_count": null,
   "metadata": {},
   "outputs": [],
   "source": []
  },
  {
   "cell_type": "code",
   "execution_count": null,
   "metadata": {},
   "outputs": [],
   "source": []
  },
  {
   "cell_type": "code",
   "execution_count": null,
   "metadata": {},
   "outputs": [],
   "source": []
  },
  {
   "cell_type": "code",
   "execution_count": null,
   "metadata": {},
   "outputs": [],
   "source": []
  },
  {
   "cell_type": "code",
   "execution_count": null,
   "metadata": {},
   "outputs": [],
   "source": []
  },
  {
   "cell_type": "code",
   "execution_count": null,
   "metadata": {},
   "outputs": [],
   "source": []
  },
  {
   "cell_type": "markdown",
   "metadata": {},
   "source": [
    "### 각 문장별로 형태소 구분하기"
   ]
  },
  {
   "cell_type": "code",
   "execution_count": null,
   "metadata": {},
   "outputs": [],
   "source": [
    "\n",
    "sentences_tag = []\n",
    "for i in range(len(didi)) :\n",
    "# for sentence in didi:\n",
    "#     print(i)\n",
    "    morph = kkma.pos(didi[i])\n",
    "    sentences_tag.append(morph)\n",
    "#     print(morph)\n",
    "#     print('-'*30)"
   ]
  },
  {
   "cell_type": "markdown",
   "metadata": {},
   "source": [
    "### 형태소 구분 검토용으로 일부 진행"
   ]
  },
  {
   "cell_type": "code",
   "execution_count": null,
   "metadata": {},
   "outputs": [],
   "source": [
    "\n",
    "# TEST\n",
    "# 각 문장별로 형태소 구분하기\n",
    "sentences_tagT = []\n",
    "for i in range(200,1000) :\n",
    "# for sentence in didi:\n",
    "    print(i)\n",
    "    morph = kkma.pos(didi[i])\n",
    "    sentences_tagT.append(morph)\n",
    "    print(morph)\n",
    "    print('-'*30)"
   ]
  },
  {
   "cell_type": "code",
   "execution_count": null,
   "metadata": {},
   "outputs": [],
   "source": [
    "didi[235]"
   ]
  },
  {
   "cell_type": "code",
   "execution_count": null,
   "metadata": {},
   "outputs": [],
   "source": []
  },
  {
   "cell_type": "code",
   "execution_count": null,
   "metadata": {},
   "outputs": [],
   "source": [
    "# 명사 혹은 형용사인 품사만 선별해 리스트에 담기\n",
    "noun_adj_list = []\n",
    "for sentence1 in sentences_tag:\n",
    "    for word, tag in sentence1:\n",
    "        if tag in ['NNG','NNP','VA', 'VV', 'OL', 'UN']:\n",
    "            noun_adj_list.append(word)"
   ]
  },
  {
   "cell_type": "markdown",
   "metadata": {},
   "source": [
    "### 불용어는 형태소분석 결과에서도 빼주기"
   ]
  },
  {
   "cell_type": "code",
   "execution_count": null,
   "metadata": {},
   "outputs": [],
   "source": [
    "from collections import Counter"
   ]
  },
  {
   "cell_type": "code",
   "execution_count": null,
   "metadata": {},
   "outputs": [],
   "source": [
    "# 불용어 제외 리스트\n",
    "noun_adj_list_stp= []\n",
    "for sentence1 in sentences_tag:\n",
    "    for word, tag in sentence1:\n",
    "        if word not in stpwds_l:\n",
    "            if tag in ['NNG','NNP','VA', 'VV', 'OL', 'UN']:\n",
    "                noun_adj_list_stp.append(word)"
   ]
  },
  {
   "cell_type": "code",
   "execution_count": null,
   "metadata": {},
   "outputs": [],
   "source": [
    "# 블용어 제외 순위\n",
    "counts_stp = Counter(noun_adj_list_stp)\n",
    "print(counts_stp.most_common(100))"
   ]
  },
  {
   "cell_type": "markdown",
   "metadata": {},
   "source": [
    "## WordCloud"
   ]
  },
  {
   "cell_type": "code",
   "execution_count": null,
   "metadata": {},
   "outputs": [],
   "source": [
    "from wordcloud import WordCloud\n",
    "import matplotlib.pyplot as plt"
   ]
  },
  {
   "cell_type": "code",
   "execution_count": null,
   "metadata": {},
   "outputs": [],
   "source": [
    "text = ' '.join(noun_adj_list)\n",
    "# text"
   ]
  },
  {
   "cell_type": "markdown",
   "metadata": {},
   "source": [
    "### Stopwords"
   ]
  },
  {
   "cell_type": "code",
   "execution_count": null,
   "metadata": {},
   "outputs": [],
   "source": [
    "stpwds = pd.read_csv('./stopwords.csv' , sep=',', encoding='utf-8', header=None)\n",
    "stpwds"
   ]
  },
  {
   "cell_type": "code",
   "execution_count": null,
   "metadata": {},
   "outputs": [],
   "source": [
    "# 리스트로 변환\n",
    "stpwds_l = stpwds[0].tolist()"
   ]
  },
  {
   "cell_type": "code",
   "execution_count": null,
   "metadata": {},
   "outputs": [],
   "source": [
    "# stpwds_l = []\n",
    "add = ['위하', '선보이', '가격', '가격 미정', '미정', '지금', 'BY', 'N', '있', '없', '지나', '만들', '말하', '입', '보', \n",
    "       '되','선보이', '같', '대하', '등장', '사람', '받', '많', '더하', '최근', '보여주', '후', '은', '티', '주', '리', '르', '라',\n",
    "      '레']\n",
    "for words in add :\n",
    "    stpwds_l.append(words)\n",
    "# stpwds_l"
   ]
  },
  {
   "cell_type": "code",
   "execution_count": null,
   "metadata": {},
   "outputs": [],
   "source": [
    "wordcloud = WordCloud(font_path='font/NanumGothic.ttf', background_color='white', stopwords = stpwds_l).generate(text)"
   ]
  },
  {
   "cell_type": "code",
   "execution_count": null,
   "metadata": {},
   "outputs": [],
   "source": [
    "plt.figure(figsize=(22,22)) #이미지 사이즈 지정\n",
    "plt.imshow(wordcloud, interpolation='lanczos') #이미지의 부드럽기 정도\n",
    "plt.axis('off') #x y 축 숫자 제거\n",
    "plt.show() \n",
    "# plt.savefig()"
   ]
  },
  {
   "cell_type": "markdown",
   "metadata": {},
   "source": [
    "### top100 wordcloud before deleting other brands"
   ]
  },
  {
   "cell_type": "code",
   "execution_count": null,
   "metadata": {},
   "outputs": [],
   "source": [
    "# 블용어 제외 순위 / 워드클라우드\n",
    "counts_stp = Counter(noun_adj_list_stp)\n",
    "top100 = counts_stp.most_common(100)\n",
    "top100_word = []\n",
    "for word, tag in top100 :\n",
    "    top100_word.append(word)"
   ]
  },
  {
   "cell_type": "code",
   "execution_count": null,
   "metadata": {
    "scrolled": true
   },
   "outputs": [],
   "source": [
    "text = ' '.join(top100_word)\n",
    "# text"
   ]
  },
  {
   "cell_type": "code",
   "execution_count": null,
   "metadata": {},
   "outputs": [],
   "source": [
    "wordcloud100 = WordCloud(font_path='font/NanumGothic.ttf', background_color='white', stopwords = stpwds_l).generate(text)\n",
    "plt.figure(figsize=(22,22)) #이미지 사이즈 지정\n",
    "plt.imshow(wordcloud, interpolation='lanczos') #이미지의 부드럽기 정도\n",
    "plt.axis('off') #x y 축 숫자 제거\n",
    "plt.show() \n",
    "# plt.savefig()"
   ]
  },
  {
   "cell_type": "markdown",
   "metadata": {},
   "source": [
    "### top100 wordcloud after deleting other brands"
   ]
  },
  {
   "cell_type": "code",
   "execution_count": null,
   "metadata": {},
   "outputs": [],
   "source": [
    "stpwds_b = stpwds_l\n",
    "brands = ['프라다', '샤넬', 'GUCCI' ]\n",
    "for words in brands :\n",
    "    stpwds_b.append(words)\n",
    "# stpwds_b"
   ]
  },
  {
   "cell_type": "code",
   "execution_count": null,
   "metadata": {},
   "outputs": [],
   "source": [
    "# 불용어 제외 리스트\n",
    "noun_adj_list_stp= []\n",
    "for sentence1 in sentences_tag:\n",
    "    for word, tag in sentence1:\n",
    "        if word not in stpwds_b:\n",
    "            if tag in ['NNG','NNP','VA', 'VV', 'OL', 'UN']:\n",
    "                noun_adj_list_stp.append(word)"
   ]
  },
  {
   "cell_type": "code",
   "execution_count": null,
   "metadata": {},
   "outputs": [],
   "source": [
    "# 블용어 제외 순위 / 워드클라우드\n",
    "counts_stp = Counter(noun_adj_list_stp)\n",
    "top100 = counts_stp.most_common(100)\n",
    "print(top100)"
   ]
  },
  {
   "cell_type": "code",
   "execution_count": null,
   "metadata": {},
   "outputs": [],
   "source": [
    "# 블용어 제외 순위 / 워드클라우드\n",
    "counts_stp = Counter(noun_adj_list_stp)\n",
    "top100 = counts_stp.most_common(100)\n",
    "top100_word = []\n",
    "for word, tag in top100 :\n",
    "    top100_word.append(word)"
   ]
  },
  {
   "cell_type": "code",
   "execution_count": null,
   "metadata": {},
   "outputs": [],
   "source": [
    "text = ' '.join(top100_word)\n",
    "# text"
   ]
  },
  {
   "cell_type": "code",
   "execution_count": null,
   "metadata": {},
   "outputs": [],
   "source": [
    "wordcloud100 = WordCloud(font_path='font/NanumGothic.ttf', background_color='white', stopwords = stpwds_l).generate(text)\n",
    "plt.figure(figsize=(22,22)) #이미지 사이즈 지정\n",
    "plt.imshow(wordcloud, interpolation='lanczos') #이미지의 부드럽기 정도\n",
    "plt.axis('off') #x y 축 숫자 제거\n",
    "plt.show() \n",
    "# plt.savefig()"
   ]
  },
  {
   "cell_type": "code",
   "execution_count": null,
   "metadata": {},
   "outputs": [],
   "source": []
  },
  {
   "cell_type": "code",
   "execution_count": null,
   "metadata": {},
   "outputs": [],
   "source": []
  },
  {
   "cell_type": "code",
   "execution_count": null,
   "metadata": {},
   "outputs": [],
   "source": []
  },
  {
   "cell_type": "code",
   "execution_count": null,
   "metadata": {},
   "outputs": [],
   "source": []
  },
  {
   "cell_type": "code",
   "execution_count": null,
   "metadata": {},
   "outputs": [],
   "source": []
  },
  {
   "cell_type": "code",
   "execution_count": null,
   "metadata": {},
   "outputs": [],
   "source": []
  },
  {
   "cell_type": "code",
   "execution_count": null,
   "metadata": {},
   "outputs": [],
   "source": []
  },
  {
   "cell_type": "code",
   "execution_count": null,
   "metadata": {},
   "outputs": [],
   "source": []
  },
  {
   "cell_type": "markdown",
   "metadata": {},
   "source": [
    "### magazine_di에 tag 컬럼 생성하기"
   ]
  },
  {
   "cell_type": "code",
   "execution_count": null,
   "metadata": {},
   "outputs": [],
   "source": [
    "len(sentences_tag)"
   ]
  },
  {
   "cell_type": "code",
   "execution_count": null,
   "metadata": {},
   "outputs": [],
   "source": [
    "print(magazine_di['word_dior'][0])\n",
    "print(sentences_tag[0])"
   ]
  },
  {
   "cell_type": "code",
   "execution_count": null,
   "metadata": {},
   "outputs": [],
   "source": [
    "# 불용어 제외 리스트\n",
    "ADFN= []\n",
    "for sentence1 in sentences_tag:\n",
    "    ADFNT = [] \n",
    "    for word, tag in sentence1:\n",
    "        \n",
    "        if word not in stpwds_l:\n",
    "           \n",
    "            if tag in ['NNG','NNP','VA', 'VV', 'OL']:\n",
    "                ADFNT.append(word)\n",
    "    ADFN.append(ADFNT)"
   ]
  },
  {
   "cell_type": "code",
   "execution_count": null,
   "metadata": {},
   "outputs": [],
   "source": [
    "len(ADFN)"
   ]
  },
  {
   "cell_type": "code",
   "execution_count": null,
   "metadata": {},
   "outputs": [],
   "source": [
    "len(sentences_tag)"
   ]
  },
  {
   "cell_type": "code",
   "execution_count": null,
   "metadata": {},
   "outputs": [],
   "source": [
    "magazine_di['sentences_tag'] = sentences_tag\n",
    "magazine_di"
   ]
  },
  {
   "cell_type": "code",
   "execution_count": null,
   "metadata": {},
   "outputs": [],
   "source": [
    "magazine_di['ADFN'] = ADFN\n",
    "magazine_di"
   ]
  },
  {
   "cell_type": "code",
   "execution_count": null,
   "metadata": {},
   "outputs": [],
   "source": [
    "magazine_di.to_csv('./data/d/magazine_D.csv', index = False, sep ='|', encoding = 'utf-8')"
   ]
  },
  {
   "cell_type": "code",
   "execution_count": null,
   "metadata": {},
   "outputs": [],
   "source": [
    "magazine_di = pd.read_csv('./data/d/magazine_D.csv' , sep='|', encoding='utf-8')\n",
    "magazine_di"
   ]
  },
  {
   "cell_type": "code",
   "execution_count": null,
   "metadata": {},
   "outputs": [],
   "source": []
  },
  {
   "cell_type": "code",
   "execution_count": null,
   "metadata": {},
   "outputs": [],
   "source": []
  },
  {
   "cell_type": "code",
   "execution_count": null,
   "metadata": {},
   "outputs": [],
   "source": []
  },
  {
   "cell_type": "code",
   "execution_count": null,
   "metadata": {},
   "outputs": [],
   "source": []
  },
  {
   "cell_type": "code",
   "execution_count": null,
   "metadata": {},
   "outputs": [],
   "source": []
  },
  {
   "cell_type": "code",
   "execution_count": null,
   "metadata": {},
   "outputs": [],
   "source": []
  }
 ],
 "metadata": {
  "kernelspec": {
   "display_name": "Python 3",
   "language": "python",
   "name": "python3"
  },
  "language_info": {
   "codemirror_mode": {
    "name": "ipython",
    "version": 3
   },
   "file_extension": ".py",
   "mimetype": "text/x-python",
   "name": "python",
   "nbconvert_exporter": "python",
   "pygments_lexer": "ipython3",
   "version": "3.7.6"
  }
 },
 "nbformat": 4,
 "nbformat_minor": 4
}
